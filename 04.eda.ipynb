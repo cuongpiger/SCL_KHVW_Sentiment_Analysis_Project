{
 "cells": [
  {
   "cell_type": "code",
   "execution_count": 1,
   "source": [
    "%load_ext autoreload\n",
    "%autoreload 2"
   ],
   "outputs": [],
   "metadata": {}
  },
  {
   "cell_type": "code",
   "execution_count": 2,
   "source": [
    "import modules.eda as Detective\n",
    "import pandas as pd\n",
    "import warnings\n",
    "import numpy as np\n",
    "import random\n",
    "from tensorflow.keras import Input, Model\n",
    "from tensorflow.keras.layers import Dense\n",
    "\n",
    "warnings.filterwarnings('ignore')"
   ],
   "outputs": [],
   "metadata": {}
  },
  {
   "cell_type": "markdown",
   "source": [
    "Đọc dữ liệu từ project 1 và sắp xếp lại các column"
   ],
   "metadata": {}
  },
  {
   "cell_type": "code",
   "execution_count": 3,
   "source": [
    "reviews = pd.read_csv(\"./data/normalize_reviews.csv\").fillna(\"\")\n",
    "reviews = reviews[['raw_comment', 'normalize_comment', 'emoji', 'label']]\n",
    "\n",
    "reviews.head()"
   ],
   "outputs": [
    {
     "output_type": "execute_result",
     "data": {
      "text/html": [
       "<div>\n",
       "<style scoped>\n",
       "    .dataframe tbody tr th:only-of-type {\n",
       "        vertical-align: middle;\n",
       "    }\n",
       "\n",
       "    .dataframe tbody tr th {\n",
       "        vertical-align: top;\n",
       "    }\n",
       "\n",
       "    .dataframe thead th {\n",
       "        text-align: right;\n",
       "    }\n",
       "</style>\n",
       "<table border=\"1\" class=\"dataframe\">\n",
       "  <thead>\n",
       "    <tr style=\"text-align: right;\">\n",
       "      <th></th>\n",
       "      <th>raw_comment</th>\n",
       "      <th>normalize_comment</th>\n",
       "      <th>emoji</th>\n",
       "      <th>label</th>\n",
       "    </tr>\n",
       "  </thead>\n",
       "  <tbody>\n",
       "    <tr>\n",
       "      <th>0</th>\n",
       "      <td>Giao hàng kh đúng cần phê bình hjjjjjhhd...</td>\n",
       "      <td>giao hàng không đúng cần phê bình</td>\n",
       "      <td></td>\n",
       "      <td>0</td>\n",
       "    </tr>\n",
       "    <tr>\n",
       "      <th>1</th>\n",
       "      <td>Chất lượng sản phẩm tạm được. Giao...</td>\n",
       "      <td>chất lượng sản phẩm tạm được giao ...</td>\n",
       "      <td></td>\n",
       "      <td>0</td>\n",
       "    </tr>\n",
       "    <tr>\n",
       "      <th>2</th>\n",
       "      <td>Ko có lắc tay như hình</td>\n",
       "      <td>không có lắc tay như hình</td>\n",
       "      <td></td>\n",
       "      <td>0</td>\n",
       "    </tr>\n",
       "    <tr>\n",
       "      <th>3</th>\n",
       "      <td>Giao hàng lâu. Bảo có lắc tay mà k thâ...</td>\n",
       "      <td>giao hàng lâu bảo có lắc tay mà không ...</td>\n",
       "      <td></td>\n",
       "      <td>0</td>\n",
       "    </tr>\n",
       "    <tr>\n",
       "      <th>4</th>\n",
       "      <td>Mình mua 2 cái, một dùng ok. Một cái k...</td>\n",
       "      <td>mua cái một dùng ok một cái không chạ...</td>\n",
       "      <td>😢</td>\n",
       "      <td>0</td>\n",
       "    </tr>\n",
       "  </tbody>\n",
       "</table>\n",
       "</div>"
      ],
      "text/plain": [
       "                                         raw_comment  \\\n",
       "0  Giao hàng kh đúng cần phê bình hjjjjjhhd...   \n",
       "1  Chất lượng sản phẩm tạm được. Giao...   \n",
       "2                        Ko có lắc tay như hình   \n",
       "3  Giao hàng lâu. Bảo có lắc tay mà k thâ...   \n",
       "4  Mình mua 2 cái, một dùng ok. Một cái k...   \n",
       "\n",
       "                                   normalize_comment emoji  label  \n",
       "0           giao hàng không đúng cần phê bình            0  \n",
       "1  chất lượng sản phẩm tạm được giao ...            0  \n",
       "2                    không có lắc tay như hình            0  \n",
       "3  giao hàng lâu bảo có lắc tay mà không ...            0  \n",
       "4  mua cái một dùng ok một cái không chạ...     😢      0  "
      ]
     },
     "metadata": {},
     "execution_count": 3
    }
   ],
   "metadata": {}
  },
  {
   "cell_type": "markdown",
   "source": [
    "Cho đến hiện tại, chúng ta đã cùng nhau phá tan tành dataset này, điều mà tôi muốn làm tiếp theo là sẽ biễu diễn các từ lên một không gian 2 chiều hoặc thậm chí là 3 chiều.\n",
    "\n",
    "Điều này theo tôi là rất hữu ích, vì giống như các unsupervised model, nhiều khi chúng ta cũng cần biết cách mà các observe phân phối như thế nào.\n",
    "\n",
    "Nhưng trước tiên, ta cần một số thiết lập **ban đầu** như sau:\n",
    "  * Tôi cần download vài file cấu hình sẵn:\n",
    "    ```shell\n",
    "    pip install fasttext\n",
    "    ```\n",
    "  * Thực chất, hai gói mà ta vừa download trên là chứa tập các từ tiếng anh và tiếng việt đã được vectorization thành các vector 300 dimentions, bạn đừng lo lắng về chất lượng của hai tập words embedding này bởi vì cha đẻ của nó là Facebook.\n",
    "  * Thời gian download hai gói này cực kì lâu, khoảng 4GB cho một gói - và về giải nén ra mỗi file sẽ khoảng 7.3GB, tôi khuyến khích bạn đừng nên download theo cách trên mà nên lên trang chủ của họ và download trực tiếp bằng Internet download manager hoặc Xtreme download manager sẽ nhanh hơn, khoảng 15 phút cho một gói - đây là trang chủ của họ:\n",
    "    [https://fasttext.cc/docs/en/crawl-vectors.html](https://fasttext.cc/docs/en/crawl-vectors.html)"
   ],
   "metadata": {}
  },
  {
   "cell_type": "code",
   "execution_count": 4,
   "source": [
    "import fasttext.util\n",
    "import fasttext\n",
    "\n",
    "fasttext.util.download_model('en', if_exists='ignore') # english\n",
    "fasttext.util.download_model('vi', if_exists='ignore') # vietnamese "
   ],
   "outputs": [
    {
     "output_type": "execute_result",
     "data": {
      "text/plain": [
       "'cc.vi.300.bin'"
      ]
     },
     "metadata": {},
     "execution_count": 4
    }
   ],
   "metadata": {}
  },
  {
   "cell_type": "markdown",
   "source": [
    "<span style=\"color: red; font-weight: 900; font-size: 30px\">Lưu ý:</span> \n",
    "* Bạn chỉ nên sài dòng này nếu máy tính của bạn là từ 16GB RAM - Core I7 gen 7 dòng xung cao trở lên. Và nên dùng hệ điều hành Linux vì nó có RAM ảo hỗ trợ bạn để máy bạn chỉ lag thôi chứ không đứng.\n",
    "  ```python\n",
    "  ft_vi = fasttext.load_model('cc.vi.300.bin')\n",
    "  ft_en = fasttext.load_model('cc.en.300.bin')\n",
    "  ```\n",
    "\n",
    "* Còn đây là tôi đã giảm chiều từ một bộ data 7.2GB xuống còn 100 chiều, bạn có thể dùng dòng này, bạn có thể giảm nhiều hơn nếu muốn. Và tốt nhất là bạn cần tắt tất cả mọi chương trình nên đang chạy nếu bạn không muốn nghe máy tính của bạn \"hát ca điên cuồng\".\n",
    "  ```python\n",
    "  fasttext.util.reduce_model(ft_vi, 100)\n",
    "  ft_vi.save_model('cc.vi.100.bin')\n",
    "  fasttext.util.reduce_model(ft_en, 100)\n",
    "  ft_en.save_model('cc.en.100.bin')\n",
    "  ```"
   ],
   "metadata": {}
  },
  {
   "cell_type": "markdown",
   "source": [
    "Bây giờ chúng ta sẽ load lại tập embed word 100 dims mà ta vừa tạo, nó sẽ ăn máy của bạn khoảng 3GB RAM."
   ],
   "metadata": {}
  },
  {
   "cell_type": "code",
   "execution_count": 5,
   "source": [
    "ft_vi = fasttext.load_model('cc.vi.100.bin')\n",
    "ft_en = fasttext.load_model('cc.en.100.bin')"
   ],
   "outputs": [
    {
     "output_type": "stream",
     "name": "stderr",
     "text": [
      "Warning : `load_model` does not return WordVectorModel or SupervisedModel any more, but a `FastText` object which is very similar.\n",
      "Warning : `load_model` does not return WordVectorModel or SupervisedModel any more, but a `FastText` object which is very similar.\n"
     ]
    }
   ],
   "metadata": {}
  },
  {
   "cell_type": "markdown",
   "source": [
    "Dưới đây là vector 100 dims của từ \"xin chào\" và vài từ khác.\n",
    "\n",
    "Thực chất fasttext là một công cụ hỗ trợ cực kì tốt mà tôi biết đến nó thông qua một tài tweet tren Twitter. Hãy tin tưởng mà sử dụng nó, nó sẽ giúp cho cái bài toán NLP của bạn \"đỡ khổ\" hơn nhiều."
   ],
   "metadata": {}
  },
  {
   "cell_type": "code",
   "execution_count": 6,
   "source": [
    "ft_vi.get_word_vector('xin chào')"
   ],
   "outputs": [
    {
     "output_type": "execute_result",
     "data": {
      "text/plain": [
       "array([-0.005858  ,  0.00591698,  0.05544396,  0.01845348,  0.03497462,\n",
       "       -0.01731673, -0.0186325 , -0.05789406, -0.01456467,  0.05405328,\n",
       "        0.0162955 ,  0.02371605, -0.02689386,  0.0168477 , -0.02608746,\n",
       "       -0.00542725, -0.01952248,  0.02309453,  0.00077463, -0.01623438,\n",
       "       -0.02708885, -0.02166499,  0.01338364, -0.00763521, -0.01389443,\n",
       "       -0.00743966, -0.04979044, -0.02639596,  0.01744116, -0.02117856,\n",
       "        0.00118052,  0.00367191, -0.00203112,  0.01383345,  0.01485165,\n",
       "       -0.00397428,  0.02199381,  0.02537224, -0.00114648, -0.01440865,\n",
       "       -0.01821862,  0.01354136,  0.00441786, -0.01989009,  0.00784927,\n",
       "       -0.00614514,  0.01168528,  0.02575686,  0.01241738, -0.00843297,\n",
       "        0.02774723,  0.00453759,  0.00838433,  0.01327751, -0.01783348,\n",
       "        0.01831022, -0.01594335, -0.00435727,  0.00035578, -0.07555512,\n",
       "        0.01310887, -0.04912862,  0.01182956,  0.03159093,  0.04497012,\n",
       "        0.02143607,  0.00049193, -0.00196764,  0.00246742,  0.01363291,\n",
       "       -0.02314509, -0.00219922, -0.02380401, -0.01026245, -0.01819856,\n",
       "        0.0151787 ,  0.01194715, -0.00761893, -0.01721501,  0.01119621,\n",
       "        0.02290164, -0.01710619, -0.02078362,  0.0228194 ,  0.00750548,\n",
       "        0.00201767,  0.06676898, -0.00448752,  0.01720995,  0.00851261,\n",
       "       -0.02720573,  0.01439547,  0.02121913, -0.01952045, -0.01194024,\n",
       "       -0.01461318,  0.00467993, -0.00556966, -0.01434838, -0.0315196 ],\n",
       "      dtype=float32)"
      ]
     },
     "metadata": {},
     "execution_count": 6
    }
   ],
   "metadata": {}
  },
  {
   "cell_type": "code",
   "execution_count": 7,
   "source": [
    "ft_vi.get_word_vector(\"shipper\")"
   ],
   "outputs": [
    {
     "output_type": "execute_result",
     "data": {
      "text/plain": [
       "array([-0.04482329,  0.1306968 ,  0.00602638,  0.08205491, -0.09409259,\n",
       "       -0.00268238, -0.00441986, -0.14670041, -0.07580385,  0.11864945,\n",
       "       -0.07212971, -0.04020993,  0.06071544, -0.05108281, -0.04871833,\n",
       "       -0.13044995,  0.05104804, -0.0647935 ,  0.06504327,  0.02786569,\n",
       "        0.02255378,  0.0658379 ,  0.00524131, -0.01714174,  0.02031365,\n",
       "        0.04050732,  0.03624526, -0.00705281, -0.00607613, -0.04202025,\n",
       "        0.02640752,  0.02390548,  0.03726061,  0.0165013 ,  0.08770727,\n",
       "       -0.11049094,  0.03829083, -0.03813533, -0.06787217,  0.11119355,\n",
       "        0.08849208,  0.02690171,  0.00534289, -0.06304946,  0.07952289,\n",
       "        0.16372508,  0.02963781, -0.05313126, -0.05538091,  0.0243446 ,\n",
       "        0.17476527,  0.05392487, -0.08586453, -0.03984641, -0.06173296,\n",
       "        0.04835213, -0.04918601,  0.12133241,  0.01697406, -0.08753216,\n",
       "       -0.05530317, -0.03141787, -0.07614072,  0.11230698, -0.01196967,\n",
       "       -0.02775046, -0.0485909 , -0.08594808,  0.03448322,  0.07165931,\n",
       "       -0.0421441 ,  0.02105435,  0.04268556,  0.05363652,  0.04589817,\n",
       "        0.02782094,  0.02825668,  0.03267308, -0.0577312 ,  0.0668293 ,\n",
       "        0.03514689,  0.05725601, -0.11705823, -0.0206674 ,  0.05662723,\n",
       "       -0.05252227,  0.04314893, -0.02537445,  0.04091778, -0.01134288,\n",
       "       -0.04383793,  0.03717593,  0.01454818,  0.01900238, -0.09251589,\n",
       "       -0.04429725, -0.06188246, -0.08065203,  0.00760574, -0.0462208 ],\n",
       "      dtype=float32)"
      ]
     },
     "metadata": {},
     "execution_count": 7
    }
   ],
   "metadata": {}
  },
  {
   "cell_type": "code",
   "execution_count": 8,
   "source": [
    "ft_en.get_word_vector(\"shipper\")"
   ],
   "outputs": [
    {
     "output_type": "execute_result",
     "data": {
      "text/plain": [
       "array([-2.99756192e-02, -5.92948869e-02, -1.14630638e-02, -4.70631421e-02,\n",
       "        3.24248299e-02, -8.74208435e-02, -1.47009909e-01,  5.99884521e-03,\n",
       "        3.20037752e-02,  2.02425458e-02,  2.08814330e-02, -5.86299365e-03,\n",
       "       -2.06765789e-03, -4.06624787e-02, -2.24276762e-02, -1.59674391e-01,\n",
       "       -7.36591890e-02, -4.33965698e-02, -1.39081981e-02,  1.87481493e-02,\n",
       "        1.12330727e-01, -4.94616888e-02,  2.05947123e-02, -7.88073093e-02,\n",
       "       -3.01143285e-02,  1.31405646e-03,  2.41592713e-02,  6.47805110e-02,\n",
       "        1.57513142e-01,  4.18538265e-02,  1.05798662e-01, -7.28724003e-02,\n",
       "        4.21688966e-02, -9.84481424e-02, -4.85281572e-02, -1.47368968e-01,\n",
       "       -2.36060610e-03,  8.55448395e-02, -4.39639166e-02,  8.25370289e-03,\n",
       "       -9.71954912e-02, -8.00786354e-03,  2.19022390e-02, -1.62983984e-01,\n",
       "        6.80357963e-03,  8.00233632e-02,  6.63501471e-02, -3.30431424e-02,\n",
       "        6.36976063e-02,  7.55386278e-02,  2.70912703e-02,  4.32227217e-02,\n",
       "        2.33277492e-02, -3.52903306e-02, -5.81459468e-03,  4.24507372e-02,\n",
       "       -5.04243672e-02,  5.94339799e-03,  1.48756085e-02, -3.91519666e-02,\n",
       "       -3.18258777e-02, -9.08403366e-04, -3.27009484e-02, -3.72941494e-02,\n",
       "       -2.72052698e-02,  6.37116134e-02, -2.60582920e-02, -4.85311672e-02,\n",
       "       -5.07016145e-02, -8.58475119e-02, -1.22737423e-01, -2.04580538e-05,\n",
       "        1.10536246e-02, -5.68021238e-02,  3.07537168e-02,  1.44481538e-02,\n",
       "        1.33990750e-01,  1.13357507e-01,  3.47727421e-03,  2.81960070e-02,\n",
       "       -1.29164639e-03, -5.12360483e-02,  1.29533574e-01,  4.64480789e-03,\n",
       "       -8.16457346e-02, -1.50127932e-02,  6.17302349e-03,  5.20901009e-02,\n",
       "       -1.25290742e-02,  4.37334478e-02,  5.52784614e-02,  5.58346286e-02,\n",
       "       -3.61467116e-02, -2.41361298e-02,  7.62666315e-02,  2.38128286e-02,\n",
       "        5.36810681e-02,  5.88007644e-02, -6.12015501e-02, -1.09539870e-02],\n",
       "      dtype=float32)"
      ]
     },
     "metadata": {},
     "execution_count": 8
    }
   ],
   "metadata": {}
  },
  {
   "cell_type": "markdown",
   "source": [
    "> **Nhận xét**:\n",
    "> * Mặc dù là tập dữ liệu được dành riêng cho từng ngôn ngữ nhưng khi ta thử kiểm tra với một vài từ tiếng anh thì `ft_vi` vẫn cho ra kết quả tuy nhiên lại khác đi phần nhiều so với `ft_en`. Điều này là dễ hiểu vì đây là dữ liệu **thật** được Facebook gom về từ các dịch vụ của họ, và nói về khoảng quảng cáo bán hàng thì Facebook hiểu bạn thế nào thì bạn cũng quá rõ rồi.\n",
    "> * Và việc embedded vector của cùng một từ tiếng anh nhưng trên `ft_vi` và `ft_en` khác nhau cũng là chuyện dễ hiểu."
   ],
   "metadata": {}
  },
  {
   "cell_type": "markdown",
   "source": [
    "Tiếp theo chúng ta sẽ vectorization các word có trong dataset của chúng ta bằng `ft_vi`."
   ],
   "metadata": {}
  },
  {
   "cell_type": "code",
   "execution_count": 9,
   "source": [
    "vec_words = Detective.ftVectorization(reviews, ft_vi)\n",
    "vec_words"
   ],
   "outputs": [
    {
     "output_type": "execute_result",
     "data": {
      "text/html": [
       "<div>\n",
       "<style scoped>\n",
       "    .dataframe tbody tr th:only-of-type {\n",
       "        vertical-align: middle;\n",
       "    }\n",
       "\n",
       "    .dataframe tbody tr th {\n",
       "        vertical-align: top;\n",
       "    }\n",
       "\n",
       "    .dataframe thead th {\n",
       "        text-align: right;\n",
       "    }\n",
       "</style>\n",
       "<table border=\"1\" class=\"dataframe\">\n",
       "  <thead>\n",
       "    <tr style=\"text-align: right;\">\n",
       "      <th></th>\n",
       "      <th>word</th>\n",
       "      <th>freq</th>\n",
       "      <th>ft_vec</th>\n",
       "      <th>label</th>\n",
       "    </tr>\n",
       "  </thead>\n",
       "  <tbody>\n",
       "    <tr>\n",
       "      <th>0</th>\n",
       "      <td>thèm</td>\n",
       "      <td>56</td>\n",
       "      <td>[0.12546667, 0.27063507, -0.3226054, 0.1076125...</td>\n",
       "      <td>0</td>\n",
       "    </tr>\n",
       "    <tr>\n",
       "      <th>1</th>\n",
       "      <td>lum</td>\n",
       "      <td>35</td>\n",
       "      <td>[0.31741396, 0.60768604, -0.23061581, 0.342011...</td>\n",
       "      <td>0</td>\n",
       "    </tr>\n",
       "    <tr>\n",
       "      <th>2</th>\n",
       "      <td>tùm</td>\n",
       "      <td>35</td>\n",
       "      <td>[0.34853685, 0.19606084, -0.22714649, 0.080849...</td>\n",
       "      <td>0</td>\n",
       "    </tr>\n",
       "    <tr>\n",
       "      <th>3</th>\n",
       "      <td>huỷ</td>\n",
       "      <td>31</td>\n",
       "      <td>[0.24349461, 0.12490517, -0.20848149, -0.01994...</td>\n",
       "      <td>0</td>\n",
       "    </tr>\n",
       "    <tr>\n",
       "      <th>4</th>\n",
       "      <td>đểu</td>\n",
       "      <td>28</td>\n",
       "      <td>[0.08494775, 0.045489177, -0.035257675, -0.022...</td>\n",
       "      <td>0</td>\n",
       "    </tr>\n",
       "    <tr>\n",
       "      <th>...</th>\n",
       "      <td>...</td>\n",
       "      <td>...</td>\n",
       "      <td>...</td>\n",
       "      <td>...</td>\n",
       "    </tr>\n",
       "    <tr>\n",
       "      <th>3862</th>\n",
       "      <td>spam</td>\n",
       "      <td>2</td>\n",
       "      <td>[-0.06227298, 0.27240402, -0.012649586, 0.2511...</td>\n",
       "      <td>2</td>\n",
       "    </tr>\n",
       "    <tr>\n",
       "      <th>3863</th>\n",
       "      <td>cấm</td>\n",
       "      <td>2</td>\n",
       "      <td>[0.036774382, 0.04028643, -0.031932976, 0.0316...</td>\n",
       "      <td>2</td>\n",
       "    </tr>\n",
       "    <tr>\n",
       "      <th>3864</th>\n",
       "      <td>thưởng</td>\n",
       "      <td>2</td>\n",
       "      <td>[0.11008545, 0.026620911, -0.025946898, 0.0367...</td>\n",
       "      <td>2</td>\n",
       "    </tr>\n",
       "    <tr>\n",
       "      <th>3865</th>\n",
       "      <td>hững</td>\n",
       "      <td>2</td>\n",
       "      <td>[0.04788875, -0.026248291, 0.025058057, 0.0359...</td>\n",
       "      <td>2</td>\n",
       "    </tr>\n",
       "    <tr>\n",
       "      <th>3866</th>\n",
       "      <td>thăm</td>\n",
       "      <td>2</td>\n",
       "      <td>[0.13048768, -0.0068094754, -0.04752696, -0.02...</td>\n",
       "      <td>2</td>\n",
       "    </tr>\n",
       "  </tbody>\n",
       "</table>\n",
       "<p>3867 rows × 4 columns</p>\n",
       "</div>"
      ],
      "text/plain": [
       "           word  freq                                             ft_vec  \\\n",
       "0         thèm    56  [0.12546667, 0.27063507, -0.3226054, 0.1076125...   \n",
       "1           lum    35  [0.31741396, 0.60768604, -0.23061581, 0.342011...   \n",
       "2          tùm    35  [0.34853685, 0.19606084, -0.22714649, 0.080849...   \n",
       "3          huỷ    31  [0.24349461, 0.12490517, -0.20848149, -0.01994...   \n",
       "4         đểu    28  [0.08494775, 0.045489177, -0.035257675, -0.022...   \n",
       "...         ...   ...                                                ...   \n",
       "3862       spam     2  [-0.06227298, 0.27240402, -0.012649586, 0.2511...   \n",
       "3863      cấm     2  [0.036774382, 0.04028643, -0.031932976, 0.0316...   \n",
       "3864  thưởng     2  [0.11008545, 0.026620911, -0.025946898, 0.0367...   \n",
       "3865     hững     2  [0.04788875, -0.026248291, 0.025058057, 0.0359...   \n",
       "3866      thăm     2  [0.13048768, -0.0068094754, -0.04752696, -0.02...   \n",
       "\n",
       "      label  \n",
       "0         0  \n",
       "1         0  \n",
       "2         0  \n",
       "3         0  \n",
       "4         0  \n",
       "...     ...  \n",
       "3862      2  \n",
       "3863      2  \n",
       "3864      2  \n",
       "3865      2  \n",
       "3866      2  \n",
       "\n",
       "[3867 rows x 4 columns]"
      ]
     },
     "metadata": {},
     "execution_count": 9
    }
   ],
   "metadata": {}
  },
  {
   "cell_type": "markdown",
   "source": [
    "Tuy nhiên, tôi vẫn muốn xây dựng một model **word2vec** nhỏ nhỏ trên chính một phần nhỏ của dataset này, để ta có thể hiểu rõ hơn.\n",
    "\n",
    "Sẽ rất khó nếu ta tự build một word2vec model hoàn chỉnh giúp ta giải quyết toàn bộ dataset này vì nó yêu cầu nhiều về kiến thức đến phần cứng và tối ưu hóa.\n",
    "\n",
    "Vậy bằng cách nào mà ta tạo ra được chính các word vectors mà không dùng các resource bên ngoài. Nếu bạn đã học qua học biết về Deep Neural Network, ta có 3 layer lần lượt là input layer, hidden layer và output layer. Và ta biết một DNN nó sẽ tự đào tạo các weight trong các hidden layer sao cho loss function thấp nhất có thể so với output layer. Và đây cũng chính là ý tưởng của các model như word2vec mà Glove, Gensim, Word2Vec của TensorFlow sử dụng và tùy biến. Ở đây chiến lược của ta sẽ như sau:\n",
    "  * Trước tiên ta cần index hóa các unique word.\n",
    "  * Tiếp theo, vì tôi đang muốn so sánh với 100 dims word2vec model của `fasttext` nên tôi sẽ cấu hình cho hidden layer của ta bao gồm 100 neurons.\n",
    "  * Bước tạo ra output layer sẽ hơi phức tạp, trước tiên ta cần định nghĩa một **context window**, người ta định nghĩa nó là một số nguyên $\\geq 2$, nó hoạt động như sau:\n",
    "    * Giả sử ta có sentence: \"shop giao hàng siêu nhanh\", nó là một vector 5 chiều, vậy nếu bạn đã biết về CNN, thì context window hoạt động y như vậy, ta sẽ trượt window này, khi tới một từ nhất định - ta gọi từ này là **focus word** và lấy 2 từ kế bên trái và 2 từ bên phải - các từ này được gọi là **context word**, và lúc này ta được các cặp 2.\n",
    "    * Vậy giả sử với câu trên, focus word của ta là **hàng** thì 4 từ còn lại là các context word thì ta lần lượt đạt được các cặp từ như sau: (hàng, shop), (hàng, giao), (hàng, siêu) và (hàng, nhanh). Tôi tạm gọi đây là **word_list**.\n",
    "  * Vậy bây giờ ta sẽ duyệt qua từng element trong **word_list**, với từng phần tử trong element ta lấy word encoding vector tương ứng. Lúc này các vector của phần tử đầu tiên trong từng element chính là input và của phần tử thứ hai chính là output.\n",
    "\n",
    "Dưới đây là một model word2vec demo lấy ngẫu nhiên 50 comment từ dataset của chúng ta."
   ],
   "metadata": {}
  },
  {
   "cell_type": "code",
   "execution_count": 10,
   "source": [
    "from tqdm import tqdm\n",
    "\n",
    "def prepareInputOutput(psentences, word_id):\n",
    "    texts = psentences.copy()\n",
    "    window = 2\n",
    "    word_lists = []\n",
    "    \n",
    "    for text in texts:\n",
    "        words = text.split(\" \")\n",
    "        for i, word in enumerate(words):\n",
    "            for w in range(window):\n",
    "                if i + 1 + w < len(text): \n",
    "                    word_lists.append([word] + [text[(i + 1 + w)]])   \n",
    "                if i - w - 1 >= 0:\n",
    "                    word_lists.append([word] + [text[(i - w - 1)]])\n",
    "                    \n",
    "    X = []\n",
    "    Y = []\n",
    "    n_words = len(word_id)\n",
    "    words = list(word_id.keys())\n",
    "    \n",
    "    for i, word_list in tqdm(enumerate(word_lists)):\n",
    "        main_word_index = word_id.get(word_list[0])\n",
    "        context_word_index = word_id.get(word_list[1])\n",
    "        X_row = np.zeros(n_words)\n",
    "        Y_row = np.zeros(n_words)\n",
    "\n",
    "        X_row[main_word_index] = 1\n",
    "        Y_row[context_word_index] = 1\n",
    "\n",
    "        X.append(X_row)\n",
    "        Y.append(Y_row)\n",
    "\n",
    "    return np.asarray(X), np.asarray(Y)"
   ],
   "outputs": [],
   "metadata": {}
  },
  {
   "cell_type": "code",
   "execution_count": 11,
   "source": [
    "def word2vecForFunModel(X, Y, word_id):\n",
    "    embed_size = 2\n",
    "    inp = Input(shape=(X.shape[1],))\n",
    "    x = Dense(units=embed_size, activation='linear')(inp)\n",
    "    x = Dense(units=Y.shape[1], activation='softmax')(x)\n",
    "    model = Model(inputs=inp, outputs=x)\n",
    "    model.compile(loss='categorical_crossentropy', optimizer='adam')\n",
    "    model.fit(x=X, y=Y, batch_size=10, epochs=100)\n",
    "    weights = model.get_weights()[0]\n",
    "    embedding_dict = {}\n",
    "    for word in word_id.keys(): \n",
    "        embedding_dict.update({word: weights[word_id.get(word)]})\n",
    "        \n",
    "    return embedding_dict"
   ],
   "outputs": [],
   "metadata": {}
  },
  {
   "cell_type": "code",
   "execution_count": 12,
   "source": [
    "sentence_ids = random.sample(reviews.index.tolist(), 50)\n",
    "reviews_sub = reviews.loc[sentence_ids].copy()\n",
    "\n",
    "word_id_sub, id_word_sub = Detective.createWordDictionary(reviews_sub['normalize_comment'])\n",
    "X, Y = prepareInputOutput(reviews_sub['normalize_comment'], word_id_sub)"
   ],
   "outputs": [
    {
     "output_type": "stream",
     "name": "stderr",
     "text": [
      "2854it [00:00, 30908.64it/s]\n"
     ]
    }
   ],
   "metadata": {}
  },
  {
   "cell_type": "code",
   "execution_count": 13,
   "source": [
    "X"
   ],
   "outputs": [
    {
     "output_type": "execute_result",
     "data": {
      "text/plain": [
       "array([[0., 0., 0., ..., 0., 0., 0.],\n",
       "       [0., 0., 0., ..., 0., 0., 0.],\n",
       "       [0., 0., 0., ..., 0., 0., 0.],\n",
       "       ...,\n",
       "       [0., 0., 0., ..., 0., 0., 0.],\n",
       "       [0., 0., 0., ..., 0., 0., 0.],\n",
       "       [0., 0., 0., ..., 0., 0., 0.]])"
      ]
     },
     "metadata": {},
     "execution_count": 13
    }
   ],
   "metadata": {}
  },
  {
   "cell_type": "code",
   "execution_count": 14,
   "source": [
    "Y.shape"
   ],
   "outputs": [
    {
     "output_type": "execute_result",
     "data": {
      "text/plain": [
       "(2854, 321)"
      ]
     },
     "metadata": {},
     "execution_count": 14
    }
   ],
   "metadata": {}
  },
  {
   "cell_type": "code",
   "execution_count": 15,
   "source": [
    "w2c_my_model = word2vecForFunModel(X, Y, word_id_sub)"
   ],
   "outputs": [
    {
     "output_type": "stream",
     "name": "stdout",
     "text": [
      "Epoch 1/100\n",
      "286/286 [==============================] - 1s 793us/step - loss: 1772.5892\n",
      "Epoch 2/100\n",
      "286/286 [==============================] - 0s 639us/step - loss: 1773.8922\n",
      "Epoch 3/100\n",
      "286/286 [==============================] - 0s 643us/step - loss: 1776.4530\n",
      "Epoch 4/100\n",
      "286/286 [==============================] - 0s 633us/step - loss: 1780.1084\n",
      "Epoch 5/100\n",
      "286/286 [==============================] - 0s 637us/step - loss: 1784.7122\n",
      "Epoch 6/100\n",
      "286/286 [==============================] - 0s 633us/step - loss: 1790.1772\n",
      "Epoch 7/100\n",
      "286/286 [==============================] - 0s 637us/step - loss: 1796.3792\n",
      "Epoch 8/100\n",
      "286/286 [==============================] - 0s 648us/step - loss: 1803.2628\n",
      "Epoch 9/100\n",
      "286/286 [==============================] - 0s 644us/step - loss: 1810.7260\n",
      "Epoch 10/100\n",
      "286/286 [==============================] - 0s 629us/step - loss: 1818.7421\n",
      "Epoch 11/100\n",
      "286/286 [==============================] - 0s 669us/step - loss: 1827.2505\n",
      "Epoch 12/100\n",
      "286/286 [==============================] - 0s 644us/step - loss: 1836.1897\n",
      "Epoch 13/100\n",
      "286/286 [==============================] - 0s 635us/step - loss: 1845.5438\n",
      "Epoch 14/100\n",
      "286/286 [==============================] - 0s 639us/step - loss: 1855.2601\n",
      "Epoch 15/100\n",
      "286/286 [==============================] - 0s 643us/step - loss: 1865.3245\n",
      "Epoch 16/100\n",
      "286/286 [==============================] - 0s 638us/step - loss: 1875.6752\n",
      "Epoch 17/100\n",
      "286/286 [==============================] - 0s 633us/step - loss: 1886.3168\n",
      "Epoch 18/100\n",
      "286/286 [==============================] - 0s 632us/step - loss: 1897.2505\n",
      "Epoch 19/100\n",
      "286/286 [==============================] - 0s 644us/step - loss: 1908.4131\n",
      "Epoch 20/100\n",
      "286/286 [==============================] - 0s 651us/step - loss: 1919.7931\n",
      "Epoch 21/100\n",
      "286/286 [==============================] - 0s 632us/step - loss: 1931.3982\n",
      "Epoch 22/100\n",
      "286/286 [==============================] - 0s 633us/step - loss: 1943.2089\n",
      "Epoch 23/100\n",
      "286/286 [==============================] - 0s 635us/step - loss: 1955.1199\n",
      "Epoch 24/100\n",
      "286/286 [==============================] - 0s 649us/step - loss: 1967.2670\n",
      "Epoch 25/100\n",
      "286/286 [==============================] - 0s 654us/step - loss: 1979.5784\n",
      "Epoch 26/100\n",
      "286/286 [==============================] - 0s 633us/step - loss: 1992.0209\n",
      "Epoch 27/100\n",
      "286/286 [==============================] - 0s 646us/step - loss: 2004.6204\n",
      "Epoch 28/100\n",
      "286/286 [==============================] - 0s 632us/step - loss: 2017.3647\n",
      "Epoch 29/100\n",
      "286/286 [==============================] - 0s 633us/step - loss: 2030.1454\n",
      "Epoch 30/100\n",
      "286/286 [==============================] - 0s 688us/step - loss: 2043.1525\n",
      "Epoch 31/100\n",
      "286/286 [==============================] - 0s 642us/step - loss: 2056.1780\n",
      "Epoch 32/100\n",
      "286/286 [==============================] - 0s 636us/step - loss: 2069.3992\n",
      "Epoch 33/100\n",
      "286/286 [==============================] - 0s 636us/step - loss: 2082.5239\n",
      "Epoch 34/100\n",
      "286/286 [==============================] - 0s 635us/step - loss: 2095.9509\n",
      "Epoch 35/100\n",
      "286/286 [==============================] - 0s 637us/step - loss: 2109.3979\n",
      "Epoch 36/100\n",
      "286/286 [==============================] - 0s 702us/step - loss: 2122.9458\n",
      "Epoch 37/100\n",
      "286/286 [==============================] - 0s 659us/step - loss: 2136.3867\n",
      "Epoch 38/100\n",
      "286/286 [==============================] - 0s 683us/step - loss: 2150.0161\n",
      "Epoch 39/100\n",
      "286/286 [==============================] - 0s 628us/step - loss: 2163.6919\n",
      "Epoch 40/100\n",
      "286/286 [==============================] - 0s 649us/step - loss: 2177.6250\n",
      "Epoch 41/100\n",
      "286/286 [==============================] - 0s 648us/step - loss: 2191.3677\n",
      "Epoch 42/100\n",
      "286/286 [==============================] - 0s 636us/step - loss: 2205.2500\n",
      "Epoch 43/100\n",
      "286/286 [==============================] - 0s 634us/step - loss: 2219.2236\n",
      "Epoch 44/100\n",
      "286/286 [==============================] - 0s 631us/step - loss: 2233.0840\n",
      "Epoch 45/100\n",
      "286/286 [==============================] - 0s 635us/step - loss: 2247.2363\n",
      "Epoch 46/100\n",
      "286/286 [==============================] - 0s 636us/step - loss: 2261.2468\n",
      "Epoch 47/100\n",
      "286/286 [==============================] - 0s 638us/step - loss: 2275.5083\n",
      "Epoch 48/100\n",
      "286/286 [==============================] - 0s 635us/step - loss: 2289.5496\n",
      "Epoch 49/100\n",
      "286/286 [==============================] - 0s 629us/step - loss: 2303.8311\n",
      "Epoch 50/100\n",
      "286/286 [==============================] - 0s 638us/step - loss: 2318.0415\n",
      "Epoch 51/100\n",
      "286/286 [==============================] - 0s 664us/step - loss: 2332.3738\n",
      "Epoch 52/100\n",
      "286/286 [==============================] - 0s 659us/step - loss: 2346.6028\n",
      "Epoch 53/100\n",
      "286/286 [==============================] - 0s 651us/step - loss: 2360.8066\n",
      "Epoch 54/100\n",
      "286/286 [==============================] - 0s 655us/step - loss: 2375.2004\n",
      "Epoch 55/100\n",
      "286/286 [==============================] - 0s 636us/step - loss: 2389.7317\n",
      "Epoch 56/100\n",
      "286/286 [==============================] - 0s 631us/step - loss: 2404.0769\n",
      "Epoch 57/100\n",
      "286/286 [==============================] - 0s 637us/step - loss: 2418.4771\n",
      "Epoch 58/100\n",
      "286/286 [==============================] - 0s 638us/step - loss: 2433.1379\n",
      "Epoch 59/100\n",
      "286/286 [==============================] - 0s 636us/step - loss: 2447.5601\n",
      "Epoch 60/100\n",
      "286/286 [==============================] - 0s 633us/step - loss: 2461.9919\n",
      "Epoch 61/100\n",
      "286/286 [==============================] - 0s 634us/step - loss: 2476.3252\n",
      "Epoch 62/100\n",
      "286/286 [==============================] - 0s 646us/step - loss: 2490.9631\n",
      "Epoch 63/100\n",
      "286/286 [==============================] - 0s 626us/step - loss: 2505.6436\n",
      "Epoch 64/100\n",
      "286/286 [==============================] - 0s 632us/step - loss: 2520.1084\n",
      "Epoch 65/100\n",
      "286/286 [==============================] - 0s 672us/step - loss: 2534.7969\n",
      "Epoch 66/100\n",
      "286/286 [==============================] - 0s 634us/step - loss: 2549.0764\n",
      "Epoch 67/100\n",
      "286/286 [==============================] - 0s 637us/step - loss: 2563.9253\n",
      "Epoch 68/100\n",
      "286/286 [==============================] - 0s 633us/step - loss: 2578.4978\n",
      "Epoch 69/100\n",
      "286/286 [==============================] - 0s 629us/step - loss: 2593.1836\n",
      "Epoch 70/100\n",
      "286/286 [==============================] - 0s 635us/step - loss: 2607.7371\n",
      "Epoch 71/100\n",
      "286/286 [==============================] - 0s 628us/step - loss: 2622.3645\n",
      "Epoch 72/100\n",
      "286/286 [==============================] - 0s 633us/step - loss: 2636.9429\n",
      "Epoch 73/100\n",
      "286/286 [==============================] - 0s 640us/step - loss: 2651.7402\n",
      "Epoch 74/100\n",
      "286/286 [==============================] - 0s 641us/step - loss: 2666.4912\n",
      "Epoch 75/100\n",
      "286/286 [==============================] - 0s 628us/step - loss: 2681.1082\n",
      "Epoch 76/100\n",
      "286/286 [==============================] - 0s 641us/step - loss: 2695.9309\n",
      "Epoch 77/100\n",
      "286/286 [==============================] - 0s 631us/step - loss: 2710.4883\n",
      "Epoch 78/100\n",
      "286/286 [==============================] - 0s 634us/step - loss: 2725.3740\n",
      "Epoch 79/100\n",
      "286/286 [==============================] - 0s 656us/step - loss: 2740.1069\n",
      "Epoch 80/100\n",
      "286/286 [==============================] - 0s 637us/step - loss: 2754.8931\n",
      "Epoch 81/100\n",
      "286/286 [==============================] - 0s 640us/step - loss: 2769.3596\n",
      "Epoch 82/100\n",
      "286/286 [==============================] - 0s 629us/step - loss: 2783.9795\n",
      "Epoch 83/100\n",
      "286/286 [==============================] - 0s 636us/step - loss: 2798.4150\n",
      "Epoch 84/100\n",
      "286/286 [==============================] - 0s 738us/step - loss: 2813.3621\n",
      "Epoch 85/100\n",
      "286/286 [==============================] - 0s 659us/step - loss: 2828.1487\n",
      "Epoch 86/100\n",
      "286/286 [==============================] - 0s 678us/step - loss: 2842.7410\n",
      "Epoch 87/100\n",
      "286/286 [==============================] - 0s 673us/step - loss: 2857.0608\n",
      "Epoch 88/100\n",
      "286/286 [==============================] - 0s 638us/step - loss: 2871.9214\n",
      "Epoch 89/100\n",
      "286/286 [==============================] - 0s 708us/step - loss: 2886.7417\n",
      "Epoch 90/100\n",
      "286/286 [==============================] - 0s 668us/step - loss: 2901.3867\n",
      "Epoch 91/100\n",
      "286/286 [==============================] - 0s 647us/step - loss: 2915.7847\n",
      "Epoch 92/100\n",
      "286/286 [==============================] - 0s 669us/step - loss: 2930.4915\n",
      "Epoch 93/100\n",
      "286/286 [==============================] - 0s 661us/step - loss: 2945.2107\n",
      "Epoch 94/100\n",
      "286/286 [==============================] - 0s 689us/step - loss: 2959.6602\n",
      "Epoch 95/100\n",
      "286/286 [==============================] - 0s 705us/step - loss: 2974.1377\n",
      "Epoch 96/100\n",
      "286/286 [==============================] - 0s 703us/step - loss: 2989.0000\n",
      "Epoch 97/100\n",
      "286/286 [==============================] - 0s 694us/step - loss: 3004.0107\n",
      "Epoch 98/100\n",
      "286/286 [==============================] - 0s 668us/step - loss: 3018.5432\n",
      "Epoch 99/100\n",
      "286/286 [==============================] - 0s 654us/step - loss: 3033.4958\n",
      "Epoch 100/100\n",
      "286/286 [==============================] - 0s 666us/step - loss: 3048.1895\n"
     ]
    }
   ],
   "metadata": {}
  },
  {
   "cell_type": "code",
   "execution_count": 16,
   "source": [
    "import matplotlib.pyplot as plt\n",
    "plt.figure(figsize=(10, 10))\n",
    "\n",
    "for word in list(word_id_sub.keys()):\n",
    "  coord = w2c_my_model.get(word)\n",
    "  plt.scatter(coord[0], coord[1])\n",
    "  plt.annotate(word, (coord[0], coord[1]))"
   ],
   "outputs": [
    {
     "output_type": "display_data",
     "data": {
      "image/png": "[encoded data removed]",
      "text/plain": [
       "<Figure size 720x720 with 1 Axes>"
      ]
     },
     "metadata": {
      "needs_background": "light"
     }
    }
   ],
   "metadata": {}
  },
  {
   "cell_type": "markdown",
   "source": [
    "> **Nhận xét**:\n",
    "> * Nó hoạt động thật đấy nhưng cũng không tốt cho lắm, rõ ràng ta thấy được có vài từ nằm gần nhau tạo thành cụm - nếu suy ngẫm thì chúng cũng tạo nên những từ ghép có nghĩa. Nhưng ta cũng không thể quá mong đợi rằng nó tốt vì hidden layer của chúng ta chỉ có vỏn vẹn 2 neuron và nếu nhìn vào loss value ta thấy nó tăng dần đều.\n",
    "> * Tuy nhiên ta cũng có thể khắc phục điều này bằng cách tìm ra một kiến trúc khác phù hợp cho mạng, ta có thể tắng số neuron lên vì 2 neuron là quá ích, sau đó ta có thể sử dụng PCA để chọn ra 2 thành phần quan trọng nhất để trực quan.\n",
    "> * Đây chỉ là minh họa cho việc ta có thể tự build một word2vec nếu dataset của ta nhỏ. Nhưng tốt nhất ta nên sài những gói mà cộng đồng đã xây dựng sẵn."
   ],
   "metadata": {}
  },
  {
   "cell_type": "markdown",
   "source": [
    "Bây giờ, ta sẽ trực quan hóa vectorization dựa vào fasttext lên một không gian 2 chiều. Chúng ta sẽ sử dụng cơ chế PCA của object TSNE sklearn để giảm chiều `ft_vec` thành còn 2 component. Sau đó trực quan hóa chúng để xem với model word2vec của Facebook có tốt trên dataste của chúng ta không."
   ],
   "metadata": {}
  },
  {
   "cell_type": "code",
   "execution_count": 17,
   "source": [
    "tsne_2_components = Detective.tsneGetNCompenent(vec_words, 2)\n",
    "tsne_2_components"
   ],
   "outputs": [
    {
     "output_type": "execute_result",
     "data": {
      "text/html": [
       "<div>\n",
       "<style scoped>\n",
       "    .dataframe tbody tr th:only-of-type {\n",
       "        vertical-align: middle;\n",
       "    }\n",
       "\n",
       "    .dataframe tbody tr th {\n",
       "        vertical-align: top;\n",
       "    }\n",
       "\n",
       "    .dataframe thead th {\n",
       "        text-align: right;\n",
       "    }\n",
       "</style>\n",
       "<table border=\"1\" class=\"dataframe\">\n",
       "  <thead>\n",
       "    <tr style=\"text-align: right;\">\n",
       "      <th></th>\n",
       "      <th>word</th>\n",
       "      <th>freq</th>\n",
       "      <th>ft_vec</th>\n",
       "      <th>label</th>\n",
       "      <th>component_1</th>\n",
       "      <th>component_2</th>\n",
       "    </tr>\n",
       "  </thead>\n",
       "  <tbody>\n",
       "    <tr>\n",
       "      <th>0</th>\n",
       "      <td>thèm</td>\n",
       "      <td>56</td>\n",
       "      <td>[0.12546667, 0.27063507, -0.3226054, 0.1076125...</td>\n",
       "      <td>0</td>\n",
       "      <td>-6.907181</td>\n",
       "      <td>-42.621933</td>\n",
       "    </tr>\n",
       "    <tr>\n",
       "      <th>1</th>\n",
       "      <td>lum</td>\n",
       "      <td>35</td>\n",
       "      <td>[0.31741396, 0.60768604, -0.23061581, 0.342011...</td>\n",
       "      <td>0</td>\n",
       "      <td>-21.261835</td>\n",
       "      <td>-14.591570</td>\n",
       "    </tr>\n",
       "    <tr>\n",
       "      <th>2</th>\n",
       "      <td>tùm</td>\n",
       "      <td>35</td>\n",
       "      <td>[0.34853685, 0.19606084, -0.22714649, 0.080849...</td>\n",
       "      <td>0</td>\n",
       "      <td>-10.508067</td>\n",
       "      <td>-50.690220</td>\n",
       "    </tr>\n",
       "    <tr>\n",
       "      <th>3</th>\n",
       "      <td>huỷ</td>\n",
       "      <td>31</td>\n",
       "      <td>[0.24349461, 0.12490517, -0.20848149, -0.01994...</td>\n",
       "      <td>0</td>\n",
       "      <td>0.626689</td>\n",
       "      <td>-47.718655</td>\n",
       "    </tr>\n",
       "    <tr>\n",
       "      <th>4</th>\n",
       "      <td>đểu</td>\n",
       "      <td>28</td>\n",
       "      <td>[0.08494775, 0.045489177, -0.035257675, -0.022...</td>\n",
       "      <td>0</td>\n",
       "      <td>16.599503</td>\n",
       "      <td>60.658474</td>\n",
       "    </tr>\n",
       "    <tr>\n",
       "      <th>...</th>\n",
       "      <td>...</td>\n",
       "      <td>...</td>\n",
       "      <td>...</td>\n",
       "      <td>...</td>\n",
       "      <td>...</td>\n",
       "      <td>...</td>\n",
       "    </tr>\n",
       "    <tr>\n",
       "      <th>3862</th>\n",
       "      <td>spam</td>\n",
       "      <td>2</td>\n",
       "      <td>[-0.06227298, 0.27240402, -0.012649586, 0.2511...</td>\n",
       "      <td>2</td>\n",
       "      <td>-14.466059</td>\n",
       "      <td>17.413969</td>\n",
       "    </tr>\n",
       "    <tr>\n",
       "      <th>3863</th>\n",
       "      <td>cấm</td>\n",
       "      <td>2</td>\n",
       "      <td>[0.036774382, 0.04028643, -0.031932976, 0.0316...</td>\n",
       "      <td>2</td>\n",
       "      <td>-13.595615</td>\n",
       "      <td>37.167290</td>\n",
       "    </tr>\n",
       "    <tr>\n",
       "      <th>3864</th>\n",
       "      <td>thưởng</td>\n",
       "      <td>2</td>\n",
       "      <td>[0.11008545, 0.026620911, -0.025946898, 0.0367...</td>\n",
       "      <td>2</td>\n",
       "      <td>30.458059</td>\n",
       "      <td>43.333645</td>\n",
       "    </tr>\n",
       "    <tr>\n",
       "      <th>3865</th>\n",
       "      <td>hững</td>\n",
       "      <td>2</td>\n",
       "      <td>[0.04788875, -0.026248291, 0.025058057, 0.0359...</td>\n",
       "      <td>2</td>\n",
       "      <td>-11.566125</td>\n",
       "      <td>53.773468</td>\n",
       "    </tr>\n",
       "    <tr>\n",
       "      <th>3866</th>\n",
       "      <td>thăm</td>\n",
       "      <td>2</td>\n",
       "      <td>[0.13048768, -0.0068094754, -0.04752696, -0.02...</td>\n",
       "      <td>2</td>\n",
       "      <td>17.101202</td>\n",
       "      <td>-53.957317</td>\n",
       "    </tr>\n",
       "  </tbody>\n",
       "</table>\n",
       "<p>3867 rows × 6 columns</p>\n",
       "</div>"
      ],
      "text/plain": [
       "           word  freq                                             ft_vec  \\\n",
       "0         thèm    56  [0.12546667, 0.27063507, -0.3226054, 0.1076125...   \n",
       "1           lum    35  [0.31741396, 0.60768604, -0.23061581, 0.342011...   \n",
       "2          tùm    35  [0.34853685, 0.19606084, -0.22714649, 0.080849...   \n",
       "3          huỷ    31  [0.24349461, 0.12490517, -0.20848149, -0.01994...   \n",
       "4         đểu    28  [0.08494775, 0.045489177, -0.035257675, -0.022...   \n",
       "...         ...   ...                                                ...   \n",
       "3862       spam     2  [-0.06227298, 0.27240402, -0.012649586, 0.2511...   \n",
       "3863      cấm     2  [0.036774382, 0.04028643, -0.031932976, 0.0316...   \n",
       "3864  thưởng     2  [0.11008545, 0.026620911, -0.025946898, 0.0367...   \n",
       "3865     hững     2  [0.04788875, -0.026248291, 0.025058057, 0.0359...   \n",
       "3866      thăm     2  [0.13048768, -0.0068094754, -0.04752696, -0.02...   \n",
       "\n",
       "      label  component_1  component_2  \n",
       "0         0    -6.907181   -42.621933  \n",
       "1         0   -21.261835   -14.591570  \n",
       "2         0   -10.508067   -50.690220  \n",
       "3         0     0.626689   -47.718655  \n",
       "4         0    16.599503    60.658474  \n",
       "...     ...          ...          ...  \n",
       "3862      2   -14.466059    17.413969  \n",
       "3863      2   -13.595615    37.167290  \n",
       "3864      2    30.458059    43.333645  \n",
       "3865      2   -11.566125    53.773468  \n",
       "3866      2    17.101202   -53.957317  \n",
       "\n",
       "[3867 rows x 6 columns]"
      ]
     },
     "metadata": {},
     "execution_count": 17
    }
   ],
   "metadata": {}
  },
  {
   "cell_type": "code",
   "execution_count": 18,
   "source": [
    "# visualize\n",
    "tsne_2_components_shuffle = tsne_2_components.sample(frac=1)\n",
    "Detective.wordScatterPlot(tsne_2_components_shuffle.head(300))"
   ],
   "outputs": [
    {
     "output_type": "display_data",
     "data": {
      "application/vnd.plotly.v1+json": {
       "config": {
        "plotlyServerURL": "https://plot.ly"
       },
       "data": [
        {
         "hovertemplate": "<b>%{hovertext}</b><br><br>label=negative<br>component_1=%{x}<br>component_2=%{y}<br>freq=%{marker.size}<br>word=%{text}<extra></extra>",
         "hovertext": [
          "úa",
          "sẹo",
          "toái",
          "xô",
          "láo",
          "nặc",
          "report",
          "èo",
          "trũng",
          "cáu",
          "kép",
          "gày",
          "mạ",
          "ngửi",
          "tơi",
          "cỡi",
          "sắt",
          "bu",
          "xăm",
          "bày",
          "giọng",
          "chử",
          "sất",
          "vong",
          "nhũn",
          "xào",
          "ngủn",
          "list",
          "xoan",
          "hanh",
          "dộ",
          "code",
          "bots",
          "khả",
          "vò",
          "yếm",
          "rắt",
          "queo",
          "dợi",
          "view",
          "hửng",
          "mp",
          "cống",
          "sire",
          "ghì",
          "đẻ",
          "mỉm",
          "sên",
          "rock",
          "sần",
          "gư",
          "dỡn",
          "pó",
          "thùa",
          "chóc",
          "vỏng",
          "sén",
          "lái",
          "bùng",
          "ủ",
          "nhàu",
          "vàn",
          "văng",
          "chửi",
          "made",
          "dặt",
          "mẩu",
          "uốn",
          "cứt",
          "hen",
          "duột",
          "nit",
          "sậm",
          "mĩm",
          "second",
          "phành",
          "bịch",
          "nơ",
          "sông",
          "ngắc",
          "chím",
          "lõng",
          "tứa",
          "ằng",
          "bơ",
          "rông"
         ],
         "legendgroup": "negative",
         "marker": {
          "color": "#636efa",
          "line": {
           "color": "Gray",
           "width": 1
          },
          "size": [
           1,
           1,
           1,
           2,
           11,
           1,
           5,
           2,
           2,
           7,
           1,
           1,
           1,
           7,
           4,
           1,
           4,
           1,
           1,
           2,
           1,
           1,
           1,
           7,
           5,
           1,
           1,
           2,
           1,
           1,
           1,
           1,
           1,
           5,
           1,
           2,
           1,
           1,
           1,
           1,
           1,
           1,
           1,
           1,
           1,
           1,
           1,
           1,
           1,
           7,
           1,
           1,
           1,
           1,
           2,
           2,
           1,
           1,
           2,
           1,
           12,
           1,
           2,
           12,
           3,
           6,
           2,
           1,
           3,
           1,
           2,
           1,
           1,
           1,
           2,
           1,
           4,
           6,
           2,
           2,
           1,
           1,
           1,
           1,
           6,
           3
          ],
          "sizemode": "area",
          "sizeref": 1.3822222222222222,
          "symbol": "circle"
         },
         "mode": "markers+text",
         "name": "negative",
         "orientation": "v",
         "showlegend": true,
         "text": [
          "úa",
          "sẹo",
          "toái",
          "xô",
          "láo",
          "nặc",
          "report",
          "èo",
          "trũng",
          "cáu",
          "kép",
          "gày",
          "mạ",
          "ngửi",
          "tơi",
          "cỡi",
          "sắt",
          "bu",
          "xăm",
          "bày",
          "giọng",
          "chử",
          "sất",
          "vong",
          "nhũn",
          "xào",
          "ngủn",
          "list",
          "xoan",
          "hanh",
          "dộ",
          "code",
          "bots",
          "khả",
          "vò",
          "yếm",
          "rắt",
          "queo",
          "dợi",
          "view",
          "hửng",
          "mp",
          "cống",
          "sire",
          "ghì",
          "đẻ",
          "mỉm",
          "sên",
          "rock",
          "sần",
          "gư",
          "dỡn",
          "pó",
          "thùa",
          "chóc",
          "vỏng",
          "sén",
          "lái",
          "bùng",
          "ủ",
          "nhàu",
          "vàn",
          "văng",
          "chửi",
          "made",
          "dặt",
          "mẩu",
          "uốn",
          "cứt",
          "hen",
          "duột",
          "nit",
          "sậm",
          "mĩm",
          "second",
          "phành",
          "bịch",
          "nơ",
          "sông",
          "ngắc",
          "chím",
          "lõng",
          "tứa",
          "ằng",
          "bơ",
          "rông"
         ],
         "type": "scatter",
         "x": [
          -2.8009796142578125,
          -12.035515785217285,
          13.617115020751953,
          -11.448277473449707,
          -7.54548978805542,
          -7.3113532066345215,
          -20.099172592163086,
          -14.217836380004883,
          12.695451736450195,
          -7.5599470138549805,
          10.226797103881836,
          19.155216217041016,
          -0.7751289010047913,
          18.014568328857422,
          -1.41683828830719,
          -11.624397277832031,
          -6.25371789932251,
          -25.10431480407715,
          -10.044992446899414,
          10.631794929504395,
          7.5721611976623535,
          1.7214086055755615,
          18.653095245361328,
          8.620383262634277,
          5.77945613861084,
          -6.2789716720581055,
          12.232585906982422,
          -17.481483459472656,
          -0.0028526708483695984,
          -0.5917211771011353,
          -1.932063341140747,
          -18.699573516845703,
          -32.00328826904297,
          11.701643943786621,
          -10.59218692779541,
          1.488497257232666,
          5.811750888824463,
          -15.042601585388184,
          -1.7622530460357666,
          -15.569934844970703,
          -4.016135215759277,
          -35.21868896484375,
          5.8374505043029785,
          -24.135643005371094,
          1.9062561988830566,
          -12.289482116699219,
          -6.012491703033447,
          -7.568925380706787,
          -19.6561222076416,
          -13.640260696411133,
          -0.524093508720398,
          21.6564998626709,
          -14.330434799194336,
          13.485053062438965,
          8.372552871704102,
          5.305130481719971,
          2.9198758602142334,
          -13.86978816986084,
          19.60431671142578,
          -11.133965492248535,
          12.259305000305176,
          -3.13146710395813,
          26.447580337524414,
          2.566488027572632,
          -28.800283432006836,
          2.76595401763916,
          -6.266855239868164,
          0.8122785091400146,
          29.64879035949707,
          -16.08981704711914,
          -16.466224670410156,
          -20.935352325439453,
          -8.748824119567871,
          4.221165657043457,
          -28.697416305541992,
          20.689517974853516,
          11.901976585388184,
          5.030137062072754,
          22.480031967163086,
          -3.5731186866760254,
          13.932554244995117,
          8.725375175476074,
          -5.284708499908447,
          7.185304164886475,
          -1.722617268562317,
          30.16883659362793
         ],
         "xaxis": "x",
         "y": [
          -64.47859954833984,
          -71.15141296386719,
          -46.88121032714844,
          39.588890075683594,
          -51.575050354003906,
          61.993656158447266,
          16.172338485717773,
          -53.35531234741211,
          -34.29227828979492,
          -54.343196868896484,
          -67.55675506591797,
          -53.24153518676758,
          -71.90068817138672,
          33.763832092285156,
          63.074066162109375,
          57.60287094116211,
          24.198762893676758,
          -16.528608322143555,
          25.32971954345703,
          -28.07754135131836,
          -36.853904724121094,
          46.09574890136719,
          1.2151737213134766,
          -7.285351753234863,
          -52.68671798706055,
          -69.45892333984375,
          -38.40663528442383,
          16.94167137145996,
          -3.6552186012268066,
          -10.764594078063965,
          22.370929718017578,
          17.13387107849121,
          17.00838279724121,
          -23.641616821289062,
          -64.51040649414062,
          41.2717399597168,
          44.64511489868164,
          -19.270875930786133,
          31.319801330566406,
          20.84617042541504,
          62.13080978393555,
          -14.501330375671387,
          70.60137939453125,
          7.943789958953857,
          -54.46238327026367,
          -52.8394775390625,
          -54.42864227294922,
          56.19943618774414,
          -0.9477574825286865,
          31.184673309326172,
          66.25804138183594,
          -0.7599776983261108,
          -52.6544189453125,
          -38.149356842041016,
          -43.02250671386719,
          1.8038767576217651,
          63.633827209472656,
          -37.731346130371094,
          -39.07017517089844,
          -65.60433959960938,
          -33.803646087646484,
          -49.89309310913086,
          28.21914291381836,
          45.238624572753906,
          11.525172233581543,
          33.66233825683594,
          47.60905075073242,
          55.32391357421875,
          53.80937957763672,
          -8.146247863769531,
          49.1124382019043,
          -8.461729049682617,
          22.410310745239258,
          -55.90425109863281,
          12.225500106811523,
          0.7567408084869385,
          -32.12964630126953,
          51.57802200317383,
          -57.214351654052734,
          64.8194580078125,
          -36.028038024902344,
          -50.6524658203125,
          36.241580963134766,
          55.6278076171875,
          45.013343811035156,
          23.943696975708008
         ],
         "yaxis": "y"
        },
        {
         "hovertemplate": "<b>%{hovertext}</b><br><br>label=overlap<br>component_1=%{x}<br>component_2=%{y}<br>freq=%{marker.size}<br>word=%{text}<extra></extra>",
         "hovertext": [
          "nylon",
          "hóc",
          "trương",
          "lẽ",
          "lùn",
          "tiếng",
          "thiệt",
          "phân",
          "mệt",
          "ẩu",
          "tâm",
          "cụ",
          "phản",
          "kiện",
          "bữa",
          "ối",
          "rối",
          "được",
          "tư",
          "thong",
          "chóp",
          "trượt",
          "dục",
          "man",
          "lười",
          "đổi",
          "kèo",
          "bông",
          "trắng",
          "nguyên",
          "mai",
          "đặc",
          "gút",
          "lắc",
          "cùng",
          "làng",
          "giống",
          "nữ",
          "suông",
          "quá",
          "phi",
          "bám",
          "giật",
          "nhu",
          "ói",
          "vớt",
          "lập",
          "lồn",
          "chon",
          "ưng",
          "lớp",
          "note",
          "cu",
          "nước",
          "vả",
          "thuận",
          "van",
          "mỏi",
          "nguồn",
          "rùi",
          "tuột",
          "đau",
          "khá",
          "hẳn",
          "nho",
          "kể",
          "mó",
          "đục",
          "xác",
          "cuộn",
          "pk",
          "tiếc",
          "gốc",
          "nhượng",
          "hột",
          "phấm",
          "video",
          "nhân",
          "hạ",
          "bẩn",
          "tháng",
          "đưa",
          "dung",
          "bên",
          "lốm",
          "thường",
          "thưởng",
          "lân",
          "bật",
          "nhắm",
          "sa",
          "hỗ",
          "l",
          "miễn",
          "duy",
          "dàng",
          "lộn",
          "bó",
          "khô",
          "gắn",
          "lỗi",
          "sắc",
          "bẹp",
          "soạt",
          "mập",
          "trực",
          "an",
          "vít",
          "hag",
          "chổ",
          "nhắn",
          "tắc",
          "từ",
          "bút",
          "hinh",
          "đứng",
          "việc",
          "local",
          "cạn",
          "dạ",
          "chồng",
          "vết",
          "chủ",
          "nắp",
          "kêu",
          "cháo",
          "mùi",
          "xì",
          "rỉ",
          "đề",
          "đáng",
          "inch",
          "quả",
          "tắt",
          "huyết",
          "xin",
          "gang",
          "càng",
          "good",
          "ah",
          "tang",
          "tài",
          "chọn",
          "bực",
          "bề",
          "xưa",
          "gồm",
          "lí",
          "trái",
          "trơn",
          "lấy",
          "chán",
          "nhỉ",
          "hoặc",
          "cấm",
          "khắc",
          "khuôn",
          "lung",
          "cô",
          "phần"
         ],
         "legendgroup": "overlap",
         "marker": {
          "color": "#EF553B",
          "line": {
           "color": "Gray",
           "width": 1
          },
          "size": [
           6,
           3,
           2,
           33,
           2,
           35,
           28,
           33,
           10,
           60,
           140,
           8,
           115,
           27,
           18,
           2,
           17,
           2799,
           220,
           4,
           15,
           2,
           8,
           50,
           54,
           427,
           2,
           93,
           333,
           37,
           38,
           31,
           8,
           9,
           181,
           2,
           774,
           60,
           3,
           1649,
           7,
           21,
           7,
           39,
           3,
           3,
           4,
           5,
           7,
           635,
           89,
           13,
           4,
           131,
           2,
           16,
           14,
           16,
           9,
           27,
           35,
           29,
           947,
           53,
           11,
           11,
           9,
           9,
           24,
           3,
           4,
           56,
           26,
           3,
           7,
           3,
           110,
           83,
           7,
           119,
           37,
           43,
           26,
           405,
           2,
           256,
           2,
           2,
           7,
           4,
           11,
           60,
           276,
           19,
           17,
           9,
           31,
           58,
           22,
           25,
           399,
           152,
           2,
           3,
           12,
           9,
           20,
           5,
           5,
           10,
           296,
           5,
           169,
           10,
           19,
           26,
           80,
           4,
           4,
           23,
           44,
           83,
           60,
           13,
           58,
           7,
           172,
           16,
           16,
           78,
           492,
           4,
           24,
           4,
           2,
           64,
           5,
           63,
           23,
           46,
           4,
           5,
           211,
           42,
           7,
           2,
           4,
           53,
           25,
           44,
           285,
           267,
           21,
           48,
           2,
           16,
           2,
           21,
           11,
           168
          ],
          "sizemode": "area",
          "sizeref": 1.3822222222222222,
          "symbol": "circle"
         },
         "mode": "markers+text",
         "name": "overlap",
         "orientation": "v",
         "showlegend": true,
         "text": [
          "nylon",
          "hóc",
          "trương",
          "lẽ",
          "lùn",
          "tiếng",
          "thiệt",
          "phân",
          "mệt",
          "ẩu",
          "tâm",
          "cụ",
          "phản",
          "kiện",
          "bữa",
          "ối",
          "rối",
          "được",
          "tư",
          "thong",
          "chóp",
          "trượt",
          "dục",
          "man",
          "lười",
          "đổi",
          "kèo",
          "bông",
          "trắng",
          "nguyên",
          "mai",
          "đặc",
          "gút",
          "lắc",
          "cùng",
          "làng",
          "giống",
          "nữ",
          "suông",
          "quá",
          "phi",
          "bám",
          "giật",
          "nhu",
          "ói",
          "vớt",
          "lập",
          "lồn",
          "chon",
          "ưng",
          "lớp",
          "note",
          "cu",
          "nước",
          "vả",
          "thuận",
          "van",
          "mỏi",
          "nguồn",
          "rùi",
          "tuột",
          "đau",
          "khá",
          "hẳn",
          "nho",
          "kể",
          "mó",
          "đục",
          "xác",
          "cuộn",
          "pk",
          "tiếc",
          "gốc",
          "nhượng",
          "hột",
          "phấm",
          "video",
          "nhân",
          "hạ",
          "bẩn",
          "tháng",
          "đưa",
          "dung",
          "bên",
          "lốm",
          "thường",
          "thưởng",
          "lân",
          "bật",
          "nhắm",
          "sa",
          "hỗ",
          "l",
          "miễn",
          "duy",
          "dàng",
          "lộn",
          "bó",
          "khô",
          "gắn",
          "lỗi",
          "sắc",
          "bẹp",
          "soạt",
          "mập",
          "trực",
          "an",
          "vít",
          "hag",
          "chổ",
          "nhắn",
          "tắc",
          "từ",
          "bút",
          "hinh",
          "đứng",
          "việc",
          "local",
          "cạn",
          "dạ",
          "chồng",
          "vết",
          "chủ",
          "nắp",
          "kêu",
          "cháo",
          "mùi",
          "xì",
          "rỉ",
          "đề",
          "đáng",
          "inch",
          "quả",
          "tắt",
          "huyết",
          "xin",
          "gang",
          "càng",
          "good",
          "ah",
          "tang",
          "tài",
          "chọn",
          "bực",
          "bề",
          "xưa",
          "gồm",
          "lí",
          "trái",
          "trơn",
          "lấy",
          "chán",
          "nhỉ",
          "hoặc",
          "cấm",
          "khắc",
          "khuôn",
          "lung",
          "cô",
          "phần"
         ],
         "type": "scatter",
         "x": [
          -6.61557149887085,
          0.024736125022172928,
          30.908777236938477,
          2.476809501647949,
          -10.210565567016602,
          14.265974998474121,
          7.928430080413818,
          16.56659698486328,
          7.534131050109863,
          4.666433811187744,
          15.997450828552246,
          -2.800163507461548,
          17.090497970581055,
          18.298891067504883,
          -7.287077903747559,
          0.7420593500137329,
          1.7135283946990967,
          17.142284393310547,
          17.458724975585938,
          -3.3852946758270264,
          9.362353324890137,
          21.399169921875,
          17.847043991088867,
          -2.339954137802124,
          12.425126075744629,
          11.849531173706055,
          -8.957429885864258,
          30.552173614501953,
          36.2543830871582,
          19.41341781616211,
          0.8410136699676514,
          -0.5032752752304077,
          0.50095534324646,
          11.616390228271484,
          9.33160400390625,
          15.228693962097168,
          5.641724109649658,
          8.758061408996582,
          29.72452163696289,
          0.5849336981773376,
          10.196937561035156,
          -2.9873812198638916,
          4.877797603607178,
          2.7891292572021484,
          -8.639280319213867,
          -9.496163368225098,
          -24.467599868774414,
          -10.669035911560059,
          -6.094844341278076,
          13.835179328918457,
          -0.3231952488422394,
          -21.199581146240234,
          -24.697368621826172,
          16.959352493286133,
          -7.769165515899658,
          14.616981506347656,
          -2.3017067909240723,
          -6.524534702301025,
          -1.873395323753357,
          -17.799726486206055,
          -17.39284896850586,
          20.184186935424805,
          0.46141690015792847,
          6.292574882507324,
          -0.9699694514274597,
          -8.212387084960938,
          -11.617738723754883,
          -1.3805642127990723,
          21.16513442993164,
          -12.401580810546875,
          -38.74577713012695,
          10.864962577819824,
          -16.95915412902832,
          15.850069999694824,
          -11.271614074707031,
          -15.549551963806152,
          -9.4611177444458,
          16.536300659179688,
          6.94234037399292,
          16.988866806030273,
          26.936838150024414,
          14.034029960632324,
          4.395897388458252,
          12.936850547790527,
          -1.1953773498535156,
          17.56893539428711,
          30.458059310913086,
          -5.180612564086914,
          14.373726844787598,
          4.571772575378418,
          -24.2263126373291,
          0.006886427756398916,
          -31.522769927978516,
          1.794965147972107,
          6.129788875579834,
          5.406637191772461,
          -0.13519980013370514,
          -7.4262542724609375,
          7.3003764152526855,
          -1.7300527095794678,
          19.81287384033203,
          -6.329558372497559,
          1.040474772453308,
          21.814716339111328,
          -23.87735366821289,
          14.932897567749023,
          -28.60198402404785,
          -6.441013813018799,
          -22.057565689086914,
          -2.4419243335723877,
          1.5747867822647095,
          -0.010449343360960484,
          6.957860946655273,
          -1.8986303806304932,
          -2.8316004276275635,
          9.616983413696289,
          -19.82510757446289,
          -28.786701202392578,
          -3.739032506942749,
          -13.460687637329102,
          21.793298721313477,
          7.260735988616943,
          19.34937858581543,
          0.14177055656909943,
          -4.389662742614746,
          -8.633338928222656,
          -5.709609031677246,
          -12.718865394592285,
          -8.665460586547852,
          9.906380653381348,
          0.37118372321128845,
          -7.8841423988342285,
          8.374855995178223,
          6.529499530792236,
          0.0034249969758093357,
          20.84921646118164,
          6.919976234436035,
          1.4103009700775146,
          -28.367889404296875,
          -37.559818267822266,
          8.50197696685791,
          19.17783546447754,
          10.060535430908203,
          8.163675308227539,
          -1.3196269273757935,
          5.171578407287598,
          -1.600132703781128,
          -21.198932647705078,
          8.553115844726562,
          -9.77043342590332,
          -9.423972129821777,
          -5.060978889465332,
          -18.11698341369629,
          10.240708351135254,
          -13.59561538696289,
          4.911709308624268,
          10.43870735168457,
          3.065620183944702,
          -15.533565521240234,
          -15.688013076782227
         ],
         "xaxis": "x",
         "y": [
          4.87347412109375,
          -57.003360748291016,
          20.38446617126465,
          -23.350069046020508,
          -53.29130172729492,
          30.537038803100586,
          7.347712993621826,
          -60.55562973022461,
          48.233123779296875,
          22.110563278198242,
          -62.94013595581055,
          -30.840620040893555,
          -34.183475494384766,
          -55.835960388183594,
          42.18498992919922,
          30.166139602661133,
          60.254547119140625,
          -54.836246490478516,
          -65.13935089111328,
          -8.949155807495117,
          -48.095577239990234,
          37.651180267333984,
          -25.83307647705078,
          -6.982454299926758,
          30.037334442138672,
          3.5044572353363037,
          -52.4184455871582,
          24.131322860717773,
          34.63804626464844,
          -52.36643600463867,
          -5.947441101074219,
          44.89634704589844,
          -57.6050910949707,
          68.03777313232422,
          -25.745071411132812,
          -28.304677963256836,
          69.79578399658203,
          18.166555404663086,
          23.734853744506836,
          -26.727113723754883,
          -8.305127143859863,
          -58.6340217590332,
          15.114781379699707,
          -10.79828929901123,
          -58.002479553222656,
          61.970008850097656,
          48.324440002441406,
          39.05453109741211,
          -11.842652320861816,
          38.92412185668945,
          48.91020965576172,
          12.748931884765625,
          -15.375350952148438,
          -54.786216735839844,
          -48.61086654663086,
          3.865070343017578,
          -3.9336466789245605,
          -47.248931884765625,
          19.234949111938477,
          -50.06522750854492,
          49.57544708251953,
          -13.268641471862793,
          -26.212730407714844,
          21.47920036315918,
          -0.8113704919815063,
          29.13370132446289,
          -58.896873474121094,
          -63.30679702758789,
          -25.52436065673828,
          42.58677673339844,
          -13.794744491577148,
          23.949750900268555,
          38.083885192871094,
          24.473007202148438,
          24.968116760253906,
          27.23410987854004,
          15.703194618225098,
          -62.844703674316406,
          -28.591167449951172,
          4.669008255004883,
          -42.68681335449219,
          -60.09062957763672,
          -5.972290515899658,
          -60.092533111572266,
          70.5248031616211,
          26.910030364990234,
          43.33364486694336,
          42.03257369995117,
          51.44445037841797,
          39.176597595214844,
          -18.69452476501465,
          62.11636734008789,
          -16.643280029296875,
          17.828275680541992,
          -10.731773376464844,
          -32.240360260009766,
          50.124000549316406,
          -61.72194290161133,
          24.11648178100586,
          25.64078140258789,
          50.07584762573242,
          24.206117630004883,
          -53.40241622924805,
          -35.06363296508789,
          48.23970413208008,
          34.59746170043945,
          -13.745945930480957,
          -60.59104537963867,
          -12.731928825378418,
          58.55921173095703,
          31.02334213256836,
          33.48091125488281,
          34.54784393310547,
          -71.82621765136719,
          -8.572202682495117,
          51.19133377075195,
          45.65029525756836,
          13.584638595581055,
          -65.44429779052734,
          -63.14283752441406,
          5.119876861572266,
          49.99538040161133,
          -24.888540267944336,
          45.8839111328125,
          31.035234451293945,
          -37.825870513916016,
          -66.20346069335938,
          -64.3546371459961,
          -58.50484848022461,
          57.1424560546875,
          -30.441120147705078,
          13.147505760192871,
          -30.691137313842773,
          46.6745491027832,
          10.609333992004395,
          -6.040966033935547,
          -0.7684720754623413,
          -26.414697647094727,
          5.8462042808532715,
          -11.543295860290527,
          -7.367819786071777,
          -23.34492301940918,
          -23.228113174438477,
          47.22407913208008,
          21.1356258392334,
          56.33805847167969,
          57.6219596862793,
          -39.11824417114258,
          -30.844280242919922,
          43.99866485595703,
          49.937232971191406,
          -42.79800033569336,
          -48.729610443115234,
          9.111392974853516,
          37.16728973388672,
          50.0080451965332,
          18.563737869262695,
          -8.961092948913574,
          -56.83757781982422,
          27.40907096862793
         ],
         "yaxis": "y"
        },
        {
         "hovertemplate": "<b>%{hovertext}</b><br><br>label=positive<br>component_1=%{x}<br>component_2=%{y}<br>freq=%{marker.size}<br>word=%{text}<extra></extra>",
         "hovertext": [
          "ghẻ",
          "huh",
          "rats",
          "nhót",
          "rú",
          "nguy",
          "melange",
          "nhơn",
          "qu",
          "sáu",
          "húc",
          "đỉnh",
          "phật",
          "tựu",
          "hẵn",
          "sếp",
          "đan",
          "ngừa",
          "eh",
          "sôi",
          "nghịch",
          "đỉm",
          "suôn",
          "cói",
          "gá",
          "xênh",
          "gon",
          "khuỷu",
          "xảy",
          "cằm",
          "nhịn",
          "đép",
          "gìn",
          "edge",
          "ts",
          "nhố",
          "khờ",
          "ngào",
          "ring",
          "nguyễn",
          "muỗi",
          "tiệc",
          "bon",
          "nhứt",
          "cảo",
          "chọi",
          "nhang",
          "nèo",
          "trồ",
          "kị",
          "lăng",
          "camera",
          "ũng",
          "ám"
         ],
         "legendgroup": "positive",
         "marker": {
          "color": "#00cc96",
          "line": {
           "color": "Gray",
           "width": 1
          },
          "size": [
           1,
           1,
           1,
           1,
           1,
           1,
           1,
           1,
           1,
           1,
           1,
           34,
           2,
           1,
           1,
           1,
           1,
           1,
           1,
           1,
           1,
           1,
           1,
           1,
           1,
           2,
           1,
           1,
           2,
           1,
           1,
           1,
           1,
           1,
           3,
           1,
           1,
           1,
           1,
           4,
           1,
           2,
           2,
           1,
           1,
           1,
           1,
           1,
           1,
           1,
           1,
           1,
           3,
           2
          ],
          "sizemode": "area",
          "sizeref": 1.3822222222222222,
          "symbol": "circle"
         },
         "mode": "markers+text",
         "name": "positive",
         "orientation": "v",
         "showlegend": true,
         "text": [
          "ghẻ",
          "huh",
          "rats",
          "nhót",
          "rú",
          "nguy",
          "melange",
          "nhơn",
          "qu",
          "sáu",
          "húc",
          "đỉnh",
          "phật",
          "tựu",
          "hẵn",
          "sếp",
          "đan",
          "ngừa",
          "eh",
          "sôi",
          "nghịch",
          "đỉm",
          "suôn",
          "cói",
          "gá",
          "xênh",
          "gon",
          "khuỷu",
          "xảy",
          "cằm",
          "nhịn",
          "đép",
          "gìn",
          "edge",
          "ts",
          "nhố",
          "khờ",
          "ngào",
          "ring",
          "nguyễn",
          "muỗi",
          "tiệc",
          "bon",
          "nhứt",
          "cảo",
          "chọi",
          "nhang",
          "nèo",
          "trồ",
          "kị",
          "lăng",
          "camera",
          "ũng",
          "ám"
         ],
         "type": "scatter",
         "x": [
          2.984816312789917,
          -30.3931941986084,
          -25.925140380859375,
          7.671587944030762,
          -11.144737243652344,
          11.731366157531738,
          -21.32794952392578,
          4.176708698272705,
          -29.613311767578125,
          -13.75888729095459,
          7.014750957489014,
          18.85793685913086,
          16.127593994140625,
          -7.234099388122559,
          27.107223510742188,
          4.938745021820068,
          5.787357807159424,
          7.834907531738281,
          -31.067153930664062,
          15.50285530090332,
          15.853898048400879,
          -4.089777946472168,
          4.8584184646606445,
          12.547648429870605,
          -7.332793235778809,
          -15.316171646118164,
          -8.223445892333984,
          13.437932014465332,
          19.685638427734375,
          14.08390998840332,
          -6.681451320648193,
          24.968921661376953,
          3.371635913848877,
          -24.934417724609375,
          -37.48670196533203,
          -8.105799674987793,
          -11.116862297058105,
          -5.5776214599609375,
          -21.663251876831055,
          0.01080535352230072,
          19.95108985900879,
          -19.826438903808594,
          -5.165740489959717,
          29.54657554626465,
          6.149053573608398,
          7.615810394287109,
          2.7948670387268066,
          7.165625095367432,
          2.5254404544830322,
          -14.988582611083984,
          26.307167053222656,
          -8.661904335021973,
          22.834142684936523,
          -19.974355697631836
         ],
         "xaxis": "x",
         "y": [
          -56.149906158447266,
          -3.7636890411376953,
          -0.42479777336120605,
          -38.14574432373047,
          -56.72553634643555,
          4.682198524475098,
          9.93857479095459,
          36.943538665771484,
          -15.566929817199707,
          -32.74957275390625,
          -35.75932693481445,
          -36.01919174194336,
          12.315272331237793,
          72.65341186523438,
          5.161593437194824,
          29.857084274291992,
          -4.6157402992248535,
          24.43620491027832,
          -11.256534576416016,
          30.408863067626953,
          -29.490802764892578,
          56.081260681152344,
          27.762134552001953,
          -51.92981719970703,
          -59.313167572021484,
          41.74998092651367,
          -8.891838073730469,
          -39.29888153076172,
          -39.70250701904297,
          22.156003952026367,
          -42.629005432128906,
          7.481879711151123,
          -50.69755172729492,
          7.0892462730407715,
          -16.66809844970703,
          44.32659912109375,
          39.54005813598633,
          -37.362449645996094,
          8.065893173217773,
          8.3881196975708,
          48.52900314331055,
          45.64482498168945,
          -13.670504570007324,
          54.0016975402832,
          -63.975868225097656,
          -40.9840202331543,
          0.726893961429596,
          -57.332523345947266,
          13.537178993225098,
          -58.167484283447266,
          29.296634674072266,
          11.771698951721191,
          2.1475069522857666,
          -60.458248138427734
         ],
         "yaxis": "y"
        }
       ],
       "layout": {
        "height": 500,
        "legend": {
         "itemsizing": "constant",
         "title": {
          "text": "label"
         },
         "tracegroupgap": 0
        },
        "template": {
         "data": {
          "bar": [
           {
            "error_x": {
             "color": "#2a3f5f"
            },
            "error_y": {
             "color": "#2a3f5f"
            },
            "marker": {
             "line": {
              "color": "white",
              "width": 0.5
             },
             "pattern": {
              "fillmode": "overlay",
              "size": 10,
              "solidity": 0.2
             }
            },
            "type": "bar"
           }
          ],
          "barpolar": [
           {
            "marker": {
             "line": {
              "color": "white",
              "width": 0.5
             },
             "pattern": {
              "fillmode": "overlay",
              "size": 10,
              "solidity": 0.2
             }
            },
            "type": "barpolar"
           }
          ],
          "carpet": [
           {
            "aaxis": {
             "endlinecolor": "#2a3f5f",
             "gridcolor": "#C8D4E3",
             "linecolor": "#C8D4E3",
             "minorgridcolor": "#C8D4E3",
             "startlinecolor": "#2a3f5f"
            },
            "baxis": {
             "endlinecolor": "#2a3f5f",
             "gridcolor": "#C8D4E3",
             "linecolor": "#C8D4E3",
             "minorgridcolor": "#C8D4E3",
             "startlinecolor": "#2a3f5f"
            },
            "type": "carpet"
           }
          ],
          "choropleth": [
           {
            "colorbar": {
             "outlinewidth": 0,
             "ticks": ""
            },
            "type": "choropleth"
           }
          ],
          "contour": [
           {
            "colorbar": {
             "outlinewidth": 0,
             "ticks": ""
            },
            "colorscale": [
             [
              0,
              "#0d0887"
             ],
             [
              0.1111111111111111,
              "#46039f"
             ],
             [
              0.2222222222222222,
              "#7201a8"
             ],
             [
              0.3333333333333333,
              "#9c179e"
             ],
             [
              0.4444444444444444,
              "#bd3786"
             ],
             [
              0.5555555555555556,
              "#d8576b"
             ],
             [
              0.6666666666666666,
              "#ed7953"
             ],
             [
              0.7777777777777778,
              "#fb9f3a"
             ],
             [
              0.8888888888888888,
              "#fdca26"
             ],
             [
              1,
              "#f0f921"
             ]
            ],
            "type": "contour"
           }
          ],
          "contourcarpet": [
           {
            "colorbar": {
             "outlinewidth": 0,
             "ticks": ""
            },
            "type": "contourcarpet"
           }
          ],
          "heatmap": [
           {
            "colorbar": {
             "outlinewidth": 0,
             "ticks": ""
            },
            "colorscale": [
             [
              0,
              "#0d0887"
             ],
             [
              0.1111111111111111,
              "#46039f"
             ],
             [
              0.2222222222222222,
              "#7201a8"
             ],
             [
              0.3333333333333333,
              "#9c179e"
             ],
             [
              0.4444444444444444,
              "#bd3786"
             ],
             [
              0.5555555555555556,
              "#d8576b"
             ],
             [
              0.6666666666666666,
              "#ed7953"
             ],
             [
              0.7777777777777778,
              "#fb9f3a"
             ],
             [
              0.8888888888888888,
              "#fdca26"
             ],
             [
              1,
              "#f0f921"
             ]
            ],
            "type": "heatmap"
           }
          ],
          "heatmapgl": [
           {
            "colorbar": {
             "outlinewidth": 0,
             "ticks": ""
            },
            "colorscale": [
             [
              0,
              "#0d0887"
             ],
             [
              0.1111111111111111,
              "#46039f"
             ],
             [
              0.2222222222222222,
              "#7201a8"
             ],
             [
              0.3333333333333333,
              "#9c179e"
             ],
             [
              0.4444444444444444,
              "#bd3786"
             ],
             [
              0.5555555555555556,
              "#d8576b"
             ],
             [
              0.6666666666666666,
              "#ed7953"
             ],
             [
              0.7777777777777778,
              "#fb9f3a"
             ],
             [
              0.8888888888888888,
              "#fdca26"
             ],
             [
              1,
              "#f0f921"
             ]
            ],
            "type": "heatmapgl"
           }
          ],
          "histogram": [
           {
            "marker": {
             "pattern": {
              "fillmode": "overlay",
              "size": 10,
              "solidity": 0.2
             }
            },
            "type": "histogram"
           }
          ],
          "histogram2d": [
           {
            "colorbar": {
             "outlinewidth": 0,
             "ticks": ""
            },
            "colorscale": [
             [
              0,
              "#0d0887"
             ],
             [
              0.1111111111111111,
              "#46039f"
             ],
             [
              0.2222222222222222,
              "#7201a8"
             ],
             [
              0.3333333333333333,
              "#9c179e"
             ],
             [
              0.4444444444444444,
              "#bd3786"
             ],
             [
              0.5555555555555556,
              "#d8576b"
             ],
             [
              0.6666666666666666,
              "#ed7953"
             ],
             [
              0.7777777777777778,
              "#fb9f3a"
             ],
             [
              0.8888888888888888,
              "#fdca26"
             ],
             [
              1,
              "#f0f921"
             ]
            ],
            "type": "histogram2d"
           }
          ],
          "histogram2dcontour": [
           {
            "colorbar": {
             "outlinewidth": 0,
             "ticks": ""
            },
            "colorscale": [
             [
              0,
              "#0d0887"
             ],
             [
              0.1111111111111111,
              "#46039f"
             ],
             [
              0.2222222222222222,
              "#7201a8"
             ],
             [
              0.3333333333333333,
              "#9c179e"
             ],
             [
              0.4444444444444444,
              "#bd3786"
             ],
             [
              0.5555555555555556,
              "#d8576b"
             ],
             [
              0.6666666666666666,
              "#ed7953"
             ],
             [
              0.7777777777777778,
              "#fb9f3a"
             ],
             [
              0.8888888888888888,
              "#fdca26"
             ],
             [
              1,
              "#f0f921"
             ]
            ],
            "type": "histogram2dcontour"
           }
          ],
          "mesh3d": [
           {
            "colorbar": {
             "outlinewidth": 0,
             "ticks": ""
            },
            "type": "mesh3d"
           }
          ],
          "parcoords": [
           {
            "line": {
             "colorbar": {
              "outlinewidth": 0,
              "ticks": ""
             }
            },
            "type": "parcoords"
           }
          ],
          "pie": [
           {
            "automargin": true,
            "type": "pie"
           }
          ],
          "scatter": [
           {
            "marker": {
             "colorbar": {
              "outlinewidth": 0,
              "ticks": ""
             }
            },
            "type": "scatter"
           }
          ],
          "scatter3d": [
           {
            "line": {
             "colorbar": {
              "outlinewidth": 0,
              "ticks": ""
             }
            },
            "marker": {
             "colorbar": {
              "outlinewidth": 0,
              "ticks": ""
             }
            },
            "type": "scatter3d"
           }
          ],
          "scattercarpet": [
           {
            "marker": {
             "colorbar": {
              "outlinewidth": 0,
              "ticks": ""
             }
            },
            "type": "scattercarpet"
           }
          ],
          "scattergeo": [
           {
            "marker": {
             "colorbar": {
              "outlinewidth": 0,
              "ticks": ""
             }
            },
            "type": "scattergeo"
           }
          ],
          "scattergl": [
           {
            "marker": {
             "colorbar": {
              "outlinewidth": 0,
              "ticks": ""
             }
            },
            "type": "scattergl"
           }
          ],
          "scattermapbox": [
           {
            "marker": {
             "colorbar": {
              "outlinewidth": 0,
              "ticks": ""
             }
            },
            "type": "scattermapbox"
           }
          ],
          "scatterpolar": [
           {
            "marker": {
             "colorbar": {
              "outlinewidth": 0,
              "ticks": ""
             }
            },
            "type": "scatterpolar"
           }
          ],
          "scatterpolargl": [
           {
            "marker": {
             "colorbar": {
              "outlinewidth": 0,
              "ticks": ""
             }
            },
            "type": "scatterpolargl"
           }
          ],
          "scatterternary": [
           {
            "marker": {
             "colorbar": {
              "outlinewidth": 0,
              "ticks": ""
             }
            },
            "type": "scatterternary"
           }
          ],
          "surface": [
           {
            "colorbar": {
             "outlinewidth": 0,
             "ticks": ""
            },
            "colorscale": [
             [
              0,
              "#0d0887"
             ],
             [
              0.1111111111111111,
              "#46039f"
             ],
             [
              0.2222222222222222,
              "#7201a8"
             ],
             [
              0.3333333333333333,
              "#9c179e"
             ],
             [
              0.4444444444444444,
              "#bd3786"
             ],
             [
              0.5555555555555556,
              "#d8576b"
             ],
             [
              0.6666666666666666,
              "#ed7953"
             ],
             [
              0.7777777777777778,
              "#fb9f3a"
             ],
             [
              0.8888888888888888,
              "#fdca26"
             ],
             [
              1,
              "#f0f921"
             ]
            ],
            "type": "surface"
           }
          ],
          "table": [
           {
            "cells": {
             "fill": {
              "color": "#EBF0F8"
             },
             "line": {
              "color": "white"
             }
            },
            "header": {
             "fill": {
              "color": "#C8D4E3"
             },
             "line": {
              "color": "white"
             }
            },
            "type": "table"
           }
          ]
         },
         "layout": {
          "annotationdefaults": {
           "arrowcolor": "#2a3f5f",
           "arrowhead": 0,
           "arrowwidth": 1
          },
          "autotypenumbers": "strict",
          "coloraxis": {
           "colorbar": {
            "outlinewidth": 0,
            "ticks": ""
           }
          },
          "colorscale": {
           "diverging": [
            [
             0,
             "#8e0152"
            ],
            [
             0.1,
             "#c51b7d"
            ],
            [
             0.2,
             "#de77ae"
            ],
            [
             0.3,
             "#f1b6da"
            ],
            [
             0.4,
             "#fde0ef"
            ],
            [
             0.5,
             "#f7f7f7"
            ],
            [
             0.6,
             "#e6f5d0"
            ],
            [
             0.7,
             "#b8e186"
            ],
            [
             0.8,
             "#7fbc41"
            ],
            [
             0.9,
             "#4d9221"
            ],
            [
             1,
             "#276419"
            ]
           ],
           "sequential": [
            [
             0,
             "#0d0887"
            ],
            [
             0.1111111111111111,
             "#46039f"
            ],
            [
             0.2222222222222222,
             "#7201a8"
            ],
            [
             0.3333333333333333,
             "#9c179e"
            ],
            [
             0.4444444444444444,
             "#bd3786"
            ],
            [
             0.5555555555555556,
             "#d8576b"
            ],
            [
             0.6666666666666666,
             "#ed7953"
            ],
            [
             0.7777777777777778,
             "#fb9f3a"
            ],
            [
             0.8888888888888888,
             "#fdca26"
            ],
            [
             1,
             "#f0f921"
            ]
           ],
           "sequentialminus": [
            [
             0,
             "#0d0887"
            ],
            [
             0.1111111111111111,
             "#46039f"
            ],
            [
             0.2222222222222222,
             "#7201a8"
            ],
            [
             0.3333333333333333,
             "#9c179e"
            ],
            [
             0.4444444444444444,
             "#bd3786"
            ],
            [
             0.5555555555555556,
             "#d8576b"
            ],
            [
             0.6666666666666666,
             "#ed7953"
            ],
            [
             0.7777777777777778,
             "#fb9f3a"
            ],
            [
             0.8888888888888888,
             "#fdca26"
            ],
            [
             1,
             "#f0f921"
            ]
           ]
          },
          "colorway": [
           "#636efa",
           "#EF553B",
           "#00cc96",
           "#ab63fa",
           "#FFA15A",
           "#19d3f3",
           "#FF6692",
           "#B6E880",
           "#FF97FF",
           "#FECB52"
          ],
          "font": {
           "color": "#2a3f5f"
          },
          "geo": {
           "bgcolor": "white",
           "lakecolor": "white",
           "landcolor": "white",
           "showlakes": true,
           "showland": true,
           "subunitcolor": "#C8D4E3"
          },
          "hoverlabel": {
           "align": "left"
          },
          "hovermode": "closest",
          "mapbox": {
           "style": "light"
          },
          "paper_bgcolor": "white",
          "plot_bgcolor": "white",
          "polar": {
           "angularaxis": {
            "gridcolor": "#EBF0F8",
            "linecolor": "#EBF0F8",
            "ticks": ""
           },
           "bgcolor": "white",
           "radialaxis": {
            "gridcolor": "#EBF0F8",
            "linecolor": "#EBF0F8",
            "ticks": ""
           }
          },
          "scene": {
           "xaxis": {
            "backgroundcolor": "white",
            "gridcolor": "#DFE8F3",
            "gridwidth": 2,
            "linecolor": "#EBF0F8",
            "showbackground": true,
            "ticks": "",
            "zerolinecolor": "#EBF0F8"
           },
           "yaxis": {
            "backgroundcolor": "white",
            "gridcolor": "#DFE8F3",
            "gridwidth": 2,
            "linecolor": "#EBF0F8",
            "showbackground": true,
            "ticks": "",
            "zerolinecolor": "#EBF0F8"
           },
           "zaxis": {
            "backgroundcolor": "white",
            "gridcolor": "#DFE8F3",
            "gridwidth": 2,
            "linecolor": "#EBF0F8",
            "showbackground": true,
            "ticks": "",
            "zerolinecolor": "#EBF0F8"
           }
          },
          "shapedefaults": {
           "line": {
            "color": "#2a3f5f"
           }
          },
          "ternary": {
           "aaxis": {
            "gridcolor": "#DFE8F3",
            "linecolor": "#A2B1C6",
            "ticks": ""
           },
           "baxis": {
            "gridcolor": "#DFE8F3",
            "linecolor": "#A2B1C6",
            "ticks": ""
           },
           "bgcolor": "white",
           "caxis": {
            "gridcolor": "#DFE8F3",
            "linecolor": "#A2B1C6",
            "ticks": ""
           }
          },
          "title": {
           "x": 0.05
          },
          "xaxis": {
           "automargin": true,
           "gridcolor": "#EBF0F8",
           "linecolor": "#EBF0F8",
           "ticks": "",
           "title": {
            "standoff": 15
           },
           "zerolinecolor": "#EBF0F8",
           "zerolinewidth": 2
          },
          "yaxis": {
           "automargin": true,
           "gridcolor": "#EBF0F8",
           "linecolor": "#EBF0F8",
           "ticks": "",
           "title": {
            "standoff": 15
           },
           "zerolinecolor": "#EBF0F8",
           "zerolinewidth": 2
          }
         }
        },
        "title": {
         "text": "Bigram similarity and frequency"
        },
        "width": 1200,
        "xaxis": {
         "anchor": "y",
         "domain": [
          0,
          1
         ],
         "title": {
          "text": "component_1"
         },
         "visible": false
        },
        "yaxis": {
         "anchor": "x",
         "domain": [
          0,
          1
         ],
         "title": {
          "text": "component_2"
         },
         "visible": false
        }
       }
      }
     },
     "metadata": {}
    }
   ],
   "metadata": {}
  },
  {
   "cell_type": "markdown",
   "source": [
    "> **Nhận xét**:\n",
    "> * Nếu bạn zoom-in vào thì bạn sẽ có thể thấy có những từ về mặt ngữ nghĩa, liên quan với nhau thì chúng thật sự ở gần nhau.\n",
    "> * Các từ phân bố đều và hợp lí hơn so với model word2vec mà ta tự build."
   ],
   "metadata": {}
  },
  {
   "cell_type": "markdown",
   "source": [
    "Tuy nhiên, tôi thấy biểu đồ 2D này còn chưa đủ, đôi khi chúng ta tham vọng hơn và tôi muốn có một góc nhìn trên không gian nhiều chiều nhất mà con người có thể cảm nhận được là 3 chiều. Lúc này thay vì giữ lại 2 trong TSNE, ta sẽ giữ lại 3 component."
   ],
   "metadata": {}
  },
  {
   "cell_type": "code",
   "execution_count": 19,
   "source": [
    "tsne_3_components = Detective.tsneGetNCompenent(vec_words, 3)\n",
    "tsne_3_components"
   ],
   "outputs": [
    {
     "output_type": "execute_result",
     "data": {
      "text/html": [
       "<div>\n",
       "<style scoped>\n",
       "    .dataframe tbody tr th:only-of-type {\n",
       "        vertical-align: middle;\n",
       "    }\n",
       "\n",
       "    .dataframe tbody tr th {\n",
       "        vertical-align: top;\n",
       "    }\n",
       "\n",
       "    .dataframe thead th {\n",
       "        text-align: right;\n",
       "    }\n",
       "</style>\n",
       "<table border=\"1\" class=\"dataframe\">\n",
       "  <thead>\n",
       "    <tr style=\"text-align: right;\">\n",
       "      <th></th>\n",
       "      <th>word</th>\n",
       "      <th>freq</th>\n",
       "      <th>ft_vec</th>\n",
       "      <th>label</th>\n",
       "      <th>component_1</th>\n",
       "      <th>component_2</th>\n",
       "      <th>component_3</th>\n",
       "    </tr>\n",
       "  </thead>\n",
       "  <tbody>\n",
       "    <tr>\n",
       "      <th>0</th>\n",
       "      <td>thèm</td>\n",
       "      <td>56</td>\n",
       "      <td>[0.12546667, 0.27063507, -0.3226054, 0.1076125...</td>\n",
       "      <td>0</td>\n",
       "      <td>12.590794</td>\n",
       "      <td>-0.150185</td>\n",
       "      <td>-16.671043</td>\n",
       "    </tr>\n",
       "    <tr>\n",
       "      <th>1</th>\n",
       "      <td>lum</td>\n",
       "      <td>35</td>\n",
       "      <td>[0.31741396, 0.60768604, -0.23061581, 0.342011...</td>\n",
       "      <td>0</td>\n",
       "      <td>-0.411150</td>\n",
       "      <td>25.275410</td>\n",
       "      <td>-8.416482</td>\n",
       "    </tr>\n",
       "    <tr>\n",
       "      <th>2</th>\n",
       "      <td>tùm</td>\n",
       "      <td>35</td>\n",
       "      <td>[0.34853685, 0.19606084, -0.22714649, 0.080849...</td>\n",
       "      <td>0</td>\n",
       "      <td>15.421918</td>\n",
       "      <td>1.829494</td>\n",
       "      <td>-28.864141</td>\n",
       "    </tr>\n",
       "    <tr>\n",
       "      <th>3</th>\n",
       "      <td>huỷ</td>\n",
       "      <td>31</td>\n",
       "      <td>[0.24349461, 0.12490517, -0.20848149, -0.01994...</td>\n",
       "      <td>0</td>\n",
       "      <td>-9.550919</td>\n",
       "      <td>12.661244</td>\n",
       "      <td>-28.711575</td>\n",
       "    </tr>\n",
       "    <tr>\n",
       "      <th>4</th>\n",
       "      <td>đểu</td>\n",
       "      <td>28</td>\n",
       "      <td>[0.08494775, 0.045489177, -0.035257675, -0.022...</td>\n",
       "      <td>0</td>\n",
       "      <td>-23.777864</td>\n",
       "      <td>17.612307</td>\n",
       "      <td>29.814354</td>\n",
       "    </tr>\n",
       "    <tr>\n",
       "      <th>...</th>\n",
       "      <td>...</td>\n",
       "      <td>...</td>\n",
       "      <td>...</td>\n",
       "      <td>...</td>\n",
       "      <td>...</td>\n",
       "      <td>...</td>\n",
       "      <td>...</td>\n",
       "    </tr>\n",
       "    <tr>\n",
       "      <th>3862</th>\n",
       "      <td>spam</td>\n",
       "      <td>2</td>\n",
       "      <td>[-0.06227298, 0.27240402, -0.012649586, 0.2511...</td>\n",
       "      <td>2</td>\n",
       "      <td>32.405300</td>\n",
       "      <td>12.683109</td>\n",
       "      <td>5.799367</td>\n",
       "    </tr>\n",
       "    <tr>\n",
       "      <th>3863</th>\n",
       "      <td>cấm</td>\n",
       "      <td>2</td>\n",
       "      <td>[0.036774382, 0.04028643, -0.031932976, 0.0316...</td>\n",
       "      <td>2</td>\n",
       "      <td>1.546993</td>\n",
       "      <td>19.951445</td>\n",
       "      <td>25.814106</td>\n",
       "    </tr>\n",
       "    <tr>\n",
       "      <th>3864</th>\n",
       "      <td>thưởng</td>\n",
       "      <td>2</td>\n",
       "      <td>[0.11008545, 0.026620911, -0.025946898, 0.0367...</td>\n",
       "      <td>2</td>\n",
       "      <td>-26.853390</td>\n",
       "      <td>14.487390</td>\n",
       "      <td>15.618331</td>\n",
       "    </tr>\n",
       "    <tr>\n",
       "      <th>3865</th>\n",
       "      <td>hững</td>\n",
       "      <td>2</td>\n",
       "      <td>[0.04788875, -0.026248291, 0.025058057, 0.0359...</td>\n",
       "      <td>2</td>\n",
       "      <td>0.855732</td>\n",
       "      <td>13.552584</td>\n",
       "      <td>42.374588</td>\n",
       "    </tr>\n",
       "    <tr>\n",
       "      <th>3866</th>\n",
       "      <td>thăm</td>\n",
       "      <td>2</td>\n",
       "      <td>[0.13048768, -0.0068094754, -0.04752696, -0.02...</td>\n",
       "      <td>2</td>\n",
       "      <td>-1.127308</td>\n",
       "      <td>-12.722267</td>\n",
       "      <td>-34.461979</td>\n",
       "    </tr>\n",
       "  </tbody>\n",
       "</table>\n",
       "<p>3867 rows × 7 columns</p>\n",
       "</div>"
      ],
      "text/plain": [
       "           word  freq                                             ft_vec  \\\n",
       "0         thèm    56  [0.12546667, 0.27063507, -0.3226054, 0.1076125...   \n",
       "1           lum    35  [0.31741396, 0.60768604, -0.23061581, 0.342011...   \n",
       "2          tùm    35  [0.34853685, 0.19606084, -0.22714649, 0.080849...   \n",
       "3          huỷ    31  [0.24349461, 0.12490517, -0.20848149, -0.01994...   \n",
       "4         đểu    28  [0.08494775, 0.045489177, -0.035257675, -0.022...   \n",
       "...         ...   ...                                                ...   \n",
       "3862       spam     2  [-0.06227298, 0.27240402, -0.012649586, 0.2511...   \n",
       "3863      cấm     2  [0.036774382, 0.04028643, -0.031932976, 0.0316...   \n",
       "3864  thưởng     2  [0.11008545, 0.026620911, -0.025946898, 0.0367...   \n",
       "3865     hững     2  [0.04788875, -0.026248291, 0.025058057, 0.0359...   \n",
       "3866      thăm     2  [0.13048768, -0.0068094754, -0.04752696, -0.02...   \n",
       "\n",
       "      label  component_1  component_2  component_3  \n",
       "0         0    12.590794    -0.150185   -16.671043  \n",
       "1         0    -0.411150    25.275410    -8.416482  \n",
       "2         0    15.421918     1.829494   -28.864141  \n",
       "3         0    -9.550919    12.661244   -28.711575  \n",
       "4         0   -23.777864    17.612307    29.814354  \n",
       "...     ...          ...          ...          ...  \n",
       "3862      2    32.405300    12.683109     5.799367  \n",
       "3863      2     1.546993    19.951445    25.814106  \n",
       "3864      2   -26.853390    14.487390    15.618331  \n",
       "3865      2     0.855732    13.552584    42.374588  \n",
       "3866      2    -1.127308   -12.722267   -34.461979  \n",
       "\n",
       "[3867 rows x 7 columns]"
      ]
     },
     "metadata": {},
     "execution_count": 19
    }
   ],
   "metadata": {}
  },
  {
   "cell_type": "code",
   "execution_count": 20,
   "source": [
    "tsne_3_components_shuffle = tsne_3_components.sample(frac=1)"
   ],
   "outputs": [],
   "metadata": {}
  },
  {
   "cell_type": "code",
   "execution_count": 21,
   "source": [
    "Detective.word3dPlot(tsne_3_components_shuffle.head(500))"
   ],
   "outputs": [],
   "metadata": {}
  },
  {
   "cell_type": "markdown",
   "source": [
    "> **Nhận xét**:\n",
    "> * Với không gian 3 chiều, ta có một cái nhìn cực kì hay ho và thú vị với dataset, nhưng cũng phải nói nó không mạng lại cho ta quá nhiều thông tin, rất có thể ở một không gian nào đó mà chúng sẽ phân cụm một cách tốt hơn, nhưng với giới hạn về mặt thị giác của con người thì chỉ được đến đây."
   ],
   "metadata": {}
  },
  {
   "cell_type": "markdown",
   "source": [],
   "metadata": {}
  }
 ],
 "metadata": {
  "orig_nbformat": 4,
  "language_info": {
   "name": "python",
   "version": "3.8.10",
   "mimetype": "text/x-python",
   "codemirror_mode": {
    "name": "ipython",
    "version": 3
   },
   "pygments_lexer": "ipython3",
   "nbconvert_exporter": "python",
   "file_extension": ".py"
  },
  "kernelspec": {
   "name": "python3",
   "display_name": "Python 3.8.10 64-bit"
  },
  "interpreter": {
   "hash": "916dbcbb3f70747c44a77c7bcd40155683ae19c65e1c03b4aa3499c5328201f1"
  }
 },
 "nbformat": 4,
 "nbformat_minor": 2
}