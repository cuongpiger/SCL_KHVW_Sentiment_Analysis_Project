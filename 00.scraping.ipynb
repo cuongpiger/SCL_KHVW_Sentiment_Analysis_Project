{
 "cells": [
  {
   "cell_type": "markdown",
   "source": [
    "* Giả sử ta cần crawl data từ nhóm **Thời Trang Nam**, ta có thể click vào nó:<br>\n",
    "  ![](images/00.png)\n",
    "* Hãy chú ý vào các vùng khoanh đỏ trong hình dưới đây, ta thấy rằng trong URL có một thuộc tính là `page=0` và trong UI ta thấy nó đang là trang **1/100**. Vậy nếu ta thay giá trị `page` này từ **[0, 99]** thì ta có thể truy cập tương ứng vào các page từ **[1:100]**.<br>\n",
    "  ![](images/01.png)\n",
    "* Hãy thử right-click vào mặt hàng đầu tiên và chọn **inspect**, ta có thể thấy được các sản phẩm này được nằm trong một HTML tag element là:\n",
    "  ```html\n",
    "  <div class=\"col-xs-2-4 shopee-search-item-result__item\" data-sqe=\"item\">\n",
    "      ...\n",
    "  </div>\n",
    "  ```\n",
    "* Chúng ta thấy rằng các sản phẩm được bọc trong thẻ các tag `<div>` mà có class là `shopee-search-item-result__item`.<br>\n",
    "  ![](images/03.png)\n",
    "* Khi ta drop-down tag `<div>` này xuống, ta có thể thấy được tag `<a>` chứa hyper-link đến trang landing-page của sản phẩm này trong attribute `href`.<br>\n",
    "  ![](images/02.png)\n",
    "* Sơ bộ là vậy, bây giờ chúng ta sẽ tiến hành lấy tất cả các hypeylink dẫn đến các trang landing-page này."
   ],
   "metadata": {}
  },
  {
   "cell_type": "code",
   "execution_count": 1,
   "source": [
    "%load_ext autoreload\n",
    "%autoreload 2"
   ],
   "outputs": [],
   "metadata": {}
  },
  {
   "cell_type": "code",
   "execution_count": 2,
   "source": [
    "import modules.crawler as Crawler"
   ],
   "outputs": [],
   "metadata": {}
  },
  {
   "cell_type": "code",
   "execution_count": 3,
   "source": [
    "product_urls = Crawler.getProductURLs(\"https://shopee.vn/Th%E1%BB%9Di-Trang-Nam-cat.11035567?page=\",\n",
    "                                      [0, 10], \"div.shopee-search-item-result__item > a\")"
   ],
   "outputs": [
    {
     "output_type": "stream",
     "name": "stdout",
     "text": [
      "8076\n",
      "8076\n",
      "7966\n",
      "1636\n",
      "1636\n",
      "5807\n",
      "1636\n",
      "960\n",
      "1636\n",
      "960\n"
     ]
    }
   ],
   "metadata": {}
  },
  {
   "cell_type": "code",
   "execution_count": 4,
   "source": [
    "product_urls[:5]"
   ],
   "outputs": [
    {
     "output_type": "execute_result",
     "data": {
      "text/plain": [
       "['https://shopee.vn/M%C5%A9-l%C6%B0%E1%BB%A1i-trai-%E2%9D%A4%EF%B8%8F-N%C3%B3n-k%E1%BA%BFt-th%C3%AAu-ch%E1%BB%AF-Memorie-phong-c%C3%A1ch-Ulzzang-form-unisex-nam-n%E1%BB%AF-N01-i.299400775.9742055201?position=0',\n",
       " 'https://shopee.vn/-M%C3%A3-MABRN7208-gi%E1%BA%A3m-10-%C4%91%C6%A1n-99k-%C3%81o-thun-Unisex-N7-Basic-Tee-ph%C3%B4ng-tr%C6%A1n-nam-n%E1%BB%AF-tay-l%E1%BB%A1-oversize-form-r%E1%BB%99ng-12-m%C3%A0u-i.257372007.3554096264?position=1',\n",
       " 'https://shopee.vn/%C3%81o-s%C6%A1-mi-nam-FEAER-ch%E1%BA%A5t-l%E1%BB%A5a-h%E1%BB%8Da-ti%E1%BA%BFt-l%C3%A1-%C4%91en-Boo-Boo-i.263713672.7041587820?position=2',\n",
       " 'https://shopee.vn/%C3%81o-Polo-nam-Leo-Vatino-v%E1%BA%A3i-Cotton-c%C3%A1-s%E1%BA%A5u-cao-c%E1%BA%A5p-xu%E1%BA%A5t-x%E1%BB%8Bn-d%E1%BB%87t-bo-d%C3%A0y-d%E1%BA%B7n-chu%E1%BA%A9n-form-%C3%A1o-thun-c%E1%BB%95-b%E1%BA%BB-tay-ng%E1%BA%AFn-Galvin-i.277678439.6039387811?position=3',\n",
       " 'https://shopee.vn/-M%C3%A3-SKAMSALE8-gi%E1%BA%A3m-10-%C4%91%C6%A1n-200K-%C3%81o-thun-nam-POLO-tr%C6%A1n-v%E1%BA%A3i-c%C3%A1-s%E1%BA%A5u-cotton-cao-c%E1%BA%A5p-ng%E1%BA%AFn-tay-c%E1%BB%B1c-sang-tr%E1%BB%8Dng-i.296694982.3448103572?position=4']"
      ]
     },
     "metadata": {},
     "execution_count": 4
    }
   ],
   "metadata": {}
  },
  {
   "cell_type": "code",
   "execution_count": 5,
   "source": [
    "len(product_urls)"
   ],
   "outputs": [
    {
     "output_type": "execute_result",
     "data": {
      "text/plain": [
       "95"
      ]
     },
     "metadata": {},
     "execution_count": 5
    }
   ],
   "metadata": {}
  },
  {
   "cell_type": "code",
   "execution_count": 6,
   "source": [
    "product_urls = [\n",
    "    \"https://shopee.vn/-M605-SET-B%E1%BB%98-TRANG-PH%E1%BB%A4C-L%E1%BB%8ACH-S%E1%BB%B0-SANG-TR%E1%BB%8CNG-CHO-NG%C6%AF%E1%BB%9CI-TRUNG-NI%C3%8AN-%C3%81O-VOAN-QU%E1%BA%A6N-C%C3%81T-H%C3%80N-THO%C3%81NG-M%C3%81T-CHO-M%C3%99A-H%C3%88-HOT-2021-i.443480495.9456560182?ads_keyword=a%CC%81o&adsid=14143076&campaignid=7782287&position=3\",\n",
    "    \"https://shopee.vn/B%E1%BB%99-Qu%E1%BA%A7n-%C3%81o-Nam-Tay-Ng%E1%BA%AFn-C%E1%BB%95-B%E1%BA%BB-%C3%81o-Khuy-C%C3%A0i-Qu%E1%BA%A7n-Short-C%C3%B3-T%C3%BAi-Ki%E1%BB%83u-D%C3%A1ng-Tr%E1%BA%BB-Trung-Th%E1%BB%9Di-Trang-Zenkonu_QANAM1000071V1-i.16580482.9540615863?position=8\"\n",
    "]"
   ],
   "outputs": [],
   "metadata": {}
  },
  {
   "cell_type": "code",
   "execution_count": 7,
   "source": [
    "product_reviews = []\n",
    "\n",
    "for idx, product_url in enumerate(product_urls):\n",
    "    new_reviews = Crawler.getProductReviews(product_url)\n",
    "    Crawler.writeToCsv(f\"./tmp/product_reviews_00/product_{idx}.csv\", new_reviews)\n",
    "    \n",
    "    product_reviews += new_reviews"
   ],
   "outputs": [],
   "metadata": {}
  },
  {
   "cell_type": "code",
   "execution_count": 9,
   "source": [
    "for review in product_reviews:\n",
    "    print(f\"{review.irating} - {review.icomment}\")"
   ],
   "outputs": [
    {
     "output_type": "execute_result",
     "data": {
      "text/plain": [
       "'Áo siêu mát luônnn í,chất đẹp lắm mua cho bà mà ưnggg hết sứcccc!!!!!!!Nên mua nhé mọi người rất hợp với ng già hoặc mua cho mẹ cũng hợp luôn😍'"
      ]
     },
     "metadata": {},
     "execution_count": 9
    }
   ],
   "metadata": {}
  },
  {
   "cell_type": "code",
   "execution_count": null,
   "source": [],
   "outputs": [],
   "metadata": {}
  },
  {
   "cell_type": "code",
   "execution_count": null,
   "source": [],
   "outputs": [],
   "metadata": {}
  }
 ],
 "metadata": {
  "orig_nbformat": 4,
  "language_info": {
   "name": "python",
   "version": "3.8.10",
   "mimetype": "text/x-python",
   "codemirror_mode": {
    "name": "ipython",
    "version": 3
   },
   "pygments_lexer": "ipython3",
   "nbconvert_exporter": "python",
   "file_extension": ".py"
  },
  "kernelspec": {
   "name": "python3",
   "display_name": "Python 3.8.10 64-bit"
  },
  "interpreter": {
   "hash": "31f2aee4e71d21fbe5cf8b01ff0e069b9275f58929596ceb00d14d90e3e16cd6"
  }
 },
 "nbformat": 4,
 "nbformat_minor": 2
}