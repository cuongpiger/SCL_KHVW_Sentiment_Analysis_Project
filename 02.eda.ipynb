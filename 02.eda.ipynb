{
 "cells": [
  {
   "cell_type": "code",
   "execution_count": 14,
   "source": [
    "%load_ext autoreload\n",
    "%autoreload 2"
   ],
   "outputs": [
    {
     "output_type": "stream",
     "name": "stdout",
     "text": [
      "The autoreload extension is already loaded. To reload it, use:\n",
      "  %reload_ext autoreload\n"
     ]
    }
   ],
   "metadata": {}
  },
  {
   "cell_type": "markdown",
   "source": [
    "Import dependencies packages of Python"
   ],
   "metadata": {}
  },
  {
   "cell_type": "code",
   "execution_count": 15,
   "source": [
    "import modules.eda as Detective\n",
    "import pandas as pd\n",
    "import warnings\n",
    "\n",
    "warnings.filterwarnings('ignore')"
   ],
   "outputs": [],
   "metadata": {}
  },
  {
   "cell_type": "markdown",
   "source": [
    "Đọc dữ liệu từ project 1."
   ],
   "metadata": {}
  },
  {
   "cell_type": "code",
   "execution_count": 16,
   "source": [
    "reviews = pd.read_csv(\"./data/normalize_reviews.csv\").fillna(\"\")"
   ],
   "outputs": [],
   "metadata": {}
  },
  {
   "cell_type": "code",
   "execution_count": 17,
   "source": [
    "reviews.head()"
   ],
   "outputs": [
    {
     "output_type": "execute_result",
     "data": {
      "text/html": [
       "<div>\n",
       "<style scoped>\n",
       "    .dataframe tbody tr th:only-of-type {\n",
       "        vertical-align: middle;\n",
       "    }\n",
       "\n",
       "    .dataframe tbody tr th {\n",
       "        vertical-align: top;\n",
       "    }\n",
       "\n",
       "    .dataframe thead th {\n",
       "        text-align: right;\n",
       "    }\n",
       "</style>\n",
       "<table border=\"1\" class=\"dataframe\">\n",
       "  <thead>\n",
       "    <tr style=\"text-align: right;\">\n",
       "      <th></th>\n",
       "      <th>raw_comment</th>\n",
       "      <th>label</th>\n",
       "      <th>normalize_comment</th>\n",
       "      <th>emoji</th>\n",
       "    </tr>\n",
       "  </thead>\n",
       "  <tbody>\n",
       "    <tr>\n",
       "      <th>0</th>\n",
       "      <td>Giao hàng kh đúng cần phê bình hjjjjjhhd...</td>\n",
       "      <td>0</td>\n",
       "      <td>giao hàng không đúng cần phê bình</td>\n",
       "      <td></td>\n",
       "    </tr>\n",
       "    <tr>\n",
       "      <th>1</th>\n",
       "      <td>Chất lượng sản phẩm tạm được. Giao...</td>\n",
       "      <td>0</td>\n",
       "      <td>chất lượng sản phẩm tạm được giao ...</td>\n",
       "      <td></td>\n",
       "    </tr>\n",
       "    <tr>\n",
       "      <th>2</th>\n",
       "      <td>Ko có lắc tay như hình</td>\n",
       "      <td>0</td>\n",
       "      <td>không có lắc tay như hình</td>\n",
       "      <td></td>\n",
       "    </tr>\n",
       "    <tr>\n",
       "      <th>3</th>\n",
       "      <td>Giao hàng lâu. Bảo có lắc tay mà k thâ...</td>\n",
       "      <td>0</td>\n",
       "      <td>giao hàng lâu bảo có lắc tay mà không ...</td>\n",
       "      <td></td>\n",
       "    </tr>\n",
       "    <tr>\n",
       "      <th>4</th>\n",
       "      <td>Mình mua 2 cái, một dùng ok. Một cái k...</td>\n",
       "      <td>0</td>\n",
       "      <td>mua cái một dùng ok một cái không chạ...</td>\n",
       "      <td>😢</td>\n",
       "    </tr>\n",
       "  </tbody>\n",
       "</table>\n",
       "</div>"
      ],
      "text/plain": [
       "                                         raw_comment  label  \\\n",
       "0  Giao hàng kh đúng cần phê bình hjjjjjhhd...      0   \n",
       "1  Chất lượng sản phẩm tạm được. Giao...      0   \n",
       "2                        Ko có lắc tay như hình      0   \n",
       "3  Giao hàng lâu. Bảo có lắc tay mà k thâ...      0   \n",
       "4  Mình mua 2 cái, một dùng ok. Một cái k...      0   \n",
       "\n",
       "                                   normalize_comment emoji  \n",
       "0           giao hàng không đúng cần phê bình        \n",
       "1  chất lượng sản phẩm tạm được giao ...        \n",
       "2                    không có lắc tay như hình        \n",
       "3  giao hàng lâu bảo có lắc tay mà không ...        \n",
       "4  mua cái một dùng ok một cái không chạ...     😢  "
      ]
     },
     "metadata": {},
     "execution_count": 17
    }
   ],
   "metadata": {}
  },
  {
   "cell_type": "markdown",
   "source": [
    "Bây giờ ta sẽ tạo ra hai feature có tên là:\n",
    "* `length`: là chiều dài của feature `normalize_comment`.\n",
    "* `no_words`: là số từ của feature `normalize_comment`.  "
   ],
   "metadata": {}
  },
  {
   "cell_type": "code",
   "execution_count": 18,
   "source": [
    "reviews['length'] = reviews['normalize_comment'].str.len()\n",
    "reviews['no_words'] = reviews['normalize_comment'].str.split(\" \").agg([len])"
   ],
   "outputs": [],
   "metadata": {}
  },
  {
   "cell_type": "code",
   "execution_count": 19,
   "source": [
    "reviews.head()"
   ],
   "outputs": [
    {
     "output_type": "execute_result",
     "data": {
      "text/html": [
       "<div>\n",
       "<style scoped>\n",
       "    .dataframe tbody tr th:only-of-type {\n",
       "        vertical-align: middle;\n",
       "    }\n",
       "\n",
       "    .dataframe tbody tr th {\n",
       "        vertical-align: top;\n",
       "    }\n",
       "\n",
       "    .dataframe thead th {\n",
       "        text-align: right;\n",
       "    }\n",
       "</style>\n",
       "<table border=\"1\" class=\"dataframe\">\n",
       "  <thead>\n",
       "    <tr style=\"text-align: right;\">\n",
       "      <th></th>\n",
       "      <th>raw_comment</th>\n",
       "      <th>label</th>\n",
       "      <th>normalize_comment</th>\n",
       "      <th>emoji</th>\n",
       "      <th>length</th>\n",
       "      <th>no_words</th>\n",
       "    </tr>\n",
       "  </thead>\n",
       "  <tbody>\n",
       "    <tr>\n",
       "      <th>0</th>\n",
       "      <td>Giao hàng kh đúng cần phê bình hjjjjjhhd...</td>\n",
       "      <td>0</td>\n",
       "      <td>giao hàng không đúng cần phê bình</td>\n",
       "      <td></td>\n",
       "      <td>40</td>\n",
       "      <td>7</td>\n",
       "    </tr>\n",
       "    <tr>\n",
       "      <th>1</th>\n",
       "      <td>Chất lượng sản phẩm tạm được. Giao...</td>\n",
       "      <td>0</td>\n",
       "      <td>chất lượng sản phẩm tạm được giao ...</td>\n",
       "      <td></td>\n",
       "      <td>79</td>\n",
       "      <td>13</td>\n",
       "    </tr>\n",
       "    <tr>\n",
       "      <th>2</th>\n",
       "      <td>Ko có lắc tay như hình</td>\n",
       "      <td>0</td>\n",
       "      <td>không có lắc tay như hình</td>\n",
       "      <td></td>\n",
       "      <td>31</td>\n",
       "      <td>6</td>\n",
       "    </tr>\n",
       "    <tr>\n",
       "      <th>3</th>\n",
       "      <td>Giao hàng lâu. Bảo có lắc tay mà k thâ...</td>\n",
       "      <td>0</td>\n",
       "      <td>giao hàng lâu bảo có lắc tay mà không ...</td>\n",
       "      <td></td>\n",
       "      <td>151</td>\n",
       "      <td>28</td>\n",
       "    </tr>\n",
       "    <tr>\n",
       "      <th>4</th>\n",
       "      <td>Mình mua 2 cái, một dùng ok. Một cái k...</td>\n",
       "      <td>0</td>\n",
       "      <td>mua cái một dùng ok một cái không chạ...</td>\n",
       "      <td>😢</td>\n",
       "      <td>55</td>\n",
       "      <td>10</td>\n",
       "    </tr>\n",
       "  </tbody>\n",
       "</table>\n",
       "</div>"
      ],
      "text/plain": [
       "                                         raw_comment  label  \\\n",
       "0  Giao hàng kh đúng cần phê bình hjjjjjhhd...      0   \n",
       "1  Chất lượng sản phẩm tạm được. Giao...      0   \n",
       "2                        Ko có lắc tay như hình      0   \n",
       "3  Giao hàng lâu. Bảo có lắc tay mà k thâ...      0   \n",
       "4  Mình mua 2 cái, một dùng ok. Một cái k...      0   \n",
       "\n",
       "                                   normalize_comment emoji  length  no_words  \n",
       "0           giao hàng không đúng cần phê bình            40         7  \n",
       "1  chất lượng sản phẩm tạm được giao ...            79        13  \n",
       "2                    không có lắc tay như hình            31         6  \n",
       "3  giao hàng lâu bảo có lắc tay mà không ...           151        28  \n",
       "4  mua cái một dùng ok một cái không chạ...     😢      55        10  "
      ]
     },
     "metadata": {},
     "execution_count": 19
    }
   ],
   "metadata": {}
  },
  {
   "cell_type": "markdown",
   "source": [
    "Bây giờ chúng ta sẽ sắp xếp lại thứ tự của các feature trong `reviews`."
   ],
   "metadata": {}
  },
  {
   "cell_type": "code",
   "execution_count": 20,
   "source": [
    "reviews = reviews[['raw_comment', 'normalize_comment', 'length', 'no_words', 'emoji', 'label']]"
   ],
   "outputs": [],
   "metadata": {}
  },
  {
   "cell_type": "code",
   "execution_count": 21,
   "source": [
    "reviews.head()"
   ],
   "outputs": [
    {
     "output_type": "execute_result",
     "data": {
      "text/html": [
       "<div>\n",
       "<style scoped>\n",
       "    .dataframe tbody tr th:only-of-type {\n",
       "        vertical-align: middle;\n",
       "    }\n",
       "\n",
       "    .dataframe tbody tr th {\n",
       "        vertical-align: top;\n",
       "    }\n",
       "\n",
       "    .dataframe thead th {\n",
       "        text-align: right;\n",
       "    }\n",
       "</style>\n",
       "<table border=\"1\" class=\"dataframe\">\n",
       "  <thead>\n",
       "    <tr style=\"text-align: right;\">\n",
       "      <th></th>\n",
       "      <th>raw_comment</th>\n",
       "      <th>normalize_comment</th>\n",
       "      <th>length</th>\n",
       "      <th>no_words</th>\n",
       "      <th>emoji</th>\n",
       "      <th>label</th>\n",
       "    </tr>\n",
       "  </thead>\n",
       "  <tbody>\n",
       "    <tr>\n",
       "      <th>0</th>\n",
       "      <td>Giao hàng kh đúng cần phê bình hjjjjjhhd...</td>\n",
       "      <td>giao hàng không đúng cần phê bình</td>\n",
       "      <td>40</td>\n",
       "      <td>7</td>\n",
       "      <td></td>\n",
       "      <td>0</td>\n",
       "    </tr>\n",
       "    <tr>\n",
       "      <th>1</th>\n",
       "      <td>Chất lượng sản phẩm tạm được. Giao...</td>\n",
       "      <td>chất lượng sản phẩm tạm được giao ...</td>\n",
       "      <td>79</td>\n",
       "      <td>13</td>\n",
       "      <td></td>\n",
       "      <td>0</td>\n",
       "    </tr>\n",
       "    <tr>\n",
       "      <th>2</th>\n",
       "      <td>Ko có lắc tay như hình</td>\n",
       "      <td>không có lắc tay như hình</td>\n",
       "      <td>31</td>\n",
       "      <td>6</td>\n",
       "      <td></td>\n",
       "      <td>0</td>\n",
       "    </tr>\n",
       "    <tr>\n",
       "      <th>3</th>\n",
       "      <td>Giao hàng lâu. Bảo có lắc tay mà k thâ...</td>\n",
       "      <td>giao hàng lâu bảo có lắc tay mà không ...</td>\n",
       "      <td>151</td>\n",
       "      <td>28</td>\n",
       "      <td></td>\n",
       "      <td>0</td>\n",
       "    </tr>\n",
       "    <tr>\n",
       "      <th>4</th>\n",
       "      <td>Mình mua 2 cái, một dùng ok. Một cái k...</td>\n",
       "      <td>mua cái một dùng ok một cái không chạ...</td>\n",
       "      <td>55</td>\n",
       "      <td>10</td>\n",
       "      <td>😢</td>\n",
       "      <td>0</td>\n",
       "    </tr>\n",
       "  </tbody>\n",
       "</table>\n",
       "</div>"
      ],
      "text/plain": [
       "                                         raw_comment  \\\n",
       "0  Giao hàng kh đúng cần phê bình hjjjjjhhd...   \n",
       "1  Chất lượng sản phẩm tạm được. Giao...   \n",
       "2                        Ko có lắc tay như hình   \n",
       "3  Giao hàng lâu. Bảo có lắc tay mà k thâ...   \n",
       "4  Mình mua 2 cái, một dùng ok. Một cái k...   \n",
       "\n",
       "                                   normalize_comment  length  no_words emoji  \\\n",
       "0           giao hàng không đúng cần phê bình      40         7         \n",
       "1  chất lượng sản phẩm tạm được giao ...      79        13         \n",
       "2                    không có lắc tay như hình      31         6         \n",
       "3  giao hàng lâu bảo có lắc tay mà không ...     151        28         \n",
       "4  mua cái một dùng ok một cái không chạ...      55        10     😢   \n",
       "\n",
       "   label  \n",
       "0      0  \n",
       "1      0  \n",
       "2      0  \n",
       "3      0  \n",
       "4      0  "
      ]
     },
     "metadata": {},
     "execution_count": 21
    }
   ],
   "metadata": {}
  },
  {
   "cell_type": "markdown",
   "source": [
    "Mặc dù ở project 1 chúng ta đã biết khá rõ ta đã làm mọi thử để ta có một dataset mà **cân bằng về số lượng observe ở các class**. Mặc dù vậy ta có thể trực quan hóa về số lượng các sample trong từng class của dataset này lên một biểu đồ nào đó. Vì ta chỉ có 2 class là **negative** và **positive** - nên pie chart sẽ là một biểu đồ lí tưởng để làm điều này."
   ],
   "metadata": {}
  },
  {
   "cell_type": "code",
   "execution_count": 22,
   "source": [
    "Detective.pieChart(reviews)"
   ],
   "outputs": [
    {
     "output_type": "display_data",
     "data": {
      "image/png": "[encoded data removed]",
      "text/plain": [
       "<Figure size 504x504 with 1 Axes>"
      ]
     },
     "metadata": {}
    }
   ],
   "metadata": {}
  },
  {
   "cell_type": "markdown",
   "source": [
    "**Nhận xét**:\n",
    "* Vì dữ liệu của ta ở project 1 ta đã làm nó có sự cân bằng giữa hai class, và với dataset này cũng chỉ có 2 class trong target variable nên ta chưa thấy được lợi ích của quá trình data visualization, nếu target variable của chúng ta có nhiều class hơn thì pie chart giúp ta thấy được class nào đang áp đảo các class nào hơn về mặt số lượng, tỉ lệ giữa các class - điều mà nếu chỉ nhìn bằng các con số ta đôi khi khó mường tượng và rất mơ hồ."
   ],
   "metadata": {}
  },
  {
   "cell_type": "markdown",
   "source": [
    "* Tiếp theo, chúng ta cũng cần đặt câu hỏi: \"Liệu giữa negative và positive class, khách hàng của class nào có xu hướng sử dụng comment trong phần bình luận của họ hơn?\".\n",
    "* Vì ở đây, chúng ta đang **quan tâm về số lượng** nên bar chart là một biểu đồ đủ tốt để ta trực quan hóa được điều này."
   ],
   "metadata": {}
  },
  {
   "cell_type": "code",
   "execution_count": 23,
   "source": [
    "Detective.emojiClassBarplot(reviews)"
   ],
   "outputs": [
    {
     "output_type": "display_data",
     "data": {
      "image/png": "[encoded data removed]",
      "text/plain": [
       "<Figure size 720x720 with 1 Axes>"
      ]
     },
     "metadata": {
      "needs_background": "light"
     }
    }
   ],
   "metadata": {}
  },
  {
   "cell_type": "markdown",
   "source": [
    "> **Nhận xét**\n",
    "> * Có thể thấy rằng số khách hàng thuộc nhóm positive có xu hướng sử dụng comment nhiều hơn trong comment của họ so với khách hàng nhóm negative, tuy nhiên khác biệt này cũng không quá lớn.\n",
    "> * Ngoài ra, ta có thể thấy khách hàng trên shopee đa phần cũng sẽ không sử dụng emoji trong comment của mình cho lắm. Điển hình với khách hàng nhóm nagative, tỉ lệ khách hàng có dùng emoji trong comment của mình chỉ khoảng từ $(5, 7)$ phần trăm. Ở nhóm positive là khoảng $(10, 13)$ phần trăm."
   ],
   "metadata": {}
  },
  {
   "cell_type": "markdown",
   "source": [
    "Tiếp theo, ta có thể xem phân phối của feature `length` để xem giữa class **negative** và **positive** có điểm gì khác nhau. "
   ],
   "metadata": {}
  },
  {
   "cell_type": "code",
   "execution_count": 24,
   "source": [
    "Detective.lengthDistplot(reviews)"
   ],
   "outputs": [
    {
     "output_type": "display_data",
     "data": {
      "image/png": "[encoded data removed]",
      "text/plain": [
       "<Figure size 720x504 with 1 Axes>"
      ]
     },
     "metadata": {
      "needs_background": "light"
     }
    }
   ],
   "metadata": {}
  },
  {
   "cell_type": "markdown",
   "source": [
    "> **Nhận xét**:\n",
    "> * Các khách hàng thuộc nhóm negative thông thường có chiều dài comment nằm trong khoảng từ 25 đến 80.\n",
    "> * Trong khi đó, các khách hàng nhóm positive thì thường có bình luận dài hơn so với nhóm negative, thường nằm trong khoảng từ 40 đến 130.\n",
    "> * MỘt điều nữa là khách hàng nhóm positive không chỉ comment dài hơn mà còn có mật độ tập trung cao hơn.\n",
    "> * Tuy nhiên vẫn có các comment mà có chiều dài chạm mốc hơn 300, liệu chúng có phải outlier do qua trình tiền xử lí ta làm không tốt không, bước dưới đây ta sẽ nhìn kĩ vào hơn các sample này."
   ],
   "metadata": {}
  },
  {
   "cell_type": "markdown",
   "source": [
    "Ở bước này, ta sẽ xem các comment mà có chiều dài lớn hơn 300, xem chúng có phải là outlier hay noise không."
   ],
   "metadata": {}
  },
  {
   "cell_type": "code",
   "execution_count": 49,
   "source": [
    "cmt_gt_300 = reviews.loc[reviews[reviews['length'] > 300].index]['normalize_comment']\n",
    "\n",
    "len(cmt_gt_300)"
   ],
   "outputs": [
    {
     "output_type": "execute_result",
     "data": {
      "text/plain": [
       "234"
      ]
     },
     "metadata": {},
     "execution_count": 49
    }
   ],
   "metadata": {}
  },
  {
   "cell_type": "code",
   "execution_count": 52,
   "source": [
    "for cmt in cmt_gt_300[:10]:\n",
    "    print(cmt, \"\\n\")"
   ],
   "outputs": [
    {
     "output_type": "stream",
     "name": "stdout",
     "text": [
      "hàng không như hình mẫu trong mẫu viền mặt đồng hồ màu vàng nhưng mua về màu bạc có vết sứt to dây đồng hồ mỏng manh giao hàng siêu siêu chậm điểm cộng là màu trắng ở mặt đéo hiểu rất trắng rất mới kết hợp dây màu đen tuyền rất hợp lí cả giá rẻ nên tạm chấp nhận \n",
      "\n",
      "không trung thực nhìn thấy địa chỉ là nên mới đặt vì thực sự cần gấp đồ cũng gọi điện trực tiếp nhờ giục giao gửi đồ từ kho tb nhưng khẳng định là gửi từ kho thanh xuân nhờ cả bên bưu cục check mã đơn hàng tự lấy còn không thèm rep dịch vụ kém \n",
      "\n",
      "mua chiếc khác nhau chiếc ok rất ưng nhưng chiếc lắm khá thất vọng trước cũng đặt bên lần chiếc y bây giờ mua tiếp nhưng màu dây khá đậm đen bóng xấu còn phần dây cài có mỗi dây cài trong dây cài bé quá không cài được luôn cố nhét vô đứt luôn dây \n",
      "\n",
      "ổn có lẽ hợp giá có bùa yêu thẻ bảo hành mùi không hắc không ổn nhiều chỉ thừa cặp bẩn ở chỗ chất vải mỏng quai đeo yếu thẻ bảo hành nhưng có tác dụng như nào p xem vì không feedback không như mong muốn bùa yêu mà sản phẩm như ai yêu nổi \n",
      "\n",
      "chất lượng tớ còn buồn thực sự vì mua tặng nên thông tin người nhận là bạn tớ bạn nhận được tin kia nghĩ gọi từ chối là được nhưng bên ship gần như ép bạn nhận hàng không thích tự hoàn nhắn không được biết là ngu nhưng phiền quá nên bạn nhận cho xong \n",
      "\n",
      "đặt bò nhạt nhưng hết nên đành phải chọn nâu ở ngoài nhìn đậm hơn trên hình già không hài lòng báo hết màu thích nói có thể chờ nhưng nói phải giao hàng không huỷ đợi tuần sau hàng về đặt nhưng nếu đợi đặt giá không tốt thấy không được hỗ trợ tốt \n",
      "\n",
      "chưa bao giờ phải cho bán hàng cả cũng chưa bao giờ phải đợi đến ngày cho việc mua sản phẩm trên nhưng mang tiếng mà làm ăn dịch vụ cực kì kém chất lượng sản phẩm cũng bình thường tiền nào của ấy các bạn nhé đóng gói kém đi xa bong cả túi ngoài chán \n",
      "\n",
      "quá kinh khủng túi ngoài có xác gián phân huỷ vừa mốc vừa thối bẩn cả nhà cả tay giặt xà phòng mà vẫn còn thối trong rách không kiểm tra hàng bên ngoài lẫn trong đừng giải thích sai sót vì trăm ngàn đơn được quyền sai sót bán hàng có lấy sót đồng tiền nào không \n",
      "\n",
      "sản phẩm ok không tốt có xin thêm túi làm quà nói lu bu không được ok có thể cảm việc sản phẩm mới không có nhãn mác rất bực mua làm quà mà không nhãn mác không túi hãng fan hồi đọc mà không thèm trả lời luôn biết không nhãn mác là chắc chắn không mua sản phẩm \n",
      "\n",
      "thấy mọi người khá thích áo vì vải dày dặn mát nhưng riêng cá nhân thấy mỏng có thể là lộ nội y mờ xí không như mong đợi lắm vì bỏ ra không mua cái áo mong muốn chất lượng tốt như giá tiền còn dấu là thêu khá thích cách đóng gói ok chất áo cân nhắc \n",
      "\n"
     ]
    }
   ],
   "metadata": {}
  },
  {
   "cell_type": "markdown",
   "source": [
    "> **Nhận xét**:\n",
    "> * Có lẽ là do ta suy nghĩ quá nhiều, dù có đến hơn 200 bình luận có chiều dài hơn 300 nhưng những bình luận này mang lại cho ta nhiều thông tin hơn là các bình luận thuộc nhóm có mật độ cao mà ta đã làm bước trước."
   ],
   "metadata": {}
  },
  {
   "cell_type": "markdown",
   "source": [
    "Bước trước ta đã minh họa một distribution plot trên feature `length`, bước này ta có thể sử dụng histogram để biểu diễn frequency của feature `no_words` trong các comment, nghe có vẻ dư thừa vì số từ nhiều đồng nghĩa với việc câu sẽ dài ra. Nhưng với một dữ liệu mà ta chỉ mới tiếp xúc lần đầu, mọi thao tác xử lí trên nó đều có giá trị, biết đâu sẽ cho ta có được nhiều các nhìn hơn về dữ liệu hiện có.\n",
    "Tuy nhiên, ta cũng cần lưu ý, vì câu của ta có chiều dài đa phần nằm trong khoảng từ 25 đến 130, nên ta cần phải chọn một **bin value** phù hợp, ở đây ta sẽ thử với bin 30."
   ],
   "metadata": {}
  },
  {
   "cell_type": "code",
   "execution_count": 53,
   "source": [
    "Detective.noWordsFrequency(reviews)"
   ],
   "outputs": [
    {
     "output_type": "display_data",
     "data": {
      "image/png": "[encoded data removed]",
      "text/plain": [
       "<Figure size 1440x504 with 2 Axes>"
      ]
     },
     "metadata": {
      "needs_background": "light"
     }
    }
   ],
   "metadata": {}
  },
  {
   "cell_type": "markdown",
   "source": [
    "> **Nhận xét**:\n",
    "> * Nhóm khách hàng negative thường dùng khoảng từ 5 đến 15 từ trong một bình luận, frequency là 600.\n",
    "> * Nhóm khách hàng positive thường dùng khoảng 8 đến 18 từ trong một bình luận với frequency cao hơn là 800, đặc biệt họ thường dùng khoảng 15 từ để bình luận với frequency chạm mốc hơn 1400.\n",
    "> * Nhìn chung, các từ tiếng việt phổ biến thường trong khoảng 4 kí tự, vậy chiều dài trung bình của một bình luận nếu ta tính một cách ước chừng là $4 * 10 + 9 = 49$. Khi ta xem lại distribution plot mà ta đã vẽ cho feature `length`, ta thấy được hai đường **KDE** cắt nhau lần đầu cũng tại `length` có giá trị đâu đó nằm loanh quanh 50.\n",
    "> * Từ đây thì với tiếng việt, suy nghĩ của ta ban đầu là từ nhiều thì câu dài cũng có phần chính xác. Với các ngôn ngữ khác, điều này có thể không còn đúng nữa, trong tiếng việt từ dài nhất là **nghiêng** với 7 kí tự và ngắn nhất là **ba** với 2 kí tự, trong khi đó với các ngôn ngữ khác như tiếng anh có từ lên đến 45 kí tự là \"**Pneumonoultramicroscopicsilicovolcanoconiosis**\" chỉ dùng để chỉ một căn bệnh về phổi, ngoài ra ta cũng có thể tìm hiểu về độ dài trung bình của các từ trong các ngôn ngữ khác nhau ở đây [http://www.ravi.io/language-word-lengths](http://www.ravi.io/language-word-lengths)."
   ],
   "metadata": {}
  },
  {
   "cell_type": "markdown",
   "source": [
    "Ở các bước trên, ta dùng phương pháp visualization phân tích dữ liệu theo từng class positive và negative riêng biệt. Nếu ta muốn xem toàn bộ bức tranh, không phân biệt negative hay positive, thì ta có thể áp dụng các phương pháp của thống kê mô tả trên hai feature là `length` và `no_words` bằng hàm `describe()`."
   ],
   "metadata": {}
  },
  {
   "cell_type": "code",
   "execution_count": 55,
   "source": [
    "reviews[['length', 'no_words']].describe()"
   ],
   "outputs": [
    {
     "output_type": "execute_result",
     "data": {
      "text/html": [
       "<div>\n",
       "<style scoped>\n",
       "    .dataframe tbody tr th:only-of-type {\n",
       "        vertical-align: middle;\n",
       "    }\n",
       "\n",
       "    .dataframe tbody tr th {\n",
       "        vertical-align: top;\n",
       "    }\n",
       "\n",
       "    .dataframe thead th {\n",
       "        text-align: right;\n",
       "    }\n",
       "</style>\n",
       "<table border=\"1\" class=\"dataframe\">\n",
       "  <thead>\n",
       "    <tr style=\"text-align: right;\">\n",
       "      <th></th>\n",
       "      <th>length</th>\n",
       "      <th>no_words</th>\n",
       "    </tr>\n",
       "  </thead>\n",
       "  <tbody>\n",
       "    <tr>\n",
       "      <th>count</th>\n",
       "      <td>14206.000000</td>\n",
       "      <td>14206.000000</td>\n",
       "    </tr>\n",
       "    <tr>\n",
       "      <th>mean</th>\n",
       "      <td>88.684922</td>\n",
       "      <td>16.200831</td>\n",
       "    </tr>\n",
       "    <tr>\n",
       "      <th>std</th>\n",
       "      <td>62.465665</td>\n",
       "      <td>11.249186</td>\n",
       "    </tr>\n",
       "    <tr>\n",
       "      <th>min</th>\n",
       "      <td>1.000000</td>\n",
       "      <td>1.000000</td>\n",
       "    </tr>\n",
       "    <tr>\n",
       "      <th>25%</th>\n",
       "      <td>46.000000</td>\n",
       "      <td>9.000000</td>\n",
       "    </tr>\n",
       "    <tr>\n",
       "      <th>50%</th>\n",
       "      <td>76.000000</td>\n",
       "      <td>14.000000</td>\n",
       "    </tr>\n",
       "    <tr>\n",
       "      <th>75%</th>\n",
       "      <td>110.000000</td>\n",
       "      <td>20.000000</td>\n",
       "    </tr>\n",
       "    <tr>\n",
       "      <th>max</th>\n",
       "      <td>395.000000</td>\n",
       "      <td>79.000000</td>\n",
       "    </tr>\n",
       "  </tbody>\n",
       "</table>\n",
       "</div>"
      ],
      "text/plain": [
       "             length      no_words\n",
       "count  14206.000000  14206.000000\n",
       "mean      88.684922     16.200831\n",
       "std       62.465665     11.249186\n",
       "min        1.000000      1.000000\n",
       "25%       46.000000      9.000000\n",
       "50%       76.000000     14.000000\n",
       "75%      110.000000     20.000000\n",
       "max      395.000000     79.000000"
      ]
     },
     "metadata": {},
     "execution_count": 55
    }
   ],
   "metadata": {}
  },
  {
   "cell_type": "markdown",
   "source": [
    "> **Nhận xét**:\n",
    "> * Ta thấy rằng bình luận có `length` ngắn nhất là 1, tôi cũng không biết từ tiếng việt nào có 1 kí tự nữa, dài nhất là 395, trung bình là khoảng 88. Mọi thứ đều hợp lí với biểu đồ distribution mà ta vẽ cho từng class riêng biệt.\n",
    "> * Ở feature `no_words`, thì bình luận có nhiều từ nhất là 79 từ với trung bình là 16 từ cho một bình luận.\n",
    "> * Ở đây, không cần trực quan hóa mà chỉ cần nhìn vào số liệu, ta rõ ràng thấy được cả `length` và `no_words` đều có phân phối lệch phải _(right-skewed)_. Tuy nhiên, bài toán của ta là sentiment analysis, ta quan tâm hơn về mặt ngữ nghĩa từ ngôn ngữ - cấu trúc câu hơn là số liệu thống kê. Giả sử đây là bài toán hồi quy, thì ta có thể áp dụng **log-transformation** để giảm độ lệch phải của dữ liệu.\n",
    "\n",
    "![](./images/08.gif)"
   ],
   "metadata": {}
  },
  {
   "cell_type": "markdown",
   "source": [],
   "metadata": {}
  }
 ],
 "metadata": {
  "orig_nbformat": 4,
  "language_info": {
   "name": "python",
   "version": "3.6.8",
   "mimetype": "text/x-python",
   "codemirror_mode": {
    "name": "ipython",
    "version": 3
   },
   "pygments_lexer": "ipython3",
   "nbconvert_exporter": "python",
   "file_extension": ".py"
  },
  "kernelspec": {
   "name": "python3",
   "display_name": "Python 3.6.8 64-bit ('python3.6': conda)"
  },
  "interpreter": {
   "hash": "2cade657992b47716e26d0a9b1443bfbca37741f9a577328e2d148cb3e78348d"
  }
 },
 "nbformat": 4,
 "nbformat_minor": 2
}