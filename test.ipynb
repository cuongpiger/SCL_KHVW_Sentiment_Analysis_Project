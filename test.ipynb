{
 "cells": [
  {
   "cell_type": "code",
   "execution_count": 31,
   "source": [
    "%load_ext autoreload\n",
    "%autoreload 2"
   ],
   "outputs": [
    {
     "output_type": "stream",
     "name": "stdout",
     "text": [
      "The autoreload extension is already loaded. To reload it, use:\n",
      "  %reload_ext autoreload\n"
     ]
    }
   ],
   "metadata": {}
  },
  {
   "cell_type": "code",
   "execution_count": 32,
   "source": [
    "import re\n",
    "import modules.regex_patterns as RegPattern"
   ],
   "outputs": [],
   "metadata": {}
  },
  {
   "cell_type": "code",
   "execution_count": 49,
   "source": [
    "tmp = 'đẹp , rất hài lòng okokokokokokokokokokokokokoko  okokokokokokokokokokokokokoko 😚😚😚'\n",
    "tmp2 = \"đẹp , rất hài lòng okokokokokokokokokokokokokoko  okokokokokokokokokokokokokoko 😚😚😚\""
   ],
   "outputs": [],
   "metadata": {}
  },
  {
   "cell_type": "code",
   "execution_count": 50,
   "source": [
    "import unicodedata"
   ],
   "outputs": [],
   "metadata": {}
  },
  {
   "cell_type": "code",
   "execution_count": 51,
   "source": [
    "a = unicodedata.normalize('NFD', tmp)"
   ],
   "outputs": [],
   "metadata": {}
  },
  {
   "cell_type": "code",
   "execution_count": 52,
   "source": [
    "b = unicodedata.normalize('NFD', tmp2)"
   ],
   "outputs": [],
   "metadata": {}
  },
  {
   "cell_type": "code",
   "execution_count": 53,
   "source": [
    "a"
   ],
   "outputs": [
    {
     "output_type": "execute_result",
     "data": {
      "text/plain": [
       "'đẹp , rất hài lòng okokokokokokokokokokokokokoko  okokokokokokokokokokokokokoko 😚😚😚'"
      ]
     },
     "metadata": {},
     "execution_count": 53
    }
   ],
   "metadata": {}
  },
  {
   "cell_type": "code",
   "execution_count": 54,
   "source": [
    "b"
   ],
   "outputs": [
    {
     "output_type": "execute_result",
     "data": {
      "text/plain": [
       "'đẹp , rất hài lòng okokokokokokokokokokokokokoko  okokokokokokokokokokokokokoko 😚😚😚'"
      ]
     },
     "metadata": {},
     "execution_count": 54
    }
   ],
   "metadata": {}
  },
  {
   "cell_type": "code",
   "execution_count": 55,
   "source": [
    "a == b"
   ],
   "outputs": [
    {
     "output_type": "execute_result",
     "data": {
      "text/plain": [
       "True"
      ]
     },
     "metadata": {},
     "execution_count": 55
    }
   ],
   "metadata": {}
  },
  {
   "cell_type": "code",
   "execution_count": 56,
   "source": [
    "import emojis"
   ],
   "outputs": [],
   "metadata": {}
  },
  {
   "cell_type": "code",
   "execution_count": 57,
   "source": [
    "ea = emojis.get(a)"
   ],
   "outputs": [],
   "metadata": {}
  },
  {
   "cell_type": "code",
   "execution_count": 58,
   "source": [
    "ea"
   ],
   "outputs": [
    {
     "output_type": "execute_result",
     "data": {
      "text/plain": [
       "{'😚'}"
      ]
     },
     "metadata": {},
     "execution_count": 58
    }
   ],
   "metadata": {}
  },
  {
   "cell_type": "code",
   "execution_count": null,
   "source": [],
   "outputs": [],
   "metadata": {}
  },
  {
   "cell_type": "code",
   "execution_count": 40,
   "source": [
    "ptn = unicodedata.normalize('NFD', RegPattern.UTF8_LOWER)"
   ],
   "outputs": [],
   "metadata": {}
  },
  {
   "cell_type": "code",
   "execution_count": 41,
   "source": [
    "aa = re.sub(ptn, '_', a)"
   ],
   "outputs": [],
   "metadata": {}
  },
  {
   "cell_type": "code",
   "execution_count": 42,
   "source": [
    "bb = re.sub(ptn, '_', b)"
   ],
   "outputs": [],
   "metadata": {}
  },
  {
   "cell_type": "code",
   "execution_count": 43,
   "source": [
    "aa == bb"
   ],
   "outputs": [
    {
     "output_type": "execute_result",
     "data": {
      "text/plain": [
       "True"
      ]
     },
     "metadata": {},
     "execution_count": 43
    }
   ],
   "metadata": {}
  },
  {
   "cell_type": "code",
   "execution_count": 44,
   "source": [
    "aa"
   ],
   "outputs": [
    {
     "output_type": "execute_result",
     "data": {
      "text/plain": [
       "'đẹp _ rất hài lòng okokokokokokokokokokokokokoko  okokokokokokokokokokokokokoko _'"
      ]
     },
     "metadata": {},
     "execution_count": 44
    }
   ],
   "metadata": {}
  },
  {
   "cell_type": "code",
   "execution_count": 45,
   "source": [
    "bb"
   ],
   "outputs": [
    {
     "output_type": "execute_result",
     "data": {
      "text/plain": [
       "'đẹp _ rất hài lòng okokokokokokokokokokokokokoko  okokokokokokokokokokokokokoko _'"
      ]
     },
     "metadata": {},
     "execution_count": 45
    }
   ],
   "metadata": {}
  },
  {
   "cell_type": "code",
   "execution_count": 9,
   "source": [
    "import unicodedata\n",
    "import re\n",
    "\n",
    "a = unicodedata.normalize('NFD', 'okkkkkkkkkkkkkkkkkkkkkk chờiiiiiiiiii ơiiiiiiii xinhhhhhhhhhhhh quá đẹppppppppp xỉuuuuuuu')\n",
    "\n",
    "a"
   ],
   "outputs": [
    {
     "output_type": "execute_result",
     "data": {
      "text/plain": [
       "'okkkkkkkkkkkkkkkkkkkkkk chờiiiiiiiiii ơiiiiiiii xinhhhhhhhhhhhh quá đẹppppppppp xỉuuuuuuu'"
      ]
     },
     "metadata": {},
     "execution_count": 9
    }
   ],
   "metadata": {}
  },
  {
   "cell_type": "code",
   "execution_count": 10,
   "source": [
    "a = re.sub(r'(.)\\1+', r'\\1', a)\n",
    "\n",
    "a"
   ],
   "outputs": [
    {
     "output_type": "execute_result",
     "data": {
      "text/plain": [
       "'ok chời ơi xinh quá đẹp xỉu'"
      ]
     },
     "metadata": {},
     "execution_count": 10
    }
   ],
   "metadata": {}
  },
  {
   "cell_type": "code",
   "execution_count": 12,
   "source": [
    "d = {}\n",
    "\n",
    "with open(\"./modules/dependencies/abbreviate.txt\") as rows:\n",
    "    for row in rows:\n",
    "        a, b = row.strip().split(',')\n",
    "        d[unicodedata.normalize('NFD', a)] = unicodedata.normalize('NFD', b)\n",
    "        \n",
    "print(d)  "
   ],
   "outputs": [
    {
     "output_type": "stream",
     "name": "stdout",
     "text": [
      "{'sp': 'sản phẩm', 'sd': 'sử dụng', 'sph': 'sản phẩm', 'ths': 'thanks', 'tks': 'thanks', 'thk': 'thanks', 'thank you': 'thanks', 'thabs': 'thanks', 'thươg': 'thương', 'thw': 'thương', 'đep': 'đẹp', 'gh': 'giao hàng', 'góm': 'gớm', 'gê': 'ghê', 'dỏm': 'dởm', 'nsc': 'nói chuyện', 'nc': 'nói chuyện', 'ns': 'nói', 'lun': 'luôn', 'okela': 'ok', 'okla': 'ok', 'oke': 'ok', 'okie': 'ok', 'uki': 'ok', 'âu cơ': 'ok', 'nchung': 'nói chung', 'bik': 'biết', 'pik': 'biết', 'tôt': 'tốt', 'cx': 'cũng', 'cũg': 'cũng', 'nma': 'nhưng mà', 'mn': 'mọi người', 'mng': 'mọi người', 'god': 'good', 'fedback': 'feedback', 'tl': 'trả lời', 'vs': 'với', 'dc': 'được', 'đc': 'được', 'lm': 'lắm', 'lawm': 'lắm', 'lquan': 'liên quan', 'đh': 'đéo hiểu', 'dh': 'đéo hiểu', 'ck': 'chuyển khoảng', 'fom': 'form', 'bt': 'bình thường', 'bth': 'bình thường', 'chẳg': 'chẳng', 'sz': 'size', 'ms': 'mới', 'v': 'vậy', 'nhg': 'nhưng', 'ngừ': 'người', 'hk': 'không', 'kh': 'không', 'ko': 'không', 'k': 'không', 'khg': 'không'}\n"
     ]
    }
   ],
   "metadata": {}
  },
  {
   "cell_type": "code",
   "execution_count": null,
   "source": [],
   "outputs": [],
   "metadata": {}
  }
 ],
 "metadata": {
  "orig_nbformat": 4,
  "language_info": {
   "name": "python",
   "version": "3.8.10",
   "mimetype": "text/x-python",
   "codemirror_mode": {
    "name": "ipython",
    "version": 3
   },
   "pygments_lexer": "ipython3",
   "nbconvert_exporter": "python",
   "file_extension": ".py"
  },
  "kernelspec": {
   "name": "python3",
   "display_name": "Python 3.8.10 64-bit"
  },
  "interpreter": {
   "hash": "916dbcbb3f70747c44a77c7bcd40155683ae19c65e1c03b4aa3499c5328201f1"
  }
 },
 "nbformat": 4,
 "nbformat_minor": 2
}