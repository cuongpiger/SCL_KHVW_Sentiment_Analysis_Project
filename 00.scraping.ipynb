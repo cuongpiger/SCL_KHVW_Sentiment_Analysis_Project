{
 "cells": [
  {
   "cell_type": "markdown",
   "source": [
    "* Giả sử ta cần crawl data từ nhóm **Thời Trang Nam**, ta có thể click vào nó:<br>\n",
    "  ![](images/00.png)\n",
    "* Hãy chú ý vào các vùng khoanh đỏ trong hình dưới đây, ta thấy rằng trong URL có một thuộc tính là `page=0` và trong UI ta thấy nó đang là trang **1/100**. Vậy nếu ta thay giá trị `page` này từ **[0, 99]** thì ta có thể truy cập tương ứng vào các page từ **[1:100]**.<br>\n",
    "  ![](images/01.png)\n",
    "* Hãy thử right-click vào mặt hàng đầu tiên và chọn **inspect**, ta có thể thấy được các sản phẩm này được nằm trong một HTML tag element là:\n",
    "  ```html\n",
    "  <div class=\"col-xs-2-4 shopee-search-item-result__item\" data-sqe=\"item\">\n",
    "      ...\n",
    "  </div>\n",
    "  ```\n",
    "* Chúng ta thấy rằng các sản phẩm được bọc trong thẻ các tag `<div>` mà có class là `shopee-search-item-result__item`.<br>\n",
    "  ![](images/03.png)\n",
    "* Khi ta drop-down tag `<div>` này xuống, ta có thể thấy được tag `<a>` chứa hyper-link đến trang landing-page của sản phẩm này trong attribute `href`.<br>\n",
    "  ![](images/02.png)\n",
    "* Sơ bộ là vậy, bây giờ chúng ta sẽ tiến hành lấy tất cả các hypeylink dẫn đến các trang landing-page này."
   ],
   "metadata": {}
  },
  {
   "cell_type": "code",
   "execution_count": 16,
   "source": [
    "%load_ext autoreload\n",
    "%autoreload 2"
   ],
   "outputs": [
    {
     "output_type": "stream",
     "name": "stdout",
     "text": [
      "The autoreload extension is already loaded. To reload it, use:\n",
      "  %reload_ext autoreload\n"
     ]
    }
   ],
   "metadata": {}
  },
  {
   "cell_type": "code",
   "execution_count": 27,
   "source": [
    "import modules.crawler as Crawler"
   ],
   "outputs": [],
   "metadata": {}
  },
  {
   "cell_type": "code",
   "execution_count": 3,
   "source": [
    "product_urls = Crawler.getProductURLs(\"https://shopee.vn/Th%E1%BB%9Di-Trang-Nam-cat.11035567?page=\",\n",
    "                                      [0, 100], \"div.shopee-search-item-result__item > a\")"
   ],
   "outputs": [],
   "metadata": {}
  },
  {
   "cell_type": "code",
   "execution_count": 5,
   "source": [
    "product_urls[:5]"
   ],
   "outputs": [
    {
     "output_type": "execute_result",
     "data": {
      "text/plain": [
       "['https://shopee.vn/M%C5%A9-l%C6%B0%E1%BB%A1i-trai-%E2%9D%A4%EF%B8%8F-N%C3%B3n-k%E1%BA%BFt-th%C3%AAu-ch%E1%BB%AF-Memorie-phong-c%C3%A1ch-Ulzzang-form-unisex-nam-n%E1%BB%AF-N01-i.299400775.9742055201?position=0',\n",
       " 'https://shopee.vn/%C3%81o-thun-Unisex-N7-Basic-Tee-ph%C3%B4ng-tr%C6%A1n-nam-n%E1%BB%AF-tay-l%E1%BB%A1-oversize-form-r%E1%BB%99ng-12-m%C3%A0u-i.257372007.3554096264?position=1',\n",
       " 'https://shopee.vn/%C3%81o-s%C6%A1-mi-nam-FEAER-ch%E1%BA%A5t-l%E1%BB%A5a-h%E1%BB%8Da-ti%E1%BA%BFt-l%C3%A1-%C4%91en-Boo-Boo-i.263713672.7041587820?position=2',\n",
       " 'https://shopee.vn/%C3%81o-Polo-nam-Leo-Vatino-v%E1%BA%A3i-Cotton-c%C3%A1-s%E1%BA%A5u-cao-c%E1%BA%A5p-xu%E1%BA%A5t-x%E1%BB%8Bn-d%E1%BB%87t-bo-d%C3%A0y-d%E1%BA%B7n-chu%E1%BA%A9n-form-%C3%A1o-thun-c%E1%BB%95-b%E1%BA%BB-tay-ng%E1%BA%AFn-Galvin-i.277678439.6039387811?position=3',\n",
       " 'https://shopee.vn/-M%C3%A3-SKAMSALE8-gi%E1%BA%A3m-10-%C4%91%C6%A1n-200K-%C3%81o-thun-nam-POLO-tr%C6%A1n-v%E1%BA%A3i-c%C3%A1-s%E1%BA%A5u-cotton-cao-c%E1%BA%A5p-ng%E1%BA%AFn-tay-c%E1%BB%B1c-sang-tr%E1%BB%8Dng-i.296694982.3448103572?position=4']"
      ]
     },
     "metadata": {},
     "execution_count": 5
    }
   ],
   "metadata": {}
  },
  {
   "cell_type": "code",
   "execution_count": 21,
   "source": [
    "len(product_urls)"
   ],
   "outputs": [
    {
     "output_type": "execute_result",
     "data": {
      "text/plain": [
       "840"
      ]
     },
     "metadata": {},
     "execution_count": 21
    }
   ],
   "metadata": {}
  },
  {
   "cell_type": "code",
   "execution_count": 28,
   "source": [
    "product_reviews = []\n",
    "\n",
    "for product_url in product_urls[:3]:\n",
    "    product_reviews += Crawler.getProductReviews(product_url)"
   ],
   "outputs": [
    {
     "output_type": "stream",
     "name": "stdout",
     "text": [
      "Founded!!!\n",
      "Founded!!!\n"
     ]
    }
   ],
   "metadata": {}
  },
  {
   "cell_type": "code",
   "execution_count": 29,
   "source": [
    "len(product_reviews)"
   ],
   "outputs": [
    {
     "output_type": "execute_result",
     "data": {
      "text/plain": [
       "1314"
      ]
     },
     "metadata": {},
     "execution_count": 29
    }
   ],
   "metadata": {}
  },
  {
   "cell_type": "code",
   "execution_count": 31,
   "source": [
    "for i in range(500, 550):\n",
    "    print(f\"{product_reviews[i].irating} - {product_reviews[i].icomment}\")"
   ],
   "outputs": [
    {
     "output_type": "stream",
     "name": "stdout",
     "text": [
      "5 - Đáng lẽ để 5* nhưng mà ống tay hơi ngắn nên không thích. \n",
      "Mình m63 nếu nói mặc vừa thì size L nha còn nếu lần sau đặt chắc mình đặt XXL quá :> tại mình thích mấy form to hẳn cơ :(( \n",
      "Edit: thấy mình kêu không ưng hàng cái shop tự chủ động liên hệ mình đổi hàng luôn, nhiệt tình lắm nhé nên đổi lại 5* \n",
      "5 - mình mua áo cho ba dịp sinh nhật nhưng mà chưa có đưa nchung thì hàng thì mình thấy cũng ok giá săn sale nên rẻ cực à\n",
      "5 - Giao hàng nhanh, đóng hộp khá ok nhưng bị móp hộp, áo ok trong tầm giá\n",
      "5 - Hên ghê người yêu mặc vừa luôn😄 Áo đẹp lắm, vải em thấy mát mà sao có bạn nói nóng ta. Shop gói hàng đẹp vô cùng, tư vấn rất nhiệt tình luôn. Săn được sale nữa giá siêu hời. Sẽ ủng hộ nữa❤️\n",
      "5 - đóng gói tuy bọc lớp chống sốc r nhưng chỉ bọc qua 1 lớp mỏng nên khi ship vẫn bị móp méo làm cái hộp mất thẩm mĩ. còn về chất vải thì oke mềm xịn\n",
      "5 - Mình đã nhận được hàng,giao hàng nhanh,,....chất lượng sản phẩm tốt,,các bạn nên mua ... .\n",
      "5 - Áo rẻ chất cũng được fom áo rất ok !!!!!!!!!!!!!!!!!!!!!!!!\n",
      "5 - Mua giá flash sale dc giá rẻ. Vải lụa mềm. Chất ok. Đóng gói sp rất đẹp\n",
      "5 - Đóng gói đẹp cẩn thận.mua tặng lên k có ảnh.người nhận rất ưng👍🏻👍🏻👍🏻👍🏻👍🏻\n",
      "5 - Mình mua tặng ngy nên hong có ảnh nhưng mà áo đẹp lắm ý mn, mình thấy mát chứ k nóng lắm đâu, shop gói hàng okela đem đi tặng any đc luôn\n",
      "5 - \n",
      "5 - Săn được giá sale nên thấy quá rẻ, vải đẹp, mặc mát. Sẽ ủng hộ shop\n",
      "5 - Săn sale 1k, hàng y hình đủ số lượng. Giao nhanh. Sẽ ủng hộ lần sau\n",
      "5 - Săn sale nên giá rẻ. Chất lượng xứng đáng với số tiền bỏ ra. Vải rất mát nha quý zị. \n",
      "Em là sẽ ủng hộ dài\n",
      "5 - hình ảnh và video chỉ mang tính chất minh hoạ để nhận xu :)))))\n",
      "5 - Hộp đóng cẩn thận, ship tỉnh cũng nhanh , shop còn thân thiện , áo xịnnn thích hợp làm quà tặng vì có hộp xịn\n",
      "5 - ảnh mình chụp hơi dìm 1 chút nhưng mà ưng áo lắm nhé. giao hàng nhanh, mình mua lần thứ 2 rồi, kèm thiệp cảm ơn các thứ. đáng đồng tiền mn nên mua nha\n",
      "5 - Áo đẹp lắm nè săn sale nên được giá rẻ có hộp cạc đồ nhìn sang chảnh lắm luôn\n",
      "5 - đáng tiền lắm ạ shop siêu đáng yêu \n",
      "về chất lượng áo với chất lượng shop hơn cả 5 sao \n",
      "bạn nào muốn mặc rộng rãi thì cứ xxl mà đặt ạ(mình 1m73 61kg) \n",
      "5 - Chưa bao h phải thất vọng khi mua hàng bên FEARER. Sẽ ủng hộ dài\n",
      "5 - áo ok,  bọc dày,dặn, kĩ hộp gói ok,  sang phết, chất áo,như,thế,nào vì mình không mặc\n",
      "5 - Ok lắm ạ\n",
      "4 - Chất lượng sản phẩm rất đẹp nha mọi người, mình chỉ không hài lòng về thời gian giao hàng thôi ạ!!!!!!!!!\n",
      "5 - Áo chất khá đẹp \n",
      "Giao đúng mẫu \n",
      "Gói hàng đẹp \n",
      "Nói chung là rất ưnggg \n",
      "5 - Chất lượng sản phẩm tuyệt vời, áo vải rất mát, mình nhắn tin cho shop thì shop phản hồi rất nhanh. Có cơ hội lần sau vẫn lựa chọn đặt hàng ở đâyyyy\n",
      "5 - Chất lượng sản phẩm tốt, giao hàng nhanh, shipper thân thiện.\n",
      "5 - Áo chất lượng, đáng mua, shop rep tin nhắn nhanh, tư vấn nhiệt tình, \n",
      "5 - Mua lần thứ 2, áo chất lượng so vs với tầm giá, vải mát, đáng mua\n",
      "5 - Áo rất đẹp, đúng với mẫu, vải mịn,thoáng mát, shop nhiệt tình,giao hàng nhanh\n",
      "Ảnh không liên quan vì chủ yếu nhận xu\n",
      "5 - Đóng gói sản phẩm rất đẹp, chất lượng áo rất tốt.............\n",
      "5 - Áo đẹp lắm nha. Đóng gói rất xịn sò lịch sự. Mua giá sale nên rất ok. Ủng hộ tiếp\n",
      "5 - Ok đã nhận được hàng\n",
      "Áo okkkkkkkkkkkkkk\n",
      "Kkkkkkkkkkkkkkkkkk\n",
      "5 - Ưng nhất trong 3 chiếc áo order từ SG ra HN. Dáng suông nhé mọi người ơi. 83kg cao 1m77 mặc thoải mái nhg vẫn đứng dáng. \n",
      "5 - Hài lòng với cách gói hàng của shop, chất lượng sản phẩm cũng ok lắm ạ\n",
      "5 - Áo đẹp sịn sò lắm luônnnnnnnnnnnnnnnnnnnnnnnnnnnnnnnnnnnnnnnnnnnnnnnn\n",
      "5 - Áo hơi nóng còn  lại ok jddhdbvdshhzbzbzbzhsjsjsnssbsjsjnssjs\n",
      "5 - Áo đẹp lúm mng oiiiiii. Shop rất là thân thiện dễ thương, đáng đồng tiền. Vải đẹp, nên mua nha các bạn iu <3\n",
      "5 - Dbbdhdhdjfjfjfjjfjfjfjfjjfjcjcjcjcjjcj😃😃☺️😃☺️😃😃☺️☺️☺️😃😟☺️😁☺️😁😁😁😁😍☺️😟😟😟\n",
      "5 - Áo đẹp nhưng vải hơi nóngggggggggggggggggggggggggggggggg\n",
      "5 - Shop gói hàng khá cẩn thận, giao hàng cũng nhanh. Chất áo sờ mịn tay nhưng có vẻ hơi dày chút\n",
      "4 - Phối màu tương phản, họa tiết rõ nét. Chất vải nhẹ, nhưng phải mặc, giặt 3 lần đầu xem sợi vải có dễ bị sờn không. Cảm quan là khá ok\n",
      "5 - Áo khá đẹp, chất vải mặc thoáng, mỗi cái là áo mùi ko thơm lắm vs hộp hơi méo chút => nhưng sản phẩm rất đẹp rất đáng tiền nha 👓👍 \n",
      "5 - Shop rất nhiệt tình .sẽ ủng hộ shop thêm.  Shop đong gói sảm phẩm rất đẹp  .chu đáo\n",
      "5 - Sản phẩm giống như hình chụp của shop. Chất liệu tốt & màu sắc đẹp. Giao hàng nhanh, giá cũng hợp lý.\n",
      "5 - Đẹp. Chất lượng khá là ok. Như hình nhé. Nên mua...............\n",
      "5 - 5sao\n",
      "4 - Áo đẹp vải mềm 64kg size l sợ rộng nhưng nhìn chuẩn from rồi. Khá ưng có điều đóng gói sản phẩm bên ngoài hơi sơ xài chỉ có túi chống sốc rồi tới hộp thôi may kh bị móp (ảnh lấy xu)\n",
      "5 - Áo đẹp. Mặc vừa. Thanks shop nha. Sau sẽ ủng hộ. :)))))))))))))))))))\n",
      "5 - Hình ảnh và video chỉ mang tính chất nhận xu ạ ...............\n",
      "5 - Đóng gói đẹp. Chất lượng sản phẩm tạm ổn so với giá tiền. Cổ áo đằng sau may bị lỗi. áo dễ nhăn\n"
     ]
    }
   ],
   "metadata": {}
  },
  {
   "cell_type": "code",
   "execution_count": null,
   "source": [],
   "outputs": [],
   "metadata": {}
  }
 ],
 "metadata": {
  "orig_nbformat": 4,
  "language_info": {
   "name": "python",
   "version": "3.8.10",
   "mimetype": "text/x-python",
   "codemirror_mode": {
    "name": "ipython",
    "version": 3
   },
   "pygments_lexer": "ipython3",
   "nbconvert_exporter": "python",
   "file_extension": ".py"
  },
  "kernelspec": {
   "name": "python3",
   "display_name": "Python 3.8.10 64-bit"
  },
  "interpreter": {
   "hash": "31f2aee4e71d21fbe5cf8b01ff0e069b9275f58929596ceb00d14d90e3e16cd6"
  }
 },
 "nbformat": 4,
 "nbformat_minor": 2
}