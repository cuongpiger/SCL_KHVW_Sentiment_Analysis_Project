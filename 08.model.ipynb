{
 "cells": [
  {
   "cell_type": "code",
   "execution_count": 1,
   "source": [
    "%load_ext autoreload\n",
    "%autoreload 2"
   ],
   "outputs": [],
   "metadata": {}
  },
  {
   "cell_type": "code",
   "execution_count": 2,
   "source": [
    "from keras.utils.vis_utils import plot_model\n",
    "import modules.deep_model as DeepModel\n",
    "import modules.model as Model \n",
    "import tensorflow as tf\n",
    "import warnings\n",
    "import numpy as np\n",
    "import os\n",
    "\n",
    "warnings.filterwarnings('ignore')\n",
    "tf.config.list_physical_devices('GPU')"
   ],
   "outputs": [
    {
     "output_type": "execute_result",
     "data": {
      "text/plain": [
       "[PhysicalDevice(name='/physical_device:GPU:0', device_type='GPU')]"
      ]
     },
     "metadata": {},
     "execution_count": 2
    }
   ],
   "metadata": {}
  },
  {
   "cell_type": "code",
   "execution_count": 3,
   "source": [
    "# run if have GPU\n",
    "physical_devices = tf.config.list_physical_devices('GPU') \n",
    "for device in physical_devices:\n",
    "    tf.config.experimental.set_memory_growth(device, True)"
   ],
   "outputs": [],
   "metadata": {}
  },
  {
   "cell_type": "code",
   "execution_count": 4,
   "source": [
    "X_train, y_train = Model.loadData(\"./data/data/train\")\n",
    "X_train = X_train.fillna(\"\")\n",
    "\n",
    "X_test, y_test = Model.loadData(\"./data/data/test\")\n",
    "X_test = X_test.fillna(\"\")\n",
    "\n",
    "display(X_train, y_train)\n",
    "display(X_test, y_test)\n"
   ],
   "outputs": [
    {
     "output_type": "display_data",
     "data": {
      "text/html": [
       "<div>\n",
       "<style scoped>\n",
       "    .dataframe tbody tr th:only-of-type {\n",
       "        vertical-align: middle;\n",
       "    }\n",
       "\n",
       "    .dataframe tbody tr th {\n",
       "        vertical-align: top;\n",
       "    }\n",
       "\n",
       "    .dataframe thead th {\n",
       "        text-align: right;\n",
       "    }\n",
       "</style>\n",
       "<table border=\"1\" class=\"dataframe\">\n",
       "  <thead>\n",
       "    <tr style=\"text-align: right;\">\n",
       "      <th></th>\n",
       "      <th>raw_comment</th>\n",
       "      <th>normalize_comment</th>\n",
       "      <th>emoji_decode</th>\n",
       "    </tr>\n",
       "  </thead>\n",
       "  <tbody>\n",
       "    <tr>\n",
       "      <th>0</th>\n",
       "      <td>form k đẹp lắm</td>\n",
       "      <td>form không đẹp lắm</td>\n",
       "      <td></td>\n",
       "    </tr>\n",
       "    <tr>\n",
       "      <th>1</th>\n",
       "      <td>Áo Rộng thật sự\\nGl nhanh\\nChật lươ...</td>\n",
       "      <td>áo rộng thật sự nhanh chật lượng v...</td>\n",
       "      <td></td>\n",
       "    </tr>\n",
       "    <tr>\n",
       "      <th>2</th>\n",
       "      <td>Màu túi hơi tối do với ảnh chụp</td>\n",
       "      <td>màu túi hơi tối do ảnh chụp</td>\n",
       "      <td></td>\n",
       "    </tr>\n",
       "    <tr>\n",
       "      <th>3</th>\n",
       "      <td>Chất liệu vải k ổn lắm</td>\n",
       "      <td>chất liệu vải không ổn lắm</td>\n",
       "      <td></td>\n",
       "    </tr>\n",
       "    <tr>\n",
       "      <th>4</th>\n",
       "      <td>Mã \"màu đen\" hiện lên áo màu đen, còn ...</td>\n",
       "      <td>mã màu đen hiện lên áo màu đen còn mã...</td>\n",
       "      <td></td>\n",
       "    </tr>\n",
       "    <tr>\n",
       "      <th>...</th>\n",
       "      <td>...</td>\n",
       "      <td>...</td>\n",
       "      <td>...</td>\n",
       "    </tr>\n",
       "    <tr>\n",
       "      <th>11359</th>\n",
       "      <td>Khi bán combo ghi 3 đôi, nhưng nhận chỉ ...</td>\n",
       "      <td>bán combo ghi đôi nhưng nhận chỉ đôi ta...</td>\n",
       "      <td></td>\n",
       "    </tr>\n",
       "    <tr>\n",
       "      <th>11360</th>\n",
       "      <td>Áo đẹp, from chuẩn. Sẽ ủng hộ tiếp ạ !</td>\n",
       "      <td>áo đẹp from chuẩn sẽ ủng hộ tiếp</td>\n",
       "      <td></td>\n",
       "    </tr>\n",
       "    <tr>\n",
       "      <th>11361</th>\n",
       "      <td>Đặt màu trắng kem thì giao màu xanh đen...</td>\n",
       "      <td>đặt màu trắng kem giao màu xanh đen giao...</td>\n",
       "      <td>expressionless</td>\n",
       "    </tr>\n",
       "    <tr>\n",
       "      <th>11362</th>\n",
       "      <td>Đồ chơi tí hon.\\nShop nên dừng bán sp ...</td>\n",
       "      <td>đồ chơi tí hon nên dừng bán sản phẩ...</td>\n",
       "      <td></td>\n",
       "    </tr>\n",
       "    <tr>\n",
       "      <th>11363</th>\n",
       "      <td>Son đẹp lắm nha mọi ng, đáng đồng tiề...</td>\n",
       "      <td>son đẹp lắm mọi đáng đồng tiền bát m...</td>\n",
       "      <td></td>\n",
       "    </tr>\n",
       "  </tbody>\n",
       "</table>\n",
       "<p>11364 rows × 3 columns</p>\n",
       "</div>"
      ],
      "text/plain": [
       "                                             raw_comment  \\\n",
       "0                                      form k đẹp lắm   \n",
       "1      Áo Rộng thật sự\\nGl nhanh\\nChật lươ...   \n",
       "2               Màu túi hơi tối do với ảnh chụp   \n",
       "3                        Chất liệu vải k ổn lắm   \n",
       "4      Mã \"màu đen\" hiện lên áo màu đen, còn ...   \n",
       "...                                                  ...   \n",
       "11359  Khi bán combo ghi 3 đôi, nhưng nhận chỉ ...   \n",
       "11360  Áo đẹp, from chuẩn. Sẽ ủng hộ tiếp ạ !   \n",
       "11361  Đặt màu trắng kem thì giao màu xanh đen...   \n",
       "11362  Đồ chơi tí hon.\\nShop nên dừng bán sp ...   \n",
       "11363  Son đẹp lắm nha mọi ng, đáng đồng tiề...   \n",
       "\n",
       "                                       normalize_comment    emoji_decode  \n",
       "0                                 form không đẹp lắm                  \n",
       "1      áo rộng thật sự nhanh chật lượng v...                  \n",
       "2                     màu túi hơi tối do ảnh chụp                  \n",
       "3                   chất liệu vải không ổn lắm                  \n",
       "4      mã màu đen hiện lên áo màu đen còn mã...                  \n",
       "...                                                  ...             ...  \n",
       "11359  bán combo ghi đôi nhưng nhận chỉ đôi ta...                  \n",
       "11360         áo đẹp from chuẩn sẽ ủng hộ tiếp                  \n",
       "11361  đặt màu trắng kem giao màu xanh đen giao...  expressionless  \n",
       "11362  đồ chơi tí hon nên dừng bán sản phẩ...                  \n",
       "11363  son đẹp lắm mọi đáng đồng tiền bát m...                  \n",
       "\n",
       "[11364 rows x 3 columns]"
      ]
     },
     "metadata": {}
    },
    {
     "output_type": "display_data",
     "data": {
      "text/html": [
       "<div>\n",
       "<style scoped>\n",
       "    .dataframe tbody tr th:only-of-type {\n",
       "        vertical-align: middle;\n",
       "    }\n",
       "\n",
       "    .dataframe tbody tr th {\n",
       "        vertical-align: top;\n",
       "    }\n",
       "\n",
       "    .dataframe thead th {\n",
       "        text-align: right;\n",
       "    }\n",
       "</style>\n",
       "<table border=\"1\" class=\"dataframe\">\n",
       "  <thead>\n",
       "    <tr style=\"text-align: right;\">\n",
       "      <th></th>\n",
       "      <th>label</th>\n",
       "    </tr>\n",
       "  </thead>\n",
       "  <tbody>\n",
       "    <tr>\n",
       "      <th>0</th>\n",
       "      <td>0</td>\n",
       "    </tr>\n",
       "    <tr>\n",
       "      <th>1</th>\n",
       "      <td>1</td>\n",
       "    </tr>\n",
       "    <tr>\n",
       "      <th>2</th>\n",
       "      <td>0</td>\n",
       "    </tr>\n",
       "    <tr>\n",
       "      <th>3</th>\n",
       "      <td>0</td>\n",
       "    </tr>\n",
       "    <tr>\n",
       "      <th>4</th>\n",
       "      <td>0</td>\n",
       "    </tr>\n",
       "    <tr>\n",
       "      <th>...</th>\n",
       "      <td>...</td>\n",
       "    </tr>\n",
       "    <tr>\n",
       "      <th>11359</th>\n",
       "      <td>0</td>\n",
       "    </tr>\n",
       "    <tr>\n",
       "      <th>11360</th>\n",
       "      <td>1</td>\n",
       "    </tr>\n",
       "    <tr>\n",
       "      <th>11361</th>\n",
       "      <td>0</td>\n",
       "    </tr>\n",
       "    <tr>\n",
       "      <th>11362</th>\n",
       "      <td>0</td>\n",
       "    </tr>\n",
       "    <tr>\n",
       "      <th>11363</th>\n",
       "      <td>1</td>\n",
       "    </tr>\n",
       "  </tbody>\n",
       "</table>\n",
       "<p>11364 rows × 1 columns</p>\n",
       "</div>"
      ],
      "text/plain": [
       "       label\n",
       "0          0\n",
       "1          1\n",
       "2          0\n",
       "3          0\n",
       "4          0\n",
       "...      ...\n",
       "11359      0\n",
       "11360      1\n",
       "11361      0\n",
       "11362      0\n",
       "11363      1\n",
       "\n",
       "[11364 rows x 1 columns]"
      ]
     },
     "metadata": {}
    },
    {
     "output_type": "display_data",
     "data": {
      "text/html": [
       "<div>\n",
       "<style scoped>\n",
       "    .dataframe tbody tr th:only-of-type {\n",
       "        vertical-align: middle;\n",
       "    }\n",
       "\n",
       "    .dataframe tbody tr th {\n",
       "        vertical-align: top;\n",
       "    }\n",
       "\n",
       "    .dataframe thead th {\n",
       "        text-align: right;\n",
       "    }\n",
       "</style>\n",
       "<table border=\"1\" class=\"dataframe\">\n",
       "  <thead>\n",
       "    <tr style=\"text-align: right;\">\n",
       "      <th></th>\n",
       "      <th>raw_comment</th>\n",
       "      <th>normalize_comment</th>\n",
       "      <th>emoji_decode</th>\n",
       "    </tr>\n",
       "  </thead>\n",
       "  <tbody>\n",
       "    <tr>\n",
       "      <th>0</th>\n",
       "      <td>Shop bán hàng kỉ quấn đầy đủ. Chất l...</td>\n",
       "      <td>bán hàng kỉ quấn đầy đủ chất lượn...</td>\n",
       "      <td></td>\n",
       "    </tr>\n",
       "    <tr>\n",
       "      <th>1</th>\n",
       "      <td>Đặt xl, áo ghi xl nhưng lại bé tí tẹo ...</td>\n",
       "      <td>đặt xl áo ghi xl nhưng bé tí tẹo ngang ...</td>\n",
       "      <td></td>\n",
       "    </tr>\n",
       "    <tr>\n",
       "      <th>2</th>\n",
       "      <td>Kẹp rất rất đẹp săn được giá sale h...</td>\n",
       "      <td>kẹp rất rất đẹp săn được giá sale h...</td>\n",
       "      <td></td>\n",
       "    </tr>\n",
       "    <tr>\n",
       "      <th>3</th>\n",
       "      <td>K nghĩ áo đẹp vậy đâu giao hàng nhanh k...</td>\n",
       "      <td>không nghĩ áo đẹp giao hàng nhanh không ...</td>\n",
       "      <td></td>\n",
       "    </tr>\n",
       "    <tr>\n",
       "      <th>4</th>\n",
       "      <td>Hôm nay mới nhận đc nhưng nhìn qua thâ...</td>\n",
       "      <td>hôm nay mới nhận được nhưng nhìn qua...</td>\n",
       "      <td></td>\n",
       "    </tr>\n",
       "    <tr>\n",
       "      <th>...</th>\n",
       "      <td>...</td>\n",
       "      <td>...</td>\n",
       "      <td>...</td>\n",
       "    </tr>\n",
       "    <tr>\n",
       "      <th>2837</th>\n",
       "      <td>Mình đặt 2 dây buộc tóc nhưng lại chi...</td>\n",
       "      <td>đặt dây buộc tóc nhưng chỉ nhận đưo...</td>\n",
       "      <td>star slightly_smiling_face slightly_smiling_fa...</td>\n",
       "    </tr>\n",
       "    <tr>\n",
       "      <th>2838</th>\n",
       "      <td>Chất vải đẹp, có vẻ mát, giao hàng nha...</td>\n",
       "      <td>chất vải đẹp có vẻ mát giao hàng nhanh...</td>\n",
       "      <td></td>\n",
       "    </tr>\n",
       "    <tr>\n",
       "      <th>2839</th>\n",
       "      <td>Dây nhìn tạm. K đẹp. Mắc sai dây mình ...</td>\n",
       "      <td>dây nhìn tạm không đẹp mắc sai dây pha...</td>\n",
       "      <td></td>\n",
       "    </tr>\n",
       "    <tr>\n",
       "      <th>2840</th>\n",
       "      <td>Quần đẹp chất lượng ok nhưng chữ ru...</td>\n",
       "      <td>quần đẹp chất lượng ok nhưng chữ cu...</td>\n",
       "      <td></td>\n",
       "    </tr>\n",
       "    <tr>\n",
       "      <th>2841</th>\n",
       "      <td>Ok hơi chật tí</td>\n",
       "      <td>ok hơi chật tí</td>\n",
       "      <td></td>\n",
       "    </tr>\n",
       "  </tbody>\n",
       "</table>\n",
       "<p>2842 rows × 3 columns</p>\n",
       "</div>"
      ],
      "text/plain": [
       "                                            raw_comment  \\\n",
       "0     Shop bán hàng kỉ quấn đầy đủ. Chất l...   \n",
       "1     Đặt xl, áo ghi xl nhưng lại bé tí tẹo ...   \n",
       "2     Kẹp rất rất đẹp săn được giá sale h...   \n",
       "3     K nghĩ áo đẹp vậy đâu giao hàng nhanh k...   \n",
       "4     Hôm nay mới nhận đc nhưng nhìn qua thâ...   \n",
       "...                                                 ...   \n",
       "2837  Mình đặt 2 dây buộc tóc nhưng lại chi...   \n",
       "2838  Chất vải đẹp, có vẻ mát, giao hàng nha...   \n",
       "2839  Dây nhìn tạm. K đẹp. Mắc sai dây mình ...   \n",
       "2840  Quần đẹp chất lượng ok nhưng chữ ru...   \n",
       "2841                                 Ok hơi chật tí   \n",
       "\n",
       "                                      normalize_comment  \\\n",
       "0     bán hàng kỉ quấn đầy đủ chất lượn...   \n",
       "1     đặt xl áo ghi xl nhưng bé tí tẹo ngang ...   \n",
       "2     kẹp rất rất đẹp săn được giá sale h...   \n",
       "3     không nghĩ áo đẹp giao hàng nhanh không ...   \n",
       "4     hôm nay mới nhận được nhưng nhìn qua...   \n",
       "...                                                 ...   \n",
       "2837  đặt dây buộc tóc nhưng chỉ nhận đưo...   \n",
       "2838  chất vải đẹp có vẻ mát giao hàng nhanh...   \n",
       "2839  dây nhìn tạm không đẹp mắc sai dây pha...   \n",
       "2840  quần đẹp chất lượng ok nhưng chữ cu...   \n",
       "2841                                 ok hơi chật tí   \n",
       "\n",
       "                                           emoji_decode  \n",
       "0                                                        \n",
       "1                                                        \n",
       "2                                                        \n",
       "3                                                        \n",
       "4                                                        \n",
       "...                                                 ...  \n",
       "2837  star slightly_smiling_face slightly_smiling_fa...  \n",
       "2838                                                     \n",
       "2839                                                     \n",
       "2840                                                     \n",
       "2841                                                     \n",
       "\n",
       "[2842 rows x 3 columns]"
      ]
     },
     "metadata": {}
    },
    {
     "output_type": "display_data",
     "data": {
      "text/html": [
       "<div>\n",
       "<style scoped>\n",
       "    .dataframe tbody tr th:only-of-type {\n",
       "        vertical-align: middle;\n",
       "    }\n",
       "\n",
       "    .dataframe tbody tr th {\n",
       "        vertical-align: top;\n",
       "    }\n",
       "\n",
       "    .dataframe thead th {\n",
       "        text-align: right;\n",
       "    }\n",
       "</style>\n",
       "<table border=\"1\" class=\"dataframe\">\n",
       "  <thead>\n",
       "    <tr style=\"text-align: right;\">\n",
       "      <th></th>\n",
       "      <th>label</th>\n",
       "    </tr>\n",
       "  </thead>\n",
       "  <tbody>\n",
       "    <tr>\n",
       "      <th>0</th>\n",
       "      <td>1</td>\n",
       "    </tr>\n",
       "    <tr>\n",
       "      <th>1</th>\n",
       "      <td>0</td>\n",
       "    </tr>\n",
       "    <tr>\n",
       "      <th>2</th>\n",
       "      <td>1</td>\n",
       "    </tr>\n",
       "    <tr>\n",
       "      <th>3</th>\n",
       "      <td>1</td>\n",
       "    </tr>\n",
       "    <tr>\n",
       "      <th>4</th>\n",
       "      <td>1</td>\n",
       "    </tr>\n",
       "    <tr>\n",
       "      <th>...</th>\n",
       "      <td>...</td>\n",
       "    </tr>\n",
       "    <tr>\n",
       "      <th>2837</th>\n",
       "      <td>0</td>\n",
       "    </tr>\n",
       "    <tr>\n",
       "      <th>2838</th>\n",
       "      <td>1</td>\n",
       "    </tr>\n",
       "    <tr>\n",
       "      <th>2839</th>\n",
       "      <td>0</td>\n",
       "    </tr>\n",
       "    <tr>\n",
       "      <th>2840</th>\n",
       "      <td>1</td>\n",
       "    </tr>\n",
       "    <tr>\n",
       "      <th>2841</th>\n",
       "      <td>1</td>\n",
       "    </tr>\n",
       "  </tbody>\n",
       "</table>\n",
       "<p>2842 rows × 1 columns</p>\n",
       "</div>"
      ],
      "text/plain": [
       "      label\n",
       "0         1\n",
       "1         0\n",
       "2         1\n",
       "3         1\n",
       "4         1\n",
       "...     ...\n",
       "2837      0\n",
       "2838      1\n",
       "2839      0\n",
       "2840      1\n",
       "2841      1\n",
       "\n",
       "[2842 rows x 1 columns]"
      ]
     },
     "metadata": {}
    }
   ],
   "metadata": {}
  },
  {
   "cell_type": "code",
   "execution_count": 5,
   "source": [
    "X_train_comments = Model.convertToNFX(X_train['normalize_comment'], 'NFC')\n",
    "X_test_comments = Model.convertToNFX(X_test['normalize_comment'], 'NFC')"
   ],
   "outputs": [],
   "metadata": {}
  },
  {
   "cell_type": "code",
   "execution_count": 8,
   "source": [
    "tokenizer = DeepModel.tokenize(X_train_comments)\n",
    "token_train_cmts = tokenizer.texts_to_sequences(X_train_comments)\n",
    "padded_train_cmts = DeepModel.padding(token_train_cmts)"
   ],
   "outputs": [],
   "metadata": {}
  },
  {
   "cell_type": "code",
   "execution_count": 9,
   "source": [
    "vocab_size = len(tokenizer.word_index) + 1\n",
    "embedding_dim = padded_train_cmts.shape[1]\n",
    "neurons = 10\n",
    "dropout = 0.2\n",
    "\n",
    "lstm_model = DeepModel.defineLSTM(vocab_size, embedding_dim, neurons, dropout)"
   ],
   "outputs": [
    {
     "output_type": "stream",
     "name": "stdout",
     "text": [
      "WARNING:tensorflow:Layer lstm will not use cuDNN kernel since it doesn't meet the cuDNN kernel criteria. It will use generic GPU kernel as fallback when running on GPU\n"
     ]
    }
   ],
   "metadata": {}
  },
  {
   "cell_type": "code",
   "execution_count": 10,
   "source": [
    "lstm_model.summary()\n",
    "plot_model(lstm_model, to_file=\"./images/LSTM_sentiment.png\", show_shapes=True, show_layer_names=True)"
   ],
   "outputs": [
    {
     "output_type": "stream",
     "name": "stdout",
     "text": [
      "Model: \"sequential\"\n",
      "_________________________________________________________________\n",
      "Layer (type)                 Output Shape              Param #   \n",
      "=================================================================\n",
      "embedding (Embedding)        (None, 100, 100)          358500    \n",
      "_________________________________________________________________\n",
      "lstm (LSTM)                  (None, 10)                4440      \n",
      "_________________________________________________________________\n",
      "output (Dense)               (None, 2)                 22        \n",
      "=================================================================\n",
      "Total params: 362,962\n",
      "Trainable params: 362,962\n",
      "Non-trainable params: 0\n",
      "_________________________________________________________________\n"
     ]
    },
    {
     "output_type": "execute_result",
     "data": {
      "image/png": "[encoded data removed]",
      "text/plain": [
       "<IPython.core.display.Image object>"
      ]
     },
     "metadata": {},
     "execution_count": 10
    }
   ],
   "metadata": {}
  },
  {
   "cell_type": "code",
   "execution_count": 11,
   "source": [
    "batch_size = 32\n",
    "epochs = 10\n",
    "save_path = \"./models/LSTM_sentiment.h5\"\n",
    "DeepModel.fit(lstm_model, padded_train_cmts, y_train, batch_size, epochs, save_path) "
   ],
   "outputs": [
    {
     "output_type": "stream",
     "name": "stdout",
     "text": [
      "Epoch 1/10\n",
      "320/320 [==============================] - 57s 172ms/step - loss: 0.5499 - accuracy: 0.7813 - val_loss: 0.3498 - val_accuracy: 0.8610\n",
      "Epoch 2/10\n",
      "320/320 [==============================] - 57s 179ms/step - loss: 0.2856 - accuracy: 0.8935 - val_loss: 0.3330 - val_accuracy: 0.8646\n",
      "Epoch 3/10\n",
      "320/320 [==============================] - 58s 181ms/step - loss: 0.2397 - accuracy: 0.9122 - val_loss: 0.3340 - val_accuracy: 0.8619\n",
      "Epoch 4/10\n",
      "320/320 [==============================] - 58s 181ms/step - loss: 0.2112 - accuracy: 0.9244 - val_loss: 0.3402 - val_accuracy: 0.8672\n",
      "Epoch 5/10\n",
      "320/320 [==============================] - 59s 183ms/step - loss: 0.1976 - accuracy: 0.9301 - val_loss: 0.3603 - val_accuracy: 0.8690\n",
      "Epoch 6/10\n",
      "320/320 [==============================] - 59s 183ms/step - loss: 0.1744 - accuracy: 0.9397 - val_loss: 0.3668 - val_accuracy: 0.8602\n",
      "Epoch 7/10\n",
      "320/320 [==============================] - 61s 191ms/step - loss: 0.1643 - accuracy: 0.9445 - val_loss: 0.3858 - val_accuracy: 0.8549\n",
      "Epoch 8/10\n",
      "320/320 [==============================] - 58s 183ms/step - loss: 0.1552 - accuracy: 0.9450 - val_loss: 0.4033 - val_accuracy: 0.8566\n",
      "Epoch 9/10\n",
      "320/320 [==============================] - 59s 185ms/step - loss: 0.1487 - accuracy: 0.9497 - val_loss: 0.4159 - val_accuracy: 0.8566\n",
      "Epoch 10/10\n",
      "320/320 [==============================] - 59s 186ms/step - loss: 0.1354 - accuracy: 0.9523 - val_loss: 0.4369 - val_accuracy: 0.8566\n",
      "<tensorflow.python.keras.callbacks.History object at 0x7f591d8a8280>\n"
     ]
    }
   ],
   "metadata": {}
  },
  {
   "cell_type": "code",
   "execution_count": 12,
   "source": [
    "token_test_cmts = tokenizer.texts_to_sequences(X_test_comments)\n",
    "padded_test_cmts = DeepModel.padding(token_test_cmts)"
   ],
   "outputs": [],
   "metadata": {}
  },
  {
   "cell_type": "code",
   "execution_count": 13,
   "source": [
    "prediction = lstm_model.predict_proba(padded_test_cmts)"
   ],
   "outputs": [],
   "metadata": {}
  },
  {
   "cell_type": "code",
   "execution_count": 18,
   "source": [
    "inverted = np.argmax(prediction, axis=1)\n",
    "Model.confusionMatrix(y_test, inverted)"
   ],
   "outputs": [
    {
     "output_type": "stream",
     "name": "stdout",
     "text": [
      "              precision    recall  f1-score   support\n",
      "\n",
      "    Negative       0.86      0.86      0.86      1410\n",
      "    Positive       0.86      0.86      0.86      1432\n",
      "\n",
      "    accuracy                           0.86      2842\n",
      "   macro avg       0.86      0.86      0.86      2842\n",
      "weighted avg       0.86      0.86      0.86      2842\n",
      "\n"
     ]
    },
    {
     "output_type": "display_data",
     "data": {
      "image/png": "[encoded data removed]",
      "text/plain": [
       "<Figure size 432x288 with 2 Axes>"
      ]
     },
     "metadata": {
      "needs_background": "light"
     }
    }
   ],
   "metadata": {}
  },
  {
   "cell_type": "code",
   "execution_count": 19,
   "source": [
    "epochs = 50\n",
    "save_path = \"./models/LSTM_sentiment_50.h5\"\n",
    "neurons = 50\n",
    "\n",
    "lstm_model_50 = DeepModel.defineLSTM(vocab_size, embedding_dim, neurons, dropout)\n",
    "DeepModel.fit(lstm_model_50, padded_train_cmts, y_train, batch_size, epochs, save_path) "
   ],
   "outputs": [
    {
     "output_type": "stream",
     "name": "stdout",
     "text": [
      "WARNING:tensorflow:Layer lstm will not use cuDNN kernel since it doesn't meet the cuDNN kernel criteria. It will use generic GPU kernel as fallback when running on GPU\n",
      "Epoch 1/50\n"
     ]
    }
   ],
   "metadata": {}
  },
  {
   "cell_type": "code",
   "execution_count": null,
   "source": [],
   "outputs": [],
   "metadata": {}
  }
 ],
 "metadata": {
  "orig_nbformat": 4,
  "language_info": {
   "name": "python",
   "version": "3.8.12",
   "mimetype": "text/x-python",
   "codemirror_mode": {
    "name": "ipython",
    "version": 3
   },
   "pygments_lexer": "ipython3",
   "nbconvert_exporter": "python",
   "file_extension": ".py"
  },
  "kernelspec": {
   "name": "python3",
   "display_name": "Python 3.8.12 64-bit ('py-3.8': conda)"
  },
  "interpreter": {
   "hash": "4f972728801480ff66e9a4f8d00e82f0bd4ac2d47d370a96a013d34ff4da37a6"
  }
 },
 "nbformat": 4,
 "nbformat_minor": 2
}