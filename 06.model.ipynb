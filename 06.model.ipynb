{
 "cells": [
  {
   "cell_type": "code",
   "execution_count": 1,
   "source": [
    "!python --version\n",
    "!pip list"
   ],
   "outputs": [
    {
     "output_type": "stream",
     "name": "stdout",
     "text": [
      "Python 3.6.8 :: Anaconda, Inc.\n",
      "Package                       Version\n",
      "----------------------------- ---------\n",
      "absl-py                       0.13.0\n",
      "astor                         0.8.1\n",
      "backports.functools-lru-cache 1.6.4\n",
      "certifi                       2021.5.30\n",
      "coverage                      5.5\n",
      "cycler                        0.10.0\n",
      "Cython                        0.29.24\n",
      "decorator                     5.1.0\n",
      "emojis                        0.6.0\n",
      "entrypoints                   0.3\n",
      "gast                          0.2.2\n",
      "google-pasta                  0.2.0\n",
      "grpcio                        1.36.1\n",
      "h5py                          2.10.0\n",
      "importlib-metadata            4.8.1\n",
      "ipykernel                     5.5.5\n",
      "ipython                       5.8.0\n",
      "ipython-genutils              0.2.0\n",
      "joblib                        1.1.0\n",
      "jupyter-client                7.0.6\n",
      "jupyter-core                  4.8.1\n",
      "Keras                         2.3.0\n",
      "Keras-Applications            1.0.8\n",
      "Keras-Preprocessing           1.1.2\n",
      "kiwisolver                    1.3.1\n",
      "Markdown                      3.3.4\n",
      "matplotlib                    3.3.4\n",
      "mkl-fft                       1.3.0\n",
      "mkl-random                    1.1.1\n",
      "mkl-service                   2.3.0\n",
      "nest-asyncio                  1.5.1\n",
      "numpy                         1.19.2\n",
      "opt-einsum                    3.3.0\n",
      "pandas                        1.1.5\n",
      "pexpect                       4.8.0\n",
      "pickleshare                   0.7.5\n",
      "Pillow                        8.4.0\n",
      "pip                           21.2.2\n",
      "plotly                        5.3.1\n",
      "prompt-toolkit                1.0.15\n",
      "protobuf                      3.17.2\n",
      "ptyprocess                    0.7.0\n",
      "pydot                         1.4.2\n",
      "Pygments                      2.10.0\n",
      "pyparsing                     2.4.7\n",
      "python-dateutil               2.8.2\n",
      "pytz                          2021.3\n",
      "PyYAML                        6.0\n",
      "pyzmq                         19.0.2\n",
      "scikit-learn                  0.24.2\n",
      "scipy                         1.5.2\n",
      "seaborn                       0.11.2\n",
      "setuptools                    58.0.4\n",
      "simplegeneric                 0.8.1\n",
      "six                           1.16.0\n",
      "tenacity                      8.0.1\n",
      "tensorboard                   2.0.0\n",
      "tensorflow                    2.0.0\n",
      "tensorflow-estimator          2.6.0\n",
      "termcolor                     1.1.0\n",
      "threadpoolctl                 3.0.0\n",
      "tornado                       6.1\n",
      "traitlets                     4.3.3\n",
      "typing-extensions             3.10.0.2\n",
      "wcwidth                       0.2.5\n",
      "Werkzeug                      0.16.1\n",
      "wheel                         0.37.0\n",
      "wrapt                         1.12.1\n",
      "xgboost                       1.5.0\n",
      "zipp                          3.6.0\n"
     ]
    }
   ],
   "metadata": {}
  },
  {
   "cell_type": "code",
   "execution_count": null,
   "source": [
    "%load_ext autoreload\n",
    "%autoreload 2"
   ],
   "outputs": [],
   "metadata": {}
  }
 ],
 "metadata": {
  "orig_nbformat": 4,
  "language_info": {
   "name": "python",
   "version": "3.6.8",
   "mimetype": "text/x-python",
   "codemirror_mode": {
    "name": "ipython",
    "version": 3
   },
   "pygments_lexer": "ipython3",
   "nbconvert_exporter": "python",
   "file_extension": ".py"
  },
  "kernelspec": {
   "name": "python3",
   "display_name": "Python 3.6.8 64-bit ('tensor2x': conda)"
  },
  "interpreter": {
   "hash": "d65fcd1f07c929fdb1e8f9d6054efa0019da167a8178be6b98d8f036a76e6824"
  }
 },
 "nbformat": 4,
 "nbformat_minor": 2
}