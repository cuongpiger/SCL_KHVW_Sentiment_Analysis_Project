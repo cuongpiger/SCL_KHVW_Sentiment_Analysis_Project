{
 "cells": [
  {
   "cell_type": "code",
   "execution_count": 1,
   "source": [
    "%load_ext autoreload\n",
    "%autoreload 2"
   ],
   "outputs": [],
   "metadata": {}
  },
  {
   "cell_type": "code",
   "execution_count": 2,
   "source": [
    "import modules.eda as Detective\n",
    "import pandas as pd\n",
    "import warnings\n",
    "import numpy as np\n",
    "import random\n",
    "from tensorflow.keras import Input, Model\n",
    "from tensorflow.keras.layers import Dense\n",
    "\n",
    "warnings.filterwarnings('ignore')"
   ],
   "outputs": [],
   "metadata": {}
  },
  {
   "cell_type": "markdown",
   "source": [
    "Đọc dữ liệu từ project 1 và sắp xếp lại các column"
   ],
   "metadata": {}
  },
  {
   "cell_type": "code",
   "execution_count": 3,
   "source": [
    "reviews = pd.read_csv(\"./data/normalize_reviews.csv\").fillna(\"\")\n",
    "reviews = reviews[['raw_comment', 'normalize_comment', 'emoji', 'label']]\n",
    "\n",
    "reviews.head()"
   ],
   "outputs": [
    {
     "output_type": "execute_result",
     "data": {
      "text/html": [
       "<div>\n",
       "<style scoped>\n",
       "    .dataframe tbody tr th:only-of-type {\n",
       "        vertical-align: middle;\n",
       "    }\n",
       "\n",
       "    .dataframe tbody tr th {\n",
       "        vertical-align: top;\n",
       "    }\n",
       "\n",
       "    .dataframe thead th {\n",
       "        text-align: right;\n",
       "    }\n",
       "</style>\n",
       "<table border=\"1\" class=\"dataframe\">\n",
       "  <thead>\n",
       "    <tr style=\"text-align: right;\">\n",
       "      <th></th>\n",
       "      <th>raw_comment</th>\n",
       "      <th>normalize_comment</th>\n",
       "      <th>emoji</th>\n",
       "      <th>label</th>\n",
       "    </tr>\n",
       "  </thead>\n",
       "  <tbody>\n",
       "    <tr>\n",
       "      <th>0</th>\n",
       "      <td>Giao hàng kh đúng cần phê bình hjjjjjhhd...</td>\n",
       "      <td>giao hàng không đúng cần phê bình</td>\n",
       "      <td></td>\n",
       "      <td>0</td>\n",
       "    </tr>\n",
       "    <tr>\n",
       "      <th>1</th>\n",
       "      <td>Chất lượng sản phẩm tạm được. Giao...</td>\n",
       "      <td>chất lượng sản phẩm tạm được giao ...</td>\n",
       "      <td></td>\n",
       "      <td>0</td>\n",
       "    </tr>\n",
       "    <tr>\n",
       "      <th>2</th>\n",
       "      <td>Ko có lắc tay như hình</td>\n",
       "      <td>không có lắc tay như hình</td>\n",
       "      <td></td>\n",
       "      <td>0</td>\n",
       "    </tr>\n",
       "    <tr>\n",
       "      <th>3</th>\n",
       "      <td>Giao hàng lâu. Bảo có lắc tay mà k thâ...</td>\n",
       "      <td>giao hàng lâu bảo có lắc tay mà không ...</td>\n",
       "      <td></td>\n",
       "      <td>0</td>\n",
       "    </tr>\n",
       "    <tr>\n",
       "      <th>4</th>\n",
       "      <td>Mình mua 2 cái, một dùng ok. Một cái k...</td>\n",
       "      <td>mua cái một dùng ok một cái không chạ...</td>\n",
       "      <td>😢</td>\n",
       "      <td>0</td>\n",
       "    </tr>\n",
       "  </tbody>\n",
       "</table>\n",
       "</div>"
      ],
      "text/plain": [
       "                                         raw_comment  \\\n",
       "0  Giao hàng kh đúng cần phê bình hjjjjjhhd...   \n",
       "1  Chất lượng sản phẩm tạm được. Giao...   \n",
       "2                        Ko có lắc tay như hình   \n",
       "3  Giao hàng lâu. Bảo có lắc tay mà k thâ...   \n",
       "4  Mình mua 2 cái, một dùng ok. Một cái k...   \n",
       "\n",
       "                                   normalize_comment emoji  label  \n",
       "0           giao hàng không đúng cần phê bình            0  \n",
       "1  chất lượng sản phẩm tạm được giao ...            0  \n",
       "2                    không có lắc tay như hình            0  \n",
       "3  giao hàng lâu bảo có lắc tay mà không ...            0  \n",
       "4  mua cái một dùng ok một cái không chạ...     😢      0  "
      ]
     },
     "metadata": {},
     "execution_count": 3
    }
   ],
   "metadata": {}
  },
  {
   "cell_type": "markdown",
   "source": [
    "Cho đến hiện tại, chúng ta đã cùng nhau phá tan tành dataset này, điều mà tôi muốn làm tiếp theo là sẽ biễu diễn các từ lên một không gian 2 chiều hoặc thậm chí là 3 chiều.\n",
    "\n",
    "Điều này theo tôi là rất hữu ích, vì giống như các unsupervised model, nhiều khi chúng ta cũng cần biết cách mà các observe phân phối như thế nào.\n",
    "\n",
    "Nhưng trước tiên, ta cần một số thiết lập **ban đầu** như sau:\n",
    "  * Tôi cần download vài file cấu hình sẵn:\n",
    "    ```shell\n",
    "    pip install fasttext\n",
    "    ```\n",
    "  * Thực chất, hai gói mà ta vừa download trên là chứa tập các từ tiếng anh và tiếng việt đã được vectorization thành các vector 300 dimentions, bạn đừng lo lắng về chất lượng của hai tập words embedding này bởi vì cha đẻ của nó là Facebook.\n",
    "  * Thời gian download hai gói này cực kì lâu, khoảng 4GB cho một gói - và về giải nén ra mỗi file sẽ khoảng 7.3GB, tôi khuyến khích bạn đừng nên download theo cách trên mà nên lên trang chủ của họ và download trực tiếp bằng Internet download manager hoặc Xtreme download manager sẽ nhanh hơn, khoảng 15 phút cho một gói - đây là trang chủ của họ:\n",
    "    [https://fasttext.cc/docs/en/crawl-vectors.html](https://fasttext.cc/docs/en/crawl-vectors.html)"
   ],
   "metadata": {}
  },
  {
   "cell_type": "code",
   "execution_count": 4,
   "source": [
    "import fasttext.util\n",
    "import fasttext\n",
    "\n",
    "fasttext.util.download_model('en', if_exists='ignore') # english\n",
    "fasttext.util.download_model('vi', if_exists='ignore') # vietnamese "
   ],
   "outputs": [
    {
     "output_type": "execute_result",
     "data": {
      "text/plain": [
       "'cc.vi.300.bin'"
      ]
     },
     "metadata": {},
     "execution_count": 4
    }
   ],
   "metadata": {}
  },
  {
   "cell_type": "markdown",
   "source": [
    "<span style=\"color: red; font-weight: 900; font-size: 30px\">Lưu ý:</span> \n",
    "* Bạn chỉ nên sài dòng này nếu máy tính của bạn là từ 16GB RAM - Core I7 gen 7 dòng xung cao trở lên. Và nên dùng hệ điều hành Linux vì nó có RAM ảo hỗ trợ bạn để máy bạn chỉ lag thôi chứ không đứng.\n",
    "  ```python\n",
    "  ft_vi = fasttext.load_model('cc.vi.300.bin')\n",
    "  ft_en = fasttext.load_model('cc.en.300.bin')\n",
    "  ```\n",
    "\n",
    "* Còn đây là tôi đã giảm chiều từ một bộ data 7.2GB xuống còn 100 chiều, bạn có thể dùng dòng này, bạn có thể giảm nhiều hơn nếu muốn. Và tốt nhất là bạn cần tắt tất cả mọi chương trình nên đang chạy nếu bạn không muốn nghe máy tính của bạn \"hát ca điên cuồng\".\n",
    "  ```python\n",
    "  fasttext.util.reduce_model(ft_vi, 100)\n",
    "  ft_vi.save_model('cc.vi.100.bin')\n",
    "  fasttext.util.reduce_model(ft_en, 100)\n",
    "  ft_en.save_model('cc.en.100.bin')\n",
    "  ```"
   ],
   "metadata": {}
  },
  {
   "cell_type": "markdown",
   "source": [
    "Bây giờ chúng ta sẽ load lại tập embed word 100 dims mà ta vừa tạo, nó sẽ ăn máy của bạn khoảng 3GB RAM."
   ],
   "metadata": {}
  },
  {
   "cell_type": "code",
   "execution_count": 5,
   "source": [
    "ft_vi = fasttext.load_model('cc.vi.100.bin')\n",
    "ft_en = fasttext.load_model('cc.en.100.bin')"
   ],
   "outputs": [
    {
     "output_type": "stream",
     "name": "stderr",
     "text": [
      "Warning : `load_model` does not return WordVectorModel or SupervisedModel any more, but a `FastText` object which is very similar.\n",
      "Warning : `load_model` does not return WordVectorModel or SupervisedModel any more, but a `FastText` object which is very similar.\n"
     ]
    }
   ],
   "metadata": {}
  },
  {
   "cell_type": "markdown",
   "source": [
    "Dưới đây là vector 100 dims của từ \"xin chào\" và vài từ khác.\n",
    "\n",
    "Thực chất fasttext là một công cụ hỗ trợ cực kì tốt mà tôi biết đến nó thông qua một tài tweet tren Twitter. Hãy tin tưởng mà sử dụng nó, nó sẽ giúp cho cái bài toán NLP của bạn \"đỡ khổ\" hơn nhiều."
   ],
   "metadata": {}
  },
  {
   "cell_type": "code",
   "execution_count": 6,
   "source": [
    "ft_vi.get_word_vector('xin chào')"
   ],
   "outputs": [
    {
     "output_type": "execute_result",
     "data": {
      "text/plain": [
       "array([-0.005858  ,  0.00591698,  0.05544396,  0.01845348,  0.03497462,\n",
       "       -0.01731673, -0.0186325 , -0.05789406, -0.01456467,  0.05405328,\n",
       "        0.0162955 ,  0.02371605, -0.02689386,  0.0168477 , -0.02608746,\n",
       "       -0.00542725, -0.01952248,  0.02309453,  0.00077463, -0.01623438,\n",
       "       -0.02708885, -0.02166499,  0.01338364, -0.00763521, -0.01389443,\n",
       "       -0.00743966, -0.04979044, -0.02639596,  0.01744116, -0.02117856,\n",
       "        0.00118052,  0.00367191, -0.00203112,  0.01383345,  0.01485165,\n",
       "       -0.00397428,  0.02199381,  0.02537224, -0.00114648, -0.01440865,\n",
       "       -0.01821862,  0.01354136,  0.00441786, -0.01989009,  0.00784927,\n",
       "       -0.00614514,  0.01168528,  0.02575686,  0.01241738, -0.00843297,\n",
       "        0.02774723,  0.00453759,  0.00838433,  0.01327751, -0.01783348,\n",
       "        0.01831022, -0.01594335, -0.00435727,  0.00035578, -0.07555512,\n",
       "        0.01310887, -0.04912862,  0.01182956,  0.03159093,  0.04497012,\n",
       "        0.02143607,  0.00049193, -0.00196764,  0.00246742,  0.01363291,\n",
       "       -0.02314509, -0.00219922, -0.02380401, -0.01026245, -0.01819856,\n",
       "        0.0151787 ,  0.01194715, -0.00761893, -0.01721501,  0.01119621,\n",
       "        0.02290164, -0.01710619, -0.02078362,  0.0228194 ,  0.00750548,\n",
       "        0.00201767,  0.06676898, -0.00448752,  0.01720995,  0.00851261,\n",
       "       -0.02720573,  0.01439547,  0.02121913, -0.01952045, -0.01194024,\n",
       "       -0.01461318,  0.00467993, -0.00556966, -0.01434838, -0.0315196 ],\n",
       "      dtype=float32)"
      ]
     },
     "metadata": {},
     "execution_count": 6
    }
   ],
   "metadata": {}
  },
  {
   "cell_type": "code",
   "execution_count": 7,
   "source": [
    "ft_vi.get_word_vector(\"shipper\")"
   ],
   "outputs": [
    {
     "output_type": "execute_result",
     "data": {
      "text/plain": [
       "array([-0.04482329,  0.1306968 ,  0.00602638,  0.08205491, -0.09409259,\n",
       "       -0.00268238, -0.00441986, -0.14670041, -0.07580385,  0.11864945,\n",
       "       -0.07212971, -0.04020993,  0.06071544, -0.05108281, -0.04871833,\n",
       "       -0.13044995,  0.05104804, -0.0647935 ,  0.06504327,  0.02786569,\n",
       "        0.02255378,  0.0658379 ,  0.00524131, -0.01714174,  0.02031365,\n",
       "        0.04050732,  0.03624526, -0.00705281, -0.00607613, -0.04202025,\n",
       "        0.02640752,  0.02390548,  0.03726061,  0.0165013 ,  0.08770727,\n",
       "       -0.11049094,  0.03829083, -0.03813533, -0.06787217,  0.11119355,\n",
       "        0.08849208,  0.02690171,  0.00534289, -0.06304946,  0.07952289,\n",
       "        0.16372508,  0.02963781, -0.05313126, -0.05538091,  0.0243446 ,\n",
       "        0.17476527,  0.05392487, -0.08586453, -0.03984641, -0.06173296,\n",
       "        0.04835213, -0.04918601,  0.12133241,  0.01697406, -0.08753216,\n",
       "       -0.05530317, -0.03141787, -0.07614072,  0.11230698, -0.01196967,\n",
       "       -0.02775046, -0.0485909 , -0.08594808,  0.03448322,  0.07165931,\n",
       "       -0.0421441 ,  0.02105435,  0.04268556,  0.05363652,  0.04589817,\n",
       "        0.02782094,  0.02825668,  0.03267308, -0.0577312 ,  0.0668293 ,\n",
       "        0.03514689,  0.05725601, -0.11705823, -0.0206674 ,  0.05662723,\n",
       "       -0.05252227,  0.04314893, -0.02537445,  0.04091778, -0.01134288,\n",
       "       -0.04383793,  0.03717593,  0.01454818,  0.01900238, -0.09251589,\n",
       "       -0.04429725, -0.06188246, -0.08065203,  0.00760574, -0.0462208 ],\n",
       "      dtype=float32)"
      ]
     },
     "metadata": {},
     "execution_count": 7
    }
   ],
   "metadata": {}
  },
  {
   "cell_type": "code",
   "execution_count": 8,
   "source": [
    "ft_en.get_word_vector(\"shipper\")"
   ],
   "outputs": [
    {
     "output_type": "execute_result",
     "data": {
      "text/plain": [
       "array([-2.99756192e-02, -5.92948869e-02, -1.14630638e-02, -4.70631421e-02,\n",
       "        3.24248299e-02, -8.74208435e-02, -1.47009909e-01,  5.99884521e-03,\n",
       "        3.20037752e-02,  2.02425458e-02,  2.08814330e-02, -5.86299365e-03,\n",
       "       -2.06765789e-03, -4.06624787e-02, -2.24276762e-02, -1.59674391e-01,\n",
       "       -7.36591890e-02, -4.33965698e-02, -1.39081981e-02,  1.87481493e-02,\n",
       "        1.12330727e-01, -4.94616888e-02,  2.05947123e-02, -7.88073093e-02,\n",
       "       -3.01143285e-02,  1.31405646e-03,  2.41592713e-02,  6.47805110e-02,\n",
       "        1.57513142e-01,  4.18538265e-02,  1.05798662e-01, -7.28724003e-02,\n",
       "        4.21688966e-02, -9.84481424e-02, -4.85281572e-02, -1.47368968e-01,\n",
       "       -2.36060610e-03,  8.55448395e-02, -4.39639166e-02,  8.25370289e-03,\n",
       "       -9.71954912e-02, -8.00786354e-03,  2.19022390e-02, -1.62983984e-01,\n",
       "        6.80357963e-03,  8.00233632e-02,  6.63501471e-02, -3.30431424e-02,\n",
       "        6.36976063e-02,  7.55386278e-02,  2.70912703e-02,  4.32227217e-02,\n",
       "        2.33277492e-02, -3.52903306e-02, -5.81459468e-03,  4.24507372e-02,\n",
       "       -5.04243672e-02,  5.94339799e-03,  1.48756085e-02, -3.91519666e-02,\n",
       "       -3.18258777e-02, -9.08403366e-04, -3.27009484e-02, -3.72941494e-02,\n",
       "       -2.72052698e-02,  6.37116134e-02, -2.60582920e-02, -4.85311672e-02,\n",
       "       -5.07016145e-02, -8.58475119e-02, -1.22737423e-01, -2.04580538e-05,\n",
       "        1.10536246e-02, -5.68021238e-02,  3.07537168e-02,  1.44481538e-02,\n",
       "        1.33990750e-01,  1.13357507e-01,  3.47727421e-03,  2.81960070e-02,\n",
       "       -1.29164639e-03, -5.12360483e-02,  1.29533574e-01,  4.64480789e-03,\n",
       "       -8.16457346e-02, -1.50127932e-02,  6.17302349e-03,  5.20901009e-02,\n",
       "       -1.25290742e-02,  4.37334478e-02,  5.52784614e-02,  5.58346286e-02,\n",
       "       -3.61467116e-02, -2.41361298e-02,  7.62666315e-02,  2.38128286e-02,\n",
       "        5.36810681e-02,  5.88007644e-02, -6.12015501e-02, -1.09539870e-02],\n",
       "      dtype=float32)"
      ]
     },
     "metadata": {},
     "execution_count": 8
    }
   ],
   "metadata": {}
  },
  {
   "cell_type": "markdown",
   "source": [
    "> **Nhận xét**:\n",
    "> * Mặc dù là tập dữ liệu được dành riêng cho từng ngôn ngữ nhưng khi ta thử kiểm tra với một vài từ tiếng anh thì `ft_vi` vẫn cho ra kết quả tuy nhiên lại khác đi phần nhiều so với `ft_en`. Điều này là dễ hiểu vì đây là dữ liệu **thật** được Facebook gom về từ các dịch vụ của họ, và nói về khoảng quảng cáo bán hàng thì Facebook hiểu bạn thế nào thì bạn cũng quá rõ rồi.\n",
    "> * Và việc embedded vector của cùng một từ tiếng anh nhưng trên `ft_vi` và `ft_en` khác nhau cũng là chuyện dễ hiểu."
   ],
   "metadata": {}
  },
  {
   "cell_type": "markdown",
   "source": [
    "Tiếp theo chúng ta sẽ vectorization các word có trong dataset của chúng ta bằng `ft_vi`."
   ],
   "metadata": {}
  },
  {
   "cell_type": "code",
   "execution_count": 9,
   "source": [
    "vec_words = Detective.ftVectorization(reviews, ft_vi)\n",
    "vec_words"
   ],
   "outputs": [
    {
     "output_type": "execute_result",
     "data": {
      "text/html": [
       "<div>\n",
       "<style scoped>\n",
       "    .dataframe tbody tr th:only-of-type {\n",
       "        vertical-align: middle;\n",
       "    }\n",
       "\n",
       "    .dataframe tbody tr th {\n",
       "        vertical-align: top;\n",
       "    }\n",
       "\n",
       "    .dataframe thead th {\n",
       "        text-align: right;\n",
       "    }\n",
       "</style>\n",
       "<table border=\"1\" class=\"dataframe\">\n",
       "  <thead>\n",
       "    <tr style=\"text-align: right;\">\n",
       "      <th></th>\n",
       "      <th>word</th>\n",
       "      <th>freq</th>\n",
       "      <th>ft_vec</th>\n",
       "      <th>label</th>\n",
       "    </tr>\n",
       "  </thead>\n",
       "  <tbody>\n",
       "    <tr>\n",
       "      <th>0</th>\n",
       "      <td>thèm</td>\n",
       "      <td>56</td>\n",
       "      <td>[0.12546667, 0.27063507, -0.3226054, 0.1076125...</td>\n",
       "      <td>0</td>\n",
       "    </tr>\n",
       "    <tr>\n",
       "      <th>1</th>\n",
       "      <td>lum</td>\n",
       "      <td>35</td>\n",
       "      <td>[0.31741396, 0.60768604, -0.23061581, 0.342011...</td>\n",
       "      <td>0</td>\n",
       "    </tr>\n",
       "    <tr>\n",
       "      <th>2</th>\n",
       "      <td>tùm</td>\n",
       "      <td>35</td>\n",
       "      <td>[0.34853685, 0.19606084, -0.22714649, 0.080849...</td>\n",
       "      <td>0</td>\n",
       "    </tr>\n",
       "    <tr>\n",
       "      <th>3</th>\n",
       "      <td>huỷ</td>\n",
       "      <td>31</td>\n",
       "      <td>[0.24349461, 0.12490517, -0.20848149, -0.01994...</td>\n",
       "      <td>0</td>\n",
       "    </tr>\n",
       "    <tr>\n",
       "      <th>4</th>\n",
       "      <td>đểu</td>\n",
       "      <td>28</td>\n",
       "      <td>[0.08494775, 0.045489177, -0.035257675, -0.022...</td>\n",
       "      <td>0</td>\n",
       "    </tr>\n",
       "    <tr>\n",
       "      <th>...</th>\n",
       "      <td>...</td>\n",
       "      <td>...</td>\n",
       "      <td>...</td>\n",
       "      <td>...</td>\n",
       "    </tr>\n",
       "    <tr>\n",
       "      <th>3862</th>\n",
       "      <td>swatch</td>\n",
       "      <td>2</td>\n",
       "      <td>[0.08958084, 0.15783022, -0.00658212, 0.263154...</td>\n",
       "      <td>2</td>\n",
       "    </tr>\n",
       "    <tr>\n",
       "      <th>3863</th>\n",
       "      <td>shock</td>\n",
       "      <td>2</td>\n",
       "      <td>[-0.047569092, 0.16774213, -0.014833469, 0.254...</td>\n",
       "      <td>2</td>\n",
       "    </tr>\n",
       "    <tr>\n",
       "      <th>3864</th>\n",
       "      <td>ối</td>\n",
       "      <td>2</td>\n",
       "      <td>[0.05223365, 0.014435465, 0.006510902, 0.02751...</td>\n",
       "      <td>2</td>\n",
       "    </tr>\n",
       "    <tr>\n",
       "      <th>3865</th>\n",
       "      <td>nẵng</td>\n",
       "      <td>2</td>\n",
       "      <td>[-0.0120164575, -0.0057069273, -0.0016485625, ...</td>\n",
       "      <td>2</td>\n",
       "    </tr>\n",
       "    <tr>\n",
       "      <th>3866</th>\n",
       "      <td>oe</td>\n",
       "      <td>2</td>\n",
       "      <td>[0.8302758, 1.1395676, -0.4882264, 0.68928546,...</td>\n",
       "      <td>2</td>\n",
       "    </tr>\n",
       "  </tbody>\n",
       "</table>\n",
       "<p>3867 rows × 4 columns</p>\n",
       "</div>"
      ],
      "text/plain": [
       "        word  freq                                             ft_vec  label\n",
       "0      thèm    56  [0.12546667, 0.27063507, -0.3226054, 0.1076125...      0\n",
       "1        lum    35  [0.31741396, 0.60768604, -0.23061581, 0.342011...      0\n",
       "2       tùm    35  [0.34853685, 0.19606084, -0.22714649, 0.080849...      0\n",
       "3       huỷ    31  [0.24349461, 0.12490517, -0.20848149, -0.01994...      0\n",
       "4      đểu    28  [0.08494775, 0.045489177, -0.035257675, -0.022...      0\n",
       "...      ...   ...                                                ...    ...\n",
       "3862  swatch     2  [0.08958084, 0.15783022, -0.00658212, 0.263154...      2\n",
       "3863   shock     2  [-0.047569092, 0.16774213, -0.014833469, 0.254...      2\n",
       "3864    ối     2  [0.05223365, 0.014435465, 0.006510902, 0.02751...      2\n",
       "3865  nẵng     2  [-0.0120164575, -0.0057069273, -0.0016485625, ...      2\n",
       "3866      oe     2  [0.8302758, 1.1395676, -0.4882264, 0.68928546,...      2\n",
       "\n",
       "[3867 rows x 4 columns]"
      ]
     },
     "metadata": {},
     "execution_count": 9
    }
   ],
   "metadata": {}
  },
  {
   "cell_type": "markdown",
   "source": [
    "Tuy nhiên, tôi vẫn muốn xây dựng một model **word2vec** nhỏ nhỏ trên chính một phần nhỏ của dataset này, để ta có thể hiểu rõ hơn.\n",
    "\n",
    "Sẽ rất khó nếu ta tự build một word2vec model hoàn chỉnh giúp ta giải quyết toàn bộ dataset này vì nó yêu cầu nhiều về kiến thức đến phần cứng và tối ưu hóa.\n",
    "\n",
    "Vậy bằng cách nào mà ta tạo ra được chính các word vectors mà không dùng các resource bên ngoài. Nếu bạn đã học qua học biết về Deep Neural Network, ta có 3 layer lần lượt là input layer, hidden layer và output layer. Và ta biết một DNN nó sẽ tự đào tạo các weight trong các hidden layer sao cho loss function thấp nhất có thể so với output layer. Và đây cũng chính là ý tưởng của các model như word2vec mà Glove, Gensim, Word2Vec của TensorFlow sử dụng và tùy biến. Ở đây chiến lược của ta sẽ như sau:\n",
    "  * Trước tiên ta cần index hóa các unique word.\n",
    "  * Tiếp theo, vì tôi đang muốn so sánh với 100 dims word2vec model của `fasttext` nên tôi sẽ cấu hình cho hidden layer của ta bao gồm 100 neurons.\n",
    "  * Bước tạo ra output layer sẽ hơi phức tạp, trước tiên ta cần định nghĩa một **context window**, người ta định nghĩa nó là một số nguyên $\\geq 2$, nó hoạt động như sau:\n",
    "    * Giả sử ta có sentence: \"shop giao hàng siêu nhanh\", nó là một vector 5 chiều, vậy nếu bạn đã biết về CNN, thì context window hoạt động y như vậy, ta sẽ trượt window này, khi tới một từ nhất định - ta gọi từ này là **focus word** và lấy 2 từ kế bên trái và 2 từ bên phải - các từ này được gọi là **context word**, và lúc này ta được các cặp 2.\n",
    "    * Vậy giả sử với câu trên, focus word của ta là **hàng** thì 4 từ còn lại là các context word thì ta lần lượt đạt được các cặp từ như sau: (hàng, shop), (hàng, giao), (hàng, siêu) và (hàng, nhanh). Tôi tạm gọi đây là **word_list**.\n",
    "  * Vậy bây giờ ta sẽ duyệt qua từng element trong **word_list**, với từng phần tử trong element ta lấy word encoding vector tương ứng. Lúc này các vector của phần tử đầu tiên trong từng element chính là input và của phần tử thứ hai chính là output.\n",
    "\n",
    "Dưới đây là một model word2vec demo lấy ngẫu nhiên 50 comment từ dataset của chúng ta."
   ],
   "metadata": {}
  },
  {
   "cell_type": "code",
   "execution_count": 10,
   "source": [
    "from tqdm import tqdm\n",
    "\n",
    "def prepareInputOutput(psentences, word_id):\n",
    "    texts = psentences.copy()\n",
    "    window = 2\n",
    "    word_lists = []\n",
    "    \n",
    "    for text in texts:\n",
    "        words = text.split(\" \")\n",
    "        for i, word in enumerate(words):\n",
    "            for w in range(window):\n",
    "                if i + 1 + w < len(text): \n",
    "                    word_lists.append([word] + [text[(i + 1 + w)]])   \n",
    "                if i - w - 1 >= 0:\n",
    "                    word_lists.append([word] + [text[(i - w - 1)]])\n",
    "                    \n",
    "    X = []\n",
    "    Y = []\n",
    "    n_words = len(word_id)\n",
    "    words = list(word_id.keys())\n",
    "    \n",
    "    for i, word_list in tqdm(enumerate(word_lists)):\n",
    "        main_word_index = word_id.get(word_list[0])\n",
    "        context_word_index = word_id.get(word_list[1])\n",
    "        X_row = np.zeros(n_words)\n",
    "        Y_row = np.zeros(n_words)\n",
    "\n",
    "        X_row[main_word_index] = 1\n",
    "        Y_row[context_word_index] = 1\n",
    "\n",
    "        X.append(X_row)\n",
    "        Y.append(Y_row)\n",
    "\n",
    "    return np.asarray(X), np.asarray(Y)"
   ],
   "outputs": [],
   "metadata": {}
  },
  {
   "cell_type": "code",
   "execution_count": 11,
   "source": [
    "def word2vecForFunModel(X, Y, word_id):\n",
    "    embed_size = 2\n",
    "    inp = Input(shape=(X.shape[1],))\n",
    "    x = Dense(units=embed_size, activation='linear')(inp)\n",
    "    x = Dense(units=Y.shape[1], activation='softmax')(x)\n",
    "    model = Model(inputs=inp, outputs=x)\n",
    "    model.compile(loss='categorical_crossentropy', optimizer='adam')\n",
    "    model.fit(x=X, y=Y, batch_size=10, epochs=100)\n",
    "    weights = model.get_weights()[0]\n",
    "    embedding_dict = {}\n",
    "    for word in word_id.keys(): \n",
    "        embedding_dict.update({word: weights[word_id.get(word)]})\n",
    "        \n",
    "    return embedding_dict"
   ],
   "outputs": [],
   "metadata": {}
  },
  {
   "cell_type": "code",
   "execution_count": 12,
   "source": [
    "sentence_ids = random.sample(reviews.index.tolist(), 50)\n",
    "reviews_sub = reviews.loc[sentence_ids].copy()\n",
    "\n",
    "word_id_sub, id_word_sub = Detective.createWordDictionary(reviews_sub['normalize_comment'])\n",
    "X, Y = prepareInputOutput(reviews_sub['normalize_comment'], word_id_sub)"
   ],
   "outputs": [
    {
     "output_type": "stream",
     "name": "stderr",
     "text": [
      "2942it [00:00, 23603.03it/s]\n"
     ]
    }
   ],
   "metadata": {}
  },
  {
   "cell_type": "code",
   "execution_count": 13,
   "source": [
    "X"
   ],
   "outputs": [
    {
     "output_type": "execute_result",
     "data": {
      "text/plain": [
       "array([[0., 0., 0., ..., 0., 0., 0.],\n",
       "       [0., 0., 0., ..., 0., 0., 0.],\n",
       "       [0., 0., 0., ..., 0., 0., 0.],\n",
       "       ...,\n",
       "       [0., 0., 0., ..., 0., 0., 0.],\n",
       "       [0., 0., 0., ..., 0., 0., 0.],\n",
       "       [0., 0., 0., ..., 0., 0., 0.]])"
      ]
     },
     "metadata": {},
     "execution_count": 13
    }
   ],
   "metadata": {}
  },
  {
   "cell_type": "code",
   "execution_count": 14,
   "source": [
    "Y.shape"
   ],
   "outputs": [
    {
     "output_type": "execute_result",
     "data": {
      "text/plain": [
       "(2942, 322)"
      ]
     },
     "metadata": {},
     "execution_count": 14
    }
   ],
   "metadata": {}
  },
  {
   "cell_type": "code",
   "execution_count": 15,
   "source": [
    "w2c_my_model = word2vecForFunModel(X, Y, word_id_sub)"
   ],
   "outputs": [
    {
     "output_type": "stream",
     "name": "stdout",
     "text": [
      "Epoch 1/100\n",
      "295/295 [==============================] - 4s 5ms/step - loss: 1638.4199\n",
      "Epoch 2/100\n",
      "295/295 [==============================] - 1s 3ms/step - loss: 1639.4762\n",
      "Epoch 3/100\n",
      "295/295 [==============================] - 1s 3ms/step - loss: 1641.5571\n",
      "Epoch 4/100\n",
      "295/295 [==============================] - 1s 3ms/step - loss: 1644.5378\n",
      "Epoch 5/100\n",
      "295/295 [==============================] - 1s 2ms/step - loss: 1648.3105\n",
      "Epoch 6/100\n",
      "295/295 [==============================] - 1s 4ms/step - loss: 1652.7760\n",
      "Epoch 7/100\n",
      "295/295 [==============================] - 1s 3ms/step - loss: 1657.8695\n",
      "Epoch 8/100\n",
      "295/295 [==============================] - 1s 5ms/step - loss: 1663.5282\n",
      "Epoch 9/100\n",
      "295/295 [==============================] - 1s 5ms/step - loss: 1669.6908\n",
      "Epoch 10/100\n",
      "295/295 [==============================] - 1s 2ms/step - loss: 1676.3125\n",
      "Epoch 11/100\n",
      "295/295 [==============================] - 1s 2ms/step - loss: 1683.3496\n",
      "Epoch 12/100\n",
      "295/295 [==============================] - 1s 3ms/step - loss: 1690.7856\n",
      "Epoch 13/100\n",
      "295/295 [==============================] - 1s 4ms/step - loss: 1698.5668\n",
      "Epoch 14/100\n",
      "295/295 [==============================] - 1s 4ms/step - loss: 1706.7128\n",
      "Epoch 15/100\n",
      "295/295 [==============================] - 1s 3ms/step - loss: 1715.1217\n",
      "Epoch 16/100\n",
      "295/295 [==============================] - 1s 3ms/step - loss: 1723.8027\n",
      "Epoch 17/100\n",
      "295/295 [==============================] - 1s 3ms/step - loss: 1732.7374\n",
      "Epoch 18/100\n",
      "295/295 [==============================] - 1s 2ms/step - loss: 1742.0031\n",
      "Epoch 19/100\n",
      "295/295 [==============================] - 1s 3ms/step - loss: 1751.4353\n",
      "Epoch 20/100\n",
      "295/295 [==============================] - 2s 6ms/step - loss: 1761.0482\n",
      "Epoch 21/100\n",
      "295/295 [==============================] - 2s 7ms/step - loss: 1770.9103\n",
      "Epoch 22/100\n",
      "295/295 [==============================] - 2s 5ms/step - loss: 1780.8903\n",
      "Epoch 23/100\n",
      "295/295 [==============================] - 2s 6ms/step - loss: 1791.0231\n",
      "Epoch 24/100\n",
      "295/295 [==============================] - 2s 5ms/step - loss: 1801.4189\n",
      "Epoch 25/100\n",
      "295/295 [==============================] - 2s 5ms/step - loss: 1811.8939\n",
      "Epoch 26/100\n",
      "295/295 [==============================] - 2s 5ms/step - loss: 1822.4908\n",
      "Epoch 27/100\n",
      "295/295 [==============================] - 2s 8ms/step - loss: 1833.3033\n",
      "Epoch 28/100\n",
      "295/295 [==============================] - 2s 6ms/step - loss: 1844.2214\n",
      "Epoch 29/100\n",
      "295/295 [==============================] - 2s 7ms/step - loss: 1855.0870\n",
      "Epoch 30/100\n",
      "295/295 [==============================] - 3s 9ms/step - loss: 1866.0616\n",
      "Epoch 31/100\n",
      "295/295 [==============================] - 3s 10ms/step - loss: 1877.3885\n",
      "Epoch 32/100\n",
      "295/295 [==============================] - 2s 8ms/step - loss: 1888.5312\n",
      "Epoch 33/100\n",
      "295/295 [==============================] - 2s 6ms/step - loss: 1899.8363\n",
      "Epoch 34/100\n",
      "295/295 [==============================] - 2s 6ms/step - loss: 1911.1498\n",
      "Epoch 35/100\n",
      "295/295 [==============================] - 2s 8ms/step - loss: 1922.7933\n",
      "Epoch 36/100\n",
      "295/295 [==============================] - 2s 7ms/step - loss: 1934.2191\n",
      "Epoch 37/100\n",
      "295/295 [==============================] - 2s 6ms/step - loss: 1945.7023\n",
      "Epoch 38/100\n",
      "295/295 [==============================] - 1s 5ms/step - loss: 1957.3162\n",
      "Epoch 39/100\n",
      "295/295 [==============================] - 3s 9ms/step - loss: 1969.2404\n",
      "Epoch 40/100\n",
      "295/295 [==============================] - 3s 10ms/step - loss: 1981.0619\n",
      "Epoch 41/100\n",
      "295/295 [==============================] - 2s 8ms/step - loss: 1992.3142\n",
      "Epoch 42/100\n",
      "295/295 [==============================] - 3s 9ms/step - loss: 2004.3263\n",
      "Epoch 43/100\n",
      "295/295 [==============================] - 3s 9ms/step - loss: 2016.3436\n",
      "Epoch 44/100\n",
      "295/295 [==============================] - 3s 10ms/step - loss: 2027.9414\n",
      "Epoch 45/100\n",
      "295/295 [==============================] - 3s 9ms/step - loss: 2039.8990\n",
      "Epoch 46/100\n",
      "295/295 [==============================] - 2s 8ms/step - loss: 2051.3030\n",
      "Epoch 47/100\n",
      "295/295 [==============================] - 2s 8ms/step - loss: 2064.0667\n",
      "Epoch 48/100\n",
      "295/295 [==============================] - 2s 7ms/step - loss: 2076.0017\n",
      "Epoch 49/100\n",
      "295/295 [==============================] - 2s 8ms/step - loss: 2088.1472\n",
      "Epoch 50/100\n",
      "295/295 [==============================] - 2s 8ms/step - loss: 2099.8154\n",
      "Epoch 51/100\n",
      "295/295 [==============================] - 2s 8ms/step - loss: 2111.8696\n",
      "Epoch 52/100\n",
      "295/295 [==============================] - 2s 7ms/step - loss: 2123.6616\n",
      "Epoch 53/100\n",
      "295/295 [==============================] - 2s 5ms/step - loss: 2136.2988\n",
      "Epoch 54/100\n",
      "295/295 [==============================] - 2s 8ms/step - loss: 2148.3718\n",
      "Epoch 55/100\n",
      "295/295 [==============================] - 2s 8ms/step - loss: 2160.5071\n",
      "Epoch 56/100\n",
      "295/295 [==============================] - 3s 9ms/step - loss: 2172.1946\n",
      "Epoch 57/100\n",
      "295/295 [==============================] - 2s 7ms/step - loss: 2184.6533\n",
      "Epoch 58/100\n",
      "295/295 [==============================] - 2s 8ms/step - loss: 2196.9172\n",
      "Epoch 59/100\n",
      "295/295 [==============================] - 2s 8ms/step - loss: 2208.1843\n",
      "Epoch 60/100\n",
      "295/295 [==============================] - 2s 7ms/step - loss: 2220.8884\n",
      "Epoch 61/100\n",
      "295/295 [==============================] - 2s 8ms/step - loss: 2233.1592\n",
      "Epoch 62/100\n",
      "295/295 [==============================] - 2s 8ms/step - loss: 2244.5730\n",
      "Epoch 63/100\n",
      "295/295 [==============================] - 2s 7ms/step - loss: 2257.2744\n",
      "Epoch 64/100\n",
      "295/295 [==============================] - 3s 9ms/step - loss: 2269.7996\n",
      "Epoch 65/100\n",
      "295/295 [==============================] - 2s 8ms/step - loss: 2281.0044\n",
      "Epoch 66/100\n",
      "295/295 [==============================] - 2s 8ms/step - loss: 2294.4814\n",
      "Epoch 67/100\n",
      "295/295 [==============================] - 3s 9ms/step - loss: 2305.7146\n",
      "Epoch 68/100\n",
      "295/295 [==============================] - 2s 8ms/step - loss: 2317.7419\n",
      "Epoch 69/100\n",
      "295/295 [==============================] - 2s 7ms/step - loss: 2331.0239\n",
      "Epoch 70/100\n",
      "295/295 [==============================] - 3s 10ms/step - loss: 2342.6187\n",
      "Epoch 71/100\n",
      "295/295 [==============================] - 2s 6ms/step - loss: 2355.2480\n",
      "Epoch 72/100\n",
      "295/295 [==============================] - 3s 9ms/step - loss: 2366.4253\n",
      "Epoch 73/100\n",
      "295/295 [==============================] - 2s 7ms/step - loss: 2379.3208\n",
      "Epoch 74/100\n",
      "295/295 [==============================] - 3s 9ms/step - loss: 2391.1641\n",
      "Epoch 75/100\n",
      "295/295 [==============================] - 2s 8ms/step - loss: 2403.0652\n",
      "Epoch 76/100\n",
      "295/295 [==============================] - 2s 6ms/step - loss: 2416.8628\n",
      "Epoch 77/100\n",
      "295/295 [==============================] - 2s 8ms/step - loss: 2427.2800\n",
      "Epoch 78/100\n",
      "295/295 [==============================] - 2s 6ms/step - loss: 2440.6658\n",
      "Epoch 79/100\n",
      "295/295 [==============================] - 2s 8ms/step - loss: 2452.1003\n",
      "Epoch 80/100\n",
      "295/295 [==============================] - 2s 7ms/step - loss: 2463.9246\n",
      "Epoch 81/100\n",
      "295/295 [==============================] - 2s 7ms/step - loss: 2476.6094\n",
      "Epoch 82/100\n",
      "295/295 [==============================] - 2s 8ms/step - loss: 2489.1357\n",
      "Epoch 83/100\n",
      "295/295 [==============================] - 2s 7ms/step - loss: 2500.9270\n",
      "Epoch 84/100\n",
      "295/295 [==============================] - 2s 6ms/step - loss: 2512.4114\n",
      "Epoch 85/100\n",
      "295/295 [==============================] - 2s 7ms/step - loss: 2524.9390\n",
      "Epoch 86/100\n",
      "295/295 [==============================] - 2s 7ms/step - loss: 2536.7178\n",
      "Epoch 87/100\n",
      "295/295 [==============================] - 2s 7ms/step - loss: 2549.6169\n",
      "Epoch 88/100\n",
      "295/295 [==============================] - 2s 8ms/step - loss: 2561.5730\n",
      "Epoch 89/100\n",
      "295/295 [==============================] - 2s 7ms/step - loss: 2573.6965\n",
      "Epoch 90/100\n",
      "295/295 [==============================] - 2s 7ms/step - loss: 2585.3889\n",
      "Epoch 91/100\n",
      "295/295 [==============================] - 2s 8ms/step - loss: 2597.1558\n",
      "Epoch 92/100\n",
      "295/295 [==============================] - 2s 8ms/step - loss: 2610.0498\n",
      "Epoch 93/100\n",
      "295/295 [==============================] - 2s 7ms/step - loss: 2621.4316\n",
      "Epoch 94/100\n",
      "295/295 [==============================] - 2s 8ms/step - loss: 2634.2402\n",
      "Epoch 95/100\n",
      "295/295 [==============================] - 3s 9ms/step - loss: 2645.4475\n",
      "Epoch 96/100\n",
      "295/295 [==============================] - 3s 9ms/step - loss: 2659.0044\n",
      "Epoch 97/100\n",
      "295/295 [==============================] - 3s 9ms/step - loss: 2669.2578\n",
      "Epoch 98/100\n",
      "295/295 [==============================] - 2s 8ms/step - loss: 2681.5500\n",
      "Epoch 99/100\n",
      "295/295 [==============================] - 3s 9ms/step - loss: 2693.7175\n",
      "Epoch 100/100\n",
      "295/295 [==============================] - 2s 6ms/step - loss: 2705.3923\n"
     ]
    }
   ],
   "metadata": {}
  },
  {
   "cell_type": "code",
   "execution_count": 16,
   "source": [
    "import matplotlib.pyplot as plt\n",
    "plt.figure(figsize=(10, 10))\n",
    "\n",
    "for word in list(word_id_sub.keys()):\n",
    "  coord = w2c_my_model.get(word)\n",
    "  plt.scatter(coord[0], coord[1])\n",
    "  plt.annotate(word, (coord[0], coord[1]))"
   ],
   "outputs": [
    {
     "output_type": "display_data",
     "data": {
      "image/png": "[encoded data removed]",
      "text/plain": [
       "<Figure size 720x720 with 1 Axes>"
      ]
     },
     "metadata": {
      "needs_background": "light"
     }
    }
   ],
   "metadata": {}
  },
  {
   "cell_type": "markdown",
   "source": [
    "> **Nhận xét**:\n",
    "> * Nó hoạt động thật đấy nhưng cũng không tốt cho lắm, rõ ràng ta thấy được có vài từ nằm gần nhau tạo thành cụm - nếu suy ngẫm thì chúng cũng tạo nên những từ ghép có nghĩa. Nhưng ta cũng không thể quá mong đợi rằng nó tốt vì hidden layer của chúng ta chỉ có vỏn vẹn 2 neuron và nếu nhìn vào loss value ta thấy nó tăng dần đều.\n",
    "> * Tuy nhiên ta cũng có thể khắc phục điều này bằng cách tìm ra một kiến trúc khác phù hợp cho mạng, ta có thể tắng số neuron lên vì 2 neuron là quá ích, sau đó ta có thể sử dụng PCA để chọn ra 2 thành phần quan trọng nhất để trực quan.\n",
    "> * Đây chỉ là minh họa cho việc ta có thể tự build một word2vec nếu dataset của ta nhỏ. Nhưng tốt nhất ta nên sài những gói mà cộng đồng đã xây dựng sẵn."
   ],
   "metadata": {}
  },
  {
   "cell_type": "markdown",
   "source": [
    "Bây giờ, ta sẽ trực quan hóa vectorization dựa vào fasttext lên một không gian 2 chiều. Chúng ta sẽ sử dụng cơ chế PCA của object TSNE sklearn để giảm chiều `ft_vec` thành còn 2 component. Sau đó trực quan hóa chúng để xem với model word2vec của Facebook có tốt trên dataste của chúng ta không."
   ],
   "metadata": {}
  },
  {
   "cell_type": "code",
   "execution_count": 17,
   "source": [
    "tsne_2_components = Detective.tsneGetNCompenent(vec_words, 2)\n",
    "tsne_2_components"
   ],
   "outputs": [
    {
     "output_type": "execute_result",
     "data": {
      "text/html": [
       "<div>\n",
       "<style scoped>\n",
       "    .dataframe tbody tr th:only-of-type {\n",
       "        vertical-align: middle;\n",
       "    }\n",
       "\n",
       "    .dataframe tbody tr th {\n",
       "        vertical-align: top;\n",
       "    }\n",
       "\n",
       "    .dataframe thead th {\n",
       "        text-align: right;\n",
       "    }\n",
       "</style>\n",
       "<table border=\"1\" class=\"dataframe\">\n",
       "  <thead>\n",
       "    <tr style=\"text-align: right;\">\n",
       "      <th></th>\n",
       "      <th>word</th>\n",
       "      <th>freq</th>\n",
       "      <th>ft_vec</th>\n",
       "      <th>label</th>\n",
       "      <th>component_1</th>\n",
       "      <th>component_2</th>\n",
       "    </tr>\n",
       "  </thead>\n",
       "  <tbody>\n",
       "    <tr>\n",
       "      <th>0</th>\n",
       "      <td>thèm</td>\n",
       "      <td>56</td>\n",
       "      <td>[0.12546667, 0.27063507, -0.3226054, 0.1076125...</td>\n",
       "      <td>0</td>\n",
       "      <td>-41.806114</td>\n",
       "      <td>-7.578915</td>\n",
       "    </tr>\n",
       "    <tr>\n",
       "      <th>1</th>\n",
       "      <td>lum</td>\n",
       "      <td>35</td>\n",
       "      <td>[0.31741396, 0.60768604, -0.23061581, 0.342011...</td>\n",
       "      <td>0</td>\n",
       "      <td>-13.998660</td>\n",
       "      <td>-20.602335</td>\n",
       "    </tr>\n",
       "    <tr>\n",
       "      <th>2</th>\n",
       "      <td>tùm</td>\n",
       "      <td>35</td>\n",
       "      <td>[0.34853685, 0.19606084, -0.22714649, 0.080849...</td>\n",
       "      <td>0</td>\n",
       "      <td>-48.328167</td>\n",
       "      <td>-11.842845</td>\n",
       "    </tr>\n",
       "    <tr>\n",
       "      <th>3</th>\n",
       "      <td>huỷ</td>\n",
       "      <td>31</td>\n",
       "      <td>[0.24349461, 0.12490517, -0.20848149, -0.01994...</td>\n",
       "      <td>0</td>\n",
       "      <td>-59.509418</td>\n",
       "      <td>-2.166198</td>\n",
       "    </tr>\n",
       "    <tr>\n",
       "      <th>4</th>\n",
       "      <td>đểu</td>\n",
       "      <td>28</td>\n",
       "      <td>[0.08494775, 0.045489177, -0.035257675, -0.022...</td>\n",
       "      <td>0</td>\n",
       "      <td>60.595318</td>\n",
       "      <td>25.569269</td>\n",
       "    </tr>\n",
       "    <tr>\n",
       "      <th>...</th>\n",
       "      <td>...</td>\n",
       "      <td>...</td>\n",
       "      <td>...</td>\n",
       "      <td>...</td>\n",
       "      <td>...</td>\n",
       "      <td>...</td>\n",
       "    </tr>\n",
       "    <tr>\n",
       "      <th>3862</th>\n",
       "      <td>swatch</td>\n",
       "      <td>2</td>\n",
       "      <td>[0.08958084, 0.15783022, -0.00658212, 0.263154...</td>\n",
       "      <td>2</td>\n",
       "      <td>13.500787</td>\n",
       "      <td>-17.500595</td>\n",
       "    </tr>\n",
       "    <tr>\n",
       "      <th>3863</th>\n",
       "      <td>shock</td>\n",
       "      <td>2</td>\n",
       "      <td>[-0.047569092, 0.16774213, -0.014833469, 0.254...</td>\n",
       "      <td>2</td>\n",
       "      <td>14.231028</td>\n",
       "      <td>10.243698</td>\n",
       "    </tr>\n",
       "    <tr>\n",
       "      <th>3864</th>\n",
       "      <td>ối</td>\n",
       "      <td>2</td>\n",
       "      <td>[0.05223365, 0.014435465, 0.006510902, 0.02751...</td>\n",
       "      <td>2</td>\n",
       "      <td>31.934618</td>\n",
       "      <td>10.317752</td>\n",
       "    </tr>\n",
       "    <tr>\n",
       "      <th>3865</th>\n",
       "      <td>nẵng</td>\n",
       "      <td>2</td>\n",
       "      <td>[-0.0120164575, -0.0057069273, -0.0016485625, ...</td>\n",
       "      <td>2</td>\n",
       "      <td>63.447075</td>\n",
       "      <td>-10.151298</td>\n",
       "    </tr>\n",
       "    <tr>\n",
       "      <th>3866</th>\n",
       "      <td>oe</td>\n",
       "      <td>2</td>\n",
       "      <td>[0.8302758, 1.1395676, -0.4882264, 0.68928546,...</td>\n",
       "      <td>2</td>\n",
       "      <td>-13.129088</td>\n",
       "      <td>-29.835863</td>\n",
       "    </tr>\n",
       "  </tbody>\n",
       "</table>\n",
       "<p>3867 rows × 6 columns</p>\n",
       "</div>"
      ],
      "text/plain": [
       "        word  freq                                             ft_vec  label  \\\n",
       "0      thèm    56  [0.12546667, 0.27063507, -0.3226054, 0.1076125...      0   \n",
       "1        lum    35  [0.31741396, 0.60768604, -0.23061581, 0.342011...      0   \n",
       "2       tùm    35  [0.34853685, 0.19606084, -0.22714649, 0.080849...      0   \n",
       "3       huỷ    31  [0.24349461, 0.12490517, -0.20848149, -0.01994...      0   \n",
       "4      đểu    28  [0.08494775, 0.045489177, -0.035257675, -0.022...      0   \n",
       "...      ...   ...                                                ...    ...   \n",
       "3862  swatch     2  [0.08958084, 0.15783022, -0.00658212, 0.263154...      2   \n",
       "3863   shock     2  [-0.047569092, 0.16774213, -0.014833469, 0.254...      2   \n",
       "3864    ối     2  [0.05223365, 0.014435465, 0.006510902, 0.02751...      2   \n",
       "3865  nẵng     2  [-0.0120164575, -0.0057069273, -0.0016485625, ...      2   \n",
       "3866      oe     2  [0.8302758, 1.1395676, -0.4882264, 0.68928546,...      2   \n",
       "\n",
       "      component_1  component_2  \n",
       "0      -41.806114    -7.578915  \n",
       "1      -13.998660   -20.602335  \n",
       "2      -48.328167   -11.842845  \n",
       "3      -59.509418    -2.166198  \n",
       "4       60.595318    25.569269  \n",
       "...           ...          ...  \n",
       "3862    13.500787   -17.500595  \n",
       "3863    14.231028    10.243698  \n",
       "3864    31.934618    10.317752  \n",
       "3865    63.447075   -10.151298  \n",
       "3866   -13.129088   -29.835863  \n",
       "\n",
       "[3867 rows x 6 columns]"
      ]
     },
     "metadata": {},
     "execution_count": 17
    }
   ],
   "metadata": {}
  },
  {
   "cell_type": "code",
   "execution_count": 18,
   "source": [
    "# visualize\n",
    "tsne_2_components_shuffle = tsne_2_components.sample(frac=1)\n",
    "Detective.wordScatterPlot(tsne_2_components_shuffle.head(300))"
   ],
   "outputs": [
    {
     "output_type": "display_data",
     "data": {
      "application/vnd.plotly.v1+json": {
       "config": {
        "plotlyServerURL": "https://plot.ly"
       },
       "data": [
        {
         "hovertemplate": "<b>%{hovertext}</b><br><br>label=positive<br>component_1=%{x}<br>component_2=%{y}<br>freq=%{marker.size}<br>word=%{text}<extra></extra>",
         "hovertext": [
          "nời",
          "mòng",
          "any",
          "ùi",
          "đặng",
          "tã",
          "lừng",
          "dũng",
          "idol",
          "nếm",
          "hoành",
          "everyone",
          "địch",
          "lánh",
          "rang",
          "lặt",
          "khồn",
          "mom",
          "mây",
          "thạn",
          "ẹt",
          "tip",
          "xảo",
          "nghịch",
          "nhẹng",
          "shops",
          "măm",
          "low",
          "boxing",
          "ửng",
          "đắm",
          "thục",
          "nừ",
          "much",
          "đựa",
          "mú",
          "xóm",
          "ngập",
          "nhê",
          "gứm",
          "đói",
          "nằn",
          "ts",
          "sủa",
          "vẽ",
          "khoanh",
          "doan",
          "ngân",
          "táo",
          "cún",
          "own",
          "dà",
          "young",
          "gạo",
          "đị",
          "gấc",
          "phao",
          "rề",
          "col",
          "ì",
          "lệ",
          "hỳ"
         ],
         "legendgroup": "positive",
         "marker": {
          "color": "#636efa",
          "line": {
           "color": "Gray",
           "width": 1
          },
          "size": [
           0,
           0,
           16.094379124341003,
           10.986122886681098,
           0,
           6.931471805599453,
           0,
           10.986122886681098,
           6.931471805599453,
           0,
           0,
           0,
           0,
           19.45910149055313,
           0,
           0,
           0,
           10.986122886681098,
           13.862943611198906,
           0,
           0,
           10.986122886681098,
           0,
           0,
           0,
           0,
           0,
           0,
           0,
           10.986122886681098,
           0,
           0,
           0,
           10.986122886681098,
           0,
           0,
           0,
           0,
           0,
           0,
           0,
           0,
           10.986122886681098,
           0,
           0,
           6.931471805599453,
           0,
           6.931471805599453,
           0,
           10.986122886681098,
           0,
           0,
           0,
           29.957322735539908,
           0,
           0,
           0,
           0,
           6.931471805599453,
           0,
           10.986122886681098,
           0
          ],
          "sizemode": "area",
          "sizeref": 0.043935795322191724,
          "symbol": "circle"
         },
         "mode": "markers+text",
         "name": "positive",
         "orientation": "v",
         "showlegend": true,
         "text": [
          "nời",
          "mòng",
          "any",
          "ùi",
          "đặng",
          "tã",
          "lừng",
          "dũng",
          "idol",
          "nếm",
          "hoành",
          "everyone",
          "địch",
          "lánh",
          "rang",
          "lặt",
          "khồn",
          "mom",
          "mây",
          "thạn",
          "ẹt",
          "tip",
          "xảo",
          "nghịch",
          "nhẹng",
          "shops",
          "măm",
          "low",
          "boxing",
          "ửng",
          "đắm",
          "thục",
          "nừ",
          "much",
          "đựa",
          "mú",
          "xóm",
          "ngập",
          "nhê",
          "gứm",
          "đói",
          "nằn",
          "ts",
          "sủa",
          "vẽ",
          "khoanh",
          "doan",
          "ngân",
          "táo",
          "cún",
          "own",
          "dà",
          "young",
          "gạo",
          "đị",
          "gấc",
          "phao",
          "rề",
          "col",
          "ì",
          "lệ",
          "hỳ"
         ],
         "type": "scatter",
         "x": [
          55.656394958496094,
          -31.566097259521484,
          5.852637767791748,
          -47.65073776245117,
          40.629852294921875,
          -56.351985931396484,
          17.869277954101562,
          -32.8114013671875,
          0.44842320680618286,
          42.21554183959961,
          -32.37791061401367,
          6.555278301239014,
          -40.9576301574707,
          -38.67793655395508,
          0.25031936168670654,
          38.85451126098633,
          13.846019744873047,
          0.33065325021743774,
          50.213623046875,
          12.860151290893555,
          18.47715187072754,
          12.158666610717773,
          -65.29779815673828,
          -29.460941314697266,
          -0.11734052747488022,
          10.50425910949707,
          46.031394958496094,
          13.625738143920898,
          24.97300148010254,
          61.3040657043457,
          54.77536392211914,
          -26.219568252563477,
          58.79172897338867,
          3.727774143218994,
          55.62362289428711,
          -62.007877349853516,
          -47.938011169433594,
          12.225516319274902,
          36.85177230834961,
          51.630069732666016,
          -46.306488037109375,
          64.66909790039062,
          -16.532581329345703,
          -50.686912536621094,
          -63.38003921508789,
          -0.7447134852409363,
          -5.587945461273193,
          -58.86880111694336,
          -71.5881118774414,
          -46.92916488647461,
          6.45317268371582,
          -51.47846603393555,
          1.7267858982086182,
          -68.39593505859375,
          -63.60946273803711,
          56.71952438354492,
          -1.1668893098831177,
          39.190059661865234,
          12.598294258117676,
          -51.42089080810547,
          52.16084289550781,
          -57.47779846191406
         ],
         "xaxis": "x",
         "y": [
          3.733877182006836,
          11.684220314025879,
          -33.385169982910156,
          -19.516136169433594,
          12.429369926452637,
          -13.567477226257324,
          21.110559463500977,
          -4.479946613311768,
          -14.273916244506836,
          1.1951260566711426,
          15.907610893249512,
          -29.185422897338867,
          -1.3875399827957153,
          6.196200370788574,
          2.7274651527404785,
          14.097366333007812,
          21.779850006103516,
          -19.657150268554688,
          0.24097883701324463,
          25.751142501831055,
          26.516939163208008,
          -15.978251457214355,
          4.381189346313477,
          14.039359092712402,
          13.319647789001465,
          -19.195682525634766,
          -3.3614468574523926,
          -29.43758773803711,
          -15.49598217010498,
          -9.74866008758545,
          -15.872896194458008,
          14.889616966247559,
          -7.729562759399414,
          -30.366151809692383,
          -4.8498430252075195,
          0.7142223715782166,
          -15.172101020812988,
          16.841880798339844,
          9.671780586242676,
          -6.99144983291626,
          -6.640748500823975,
          -5.073544025421143,
          -36.77078628540039,
          -10.361457824707031,
          -14.095223426818848,
          17.814556121826172,
          -2.6219077110290527,
          11.596832275390625,
          -1.3131606578826904,
          -14.894948959350586,
          -33.50896072387695,
          -16.11408233642578,
          -25.559234619140625,
          -2.4455573558807373,
          12.70007610321045,
          -5.201717853546143,
          11.263373374938965,
          17.335371017456055,
          -26.644559860229492,
          -22.6821231842041,
          -6.334659576416016,
          3.259822368621826
         ],
         "yaxis": "y"
        },
        {
         "hovertemplate": "<b>%{hovertext}</b><br><br>label=negative<br>component_1=%{x}<br>component_2=%{y}<br>freq=%{marker.size}<br>word=%{text}<extra></extra>",
         "hovertext": [
          "phăng",
          "khê",
          "kn",
          "dua",
          "playboy",
          "hới",
          "ỏng",
          "đơm",
          "giận",
          "câm",
          "chàm",
          "đàng",
          "khốn",
          "uốn",
          "nhuốc",
          "ye",
          "doãng",
          "chiêu",
          "nghê",
          "ủa",
          "mẩu",
          "quỷ",
          "suýt",
          "explorer",
          "sweater",
          "xoắn",
          "mãu",
          "nhợt",
          "trí",
          "èo",
          "rườm",
          "rủa",
          "kịch",
          "phãi",
          "diamond",
          "nạn",
          "nhể",
          "dặm",
          "lặn",
          "loay",
          "xó",
          "trã",
          "gữi",
          "trêu",
          "lát",
          "khắp",
          "gừng",
          "đùn",
          "nit",
          "cỗ",
          "bái",
          "binh",
          "mớ",
          "lọc",
          "thép",
          "háng",
          "toắc",
          "mix",
          "thùa",
          "vức",
          "quạo",
          "dứt",
          "khoai",
          "bìa",
          "baby",
          "bềnh",
          "tởm",
          "què",
          "dear",
          "vưa",
          "dream",
          "nê",
          "icon",
          "chay",
          "silver"
         ],
         "legendgroup": "negative",
         "marker": {
          "color": "#EF553B",
          "line": {
           "color": "Gray",
           "width": 1
          },
          "size": [
           0,
           0,
           0,
           0,
           0,
           0,
           0,
           0,
           6.931471805599453,
           0,
           0,
           20.79441541679836,
           0,
           0,
           0,
           0,
           0,
           0,
           0,
           20.79441541679836,
           6.931471805599453,
           0,
           6.931471805599453,
           0,
           0,
           13.862943611198906,
           0,
           6.931471805599453,
           16.094379124341003,
           6.931471805599453,
           13.862943611198906,
           0,
           0,
           0,
           10.986122886681098,
           0,
           0,
           6.931471805599453,
           0,
           0,
           16.094379124341003,
           0,
           6.931471805599453,
           6.931471805599453,
           0,
           6.931471805599453,
           0,
           13.862943611198906,
           0,
           0,
           6.931471805599453,
           16.094379124341003,
           13.862943611198906,
           13.862943611198906,
           6.931471805599453,
           6.931471805599453,
           0,
           13.862943611198906,
           0,
           0,
           0,
           10.986122886681098,
           6.931471805599453,
           10.986122886681098,
           0,
           0,
           10.986122886681098,
           0,
           0,
           0,
           0,
           0,
           0,
           0,
           6.931471805599453
          ],
          "sizemode": "area",
          "sizeref": 0.043935795322191724,
          "symbol": "circle"
         },
         "mode": "markers+text",
         "name": "negative",
         "orientation": "v",
         "showlegend": true,
         "text": [
          "phăng",
          "khê",
          "kn",
          "dua",
          "playboy",
          "hới",
          "ỏng",
          "đơm",
          "giận",
          "câm",
          "chàm",
          "đàng",
          "khốn",
          "uốn",
          "nhuốc",
          "ye",
          "doãng",
          "chiêu",
          "nghê",
          "ủa",
          "mẩu",
          "quỷ",
          "suýt",
          "explorer",
          "sweater",
          "xoắn",
          "mãu",
          "nhợt",
          "trí",
          "èo",
          "rườm",
          "rủa",
          "kịch",
          "phãi",
          "diamond",
          "nạn",
          "nhể",
          "dặm",
          "lặn",
          "loay",
          "xó",
          "trã",
          "gữi",
          "trêu",
          "lát",
          "khắp",
          "gừng",
          "đùn",
          "nit",
          "cỗ",
          "bái",
          "binh",
          "mớ",
          "lọc",
          "thép",
          "háng",
          "toắc",
          "mix",
          "thùa",
          "vức",
          "quạo",
          "dứt",
          "khoai",
          "bìa",
          "baby",
          "bềnh",
          "tởm",
          "què",
          "dear",
          "vưa",
          "dream",
          "nê",
          "icon",
          "chay",
          "silver"
         ],
         "type": "scatter",
         "x": [
          34.55693435668945,
          36.861961364746094,
          -15.055927276611328,
          -6.460117340087891,
          -0.8943701982498169,
          34.348995208740234,
          -37.75942611694336,
          63.60968780517578,
          14.7330904006958,
          5.138521671295166,
          -33.4818115234375,
          -28.518634796142578,
          22.352869033813477,
          57.076969146728516,
          38.551021575927734,
          -10.664962768554688,
          6.222479343414307,
          14.051669120788574,
          3.4970760345458984,
          -48.65580749511719,
          36.85982894897461,
          -57.033390045166016,
          -50.83427810668945,
          12.511819839477539,
          4.766536712646484,
          31.64385223388672,
          63.75273513793945,
          35.98529815673828,
          -27.13207244873047,
          -50.117332458496094,
          57.30527877807617,
          -49.40557861328125,
          -40.12319564819336,
          -41.73270034790039,
          6.049980640411377,
          -36.67686462402344,
          68.56604766845703,
          30.888961791992188,
          38.47872543334961,
          -18.199478149414062,
          -52.59275436401367,
          44.9251823425293,
          58.17392349243164,
          32.012508392333984,
          -54.38569259643555,
          50.109352111816406,
          11.978771209716797,
          -53.56005859375,
          -8.186430931091309,
          45.08995819091797,
          -49.55414962768555,
          -9.547249794006348,
          27.553150177001953,
          -65.78890991210938,
          -45.36469268798828,
          -34.836036682128906,
          45.44612121582031,
          6.488991737365723,
          -34.97479248046875,
          72.95501708984375,
          9.98646354675293,
          18.052446365356445,
          0.8515203595161438,
          -61.87947082519531,
          0.8225898146629333,
          24.62061309814453,
          50.22848892211914,
          -52.363285064697266,
          1.008590817451477,
          62.3050651550293,
          1.063672661781311,
          60.562522888183594,
          14.331416130065918,
          0.1464061737060547,
          5.514766216278076
         ],
         "xaxis": "x",
         "y": [
          -15.034781455993652,
          6.022398471832275,
          -38.40837097167969,
          -7.334405422210693,
          -14.433672904968262,
          34.449832916259766,
          8.306224822998047,
          1.1458669900894165,
          18.53689956665039,
          19.045448303222656,
          11.7206392288208,
          15.16428279876709,
          15.898446083068848,
          -2.1471779346466064,
          11.807910919189453,
          -29.561159133911133,
          12.380229949951172,
          5.000734806060791,
          14.001297950744629,
          -17.825788497924805,
          15.637884140014648,
          -23.993566513061523,
          -1.895438551902771,
          -24.641294479370117,
          -15.147985458374023,
          11.115138053894043,
          -12.882925987243652,
          9.919083595275879,
          12.787323951721191,
          -16.19000244140625,
          6.27742338180542,
          -9.692333221435547,
          -4.642656326293945,
          1.248537540435791,
          -20.213237762451172,
          -8.145039558410645,
          -16.731740951538086,
          8.246946334838867,
          8.830122947692871,
          -14.487457275390625,
          -15.984832763671875,
          7.173945903778076,
          -8.157919883728027,
          0.0043183318339288235,
          -7.401486873626709,
          1.7241528034210205,
          19.28223991394043,
          0.10277009010314941,
          -18.188091278076172,
          4.3886613845825195,
          -7.389490604400635,
          8.97153377532959,
          12.499333381652832,
          -4.463311672210693,
          10.240967750549316,
          11.444869995117188,
          -2.4560468196868896,
          -13.321386337280273,
          9.167948722839355,
          18.78881072998047,
          8.8947172164917,
          24.21634292602539,
          3.7305219173431396,
          -4.535323619842529,
          -19.53614616394043,
          13.017221450805664,
          -4.989776134490967,
          6.630916595458984,
          -28.290367126464844,
          -7.995279312133789,
          -24.009702682495117,
          -6.364887237548828,
          -14.960848808288574,
          5.010079860687256,
          -20.0400333404541
         ],
         "yaxis": "y"
        },
        {
         "hovertemplate": "<b>%{hovertext}</b><br><br>label=overlap<br>component_1=%{x}<br>component_2=%{y}<br>freq=%{marker.size}<br>word=%{text}<extra></extra>",
         "hovertext": [
          "l",
          "vẻ",
          "only",
          "lá",
          "trúng",
          "perfect",
          "viết",
          "cất",
          "ni",
          "basic",
          "sang",
          "đợt",
          "kêu",
          "huy",
          "may",
          "sẽ",
          "ôm",
          "ú",
          "hả",
          "nỗi",
          "hói",
          "lọ",
          "nề",
          "nhân",
          "chạp",
          "xài",
          "có",
          "không",
          "óng",
          "rụng",
          "thỳ",
          "đội",
          "sì",
          "lịch",
          "vả",
          "thằng",
          "thậm",
          "đang",
          "son",
          "ngắn",
          "thử",
          "sale",
          "bê",
          "xách",
          "side",
          "đích",
          "ho",
          "cười",
          "quá",
          "hoài",
          "san",
          "loè",
          "cấn",
          "them",
          "chưa",
          "ọp",
          "be",
          "okay",
          "that",
          "kiên",
          "lan",
          "đinh",
          "new",
          "ti",
          "tiếc",
          "chết",
          "đùi",
          "số",
          "hì",
          "vở",
          "nhược",
          "ruộng",
          "vời",
          "hùng",
          "sụt",
          "dưới",
          "hở",
          "thoại",
          "vấn",
          "dè",
          "lưỡi",
          "ừ",
          "giảng",
          "huống",
          "vầy",
          "ngẫu",
          "gọi",
          "ô",
          "le",
          "phần",
          "sùi",
          "biển",
          "nẵng",
          "ôn",
          "chép",
          "tang",
          "bên",
          "tặng",
          "thực",
          "giỏ",
          "ư",
          "xích",
          "thoi",
          "rì",
          "thuốc",
          "tân",
          "ví",
          "like",
          "rát",
          "bonus",
          "mê",
          "thiết",
          "khô",
          "cháy",
          "tìm",
          "ổn",
          "cơm",
          "chơi",
          "đống",
          "chỗ",
          "giai",
          "dấu",
          "hiu",
          "phối",
          "mỹ",
          "chương",
          "lí",
          "chiều",
          "khuya",
          "sơn",
          "chục",
          "lừa",
          "thoải",
          "trưng",
          "giới",
          "đâm",
          "mau",
          "sử",
          "sịn",
          "ru",
          "dầu",
          "hộ",
          "đình",
          "packaging",
          "đều",
          "cải",
          "ngoại",
          "đục",
          "xong",
          "hối",
          "hy",
          "xơ",
          "hàng",
          "trải",
          "dáng",
          "bột",
          "miết",
          "bực",
          "nhạn",
          "cứng",
          "doi",
          "toẹt",
          "nhích"
         ],
         "legendgroup": "overlap",
         "marker": {
          "color": "#00cc96",
          "line": {
           "color": "Gray",
           "width": 1
          },
          "size": [
           56.2040086571715,
           43.94449154672439,
           6.931471805599453,
           23.978952727983707,
           19.45910149055313,
           10.986122886681098,
           23.978952727983707,
           20.79441541679836,
           28.33213344056216,
           16.094379124341003,
           43.43805421853684,
           46.8213122712422,
           40.60443010546419,
           13.862943611198906,
           64.44131256700442,
           70.2197642307216,
           46.53960350157523,
           10.986122886681098,
           28.903717578961647,
           26.390573296152585,
           13.862943611198906,
           21.972245773362197,
           10.986122886681098,
           44.18840607796598,
           13.862943611198906,
           42.046926193909655,
           77.65144902936132,
           88.96998552743824,
           10.986122886681098,
           25.649493574615366,
           10.986122886681098,
           32.95836866004329,
           13.862943611198906,
           32.58096538021482,
           6.931471805599453,
           19.45910149055313,
           17.91759469228055,
           42.48495242049359,
           48.75197323201151,
           54.806389233419914,
           46.34728988229636,
           65.39585955617669,
           10.986122886681098,
           24.849066497880003,
           20.79441541679836,
           13.862943611198906,
           33.32204510175204,
           25.649493574615366,
           74.07924322559599,
           24.849066497880003,
           39.318256327243255,
           13.862943611198906,
           10.986122886681098,
           16.094379124341003,
           62.98949246855942,
           23.02585092994046,
           33.32204510175204,
           23.02585092994046,
           13.862943611198906,
           16.094379124341003,
           27.725887222397812,
           10.986122886681098,
           6.931471805599453,
           17.91759469228055,
           40.2535169073515,
           30.44522437723423,
           37.37669618283368,
           49.904325867787364,
           17.91759469228055,
           6.931471805599453,
           13.862943611198906,
           6.931471805599453,
           54.84796933490655,
           6.931471805599453,
           6.931471805599453,
           38.06662489770319,
           27.725887222397812,
           32.95836866004329,
           55.606816310155274,
           23.978952727983707,
           13.862943611198906,
           16.094379124341003,
           6.931471805599453,
           6.931471805599453,
           27.0805020110221,
           21.972245773362197,
           45.53876891600541,
           26.390573296152585,
           21.972245773362197,
           51.239639794032584,
           17.91759469228055,
           17.91759469228055,
           6.931471805599453,
           10.986122886681098,
           20.79441541679836,
           13.862943611198906,
           60.03887067106539,
           58.02118375377063,
           48.828019225863706,
           21.972245773362197,
           27.725887222397812,
           20.79441541679836,
           31.780538303479457,
           13.862943611198906,
           23.02585092994046,
           10.986122886681098,
           61.52732694704105,
           28.33213344056216,
           13.862943611198906,
           6.931471805599453,
           29.444389791664403,
           36.635616461296465,
           30.91042453358316,
           21.972245773362197,
           30.44522437723423,
           64.98282149476434,
           17.91759469228055,
           45.32599493153256,
           23.978952727983707,
           49.97212273764114,
           16.094379124341003,
           30.44522437723423,
           10.986122886681098,
           32.58096538021482,
           21.972245773362197,
           16.094379124341003,
           39.70291913552122,
           41.896547420264255,
           6.931471805599453,
           28.903717578961647,
           34.33987204485146,
           41.43134726391533,
           51.81783550292085,
           17.91759469228055,
           32.18875824868201,
           10.986122886681098,
           37.13572066704308,
           45.53876891600541,
           29.957322735539908,
           13.862943611198906,
           16.094379124341003,
           67.63884908562434,
           16.094379124341003,
           16.094379124341003,
           51.35798437050262,
           25.649493574615366,
           19.45910149055313,
           21.972245773362197,
           49.698132995760005,
           29.444389791664403,
           34.965075614664805,
           13.862943611198906,
           87.40176729929082,
           27.0805020110221,
           51.29898714923073,
           16.094379124341003,
           6.931471805599453,
           37.37669618283368,
           10.986122886681098,
           50.49856007249537,
           17.91759469228055,
           6.931471805599453,
           20.79441541679836
          ],
          "sizemode": "area",
          "sizeref": 0.043935795322191724,
          "symbol": "circle"
         },
         "mode": "markers+text",
         "name": "overlap",
         "orientation": "v",
         "showlegend": true,
         "text": [
          "l",
          "vẻ",
          "only",
          "lá",
          "trúng",
          "perfect",
          "viết",
          "cất",
          "ni",
          "basic",
          "sang",
          "đợt",
          "kêu",
          "huy",
          "may",
          "sẽ",
          "ôm",
          "ú",
          "hả",
          "nỗi",
          "hói",
          "lọ",
          "nề",
          "nhân",
          "chạp",
          "xài",
          "có",
          "không",
          "óng",
          "rụng",
          "thỳ",
          "đội",
          "sì",
          "lịch",
          "vả",
          "thằng",
          "thậm",
          "đang",
          "son",
          "ngắn",
          "thử",
          "sale",
          "bê",
          "xách",
          "side",
          "đích",
          "ho",
          "cười",
          "quá",
          "hoài",
          "san",
          "loè",
          "cấn",
          "them",
          "chưa",
          "ọp",
          "be",
          "okay",
          "that",
          "kiên",
          "lan",
          "đinh",
          "new",
          "ti",
          "tiếc",
          "chết",
          "đùi",
          "số",
          "hì",
          "vở",
          "nhược",
          "ruộng",
          "vời",
          "hùng",
          "sụt",
          "dưới",
          "hở",
          "thoại",
          "vấn",
          "dè",
          "lưỡi",
          "ừ",
          "giảng",
          "huống",
          "vầy",
          "ngẫu",
          "gọi",
          "ô",
          "le",
          "phần",
          "sùi",
          "biển",
          "nẵng",
          "ôn",
          "chép",
          "tang",
          "bên",
          "tặng",
          "thực",
          "giỏ",
          "ư",
          "xích",
          "thoi",
          "rì",
          "thuốc",
          "tân",
          "ví",
          "like",
          "rát",
          "bonus",
          "mê",
          "thiết",
          "khô",
          "cháy",
          "tìm",
          "ổn",
          "cơm",
          "chơi",
          "đống",
          "chỗ",
          "giai",
          "dấu",
          "hiu",
          "phối",
          "mỹ",
          "chương",
          "lí",
          "chiều",
          "khuya",
          "sơn",
          "chục",
          "lừa",
          "thoải",
          "trưng",
          "giới",
          "đâm",
          "mau",
          "sử",
          "sịn",
          "ru",
          "dầu",
          "hộ",
          "đình",
          "packaging",
          "đều",
          "cải",
          "ngoại",
          "đục",
          "xong",
          "hối",
          "hy",
          "xơ",
          "hàng",
          "trải",
          "dáng",
          "bột",
          "miết",
          "bực",
          "nhạn",
          "cứng",
          "doi",
          "toẹt",
          "nhích"
         ],
         "type": "scatter",
         "x": [
          -16.38865852355957,
          -28.234569549560547,
          5.005821228027344,
          -69.74528503417969,
          -34.16558074951172,
          4.454694747924805,
          22.38591194152832,
          1.991136908531189,
          -19.92138671875,
          6.856410503387451,
          -4.085374355316162,
          32.04589080810547,
          36.287166595458984,
          -10.067899703979492,
          -8.313804626464844,
          -24.169084548950195,
          63.47968673706055,
          -52.36033248901367,
          -47.7131462097168,
          42.87330627441406,
          -47.82111358642578,
          -67.70393371582031,
          53.625553131103516,
          -62.33974075317383,
          -48.85555648803711,
          -44.06215286254883,
          -24.132122039794922,
          -62.047542572021484,
          -36.86317443847656,
          -42.608951568603516,
          -46.66133499145508,
          27.930932998657227,
          -53.551910400390625,
          -34.641536712646484,
          -46.33500289916992,
          56.091758728027344,
          13.85603141784668,
          -3.978541374206543,
          0.26143890619277954,
          49.62787628173828,
          49.41213607788086,
          13.549736976623535,
          56.8740234375,
          -43.71609115600586,
          9.236244201660156,
          -25.12214469909668,
          -14.274954795837402,
          26.727197647094727,
          -27.60431671142578,
          -39.1137580871582,
          -5.956308841705322,
          60.84355545043945,
          33.126834869384766,
          -4.059211730957031,
          -59.26511764526367,
          -59.00209426879883,
          -7.805398464202881,
          -1.3024344444274902,
          3.9804584980010986,
          19.13136100769043,
          -7.251883029937744,
          -3.6907215118408203,
          7.671177387237549,
          -18.777921676635742,
          25.589092254638672,
          35.4986686706543,
          -58.32455062866211,
          -56.79520034790039,
          -48.25613021850586,
          63.77091598510742,
          19.66827964782715,
          57.02922439575195,
          32.837608337402344,
          -32.72483444213867,
          -55.89936065673828,
          34.61839294433594,
          63.1047248840332,
          -19.044240951538086,
          21.234966278076172,
          -49.15957260131836,
          39.80649185180664,
          41.043861389160156,
          -27.526142120361328,
          71.30435180664062,
          48.61494064331055,
          59.37249755859375,
          -27.508371353149414,
          60.71761703491211,
          -17.87358856201172,
          26.308603286743164,
          -57.676090240478516,
          7.859148025512695,
          63.44707489013672,
          62.36432647705078,
          -30.22771644592285,
          -7.088101863861084,
          -59.68755340576172,
          62.276763916015625,
          51.40500259399414,
          -62.109622955322266,
          60.71798324584961,
          -38.49319839477539,
          -8.350345611572266,
          -52.95292282104492,
          8.536090850830078,
          56.436561584472656,
          -58.147769927978516,
          18.76004409790039,
          -57.96797561645508,
          13.189112663269043,
          -59.72893142700195,
          8.705689430236816,
          23.659421920776367,
          -38.550025939941406,
          -24.80910301208496,
          28.92427635192871,
          60.26438903808594,
          -57.0903205871582,
          32.779815673828125,
          60.3934326171875,
          -9.321226119995117,
          47.68505859375,
          -28.716257095336914,
          29.778162002563477,
          -59.1920166015625,
          -59.400455474853516,
          -32.01026153564453,
          14.093478202819824,
          4.325797080993652,
          9.932278633117676,
          -24.50185775756836,
          33.33142852783203,
          -32.76734924316406,
          -55.306053161621094,
          43.42866516113281,
          66.25249481201172,
          -9.201984405517578,
          69.7356948852539,
          65.52978515625,
          -17.989883422851562,
          30.197690963745117,
          18.669572830200195,
          -26.728727340698242,
          10.530167579650879,
          18.847248077392578,
          -21.240543365478516,
          -25.052988052368164,
          -61.071998596191406,
          -5.117724418640137,
          29.801246643066406,
          -12.982015609741211,
          54.70978546142578,
          -30.79712677001953,
          -49.16022491455078,
          -29.99725914001465,
          62.06501007080078,
          20.739736557006836,
          51.09554672241211,
          -32.79737854003906,
          28.939294815063477,
          -7.456390857696533,
          -54.54197692871094,
          -34.790767669677734
         ],
         "xaxis": "x",
         "y": [
          -30.771352767944336,
          -2.564710855484009,
          -32.20447540283203,
          -5.79849100112915,
          16.35264778137207,
          -23.96879768371582,
          -22.243663787841797,
          21.46677589416504,
          -26.32118034362793,
          -16.70804786682129,
          18.953641891479492,
          12.298104286193848,
          13.777189254760742,
          7.265640735626221,
          24.928115844726562,
          1.4097261428833008,
          -8.502920150756836,
          -22.55194854736328,
          -21.778493881225586,
          17.117704391479492,
          0.8539477586746216,
          -7.200842380523682,
          -4.248861789703369,
          13.136200904846191,
          18.42305564880371,
          -14.157391548156738,
          0.8691490292549133,
          16.21266746520996,
          11.08733081817627,
          10.401906967163086,
          -18.915145874023438,
          -3.476422071456909,
          -15.431892395019531,
          26.973604202270508,
          -9.022647857666016,
          -19.80979347229004,
          26.24751853942871,
          20.110567092895508,
          -0.16466403007507324,
          -3.193844795227051,
          9.22329044342041,
          -23.081762313842773,
          -1.2528483867645264,
          17.390077590942383,
          -30.17302894592285,
          16.68933868408203,
          -26.245981216430664,
          -3.046110153198242,
          -0.541130781173706,
          1.8347374200820923,
          6.961863040924072,
          -0.4952482283115387,
          5.023965835571289,
          -7.482396602630615,
          11.991616249084473,
          2.9858596324920654,
          -30.883216857910156,
          -29.527599334716797,
          -31.330738067626953,
          -1.7898603677749634,
          13.233607292175293,
          10.746891021728516,
          -23.680463790893555,
          -24.313621520996094,
          6.373348236083984,
          7.854142665863037,
          -9.342863082885742,
          11.748744010925293,
          -20.761356353759766,
          -6.4329657554626465,
          16.117509841918945,
          10.02511978149414,
          1.858080267906189,
          -4.481146335601807,
          -4.37420654296875,
          33.90568161010742,
          1.2586852312088013,
          17.493412017822266,
          17.50238037109375,
          -18.282936096191406,
          6.322972297668457,
          -1.9523361921310425,
          24.154987335205078,
          -0.5592648983001709,
          -0.47788798809051514,
          0.6050308346748352,
          4.275721073150635,
          -6.389014720916748,
          -27.188154220581055,
          -16.979509353637695,
          -4.07822847366333,
          33.54313278198242,
          -10.151297569274902,
          -11.732537269592285,
          4.401581287384033,
          11.043096542358398,
          9.401273727416992,
          -15.371783256530762,
          9.730265617370605,
          -5.980894088745117,
          -6.388926029205322,
          14.756701469421387,
          -2.3764803409576416,
          -14.881636619567871,
          14.86965274810791,
          -3.6515653133392334,
          -15.814756393432617,
          -17.634037017822266,
          -3.924997091293335,
          -21.20984649658203,
          7.609256267547607,
          11.563282012939453,
          8.263040542602539,
          9.461112022399902,
          4.573554039001465,
          10.424941062927246,
          3.306389808654785,
          10.974213600158691,
          20.985206604003906,
          -5.265613079071045,
          10.164462089538574,
          -6.042078971862793,
          -11.635296821594238,
          24.412715911865234,
          -21.88908576965332,
          19.767457962036133,
          -15.27119255065918,
          5.525665760040283,
          7.3060221672058105,
          14.56392765045166,
          -5.797649383544922,
          11.161693572998047,
          -0.3139345049858093,
          14.835556030273438,
          -11.27658462524414,
          -9.636361122131348,
          1.357021450996399,
          -3.242133140563965,
          -2.2502286434173584,
          -24.93954086303711,
          -0.4160260558128357,
          9.264721870422363,
          8.11767292022705,
          -21.70087242126465,
          32.72907257080078,
          9.904765129089355,
          11.58993911743164,
          -2.8283867835998535,
          20.878610610961914,
          24.39896011352539,
          -27.53279685974121,
          -2.5562336444854736,
          8.156041145324707,
          13.17853832244873,
          10.436699867248535,
          11.874039649963379,
          13.419185638427734,
          7.236801624298096,
          7.22905158996582,
          5.229195594787598,
          -2.2402801513671875,
          4.191089153289795,
          7.441864967346191
         ],
         "yaxis": "y"
        }
       ],
       "layout": {
        "height": 500,
        "legend": {
         "itemsizing": "constant",
         "title": {
          "text": "label"
         },
         "tracegroupgap": 0
        },
        "margin": {
         "t": 60
        },
        "template": {
         "data": {
          "bar": [
           {
            "error_x": {
             "color": "#2a3f5f"
            },
            "error_y": {
             "color": "#2a3f5f"
            },
            "marker": {
             "line": {
              "color": "white",
              "width": 0.5
             },
             "pattern": {
              "fillmode": "overlay",
              "size": 10,
              "solidity": 0.2
             }
            },
            "type": "bar"
           }
          ],
          "barpolar": [
           {
            "marker": {
             "line": {
              "color": "white",
              "width": 0.5
             },
             "pattern": {
              "fillmode": "overlay",
              "size": 10,
              "solidity": 0.2
             }
            },
            "type": "barpolar"
           }
          ],
          "carpet": [
           {
            "aaxis": {
             "endlinecolor": "#2a3f5f",
             "gridcolor": "#C8D4E3",
             "linecolor": "#C8D4E3",
             "minorgridcolor": "#C8D4E3",
             "startlinecolor": "#2a3f5f"
            },
            "baxis": {
             "endlinecolor": "#2a3f5f",
             "gridcolor": "#C8D4E3",
             "linecolor": "#C8D4E3",
             "minorgridcolor": "#C8D4E3",
             "startlinecolor": "#2a3f5f"
            },
            "type": "carpet"
           }
          ],
          "choropleth": [
           {
            "colorbar": {
             "outlinewidth": 0,
             "ticks": ""
            },
            "type": "choropleth"
           }
          ],
          "contour": [
           {
            "colorbar": {
             "outlinewidth": 0,
             "ticks": ""
            },
            "colorscale": [
             [
              0,
              "#0d0887"
             ],
             [
              0.1111111111111111,
              "#46039f"
             ],
             [
              0.2222222222222222,
              "#7201a8"
             ],
             [
              0.3333333333333333,
              "#9c179e"
             ],
             [
              0.4444444444444444,
              "#bd3786"
             ],
             [
              0.5555555555555556,
              "#d8576b"
             ],
             [
              0.6666666666666666,
              "#ed7953"
             ],
             [
              0.7777777777777778,
              "#fb9f3a"
             ],
             [
              0.8888888888888888,
              "#fdca26"
             ],
             [
              1,
              "#f0f921"
             ]
            ],
            "type": "contour"
           }
          ],
          "contourcarpet": [
           {
            "colorbar": {
             "outlinewidth": 0,
             "ticks": ""
            },
            "type": "contourcarpet"
           }
          ],
          "heatmap": [
           {
            "colorbar": {
             "outlinewidth": 0,
             "ticks": ""
            },
            "colorscale": [
             [
              0,
              "#0d0887"
             ],
             [
              0.1111111111111111,
              "#46039f"
             ],
             [
              0.2222222222222222,
              "#7201a8"
             ],
             [
              0.3333333333333333,
              "#9c179e"
             ],
             [
              0.4444444444444444,
              "#bd3786"
             ],
             [
              0.5555555555555556,
              "#d8576b"
             ],
             [
              0.6666666666666666,
              "#ed7953"
             ],
             [
              0.7777777777777778,
              "#fb9f3a"
             ],
             [
              0.8888888888888888,
              "#fdca26"
             ],
             [
              1,
              "#f0f921"
             ]
            ],
            "type": "heatmap"
           }
          ],
          "heatmapgl": [
           {
            "colorbar": {
             "outlinewidth": 0,
             "ticks": ""
            },
            "colorscale": [
             [
              0,
              "#0d0887"
             ],
             [
              0.1111111111111111,
              "#46039f"
             ],
             [
              0.2222222222222222,
              "#7201a8"
             ],
             [
              0.3333333333333333,
              "#9c179e"
             ],
             [
              0.4444444444444444,
              "#bd3786"
             ],
             [
              0.5555555555555556,
              "#d8576b"
             ],
             [
              0.6666666666666666,
              "#ed7953"
             ],
             [
              0.7777777777777778,
              "#fb9f3a"
             ],
             [
              0.8888888888888888,
              "#fdca26"
             ],
             [
              1,
              "#f0f921"
             ]
            ],
            "type": "heatmapgl"
           }
          ],
          "histogram": [
           {
            "marker": {
             "pattern": {
              "fillmode": "overlay",
              "size": 10,
              "solidity": 0.2
             }
            },
            "type": "histogram"
           }
          ],
          "histogram2d": [
           {
            "colorbar": {
             "outlinewidth": 0,
             "ticks": ""
            },
            "colorscale": [
             [
              0,
              "#0d0887"
             ],
             [
              0.1111111111111111,
              "#46039f"
             ],
             [
              0.2222222222222222,
              "#7201a8"
             ],
             [
              0.3333333333333333,
              "#9c179e"
             ],
             [
              0.4444444444444444,
              "#bd3786"
             ],
             [
              0.5555555555555556,
              "#d8576b"
             ],
             [
              0.6666666666666666,
              "#ed7953"
             ],
             [
              0.7777777777777778,
              "#fb9f3a"
             ],
             [
              0.8888888888888888,
              "#fdca26"
             ],
             [
              1,
              "#f0f921"
             ]
            ],
            "type": "histogram2d"
           }
          ],
          "histogram2dcontour": [
           {
            "colorbar": {
             "outlinewidth": 0,
             "ticks": ""
            },
            "colorscale": [
             [
              0,
              "#0d0887"
             ],
             [
              0.1111111111111111,
              "#46039f"
             ],
             [
              0.2222222222222222,
              "#7201a8"
             ],
             [
              0.3333333333333333,
              "#9c179e"
             ],
             [
              0.4444444444444444,
              "#bd3786"
             ],
             [
              0.5555555555555556,
              "#d8576b"
             ],
             [
              0.6666666666666666,
              "#ed7953"
             ],
             [
              0.7777777777777778,
              "#fb9f3a"
             ],
             [
              0.8888888888888888,
              "#fdca26"
             ],
             [
              1,
              "#f0f921"
             ]
            ],
            "type": "histogram2dcontour"
           }
          ],
          "mesh3d": [
           {
            "colorbar": {
             "outlinewidth": 0,
             "ticks": ""
            },
            "type": "mesh3d"
           }
          ],
          "parcoords": [
           {
            "line": {
             "colorbar": {
              "outlinewidth": 0,
              "ticks": ""
             }
            },
            "type": "parcoords"
           }
          ],
          "pie": [
           {
            "automargin": true,
            "type": "pie"
           }
          ],
          "scatter": [
           {
            "marker": {
             "colorbar": {
              "outlinewidth": 0,
              "ticks": ""
             }
            },
            "type": "scatter"
           }
          ],
          "scatter3d": [
           {
            "line": {
             "colorbar": {
              "outlinewidth": 0,
              "ticks": ""
             }
            },
            "marker": {
             "colorbar": {
              "outlinewidth": 0,
              "ticks": ""
             }
            },
            "type": "scatter3d"
           }
          ],
          "scattercarpet": [
           {
            "marker": {
             "colorbar": {
              "outlinewidth": 0,
              "ticks": ""
             }
            },
            "type": "scattercarpet"
           }
          ],
          "scattergeo": [
           {
            "marker": {
             "colorbar": {
              "outlinewidth": 0,
              "ticks": ""
             }
            },
            "type": "scattergeo"
           }
          ],
          "scattergl": [
           {
            "marker": {
             "colorbar": {
              "outlinewidth": 0,
              "ticks": ""
             }
            },
            "type": "scattergl"
           }
          ],
          "scattermapbox": [
           {
            "marker": {
             "colorbar": {
              "outlinewidth": 0,
              "ticks": ""
             }
            },
            "type": "scattermapbox"
           }
          ],
          "scatterpolar": [
           {
            "marker": {
             "colorbar": {
              "outlinewidth": 0,
              "ticks": ""
             }
            },
            "type": "scatterpolar"
           }
          ],
          "scatterpolargl": [
           {
            "marker": {
             "colorbar": {
              "outlinewidth": 0,
              "ticks": ""
             }
            },
            "type": "scatterpolargl"
           }
          ],
          "scatterternary": [
           {
            "marker": {
             "colorbar": {
              "outlinewidth": 0,
              "ticks": ""
             }
            },
            "type": "scatterternary"
           }
          ],
          "surface": [
           {
            "colorbar": {
             "outlinewidth": 0,
             "ticks": ""
            },
            "colorscale": [
             [
              0,
              "#0d0887"
             ],
             [
              0.1111111111111111,
              "#46039f"
             ],
             [
              0.2222222222222222,
              "#7201a8"
             ],
             [
              0.3333333333333333,
              "#9c179e"
             ],
             [
              0.4444444444444444,
              "#bd3786"
             ],
             [
              0.5555555555555556,
              "#d8576b"
             ],
             [
              0.6666666666666666,
              "#ed7953"
             ],
             [
              0.7777777777777778,
              "#fb9f3a"
             ],
             [
              0.8888888888888888,
              "#fdca26"
             ],
             [
              1,
              "#f0f921"
             ]
            ],
            "type": "surface"
           }
          ],
          "table": [
           {
            "cells": {
             "fill": {
              "color": "#EBF0F8"
             },
             "line": {
              "color": "white"
             }
            },
            "header": {
             "fill": {
              "color": "#C8D4E3"
             },
             "line": {
              "color": "white"
             }
            },
            "type": "table"
           }
          ]
         },
         "layout": {
          "annotationdefaults": {
           "arrowcolor": "#2a3f5f",
           "arrowhead": 0,
           "arrowwidth": 1
          },
          "autotypenumbers": "strict",
          "coloraxis": {
           "colorbar": {
            "outlinewidth": 0,
            "ticks": ""
           }
          },
          "colorscale": {
           "diverging": [
            [
             0,
             "#8e0152"
            ],
            [
             0.1,
             "#c51b7d"
            ],
            [
             0.2,
             "#de77ae"
            ],
            [
             0.3,
             "#f1b6da"
            ],
            [
             0.4,
             "#fde0ef"
            ],
            [
             0.5,
             "#f7f7f7"
            ],
            [
             0.6,
             "#e6f5d0"
            ],
            [
             0.7,
             "#b8e186"
            ],
            [
             0.8,
             "#7fbc41"
            ],
            [
             0.9,
             "#4d9221"
            ],
            [
             1,
             "#276419"
            ]
           ],
           "sequential": [
            [
             0,
             "#0d0887"
            ],
            [
             0.1111111111111111,
             "#46039f"
            ],
            [
             0.2222222222222222,
             "#7201a8"
            ],
            [
             0.3333333333333333,
             "#9c179e"
            ],
            [
             0.4444444444444444,
             "#bd3786"
            ],
            [
             0.5555555555555556,
             "#d8576b"
            ],
            [
             0.6666666666666666,
             "#ed7953"
            ],
            [
             0.7777777777777778,
             "#fb9f3a"
            ],
            [
             0.8888888888888888,
             "#fdca26"
            ],
            [
             1,
             "#f0f921"
            ]
           ],
           "sequentialminus": [
            [
             0,
             "#0d0887"
            ],
            [
             0.1111111111111111,
             "#46039f"
            ],
            [
             0.2222222222222222,
             "#7201a8"
            ],
            [
             0.3333333333333333,
             "#9c179e"
            ],
            [
             0.4444444444444444,
             "#bd3786"
            ],
            [
             0.5555555555555556,
             "#d8576b"
            ],
            [
             0.6666666666666666,
             "#ed7953"
            ],
            [
             0.7777777777777778,
             "#fb9f3a"
            ],
            [
             0.8888888888888888,
             "#fdca26"
            ],
            [
             1,
             "#f0f921"
            ]
           ]
          },
          "colorway": [
           "#636efa",
           "#EF553B",
           "#00cc96",
           "#ab63fa",
           "#FFA15A",
           "#19d3f3",
           "#FF6692",
           "#B6E880",
           "#FF97FF",
           "#FECB52"
          ],
          "font": {
           "color": "#2a3f5f"
          },
          "geo": {
           "bgcolor": "white",
           "lakecolor": "white",
           "landcolor": "white",
           "showlakes": true,
           "showland": true,
           "subunitcolor": "#C8D4E3"
          },
          "hoverlabel": {
           "align": "left"
          },
          "hovermode": "closest",
          "mapbox": {
           "style": "light"
          },
          "paper_bgcolor": "white",
          "plot_bgcolor": "white",
          "polar": {
           "angularaxis": {
            "gridcolor": "#EBF0F8",
            "linecolor": "#EBF0F8",
            "ticks": ""
           },
           "bgcolor": "white",
           "radialaxis": {
            "gridcolor": "#EBF0F8",
            "linecolor": "#EBF0F8",
            "ticks": ""
           }
          },
          "scene": {
           "xaxis": {
            "backgroundcolor": "white",
            "gridcolor": "#DFE8F3",
            "gridwidth": 2,
            "linecolor": "#EBF0F8",
            "showbackground": true,
            "ticks": "",
            "zerolinecolor": "#EBF0F8"
           },
           "yaxis": {
            "backgroundcolor": "white",
            "gridcolor": "#DFE8F3",
            "gridwidth": 2,
            "linecolor": "#EBF0F8",
            "showbackground": true,
            "ticks": "",
            "zerolinecolor": "#EBF0F8"
           },
           "zaxis": {
            "backgroundcolor": "white",
            "gridcolor": "#DFE8F3",
            "gridwidth": 2,
            "linecolor": "#EBF0F8",
            "showbackground": true,
            "ticks": "",
            "zerolinecolor": "#EBF0F8"
           }
          },
          "shapedefaults": {
           "line": {
            "color": "#2a3f5f"
           }
          },
          "ternary": {
           "aaxis": {
            "gridcolor": "#DFE8F3",
            "linecolor": "#A2B1C6",
            "ticks": ""
           },
           "baxis": {
            "gridcolor": "#DFE8F3",
            "linecolor": "#A2B1C6",
            "ticks": ""
           },
           "bgcolor": "white",
           "caxis": {
            "gridcolor": "#DFE8F3",
            "linecolor": "#A2B1C6",
            "ticks": ""
           }
          },
          "title": {
           "x": 0.05
          },
          "xaxis": {
           "automargin": true,
           "gridcolor": "#EBF0F8",
           "linecolor": "#EBF0F8",
           "ticks": "",
           "title": {
            "standoff": 15
           },
           "zerolinecolor": "#EBF0F8",
           "zerolinewidth": 2
          },
          "yaxis": {
           "automargin": true,
           "gridcolor": "#EBF0F8",
           "linecolor": "#EBF0F8",
           "ticks": "",
           "title": {
            "standoff": 15
           },
           "zerolinecolor": "#EBF0F8",
           "zerolinewidth": 2
          }
         }
        },
        "width": 1200,
        "xaxis": {
         "anchor": "y",
         "domain": [
          0,
          1
         ],
         "title": {
          "text": "component_1"
         },
         "visible": false
        },
        "yaxis": {
         "anchor": "x",
         "domain": [
          0,
          1
         ],
         "title": {
          "text": "component_2"
         },
         "visible": false
        }
       }
      }
     },
     "metadata": {}
    }
   ],
   "metadata": {}
  },
  {
   "cell_type": "markdown",
   "source": [
    "> **Nhận xét**:\n",
    "> * Nếu bạn zoom-in vào thì bạn sẽ có thể thấy có những từ về mặt ngữ nghĩa, liên quan với nhau thì chúng thật sự ở gần nhau.\n",
    "> * Các từ phân bố đều và hợp lí hơn so với model word2vec mà ta tự build."
   ],
   "metadata": {}
  },
  {
   "cell_type": "markdown",
   "source": [
    "Tuy nhiên, tôi thấy biểu đồ 2D này còn chưa đủ, đôi khi chúng ta tham vọng hơn và tôi muốn có một góc nhìn trên không gian nhiều chiều nhất mà con người có thể cảm nhận được là 3 chiều. Lúc này thay vì giữ lại 2 trong TSNE, ta sẽ giữ lại 3 component."
   ],
   "metadata": {}
  },
  {
   "cell_type": "code",
   "execution_count": 19,
   "source": [
    "tsne_3_components = Detective.tsneGetNCompenent(vec_words, 3)\n",
    "tsne_3_components"
   ],
   "outputs": [
    {
     "output_type": "execute_result",
     "data": {
      "text/html": [
       "<div>\n",
       "<style scoped>\n",
       "    .dataframe tbody tr th:only-of-type {\n",
       "        vertical-align: middle;\n",
       "    }\n",
       "\n",
       "    .dataframe tbody tr th {\n",
       "        vertical-align: top;\n",
       "    }\n",
       "\n",
       "    .dataframe thead th {\n",
       "        text-align: right;\n",
       "    }\n",
       "</style>\n",
       "<table border=\"1\" class=\"dataframe\">\n",
       "  <thead>\n",
       "    <tr style=\"text-align: right;\">\n",
       "      <th></th>\n",
       "      <th>word</th>\n",
       "      <th>freq</th>\n",
       "      <th>ft_vec</th>\n",
       "      <th>label</th>\n",
       "      <th>component_1</th>\n",
       "      <th>component_2</th>\n",
       "      <th>component_3</th>\n",
       "    </tr>\n",
       "  </thead>\n",
       "  <tbody>\n",
       "    <tr>\n",
       "      <th>0</th>\n",
       "      <td>thèm</td>\n",
       "      <td>56</td>\n",
       "      <td>[0.12546667, 0.27063507, -0.3226054, 0.1076125...</td>\n",
       "      <td>0</td>\n",
       "      <td>14.217293</td>\n",
       "      <td>-10.800855</td>\n",
       "      <td>23.222706</td>\n",
       "    </tr>\n",
       "    <tr>\n",
       "      <th>1</th>\n",
       "      <td>lum</td>\n",
       "      <td>35</td>\n",
       "      <td>[0.31741396, 0.60768604, -0.23061581, 0.342011...</td>\n",
       "      <td>0</td>\n",
       "      <td>17.756479</td>\n",
       "      <td>11.150264</td>\n",
       "      <td>6.434658</td>\n",
       "    </tr>\n",
       "    <tr>\n",
       "      <th>2</th>\n",
       "      <td>tùm</td>\n",
       "      <td>35</td>\n",
       "      <td>[0.34853685, 0.19606084, -0.22714649, 0.080849...</td>\n",
       "      <td>0</td>\n",
       "      <td>12.160611</td>\n",
       "      <td>2.563452</td>\n",
       "      <td>31.675005</td>\n",
       "    </tr>\n",
       "    <tr>\n",
       "      <th>3</th>\n",
       "      <td>huỷ</td>\n",
       "      <td>31</td>\n",
       "      <td>[0.24349461, 0.12490517, -0.20848149, -0.01994...</td>\n",
       "      <td>0</td>\n",
       "      <td>-1.496792</td>\n",
       "      <td>-14.013613</td>\n",
       "      <td>33.494926</td>\n",
       "    </tr>\n",
       "    <tr>\n",
       "      <th>4</th>\n",
       "      <td>đểu</td>\n",
       "      <td>28</td>\n",
       "      <td>[0.08494775, 0.045489177, -0.035257675, -0.022...</td>\n",
       "      <td>0</td>\n",
       "      <td>3.065969</td>\n",
       "      <td>29.492119</td>\n",
       "      <td>-31.330750</td>\n",
       "    </tr>\n",
       "    <tr>\n",
       "      <th>...</th>\n",
       "      <td>...</td>\n",
       "      <td>...</td>\n",
       "      <td>...</td>\n",
       "      <td>...</td>\n",
       "      <td>...</td>\n",
       "      <td>...</td>\n",
       "      <td>...</td>\n",
       "    </tr>\n",
       "    <tr>\n",
       "      <th>3862</th>\n",
       "      <td>swatch</td>\n",
       "      <td>2</td>\n",
       "      <td>[0.08958084, 0.15783022, -0.00658212, 0.263154...</td>\n",
       "      <td>2</td>\n",
       "      <td>-7.675353</td>\n",
       "      <td>30.901701</td>\n",
       "      <td>-2.469785</td>\n",
       "    </tr>\n",
       "    <tr>\n",
       "      <th>3863</th>\n",
       "      <td>shock</td>\n",
       "      <td>2</td>\n",
       "      <td>[-0.047569092, 0.16774213, -0.014833469, 0.254...</td>\n",
       "      <td>2</td>\n",
       "      <td>-14.763266</td>\n",
       "      <td>1.552083</td>\n",
       "      <td>-3.847000</td>\n",
       "    </tr>\n",
       "    <tr>\n",
       "      <th>3864</th>\n",
       "      <td>ối</td>\n",
       "      <td>2</td>\n",
       "      <td>[0.05223365, 0.014435465, 0.006510902, 0.02751...</td>\n",
       "      <td>2</td>\n",
       "      <td>-18.706457</td>\n",
       "      <td>-1.169896</td>\n",
       "      <td>-16.921934</td>\n",
       "    </tr>\n",
       "    <tr>\n",
       "      <th>3865</th>\n",
       "      <td>nẵng</td>\n",
       "      <td>2</td>\n",
       "      <td>[-0.0120164575, -0.0057069273, -0.0016485625, ...</td>\n",
       "      <td>2</td>\n",
       "      <td>4.905975</td>\n",
       "      <td>-2.665275</td>\n",
       "      <td>-57.885429</td>\n",
       "    </tr>\n",
       "    <tr>\n",
       "      <th>3866</th>\n",
       "      <td>oe</td>\n",
       "      <td>2</td>\n",
       "      <td>[0.8302758, 1.1395676, -0.4882264, 0.68928546,...</td>\n",
       "      <td>2</td>\n",
       "      <td>29.314922</td>\n",
       "      <td>15.599572</td>\n",
       "      <td>3.731873</td>\n",
       "    </tr>\n",
       "  </tbody>\n",
       "</table>\n",
       "<p>3867 rows × 7 columns</p>\n",
       "</div>"
      ],
      "text/plain": [
       "        word  freq                                             ft_vec  label  \\\n",
       "0      thèm    56  [0.12546667, 0.27063507, -0.3226054, 0.1076125...      0   \n",
       "1        lum    35  [0.31741396, 0.60768604, -0.23061581, 0.342011...      0   \n",
       "2       tùm    35  [0.34853685, 0.19606084, -0.22714649, 0.080849...      0   \n",
       "3       huỷ    31  [0.24349461, 0.12490517, -0.20848149, -0.01994...      0   \n",
       "4      đểu    28  [0.08494775, 0.045489177, -0.035257675, -0.022...      0   \n",
       "...      ...   ...                                                ...    ...   \n",
       "3862  swatch     2  [0.08958084, 0.15783022, -0.00658212, 0.263154...      2   \n",
       "3863   shock     2  [-0.047569092, 0.16774213, -0.014833469, 0.254...      2   \n",
       "3864    ối     2  [0.05223365, 0.014435465, 0.006510902, 0.02751...      2   \n",
       "3865  nẵng     2  [-0.0120164575, -0.0057069273, -0.0016485625, ...      2   \n",
       "3866      oe     2  [0.8302758, 1.1395676, -0.4882264, 0.68928546,...      2   \n",
       "\n",
       "      component_1  component_2  component_3  \n",
       "0       14.217293   -10.800855    23.222706  \n",
       "1       17.756479    11.150264     6.434658  \n",
       "2       12.160611     2.563452    31.675005  \n",
       "3       -1.496792   -14.013613    33.494926  \n",
       "4        3.065969    29.492119   -31.330750  \n",
       "...           ...          ...          ...  \n",
       "3862    -7.675353    30.901701    -2.469785  \n",
       "3863   -14.763266     1.552083    -3.847000  \n",
       "3864   -18.706457    -1.169896   -16.921934  \n",
       "3865     4.905975    -2.665275   -57.885429  \n",
       "3866    29.314922    15.599572     3.731873  \n",
       "\n",
       "[3867 rows x 7 columns]"
      ]
     },
     "metadata": {},
     "execution_count": 19
    }
   ],
   "metadata": {}
  },
  {
   "cell_type": "code",
   "execution_count": 20,
   "source": [
    "tsne_3_components_shuffle = tsne_3_components.sample(frac=1)"
   ],
   "outputs": [],
   "metadata": {}
  },
  {
   "cell_type": "code",
   "execution_count": 21,
   "source": [
    "Detective.word3dPlot(tsne_3_components_shuffle.head(500))"
   ],
   "outputs": [],
   "metadata": {}
  },
  {
   "cell_type": "markdown",
   "source": [
    "![](./images/09.gif)\n",
    "> **Nhận xét**:\n",
    "> * Với không gian 3 chiều, ta có một cái nhìn cực kì hay ho và thú vị với dataset, nhưng cũng phải nói nó không mạng lại cho ta quá nhiều thông tin, rất có thể ở một không gian nào đó mà chúng sẽ phân cụm một cách tốt hơn, nhưng với giới hạn về mặt thị giác của con người thì chỉ được đến đây."
   ],
   "metadata": {}
  },
  {
   "cell_type": "markdown",
   "source": [
    "# Tài liệu tham khảo:\n",
    "* [Hands-On Deep learning algorithms with Python](https://www.packtpub.com/product/hands-on-deep-learning-algorithms-with-python/9781789344158)\n",
    "* [Natural language processing with TensorFlow](https://www.packtpub.com/product/natural-language-processing-with-tensorflow/9781788478311)\n",
    "* [Applied Natural Language Processing in the Enterprise](https://www.amazon.com/Applied-Natural-Language-Processing-Enterprise/dp/149206257X)\n",
    "* [Natural Language Processing in Action](https://www.amazon.com/Natural-Language-Processing-Action-Understanding/dp/1617294632)\n",
    "* [Python Data Science Handbook](https://www.amazon.com/Python-Data-Science-Handbook-Essential/dp/1491912057)\n",
    "* [Deep Learning Quick Reference](https://www.amazon.com/Deep-Learning-Quick-Reference-optimizing/dp/1788837991)\n",
    "* Các tài liệu chính thức trên trang chủ của Plotly, Matplotlib và Seaborn."
   ],
   "metadata": {}
  }
 ],
 "metadata": {
  "orig_nbformat": 4,
  "language_info": {
   "name": "python",
   "version": "3.8.10",
   "mimetype": "text/x-python",
   "codemirror_mode": {
    "name": "ipython",
    "version": 3
   },
   "pygments_lexer": "ipython3",
   "nbconvert_exporter": "python",
   "file_extension": ".py"
  },
  "kernelspec": {
   "name": "python3",
   "display_name": "Python 3.8.10 64-bit"
  },
  "interpreter": {
   "hash": "916dbcbb3f70747c44a77c7bcd40155683ae19c65e1c03b4aa3499c5328201f1"
  }
 },
 "nbformat": 4,
 "nbformat_minor": 2
}