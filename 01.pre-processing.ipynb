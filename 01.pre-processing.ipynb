{
 "cells": [
  {
   "cell_type": "markdown",
   "source": [
    "# 6 - 7. Mô tả và đánh giá dữ liệu & Tiền xử lí dữ liệu"
   ],
   "metadata": {}
  },
  {
   "cell_type": "markdown",
   "source": [
    "* Load toàn bộ review vào một dataframe duy nhất."
   ],
   "metadata": {}
  },
  {
   "cell_type": "code",
   "execution_count": 1,
   "source": [
    "%load_ext autoreload\n",
    "%autoreload 2"
   ],
   "outputs": [],
   "metadata": {}
  },
  {
   "cell_type": "code",
   "execution_count": 2,
   "source": [
    "import modules.utils as Utils\n",
    "import modules.processor as Processor\n",
    "import numpy as np\n",
    "import pandas as pd"
   ],
   "outputs": [],
   "metadata": {}
  },
  {
   "cell_type": "code",
   "execution_count": 3,
   "source": [
    "# Lấy tất cả các directory path của các lần ta tiến hành crawl data\n",
    "dir_paths = Utils.getAllFolderPath(\"./data/product_reviews/\")\n",
    "\n",
    "dir_paths"
   ],
   "outputs": [
    {
     "output_type": "execute_result",
     "data": {
      "text/plain": [
       "['./data/product_reviews/product_reviews_01/',\n",
       " './data/product_reviews/product_reviews_02/',\n",
       " './data/product_reviews/product_reviews_03/',\n",
       " './data/product_reviews/product_reviews_00/']"
      ]
     },
     "metadata": {},
     "execution_count": 3
    }
   ],
   "metadata": {}
  },
  {
   "cell_type": "code",
   "execution_count": 4,
   "source": [
    "# Đọc toàn bộ các review từ các file csv\n",
    "reviews = Utils.readReviews(dir_paths)"
   ],
   "outputs": [],
   "metadata": {}
  },
  {
   "cell_type": "code",
   "execution_count": 5,
   "source": [
    "reviews.head()"
   ],
   "outputs": [
    {
     "output_type": "execute_result",
     "data": {
      "text/html": [
       "<div>\n",
       "<style scoped>\n",
       "    .dataframe tbody tr th:only-of-type {\n",
       "        vertical-align: middle;\n",
       "    }\n",
       "\n",
       "    .dataframe tbody tr th {\n",
       "        vertical-align: top;\n",
       "    }\n",
       "\n",
       "    .dataframe thead th {\n",
       "        text-align: right;\n",
       "    }\n",
       "</style>\n",
       "<table border=\"1\" class=\"dataframe\">\n",
       "  <thead>\n",
       "    <tr style=\"text-align: right;\">\n",
       "      <th></th>\n",
       "      <th>raw_comment</th>\n",
       "      <th>rating</th>\n",
       "    </tr>\n",
       "  </thead>\n",
       "  <tbody>\n",
       "    <tr>\n",
       "      <th>0</th>\n",
       "      <td>Mình mua size L. Cổ tay siêu bé, như size S ấy...</td>\n",
       "      <td>1</td>\n",
       "    </tr>\n",
       "    <tr>\n",
       "      <th>1</th>\n",
       "      <td>Size S M L XL\\n\\nForm áo cực kì dễ mang, thiết...</td>\n",
       "      <td>5</td>\n",
       "    </tr>\n",
       "    <tr>\n",
       "      <th>2</th>\n",
       "      <td>Áo khá đẹp vừa với dáng giao hàng cực kì nhanh...</td>\n",
       "      <td>5</td>\n",
       "    </tr>\n",
       "    <tr>\n",
       "      <th>3</th>\n",
       "      <td>Đẹp rất hài lòng okokokokokokokokokokokokoko...</td>\n",
       "      <td>5</td>\n",
       "    </tr>\n",
       "    <tr>\n",
       "      <th>4</th>\n",
       "      <td>Đẹp, ôm dáng, mặc đẹp lắm mà form nhỏ. Mình 60...</td>\n",
       "      <td>5</td>\n",
       "    </tr>\n",
       "  </tbody>\n",
       "</table>\n",
       "</div>"
      ],
      "text/plain": [
       "                                         raw_comment rating\n",
       "0  Mình mua size L. Cổ tay siêu bé, như size S ấy...      1\n",
       "1  Size S M L XL\\n\\nForm áo cực kì dễ mang, thiết...      5\n",
       "2  Áo khá đẹp vừa với dáng giao hàng cực kì nhanh...      5\n",
       "3  Đẹp rất hài lòng okokokokokokokokokokokokoko...      5\n",
       "4  Đẹp, ôm dáng, mặc đẹp lắm mà form nhỏ. Mình 60...      5"
      ]
     },
     "metadata": {},
     "execution_count": 5
    }
   ],
   "metadata": {}
  },
  {
   "cell_type": "code",
   "execution_count": 6,
   "source": [
    "print(\"Tập dữ liệu có {} bình luận.\".format(reviews.shape[0]))"
   ],
   "outputs": [
    {
     "output_type": "stream",
     "name": "stdout",
     "text": [
      "Tập dữ liệu có 278159 bình luận.\n"
     ]
    }
   ],
   "metadata": {}
  },
  {
   "cell_type": "markdown",
   "source": [
    "* Đếm tần số xuất hiện của từng rating."
   ],
   "metadata": {}
  },
  {
   "cell_type": "code",
   "execution_count": 7,
   "source": [
    "reviews['rating'].value_counts()"
   ],
   "outputs": [
    {
     "output_type": "execute_result",
     "data": {
      "text/plain": [
       "5    260555\n",
       "4      9646\n",
       "3      4194\n",
       "1      2308\n",
       "2      1456\n",
       "Name: rating, dtype: int64"
      ]
     },
     "metadata": {},
     "execution_count": 7
    }
   ],
   "metadata": {}
  },
  {
   "cell_type": "markdown",
   "source": [
    "> **Nhận xét**:\n",
    "> * Nhìn chung tuy ta crawl được hơn 200,000 quan sát nhưng có sự chênh lệch lớn giữa các rating.\n",
    "> * Nhìn qua ta thấy đa phần là các rating được đánh giá 5 sao, điều này cũng dễ hiểu vì hệ thống recommend của Shopee sẽ ưu tiên gợi ý cho khách hàng những sản phẩm có đánh giá tốt. Và sẽ hạn chế hoặc thậm chí là ko gợi ý các mặc hàng bị đánh giá kém. Nên với địa vị là người đi trộm dữ liệu như chúng ta thì ko có cách nào khắc phục điều này.\n",
    "> * Bây giờ, do ta cần chi ra hai lớp là negative và positive nên những comment mà `rating` $\\geq 4$ sẽ được cho vào nhóm positive, ngược lại là nhóm negative. "
   ],
   "metadata": {}
  },
  {
   "cell_type": "markdown",
   "source": [
    "* Tiến hành label cho `reviews` với các giá `rating` $< 4$ sẽ thuộc nhóm negative còn lại là nhóm positive."
   ],
   "metadata": {}
  },
  {
   "cell_type": "code",
   "execution_count": 8,
   "source": [
    "reviews = Utils.labelRating(reviews)"
   ],
   "outputs": [],
   "metadata": {}
  },
  {
   "cell_type": "code",
   "execution_count": 9,
   "source": [
    "reviews.head()"
   ],
   "outputs": [
    {
     "output_type": "execute_result",
     "data": {
      "text/html": [
       "<div>\n",
       "<style scoped>\n",
       "    .dataframe tbody tr th:only-of-type {\n",
       "        vertical-align: middle;\n",
       "    }\n",
       "\n",
       "    .dataframe tbody tr th {\n",
       "        vertical-align: top;\n",
       "    }\n",
       "\n",
       "    .dataframe thead th {\n",
       "        text-align: right;\n",
       "    }\n",
       "</style>\n",
       "<table border=\"1\" class=\"dataframe\">\n",
       "  <thead>\n",
       "    <tr style=\"text-align: right;\">\n",
       "      <th></th>\n",
       "      <th>raw_comment</th>\n",
       "      <th>rating</th>\n",
       "      <th>label</th>\n",
       "    </tr>\n",
       "  </thead>\n",
       "  <tbody>\n",
       "    <tr>\n",
       "      <th>0</th>\n",
       "      <td>Mình mua size L. Cổ tay siêu bé, như size S ấy...</td>\n",
       "      <td>1</td>\n",
       "      <td>0</td>\n",
       "    </tr>\n",
       "    <tr>\n",
       "      <th>1</th>\n",
       "      <td>Size S M L XL\\n\\nForm áo cực kì dễ mang, thiết...</td>\n",
       "      <td>5</td>\n",
       "      <td>1</td>\n",
       "    </tr>\n",
       "    <tr>\n",
       "      <th>2</th>\n",
       "      <td>Áo khá đẹp vừa với dáng giao hàng cực kì nhanh...</td>\n",
       "      <td>5</td>\n",
       "      <td>1</td>\n",
       "    </tr>\n",
       "    <tr>\n",
       "      <th>3</th>\n",
       "      <td>Đẹp rất hài lòng okokokokokokokokokokokokoko...</td>\n",
       "      <td>5</td>\n",
       "      <td>1</td>\n",
       "    </tr>\n",
       "    <tr>\n",
       "      <th>4</th>\n",
       "      <td>Đẹp, ôm dáng, mặc đẹp lắm mà form nhỏ. Mình 60...</td>\n",
       "      <td>5</td>\n",
       "      <td>1</td>\n",
       "    </tr>\n",
       "  </tbody>\n",
       "</table>\n",
       "</div>"
      ],
      "text/plain": [
       "                                         raw_comment rating  label\n",
       "0  Mình mua size L. Cổ tay siêu bé, như size S ấy...      1      0\n",
       "1  Size S M L XL\\n\\nForm áo cực kì dễ mang, thiết...      5      1\n",
       "2  Áo khá đẹp vừa với dáng giao hàng cực kì nhanh...      5      1\n",
       "3  Đẹp rất hài lòng okokokokokokokokokokokokoko...      5      1\n",
       "4  Đẹp, ôm dáng, mặc đẹp lắm mà form nhỏ. Mình 60...      5      1"
      ]
     },
     "metadata": {},
     "execution_count": 9
    }
   ],
   "metadata": {}
  },
  {
   "cell_type": "markdown",
   "source": [
    "* Bây giờ ta sẽ xóa đi feature `rating` vì về sau ta sẽ ko cần dúng đến nó nữa, và tiến hành đếm số lượng quan sát của từng nhóm trên `label`"
   ],
   "metadata": {}
  },
  {
   "cell_type": "code",
   "execution_count": 10,
   "source": [
    "reviews = reviews.drop(columns=['rating'])\n",
    "\n",
    "Processor.printAfterProcess(reviews)\n",
    "reviews.head()"
   ],
   "outputs": [
    {
     "output_type": "stream",
     "name": "stdout",
     "text": [
      "Shape: (278159, 2)\n",
      "1    270201\n",
      "0      7958\n",
      "Name: label, dtype: int64\n"
     ]
    },
    {
     "output_type": "execute_result",
     "data": {
      "text/html": [
       "<div>\n",
       "<style scoped>\n",
       "    .dataframe tbody tr th:only-of-type {\n",
       "        vertical-align: middle;\n",
       "    }\n",
       "\n",
       "    .dataframe tbody tr th {\n",
       "        vertical-align: top;\n",
       "    }\n",
       "\n",
       "    .dataframe thead th {\n",
       "        text-align: right;\n",
       "    }\n",
       "</style>\n",
       "<table border=\"1\" class=\"dataframe\">\n",
       "  <thead>\n",
       "    <tr style=\"text-align: right;\">\n",
       "      <th></th>\n",
       "      <th>raw_comment</th>\n",
       "      <th>label</th>\n",
       "    </tr>\n",
       "  </thead>\n",
       "  <tbody>\n",
       "    <tr>\n",
       "      <th>0</th>\n",
       "      <td>Mình mua size L. Cổ tay siêu bé, như size S ấy...</td>\n",
       "      <td>0</td>\n",
       "    </tr>\n",
       "    <tr>\n",
       "      <th>1</th>\n",
       "      <td>Size S M L XL\\n\\nForm áo cực kì dễ mang, thiết...</td>\n",
       "      <td>1</td>\n",
       "    </tr>\n",
       "    <tr>\n",
       "      <th>2</th>\n",
       "      <td>Áo khá đẹp vừa với dáng giao hàng cực kì nhanh...</td>\n",
       "      <td>1</td>\n",
       "    </tr>\n",
       "    <tr>\n",
       "      <th>3</th>\n",
       "      <td>Đẹp rất hài lòng okokokokokokokokokokokokoko...</td>\n",
       "      <td>1</td>\n",
       "    </tr>\n",
       "    <tr>\n",
       "      <th>4</th>\n",
       "      <td>Đẹp, ôm dáng, mặc đẹp lắm mà form nhỏ. Mình 60...</td>\n",
       "      <td>1</td>\n",
       "    </tr>\n",
       "  </tbody>\n",
       "</table>\n",
       "</div>"
      ],
      "text/plain": [
       "                                         raw_comment  label\n",
       "0  Mình mua size L. Cổ tay siêu bé, như size S ấy...      0\n",
       "1  Size S M L XL\\n\\nForm áo cực kì dễ mang, thiết...      1\n",
       "2  Áo khá đẹp vừa với dáng giao hàng cực kì nhanh...      1\n",
       "3  Đẹp rất hài lòng okokokokokokokokokokokokoko...      1\n",
       "4  Đẹp, ôm dáng, mặc đẹp lắm mà form nhỏ. Mình 60...      1"
      ]
     },
     "metadata": {},
     "execution_count": 10
    }
   ],
   "metadata": {}
  },
  {
   "cell_type": "markdown",
   "source": [
    "* Ghi `reviews` ra file csv"
   ],
   "metadata": {}
  },
  {
   "cell_type": "code",
   "execution_count": 11,
   "source": [
    "reviews.to_csv(\"./data/reviews.csv\", index=False)"
   ],
   "outputs": [],
   "metadata": {}
  },
  {
   "cell_type": "markdown",
   "source": [
    "* Ta cần tạo một cột tên là `comment_lower` để tiện cho xử lí sau này"
   ],
   "metadata": {}
  },
  {
   "cell_type": "code",
   "execution_count": 12,
   "source": [
    "reviews['comment_lower'] = reviews['raw_comment'].apply(lambda cmt: cmt.lower())\n",
    "reviews.head()"
   ],
   "outputs": [
    {
     "output_type": "execute_result",
     "data": {
      "text/html": [
       "<div>\n",
       "<style scoped>\n",
       "    .dataframe tbody tr th:only-of-type {\n",
       "        vertical-align: middle;\n",
       "    }\n",
       "\n",
       "    .dataframe tbody tr th {\n",
       "        vertical-align: top;\n",
       "    }\n",
       "\n",
       "    .dataframe thead th {\n",
       "        text-align: right;\n",
       "    }\n",
       "</style>\n",
       "<table border=\"1\" class=\"dataframe\">\n",
       "  <thead>\n",
       "    <tr style=\"text-align: right;\">\n",
       "      <th></th>\n",
       "      <th>raw_comment</th>\n",
       "      <th>label</th>\n",
       "      <th>comment_lower</th>\n",
       "    </tr>\n",
       "  </thead>\n",
       "  <tbody>\n",
       "    <tr>\n",
       "      <th>0</th>\n",
       "      <td>Mình mua size L. Cổ tay siêu bé, như size S ấy...</td>\n",
       "      <td>0</td>\n",
       "      <td>mình mua size l. cổ tay siêu bé, như size s ấy...</td>\n",
       "    </tr>\n",
       "    <tr>\n",
       "      <th>1</th>\n",
       "      <td>Size S M L XL\\n\\nForm áo cực kì dễ mang, thiết...</td>\n",
       "      <td>1</td>\n",
       "      <td>size s m l xl\\n\\nform áo cực kì dễ mang, thiết...</td>\n",
       "    </tr>\n",
       "    <tr>\n",
       "      <th>2</th>\n",
       "      <td>Áo khá đẹp vừa với dáng giao hàng cực kì nhanh...</td>\n",
       "      <td>1</td>\n",
       "      <td>áo khá đẹp vừa với dáng giao hàng cực kì nhanh...</td>\n",
       "    </tr>\n",
       "    <tr>\n",
       "      <th>3</th>\n",
       "      <td>Đẹp rất hài lòng okokokokokokokokokokokokoko...</td>\n",
       "      <td>1</td>\n",
       "      <td>đẹp rất hài lòng okokokokokokokokokokokokoko...</td>\n",
       "    </tr>\n",
       "    <tr>\n",
       "      <th>4</th>\n",
       "      <td>Đẹp, ôm dáng, mặc đẹp lắm mà form nhỏ. Mình 60...</td>\n",
       "      <td>1</td>\n",
       "      <td>đẹp, ôm dáng, mặc đẹp lắm mà form nhỏ. mình 60...</td>\n",
       "    </tr>\n",
       "  </tbody>\n",
       "</table>\n",
       "</div>"
      ],
      "text/plain": [
       "                                         raw_comment  label  \\\n",
       "0  Mình mua size L. Cổ tay siêu bé, như size S ấy...      0   \n",
       "1  Size S M L XL\\n\\nForm áo cực kì dễ mang, thiết...      1   \n",
       "2  Áo khá đẹp vừa với dáng giao hàng cực kì nhanh...      1   \n",
       "3  Đẹp rất hài lòng okokokokokokokokokokokokoko...      1   \n",
       "4  Đẹp, ôm dáng, mặc đẹp lắm mà form nhỏ. Mình 60...      1   \n",
       "\n",
       "                                       comment_lower  \n",
       "0  mình mua size l. cổ tay siêu bé, như size s ấy...  \n",
       "1  size s m l xl\\n\\nform áo cực kì dễ mang, thiết...  \n",
       "2  áo khá đẹp vừa với dáng giao hàng cực kì nhanh...  \n",
       "3  đẹp rất hài lòng okokokokokokokokokokokokoko...  \n",
       "4  đẹp, ôm dáng, mặc đẹp lắm mà form nhỏ. mình 60...  "
      ]
     },
     "metadata": {},
     "execution_count": 12
    }
   ],
   "metadata": {}
  },
  {
   "cell_type": "markdown",
   "source": [
    "<hr>\n",
    "\n",
    "* Chúng ta biết rằng, các comment của các sản phẩm đôi khi sẽ chứa các URL do người bán hàng chèn vào để giúp khách hàng có thể click vào để xem các mặt hàng khác, chúng là các noise sample mà ta cần phải loại bỏ khỏi dataset của chúng ta.\n",
    "* Hình dưới đây là kết quả cho ra khi ta thử search cụm từ `http` thì nó cho ra hơn 600 mẫu dữ liệu chứa URL. Ta cần loại bỏ các mẫu này.<br>\n",
    "  ![](./images/04.png)"
   ],
   "metadata": {}
  },
  {
   "cell_type": "code",
   "execution_count": 13,
   "source": [
    "reviews['contain_url'] = reviews['comment_lower'].apply(lambda cmt: Processor.containsURL(cmt))\n",
    "\n",
    "Processor.printAfterProcess(reviews, 'contain_url')\n",
    "reviews.head()"
   ],
   "outputs": [
    {
     "output_type": "stream",
     "name": "stdout",
     "text": [
      "Shape: (278159, 4)\n",
      "0    277589\n",
      "1       570\n",
      "Name: contain_url, dtype: int64\n"
     ]
    },
    {
     "output_type": "execute_result",
     "data": {
      "text/html": [
       "<div>\n",
       "<style scoped>\n",
       "    .dataframe tbody tr th:only-of-type {\n",
       "        vertical-align: middle;\n",
       "    }\n",
       "\n",
       "    .dataframe tbody tr th {\n",
       "        vertical-align: top;\n",
       "    }\n",
       "\n",
       "    .dataframe thead th {\n",
       "        text-align: right;\n",
       "    }\n",
       "</style>\n",
       "<table border=\"1\" class=\"dataframe\">\n",
       "  <thead>\n",
       "    <tr style=\"text-align: right;\">\n",
       "      <th></th>\n",
       "      <th>raw_comment</th>\n",
       "      <th>label</th>\n",
       "      <th>comment_lower</th>\n",
       "      <th>contain_url</th>\n",
       "    </tr>\n",
       "  </thead>\n",
       "  <tbody>\n",
       "    <tr>\n",
       "      <th>0</th>\n",
       "      <td>Mình mua size L. Cổ tay siêu bé, như size S ấy...</td>\n",
       "      <td>0</td>\n",
       "      <td>mình mua size l. cổ tay siêu bé, như size s ấy...</td>\n",
       "      <td>0</td>\n",
       "    </tr>\n",
       "    <tr>\n",
       "      <th>1</th>\n",
       "      <td>Size S M L XL\\n\\nForm áo cực kì dễ mang, thiết...</td>\n",
       "      <td>1</td>\n",
       "      <td>size s m l xl\\n\\nform áo cực kì dễ mang, thiết...</td>\n",
       "      <td>0</td>\n",
       "    </tr>\n",
       "    <tr>\n",
       "      <th>2</th>\n",
       "      <td>Áo khá đẹp vừa với dáng giao hàng cực kì nhanh...</td>\n",
       "      <td>1</td>\n",
       "      <td>áo khá đẹp vừa với dáng giao hàng cực kì nhanh...</td>\n",
       "      <td>0</td>\n",
       "    </tr>\n",
       "    <tr>\n",
       "      <th>3</th>\n",
       "      <td>Đẹp rất hài lòng okokokokokokokokokokokokoko...</td>\n",
       "      <td>1</td>\n",
       "      <td>đẹp rất hài lòng okokokokokokokokokokokokoko...</td>\n",
       "      <td>0</td>\n",
       "    </tr>\n",
       "    <tr>\n",
       "      <th>4</th>\n",
       "      <td>Đẹp, ôm dáng, mặc đẹp lắm mà form nhỏ. Mình 60...</td>\n",
       "      <td>1</td>\n",
       "      <td>đẹp, ôm dáng, mặc đẹp lắm mà form nhỏ. mình 60...</td>\n",
       "      <td>0</td>\n",
       "    </tr>\n",
       "  </tbody>\n",
       "</table>\n",
       "</div>"
      ],
      "text/plain": [
       "                                         raw_comment  label  \\\n",
       "0  Mình mua size L. Cổ tay siêu bé, như size S ấy...      0   \n",
       "1  Size S M L XL\\n\\nForm áo cực kì dễ mang, thiết...      1   \n",
       "2  Áo khá đẹp vừa với dáng giao hàng cực kì nhanh...      1   \n",
       "3  Đẹp rất hài lòng okokokokokokokokokokokokoko...      1   \n",
       "4  Đẹp, ôm dáng, mặc đẹp lắm mà form nhỏ. Mình 60...      1   \n",
       "\n",
       "                                       comment_lower  contain_url  \n",
       "0  mình mua size l. cổ tay siêu bé, như size s ấy...            0  \n",
       "1  size s m l xl\\n\\nform áo cực kì dễ mang, thiết...            0  \n",
       "2  áo khá đẹp vừa với dáng giao hàng cực kì nhanh...            0  \n",
       "3  đẹp rất hài lòng okokokokokokokokokokokokoko...            0  \n",
       "4  đẹp, ôm dáng, mặc đẹp lắm mà form nhỏ. mình 60...            0  "
      ]
     },
     "metadata": {},
     "execution_count": 13
    }
   ],
   "metadata": {}
  },
  {
   "cell_type": "markdown",
   "source": [
    "* Bây giờ chúng ta chỉ sẽ lấy các comment mà không chứa URL"
   ],
   "metadata": {}
  },
  {
   "cell_type": "code",
   "execution_count": 14,
   "source": [
    "reviews = reviews[reviews['contain_url'] == 0]\n",
    "reviews = reviews.drop(columns=['contain_url']).reset_index(drop=True) # xóa cột `contain_url`\n",
    "\n",
    "Processor.printAfterProcess(reviews)\n",
    "reviews.head()"
   ],
   "outputs": [
    {
     "output_type": "stream",
     "name": "stdout",
     "text": [
      "Shape: (277589, 3)\n",
      "1    269633\n",
      "0      7956\n",
      "Name: label, dtype: int64\n"
     ]
    },
    {
     "output_type": "execute_result",
     "data": {
      "text/html": [
       "<div>\n",
       "<style scoped>\n",
       "    .dataframe tbody tr th:only-of-type {\n",
       "        vertical-align: middle;\n",
       "    }\n",
       "\n",
       "    .dataframe tbody tr th {\n",
       "        vertical-align: top;\n",
       "    }\n",
       "\n",
       "    .dataframe thead th {\n",
       "        text-align: right;\n",
       "    }\n",
       "</style>\n",
       "<table border=\"1\" class=\"dataframe\">\n",
       "  <thead>\n",
       "    <tr style=\"text-align: right;\">\n",
       "      <th></th>\n",
       "      <th>raw_comment</th>\n",
       "      <th>label</th>\n",
       "      <th>comment_lower</th>\n",
       "    </tr>\n",
       "  </thead>\n",
       "  <tbody>\n",
       "    <tr>\n",
       "      <th>0</th>\n",
       "      <td>Mình mua size L. Cổ tay siêu bé, như size S ấy...</td>\n",
       "      <td>0</td>\n",
       "      <td>mình mua size l. cổ tay siêu bé, như size s ấy...</td>\n",
       "    </tr>\n",
       "    <tr>\n",
       "      <th>1</th>\n",
       "      <td>Size S M L XL\\n\\nForm áo cực kì dễ mang, thiết...</td>\n",
       "      <td>1</td>\n",
       "      <td>size s m l xl\\n\\nform áo cực kì dễ mang, thiết...</td>\n",
       "    </tr>\n",
       "    <tr>\n",
       "      <th>2</th>\n",
       "      <td>Áo khá đẹp vừa với dáng giao hàng cực kì nhanh...</td>\n",
       "      <td>1</td>\n",
       "      <td>áo khá đẹp vừa với dáng giao hàng cực kì nhanh...</td>\n",
       "    </tr>\n",
       "    <tr>\n",
       "      <th>3</th>\n",
       "      <td>Đẹp rất hài lòng okokokokokokokokokokokokoko...</td>\n",
       "      <td>1</td>\n",
       "      <td>đẹp rất hài lòng okokokokokokokokokokokokoko...</td>\n",
       "    </tr>\n",
       "    <tr>\n",
       "      <th>4</th>\n",
       "      <td>Đẹp, ôm dáng, mặc đẹp lắm mà form nhỏ. Mình 60...</td>\n",
       "      <td>1</td>\n",
       "      <td>đẹp, ôm dáng, mặc đẹp lắm mà form nhỏ. mình 60...</td>\n",
       "    </tr>\n",
       "  </tbody>\n",
       "</table>\n",
       "</div>"
      ],
      "text/plain": [
       "                                         raw_comment  label  \\\n",
       "0  Mình mua size L. Cổ tay siêu bé, như size S ấy...      0   \n",
       "1  Size S M L XL\\n\\nForm áo cực kì dễ mang, thiết...      1   \n",
       "2  Áo khá đẹp vừa với dáng giao hàng cực kì nhanh...      1   \n",
       "3  Đẹp rất hài lòng okokokokokokokokokokokokoko...      1   \n",
       "4  Đẹp, ôm dáng, mặc đẹp lắm mà form nhỏ. Mình 60...      1   \n",
       "\n",
       "                                       comment_lower  \n",
       "0  mình mua size l. cổ tay siêu bé, như size s ấy...  \n",
       "1  size s m l xl\\n\\nform áo cực kì dễ mang, thiết...  \n",
       "2  áo khá đẹp vừa với dáng giao hàng cực kì nhanh...  \n",
       "3  đẹp rất hài lòng okokokokokokokokokokokokoko...  \n",
       "4  đẹp, ôm dáng, mặc đẹp lắm mà form nhỏ. mình 60...  "
      ]
     },
     "metadata": {},
     "execution_count": 14
    }
   ],
   "metadata": {}
  },
  {
   "cell_type": "markdown",
   "source": [
    "> **Nhận xét**\n",
    "> * Đa phần là các bình luận thuộc nhóm positive sẽ chứa các URL, cũng dễ hiểu vì họ quảng cáo mà 😅."
   ],
   "metadata": {}
  },
  {
   "cell_type": "markdown",
   "source": [
    "<hr>\n",
    "\n",
    "* Tiếp theo, ta cũng cần xóa các comment mà chữ IN HOA chiếm quá 50% độ dài comment, các comment này khả năng cao cũng là quảng cáo, vì người bán họ muốn làm nổi bật bình luận này lên so với các bình luận còn lại."
   ],
   "metadata": {}
  },
  {
   "cell_type": "code",
   "execution_count": 15,
   "source": [
    "reviews['contain_adv'] = reviews['raw_comment'].apply(lambda cmt: Processor.containAdvertisement(cmt))\n",
    "\n",
    "Processor.printAfterProcess(reviews, 'contain_adv')\n",
    "reviews.head()"
   ],
   "outputs": [
    {
     "output_type": "stream",
     "name": "stdout",
     "text": [
      "Shape: (277589, 4)\n",
      "0    274126\n",
      "1      3463\n",
      "Name: contain_adv, dtype: int64\n"
     ]
    },
    {
     "output_type": "execute_result",
     "data": {
      "text/html": [
       "<div>\n",
       "<style scoped>\n",
       "    .dataframe tbody tr th:only-of-type {\n",
       "        vertical-align: middle;\n",
       "    }\n",
       "\n",
       "    .dataframe tbody tr th {\n",
       "        vertical-align: top;\n",
       "    }\n",
       "\n",
       "    .dataframe thead th {\n",
       "        text-align: right;\n",
       "    }\n",
       "</style>\n",
       "<table border=\"1\" class=\"dataframe\">\n",
       "  <thead>\n",
       "    <tr style=\"text-align: right;\">\n",
       "      <th></th>\n",
       "      <th>raw_comment</th>\n",
       "      <th>label</th>\n",
       "      <th>comment_lower</th>\n",
       "      <th>contain_adv</th>\n",
       "    </tr>\n",
       "  </thead>\n",
       "  <tbody>\n",
       "    <tr>\n",
       "      <th>0</th>\n",
       "      <td>Mình mua size L. Cổ tay siêu bé, như size S ấy...</td>\n",
       "      <td>0</td>\n",
       "      <td>mình mua size l. cổ tay siêu bé, như size s ấy...</td>\n",
       "      <td>0</td>\n",
       "    </tr>\n",
       "    <tr>\n",
       "      <th>1</th>\n",
       "      <td>Size S M L XL\\n\\nForm áo cực kì dễ mang, thiết...</td>\n",
       "      <td>1</td>\n",
       "      <td>size s m l xl\\n\\nform áo cực kì dễ mang, thiết...</td>\n",
       "      <td>0</td>\n",
       "    </tr>\n",
       "    <tr>\n",
       "      <th>2</th>\n",
       "      <td>Áo khá đẹp vừa với dáng giao hàng cực kì nhanh...</td>\n",
       "      <td>1</td>\n",
       "      <td>áo khá đẹp vừa với dáng giao hàng cực kì nhanh...</td>\n",
       "      <td>0</td>\n",
       "    </tr>\n",
       "    <tr>\n",
       "      <th>3</th>\n",
       "      <td>Đẹp rất hài lòng okokokokokokokokokokokokoko...</td>\n",
       "      <td>1</td>\n",
       "      <td>đẹp rất hài lòng okokokokokokokokokokokokoko...</td>\n",
       "      <td>0</td>\n",
       "    </tr>\n",
       "    <tr>\n",
       "      <th>4</th>\n",
       "      <td>Đẹp, ôm dáng, mặc đẹp lắm mà form nhỏ. Mình 60...</td>\n",
       "      <td>1</td>\n",
       "      <td>đẹp, ôm dáng, mặc đẹp lắm mà form nhỏ. mình 60...</td>\n",
       "      <td>0</td>\n",
       "    </tr>\n",
       "  </tbody>\n",
       "</table>\n",
       "</div>"
      ],
      "text/plain": [
       "                                         raw_comment  label  \\\n",
       "0  Mình mua size L. Cổ tay siêu bé, như size S ấy...      0   \n",
       "1  Size S M L XL\\n\\nForm áo cực kì dễ mang, thiết...      1   \n",
       "2  Áo khá đẹp vừa với dáng giao hàng cực kì nhanh...      1   \n",
       "3  Đẹp rất hài lòng okokokokokokokokokokokokoko...      1   \n",
       "4  Đẹp, ôm dáng, mặc đẹp lắm mà form nhỏ. Mình 60...      1   \n",
       "\n",
       "                                       comment_lower  contain_adv  \n",
       "0  mình mua size l. cổ tay siêu bé, như size s ấy...            0  \n",
       "1  size s m l xl\\n\\nform áo cực kì dễ mang, thiết...            0  \n",
       "2  áo khá đẹp vừa với dáng giao hàng cực kì nhanh...            0  \n",
       "3  đẹp rất hài lòng okokokokokokokokokokokokoko...            0  \n",
       "4  đẹp, ôm dáng, mặc đẹp lắm mà form nhỏ. mình 60...            0  "
      ]
     },
     "metadata": {},
     "execution_count": 15
    }
   ],
   "metadata": {}
  },
  {
   "cell_type": "markdown",
   "source": [
    "> **Nhận xét**\n",
    "> * Các mẫu tìm năng chứa quảng cáo khá cao, lên đến hơn 3000 sample. Ta có thể xóa chúng."
   ],
   "metadata": {}
  },
  {
   "cell_type": "code",
   "execution_count": 16,
   "source": [
    "reviews = reviews[reviews['contain_adv'] == 0]\n",
    "reviews = reviews.drop(columns=['contain_adv']).reset_index(drop=True) # xóa cột `contain_adv`\n",
    "\n",
    "Processor.printAfterProcess(reviews)\n",
    "reviews.head()"
   ],
   "outputs": [
    {
     "output_type": "stream",
     "name": "stdout",
     "text": [
      "Shape: (274126, 3)\n",
      "1    266224\n",
      "0      7902\n",
      "Name: label, dtype: int64\n"
     ]
    },
    {
     "output_type": "execute_result",
     "data": {
      "text/html": [
       "<div>\n",
       "<style scoped>\n",
       "    .dataframe tbody tr th:only-of-type {\n",
       "        vertical-align: middle;\n",
       "    }\n",
       "\n",
       "    .dataframe tbody tr th {\n",
       "        vertical-align: top;\n",
       "    }\n",
       "\n",
       "    .dataframe thead th {\n",
       "        text-align: right;\n",
       "    }\n",
       "</style>\n",
       "<table border=\"1\" class=\"dataframe\">\n",
       "  <thead>\n",
       "    <tr style=\"text-align: right;\">\n",
       "      <th></th>\n",
       "      <th>raw_comment</th>\n",
       "      <th>label</th>\n",
       "      <th>comment_lower</th>\n",
       "    </tr>\n",
       "  </thead>\n",
       "  <tbody>\n",
       "    <tr>\n",
       "      <th>0</th>\n",
       "      <td>Mình mua size L. Cổ tay siêu bé, như size S ấy...</td>\n",
       "      <td>0</td>\n",
       "      <td>mình mua size l. cổ tay siêu bé, như size s ấy...</td>\n",
       "    </tr>\n",
       "    <tr>\n",
       "      <th>1</th>\n",
       "      <td>Size S M L XL\\n\\nForm áo cực kì dễ mang, thiết...</td>\n",
       "      <td>1</td>\n",
       "      <td>size s m l xl\\n\\nform áo cực kì dễ mang, thiết...</td>\n",
       "    </tr>\n",
       "    <tr>\n",
       "      <th>2</th>\n",
       "      <td>Áo khá đẹp vừa với dáng giao hàng cực kì nhanh...</td>\n",
       "      <td>1</td>\n",
       "      <td>áo khá đẹp vừa với dáng giao hàng cực kì nhanh...</td>\n",
       "    </tr>\n",
       "    <tr>\n",
       "      <th>3</th>\n",
       "      <td>Đẹp rất hài lòng okokokokokokokokokokokokoko...</td>\n",
       "      <td>1</td>\n",
       "      <td>đẹp rất hài lòng okokokokokokokokokokokokoko...</td>\n",
       "    </tr>\n",
       "    <tr>\n",
       "      <th>4</th>\n",
       "      <td>Đẹp, ôm dáng, mặc đẹp lắm mà form nhỏ. Mình 60...</td>\n",
       "      <td>1</td>\n",
       "      <td>đẹp, ôm dáng, mặc đẹp lắm mà form nhỏ. mình 60...</td>\n",
       "    </tr>\n",
       "  </tbody>\n",
       "</table>\n",
       "</div>"
      ],
      "text/plain": [
       "                                         raw_comment  label  \\\n",
       "0  Mình mua size L. Cổ tay siêu bé, như size S ấy...      0   \n",
       "1  Size S M L XL\\n\\nForm áo cực kì dễ mang, thiết...      1   \n",
       "2  Áo khá đẹp vừa với dáng giao hàng cực kì nhanh...      1   \n",
       "3  Đẹp rất hài lòng okokokokokokokokokokokokoko...      1   \n",
       "4  Đẹp, ôm dáng, mặc đẹp lắm mà form nhỏ. Mình 60...      1   \n",
       "\n",
       "                                       comment_lower  \n",
       "0  mình mua size l. cổ tay siêu bé, như size s ấy...  \n",
       "1  size s m l xl\\n\\nform áo cực kì dễ mang, thiết...  \n",
       "2  áo khá đẹp vừa với dáng giao hàng cực kì nhanh...  \n",
       "3  đẹp rất hài lòng okokokokokokokokokokokokoko...  \n",
       "4  đẹp, ôm dáng, mặc đẹp lắm mà form nhỏ. mình 60...  "
      ]
     },
     "metadata": {},
     "execution_count": 16
    }
   ],
   "metadata": {}
  },
  {
   "cell_type": "markdown",
   "source": [
    "> **Nhận xét**\n",
    "> * Lại một lần nữa các comment có khả năng cao là quảng cáo này lại đa phần là thuộc nhóm positive."
   ],
   "metadata": {}
  },
  {
   "cell_type": "markdown",
   "source": [
    "<hr>\n",
    "\n",
    "* Nhìn qua các comment, ta sẽ thấy có các comment chứa emoji như hình dưới đây:<br>\n",
    "  ![](./images/05.png)\n",
    "\n",
    "* Đây là \"vốn quý\" góp phần làm tăng sức mạnh cho model, nếu ta thực hiện bước loại bỏ các kí tự đặc biệt trước khi ta tách các emoji ra, thì ta đã vô tình xóa luôn các emoji này, vì các emoji thực chất được xây dựng dựa trên các kí tự đặc biệt.\n",
    "* Như hình trên, rõ ràng ta thấy được emoji góp phần ta hiểu được một comment là positive hay negative.\n",
    "* Ta sẽ sử dụng một gói của python là `emojis`:\n",
    "  ```shell\n",
    "  pip3 install emojis\n",
    "  ```\n",
    "  gói này sẽ giúp ta tách các emoji ra khỏi bình luận.\n",
    "* Ta sẽ chứa toàn bộ emoji của một comment qua cột tương ứng là `emoji`"
   ],
   "metadata": {}
  },
  {
   "cell_type": "code",
   "execution_count": 18,
   "source": [
    "reviews['emoji'] = reviews['raw_comment'].apply(lambda cmt: Processor.extractEmoji(cmt))\n",
    "\n",
    "reviews.head()"
   ],
   "outputs": [
    {
     "output_type": "execute_result",
     "data": {
      "text/html": [
       "<div>\n",
       "<style scoped>\n",
       "    .dataframe tbody tr th:only-of-type {\n",
       "        vertical-align: middle;\n",
       "    }\n",
       "\n",
       "    .dataframe tbody tr th {\n",
       "        vertical-align: top;\n",
       "    }\n",
       "\n",
       "    .dataframe thead th {\n",
       "        text-align: right;\n",
       "    }\n",
       "</style>\n",
       "<table border=\"1\" class=\"dataframe\">\n",
       "  <thead>\n",
       "    <tr style=\"text-align: right;\">\n",
       "      <th></th>\n",
       "      <th>raw_comment</th>\n",
       "      <th>label</th>\n",
       "      <th>comment_lower</th>\n",
       "      <th>emoji</th>\n",
       "    </tr>\n",
       "  </thead>\n",
       "  <tbody>\n",
       "    <tr>\n",
       "      <th>0</th>\n",
       "      <td>Mình mua size L. Cổ tay siêu bé, như size S ấy...</td>\n",
       "      <td>0</td>\n",
       "      <td>mình mua size l. cổ tay siêu bé, như size s ấy...</td>\n",
       "      <td></td>\n",
       "    </tr>\n",
       "    <tr>\n",
       "      <th>1</th>\n",
       "      <td>Size S M L XL\\n\\nForm áo cực kì dễ mang, thiết...</td>\n",
       "      <td>1</td>\n",
       "      <td>size s m l xl\\n\\nform áo cực kì dễ mang, thiết...</td>\n",
       "      <td></td>\n",
       "    </tr>\n",
       "    <tr>\n",
       "      <th>2</th>\n",
       "      <td>Áo khá đẹp vừa với dáng giao hàng cực kì nhanh...</td>\n",
       "      <td>1</td>\n",
       "      <td>áo khá đẹp vừa với dáng giao hàng cực kì nhanh...</td>\n",
       "      <td></td>\n",
       "    </tr>\n",
       "    <tr>\n",
       "      <th>3</th>\n",
       "      <td>Đẹp rất hài lòng okokokokokokokokokokokokoko...</td>\n",
       "      <td>1</td>\n",
       "      <td>đẹp rất hài lòng okokokokokokokokokokokokoko...</td>\n",
       "      <td></td>\n",
       "    </tr>\n",
       "    <tr>\n",
       "      <th>4</th>\n",
       "      <td>Đẹp, ôm dáng, mặc đẹp lắm mà form nhỏ. Mình 60...</td>\n",
       "      <td>1</td>\n",
       "      <td>đẹp, ôm dáng, mặc đẹp lắm mà form nhỏ. mình 60...</td>\n",
       "      <td></td>\n",
       "    </tr>\n",
       "  </tbody>\n",
       "</table>\n",
       "</div>"
      ],
      "text/plain": [
       "                                         raw_comment  label  \\\n",
       "0  Mình mua size L. Cổ tay siêu bé, như size S ấy...      0   \n",
       "1  Size S M L XL\\n\\nForm áo cực kì dễ mang, thiết...      1   \n",
       "2  Áo khá đẹp vừa với dáng giao hàng cực kì nhanh...      1   \n",
       "3  Đẹp rất hài lòng okokokokokokokokokokokokoko...      1   \n",
       "4  Đẹp, ôm dáng, mặc đẹp lắm mà form nhỏ. Mình 60...      1   \n",
       "\n",
       "                                       comment_lower emoji  \n",
       "0  mình mua size l. cổ tay siêu bé, như size s ấy...        \n",
       "1  size s m l xl\\n\\nform áo cực kì dễ mang, thiết...        \n",
       "2  áo khá đẹp vừa với dáng giao hàng cực kì nhanh...        \n",
       "3  đẹp rất hài lòng okokokokokokokokokokokokoko...        \n",
       "4  đẹp, ôm dáng, mặc đẹp lắm mà form nhỏ. mình 60...        "
      ]
     },
     "metadata": {},
     "execution_count": 18
    }
   ],
   "metadata": {}
  },
  {
   "cell_type": "code",
   "execution_count": 27,
   "source": [
    "\",\".join(reviews['emoji'])[:200]"
   ],
   "outputs": [
    {
     "output_type": "execute_result",
     "data": {
      "text/plain": [
       "',,,,,,,,,,,,,,,,💕,,,,🥰,,,,,✋,,,,,,,,,,,😘,,,,,,,,,👍,,,,,,🥰,,,,,😍,,,,,,,,👍,,,,,,🥰,,,,,,,,,,,,,,,👍,,,👍,,,,❤️,,,,,,,,,,,,,,,,,,,,,,,,,😑,,,,,,,\\U0001f972,,,,,,,,,,,,🥰 🤡 😘,,,,,,🐸 🌾,,,😂,,,🤬,,,,,,🥺 ♥️,,,,,,,,🙈,,,,,,,,'"
      ]
     },
     "metadata": {},
     "execution_count": 27
    }
   ],
   "metadata": {}
  },
  {
   "cell_type": "markdown",
   "source": [
    "<hr>\n",
    "\n",
    "* Tiếp theo, ta sẽ loại bỏ dấu câu, kí tự đặc biệt"
   ],
   "metadata": {}
  },
  {
   "cell_type": "markdown",
   "source": [],
   "metadata": {}
  }
 ],
 "metadata": {
  "orig_nbformat": 4,
  "language_info": {
   "name": "python",
   "version": "3.8.10",
   "mimetype": "text/x-python",
   "codemirror_mode": {
    "name": "ipython",
    "version": 3
   },
   "pygments_lexer": "ipython3",
   "nbconvert_exporter": "python",
   "file_extension": ".py"
  },
  "kernelspec": {
   "name": "python3",
   "display_name": "Python 3.8.10 64-bit"
  },
  "interpreter": {
   "hash": "916dbcbb3f70747c44a77c7bcd40155683ae19c65e1c03b4aa3499c5328201f1"
  }
 },
 "nbformat": 4,
 "nbformat_minor": 2
}