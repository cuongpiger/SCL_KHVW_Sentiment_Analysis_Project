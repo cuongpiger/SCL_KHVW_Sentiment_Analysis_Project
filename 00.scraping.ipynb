{
 "cells": [
  {
   "cell_type": "markdown",
   "source": [
    "* Giả sử ta cần crawl data từ nhóm **Thời Trang Nam**, ta có thể click vào nó:\n",
    "  ![](images/00.png)\n",
    "* Hãy chú ý vào các vùng khoanh đỏ trong hình dưới đây, ta thấy rằng trong URL có một thuộc tính là `page=0` và trong UI ta thấy nó đang là trang **1/100**. Vậy nếu ta thay giá trị `page` này từ **[0, 99]** thì ta có thể truy cập tương ứng vào các page từ **[1:100]**.\n",
    "  ![](images/01.png)\n",
    "* Hãy thử right-click vào mặt hàng đầu tiên và chọn **inspect**, ta có thể thấy được các sản phẩm này được nằm trong một HTML tag element là:\n",
    "  ```html\n",
    "  <div class=\"col-xs-2-4 shopee-search-item-result__item\" data-sqe=\"item\">\n",
    "      ...\n",
    "  </div>\n",
    "  ```"
   ],
   "metadata": {}
  },
  {
   "cell_type": "markdown",
   "source": [],
   "metadata": {}
  }
 ],
 "metadata": {
  "orig_nbformat": 4,
  "language_info": {
   "name": "python"
  }
 },
 "nbformat": 4,
 "nbformat_minor": 2
}