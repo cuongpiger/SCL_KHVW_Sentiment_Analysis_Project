{
 "cells": [
  {
   "cell_type": "code",
   "execution_count": 1,
   "source": [
    "%load_ext autoreload\n",
    "%autoreload 2"
   ],
   "outputs": [],
   "metadata": {}
  },
  {
   "cell_type": "code",
   "execution_count": 2,
   "source": [
    "import modules.eda as Detective\n",
    "import pandas as pd\n",
    "import warnings\n",
    "\n",
    "warnings.filterwarnings('ignore')"
   ],
   "outputs": [],
   "metadata": {}
  },
  {
   "cell_type": "markdown",
   "source": [
    "Đọc dữ liệu từ project 1 và sắp xếp lại các column"
   ],
   "metadata": {}
  },
  {
   "cell_type": "code",
   "execution_count": 3,
   "source": [
    "reviews = pd.read_csv(\"./data/normalize_reviews.csv\").fillna(\"\")\n",
    "reviews = reviews[['raw_comment', 'normalize_comment', 'emoji', 'label']]\n",
    "\n",
    "reviews.head()"
   ],
   "outputs": [
    {
     "output_type": "execute_result",
     "data": {
      "text/html": [
       "<div>\n",
       "<style scoped>\n",
       "    .dataframe tbody tr th:only-of-type {\n",
       "        vertical-align: middle;\n",
       "    }\n",
       "\n",
       "    .dataframe tbody tr th {\n",
       "        vertical-align: top;\n",
       "    }\n",
       "\n",
       "    .dataframe thead th {\n",
       "        text-align: right;\n",
       "    }\n",
       "</style>\n",
       "<table border=\"1\" class=\"dataframe\">\n",
       "  <thead>\n",
       "    <tr style=\"text-align: right;\">\n",
       "      <th></th>\n",
       "      <th>raw_comment</th>\n",
       "      <th>normalize_comment</th>\n",
       "      <th>emoji</th>\n",
       "      <th>label</th>\n",
       "    </tr>\n",
       "  </thead>\n",
       "  <tbody>\n",
       "    <tr>\n",
       "      <th>0</th>\n",
       "      <td>Giao hàng kh đúng cần phê bình hjjjjjhhd...</td>\n",
       "      <td>giao hàng không đúng cần phê bình</td>\n",
       "      <td></td>\n",
       "      <td>0</td>\n",
       "    </tr>\n",
       "    <tr>\n",
       "      <th>1</th>\n",
       "      <td>Chất lượng sản phẩm tạm được. Giao...</td>\n",
       "      <td>chất lượng sản phẩm tạm được giao ...</td>\n",
       "      <td></td>\n",
       "      <td>0</td>\n",
       "    </tr>\n",
       "    <tr>\n",
       "      <th>2</th>\n",
       "      <td>Ko có lắc tay như hình</td>\n",
       "      <td>không có lắc tay như hình</td>\n",
       "      <td></td>\n",
       "      <td>0</td>\n",
       "    </tr>\n",
       "    <tr>\n",
       "      <th>3</th>\n",
       "      <td>Giao hàng lâu. Bảo có lắc tay mà k thâ...</td>\n",
       "      <td>giao hàng lâu bảo có lắc tay mà không ...</td>\n",
       "      <td></td>\n",
       "      <td>0</td>\n",
       "    </tr>\n",
       "    <tr>\n",
       "      <th>4</th>\n",
       "      <td>Mình mua 2 cái, một dùng ok. Một cái k...</td>\n",
       "      <td>mua cái một dùng ok một cái không chạ...</td>\n",
       "      <td>😢</td>\n",
       "      <td>0</td>\n",
       "    </tr>\n",
       "  </tbody>\n",
       "</table>\n",
       "</div>"
      ],
      "text/plain": [
       "                                         raw_comment  \\\n",
       "0  Giao hàng kh đúng cần phê bình hjjjjjhhd...   \n",
       "1  Chất lượng sản phẩm tạm được. Giao...   \n",
       "2                        Ko có lắc tay như hình   \n",
       "3  Giao hàng lâu. Bảo có lắc tay mà k thâ...   \n",
       "4  Mình mua 2 cái, một dùng ok. Một cái k...   \n",
       "\n",
       "                                   normalize_comment emoji  label  \n",
       "0           giao hàng không đúng cần phê bình            0  \n",
       "1  chất lượng sản phẩm tạm được giao ...            0  \n",
       "2                    không có lắc tay như hình            0  \n",
       "3  giao hàng lâu bảo có lắc tay mà không ...            0  \n",
       "4  mua cái một dùng ok một cái không chạ...     😢      0  "
      ]
     },
     "metadata": {},
     "execution_count": 3
    }
   ],
   "metadata": {}
  },
  {
   "cell_type": "markdown",
   "source": [
    "Cho đến hiện tại, chúng ta đã cùng nhau phá tan tành dataset này, điều mà tôi muốn làm tiếp theo là sẽ biễu diễn các từ lên một không gian 2 chiều hoặc thậm chí là 3 chiều.\n",
    "\n",
    "Điều này theo tôi là rất hữu ích, vì giống như các unsupervised model, nhiều khi chúng ta cũng cần biết cách mà các observe phân phối như thế nào.\n",
    "\n",
    "Nhưng trước tiên, ta cần một số thiết lập **ban đầu** như sau:\n",
    "  * Tôi cần download vài file cấu hình sẵn:\n",
    "    ```shell\n",
    "    pip install fasttext\n",
    "    ```\n",
    "  * Thực chất, hai gói mà ta vừa download trên là chứa tập các từ tiếng anh và tiếng việt đã được vectorization thành các vector 300 dimentions, bạn đừng lo lắng về chất lượng của hai tập words embedding này bởi vì cha đẻ của nó là Facebook.\n",
    "  * Thời gian download hai gói này cực kì lâu, khoảng 4GB cho một gói - và về giải nén ra mỗi file sẽ khoảng 7.3GB, tôi khuyến khích bạn đừng nên download theo cách trên mà nên lên trang chủ của họ và download trực tiếp bằng Internet download manager hoặc Xtreme download manager sẽ nhanh hơn, khoảng 15 phút cho một gói - đây là trang chủ của họ:\n",
    "    [https://fasttext.cc/docs/en/crawl-vectors.html](https://fasttext.cc/docs/en/crawl-vectors.html)"
   ],
   "metadata": {}
  },
  {
   "cell_type": "code",
   "execution_count": 5,
   "source": [
    "import fasttext.util\n",
    "import fasttext\n",
    "\n",
    "fasttext.util.download_model('en', if_exists='ignore') # english\n",
    "fasttext.util.download_model('vi', if_exists='ignore') # vietnamese "
   ],
   "outputs": [
    {
     "output_type": "execute_result",
     "data": {
      "text/plain": [
       "'cc.vi.300.bin'"
      ]
     },
     "metadata": {},
     "execution_count": 5
    }
   ],
   "metadata": {}
  },
  {
   "cell_type": "markdown",
   "source": [
    "<span style=\"color: red; font-weight: 900; font-size: 30px\">Lưu ý:</span> \n",
    "* Bạn chỉ nên sài dòng này nếu máy tính của bạn là từ 16GB RAM - Core I7 gen 7 dòng xung cao trở lên. Và nên dùng hệ điều hành Linux vì nó có RAM ảo hỗ trợ bạn để máy bạn chỉ lag thôi chứ không đứng.\n",
    "  ```python\n",
    "  ft = fasttext.load_model('cc.vi.300.bin')\n",
    "  ```\n",
    "\n",
    "* Còn đây là tôi đã giảm chiều từ một bộ data 7.2GB xuống còn 100 chiều, bạn có thể dùng dòng này, bạn có thể giảm nhiều hơn nếu muốn. Và tốt nhất là bạn cần tắt tất cả mọi chương trình nên đang chạy nếu bạn không muốn nghe máy tính của bạn \"hát ca điên cuồng\".\n",
    "  ```python\n",
    "  fasttext.util.reduce_model(ft, 100)\n",
    "  ft.save_model('cc.vi.100.bin')\n",
    "  ```"
   ],
   "metadata": {}
  },
  {
   "cell_type": "markdown",
   "source": [
    "Bây giờ chúng ta sẽ load lại tập embed word 100 dims mà ta vừa tạo, nó sẽ ăn máy của bạn khoảng 3GB RAM."
   ],
   "metadata": {}
  },
  {
   "cell_type": "code",
   "execution_count": 9,
   "source": [
    "ft = fasttext.load_model('cc.vi.100.bin')"
   ],
   "outputs": [
    {
     "output_type": "stream",
     "name": "stderr",
     "text": [
      "Warning : `load_model` does not return WordVectorModel or SupervisedModel any more, but a `FastText` object which is very similar.\n"
     ]
    }
   ],
   "metadata": {}
  },
  {
   "cell_type": "markdown",
   "source": [
    "Dưới đây là vector 100 dims của từ \"xin chào\".\n",
    "\n",
    "Thực chất fasttext là một công cụ hỗ trợ cực kì tốt mà tôi biết đến nó thông qua một tài tweet tren Twitter. Hãy tin tưởng mà sử dụng nó, nó sẽ giúp cho cái bài toán NLP của bạn \"đỡ khổ\" hơn nhiều."
   ],
   "metadata": {}
  },
  {
   "cell_type": "code",
   "execution_count": 10,
   "source": [
    "ft.get_word_vector('xin chào')"
   ],
   "outputs": [
    {
     "output_type": "execute_result",
     "data": {
      "text/plain": [
       "array([-0.005858  ,  0.00591698,  0.05544396,  0.01845348,  0.03497462,\n",
       "       -0.01731673, -0.0186325 , -0.05789406, -0.01456467,  0.05405328,\n",
       "        0.0162955 ,  0.02371605, -0.02689386,  0.0168477 , -0.02608746,\n",
       "       -0.00542725, -0.01952248,  0.02309453,  0.00077463, -0.01623438,\n",
       "       -0.02708885, -0.02166499,  0.01338364, -0.00763521, -0.01389443,\n",
       "       -0.00743966, -0.04979044, -0.02639596,  0.01744116, -0.02117856,\n",
       "        0.00118052,  0.00367191, -0.00203112,  0.01383345,  0.01485165,\n",
       "       -0.00397428,  0.02199381,  0.02537224, -0.00114648, -0.01440865,\n",
       "       -0.01821862,  0.01354136,  0.00441786, -0.01989009,  0.00784927,\n",
       "       -0.00614514,  0.01168528,  0.02575686,  0.01241738, -0.00843297,\n",
       "        0.02774723,  0.00453759,  0.00838433,  0.01327751, -0.01783348,\n",
       "        0.01831022, -0.01594335, -0.00435727,  0.00035578, -0.07555512,\n",
       "        0.01310887, -0.04912862,  0.01182956,  0.03159093,  0.04497012,\n",
       "        0.02143607,  0.00049193, -0.00196764,  0.00246742,  0.01363291,\n",
       "       -0.02314509, -0.00219922, -0.02380401, -0.01026245, -0.01819856,\n",
       "        0.0151787 ,  0.01194715, -0.00761893, -0.01721501,  0.01119621,\n",
       "        0.02290164, -0.01710619, -0.02078362,  0.0228194 ,  0.00750548,\n",
       "        0.00201767,  0.06676898, -0.00448752,  0.01720995,  0.00851261,\n",
       "       -0.02720573,  0.01439547,  0.02121913, -0.01952045, -0.01194024,\n",
       "       -0.01461318,  0.00467993, -0.00556966, -0.01434838, -0.0315196 ],\n",
       "      dtype=float32)"
      ]
     },
     "metadata": {},
     "execution_count": 10
    }
   ],
   "metadata": {}
  },
  {
   "cell_type": "code",
   "execution_count": null,
   "source": [],
   "outputs": [],
   "metadata": {}
  }
 ],
 "metadata": {
  "orig_nbformat": 4,
  "language_info": {
   "name": "python",
   "version": "3.8.10",
   "mimetype": "text/x-python",
   "codemirror_mode": {
    "name": "ipython",
    "version": 3
   },
   "pygments_lexer": "ipython3",
   "nbconvert_exporter": "python",
   "file_extension": ".py"
  },
  "kernelspec": {
   "name": "python3",
   "display_name": "Python 3.8.10 64-bit"
  },
  "interpreter": {
   "hash": "916dbcbb3f70747c44a77c7bcd40155683ae19c65e1c03b4aa3499c5328201f1"
  }
 },
 "nbformat": 4,
 "nbformat_minor": 2
}