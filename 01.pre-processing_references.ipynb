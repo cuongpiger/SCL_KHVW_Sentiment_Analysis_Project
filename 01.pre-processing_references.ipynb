{
 "cells": [
  {
   "cell_type": "markdown",
   "source": [
    "# 1.6 - 1.7. Mô tả và đánh giá dữ liệu & Tiền xử lí dữ liệu"
   ],
   "metadata": {}
  },
  {
   "cell_type": "markdown",
   "source": [
    "* Load toàn bộ review vào một dataframe duy nhất."
   ],
   "metadata": {}
  },
  {
   "cell_type": "code",
   "execution_count": 1,
   "source": [
    "%load_ext autoreload\n",
    "%autoreload 2"
   ],
   "outputs": [],
   "metadata": {}
  },
  {
   "cell_type": "code",
   "execution_count": 2,
   "source": [
    "import modules.utils as Utils\n",
    "import modules.processor as Processor\n",
    "import numpy as np\n",
    "import pandas as pd\n",
    "import enchant\n",
    "import random\n",
    "\n",
    "from sklearn.utils import shuffle"
   ],
   "outputs": [],
   "metadata": {}
  },
  {
   "cell_type": "code",
   "execution_count": 3,
   "source": [
    "# Lấy tất cả các directory path của các lần ta tiến hành crawl data\n",
    "dir_paths = Utils.getAllFolderPath(\"./data/product_reviews/\")\n",
    "\n",
    "dir_paths"
   ],
   "outputs": [
    {
     "output_type": "execute_result",
     "data": {
      "text/plain": [
       "['./data/product_reviews/product_reviews_01/',\n",
       " './data/product_reviews/product_reviews_02/',\n",
       " './data/product_reviews/product_reviews_03/',\n",
       " './data/product_reviews/product_reviews_00/']"
      ]
     },
     "metadata": {},
     "execution_count": 3
    }
   ],
   "metadata": {}
  },
  {
   "cell_type": "code",
   "execution_count": 4,
   "source": [
    "# Đọc toàn bộ các review từ các file csv\n",
    "reviews = Utils.readReviews(dir_paths)"
   ],
   "outputs": [],
   "metadata": {}
  },
  {
   "cell_type": "code",
   "execution_count": 5,
   "source": [
    "reviews.head()"
   ],
   "outputs": [
    {
     "output_type": "execute_result",
     "data": {
      "text/html": [
       "<div>\n",
       "<style scoped>\n",
       "    .dataframe tbody tr th:only-of-type {\n",
       "        vertical-align: middle;\n",
       "    }\n",
       "\n",
       "    .dataframe tbody tr th {\n",
       "        vertical-align: top;\n",
       "    }\n",
       "\n",
       "    .dataframe thead th {\n",
       "        text-align: right;\n",
       "    }\n",
       "</style>\n",
       "<table border=\"1\" class=\"dataframe\">\n",
       "  <thead>\n",
       "    <tr style=\"text-align: right;\">\n",
       "      <th></th>\n",
       "      <th>raw_comment</th>\n",
       "      <th>rating</th>\n",
       "    </tr>\n",
       "  </thead>\n",
       "  <tbody>\n",
       "    <tr>\n",
       "      <th>0</th>\n",
       "      <td>Mình mua size L. Cổ tay siêu bé, như size S ấy...</td>\n",
       "      <td>1</td>\n",
       "    </tr>\n",
       "    <tr>\n",
       "      <th>1</th>\n",
       "      <td>Size S M L XL\\n\\nForm áo cực kì dễ mang, thiết...</td>\n",
       "      <td>5</td>\n",
       "    </tr>\n",
       "    <tr>\n",
       "      <th>2</th>\n",
       "      <td>Áo khá đẹp vừa với dáng giao hàng cực kì nhanh...</td>\n",
       "      <td>5</td>\n",
       "    </tr>\n",
       "    <tr>\n",
       "      <th>3</th>\n",
       "      <td>Đẹp rất hài lòng okokokokokokokokokokokokoko...</td>\n",
       "      <td>5</td>\n",
       "    </tr>\n",
       "    <tr>\n",
       "      <th>4</th>\n",
       "      <td>Đẹp, ôm dáng, mặc đẹp lắm mà form nhỏ. Mình 60...</td>\n",
       "      <td>5</td>\n",
       "    </tr>\n",
       "  </tbody>\n",
       "</table>\n",
       "</div>"
      ],
      "text/plain": [
       "                                         raw_comment rating\n",
       "0  Mình mua size L. Cổ tay siêu bé, như size S ấy...      1\n",
       "1  Size S M L XL\\n\\nForm áo cực kì dễ mang, thiết...      5\n",
       "2  Áo khá đẹp vừa với dáng giao hàng cực kì nhanh...      5\n",
       "3  Đẹp rất hài lòng okokokokokokokokokokokokoko...      5\n",
       "4  Đẹp, ôm dáng, mặc đẹp lắm mà form nhỏ. Mình 60...      5"
      ]
     },
     "metadata": {},
     "execution_count": 5
    }
   ],
   "metadata": {}
  },
  {
   "cell_type": "code",
   "execution_count": 6,
   "source": [
    "print(\"Tập dữ liệu có {} bình luận.\".format(reviews.shape[0]))"
   ],
   "outputs": [
    {
     "output_type": "stream",
     "name": "stdout",
     "text": [
      "Tập dữ liệu có 278159 bình luận.\n"
     ]
    }
   ],
   "metadata": {}
  },
  {
   "cell_type": "markdown",
   "source": [
    "* Đếm tần số xuất hiện của từng rating."
   ],
   "metadata": {}
  },
  {
   "cell_type": "code",
   "execution_count": 7,
   "source": [
    "reviews['rating'].value_counts()"
   ],
   "outputs": [
    {
     "output_type": "execute_result",
     "data": {
      "text/plain": [
       "5    260555\n",
       "4      9646\n",
       "3      4194\n",
       "1      2308\n",
       "2      1456\n",
       "Name: rating, dtype: int64"
      ]
     },
     "metadata": {},
     "execution_count": 7
    }
   ],
   "metadata": {}
  },
  {
   "cell_type": "markdown",
   "source": [
    "> **Nhận xét**:\n",
    "> * Nhìn chung tuy ta crawl được hơn 200,000 quan sát nhưng có sự chênh lệch lớn giữa các rating.\n",
    "> * Nhìn qua ta thấy đa phần là các rating được đánh giá 5 sao, điều này cũng dễ hiểu vì hệ thống recommend của Shopee sẽ ưu tiên gợi ý cho khách hàng những sản phẩm có đánh giá tốt. Và sẽ hạn chế hoặc thậm chí là ko gợi ý các mặc hàng bị đánh giá kém. Nên với địa vị là người đi trộm dữ liệu như chúng ta thì ko có cách nào khắc phục điều này.\n",
    "> * Bây giờ, do ta cần chi ra hai lớp là negative và positive nên những comment mà `rating` $\\geq 4$ sẽ được cho vào nhóm positive, ngược lại là nhóm negative. "
   ],
   "metadata": {}
  },
  {
   "cell_type": "markdown",
   "source": [
    "* Tiến hành label cho `reviews` với các giá `rating` $< 4$ sẽ thuộc nhóm negative còn lại là nhóm positive."
   ],
   "metadata": {}
  },
  {
   "cell_type": "code",
   "execution_count": 8,
   "source": [
    "reviews = Utils.labelRating(reviews)"
   ],
   "outputs": [],
   "metadata": {}
  },
  {
   "cell_type": "code",
   "execution_count": 9,
   "source": [
    "reviews.head()"
   ],
   "outputs": [
    {
     "output_type": "execute_result",
     "data": {
      "text/html": [
       "<div>\n",
       "<style scoped>\n",
       "    .dataframe tbody tr th:only-of-type {\n",
       "        vertical-align: middle;\n",
       "    }\n",
       "\n",
       "    .dataframe tbody tr th {\n",
       "        vertical-align: top;\n",
       "    }\n",
       "\n",
       "    .dataframe thead th {\n",
       "        text-align: right;\n",
       "    }\n",
       "</style>\n",
       "<table border=\"1\" class=\"dataframe\">\n",
       "  <thead>\n",
       "    <tr style=\"text-align: right;\">\n",
       "      <th></th>\n",
       "      <th>raw_comment</th>\n",
       "      <th>rating</th>\n",
       "      <th>label</th>\n",
       "    </tr>\n",
       "  </thead>\n",
       "  <tbody>\n",
       "    <tr>\n",
       "      <th>0</th>\n",
       "      <td>Mình mua size L. Cổ tay siêu bé, như size S ấy...</td>\n",
       "      <td>1</td>\n",
       "      <td>0</td>\n",
       "    </tr>\n",
       "    <tr>\n",
       "      <th>1</th>\n",
       "      <td>Size S M L XL\\n\\nForm áo cực kì dễ mang, thiết...</td>\n",
       "      <td>5</td>\n",
       "      <td>1</td>\n",
       "    </tr>\n",
       "    <tr>\n",
       "      <th>2</th>\n",
       "      <td>Áo khá đẹp vừa với dáng giao hàng cực kì nhanh...</td>\n",
       "      <td>5</td>\n",
       "      <td>1</td>\n",
       "    </tr>\n",
       "    <tr>\n",
       "      <th>3</th>\n",
       "      <td>Đẹp rất hài lòng okokokokokokokokokokokokoko...</td>\n",
       "      <td>5</td>\n",
       "      <td>1</td>\n",
       "    </tr>\n",
       "    <tr>\n",
       "      <th>4</th>\n",
       "      <td>Đẹp, ôm dáng, mặc đẹp lắm mà form nhỏ. Mình 60...</td>\n",
       "      <td>5</td>\n",
       "      <td>1</td>\n",
       "    </tr>\n",
       "  </tbody>\n",
       "</table>\n",
       "</div>"
      ],
      "text/plain": [
       "                                         raw_comment rating  label\n",
       "0  Mình mua size L. Cổ tay siêu bé, như size S ấy...      1      0\n",
       "1  Size S M L XL\\n\\nForm áo cực kì dễ mang, thiết...      5      1\n",
       "2  Áo khá đẹp vừa với dáng giao hàng cực kì nhanh...      5      1\n",
       "3  Đẹp rất hài lòng okokokokokokokokokokokokoko...      5      1\n",
       "4  Đẹp, ôm dáng, mặc đẹp lắm mà form nhỏ. Mình 60...      5      1"
      ]
     },
     "metadata": {},
     "execution_count": 9
    }
   ],
   "metadata": {}
  },
  {
   "cell_type": "markdown",
   "source": [
    "* Bây giờ ta sẽ xóa đi feature `rating` vì về sau ta sẽ ko cần dúng đến nó nữa, và tiến hành đếm số lượng quan sát của từng nhóm trên `label`"
   ],
   "metadata": {}
  },
  {
   "cell_type": "code",
   "execution_count": 10,
   "source": [
    "reviews = reviews.drop(columns=['rating'])\n",
    "\n",
    "Processor.printAfterProcess(reviews)\n",
    "reviews.head()"
   ],
   "outputs": [
    {
     "output_type": "stream",
     "name": "stdout",
     "text": [
      "Shape: (278159, 2)\n",
      "1    270201\n",
      "0      7958\n",
      "Name: label, dtype: int64\n"
     ]
    },
    {
     "output_type": "execute_result",
     "data": {
      "text/html": [
       "<div>\n",
       "<style scoped>\n",
       "    .dataframe tbody tr th:only-of-type {\n",
       "        vertical-align: middle;\n",
       "    }\n",
       "\n",
       "    .dataframe tbody tr th {\n",
       "        vertical-align: top;\n",
       "    }\n",
       "\n",
       "    .dataframe thead th {\n",
       "        text-align: right;\n",
       "    }\n",
       "</style>\n",
       "<table border=\"1\" class=\"dataframe\">\n",
       "  <thead>\n",
       "    <tr style=\"text-align: right;\">\n",
       "      <th></th>\n",
       "      <th>raw_comment</th>\n",
       "      <th>label</th>\n",
       "    </tr>\n",
       "  </thead>\n",
       "  <tbody>\n",
       "    <tr>\n",
       "      <th>0</th>\n",
       "      <td>Mình mua size L. Cổ tay siêu bé, như size S ấy...</td>\n",
       "      <td>0</td>\n",
       "    </tr>\n",
       "    <tr>\n",
       "      <th>1</th>\n",
       "      <td>Size S M L XL\\n\\nForm áo cực kì dễ mang, thiết...</td>\n",
       "      <td>1</td>\n",
       "    </tr>\n",
       "    <tr>\n",
       "      <th>2</th>\n",
       "      <td>Áo khá đẹp vừa với dáng giao hàng cực kì nhanh...</td>\n",
       "      <td>1</td>\n",
       "    </tr>\n",
       "    <tr>\n",
       "      <th>3</th>\n",
       "      <td>Đẹp rất hài lòng okokokokokokokokokokokokoko...</td>\n",
       "      <td>1</td>\n",
       "    </tr>\n",
       "    <tr>\n",
       "      <th>4</th>\n",
       "      <td>Đẹp, ôm dáng, mặc đẹp lắm mà form nhỏ. Mình 60...</td>\n",
       "      <td>1</td>\n",
       "    </tr>\n",
       "  </tbody>\n",
       "</table>\n",
       "</div>"
      ],
      "text/plain": [
       "                                         raw_comment  label\n",
       "0  Mình mua size L. Cổ tay siêu bé, như size S ấy...      0\n",
       "1  Size S M L XL\\n\\nForm áo cực kì dễ mang, thiết...      1\n",
       "2  Áo khá đẹp vừa với dáng giao hàng cực kì nhanh...      1\n",
       "3  Đẹp rất hài lòng okokokokokokokokokokokokoko...      1\n",
       "4  Đẹp, ôm dáng, mặc đẹp lắm mà form nhỏ. Mình 60...      1"
      ]
     },
     "metadata": {},
     "execution_count": 10
    }
   ],
   "metadata": {}
  },
  {
   "cell_type": "markdown",
   "source": [
    "<hr>\n",
    "\n",
    "* Một trong những vấn đề đầu tiên và tối quan trong khi xử lí với dữ liệu văn bản là kiểm tra xem liệu text `a` có cùng cách biểu diễn với text `b` hay không.\n",
    "* Một ví dụ dễ hiểu là giả sử ta có biến `a = 'đẹp'` và biến `b = 'đep'`, nhưng khi ta compare hai biến này `a == b` thì kết quả sẽ ra False, nguyên nhân là do chúng sử dụng mã hóa unicode khác nhau, có thể `a` dùng unicode-8 và `b` dùng unicode-16.\n",
    "* Vậy điều đầu tiên ta cần làm là phải đưa tất cả các text về cùng một **chuẩn** duy nhất, ta có thể làm điều này bằng cách sử dụng `unicodedata.normalize()` từ package chuẩn `unicodedata` của Python. _(tham khảo thêm tại đây [https://www.kite.com/python/docs/unicodedata.normalize](https://www.kite.com/python/docs/unicodedata.normalize))_\n",
    "* Dưới đây là ví dụ cho trường hợp này:"
   ],
   "metadata": {}
  },
  {
   "cell_type": "code",
   "execution_count": 11,
   "source": [
    "import unicodedata\n",
    "\n",
    "a = 'đẹp, rất hài lòng'\n",
    "b = 'đẹp, rất hài lòng'\n",
    "\n",
    "a == b"
   ],
   "outputs": [
    {
     "output_type": "execute_result",
     "data": {
      "text/plain": [
       "False"
      ]
     },
     "metadata": {},
     "execution_count": 11
    }
   ],
   "metadata": {}
  },
  {
   "cell_type": "code",
   "execution_count": 12,
   "source": [
    "''' Sử dụng chuẩn NFD '''\n",
    "a = unicodedata.normalize('NFD', a)\n",
    "b = unicodedata.normalize('NFD', b)\n",
    "\n",
    "print(\"String a: {}, Type a: {}\".format(a, type(a)))\n",
    "print(\"String b: {}, Type b: {}\".format(b, type(b)))"
   ],
   "outputs": [
    {
     "output_type": "stream",
     "name": "stdout",
     "text": [
      "String a: đẹp, rất hài lòng, Type a: <class 'str'>\n",
      "String b: đẹp, rất hài lòng, Type b: <class 'str'>\n"
     ]
    }
   ],
   "metadata": {}
  },
  {
   "cell_type": "code",
   "execution_count": 13,
   "source": [
    "a == b"
   ],
   "outputs": [
    {
     "output_type": "execute_result",
     "data": {
      "text/plain": [
       "True"
      ]
     },
     "metadata": {},
     "execution_count": 13
    }
   ],
   "metadata": {}
  },
  {
   "cell_type": "markdown",
   "source": [
    "* Bây giờ, ta sẽ tạo một feature có tên là `normalize_comment`, trải qua 2 bước:\n",
    "  * `lower()` cho text.\n",
    "  * Chuẩn hóa bằng `unicodedata.normalize()`"
   ],
   "metadata": {}
  },
  {
   "cell_type": "code",
   "execution_count": 14,
   "source": [
    "reviews['normalize_comment'] = reviews['raw_comment'].apply(lambda cmt: Processor.normalizeComment(cmt))\n",
    "\n",
    "reviews.head()"
   ],
   "outputs": [
    {
     "output_type": "execute_result",
     "data": {
      "text/html": [
       "<div>\n",
       "<style scoped>\n",
       "    .dataframe tbody tr th:only-of-type {\n",
       "        vertical-align: middle;\n",
       "    }\n",
       "\n",
       "    .dataframe tbody tr th {\n",
       "        vertical-align: top;\n",
       "    }\n",
       "\n",
       "    .dataframe thead th {\n",
       "        text-align: right;\n",
       "    }\n",
       "</style>\n",
       "<table border=\"1\" class=\"dataframe\">\n",
       "  <thead>\n",
       "    <tr style=\"text-align: right;\">\n",
       "      <th></th>\n",
       "      <th>raw_comment</th>\n",
       "      <th>label</th>\n",
       "      <th>normalize_comment</th>\n",
       "    </tr>\n",
       "  </thead>\n",
       "  <tbody>\n",
       "    <tr>\n",
       "      <th>0</th>\n",
       "      <td>Mình mua size L. Cổ tay siêu bé, như size S ấy...</td>\n",
       "      <td>0</td>\n",
       "      <td>mình mua size l. cổ tay siêu bé, như siz...</td>\n",
       "    </tr>\n",
       "    <tr>\n",
       "      <th>1</th>\n",
       "      <td>Size S M L XL\\n\\nForm áo cực kì dễ mang, thiết...</td>\n",
       "      <td>1</td>\n",
       "      <td>size s m l xl\\n\\nform áo cực kì dễ mang,...</td>\n",
       "    </tr>\n",
       "    <tr>\n",
       "      <th>2</th>\n",
       "      <td>Áo khá đẹp vừa với dáng giao hàng cực kì nhanh...</td>\n",
       "      <td>1</td>\n",
       "      <td>áo khá đẹp vừa với dáng giao hàng cư...</td>\n",
       "    </tr>\n",
       "    <tr>\n",
       "      <th>3</th>\n",
       "      <td>Đẹp rất hài lòng okokokokokokokokokokokokoko...</td>\n",
       "      <td>1</td>\n",
       "      <td>đẹp rất hài lòng okokokokokokokokokokokok...</td>\n",
       "    </tr>\n",
       "    <tr>\n",
       "      <th>4</th>\n",
       "      <td>Đẹp, ôm dáng, mặc đẹp lắm mà form nhỏ. Mình 60...</td>\n",
       "      <td>1</td>\n",
       "      <td>đẹp, ôm dáng, mặc đẹp lắm mà form nho...</td>\n",
       "    </tr>\n",
       "  </tbody>\n",
       "</table>\n",
       "</div>"
      ],
      "text/plain": [
       "                                         raw_comment  label  \\\n",
       "0  Mình mua size L. Cổ tay siêu bé, như size S ấy...      0   \n",
       "1  Size S M L XL\\n\\nForm áo cực kì dễ mang, thiết...      1   \n",
       "2  Áo khá đẹp vừa với dáng giao hàng cực kì nhanh...      1   \n",
       "3  Đẹp rất hài lòng okokokokokokokokokokokokoko...      1   \n",
       "4  Đẹp, ôm dáng, mặc đẹp lắm mà form nhỏ. Mình 60...      1   \n",
       "\n",
       "                                   normalize_comment  \n",
       "0  mình mua size l. cổ tay siêu bé, như siz...  \n",
       "1  size s m l xl\\n\\nform áo cực kì dễ mang,...  \n",
       "2  áo khá đẹp vừa với dáng giao hàng cư...  \n",
       "3  đẹp rất hài lòng okokokokokokokokokokokok...  \n",
       "4  đẹp, ôm dáng, mặc đẹp lắm mà form nho...  "
      ]
     },
     "metadata": {},
     "execution_count": 14
    }
   ],
   "metadata": {}
  },
  {
   "cell_type": "markdown",
   "source": [
    "* Ta cũng sẽ chuẩn hóa cho cột `raw_comment` nhưng không `lower()` chúng."
   ],
   "metadata": {}
  },
  {
   "cell_type": "code",
   "execution_count": 15,
   "source": [
    "reviews['raw_comment'] = reviews['raw_comment'].apply(lambda cmt: Processor.normalizeComment(cmt, False))\n",
    "\n",
    "reviews.head()"
   ],
   "outputs": [
    {
     "output_type": "execute_result",
     "data": {
      "text/html": [
       "<div>\n",
       "<style scoped>\n",
       "    .dataframe tbody tr th:only-of-type {\n",
       "        vertical-align: middle;\n",
       "    }\n",
       "\n",
       "    .dataframe tbody tr th {\n",
       "        vertical-align: top;\n",
       "    }\n",
       "\n",
       "    .dataframe thead th {\n",
       "        text-align: right;\n",
       "    }\n",
       "</style>\n",
       "<table border=\"1\" class=\"dataframe\">\n",
       "  <thead>\n",
       "    <tr style=\"text-align: right;\">\n",
       "      <th></th>\n",
       "      <th>raw_comment</th>\n",
       "      <th>label</th>\n",
       "      <th>normalize_comment</th>\n",
       "    </tr>\n",
       "  </thead>\n",
       "  <tbody>\n",
       "    <tr>\n",
       "      <th>0</th>\n",
       "      <td>Mình mua size L. Cổ tay siêu bé, như siz...</td>\n",
       "      <td>0</td>\n",
       "      <td>mình mua size l. cổ tay siêu bé, như siz...</td>\n",
       "    </tr>\n",
       "    <tr>\n",
       "      <th>1</th>\n",
       "      <td>Size S M L XL\\n\\nForm áo cực kì dễ mang,...</td>\n",
       "      <td>1</td>\n",
       "      <td>size s m l xl\\n\\nform áo cực kì dễ mang,...</td>\n",
       "    </tr>\n",
       "    <tr>\n",
       "      <th>2</th>\n",
       "      <td>Áo khá đẹp vừa với dáng giao hàng cư...</td>\n",
       "      <td>1</td>\n",
       "      <td>áo khá đẹp vừa với dáng giao hàng cư...</td>\n",
       "    </tr>\n",
       "    <tr>\n",
       "      <th>3</th>\n",
       "      <td>Đẹp rất hài lòng okokokokokokokokokokokok...</td>\n",
       "      <td>1</td>\n",
       "      <td>đẹp rất hài lòng okokokokokokokokokokokok...</td>\n",
       "    </tr>\n",
       "    <tr>\n",
       "      <th>4</th>\n",
       "      <td>Đẹp, ôm dáng, mặc đẹp lắm mà form nho...</td>\n",
       "      <td>1</td>\n",
       "      <td>đẹp, ôm dáng, mặc đẹp lắm mà form nho...</td>\n",
       "    </tr>\n",
       "  </tbody>\n",
       "</table>\n",
       "</div>"
      ],
      "text/plain": [
       "                                         raw_comment  label  \\\n",
       "0  Mình mua size L. Cổ tay siêu bé, như siz...      0   \n",
       "1  Size S M L XL\\n\\nForm áo cực kì dễ mang,...      1   \n",
       "2  Áo khá đẹp vừa với dáng giao hàng cư...      1   \n",
       "3  Đẹp rất hài lòng okokokokokokokokokokokok...      1   \n",
       "4  Đẹp, ôm dáng, mặc đẹp lắm mà form nho...      1   \n",
       "\n",
       "                                   normalize_comment  \n",
       "0  mình mua size l. cổ tay siêu bé, như siz...  \n",
       "1  size s m l xl\\n\\nform áo cực kì dễ mang,...  \n",
       "2  áo khá đẹp vừa với dáng giao hàng cư...  \n",
       "3  đẹp rất hài lòng okokokokokokokokokokokok...  \n",
       "4  đẹp, ôm dáng, mặc đẹp lắm mà form nho...  "
      ]
     },
     "metadata": {},
     "execution_count": 15
    }
   ],
   "metadata": {}
  },
  {
   "cell_type": "markdown",
   "source": [
    "<hr>\n",
    "\n",
    "* Chúng ta biết rằng, các comment của các sản phẩm đôi khi sẽ chứa các URL do người bán hàng chèn vào để giúp khách hàng có thể click vào để xem các mặt hàng khác, chúng là các noise sample mà ta cần phải loại bỏ khỏi dataset của chúng ta.\n",
    "* Hình dưới đây là kết quả cho ra khi ta thử search cụm từ `http` thì nó cho ra hơn 600 mẫu dữ liệu chứa URL. Ta cần loại bỏ các mẫu này.<br>\n",
    "  ![](./images/04.png)"
   ],
   "metadata": {}
  },
  {
   "cell_type": "code",
   "execution_count": 16,
   "source": [
    "reviews['contain_url'] = reviews['normalize_comment'].apply(lambda cmt: Processor.containsURL(cmt))\n",
    "\n",
    "Processor.printAfterProcess(reviews, 'contain_url')\n",
    "reviews.head()"
   ],
   "outputs": [
    {
     "output_type": "stream",
     "name": "stdout",
     "text": [
      "Shape: (278159, 4)\n",
      "0    277589\n",
      "1       570\n",
      "Name: contain_url, dtype: int64\n"
     ]
    },
    {
     "output_type": "execute_result",
     "data": {
      "text/html": [
       "<div>\n",
       "<style scoped>\n",
       "    .dataframe tbody tr th:only-of-type {\n",
       "        vertical-align: middle;\n",
       "    }\n",
       "\n",
       "    .dataframe tbody tr th {\n",
       "        vertical-align: top;\n",
       "    }\n",
       "\n",
       "    .dataframe thead th {\n",
       "        text-align: right;\n",
       "    }\n",
       "</style>\n",
       "<table border=\"1\" class=\"dataframe\">\n",
       "  <thead>\n",
       "    <tr style=\"text-align: right;\">\n",
       "      <th></th>\n",
       "      <th>raw_comment</th>\n",
       "      <th>label</th>\n",
       "      <th>normalize_comment</th>\n",
       "      <th>contain_url</th>\n",
       "    </tr>\n",
       "  </thead>\n",
       "  <tbody>\n",
       "    <tr>\n",
       "      <th>0</th>\n",
       "      <td>Mình mua size L. Cổ tay siêu bé, như siz...</td>\n",
       "      <td>0</td>\n",
       "      <td>mình mua size l. cổ tay siêu bé, như siz...</td>\n",
       "      <td>0</td>\n",
       "    </tr>\n",
       "    <tr>\n",
       "      <th>1</th>\n",
       "      <td>Size S M L XL\\n\\nForm áo cực kì dễ mang,...</td>\n",
       "      <td>1</td>\n",
       "      <td>size s m l xl\\n\\nform áo cực kì dễ mang,...</td>\n",
       "      <td>0</td>\n",
       "    </tr>\n",
       "    <tr>\n",
       "      <th>2</th>\n",
       "      <td>Áo khá đẹp vừa với dáng giao hàng cư...</td>\n",
       "      <td>1</td>\n",
       "      <td>áo khá đẹp vừa với dáng giao hàng cư...</td>\n",
       "      <td>0</td>\n",
       "    </tr>\n",
       "    <tr>\n",
       "      <th>3</th>\n",
       "      <td>Đẹp rất hài lòng okokokokokokokokokokokok...</td>\n",
       "      <td>1</td>\n",
       "      <td>đẹp rất hài lòng okokokokokokokokokokokok...</td>\n",
       "      <td>0</td>\n",
       "    </tr>\n",
       "    <tr>\n",
       "      <th>4</th>\n",
       "      <td>Đẹp, ôm dáng, mặc đẹp lắm mà form nho...</td>\n",
       "      <td>1</td>\n",
       "      <td>đẹp, ôm dáng, mặc đẹp lắm mà form nho...</td>\n",
       "      <td>0</td>\n",
       "    </tr>\n",
       "  </tbody>\n",
       "</table>\n",
       "</div>"
      ],
      "text/plain": [
       "                                         raw_comment  label  \\\n",
       "0  Mình mua size L. Cổ tay siêu bé, như siz...      0   \n",
       "1  Size S M L XL\\n\\nForm áo cực kì dễ mang,...      1   \n",
       "2  Áo khá đẹp vừa với dáng giao hàng cư...      1   \n",
       "3  Đẹp rất hài lòng okokokokokokokokokokokok...      1   \n",
       "4  Đẹp, ôm dáng, mặc đẹp lắm mà form nho...      1   \n",
       "\n",
       "                                   normalize_comment  contain_url  \n",
       "0  mình mua size l. cổ tay siêu bé, như siz...            0  \n",
       "1  size s m l xl\\n\\nform áo cực kì dễ mang,...            0  \n",
       "2  áo khá đẹp vừa với dáng giao hàng cư...            0  \n",
       "3  đẹp rất hài lòng okokokokokokokokokokokok...            0  \n",
       "4  đẹp, ôm dáng, mặc đẹp lắm mà form nho...            0  "
      ]
     },
     "metadata": {},
     "execution_count": 16
    }
   ],
   "metadata": {}
  },
  {
   "cell_type": "markdown",
   "source": [
    "* Bây giờ chúng ta chỉ sẽ lấy các comment mà không chứa URL"
   ],
   "metadata": {}
  },
  {
   "cell_type": "code",
   "execution_count": 17,
   "source": [
    "reviews = reviews[reviews['contain_url'] == 0]\n",
    "reviews = reviews.drop(columns=['contain_url']).reset_index(drop=True) # xóa cột `contain_url`\n",
    "\n",
    "Processor.printAfterProcess(reviews)\n",
    "reviews.head()"
   ],
   "outputs": [
    {
     "output_type": "stream",
     "name": "stdout",
     "text": [
      "Shape: (277589, 3)\n",
      "1    269633\n",
      "0      7956\n",
      "Name: label, dtype: int64\n"
     ]
    },
    {
     "output_type": "execute_result",
     "data": {
      "text/html": [
       "<div>\n",
       "<style scoped>\n",
       "    .dataframe tbody tr th:only-of-type {\n",
       "        vertical-align: middle;\n",
       "    }\n",
       "\n",
       "    .dataframe tbody tr th {\n",
       "        vertical-align: top;\n",
       "    }\n",
       "\n",
       "    .dataframe thead th {\n",
       "        text-align: right;\n",
       "    }\n",
       "</style>\n",
       "<table border=\"1\" class=\"dataframe\">\n",
       "  <thead>\n",
       "    <tr style=\"text-align: right;\">\n",
       "      <th></th>\n",
       "      <th>raw_comment</th>\n",
       "      <th>label</th>\n",
       "      <th>normalize_comment</th>\n",
       "    </tr>\n",
       "  </thead>\n",
       "  <tbody>\n",
       "    <tr>\n",
       "      <th>0</th>\n",
       "      <td>Mình mua size L. Cổ tay siêu bé, như siz...</td>\n",
       "      <td>0</td>\n",
       "      <td>mình mua size l. cổ tay siêu bé, như siz...</td>\n",
       "    </tr>\n",
       "    <tr>\n",
       "      <th>1</th>\n",
       "      <td>Size S M L XL\\n\\nForm áo cực kì dễ mang,...</td>\n",
       "      <td>1</td>\n",
       "      <td>size s m l xl\\n\\nform áo cực kì dễ mang,...</td>\n",
       "    </tr>\n",
       "    <tr>\n",
       "      <th>2</th>\n",
       "      <td>Áo khá đẹp vừa với dáng giao hàng cư...</td>\n",
       "      <td>1</td>\n",
       "      <td>áo khá đẹp vừa với dáng giao hàng cư...</td>\n",
       "    </tr>\n",
       "    <tr>\n",
       "      <th>3</th>\n",
       "      <td>Đẹp rất hài lòng okokokokokokokokokokokok...</td>\n",
       "      <td>1</td>\n",
       "      <td>đẹp rất hài lòng okokokokokokokokokokokok...</td>\n",
       "    </tr>\n",
       "    <tr>\n",
       "      <th>4</th>\n",
       "      <td>Đẹp, ôm dáng, mặc đẹp lắm mà form nho...</td>\n",
       "      <td>1</td>\n",
       "      <td>đẹp, ôm dáng, mặc đẹp lắm mà form nho...</td>\n",
       "    </tr>\n",
       "  </tbody>\n",
       "</table>\n",
       "</div>"
      ],
      "text/plain": [
       "                                         raw_comment  label  \\\n",
       "0  Mình mua size L. Cổ tay siêu bé, như siz...      0   \n",
       "1  Size S M L XL\\n\\nForm áo cực kì dễ mang,...      1   \n",
       "2  Áo khá đẹp vừa với dáng giao hàng cư...      1   \n",
       "3  Đẹp rất hài lòng okokokokokokokokokokokok...      1   \n",
       "4  Đẹp, ôm dáng, mặc đẹp lắm mà form nho...      1   \n",
       "\n",
       "                                   normalize_comment  \n",
       "0  mình mua size l. cổ tay siêu bé, như siz...  \n",
       "1  size s m l xl\\n\\nform áo cực kì dễ mang,...  \n",
       "2  áo khá đẹp vừa với dáng giao hàng cư...  \n",
       "3  đẹp rất hài lòng okokokokokokokokokokokok...  \n",
       "4  đẹp, ôm dáng, mặc đẹp lắm mà form nho...  "
      ]
     },
     "metadata": {},
     "execution_count": 17
    }
   ],
   "metadata": {}
  },
  {
   "cell_type": "markdown",
   "source": [
    "> **Nhận xét**\n",
    "> * Đa phần là các bình luận thuộc nhóm positive sẽ chứa các URL, cũng dễ hiểu vì họ quảng cáo mà 😅."
   ],
   "metadata": {}
  },
  {
   "cell_type": "markdown",
   "source": [
    "<hr>\n",
    "\n",
    "* Tiếp theo, ta cũng cần xóa các comment mà chữ IN HOA chiếm quá 50% độ dài comment, các comment này khả năng cao cũng là quảng cáo, vì người bán họ muốn làm nổi bật bình luận này lên so với các bình luận còn lại."
   ],
   "metadata": {}
  },
  {
   "cell_type": "code",
   "execution_count": 18,
   "source": [
    "reviews['contain_adv'] = reviews['raw_comment'].apply(lambda cmt: Processor.containAdvertisement(cmt))\n",
    "\n",
    "Processor.printAfterProcess(reviews, 'contain_adv')\n",
    "reviews.head()"
   ],
   "outputs": [
    {
     "output_type": "stream",
     "name": "stdout",
     "text": [
      "Shape: (277589, 4)\n",
      "0    270936\n",
      "1      6653\n",
      "Name: contain_adv, dtype: int64\n"
     ]
    },
    {
     "output_type": "execute_result",
     "data": {
      "text/html": [
       "<div>\n",
       "<style scoped>\n",
       "    .dataframe tbody tr th:only-of-type {\n",
       "        vertical-align: middle;\n",
       "    }\n",
       "\n",
       "    .dataframe tbody tr th {\n",
       "        vertical-align: top;\n",
       "    }\n",
       "\n",
       "    .dataframe thead th {\n",
       "        text-align: right;\n",
       "    }\n",
       "</style>\n",
       "<table border=\"1\" class=\"dataframe\">\n",
       "  <thead>\n",
       "    <tr style=\"text-align: right;\">\n",
       "      <th></th>\n",
       "      <th>raw_comment</th>\n",
       "      <th>label</th>\n",
       "      <th>normalize_comment</th>\n",
       "      <th>contain_adv</th>\n",
       "    </tr>\n",
       "  </thead>\n",
       "  <tbody>\n",
       "    <tr>\n",
       "      <th>0</th>\n",
       "      <td>Mình mua size L. Cổ tay siêu bé, như siz...</td>\n",
       "      <td>0</td>\n",
       "      <td>mình mua size l. cổ tay siêu bé, như siz...</td>\n",
       "      <td>0</td>\n",
       "    </tr>\n",
       "    <tr>\n",
       "      <th>1</th>\n",
       "      <td>Size S M L XL\\n\\nForm áo cực kì dễ mang,...</td>\n",
       "      <td>1</td>\n",
       "      <td>size s m l xl\\n\\nform áo cực kì dễ mang,...</td>\n",
       "      <td>0</td>\n",
       "    </tr>\n",
       "    <tr>\n",
       "      <th>2</th>\n",
       "      <td>Áo khá đẹp vừa với dáng giao hàng cư...</td>\n",
       "      <td>1</td>\n",
       "      <td>áo khá đẹp vừa với dáng giao hàng cư...</td>\n",
       "      <td>0</td>\n",
       "    </tr>\n",
       "    <tr>\n",
       "      <th>3</th>\n",
       "      <td>Đẹp rất hài lòng okokokokokokokokokokokok...</td>\n",
       "      <td>1</td>\n",
       "      <td>đẹp rất hài lòng okokokokokokokokokokokok...</td>\n",
       "      <td>0</td>\n",
       "    </tr>\n",
       "    <tr>\n",
       "      <th>4</th>\n",
       "      <td>Đẹp, ôm dáng, mặc đẹp lắm mà form nho...</td>\n",
       "      <td>1</td>\n",
       "      <td>đẹp, ôm dáng, mặc đẹp lắm mà form nho...</td>\n",
       "      <td>0</td>\n",
       "    </tr>\n",
       "  </tbody>\n",
       "</table>\n",
       "</div>"
      ],
      "text/plain": [
       "                                         raw_comment  label  \\\n",
       "0  Mình mua size L. Cổ tay siêu bé, như siz...      0   \n",
       "1  Size S M L XL\\n\\nForm áo cực kì dễ mang,...      1   \n",
       "2  Áo khá đẹp vừa với dáng giao hàng cư...      1   \n",
       "3  Đẹp rất hài lòng okokokokokokokokokokokok...      1   \n",
       "4  Đẹp, ôm dáng, mặc đẹp lắm mà form nho...      1   \n",
       "\n",
       "                                   normalize_comment  contain_adv  \n",
       "0  mình mua size l. cổ tay siêu bé, như siz...            0  \n",
       "1  size s m l xl\\n\\nform áo cực kì dễ mang,...            0  \n",
       "2  áo khá đẹp vừa với dáng giao hàng cư...            0  \n",
       "3  đẹp rất hài lòng okokokokokokokokokokokok...            0  \n",
       "4  đẹp, ôm dáng, mặc đẹp lắm mà form nho...            0  "
      ]
     },
     "metadata": {},
     "execution_count": 18
    }
   ],
   "metadata": {}
  },
  {
   "cell_type": "markdown",
   "source": [
    "> **Nhận xét**\n",
    "> * Các mẫu tìm năng chứa quảng cáo khá cao, lên đến hơn 3000 sample. Ta có thể xóa chúng."
   ],
   "metadata": {}
  },
  {
   "cell_type": "code",
   "execution_count": 19,
   "source": [
    "reviews = reviews[reviews['contain_adv'] == 0]\n",
    "reviews = reviews.drop(columns=['contain_adv']).reset_index(drop=True) # xóa cột `contain_adv`\n",
    "\n",
    "Processor.printAfterProcess(reviews)\n",
    "reviews.head()"
   ],
   "outputs": [
    {
     "output_type": "stream",
     "name": "stdout",
     "text": [
      "Shape: (270936, 3)\n",
      "1    263084\n",
      "0      7852\n",
      "Name: label, dtype: int64\n"
     ]
    },
    {
     "output_type": "execute_result",
     "data": {
      "text/html": [
       "<div>\n",
       "<style scoped>\n",
       "    .dataframe tbody tr th:only-of-type {\n",
       "        vertical-align: middle;\n",
       "    }\n",
       "\n",
       "    .dataframe tbody tr th {\n",
       "        vertical-align: top;\n",
       "    }\n",
       "\n",
       "    .dataframe thead th {\n",
       "        text-align: right;\n",
       "    }\n",
       "</style>\n",
       "<table border=\"1\" class=\"dataframe\">\n",
       "  <thead>\n",
       "    <tr style=\"text-align: right;\">\n",
       "      <th></th>\n",
       "      <th>raw_comment</th>\n",
       "      <th>label</th>\n",
       "      <th>normalize_comment</th>\n",
       "    </tr>\n",
       "  </thead>\n",
       "  <tbody>\n",
       "    <tr>\n",
       "      <th>0</th>\n",
       "      <td>Mình mua size L. Cổ tay siêu bé, như siz...</td>\n",
       "      <td>0</td>\n",
       "      <td>mình mua size l. cổ tay siêu bé, như siz...</td>\n",
       "    </tr>\n",
       "    <tr>\n",
       "      <th>1</th>\n",
       "      <td>Size S M L XL\\n\\nForm áo cực kì dễ mang,...</td>\n",
       "      <td>1</td>\n",
       "      <td>size s m l xl\\n\\nform áo cực kì dễ mang,...</td>\n",
       "    </tr>\n",
       "    <tr>\n",
       "      <th>2</th>\n",
       "      <td>Áo khá đẹp vừa với dáng giao hàng cư...</td>\n",
       "      <td>1</td>\n",
       "      <td>áo khá đẹp vừa với dáng giao hàng cư...</td>\n",
       "    </tr>\n",
       "    <tr>\n",
       "      <th>3</th>\n",
       "      <td>Đẹp rất hài lòng okokokokokokokokokokokok...</td>\n",
       "      <td>1</td>\n",
       "      <td>đẹp rất hài lòng okokokokokokokokokokokok...</td>\n",
       "    </tr>\n",
       "    <tr>\n",
       "      <th>4</th>\n",
       "      <td>Đẹp, ôm dáng, mặc đẹp lắm mà form nho...</td>\n",
       "      <td>1</td>\n",
       "      <td>đẹp, ôm dáng, mặc đẹp lắm mà form nho...</td>\n",
       "    </tr>\n",
       "  </tbody>\n",
       "</table>\n",
       "</div>"
      ],
      "text/plain": [
       "                                         raw_comment  label  \\\n",
       "0  Mình mua size L. Cổ tay siêu bé, như siz...      0   \n",
       "1  Size S M L XL\\n\\nForm áo cực kì dễ mang,...      1   \n",
       "2  Áo khá đẹp vừa với dáng giao hàng cư...      1   \n",
       "3  Đẹp rất hài lòng okokokokokokokokokokokok...      1   \n",
       "4  Đẹp, ôm dáng, mặc đẹp lắm mà form nho...      1   \n",
       "\n",
       "                                   normalize_comment  \n",
       "0  mình mua size l. cổ tay siêu bé, như siz...  \n",
       "1  size s m l xl\\n\\nform áo cực kì dễ mang,...  \n",
       "2  áo khá đẹp vừa với dáng giao hàng cư...  \n",
       "3  đẹp rất hài lòng okokokokokokokokokokokok...  \n",
       "4  đẹp, ôm dáng, mặc đẹp lắm mà form nho...  "
      ]
     },
     "metadata": {},
     "execution_count": 19
    }
   ],
   "metadata": {}
  },
  {
   "cell_type": "markdown",
   "source": [
    "> **Nhận xét**\n",
    "> * Lại một lần nữa các comment có khả năng cao là quảng cáo này lại đa phần là thuộc nhóm positive."
   ],
   "metadata": {}
  },
  {
   "cell_type": "markdown",
   "source": [
    "<hr>\n",
    "\n",
    "* Nhìn qua các comment, ta sẽ thấy có các comment chứa emoji như hình dưới đây:<br>\n",
    "  ![](./images/05.png)\n",
    "\n",
    "* Đây là \"vốn quý\" góp phần làm tăng sức mạnh cho model, nếu ta thực hiện bước loại bỏ các kí tự đặc biệt trước khi ta tách các emoji ra, thì ta đã vô tình xóa luôn các emoji này, vì các emoji thực chất được xây dựng dựa trên các kí tự đặc biệt.\n",
    "* Như hình trên, rõ ràng ta thấy được emoji góp phần ta hiểu được một comment là positive hay negative.\n",
    "* Ta sẽ sử dụng một gói của python là `emojis`:\n",
    "  ```shell\n",
    "  pip3 install emojis\n",
    "  ```\n",
    "  gói này sẽ giúp ta tách các emoji ra khỏi bình luận.\n",
    "* Ta sẽ chứa toàn bộ emoji của một comment qua cột tương ứng là `emoji`"
   ],
   "metadata": {}
  },
  {
   "cell_type": "code",
   "execution_count": 20,
   "source": [
    "reviews['emoji'] = reviews['raw_comment'].apply(lambda cmt: Processor.extractEmoji(cmt))\n",
    "\n",
    "reviews.head()"
   ],
   "outputs": [
    {
     "output_type": "execute_result",
     "data": {
      "text/html": [
       "<div>\n",
       "<style scoped>\n",
       "    .dataframe tbody tr th:only-of-type {\n",
       "        vertical-align: middle;\n",
       "    }\n",
       "\n",
       "    .dataframe tbody tr th {\n",
       "        vertical-align: top;\n",
       "    }\n",
       "\n",
       "    .dataframe thead th {\n",
       "        text-align: right;\n",
       "    }\n",
       "</style>\n",
       "<table border=\"1\" class=\"dataframe\">\n",
       "  <thead>\n",
       "    <tr style=\"text-align: right;\">\n",
       "      <th></th>\n",
       "      <th>raw_comment</th>\n",
       "      <th>label</th>\n",
       "      <th>normalize_comment</th>\n",
       "      <th>emoji</th>\n",
       "    </tr>\n",
       "  </thead>\n",
       "  <tbody>\n",
       "    <tr>\n",
       "      <th>0</th>\n",
       "      <td>Mình mua size L. Cổ tay siêu bé, như siz...</td>\n",
       "      <td>0</td>\n",
       "      <td>mình mua size l. cổ tay siêu bé, như siz...</td>\n",
       "      <td></td>\n",
       "    </tr>\n",
       "    <tr>\n",
       "      <th>1</th>\n",
       "      <td>Size S M L XL\\n\\nForm áo cực kì dễ mang,...</td>\n",
       "      <td>1</td>\n",
       "      <td>size s m l xl\\n\\nform áo cực kì dễ mang,...</td>\n",
       "      <td></td>\n",
       "    </tr>\n",
       "    <tr>\n",
       "      <th>2</th>\n",
       "      <td>Áo khá đẹp vừa với dáng giao hàng cư...</td>\n",
       "      <td>1</td>\n",
       "      <td>áo khá đẹp vừa với dáng giao hàng cư...</td>\n",
       "      <td></td>\n",
       "    </tr>\n",
       "    <tr>\n",
       "      <th>3</th>\n",
       "      <td>Đẹp rất hài lòng okokokokokokokokokokokok...</td>\n",
       "      <td>1</td>\n",
       "      <td>đẹp rất hài lòng okokokokokokokokokokokok...</td>\n",
       "      <td></td>\n",
       "    </tr>\n",
       "    <tr>\n",
       "      <th>4</th>\n",
       "      <td>Đẹp, ôm dáng, mặc đẹp lắm mà form nho...</td>\n",
       "      <td>1</td>\n",
       "      <td>đẹp, ôm dáng, mặc đẹp lắm mà form nho...</td>\n",
       "      <td></td>\n",
       "    </tr>\n",
       "  </tbody>\n",
       "</table>\n",
       "</div>"
      ],
      "text/plain": [
       "                                         raw_comment  label  \\\n",
       "0  Mình mua size L. Cổ tay siêu bé, như siz...      0   \n",
       "1  Size S M L XL\\n\\nForm áo cực kì dễ mang,...      1   \n",
       "2  Áo khá đẹp vừa với dáng giao hàng cư...      1   \n",
       "3  Đẹp rất hài lòng okokokokokokokokokokokok...      1   \n",
       "4  Đẹp, ôm dáng, mặc đẹp lắm mà form nho...      1   \n",
       "\n",
       "                                   normalize_comment emoji  \n",
       "0  mình mua size l. cổ tay siêu bé, như siz...        \n",
       "1  size s m l xl\\n\\nform áo cực kì dễ mang,...        \n",
       "2  áo khá đẹp vừa với dáng giao hàng cư...        \n",
       "3  đẹp rất hài lòng okokokokokokokokokokokok...        \n",
       "4  đẹp, ôm dáng, mặc đẹp lắm mà form nho...        "
      ]
     },
     "metadata": {},
     "execution_count": 20
    }
   ],
   "metadata": {}
  },
  {
   "cell_type": "code",
   "execution_count": 21,
   "source": [
    "\",\".join(reviews['emoji'])[:200]"
   ],
   "outputs": [
    {
     "output_type": "execute_result",
     "data": {
      "text/plain": [
       "',,,,,,,,,,,,,,,,💕,,,,🥰,,,,,✋,,,,,,,,,,,😘,,,,,,,,👍,,,,,,🥰,,,,,😍,,,,,,,,👍,,,,,,🥰,,,,,,,,,,,,,,,👍,,,👍,,,,❤️,,,,,,,,,,,,,,,,,,,,,,,,,😑,,,,,,,\\U0001f972,,,,,,,,,,,,🥰 🤡 😘,,,,,,🐸 🌾,,,😂,,,🤬,,,,,,🥺 ♥️,,,,,,,,🙈,,,,,,,,,'"
      ]
     },
     "metadata": {},
     "execution_count": 21
    }
   ],
   "metadata": {}
  },
  {
   "cell_type": "markdown",
   "source": [
    "<hr>\n",
    "\n",
    "* Tiếp theo, ta sẽ loại bỏ dấu câu, kí tự đặc biệt"
   ],
   "metadata": {}
  },
  {
   "cell_type": "code",
   "execution_count": 22,
   "source": [
    "reviews['normalize_comment'] = reviews['normalize_comment'].apply(lambda cmt: Processor.removeSpecialLetters(cmt.lower()))\n",
    "\n",
    "reviews.head()"
   ],
   "outputs": [
    {
     "output_type": "execute_result",
     "data": {
      "text/html": [
       "<div>\n",
       "<style scoped>\n",
       "    .dataframe tbody tr th:only-of-type {\n",
       "        vertical-align: middle;\n",
       "    }\n",
       "\n",
       "    .dataframe tbody tr th {\n",
       "        vertical-align: top;\n",
       "    }\n",
       "\n",
       "    .dataframe thead th {\n",
       "        text-align: right;\n",
       "    }\n",
       "</style>\n",
       "<table border=\"1\" class=\"dataframe\">\n",
       "  <thead>\n",
       "    <tr style=\"text-align: right;\">\n",
       "      <th></th>\n",
       "      <th>raw_comment</th>\n",
       "      <th>label</th>\n",
       "      <th>normalize_comment</th>\n",
       "      <th>emoji</th>\n",
       "    </tr>\n",
       "  </thead>\n",
       "  <tbody>\n",
       "    <tr>\n",
       "      <th>0</th>\n",
       "      <td>Mình mua size L. Cổ tay siêu bé, như siz...</td>\n",
       "      <td>0</td>\n",
       "      <td>mình mua size l cổ tay siêu bé như size ...</td>\n",
       "      <td></td>\n",
       "    </tr>\n",
       "    <tr>\n",
       "      <th>1</th>\n",
       "      <td>Size S M L XL\\n\\nForm áo cực kì dễ mang,...</td>\n",
       "      <td>1</td>\n",
       "      <td>size s m l xl form áo cực kì dễ mang thi...</td>\n",
       "      <td></td>\n",
       "    </tr>\n",
       "    <tr>\n",
       "      <th>2</th>\n",
       "      <td>Áo khá đẹp vừa với dáng giao hàng cư...</td>\n",
       "      <td>1</td>\n",
       "      <td>áo khá đẹp vừa với dáng giao hàng cư...</td>\n",
       "      <td></td>\n",
       "    </tr>\n",
       "    <tr>\n",
       "      <th>3</th>\n",
       "      <td>Đẹp rất hài lòng okokokokokokokokokokokok...</td>\n",
       "      <td>1</td>\n",
       "      <td>đẹp rất hài lòng okokokokokokokokokokokok...</td>\n",
       "      <td></td>\n",
       "    </tr>\n",
       "    <tr>\n",
       "      <th>4</th>\n",
       "      <td>Đẹp, ôm dáng, mặc đẹp lắm mà form nho...</td>\n",
       "      <td>1</td>\n",
       "      <td>đẹp ôm dáng mặc đẹp lắm mà form nhỏ ...</td>\n",
       "      <td></td>\n",
       "    </tr>\n",
       "  </tbody>\n",
       "</table>\n",
       "</div>"
      ],
      "text/plain": [
       "                                         raw_comment  label  \\\n",
       "0  Mình mua size L. Cổ tay siêu bé, như siz...      0   \n",
       "1  Size S M L XL\\n\\nForm áo cực kì dễ mang,...      1   \n",
       "2  Áo khá đẹp vừa với dáng giao hàng cư...      1   \n",
       "3  Đẹp rất hài lòng okokokokokokokokokokokok...      1   \n",
       "4  Đẹp, ôm dáng, mặc đẹp lắm mà form nho...      1   \n",
       "\n",
       "                                   normalize_comment emoji  \n",
       "0  mình mua size l cổ tay siêu bé như size ...        \n",
       "1  size s m l xl form áo cực kì dễ mang thi...        \n",
       "2  áo khá đẹp vừa với dáng giao hàng cư...        \n",
       "3  đẹp rất hài lòng okokokokokokokokokokokok...        \n",
       "4  đẹp ôm dáng mặc đẹp lắm mà form nhỏ ...        "
      ]
     },
     "metadata": {},
     "execution_count": 22
    }
   ],
   "metadata": {}
  },
  {
   "cell_type": "markdown",
   "source": [
    "<hr>\n",
    "\n",
    "* Tiếp theo, ta cần chuẩn lại các từ bị dupplicate như: _chờiiiiiii ơiiiiiii, xinhhhhhhh quá, đẹp xỉuuuuuuuuuuuu_ thành _chời ơi, xinh quá, đẹp xỉu_.\n",
    "* Tuy nhiên có một vấn đề xảy ra, giả sử trong comment có các từ tiếng anh như \"_feedback_\", thì nó sẽ thành \"_fedback_\", nên ta sẽ thực hiện bước này ở phần sau:\n",
    "\n",
    "```python\n",
    "reviews['normalize_comment'] = reviews['normalize_comment'].apply(lambda cmt: Processor.removeDuplicateLetters(cmt))\n",
    "\n",
    "```"
   ],
   "metadata": {}
  },
  {
   "cell_type": "markdown",
   "source": [
    "<hr>\n",
    "\n",
    "* Tiếp theo, chúng ta sẽ chuẩn lại một vài từ viết tắt cơ bản.\n",
    "* File `modules/dependencies/abbreviate.txt` chứa các từ viết tắt cơ bản mà giới trẻ hay dùng comment, ta có thể bổ sung theo thời gian."
   ],
   "metadata": {}
  },
  {
   "cell_type": "code",
   "execution_count": 23,
   "source": [
    "# xây dựng dictionary cho các từ viết tắt\n",
    "abbreviate = Utils.buildDictionaryFromFile(\"./modules/dependencies/abbreviate.txt\")\n",
    "\n",
    "# test\n",
    "abbreviate['okela']"
   ],
   "outputs": [
    {
     "output_type": "execute_result",
     "data": {
      "text/plain": [
       "'ok'"
      ]
     },
     "metadata": {},
     "execution_count": 23
    }
   ],
   "metadata": {}
  },
  {
   "cell_type": "code",
   "execution_count": 24,
   "source": [
    "reviews['normalize_comment'] = reviews['normalize_comment'].apply(lambda cmt: Processor.replaceWithDictionary(cmt, abbreviate))\n",
    "\n",
    "reviews.head()"
   ],
   "outputs": [
    {
     "output_type": "execute_result",
     "data": {
      "text/html": [
       "<div>\n",
       "<style scoped>\n",
       "    .dataframe tbody tr th:only-of-type {\n",
       "        vertical-align: middle;\n",
       "    }\n",
       "\n",
       "    .dataframe tbody tr th {\n",
       "        vertical-align: top;\n",
       "    }\n",
       "\n",
       "    .dataframe thead th {\n",
       "        text-align: right;\n",
       "    }\n",
       "</style>\n",
       "<table border=\"1\" class=\"dataframe\">\n",
       "  <thead>\n",
       "    <tr style=\"text-align: right;\">\n",
       "      <th></th>\n",
       "      <th>raw_comment</th>\n",
       "      <th>label</th>\n",
       "      <th>normalize_comment</th>\n",
       "      <th>emoji</th>\n",
       "    </tr>\n",
       "  </thead>\n",
       "  <tbody>\n",
       "    <tr>\n",
       "      <th>0</th>\n",
       "      <td>Mình mua size L. Cổ tay siêu bé, như siz...</td>\n",
       "      <td>0</td>\n",
       "      <td>mình mua size l cổ tay siêu bé như size ...</td>\n",
       "      <td></td>\n",
       "    </tr>\n",
       "    <tr>\n",
       "      <th>1</th>\n",
       "      <td>Size S M L XL\\n\\nForm áo cực kì dễ mang,...</td>\n",
       "      <td>1</td>\n",
       "      <td>size s mình l xl form áo cực kì dễ mang...</td>\n",
       "      <td></td>\n",
       "    </tr>\n",
       "    <tr>\n",
       "      <th>2</th>\n",
       "      <td>Áo khá đẹp vừa với dáng giao hàng cư...</td>\n",
       "      <td>1</td>\n",
       "      <td>áo khá đẹp vừa với dáng giao hàng cư...</td>\n",
       "      <td></td>\n",
       "    </tr>\n",
       "    <tr>\n",
       "      <th>3</th>\n",
       "      <td>Đẹp rất hài lòng okokokokokokokokokokokok...</td>\n",
       "      <td>1</td>\n",
       "      <td>đẹp rất hài lòng okokokokokokokokokokokok...</td>\n",
       "      <td></td>\n",
       "    </tr>\n",
       "    <tr>\n",
       "      <th>4</th>\n",
       "      <td>Đẹp, ôm dáng, mặc đẹp lắm mà form nho...</td>\n",
       "      <td>1</td>\n",
       "      <td>đẹp ôm dáng mặc đẹp lắm mà form nhỏ ...</td>\n",
       "      <td></td>\n",
       "    </tr>\n",
       "  </tbody>\n",
       "</table>\n",
       "</div>"
      ],
      "text/plain": [
       "                                         raw_comment  label  \\\n",
       "0  Mình mua size L. Cổ tay siêu bé, như siz...      0   \n",
       "1  Size S M L XL\\n\\nForm áo cực kì dễ mang,...      1   \n",
       "2  Áo khá đẹp vừa với dáng giao hàng cư...      1   \n",
       "3  Đẹp rất hài lòng okokokokokokokokokokokok...      1   \n",
       "4  Đẹp, ôm dáng, mặc đẹp lắm mà form nho...      1   \n",
       "\n",
       "                                   normalize_comment emoji  \n",
       "0  mình mua size l cổ tay siêu bé như size ...        \n",
       "1  size s mình l xl form áo cực kì dễ mang...        \n",
       "2  áo khá đẹp vừa với dáng giao hàng cư...        \n",
       "3  đẹp rất hài lòng okokokokokokokokokokokok...        \n",
       "4  đẹp ôm dáng mặc đẹp lắm mà form nhỏ ...        "
      ]
     },
     "metadata": {},
     "execution_count": 24
    }
   ],
   "metadata": {}
  },
  {
   "cell_type": "markdown",
   "source": [
    "<hr>\n",
    "\n",
    "* Bây giờ ta sẽ tiến hành xóa các từ vô nghĩa trong comment, ví dụ như hình dưới đây:<br>\n",
    "  ![](./images/06.png)\n",
    "  những bình luận này mặc dù thuộc lớp positive nhưng nó là các noise sample, có thể các comment này dùng để comment cho có để nhận shopee xu khi đánh giá sản phẩm.\n",
    "* Kế tiếp, ta nên xóa các sample mà khả năng cao ko là tiếng việt, vì sao ta làm bước này, đơn giản thôi đây là shopee việt nam, và các comment cố ý bằng tiếng anh, tiếng hàn, tiếng trung của các \"thánh làm màu\" sẽ là các noise sample khiến model ta bị giảm hiệu năng.\n",
    "* Nhưng làm sao ta có thể thực hiện điều này, cách đơn giản nhất là ta có thể sử dụng các package như `textblob`, `googletrans`,... các package này chứa các function giúp ta detect language cho text, tuy nhiên hạn chế là chúng chỉ cho tối đa khoảng 200 request một ngày thôi, và số mẫu của chúng ta hiện tại là quá lớn. Ở đây ta có file `modules/dependencies/vocabulary.txt` chứa hơn 17000 từ đơn phổ biến của tiếng việt.\n",
    "* Vậy cách đơn giản hơn là ta có thể xây dựng một dictionary chứa các từ đơn của tiếng việt, với mỗi comment, nếu số lượng từ ko tìm thấy trong dictionary này lớn hơn số từ được tìm thấy trong dictionary thì khả năng cao đây là một comment làm màu.\n",
    "* Tuy nhiên, vẫn có một vài từ tiếng anh mà ta cần giữ lại như shipper, ta sẽ sử dụng package `enchant` để check một từ có phải là từ tiếng anh hay không.\n",
    "  ```shell\n",
    "  pip3 install pyenchant\n",
    "  ```\n",
    "* Ở các bước phía trên, ta đã đề cập đến việc xóa các từ bị dupplicate kí tự, ta sẽ thực hiện nó ở trong bước này."
   ],
   "metadata": {}
  },
  {
   "cell_type": "code",
   "execution_count": 25,
   "source": [
    "# hơn 17 ngàn từ đơn trong tiêng việt\n",
    "vocabularies = Utils.buildDictionaryFromFile('./modules/dependencies/vocabulary.txt', True)\n",
    "english_voca = enchant.Dict('en_US') # english if a word is english"
   ],
   "outputs": [],
   "metadata": {}
  },
  {
   "cell_type": "code",
   "execution_count": 26,
   "source": [
    "reviews['normalize_comment'] = reviews['normalize_comment'].apply(lambda cmt: Processor.removeNoiseWord(cmt, vocabularies, english_voca))\n",
    "\n",
    "reviews.head()"
   ],
   "outputs": [
    {
     "output_type": "execute_result",
     "data": {
      "text/html": [
       "<div>\n",
       "<style scoped>\n",
       "    .dataframe tbody tr th:only-of-type {\n",
       "        vertical-align: middle;\n",
       "    }\n",
       "\n",
       "    .dataframe tbody tr th {\n",
       "        vertical-align: top;\n",
       "    }\n",
       "\n",
       "    .dataframe thead th {\n",
       "        text-align: right;\n",
       "    }\n",
       "</style>\n",
       "<table border=\"1\" class=\"dataframe\">\n",
       "  <thead>\n",
       "    <tr style=\"text-align: right;\">\n",
       "      <th></th>\n",
       "      <th>raw_comment</th>\n",
       "      <th>label</th>\n",
       "      <th>normalize_comment</th>\n",
       "      <th>emoji</th>\n",
       "    </tr>\n",
       "  </thead>\n",
       "  <tbody>\n",
       "    <tr>\n",
       "      <th>0</th>\n",
       "      <td>Mình mua size L. Cổ tay siêu bé, như siz...</td>\n",
       "      <td>0</td>\n",
       "      <td>mình mua size l cổ tay siêu bé như size ...</td>\n",
       "      <td></td>\n",
       "    </tr>\n",
       "    <tr>\n",
       "      <th>1</th>\n",
       "      <td>Size S M L XL\\n\\nForm áo cực kì dễ mang,...</td>\n",
       "      <td>1</td>\n",
       "      <td>size s mình l xl form áo cực kì dễ mang...</td>\n",
       "      <td></td>\n",
       "    </tr>\n",
       "    <tr>\n",
       "      <th>2</th>\n",
       "      <td>Áo khá đẹp vừa với dáng giao hàng cư...</td>\n",
       "      <td>1</td>\n",
       "      <td>áo khá đẹp vừa với dáng giao hàng cư...</td>\n",
       "      <td></td>\n",
       "    </tr>\n",
       "    <tr>\n",
       "      <th>3</th>\n",
       "      <td>Đẹp rất hài lòng okokokokokokokokokokokok...</td>\n",
       "      <td>1</td>\n",
       "      <td>đẹp rất hài lòng</td>\n",
       "      <td></td>\n",
       "    </tr>\n",
       "    <tr>\n",
       "      <th>4</th>\n",
       "      <td>Đẹp, ôm dáng, mặc đẹp lắm mà form nho...</td>\n",
       "      <td>1</td>\n",
       "      <td>đẹp ôm dáng mặc đẹp lắm mà form nhỏ ...</td>\n",
       "      <td></td>\n",
       "    </tr>\n",
       "  </tbody>\n",
       "</table>\n",
       "</div>"
      ],
      "text/plain": [
       "                                         raw_comment  label  \\\n",
       "0  Mình mua size L. Cổ tay siêu bé, như siz...      0   \n",
       "1  Size S M L XL\\n\\nForm áo cực kì dễ mang,...      1   \n",
       "2  Áo khá đẹp vừa với dáng giao hàng cư...      1   \n",
       "3  Đẹp rất hài lòng okokokokokokokokokokokok...      1   \n",
       "4  Đẹp, ôm dáng, mặc đẹp lắm mà form nho...      1   \n",
       "\n",
       "                                   normalize_comment emoji  \n",
       "0  mình mua size l cổ tay siêu bé như size ...        \n",
       "1  size s mình l xl form áo cực kì dễ mang...        \n",
       "2  áo khá đẹp vừa với dáng giao hàng cư...        \n",
       "3                              đẹp rất hài lòng        \n",
       "4  đẹp ôm dáng mặc đẹp lắm mà form nhỏ ...        "
      ]
     },
     "metadata": {},
     "execution_count": 26
    }
   ],
   "metadata": {}
  },
  {
   "cell_type": "markdown",
   "source": [
    "<hr>\n",
    "\n",
    "* Tiếp theo ta sẽ remove stopword, chúng ta sẽ sử dụng stopword trong file `modules/dependencies/stopwords.txt`. Ta không nên sử dụng các stopword được build sẵn trên mạng nhất là cho tiếng việt, vì chưa chắc các từ này đã hợp với dữ liệu hiện tại của chúng ta.\n",
    "* Ví dụ nhiều stopword set loại bỏ từ \"**nhưng**\", tuy nhiên từ này khả năng cao là quan trọng, giả sử ta có câu này:\n",
    "  * _shop giao hàng chậm **nhưng** giao đúng hàng, ủng hộ shop_, thì nhờ từ **nhưng** này mà model ta có khả năng phân biệt được nó là positive hay negative.\n",
    "* Ngoài ra với một file txt như vậy, ta có thể bổ sung stopword sau này."
   ],
   "metadata": {}
  },
  {
   "cell_type": "code",
   "execution_count": 27,
   "source": [
    "stopwords = Utils.buildListFromFile(\"./modules/dependencies/stopwords.txt\")"
   ],
   "outputs": [],
   "metadata": {}
  },
  {
   "cell_type": "code",
   "execution_count": 28,
   "source": [
    "reviews['normalize_comment'] = reviews['normalize_comment'].apply(lambda cmt: Processor.removeStopwords(cmt, stopwords))\n",
    "\n",
    "reviews.head()"
   ],
   "outputs": [
    {
     "output_type": "execute_result",
     "data": {
      "text/html": [
       "<div>\n",
       "<style scoped>\n",
       "    .dataframe tbody tr th:only-of-type {\n",
       "        vertical-align: middle;\n",
       "    }\n",
       "\n",
       "    .dataframe tbody tr th {\n",
       "        vertical-align: top;\n",
       "    }\n",
       "\n",
       "    .dataframe thead th {\n",
       "        text-align: right;\n",
       "    }\n",
       "</style>\n",
       "<table border=\"1\" class=\"dataframe\">\n",
       "  <thead>\n",
       "    <tr style=\"text-align: right;\">\n",
       "      <th></th>\n",
       "      <th>raw_comment</th>\n",
       "      <th>label</th>\n",
       "      <th>normalize_comment</th>\n",
       "      <th>emoji</th>\n",
       "    </tr>\n",
       "  </thead>\n",
       "  <tbody>\n",
       "    <tr>\n",
       "      <th>0</th>\n",
       "      <td>Mình mua size L. Cổ tay siêu bé, như siz...</td>\n",
       "      <td>0</td>\n",
       "      <td>mua size l cổ tay siêu bé như size s ấy...</td>\n",
       "      <td></td>\n",
       "    </tr>\n",
       "    <tr>\n",
       "      <th>1</th>\n",
       "      <td>Size S M L XL\\n\\nForm áo cực kì dễ mang,...</td>\n",
       "      <td>1</td>\n",
       "      <td>size s l xl form áo cực kì dễ mang thiê...</td>\n",
       "      <td></td>\n",
       "    </tr>\n",
       "    <tr>\n",
       "      <th>2</th>\n",
       "      <td>Áo khá đẹp vừa với dáng giao hàng cư...</td>\n",
       "      <td>1</td>\n",
       "      <td>áo khá đẹp vừa dáng giao hàng cực kì...</td>\n",
       "      <td></td>\n",
       "    </tr>\n",
       "    <tr>\n",
       "      <th>3</th>\n",
       "      <td>Đẹp rất hài lòng okokokokokokokokokokokok...</td>\n",
       "      <td>1</td>\n",
       "      <td>đẹp rất hài lòng</td>\n",
       "      <td></td>\n",
       "    </tr>\n",
       "    <tr>\n",
       "      <th>4</th>\n",
       "      <td>Đẹp, ôm dáng, mặc đẹp lắm mà form nho...</td>\n",
       "      <td>1</td>\n",
       "      <td>đẹp ôm dáng mặc đẹp lắm mà form nhỏ ...</td>\n",
       "      <td></td>\n",
       "    </tr>\n",
       "  </tbody>\n",
       "</table>\n",
       "</div>"
      ],
      "text/plain": [
       "                                         raw_comment  label  \\\n",
       "0  Mình mua size L. Cổ tay siêu bé, như siz...      0   \n",
       "1  Size S M L XL\\n\\nForm áo cực kì dễ mang,...      1   \n",
       "2  Áo khá đẹp vừa với dáng giao hàng cư...      1   \n",
       "3  Đẹp rất hài lòng okokokokokokokokokokokok...      1   \n",
       "4  Đẹp, ôm dáng, mặc đẹp lắm mà form nho...      1   \n",
       "\n",
       "                                   normalize_comment emoji  \n",
       "0  mua size l cổ tay siêu bé như size s ấy...        \n",
       "1  size s l xl form áo cực kì dễ mang thiê...        \n",
       "2  áo khá đẹp vừa dáng giao hàng cực kì...        \n",
       "3                              đẹp rất hài lòng        \n",
       "4  đẹp ôm dáng mặc đẹp lắm mà form nhỏ ...        "
      ]
     },
     "metadata": {},
     "execution_count": 28
    }
   ],
   "metadata": {}
  },
  {
   "cell_type": "markdown",
   "source": [
    "<hr>\n",
    "\n",
    "* Tiếp theo, ta loại bỏ các empty và duplicate `normalize_comment`."
   ],
   "metadata": {}
  },
  {
   "cell_type": "code",
   "execution_count": 29,
   "source": [
    "reviews = Processor.removeEmptyOrDuplicateComment(reviews)\n",
    "\n",
    "Processor.printAfterProcess(reviews)\n",
    "reviews.head()"
   ],
   "outputs": [
    {
     "output_type": "stream",
     "name": "stdout",
     "text": [
      "Shape: (217180, 4)\n",
      "1    210078\n",
      "0      7102\n",
      "Name: label, dtype: int64\n"
     ]
    },
    {
     "output_type": "execute_result",
     "data": {
      "text/html": [
       "<div>\n",
       "<style scoped>\n",
       "    .dataframe tbody tr th:only-of-type {\n",
       "        vertical-align: middle;\n",
       "    }\n",
       "\n",
       "    .dataframe tbody tr th {\n",
       "        vertical-align: top;\n",
       "    }\n",
       "\n",
       "    .dataframe thead th {\n",
       "        text-align: right;\n",
       "    }\n",
       "</style>\n",
       "<table border=\"1\" class=\"dataframe\">\n",
       "  <thead>\n",
       "    <tr style=\"text-align: right;\">\n",
       "      <th></th>\n",
       "      <th>raw_comment</th>\n",
       "      <th>label</th>\n",
       "      <th>normalize_comment</th>\n",
       "      <th>emoji</th>\n",
       "    </tr>\n",
       "  </thead>\n",
       "  <tbody>\n",
       "    <tr>\n",
       "      <th>0</th>\n",
       "      <td>Mình mua size L. Cổ tay siêu bé, như siz...</td>\n",
       "      <td>0</td>\n",
       "      <td>mua size l cổ tay siêu bé như size s ấy...</td>\n",
       "      <td></td>\n",
       "    </tr>\n",
       "    <tr>\n",
       "      <th>1</th>\n",
       "      <td>Size S M L XL\\n\\nForm áo cực kì dễ mang,...</td>\n",
       "      <td>1</td>\n",
       "      <td>size s l xl form áo cực kì dễ mang thiê...</td>\n",
       "      <td></td>\n",
       "    </tr>\n",
       "    <tr>\n",
       "      <th>2</th>\n",
       "      <td>Áo khá đẹp vừa với dáng giao hàng cư...</td>\n",
       "      <td>1</td>\n",
       "      <td>áo khá đẹp vừa dáng giao hàng cực kì...</td>\n",
       "      <td></td>\n",
       "    </tr>\n",
       "    <tr>\n",
       "      <th>3</th>\n",
       "      <td>Đẹp rất hài lòng okokokokokokokokokokokok...</td>\n",
       "      <td>1</td>\n",
       "      <td>đẹp rất hài lòng</td>\n",
       "      <td></td>\n",
       "    </tr>\n",
       "    <tr>\n",
       "      <th>4</th>\n",
       "      <td>Đẹp, ôm dáng, mặc đẹp lắm mà form nho...</td>\n",
       "      <td>1</td>\n",
       "      <td>đẹp ôm dáng mặc đẹp lắm mà form nhỏ ...</td>\n",
       "      <td></td>\n",
       "    </tr>\n",
       "  </tbody>\n",
       "</table>\n",
       "</div>"
      ],
      "text/plain": [
       "                                         raw_comment  label  \\\n",
       "0  Mình mua size L. Cổ tay siêu bé, như siz...      0   \n",
       "1  Size S M L XL\\n\\nForm áo cực kì dễ mang,...      1   \n",
       "2  Áo khá đẹp vừa với dáng giao hàng cư...      1   \n",
       "3  Đẹp rất hài lòng okokokokokokokokokokokok...      1   \n",
       "4  Đẹp, ôm dáng, mặc đẹp lắm mà form nho...      1   \n",
       "\n",
       "                                   normalize_comment emoji  \n",
       "0  mua size l cổ tay siêu bé như size s ấy...        \n",
       "1  size s l xl form áo cực kì dễ mang thiê...        \n",
       "2  áo khá đẹp vừa dáng giao hàng cực kì...        \n",
       "3                              đẹp rất hài lòng        \n",
       "4  đẹp ôm dáng mặc đẹp lắm mà form nhỏ ...        "
      ]
     },
     "metadata": {},
     "execution_count": 29
    }
   ],
   "metadata": {}
  },
  {
   "cell_type": "markdown",
   "source": [
    "<hr>\n",
    "\n",
    "* Train test split, ta thấy rằng giữa hai nhóm positive và negative có chênh lệnh lớn, nên tập train data của ta sẽ bằng $0.8 * \\min(\\mathrm{size}(positive), \\mathrm{size}(negative)) * 2$."
   ],
   "metadata": {}
  },
  {
   "cell_type": "code",
   "execution_count": 30,
   "source": [
    "half_min_size = min(reviews['label'].value_counts())\n",
    "\n",
    "half_min_size"
   ],
   "outputs": [
    {
     "output_type": "execute_result",
     "data": {
      "text/plain": [
       "7102"
      ]
     },
     "metadata": {},
     "execution_count": 30
    }
   ],
   "metadata": {}
  },
  {
   "cell_type": "code",
   "execution_count": 31,
   "source": [
    "reviews_positive = reviews[reviews['label'] == 1]\n",
    "reviews_negative = reviews[reviews['label'] == 0]\n",
    "\n",
    "reviews_positive = shuffle(reviews_positive)\n",
    "reviews_positive = reviews_positive.reset_index(drop=True)"
   ],
   "outputs": [],
   "metadata": {}
  },
  {
   "cell_type": "code",
   "execution_count": 32,
   "source": [
    "positive_index = random.sample(range(0, reviews_positive.shape[0]), half_min_size)\n",
    "\n",
    "positive_index[:10]"
   ],
   "outputs": [
    {
     "output_type": "execute_result",
     "data": {
      "text/plain": [
       "[140586, 122293, 32832, 89773, 61930, 183738, 11905, 130664, 26386, 19979]"
      ]
     },
     "metadata": {},
     "execution_count": 32
    }
   ],
   "metadata": {}
  },
  {
   "cell_type": "code",
   "execution_count": 33,
   "source": [
    "reviews_positive2 = reviews_positive.iloc[positive_index,:]\n",
    "\n",
    "reviews_positive2.head()"
   ],
   "outputs": [
    {
     "output_type": "execute_result",
     "data": {
      "text/html": [
       "<div>\n",
       "<style scoped>\n",
       "    .dataframe tbody tr th:only-of-type {\n",
       "        vertical-align: middle;\n",
       "    }\n",
       "\n",
       "    .dataframe tbody tr th {\n",
       "        vertical-align: top;\n",
       "    }\n",
       "\n",
       "    .dataframe thead th {\n",
       "        text-align: right;\n",
       "    }\n",
       "</style>\n",
       "<table border=\"1\" class=\"dataframe\">\n",
       "  <thead>\n",
       "    <tr style=\"text-align: right;\">\n",
       "      <th></th>\n",
       "      <th>raw_comment</th>\n",
       "      <th>label</th>\n",
       "      <th>normalize_comment</th>\n",
       "      <th>emoji</th>\n",
       "    </tr>\n",
       "  </thead>\n",
       "  <tbody>\n",
       "    <tr>\n",
       "      <th>140586</th>\n",
       "      <td>Chất lượng tốt \\nGiao hàng hơi lâu\\n...</td>\n",
       "      <td>1</td>\n",
       "      <td>chất lượng tốt giao hàng hơi lâu</td>\n",
       "      <td></td>\n",
       "    </tr>\n",
       "    <tr>\n",
       "      <th>122293</th>\n",
       "      <td>Chất lượng tốt so với giá tiền. Ba...</td>\n",
       "      <td>1</td>\n",
       "      <td>chất lượng tốt so giá tiền bán hàn...</td>\n",
       "      <td></td>\n",
       "    </tr>\n",
       "    <tr>\n",
       "      <th>32832</th>\n",
       "      <td>Ổn ấp đấy :)))</td>\n",
       "      <td>1</td>\n",
       "      <td>ổn ấp đấy</td>\n",
       "      <td></td>\n",
       "    </tr>\n",
       "    <tr>\n",
       "      <th>89773</th>\n",
       "      <td>Móng ok lắm ạ dẻo ạ.\\nhàng giao nhanh h...</td>\n",
       "      <td>1</td>\n",
       "      <td>móng ok lắm dẻo hàng giao nhanh hơn dự...</td>\n",
       "      <td></td>\n",
       "    </tr>\n",
       "    <tr>\n",
       "      <th>61930</th>\n",
       "      <td>Dễ thương, hơi nhỏ nhưng khá ok. Đeo c...</td>\n",
       "      <td>1</td>\n",
       "      <td>dễ thương hơi nhỏ nhưng khá ok đeo chu...</td>\n",
       "      <td></td>\n",
       "    </tr>\n",
       "  </tbody>\n",
       "</table>\n",
       "</div>"
      ],
      "text/plain": [
       "                                              raw_comment  label  \\\n",
       "140586  Chất lượng tốt \\nGiao hàng hơi lâu\\n...      1   \n",
       "122293  Chất lượng tốt so với giá tiền. Ba...      1   \n",
       "32832                                Ổn ấp đấy :)))      1   \n",
       "89773   Móng ok lắm ạ dẻo ạ.\\nhàng giao nhanh h...      1   \n",
       "61930   Dễ thương, hơi nhỏ nhưng khá ok. Đeo c...      1   \n",
       "\n",
       "                                        normalize_comment emoji  \n",
       "140586         chất lượng tốt giao hàng hơi lâu        \n",
       "122293  chất lượng tốt so giá tiền bán hàn...        \n",
       "32832                                     ổn ấp đấy        \n",
       "89773   móng ok lắm dẻo hàng giao nhanh hơn dự...        \n",
       "61930   dễ thương hơi nhỏ nhưng khá ok đeo chu...        "
      ]
     },
     "metadata": {},
     "execution_count": 33
    }
   ],
   "metadata": {}
  },
  {
   "cell_type": "markdown",
   "source": [
    "* Đây là tập data mà hai nhóm positive và negative cân bằng nhau"
   ],
   "metadata": {}
  },
  {
   "cell_type": "code",
   "execution_count": 34,
   "source": [
    "normalize_reviews = pd.concat([reviews_negative, reviews_positive2], axis=0)\n",
    "normalize_reviews = normalize_reviews.reset_index(drop=True)\n",
    "\n",
    "Processor.printAfterProcess(normalize_reviews)\n",
    "normalize_reviews.head()"
   ],
   "outputs": [
    {
     "output_type": "stream",
     "name": "stdout",
     "text": [
      "Shape: (14204, 4)\n",
      "0    7102\n",
      "1    7102\n",
      "Name: label, dtype: int64\n"
     ]
    },
    {
     "output_type": "execute_result",
     "data": {
      "text/html": [
       "<div>\n",
       "<style scoped>\n",
       "    .dataframe tbody tr th:only-of-type {\n",
       "        vertical-align: middle;\n",
       "    }\n",
       "\n",
       "    .dataframe tbody tr th {\n",
       "        vertical-align: top;\n",
       "    }\n",
       "\n",
       "    .dataframe thead th {\n",
       "        text-align: right;\n",
       "    }\n",
       "</style>\n",
       "<table border=\"1\" class=\"dataframe\">\n",
       "  <thead>\n",
       "    <tr style=\"text-align: right;\">\n",
       "      <th></th>\n",
       "      <th>raw_comment</th>\n",
       "      <th>label</th>\n",
       "      <th>normalize_comment</th>\n",
       "      <th>emoji</th>\n",
       "    </tr>\n",
       "  </thead>\n",
       "  <tbody>\n",
       "    <tr>\n",
       "      <th>0</th>\n",
       "      <td>Mình mua size L. Cổ tay siêu bé, như siz...</td>\n",
       "      <td>0</td>\n",
       "      <td>mua size l cổ tay siêu bé như size s ấy...</td>\n",
       "      <td></td>\n",
       "    </tr>\n",
       "    <tr>\n",
       "      <th>1</th>\n",
       "      <td>bị chật liên hệ. shop để đổi lại sh...</td>\n",
       "      <td>0</td>\n",
       "      <td>chật liên hệ đổi không nghe máy nhắ...</td>\n",
       "      <td></td>\n",
       "    </tr>\n",
       "    <tr>\n",
       "      <th>2</th>\n",
       "      <td>hàng 1 lớp, chất vải k ok, sz S mà ngư...</td>\n",
       "      <td>0</td>\n",
       "      <td>hàng lớp chất vải không ok size s mà n...</td>\n",
       "      <td></td>\n",
       "    </tr>\n",
       "    <tr>\n",
       "      <th>3</th>\n",
       "      <td>Tiền nào của nấy,thất vọng</td>\n",
       "      <td>0</td>\n",
       "      <td>tiền nào của nấy thất vọng</td>\n",
       "      <td></td>\n",
       "    </tr>\n",
       "    <tr>\n",
       "      <th>4</th>\n",
       "      <td>Màu của giày quá là khác luôn</td>\n",
       "      <td>0</td>\n",
       "      <td>màu của giày quá là khác luôn</td>\n",
       "      <td></td>\n",
       "    </tr>\n",
       "  </tbody>\n",
       "</table>\n",
       "</div>"
      ],
      "text/plain": [
       "                                         raw_comment  label  \\\n",
       "0  Mình mua size L. Cổ tay siêu bé, như siz...      0   \n",
       "1  bị chật liên hệ. shop để đổi lại sh...      0   \n",
       "2  hàng 1 lớp, chất vải k ok, sz S mà ngư...      0   \n",
       "3                Tiền nào của nấy,thất vọng      0   \n",
       "4               Màu của giày quá là khác luôn      0   \n",
       "\n",
       "                                   normalize_comment emoji  \n",
       "0  mua size l cổ tay siêu bé như size s ấy...        \n",
       "1  chật liên hệ đổi không nghe máy nhắ...        \n",
       "2  hàng lớp chất vải không ok size s mà n...        \n",
       "3                tiền nào của nấy thất vọng        \n",
       "4               màu của giày quá là khác luôn        "
      ]
     },
     "metadata": {},
     "execution_count": 34
    }
   ],
   "metadata": {}
  },
  {
   "cell_type": "markdown",
   "source": [
    "* Ghi ra file"
   ],
   "metadata": {}
  },
  {
   "cell_type": "code",
   "execution_count": 35,
   "source": [
    "normalize_reviews.to_csv(\"./data/normalize_reviews.csv\", index=False)"
   ],
   "outputs": [],
   "metadata": {}
  },
  {
   "cell_type": "markdown",
   "source": [
    "* Bây giờ ta sẽ ghi phần bù còn lại của `review_positive` vào file, ta có thể dùng nó cho việc evaluate model sau này."
   ],
   "metadata": {}
  },
  {
   "cell_type": "code",
   "execution_count": 36,
   "source": [
    "reviews_positive3 = reviews_positive[~reviews_positive.index.isin(positive_index)]\n",
    "reviews_positive3 = reviews_positive3.reset_index(drop=True)\n",
    "\n",
    "reviews_positive3.head()"
   ],
   "outputs": [
    {
     "output_type": "execute_result",
     "data": {
      "text/html": [
       "<div>\n",
       "<style scoped>\n",
       "    .dataframe tbody tr th:only-of-type {\n",
       "        vertical-align: middle;\n",
       "    }\n",
       "\n",
       "    .dataframe tbody tr th {\n",
       "        vertical-align: top;\n",
       "    }\n",
       "\n",
       "    .dataframe thead th {\n",
       "        text-align: right;\n",
       "    }\n",
       "</style>\n",
       "<table border=\"1\" class=\"dataframe\">\n",
       "  <thead>\n",
       "    <tr style=\"text-align: right;\">\n",
       "      <th></th>\n",
       "      <th>raw_comment</th>\n",
       "      <th>label</th>\n",
       "      <th>normalize_comment</th>\n",
       "      <th>emoji</th>\n",
       "    </tr>\n",
       "  </thead>\n",
       "  <tbody>\n",
       "    <tr>\n",
       "      <th>0</th>\n",
       "      <td>Đẹp á, rẻ nữa, phải chi có nhiều tay ...</td>\n",
       "      <td>1</td>\n",
       "      <td>đẹp á rẻ phải chi có nhiều tay là mua ...</td>\n",
       "      <td></td>\n",
       "    </tr>\n",
       "    <tr>\n",
       "      <th>1</th>\n",
       "      <td>Thật sự rất thật tóc đẹp quá xá, m...</td>\n",
       "      <td>1</td>\n",
       "      <td>thật sự rất thật tóc đẹp quá xá mu...</td>\n",
       "      <td></td>\n",
       "    </tr>\n",
       "    <tr>\n",
       "      <th>2</th>\n",
       "      <td>Sản phẩm đẹp giao hàng nhanh rất hài l...</td>\n",
       "      <td>1</td>\n",
       "      <td>sản phẩm đẹp giao hàng nhanh rất hài l...</td>\n",
       "      <td></td>\n",
       "    </tr>\n",
       "    <tr>\n",
       "      <th>3</th>\n",
       "      <td>Đóng gói đẹp và chắc chắn, phần vai ...</td>\n",
       "      <td>1</td>\n",
       "      <td>đóng gói đẹp chắc chắn phần vai hơi ...</td>\n",
       "      <td></td>\n",
       "    </tr>\n",
       "    <tr>\n",
       "      <th>4</th>\n",
       "      <td>Giá khuyến mãi rất tốt\\nSản phẩm ra...</td>\n",
       "      <td>1</td>\n",
       "      <td>giá khuyến mãi rất tốt sản phẩm râ...</td>\n",
       "      <td></td>\n",
       "    </tr>\n",
       "  </tbody>\n",
       "</table>\n",
       "</div>"
      ],
      "text/plain": [
       "                                         raw_comment  label  \\\n",
       "0  Đẹp á, rẻ nữa, phải chi có nhiều tay ...      1   \n",
       "1  Thật sự rất thật tóc đẹp quá xá, m...      1   \n",
       "2  Sản phẩm đẹp giao hàng nhanh rất hài l...      1   \n",
       "3  Đóng gói đẹp và chắc chắn, phần vai ...      1   \n",
       "4  Giá khuyến mãi rất tốt\\nSản phẩm ra...      1   \n",
       "\n",
       "                                   normalize_comment emoji  \n",
       "0  đẹp á rẻ phải chi có nhiều tay là mua ...        \n",
       "1  thật sự rất thật tóc đẹp quá xá mu...        \n",
       "2  sản phẩm đẹp giao hàng nhanh rất hài l...        \n",
       "3  đóng gói đẹp chắc chắn phần vai hơi ...        \n",
       "4  giá khuyến mãi rất tốt sản phẩm râ...        "
      ]
     },
     "metadata": {},
     "execution_count": 36
    }
   ],
   "metadata": {}
  },
  {
   "cell_type": "code",
   "execution_count": 37,
   "source": [
    "reviews_positive3.to_csv(\"./data/complement_positive_reviews.csv\", index=False)"
   ],
   "outputs": [],
   "metadata": {}
  },
  {
   "cell_type": "markdown",
   "source": [
    "# 1.8. Tài liệu kham thảo:\n",
    "* [Web Scraping with Python: Collecting Data from the Modern Web 1st Edition](https://www.amazon.com/Web-Scraping-Python-Collecting-Modern/dp/1491910291)\n",
    "* [Applied Text Analysis with Python: Enabling Language-Aware Data Products with Machine Learning 1st Edition](https://www.amazon.com/Applied-Text-Analysis-Python-Language-Aware/dp/1491963042)\n",
    "* [Natural Language Processing with Python: Analyzing Text with the Natural Language Toolkit 1st Edition](https://www.amazon.com/Natural-Language-Processing-Python-Analyzing/dp/0596516495/ref=pd_sbs_2/138-2957899-5417957?pd_rd_w=bae9C&pf_rd_p=3676f086-9496-4fd7-8490-77cf7f43f846&pf_rd_r=HY0SV9DZKNKG3YP7XGCQ&pd_rd_r=8e2cac9c-9e76-47af-b450-2a0b45dab9ce&pd_rd_wg=aNUA6&pd_rd_i=0596516495&psc=1)\n",
    "* ..."
   ],
   "metadata": {}
  }
 ],
 "metadata": {
  "orig_nbformat": 4,
  "language_info": {
   "name": "python",
   "version": "3.8.10",
   "mimetype": "text/x-python",
   "codemirror_mode": {
    "name": "ipython",
    "version": 3
   },
   "pygments_lexer": "ipython3",
   "nbconvert_exporter": "python",
   "file_extension": ".py"
  },
  "kernelspec": {
   "name": "python3",
   "display_name": "Python 3.8.10 64-bit"
  },
  "interpreter": {
   "hash": "916dbcbb3f70747c44a77c7bcd40155683ae19c65e1c03b4aa3499c5328201f1"
  }
 },
 "nbformat": 4,
 "nbformat_minor": 2
}