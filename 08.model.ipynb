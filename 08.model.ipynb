{
 "cells": [
  {
   "cell_type": "code",
   "execution_count": 4,
   "source": [
    "%load_ext autoreload\n",
    "%autoreload 2"
   ],
   "outputs": [
    {
     "output_type": "stream",
     "name": "stdout",
     "text": [
      "The autoreload extension is already loaded. To reload it, use:\n",
      "  %reload_ext autoreload\n"
     ]
    }
   ],
   "metadata": {}
  },
  {
   "cell_type": "code",
   "execution_count": 5,
   "source": [
    "from keras.utils.vis_utils import plot_model\n",
    "from keras.models import load_model\n",
    "import modules.deep_model as DeepModel\n",
    "import modules.model as Model \n",
    "import tensorflow as tf\n",
    "import warnings\n",
    "import numpy as np\n",
    "import os\n",
    "\n",
    "warnings.filterwarnings('ignore')"
   ],
   "outputs": [],
   "metadata": {}
  },
  {
   "cell_type": "markdown",
   "source": [
    "# Giới thiệu về LSTM Model (ghi dùm)"
   ],
   "metadata": {}
  },
  {
   "cell_type": "code",
   "execution_count": 7,
   "source": [
    "X_train, y_train = Model.loadData(\"./data/data/train\")\n",
    "X_train = X_train.fillna(\"\")\n",
    "\n",
    "X_test, y_test = Model.loadData(\"./data/data/test\")\n",
    "X_test = X_test.fillna(\"\")\n",
    "\n",
    "display(X_train, y_train)\n",
    "display(X_test, y_test)\n"
   ],
   "outputs": [
    {
     "output_type": "display_data",
     "data": {
      "text/html": [
       "<div>\n",
       "<style scoped>\n",
       "    .dataframe tbody tr th:only-of-type {\n",
       "        vertical-align: middle;\n",
       "    }\n",
       "\n",
       "    .dataframe tbody tr th {\n",
       "        vertical-align: top;\n",
       "    }\n",
       "\n",
       "    .dataframe thead th {\n",
       "        text-align: right;\n",
       "    }\n",
       "</style>\n",
       "<table border=\"1\" class=\"dataframe\">\n",
       "  <thead>\n",
       "    <tr style=\"text-align: right;\">\n",
       "      <th></th>\n",
       "      <th>raw_comment</th>\n",
       "      <th>normalize_comment</th>\n",
       "      <th>emoji_decode</th>\n",
       "    </tr>\n",
       "  </thead>\n",
       "  <tbody>\n",
       "    <tr>\n",
       "      <th>0</th>\n",
       "      <td>form k đẹp lắm</td>\n",
       "      <td>form không đẹp lắm</td>\n",
       "      <td></td>\n",
       "    </tr>\n",
       "    <tr>\n",
       "      <th>1</th>\n",
       "      <td>Áo Rộng thật sự\\nGl nhanh\\nChật lươ...</td>\n",
       "      <td>áo rộng thật sự nhanh chật lượng v...</td>\n",
       "      <td></td>\n",
       "    </tr>\n",
       "    <tr>\n",
       "      <th>2</th>\n",
       "      <td>Màu túi hơi tối do với ảnh chụp</td>\n",
       "      <td>màu túi hơi tối do ảnh chụp</td>\n",
       "      <td></td>\n",
       "    </tr>\n",
       "    <tr>\n",
       "      <th>3</th>\n",
       "      <td>Chất liệu vải k ổn lắm</td>\n",
       "      <td>chất liệu vải không ổn lắm</td>\n",
       "      <td></td>\n",
       "    </tr>\n",
       "    <tr>\n",
       "      <th>4</th>\n",
       "      <td>Mã \"màu đen\" hiện lên áo màu đen, còn ...</td>\n",
       "      <td>mã màu đen hiện lên áo màu đen còn mã...</td>\n",
       "      <td></td>\n",
       "    </tr>\n",
       "    <tr>\n",
       "      <th>...</th>\n",
       "      <td>...</td>\n",
       "      <td>...</td>\n",
       "      <td>...</td>\n",
       "    </tr>\n",
       "    <tr>\n",
       "      <th>11359</th>\n",
       "      <td>Khi bán combo ghi 3 đôi, nhưng nhận chỉ ...</td>\n",
       "      <td>bán combo ghi đôi nhưng nhận chỉ đôi ta...</td>\n",
       "      <td></td>\n",
       "    </tr>\n",
       "    <tr>\n",
       "      <th>11360</th>\n",
       "      <td>Áo đẹp, from chuẩn. Sẽ ủng hộ tiếp ạ !</td>\n",
       "      <td>áo đẹp from chuẩn sẽ ủng hộ tiếp</td>\n",
       "      <td></td>\n",
       "    </tr>\n",
       "    <tr>\n",
       "      <th>11361</th>\n",
       "      <td>Đặt màu trắng kem thì giao màu xanh đen...</td>\n",
       "      <td>đặt màu trắng kem giao màu xanh đen giao...</td>\n",
       "      <td>expressionless</td>\n",
       "    </tr>\n",
       "    <tr>\n",
       "      <th>11362</th>\n",
       "      <td>Đồ chơi tí hon.\\nShop nên dừng bán sp ...</td>\n",
       "      <td>đồ chơi tí hon nên dừng bán sản phẩ...</td>\n",
       "      <td></td>\n",
       "    </tr>\n",
       "    <tr>\n",
       "      <th>11363</th>\n",
       "      <td>Son đẹp lắm nha mọi ng, đáng đồng tiề...</td>\n",
       "      <td>son đẹp lắm mọi đáng đồng tiền bát m...</td>\n",
       "      <td></td>\n",
       "    </tr>\n",
       "  </tbody>\n",
       "</table>\n",
       "<p>11364 rows × 3 columns</p>\n",
       "</div>"
      ],
      "text/plain": [
       "                                             raw_comment  \\\n",
       "0                                      form k đẹp lắm   \n",
       "1      Áo Rộng thật sự\\nGl nhanh\\nChật lươ...   \n",
       "2               Màu túi hơi tối do với ảnh chụp   \n",
       "3                        Chất liệu vải k ổn lắm   \n",
       "4      Mã \"màu đen\" hiện lên áo màu đen, còn ...   \n",
       "...                                                  ...   \n",
       "11359  Khi bán combo ghi 3 đôi, nhưng nhận chỉ ...   \n",
       "11360  Áo đẹp, from chuẩn. Sẽ ủng hộ tiếp ạ !   \n",
       "11361  Đặt màu trắng kem thì giao màu xanh đen...   \n",
       "11362  Đồ chơi tí hon.\\nShop nên dừng bán sp ...   \n",
       "11363  Son đẹp lắm nha mọi ng, đáng đồng tiề...   \n",
       "\n",
       "                                       normalize_comment    emoji_decode  \n",
       "0                                 form không đẹp lắm                  \n",
       "1      áo rộng thật sự nhanh chật lượng v...                  \n",
       "2                     màu túi hơi tối do ảnh chụp                  \n",
       "3                   chất liệu vải không ổn lắm                  \n",
       "4      mã màu đen hiện lên áo màu đen còn mã...                  \n",
       "...                                                  ...             ...  \n",
       "11359  bán combo ghi đôi nhưng nhận chỉ đôi ta...                  \n",
       "11360         áo đẹp from chuẩn sẽ ủng hộ tiếp                  \n",
       "11361  đặt màu trắng kem giao màu xanh đen giao...  expressionless  \n",
       "11362  đồ chơi tí hon nên dừng bán sản phẩ...                  \n",
       "11363  son đẹp lắm mọi đáng đồng tiền bát m...                  \n",
       "\n",
       "[11364 rows x 3 columns]"
      ]
     },
     "metadata": {}
    },
    {
     "output_type": "display_data",
     "data": {
      "text/html": [
       "<div>\n",
       "<style scoped>\n",
       "    .dataframe tbody tr th:only-of-type {\n",
       "        vertical-align: middle;\n",
       "    }\n",
       "\n",
       "    .dataframe tbody tr th {\n",
       "        vertical-align: top;\n",
       "    }\n",
       "\n",
       "    .dataframe thead th {\n",
       "        text-align: right;\n",
       "    }\n",
       "</style>\n",
       "<table border=\"1\" class=\"dataframe\">\n",
       "  <thead>\n",
       "    <tr style=\"text-align: right;\">\n",
       "      <th></th>\n",
       "      <th>label</th>\n",
       "    </tr>\n",
       "  </thead>\n",
       "  <tbody>\n",
       "    <tr>\n",
       "      <th>0</th>\n",
       "      <td>0</td>\n",
       "    </tr>\n",
       "    <tr>\n",
       "      <th>1</th>\n",
       "      <td>1</td>\n",
       "    </tr>\n",
       "    <tr>\n",
       "      <th>2</th>\n",
       "      <td>0</td>\n",
       "    </tr>\n",
       "    <tr>\n",
       "      <th>3</th>\n",
       "      <td>0</td>\n",
       "    </tr>\n",
       "    <tr>\n",
       "      <th>4</th>\n",
       "      <td>0</td>\n",
       "    </tr>\n",
       "    <tr>\n",
       "      <th>...</th>\n",
       "      <td>...</td>\n",
       "    </tr>\n",
       "    <tr>\n",
       "      <th>11359</th>\n",
       "      <td>0</td>\n",
       "    </tr>\n",
       "    <tr>\n",
       "      <th>11360</th>\n",
       "      <td>1</td>\n",
       "    </tr>\n",
       "    <tr>\n",
       "      <th>11361</th>\n",
       "      <td>0</td>\n",
       "    </tr>\n",
       "    <tr>\n",
       "      <th>11362</th>\n",
       "      <td>0</td>\n",
       "    </tr>\n",
       "    <tr>\n",
       "      <th>11363</th>\n",
       "      <td>1</td>\n",
       "    </tr>\n",
       "  </tbody>\n",
       "</table>\n",
       "<p>11364 rows × 1 columns</p>\n",
       "</div>"
      ],
      "text/plain": [
       "       label\n",
       "0          0\n",
       "1          1\n",
       "2          0\n",
       "3          0\n",
       "4          0\n",
       "...      ...\n",
       "11359      0\n",
       "11360      1\n",
       "11361      0\n",
       "11362      0\n",
       "11363      1\n",
       "\n",
       "[11364 rows x 1 columns]"
      ]
     },
     "metadata": {}
    },
    {
     "output_type": "display_data",
     "data": {
      "text/html": [
       "<div>\n",
       "<style scoped>\n",
       "    .dataframe tbody tr th:only-of-type {\n",
       "        vertical-align: middle;\n",
       "    }\n",
       "\n",
       "    .dataframe tbody tr th {\n",
       "        vertical-align: top;\n",
       "    }\n",
       "\n",
       "    .dataframe thead th {\n",
       "        text-align: right;\n",
       "    }\n",
       "</style>\n",
       "<table border=\"1\" class=\"dataframe\">\n",
       "  <thead>\n",
       "    <tr style=\"text-align: right;\">\n",
       "      <th></th>\n",
       "      <th>raw_comment</th>\n",
       "      <th>normalize_comment</th>\n",
       "      <th>emoji_decode</th>\n",
       "    </tr>\n",
       "  </thead>\n",
       "  <tbody>\n",
       "    <tr>\n",
       "      <th>0</th>\n",
       "      <td>Shop bán hàng kỉ quấn đầy đủ. Chất l...</td>\n",
       "      <td>bán hàng kỉ quấn đầy đủ chất lượn...</td>\n",
       "      <td></td>\n",
       "    </tr>\n",
       "    <tr>\n",
       "      <th>1</th>\n",
       "      <td>Đặt xl, áo ghi xl nhưng lại bé tí tẹo ...</td>\n",
       "      <td>đặt xl áo ghi xl nhưng bé tí tẹo ngang ...</td>\n",
       "      <td></td>\n",
       "    </tr>\n",
       "    <tr>\n",
       "      <th>2</th>\n",
       "      <td>Kẹp rất rất đẹp săn được giá sale h...</td>\n",
       "      <td>kẹp rất rất đẹp săn được giá sale h...</td>\n",
       "      <td></td>\n",
       "    </tr>\n",
       "    <tr>\n",
       "      <th>3</th>\n",
       "      <td>K nghĩ áo đẹp vậy đâu giao hàng nhanh k...</td>\n",
       "      <td>không nghĩ áo đẹp giao hàng nhanh không ...</td>\n",
       "      <td></td>\n",
       "    </tr>\n",
       "    <tr>\n",
       "      <th>4</th>\n",
       "      <td>Hôm nay mới nhận đc nhưng nhìn qua thâ...</td>\n",
       "      <td>hôm nay mới nhận được nhưng nhìn qua...</td>\n",
       "      <td></td>\n",
       "    </tr>\n",
       "    <tr>\n",
       "      <th>...</th>\n",
       "      <td>...</td>\n",
       "      <td>...</td>\n",
       "      <td>...</td>\n",
       "    </tr>\n",
       "    <tr>\n",
       "      <th>2837</th>\n",
       "      <td>Mình đặt 2 dây buộc tóc nhưng lại chi...</td>\n",
       "      <td>đặt dây buộc tóc nhưng chỉ nhận đưo...</td>\n",
       "      <td>star slightly_smiling_face slightly_smiling_fa...</td>\n",
       "    </tr>\n",
       "    <tr>\n",
       "      <th>2838</th>\n",
       "      <td>Chất vải đẹp, có vẻ mát, giao hàng nha...</td>\n",
       "      <td>chất vải đẹp có vẻ mát giao hàng nhanh...</td>\n",
       "      <td></td>\n",
       "    </tr>\n",
       "    <tr>\n",
       "      <th>2839</th>\n",
       "      <td>Dây nhìn tạm. K đẹp. Mắc sai dây mình ...</td>\n",
       "      <td>dây nhìn tạm không đẹp mắc sai dây pha...</td>\n",
       "      <td></td>\n",
       "    </tr>\n",
       "    <tr>\n",
       "      <th>2840</th>\n",
       "      <td>Quần đẹp chất lượng ok nhưng chữ ru...</td>\n",
       "      <td>quần đẹp chất lượng ok nhưng chữ cu...</td>\n",
       "      <td></td>\n",
       "    </tr>\n",
       "    <tr>\n",
       "      <th>2841</th>\n",
       "      <td>Ok hơi chật tí</td>\n",
       "      <td>ok hơi chật tí</td>\n",
       "      <td></td>\n",
       "    </tr>\n",
       "  </tbody>\n",
       "</table>\n",
       "<p>2842 rows × 3 columns</p>\n",
       "</div>"
      ],
      "text/plain": [
       "                                            raw_comment  \\\n",
       "0     Shop bán hàng kỉ quấn đầy đủ. Chất l...   \n",
       "1     Đặt xl, áo ghi xl nhưng lại bé tí tẹo ...   \n",
       "2     Kẹp rất rất đẹp săn được giá sale h...   \n",
       "3     K nghĩ áo đẹp vậy đâu giao hàng nhanh k...   \n",
       "4     Hôm nay mới nhận đc nhưng nhìn qua thâ...   \n",
       "...                                                 ...   \n",
       "2837  Mình đặt 2 dây buộc tóc nhưng lại chi...   \n",
       "2838  Chất vải đẹp, có vẻ mát, giao hàng nha...   \n",
       "2839  Dây nhìn tạm. K đẹp. Mắc sai dây mình ...   \n",
       "2840  Quần đẹp chất lượng ok nhưng chữ ru...   \n",
       "2841                                 Ok hơi chật tí   \n",
       "\n",
       "                                      normalize_comment  \\\n",
       "0     bán hàng kỉ quấn đầy đủ chất lượn...   \n",
       "1     đặt xl áo ghi xl nhưng bé tí tẹo ngang ...   \n",
       "2     kẹp rất rất đẹp săn được giá sale h...   \n",
       "3     không nghĩ áo đẹp giao hàng nhanh không ...   \n",
       "4     hôm nay mới nhận được nhưng nhìn qua...   \n",
       "...                                                 ...   \n",
       "2837  đặt dây buộc tóc nhưng chỉ nhận đưo...   \n",
       "2838  chất vải đẹp có vẻ mát giao hàng nhanh...   \n",
       "2839  dây nhìn tạm không đẹp mắc sai dây pha...   \n",
       "2840  quần đẹp chất lượng ok nhưng chữ cu...   \n",
       "2841                                 ok hơi chật tí   \n",
       "\n",
       "                                           emoji_decode  \n",
       "0                                                        \n",
       "1                                                        \n",
       "2                                                        \n",
       "3                                                        \n",
       "4                                                        \n",
       "...                                                 ...  \n",
       "2837  star slightly_smiling_face slightly_smiling_fa...  \n",
       "2838                                                     \n",
       "2839                                                     \n",
       "2840                                                     \n",
       "2841                                                     \n",
       "\n",
       "[2842 rows x 3 columns]"
      ]
     },
     "metadata": {}
    },
    {
     "output_type": "display_data",
     "data": {
      "text/html": [
       "<div>\n",
       "<style scoped>\n",
       "    .dataframe tbody tr th:only-of-type {\n",
       "        vertical-align: middle;\n",
       "    }\n",
       "\n",
       "    .dataframe tbody tr th {\n",
       "        vertical-align: top;\n",
       "    }\n",
       "\n",
       "    .dataframe thead th {\n",
       "        text-align: right;\n",
       "    }\n",
       "</style>\n",
       "<table border=\"1\" class=\"dataframe\">\n",
       "  <thead>\n",
       "    <tr style=\"text-align: right;\">\n",
       "      <th></th>\n",
       "      <th>label</th>\n",
       "    </tr>\n",
       "  </thead>\n",
       "  <tbody>\n",
       "    <tr>\n",
       "      <th>0</th>\n",
       "      <td>1</td>\n",
       "    </tr>\n",
       "    <tr>\n",
       "      <th>1</th>\n",
       "      <td>0</td>\n",
       "    </tr>\n",
       "    <tr>\n",
       "      <th>2</th>\n",
       "      <td>1</td>\n",
       "    </tr>\n",
       "    <tr>\n",
       "      <th>3</th>\n",
       "      <td>1</td>\n",
       "    </tr>\n",
       "    <tr>\n",
       "      <th>4</th>\n",
       "      <td>1</td>\n",
       "    </tr>\n",
       "    <tr>\n",
       "      <th>...</th>\n",
       "      <td>...</td>\n",
       "    </tr>\n",
       "    <tr>\n",
       "      <th>2837</th>\n",
       "      <td>0</td>\n",
       "    </tr>\n",
       "    <tr>\n",
       "      <th>2838</th>\n",
       "      <td>1</td>\n",
       "    </tr>\n",
       "    <tr>\n",
       "      <th>2839</th>\n",
       "      <td>0</td>\n",
       "    </tr>\n",
       "    <tr>\n",
       "      <th>2840</th>\n",
       "      <td>1</td>\n",
       "    </tr>\n",
       "    <tr>\n",
       "      <th>2841</th>\n",
       "      <td>1</td>\n",
       "    </tr>\n",
       "  </tbody>\n",
       "</table>\n",
       "<p>2842 rows × 1 columns</p>\n",
       "</div>"
      ],
      "text/plain": [
       "      label\n",
       "0         1\n",
       "1         0\n",
       "2         1\n",
       "3         1\n",
       "4         1\n",
       "...     ...\n",
       "2837      0\n",
       "2838      1\n",
       "2839      0\n",
       "2840      1\n",
       "2841      1\n",
       "\n",
       "[2842 rows x 1 columns]"
      ]
     },
     "metadata": {}
    }
   ],
   "metadata": {}
  },
  {
   "cell_type": "markdown",
   "source": [
    "Xây dựng một Tokenizer dựa trên training data. Ta sẽ đại diện cho một comment là một vector 100 chiều. Vì như ở projec 2, ta phân tích được rằng một comment của ta có khoảng cao nhất là loanh quanh 80 từ. Ngoài ra, ta cũng cần padding dữ liệu bằng các con số 0 vào đầu mỗi comment khi số từ của comment đó không đủ 100 từ, lúc này Tokenizer thực hiện indexing cho các kí tự. Lúc này toàn bộ các comment của chúng ta sẽ có cùng một chiều dài vector là 100."
   ],
   "metadata": {}
  },
  {
   "cell_type": "code",
   "execution_count": 8,
   "source": [
    "X_train_comments = Model.convertToNFX(X_train['normalize_comment'], 'NFC')\n",
    "X_test_comments = Model.convertToNFX(X_test['normalize_comment'], 'NFC')"
   ],
   "outputs": [],
   "metadata": {}
  },
  {
   "cell_type": "code",
   "execution_count": 9,
   "source": [
    "tokenizer = DeepModel.tokenize(X_train_comments)\n",
    "token_train_cmts = tokenizer.texts_to_sequences(X_train_comments)\n",
    "padded_train_cmts = DeepModel.padding(token_train_cmts)"
   ],
   "outputs": [],
   "metadata": {}
  },
  {
   "cell_type": "markdown",
   "source": [
    "Chúng ta sẽ sử dụng 10 neuron cho LSTM layer, dùng hàm softmax để tránh đạo hàm rơi vào vùng bão hòa và ta cũng cần giá trị xác suất để tiến hành hợp nhất với emoji sentiment model. Dropout ta chọn 20% để hạn chế overfitting."
   ],
   "metadata": {}
  },
  {
   "cell_type": "code",
   "execution_count": 10,
   "source": [
    "vocab_size = len(tokenizer.word_index) + 1\n",
    "embedding_dim = padded_train_cmts.shape[1]\n",
    "neurons = 10\n",
    "dropout = 0.2\n",
    "\n",
    "lstm_model = DeepModel.defineLSTM(vocab_size, embedding_dim, neurons, dropout)"
   ],
   "outputs": [],
   "metadata": {}
  },
  {
   "cell_type": "code",
   "execution_count": 11,
   "source": [
    "lstm_model.summary()\n",
    "plot_model(lstm_model, to_file=\"./images/LSTM_sentiment.png\", show_shapes=True, show_layer_names=True)"
   ],
   "outputs": [
    {
     "output_type": "stream",
     "name": "stdout",
     "text": [
      "Model: \"sequential\"\n",
      "_________________________________________________________________\n",
      "Layer (type)                 Output Shape              Param #   \n",
      "=================================================================\n",
      "embedding (Embedding)        (None, 100, 100)          358500    \n",
      "_________________________________________________________________\n",
      "lstm (LSTM)                  (None, 10)                4440      \n",
      "_________________________________________________________________\n",
      "output (Dense)               (None, 2)                 22        \n",
      "=================================================================\n",
      "Total params: 362,962\n",
      "Trainable params: 362,962\n",
      "Non-trainable params: 0\n",
      "_________________________________________________________________\n",
      "('You must install pydot (`pip install pydot`) and install graphviz (see instructions at https://graphviz.gitlab.io/download/) ', 'for plot_model/model_to_dot to work.')\n"
     ]
    }
   ],
   "metadata": {}
  },
  {
   "cell_type": "code",
   "execution_count": 31,
   "source": [
    "batch_size = 32\n",
    "epochs = 10\n",
    "save_path = \"./models/LSTM_sentiment.h5\"\n",
    "DeepModel.fit(lstm_model, padded_train_cmts, y_train, batch_size, epochs, save_path) "
   ],
   "outputs": [
    {
     "output_type": "stream",
     "name": "stdout",
     "text": [
      "Epoch 1/10\n",
      "320/320 [==============================] - 19s 58ms/step - loss: 0.0948 - accuracy: 0.9697 - val_loss: 0.4694 - val_accuracy: 0.8663\n",
      "Epoch 2/10\n",
      "320/320 [==============================] - 18s 57ms/step - loss: 0.0916 - accuracy: 0.9708 - val_loss: 0.4847 - val_accuracy: 0.8575\n",
      "Epoch 3/10\n",
      "320/320 [==============================] - 17s 53ms/step - loss: 0.0921 - accuracy: 0.9688 - val_loss: 0.5059 - val_accuracy: 0.8566\n",
      "Epoch 4/10\n",
      "320/320 [==============================] - 17s 52ms/step - loss: 0.0864 - accuracy: 0.9725 - val_loss: 0.5175 - val_accuracy: 0.8558\n",
      "Epoch 5/10\n",
      "320/320 [==============================] - 18s 56ms/step - loss: 0.0822 - accuracy: 0.9738 - val_loss: 0.5470 - val_accuracy: 0.8522\n",
      "Epoch 6/10\n",
      "320/320 [==============================] - 18s 57ms/step - loss: 0.0784 - accuracy: 0.9750 - val_loss: 0.5486 - val_accuracy: 0.8505\n",
      "Epoch 7/10\n",
      "320/320 [==============================] - 18s 56ms/step - loss: 0.0740 - accuracy: 0.9778 - val_loss: 0.5545 - val_accuracy: 0.8566\n",
      "Epoch 8/10\n",
      "320/320 [==============================] - 18s 57ms/step - loss: 0.0770 - accuracy: 0.9759 - val_loss: 0.5232 - val_accuracy: 0.8549\n",
      "Epoch 9/10\n",
      "320/320 [==============================] - 18s 55ms/step - loss: 0.0717 - accuracy: 0.9765 - val_loss: 0.5792 - val_accuracy: 0.8566\n",
      "Epoch 10/10\n",
      "320/320 [==============================] - 17s 55ms/step - loss: 0.0685 - accuracy: 0.9789 - val_loss: 0.5825 - val_accuracy: 0.8540\n",
      "<keras.callbacks.History object at 0x7ff003a76f70>\n"
     ]
    }
   ],
   "metadata": {}
  },
  {
   "cell_type": "code",
   "execution_count": 13,
   "source": [
    "!tensorboard --logdir ./tb_log_sentiment --port 6006"
   ],
   "outputs": [
    {
     "output_type": "stream",
     "name": "stdout",
     "text": [
      "2021-10-28 21:25:23.164704: W tensorflow/stream_executor/platform/default/dso_loader.cc:64] Could not load dynamic library 'libcudart.so.11.0'; dlerror: libcudart.so.11.0: cannot open shared object file: No such file or directory; LD_LIBRARY_PATH: /usr/lib/cuda/include:/usr/lib/cuda/lib64:\n",
      "2021-10-28 21:25:23.164733: I tensorflow/stream_executor/cuda/cudart_stub.cc:29] Ignore above cudart dlerror if you do not have a GPU set up on your machine.\n",
      "2021-10-28 21:25:30.162308: I tensorflow/stream_executor/cuda/cuda_gpu_executor.cc:937] successful NUMA node read from SysFS had negative value (-1), but there must be at least one NUMA node, so returning NUMA node zero\n",
      "2021-10-28 21:25:30.163296: W tensorflow/stream_executor/platform/default/dso_loader.cc:64] Could not load dynamic library 'libcudart.so.11.0'; dlerror: libcudart.so.11.0: cannot open shared object file: No such file or directory; LD_LIBRARY_PATH: /usr/lib/cuda/include:/usr/lib/cuda/lib64:\n",
      "2021-10-28 21:25:30.163531: W tensorflow/stream_executor/platform/default/dso_loader.cc:64] Could not load dynamic library 'libcublas.so.11'; dlerror: libcublas.so.11: cannot open shared object file: No such file or directory; LD_LIBRARY_PATH: /usr/lib/cuda/include:/usr/lib/cuda/lib64:\n",
      "2021-10-28 21:25:30.163730: W tensorflow/stream_executor/platform/default/dso_loader.cc:64] Could not load dynamic library 'libcublasLt.so.11'; dlerror: libcublasLt.so.11: cannot open shared object file: No such file or directory; LD_LIBRARY_PATH: /usr/lib/cuda/include:/usr/lib/cuda/lib64:\n",
      "2021-10-28 21:25:30.175088: W tensorflow/stream_executor/platform/default/dso_loader.cc:64] Could not load dynamic library 'libcusolver.so.11'; dlerror: libcusolver.so.11: cannot open shared object file: No such file or directory; LD_LIBRARY_PATH: /usr/lib/cuda/include:/usr/lib/cuda/lib64:\n",
      "2021-10-28 21:25:30.175321: W tensorflow/stream_executor/platform/default/dso_loader.cc:64] Could not load dynamic library 'libcusparse.so.11'; dlerror: libcusparse.so.11: cannot open shared object file: No such file or directory; LD_LIBRARY_PATH: /usr/lib/cuda/include:/usr/lib/cuda/lib64:\n",
      "2021-10-28 21:25:30.176016: W tensorflow/core/common_runtime/gpu/gpu_device.cc:1835] Cannot dlopen some GPU libraries. Please make sure the missing libraries mentioned above are installed properly if you would like to use GPU. Follow the guide at https://www.tensorflow.org/install/gpu for how to download and setup the required libraries for your platform.\n",
      "Skipping registering GPU devices...\n",
      "\n",
      "NOTE: Using experimental fast data loading logic. To disable, pass\n",
      "    \"--load_fast=false\" and report issues on GitHub. More details:\n",
      "    https://github.com/tensorflow/tensorboard/issues/4784\n",
      "\n",
      "Serving TensorBoard on localhost; to expose to the network, use a proxy or pass --bind_all\n",
      "TensorBoard 2.7.0 at http://localhost:6006/ (Press CTRL+C to quit)\n",
      "^C\n"
     ]
    }
   ],
   "metadata": {}
  },
  {
   "cell_type": "markdown",
   "source": [
    "![](./images/10.png)"
   ],
   "metadata": {}
  },
  {
   "cell_type": "markdown",
   "source": [
    "> **Nhận xét**:\n",
    "> * Đây là line chart trên accuracy và loss do TensorBoard vẽ ra, với màu xanh là của validation data và cam là training data.\n",
    "> * Ta thấy kể từ sau epoch đầu tiên thì giữa validation và train bắt đầu có sự khác biệt, chứng tỏ model đang bị overfitting."
   ],
   "metadata": {}
  },
  {
   "cell_type": "markdown",
   "source": [
    "Tiếp theo, ta sẽ tokenizer cho test data để tiến hành đánh giá trên test data."
   ],
   "metadata": {}
  },
  {
   "cell_type": "code",
   "execution_count": 14,
   "source": [
    "token_test_cmts = tokenizer.texts_to_sequences(X_test_comments)\n",
    "padded_test_cmts = DeepModel.padding(token_test_cmts)"
   ],
   "outputs": [],
   "metadata": {}
  },
  {
   "cell_type": "code",
   "execution_count": 19,
   "source": [
    "prediction = lstm_model.predict(padded_test_cmts)\n",
    "inverted = np.argmax(prediction, axis=1)\n",
    "Model.confusionMatrix(y_test, inverted)"
   ],
   "outputs": [
    {
     "output_type": "stream",
     "name": "stdout",
     "text": [
      "              precision    recall  f1-score   support\n",
      "\n",
      "    Negative       0.86      0.87      0.87      1410\n",
      "    Positive       0.87      0.86      0.87      1432\n",
      "\n",
      "    accuracy                           0.87      2842\n",
      "   macro avg       0.87      0.87      0.87      2842\n",
      "weighted avg       0.87      0.87      0.87      2842\n",
      "\n"
     ]
    },
    {
     "output_type": "display_data",
     "data": {
      "image/png": "[encoded data removed]",
      "text/plain": [
       "<Figure size 432x288 with 2 Axes>"
      ]
     },
     "metadata": {
      "needs_background": "light"
     }
    }
   ],
   "metadata": {}
  },
  {
   "cell_type": "markdown",
   "source": [
    "Do ta có áp dụng checkpoint trong model để lưu lại các bộ tham số tốt nhất trong quá trình training, ta có thể lấy bộ tham số mà có validation loss thấp nhất để update trọng số cho model."
   ],
   "metadata": {}
  },
  {
   "cell_type": "code",
   "execution_count": 27,
   "source": [
    "lstm_model_uw = DeepModel.defineLSTM(vocab_size, embedding_dim, neurons, dropout)\n",
    "lstm_model_uw.load_weights(\"./models/LSTM_sentiment/weights/02-0.333198.h5\")"
   ],
   "outputs": [],
   "metadata": {}
  },
  {
   "cell_type": "code",
   "execution_count": 28,
   "source": [
    "prediction = lstm_model_uw.predict(padded_test_cmts)\n",
    "inverted = np.argmax(prediction, axis=1)\n",
    "Model.confusionMatrix(y_test, inverted)"
   ],
   "outputs": [
    {
     "output_type": "stream",
     "name": "stdout",
     "text": [
      "              precision    recall  f1-score   support\n",
      "\n",
      "    Negative       0.85      0.89      0.87      1410\n",
      "    Positive       0.89      0.85      0.87      1432\n",
      "\n",
      "    accuracy                           0.87      2842\n",
      "   macro avg       0.87      0.87      0.87      2842\n",
      "weighted avg       0.87      0.87      0.87      2842\n",
      "\n"
     ]
    },
    {
     "output_type": "display_data",
     "data": {
      "image/png": "[encoded data removed]",
      "text/plain": [
       "<Figure size 432x288 with 2 Axes>"
      ]
     },
     "metadata": {
      "needs_background": "light"
     }
    }
   ],
   "metadata": {}
  },
  {
   "cell_type": "markdown",
   "source": [
    "> **Nhận xét**:\n",
    "> * So với các **Traditional machine learning** model mà ta đã đào tạo ở file `07.model.ipynb` - chúng có xu hướng dự đoán nhầm các mẫu thuộc nhóm **positive** sang **negative**, thì với Deep Learning điều này được khắc phục phần nào.\n",
    "> * Tuy nhiên, nó lại bắt đầu nhầm từ các mẫu theo đúng là **negative** nhưng lại dự đoán sang **positive**.\n",
    "> * Nhưng nhìn chung, ta thấy model LSTM dự đoán có sự cân bằng giữa các nhóm, accuracy hơn 85% trên dữ liệu dạng text như vậy là đáng mừng."
   ],
   "metadata": {}
  },
  {
   "cell_type": "markdown",
   "source": [
    "Ta sẽ thử tăng số neuron lên thành 50 và đào tạo qua 20 epoch để đánh giá lại."
   ],
   "metadata": {}
  },
  {
   "cell_type": "code",
   "execution_count": 20,
   "source": [
    "epochs = 20\n",
    "neurons = 50\n",
    "save_path = \"./models/LSTM_sentiment_50n_20e.h5\"\n",
    "\n",
    "lstm_model_50n = DeepModel.defineLSTM(vocab_size, embedding_dim, neurons, dropout)\n",
    "DeepModel.fit(lstm_model_50n, padded_train_cmts, y_train, batch_size, epochs, save_path) "
   ],
   "outputs": [
    {
     "output_type": "stream",
     "name": "stdout",
     "text": [
      "Epoch 1/20\n",
      "320/320 [==============================] - 20s 57ms/step - loss: 0.3975 - accuracy: 0.8308 - val_loss: 0.3298 - val_accuracy: 0.8637\n",
      "Epoch 2/20\n",
      "320/320 [==============================] - 19s 58ms/step - loss: 0.2739 - accuracy: 0.8935 - val_loss: 0.3361 - val_accuracy: 0.8707\n",
      "Epoch 3/20\n",
      "320/320 [==============================] - 21s 66ms/step - loss: 0.2342 - accuracy: 0.9128 - val_loss: 0.3277 - val_accuracy: 0.8690\n",
      "Epoch 4/20\n",
      "320/320 [==============================] - 20s 63ms/step - loss: 0.2076 - accuracy: 0.9243 - val_loss: 0.3464 - val_accuracy: 0.8628\n",
      "Epoch 5/20\n",
      "320/320 [==============================] - 19s 60ms/step - loss: 0.1877 - accuracy: 0.9311 - val_loss: 0.3558 - val_accuracy: 0.8628\n",
      "Epoch 6/20\n",
      "320/320 [==============================] - 19s 60ms/step - loss: 0.1695 - accuracy: 0.9391 - val_loss: 0.3763 - val_accuracy: 0.8558\n",
      "Epoch 7/20\n",
      "320/320 [==============================] - 19s 59ms/step - loss: 0.1543 - accuracy: 0.9439 - val_loss: 0.3788 - val_accuracy: 0.8602\n",
      "Epoch 8/20\n",
      "320/320 [==============================] - 19s 60ms/step - loss: 0.1385 - accuracy: 0.9526 - val_loss: 0.4049 - val_accuracy: 0.8558\n",
      "Epoch 9/20\n",
      "320/320 [==============================] - 19s 60ms/step - loss: 0.1313 - accuracy: 0.9513 - val_loss: 0.4222 - val_accuracy: 0.8478\n",
      "Epoch 10/20\n",
      "320/320 [==============================] - 19s 60ms/step - loss: 0.1273 - accuracy: 0.9547 - val_loss: 0.4302 - val_accuracy: 0.8610\n",
      "Epoch 11/20\n",
      "320/320 [==============================] - 19s 60ms/step - loss: 0.1128 - accuracy: 0.9611 - val_loss: 0.5164 - val_accuracy: 0.8487\n",
      "Epoch 12/20\n",
      "320/320 [==============================] - 19s 60ms/step - loss: 0.1006 - accuracy: 0.9651 - val_loss: 0.4850 - val_accuracy: 0.8470\n",
      "Epoch 13/20\n",
      "320/320 [==============================] - 19s 61ms/step - loss: 0.0957 - accuracy: 0.9679 - val_loss: 0.5412 - val_accuracy: 0.8505\n",
      "Epoch 14/20\n",
      "320/320 [==============================] - 20s 61ms/step - loss: 0.0990 - accuracy: 0.9672 - val_loss: 0.5295 - val_accuracy: 0.8514\n",
      "Epoch 15/20\n",
      "320/320 [==============================] - 19s 60ms/step - loss: 0.0831 - accuracy: 0.9719 - val_loss: 0.5806 - val_accuracy: 0.8443\n",
      "Epoch 16/20\n",
      "320/320 [==============================] - 20s 63ms/step - loss: 0.0829 - accuracy: 0.9716 - val_loss: 0.6152 - val_accuracy: 0.8478\n",
      "Epoch 17/20\n",
      "320/320 [==============================] - 20s 61ms/step - loss: 0.0729 - accuracy: 0.9754 - val_loss: 0.6281 - val_accuracy: 0.8540\n",
      "Epoch 18/20\n",
      "320/320 [==============================] - 20s 61ms/step - loss: 0.0668 - accuracy: 0.9780 - val_loss: 0.6421 - val_accuracy: 0.8478\n",
      "Epoch 19/20\n",
      "320/320 [==============================] - 19s 61ms/step - loss: 0.0649 - accuracy: 0.9783 - val_loss: 0.6704 - val_accuracy: 0.8408\n",
      "Epoch 20/20\n",
      "320/320 [==============================] - 19s 60ms/step - loss: 0.0613 - accuracy: 0.9791 - val_loss: 0.7083 - val_accuracy: 0.8470\n",
      "<keras.callbacks.History object at 0x7ff00325e2e0>\n"
     ]
    }
   ],
   "metadata": {}
  },
  {
   "cell_type": "code",
   "execution_count": 22,
   "source": [
    "!tensorboard --logdir ./tb_log_sentiment --port 6006"
   ],
   "outputs": [
    {
     "output_type": "stream",
     "name": "stdout",
     "text": [
      "2021-10-28 21:49:19.299248: W tensorflow/stream_executor/platform/default/dso_loader.cc:64] Could not load dynamic library 'libcudart.so.11.0'; dlerror: libcudart.so.11.0: cannot open shared object file: No such file or directory; LD_LIBRARY_PATH: /usr/lib/cuda/include:/usr/lib/cuda/lib64:\n",
      "2021-10-28 21:49:19.299268: I tensorflow/stream_executor/cuda/cudart_stub.cc:29] Ignore above cudart dlerror if you do not have a GPU set up on your machine.\n",
      "2021-10-28 21:49:20.102752: I tensorflow/stream_executor/cuda/cuda_gpu_executor.cc:937] successful NUMA node read from SysFS had negative value (-1), but there must be at least one NUMA node, so returning NUMA node zero\n",
      "2021-10-28 21:49:20.103100: W tensorflow/stream_executor/platform/default/dso_loader.cc:64] Could not load dynamic library 'libcudart.so.11.0'; dlerror: libcudart.so.11.0: cannot open shared object file: No such file or directory; LD_LIBRARY_PATH: /usr/lib/cuda/include:/usr/lib/cuda/lib64:\n",
      "2021-10-28 21:49:20.103160: W tensorflow/stream_executor/platform/default/dso_loader.cc:64] Could not load dynamic library 'libcublas.so.11'; dlerror: libcublas.so.11: cannot open shared object file: No such file or directory; LD_LIBRARY_PATH: /usr/lib/cuda/include:/usr/lib/cuda/lib64:\n",
      "2021-10-28 21:49:20.103212: W tensorflow/stream_executor/platform/default/dso_loader.cc:64] Could not load dynamic library 'libcublasLt.so.11'; dlerror: libcublasLt.so.11: cannot open shared object file: No such file or directory; LD_LIBRARY_PATH: /usr/lib/cuda/include:/usr/lib/cuda/lib64:\n",
      "2021-10-28 21:49:20.104642: W tensorflow/stream_executor/platform/default/dso_loader.cc:64] Could not load dynamic library 'libcusolver.so.11'; dlerror: libcusolver.so.11: cannot open shared object file: No such file or directory; LD_LIBRARY_PATH: /usr/lib/cuda/include:/usr/lib/cuda/lib64:\n",
      "2021-10-28 21:49:20.104696: W tensorflow/stream_executor/platform/default/dso_loader.cc:64] Could not load dynamic library 'libcusparse.so.11'; dlerror: libcusparse.so.11: cannot open shared object file: No such file or directory; LD_LIBRARY_PATH: /usr/lib/cuda/include:/usr/lib/cuda/lib64:\n",
      "2021-10-28 21:49:20.104776: W tensorflow/core/common_runtime/gpu/gpu_device.cc:1835] Cannot dlopen some GPU libraries. Please make sure the missing libraries mentioned above are installed properly if you would like to use GPU. Follow the guide at https://www.tensorflow.org/install/gpu for how to download and setup the required libraries for your platform.\n",
      "Skipping registering GPU devices...\n",
      "\n",
      "NOTE: Using experimental fast data loading logic. To disable, pass\n",
      "    \"--load_fast=false\" and report issues on GitHub. More details:\n",
      "    https://github.com/tensorflow/tensorboard/issues/4784\n",
      "\n",
      "Serving TensorBoard on localhost; to expose to the network, use a proxy or pass --bind_all\n",
      "TensorBoard 2.7.0 at http://localhost:6006/ (Press CTRL+C to quit)\n",
      "^C\n"
     ]
    }
   ],
   "metadata": {}
  },
  {
   "cell_type": "markdown",
   "source": [
    "![](./images/11.png)"
   ],
   "metadata": {}
  },
  {
   "cell_type": "markdown",
   "source": [
    "> **Nhận xét**:\n",
    "> * Model này thể hiện rõ sự overfitting, khả năng cao nó cho ra kết quả accuracy không tốt bằng so với model với 10 neuron trước đó."
   ],
   "metadata": {}
  },
  {
   "cell_type": "code",
   "execution_count": 23,
   "source": [
    "prediction = lstm_model_50n.predict(padded_test_cmts)\n",
    "inverted = np.argmax(prediction, axis=1)\n",
    "Model.confusionMatrix(y_test, inverted)"
   ],
   "outputs": [
    {
     "output_type": "stream",
     "name": "stdout",
     "text": [
      "              precision    recall  f1-score   support\n",
      "\n",
      "    Negative       0.85      0.86      0.85      1410\n",
      "    Positive       0.86      0.85      0.85      1432\n",
      "\n",
      "    accuracy                           0.85      2842\n",
      "   macro avg       0.85      0.85      0.85      2842\n",
      "weighted avg       0.85      0.85      0.85      2842\n",
      "\n"
     ]
    },
    {
     "output_type": "display_data",
     "data": {
      "image/png": "[encoded data removed]",
      "text/plain": [
       "<Figure size 432x288 with 2 Axes>"
      ]
     },
     "metadata": {
      "needs_background": "light"
     }
    }
   ],
   "metadata": {}
  },
  {
   "cell_type": "code",
   "execution_count": 24,
   "source": [
    "lstm_model_50n_uw = DeepModel.defineLSTM(vocab_size, embedding_dim, neurons, dropout)\n",
    "lstm_model_50n_uw.load_weights(\"./models/LSTM_sentiment_50n_20e/weights/03-0.327739.h5\")"
   ],
   "outputs": [],
   "metadata": {}
  },
  {
   "cell_type": "code",
   "execution_count": 25,
   "source": [
    "prediction = lstm_model_50n_uw.predict(padded_test_cmts)\n",
    "inverted = np.argmax(prediction, axis=1)\n",
    "Model.confusionMatrix(y_test, inverted)"
   ],
   "outputs": [
    {
     "output_type": "stream",
     "name": "stdout",
     "text": [
      "              precision    recall  f1-score   support\n",
      "\n",
      "    Negative       0.86      0.88      0.87      1410\n",
      "    Positive       0.88      0.86      0.87      1432\n",
      "\n",
      "    accuracy                           0.87      2842\n",
      "   macro avg       0.87      0.87      0.87      2842\n",
      "weighted avg       0.87      0.87      0.87      2842\n",
      "\n"
     ]
    },
    {
     "output_type": "display_data",
     "data": {
      "image/png": "[encoded data removed]",
      "text/plain": [
       "<Figure size 432x288 with 2 Axes>"
      ]
     },
     "metadata": {
      "needs_background": "light"
     }
    }
   ],
   "metadata": {}
  },
  {
   "cell_type": "markdown",
   "source": [
    "> **Nhận xét**:\n",
    "> * Dù với model 100 neuron thì kết quả đem lại vẫn không khả quan, điều này xảy ra có thể bởi vì dữ liệu của chúng ta không thật sự tốt, nhớ lại project 1, ta cho các review có 4 hoặc 5 sao là positive và từ 3 sao trở xuống là negative. Vậy câu hỏi đặt ra là ta phân lớp như vậy liệu có đúng.\n",
    "> * Không loại trừ khả năng các khách hàng 3 sao là họ thuộc nhóm khách hàng bình thường, tức họ không thích cũng không ghét sản phẩm nhưng do dữ liệu của positive chiếm đa số mà ta đã vô tình ép họ vào nhóm negative.\n",
    "> * Một điều nữa, có thể ta chưa khử noise tốt, nhiều comment mặc dù nhìn mặt chữ là khen nhưng đánh giá lại thấp sao và ngược lại. Điều này rất khó để kiểm soát vì với nhân lực của nhóm chỉ có 2 người và về tính khả quan ta không thể nào có thể sàn lọc kĩ càng các comment thuộc dạng này, hơn nữa nếu sài yếu tố con người thì ta đang vô tình tác động tính chất chủ quan của con người vào quá trình đào tạo model."
   ],
   "metadata": {}
  },
  {
   "cell_type": "markdown",
   "source": [
    "Chúng ta hoàn toàn có thể tối ưu hóa cho các HYper Parameter, nhưng nhìn chung rất có thể lỗi hiện tại của chúng ta là **variance error**, tức lỗi từ dữ liệu chứ không phải **bias error**.\n",
    "\n",
    "Điều nữa là việc tối ưu hóa tham số cho một Deep Neural Network là rất tốn công sức, nhưng nhóm vẫn muốn trình bày một kĩ thuật là HyperBand, đây là bài báo của tác giả [https://arxiv.org/pdf/1603.06560.pdf](https://arxiv.org/pdf/1603.06560.pdf). Ý tưởng chính của phương pháp này là với $n$ HyperParameters set ban đầu được lấy từ GridSearch gồm $m$ hyperparameters set ($n < m$) do ta định nghĩa. Ta sẽ tiến hành train và đánh giá bằng một vài phép toán, qua các lần đào tạo trên từng model, ta chọn ra các model có hiệu suất tốt nhất và loại bỏ các model có performance thấp hơn (nhờ các phép toán thống kê và xác suất). Tiếp theo, người ta tiến hành cải thiện weight trên các model còn sót lại. Cứ như thế số model còn tồn tại sau cùng của quá trình là các model tốt nhất. Tuy nhiên nếu data của ta không tốt thì khi áp dụng phương pháp này sẽ gây ra overfitting.\n",
    "\n",
    "Đây là một model phân lớp dữ liệu MNIST có sử dụng phương pháp hyperband này để tối ưu hóa tham số, và với một tập dữ liệu đẹp như MNIST thì phương pháp này cực kì ổn. [https://github.com/PacktPublishing/Deep-Learning-Quick-Reference/tree/master/Chapter06](https://github.com/PacktPublishing/Deep-Learning-Quick-Reference/tree/master/Chapter06)"
   ],
   "metadata": {}
  },
  {
   "cell_type": "code",
   "execution_count": 33,
   "source": [
    "lstm_model_final = DeepModel.SentimentLSTM(lstm_model_uw, tokenizer)"
   ],
   "outputs": [],
   "metadata": {}
  },
  {
   "cell_type": "code",
   "execution_count": 37,
   "source": [
    "tmp = lstm_model_final.predict(X_test_comments)"
   ],
   "outputs": [],
   "metadata": {}
  },
  {
   "cell_type": "code",
   "execution_count": 38,
   "source": [
    "tmp"
   ],
   "outputs": [
    {
     "output_type": "execute_result",
     "data": {
      "text/html": [
       "<div>\n",
       "<style scoped>\n",
       "    .dataframe tbody tr th:only-of-type {\n",
       "        vertical-align: middle;\n",
       "    }\n",
       "\n",
       "    .dataframe tbody tr th {\n",
       "        vertical-align: top;\n",
       "    }\n",
       "\n",
       "    .dataframe thead th {\n",
       "        text-align: right;\n",
       "    }\n",
       "</style>\n",
       "<table border=\"1\" class=\"dataframe\">\n",
       "  <thead>\n",
       "    <tr style=\"text-align: right;\">\n",
       "      <th></th>\n",
       "      <th>input</th>\n",
       "      <th>output_proba</th>\n",
       "      <th>output_class</th>\n",
       "    </tr>\n",
       "  </thead>\n",
       "  <tbody>\n",
       "    <tr>\n",
       "      <th>0</th>\n",
       "      <td>bán hàng kỉ quấn đầy đủ chất lượng ok đồ chuẩn...</td>\n",
       "      <td>(0.0009966072, 0.99900347)</td>\n",
       "      <td>1</td>\n",
       "    </tr>\n",
       "    <tr>\n",
       "      <th>1</th>\n",
       "      <td>đặt xl áo ghi xl nhưng bé tí tẹo ngang size mì...</td>\n",
       "      <td>(0.99316263, 0.0068374383)</td>\n",
       "      <td>0</td>\n",
       "    </tr>\n",
       "    <tr>\n",
       "      <th>2</th>\n",
       "      <td>kẹp rất rất đẹp săn được giá sale hôm chỉ giá ...</td>\n",
       "      <td>(0.5307486, 0.46925136)</td>\n",
       "      <td>0</td>\n",
       "    </tr>\n",
       "    <tr>\n",
       "      <th>3</th>\n",
       "      <td>không nghĩ áo đẹp giao hàng nhanh không bình t...</td>\n",
       "      <td>(0.02204431, 0.97795576)</td>\n",
       "      <td>1</td>\n",
       "    </tr>\n",
       "    <tr>\n",
       "      <th>4</th>\n",
       "      <td>hôm nay mới nhận được nhưng nhìn qua thấy cũng...</td>\n",
       "      <td>(0.8622492, 0.1377508)</td>\n",
       "      <td>0</td>\n",
       "    </tr>\n",
       "    <tr>\n",
       "      <th>...</th>\n",
       "      <td>...</td>\n",
       "      <td>...</td>\n",
       "      <td>...</td>\n",
       "    </tr>\n",
       "    <tr>\n",
       "      <th>2837</th>\n",
       "      <td>đặt dây buộc tóc nhưng chỉ nhận được cái nhắn ...</td>\n",
       "      <td>(0.9942146, 0.0057854448)</td>\n",
       "      <td>0</td>\n",
       "    </tr>\n",
       "    <tr>\n",
       "      <th>2838</th>\n",
       "      <td>chất vải đẹp có vẻ mát giao hàng nhanh chóng đ...</td>\n",
       "      <td>(0.028606944, 0.971393)</td>\n",
       "      <td>1</td>\n",
       "    </tr>\n",
       "    <tr>\n",
       "      <th>2839</th>\n",
       "      <td>dây nhìn tạm không đẹp mắc sai dây phải ngồi c...</td>\n",
       "      <td>(0.99471915, 0.005280828)</td>\n",
       "      <td>0</td>\n",
       "    </tr>\n",
       "    <tr>\n",
       "      <th>2840</th>\n",
       "      <td>quần đẹp chất lượng ok nhưng chữ của quần màu ...</td>\n",
       "      <td>(0.6221042, 0.37789577)</td>\n",
       "      <td>0</td>\n",
       "    </tr>\n",
       "    <tr>\n",
       "      <th>2841</th>\n",
       "      <td>ok hơi chật tí</td>\n",
       "      <td>(0.085639805, 0.91436017)</td>\n",
       "      <td>1</td>\n",
       "    </tr>\n",
       "  </tbody>\n",
       "</table>\n",
       "<p>2842 rows × 3 columns</p>\n",
       "</div>"
      ],
      "text/plain": [
       "                                                  input  \\\n",
       "0     bán hàng kỉ quấn đầy đủ chất lượng ok đồ chuẩn...   \n",
       "1     đặt xl áo ghi xl nhưng bé tí tẹo ngang size mì...   \n",
       "2     kẹp rất rất đẹp săn được giá sale hôm chỉ giá ...   \n",
       "3     không nghĩ áo đẹp giao hàng nhanh không bình t...   \n",
       "4     hôm nay mới nhận được nhưng nhìn qua thấy cũng...   \n",
       "...                                                 ...   \n",
       "2837  đặt dây buộc tóc nhưng chỉ nhận được cái nhắn ...   \n",
       "2838  chất vải đẹp có vẻ mát giao hàng nhanh chóng đ...   \n",
       "2839  dây nhìn tạm không đẹp mắc sai dây phải ngồi c...   \n",
       "2840  quần đẹp chất lượng ok nhưng chữ của quần màu ...   \n",
       "2841                                     ok hơi chật tí   \n",
       "\n",
       "                    output_proba  output_class  \n",
       "0     (0.0009966072, 0.99900347)             1  \n",
       "1     (0.99316263, 0.0068374383)             0  \n",
       "2        (0.5307486, 0.46925136)             0  \n",
       "3       (0.02204431, 0.97795576)             1  \n",
       "4         (0.8622492, 0.1377508)             0  \n",
       "...                          ...           ...  \n",
       "2837   (0.9942146, 0.0057854448)             0  \n",
       "2838     (0.028606944, 0.971393)             1  \n",
       "2839   (0.99471915, 0.005280828)             0  \n",
       "2840     (0.6221042, 0.37789577)             0  \n",
       "2841   (0.085639805, 0.91436017)             1  \n",
       "\n",
       "[2842 rows x 3 columns]"
      ]
     },
     "metadata": {},
     "execution_count": 38
    }
   ],
   "metadata": {}
  },
  {
   "cell_type": "code",
   "execution_count": 43,
   "source": [
    "Model.saveByPickle(tokenizer, \"./models/lstm_model_tokenizer.pickle\")"
   ],
   "outputs": [
    {
     "output_type": "stream",
     "name": "stdout",
     "text": [
      "<keras_preprocessing.text.Tokenizer object at 0x7fef2ca08df0> has been saved at ./models/lstm_model_tokenizer.pickle.\n"
     ]
    }
   ],
   "metadata": {}
  },
  {
   "cell_type": "code",
   "execution_count": 45,
   "source": [
    "lstm_model_uw.save(\"./models/lstm_model_comments.h5\")"
   ],
   "outputs": [],
   "metadata": {}
  },
  {
   "cell_type": "code",
   "execution_count": null,
   "source": [],
   "outputs": [],
   "metadata": {}
  }
 ],
 "metadata": {
  "orig_nbformat": 4,
  "language_info": {
   "name": "python",
   "version": "3.8.10",
   "mimetype": "text/x-python",
   "codemirror_mode": {
    "name": "ipython",
    "version": 3
   },
   "pygments_lexer": "ipython3",
   "nbconvert_exporter": "python",
   "file_extension": ".py"
  },
  "kernelspec": {
   "name": "python3",
   "display_name": "Python 3.8.10 64-bit"
  },
  "interpreter": {
   "hash": "916dbcbb3f70747c44a77c7bcd40155683ae19c65e1c03b4aa3499c5328201f1"
  }
 },
 "nbformat": 4,
 "nbformat_minor": 2
}