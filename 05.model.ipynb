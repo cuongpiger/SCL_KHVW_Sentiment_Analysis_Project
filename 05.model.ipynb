{
 "cells": [
  {
   "cell_type": "code",
   "execution_count": 1,
   "source": [
    "!python --version\n",
    "!pip list"
   ],
   "outputs": [
    {
     "output_type": "stream",
     "name": "stdout",
     "text": [
      "Python 3.6.8 :: Anaconda, Inc.\n",
      "Package                       Version\n",
      "----------------------------- ---------\n",
      "absl-py                       0.13.0\n",
      "astor                         0.8.1\n",
      "backports.functools-lru-cache 1.6.4\n",
      "certifi                       2021.5.30\n",
      "coverage                      5.5\n",
      "cycler                        0.10.0\n",
      "Cython                        0.29.24\n",
      "decorator                     5.1.0\n",
      "emojis                        0.6.0\n",
      "entrypoints                   0.3\n",
      "gast                          0.2.2\n",
      "google-pasta                  0.2.0\n",
      "grpcio                        1.36.1\n",
      "h5py                          2.10.0\n",
      "importlib-metadata            4.8.1\n",
      "ipykernel                     5.5.5\n",
      "ipython                       5.8.0\n",
      "ipython-genutils              0.2.0\n",
      "joblib                        1.1.0\n",
      "jupyter-client                7.0.6\n",
      "jupyter-core                  4.8.1\n",
      "Keras                         2.3.0\n",
      "Keras-Applications            1.0.8\n",
      "Keras-Preprocessing           1.1.2\n",
      "kiwisolver                    1.3.1\n",
      "Markdown                      3.3.4\n",
      "matplotlib                    3.3.4\n",
      "mkl-fft                       1.3.0\n",
      "mkl-random                    1.1.1\n",
      "mkl-service                   2.3.0\n",
      "nest-asyncio                  1.5.1\n",
      "numpy                         1.19.2\n",
      "opt-einsum                    3.3.0\n",
      "pandas                        1.1.5\n",
      "pexpect                       4.8.0\n",
      "pickleshare                   0.7.5\n",
      "Pillow                        8.4.0\n",
      "pip                           21.2.2\n",
      "plotly                        5.3.1\n",
      "prompt-toolkit                1.0.15\n",
      "protobuf                      3.17.2\n",
      "ptyprocess                    0.7.0\n",
      "pydot                         1.4.2\n",
      "Pygments                      2.10.0\n",
      "pyparsing                     2.4.7\n",
      "python-dateutil               2.8.2\n",
      "pytz                          2021.3\n",
      "PyYAML                        6.0\n",
      "pyzmq                         19.0.2\n",
      "scikit-learn                  0.24.2\n",
      "scipy                         1.5.2\n",
      "seaborn                       0.11.2\n",
      "setuptools                    58.0.4\n",
      "simplegeneric                 0.8.1\n",
      "six                           1.16.0\n",
      "tenacity                      8.0.1\n",
      "tensorboard                   2.0.0\n",
      "tensorflow                    2.0.0\n",
      "tensorflow-estimator          2.6.0\n",
      "termcolor                     1.1.0\n",
      "threadpoolctl                 3.0.0\n",
      "tornado                       6.1\n",
      "traitlets                     4.3.3\n",
      "typing-extensions             3.10.0.2\n",
      "wcwidth                       0.2.5\n",
      "Werkzeug                      0.16.1\n",
      "wheel                         0.37.0\n",
      "wrapt                         1.12.1\n",
      "xgboost                       1.5.0\n",
      "zipp                          3.6.0\n"
     ]
    }
   ],
   "metadata": {}
  },
  {
   "cell_type": "code",
   "execution_count": 2,
   "source": [
    "%load_ext autoreload\n",
    "%autoreload 2"
   ],
   "outputs": [],
   "metadata": {}
  },
  {
   "cell_type": "code",
   "execution_count": 3,
   "source": [
    "import modules.model as Model\n",
    "import pandas as pd"
   ],
   "outputs": [],
   "metadata": {}
  },
  {
   "cell_type": "markdown",
   "source": [
    "# Train test split\n",
    "* Phần này tập trung chủ yếu vào việc chuẩn bị dữ liệu trước khi tiến hành đào tạo hàng loạt các model."
   ],
   "metadata": {}
  },
  {
   "cell_type": "markdown",
   "source": [
    "Đọc dữ liệu"
   ],
   "metadata": {}
  },
  {
   "cell_type": "code",
   "execution_count": 4,
   "source": [
    "data = pd.read_csv(\"./data/normalize_reviews.csv\").fillna(\"\")[['raw_comment', 'normalize_comment', 'label']]\n",
    "\n",
    "data.head()"
   ],
   "outputs": [
    {
     "output_type": "execute_result",
     "data": {
      "text/html": [
       "<div>\n",
       "<style scoped>\n",
       "    .dataframe tbody tr th:only-of-type {\n",
       "        vertical-align: middle;\n",
       "    }\n",
       "\n",
       "    .dataframe tbody tr th {\n",
       "        vertical-align: top;\n",
       "    }\n",
       "\n",
       "    .dataframe thead th {\n",
       "        text-align: right;\n",
       "    }\n",
       "</style>\n",
       "<table border=\"1\" class=\"dataframe\">\n",
       "  <thead>\n",
       "    <tr style=\"text-align: right;\">\n",
       "      <th></th>\n",
       "      <th>raw_comment</th>\n",
       "      <th>normalize_comment</th>\n",
       "      <th>label</th>\n",
       "    </tr>\n",
       "  </thead>\n",
       "  <tbody>\n",
       "    <tr>\n",
       "      <th>0</th>\n",
       "      <td>Giao hàng kh đúng cần phê bình hjjjjjhhd...</td>\n",
       "      <td>giao hàng không đúng cần phê bình</td>\n",
       "      <td>0</td>\n",
       "    </tr>\n",
       "    <tr>\n",
       "      <th>1</th>\n",
       "      <td>Chất lượng sản phẩm tạm được. Giao...</td>\n",
       "      <td>chất lượng sản phẩm tạm được giao ...</td>\n",
       "      <td>0</td>\n",
       "    </tr>\n",
       "    <tr>\n",
       "      <th>2</th>\n",
       "      <td>Ko có lắc tay như hình</td>\n",
       "      <td>không có lắc tay như hình</td>\n",
       "      <td>0</td>\n",
       "    </tr>\n",
       "    <tr>\n",
       "      <th>3</th>\n",
       "      <td>Giao hàng lâu. Bảo có lắc tay mà k thâ...</td>\n",
       "      <td>giao hàng lâu bảo có lắc tay mà không ...</td>\n",
       "      <td>0</td>\n",
       "    </tr>\n",
       "    <tr>\n",
       "      <th>4</th>\n",
       "      <td>Mình mua 2 cái, một dùng ok. Một cái k...</td>\n",
       "      <td>mua cái một dùng ok một cái không chạ...</td>\n",
       "      <td>0</td>\n",
       "    </tr>\n",
       "  </tbody>\n",
       "</table>\n",
       "</div>"
      ],
      "text/plain": [
       "                                         raw_comment  \\\n",
       "0  Giao hàng kh đúng cần phê bình hjjjjjhhd...   \n",
       "1  Chất lượng sản phẩm tạm được. Giao...   \n",
       "2                        Ko có lắc tay như hình   \n",
       "3  Giao hàng lâu. Bảo có lắc tay mà k thâ...   \n",
       "4  Mình mua 2 cái, một dùng ok. Một cái k...   \n",
       "\n",
       "                                   normalize_comment  label  \n",
       "0           giao hàng không đúng cần phê bình      0  \n",
       "1  chất lượng sản phẩm tạm được giao ...      0  \n",
       "2                    không có lắc tay như hình      0  \n",
       "3  giao hàng lâu bảo có lắc tay mà không ...      0  \n",
       "4  mua cái một dùng ok một cái không chạ...      0  "
      ]
     },
     "metadata": {},
     "execution_count": 4
    }
   ],
   "metadata": {}
  },
  {
   "cell_type": "markdown",
   "source": [
    "Do **sklearn** hoạt động tốt nhất trên text data có dạng mã hóa là **NFC**, nên trước tiên ta sẽ chuyển toàn bộ các feature có `dtype` là `str` được biểu diễn dưới dạng mã hóa NFC."
   ],
   "metadata": {}
  },
  {
   "cell_type": "code",
   "execution_count": 5,
   "source": [
    "data = Model.textNFCformat(data, ['raw_comment', 'normalize_comment'])\n",
    "\n",
    "data.head()"
   ],
   "outputs": [
    {
     "output_type": "execute_result",
     "data": {
      "text/html": [
       "<div>\n",
       "<style scoped>\n",
       "    .dataframe tbody tr th:only-of-type {\n",
       "        vertical-align: middle;\n",
       "    }\n",
       "\n",
       "    .dataframe tbody tr th {\n",
       "        vertical-align: top;\n",
       "    }\n",
       "\n",
       "    .dataframe thead th {\n",
       "        text-align: right;\n",
       "    }\n",
       "</style>\n",
       "<table border=\"1\" class=\"dataframe\">\n",
       "  <thead>\n",
       "    <tr style=\"text-align: right;\">\n",
       "      <th></th>\n",
       "      <th>raw_comment</th>\n",
       "      <th>normalize_comment</th>\n",
       "      <th>label</th>\n",
       "    </tr>\n",
       "  </thead>\n",
       "  <tbody>\n",
       "    <tr>\n",
       "      <th>0</th>\n",
       "      <td>Giao hàng kh đúng cần phê bình hjjjjjhhdjdjdjd...</td>\n",
       "      <td>giao hàng không đúng cần phê bình</td>\n",
       "      <td>0</td>\n",
       "    </tr>\n",
       "    <tr>\n",
       "      <th>1</th>\n",
       "      <td>Chất lượng sản phẩm tạm được. Giao sai 1 món. ...</td>\n",
       "      <td>chất lượng sản phẩm tạm được giao sai món đóng...</td>\n",
       "      <td>0</td>\n",
       "    </tr>\n",
       "    <tr>\n",
       "      <th>2</th>\n",
       "      <td>Ko có lắc tay như hình</td>\n",
       "      <td>không có lắc tay như hình</td>\n",
       "      <td>0</td>\n",
       "    </tr>\n",
       "    <tr>\n",
       "      <th>3</th>\n",
       "      <td>Giao hàng lâu. Bảo có lắc tay mà k thấy giao. ...</td>\n",
       "      <td>giao hàng lâu bảo có lắc tay mà không thấy gia...</td>\n",
       "      <td>0</td>\n",
       "    </tr>\n",
       "    <tr>\n",
       "      <th>4</th>\n",
       "      <td>Mình mua 2 cái, một dùng ok. Một cái không chạ...</td>\n",
       "      <td>mua cái một dùng ok một cái không chạy được</td>\n",
       "      <td>0</td>\n",
       "    </tr>\n",
       "  </tbody>\n",
       "</table>\n",
       "</div>"
      ],
      "text/plain": [
       "                                         raw_comment  \\\n",
       "0  Giao hàng kh đúng cần phê bình hjjjjjhhdjdjdjd...   \n",
       "1  Chất lượng sản phẩm tạm được. Giao sai 1 món. ...   \n",
       "2                             Ko có lắc tay như hình   \n",
       "3  Giao hàng lâu. Bảo có lắc tay mà k thấy giao. ...   \n",
       "4  Mình mua 2 cái, một dùng ok. Một cái không chạ...   \n",
       "\n",
       "                                   normalize_comment  label  \n",
       "0                  giao hàng không đúng cần phê bình      0  \n",
       "1  chất lượng sản phẩm tạm được giao sai món đóng...      0  \n",
       "2                          không có lắc tay như hình      0  \n",
       "3  giao hàng lâu bảo có lắc tay mà không thấy gia...      0  \n",
       "4        mua cái một dùng ok một cái không chạy được      0  "
      ]
     },
     "metadata": {},
     "execution_count": 5
    }
   ],
   "metadata": {}
  },
  {
   "cell_type": "markdown",
   "source": [
    "Các vectorizer object của **sklearn** mặc định chúng sẽ xóa toàn bộ các **punctuation** [kí tự đặc biệt] trong input truyền vào. Như vậy các emoji của ta sẽ bị xóa toàn bộ khi transform vectorizing. Như vậy, ta sẽ không lưu chúng dưới dạng các punctuation mà dùng decode của chúng - sau đó ta tạo feature `emoji_decode` để lưu chúng.  "
   ],
   "metadata": {}
  },
  {
   "cell_type": "code",
   "execution_count": 6,
   "source": [
    "data['emoji_decode'] = data['raw_comment'].apply(lambda s: Model.expandEmojisDecode(s))\n",
    "data = data[['raw_comment', 'normalize_comment', 'emoji_decode', 'label']]\n",
    "\n",
    "data.head()"
   ],
   "outputs": [
    {
     "output_type": "execute_result",
     "data": {
      "text/html": [
       "<div>\n",
       "<style scoped>\n",
       "    .dataframe tbody tr th:only-of-type {\n",
       "        vertical-align: middle;\n",
       "    }\n",
       "\n",
       "    .dataframe tbody tr th {\n",
       "        vertical-align: top;\n",
       "    }\n",
       "\n",
       "    .dataframe thead th {\n",
       "        text-align: right;\n",
       "    }\n",
       "</style>\n",
       "<table border=\"1\" class=\"dataframe\">\n",
       "  <thead>\n",
       "    <tr style=\"text-align: right;\">\n",
       "      <th></th>\n",
       "      <th>raw_comment</th>\n",
       "      <th>normalize_comment</th>\n",
       "      <th>emoji_decode</th>\n",
       "      <th>label</th>\n",
       "    </tr>\n",
       "  </thead>\n",
       "  <tbody>\n",
       "    <tr>\n",
       "      <th>0</th>\n",
       "      <td>Giao hàng kh đúng cần phê bình hjjjjjhhdjdjdjd...</td>\n",
       "      <td>giao hàng không đúng cần phê bình</td>\n",
       "      <td></td>\n",
       "      <td>0</td>\n",
       "    </tr>\n",
       "    <tr>\n",
       "      <th>1</th>\n",
       "      <td>Chất lượng sản phẩm tạm được. Giao sai 1 món. ...</td>\n",
       "      <td>chất lượng sản phẩm tạm được giao sai món đóng...</td>\n",
       "      <td></td>\n",
       "      <td>0</td>\n",
       "    </tr>\n",
       "    <tr>\n",
       "      <th>2</th>\n",
       "      <td>Ko có lắc tay như hình</td>\n",
       "      <td>không có lắc tay như hình</td>\n",
       "      <td></td>\n",
       "      <td>0</td>\n",
       "    </tr>\n",
       "    <tr>\n",
       "      <th>3</th>\n",
       "      <td>Giao hàng lâu. Bảo có lắc tay mà k thấy giao. ...</td>\n",
       "      <td>giao hàng lâu bảo có lắc tay mà không thấy gia...</td>\n",
       "      <td></td>\n",
       "      <td>0</td>\n",
       "    </tr>\n",
       "    <tr>\n",
       "      <th>4</th>\n",
       "      <td>Mình mua 2 cái, một dùng ok. Một cái không chạ...</td>\n",
       "      <td>mua cái một dùng ok một cái không chạy được</td>\n",
       "      <td>cry</td>\n",
       "      <td>0</td>\n",
       "    </tr>\n",
       "  </tbody>\n",
       "</table>\n",
       "</div>"
      ],
      "text/plain": [
       "                                         raw_comment  \\\n",
       "0  Giao hàng kh đúng cần phê bình hjjjjjhhdjdjdjd...   \n",
       "1  Chất lượng sản phẩm tạm được. Giao sai 1 món. ...   \n",
       "2                             Ko có lắc tay như hình   \n",
       "3  Giao hàng lâu. Bảo có lắc tay mà k thấy giao. ...   \n",
       "4  Mình mua 2 cái, một dùng ok. Một cái không chạ...   \n",
       "\n",
       "                                   normalize_comment emoji_decode  label  \n",
       "0                  giao hàng không đúng cần phê bình                   0  \n",
       "1  chất lượng sản phẩm tạm được giao sai món đóng...                   0  \n",
       "2                          không có lắc tay như hình                   0  \n",
       "3  giao hàng lâu bảo có lắc tay mà không thấy gia...                   0  \n",
       "4        mua cái một dùng ok một cái không chạy được          cry      0  "
      ]
     },
     "metadata": {},
     "execution_count": 6
    }
   ],
   "metadata": {}
  },
  {
   "cell_type": "markdown",
   "source": [
    "Tiến hành chọn các mẫu có feature `emoji_decode` không phải là chuổi rỗng và lưu vào biến `emoji_data`."
   ],
   "metadata": {}
  },
  {
   "cell_type": "code",
   "execution_count": 7,
   "source": [
    "emoji_data = data[data['emoji_decode'] != \"\"].reset_index(drop=True)\n",
    "\n",
    "emoji_data.head()"
   ],
   "outputs": [
    {
     "output_type": "execute_result",
     "data": {
      "text/html": [
       "<div>\n",
       "<style scoped>\n",
       "    .dataframe tbody tr th:only-of-type {\n",
       "        vertical-align: middle;\n",
       "    }\n",
       "\n",
       "    .dataframe tbody tr th {\n",
       "        vertical-align: top;\n",
       "    }\n",
       "\n",
       "    .dataframe thead th {\n",
       "        text-align: right;\n",
       "    }\n",
       "</style>\n",
       "<table border=\"1\" class=\"dataframe\">\n",
       "  <thead>\n",
       "    <tr style=\"text-align: right;\">\n",
       "      <th></th>\n",
       "      <th>raw_comment</th>\n",
       "      <th>normalize_comment</th>\n",
       "      <th>emoji_decode</th>\n",
       "      <th>label</th>\n",
       "    </tr>\n",
       "  </thead>\n",
       "  <tbody>\n",
       "    <tr>\n",
       "      <th>0</th>\n",
       "      <td>Mình mua 2 cái, một dùng ok. Một cái không chạ...</td>\n",
       "      <td>mua cái một dùng ok một cái không chạy được</td>\n",
       "      <td>cry</td>\n",
       "      <td>0</td>\n",
       "    </tr>\n",
       "    <tr>\n",
       "      <th>1</th>\n",
       "      <td>Giao sai màu sai size có 1 dép lông size 36 à ...</td>\n",
       "      <td>giao sai màu sai size có dép lông size à còn đ...</td>\n",
       "      <td>cursing_face cursing_face cursing_face</td>\n",
       "      <td>0</td>\n",
       "    </tr>\n",
       "    <tr>\n",
       "      <th>2</th>\n",
       "      <td>Đơn hàng đã thanh toán airpay rồi mà shipper g...</td>\n",
       "      <td>đơn hàng thanh toán mà giao cho người lạ lỡ đơ...</td>\n",
       "      <td>roll_eyes</td>\n",
       "      <td>0</td>\n",
       "    </tr>\n",
       "    <tr>\n",
       "      <th>3</th>\n",
       "      <td>Áo croptop freesize rộng với mình \\nMình m62, ...</td>\n",
       "      <td>áo rộng mình kg</td>\n",
       "      <td>thumbsup thumbsup thumbsup thumbsup thumbsup t...</td>\n",
       "      <td>0</td>\n",
       "    </tr>\n",
       "    <tr>\n",
       "      <th>4</th>\n",
       "      <td>Khá buồn . Đặt 2 cái đều không chạy giờ . 1 cá...</td>\n",
       "      <td>khá buồn đặt cái đều không chạy giờ cái sai mẫ...</td>\n",
       "      <td>female_sign shrug</td>\n",
       "      <td>0</td>\n",
       "    </tr>\n",
       "  </tbody>\n",
       "</table>\n",
       "</div>"
      ],
      "text/plain": [
       "                                         raw_comment  \\\n",
       "0  Mình mua 2 cái, một dùng ok. Một cái không chạ...   \n",
       "1  Giao sai màu sai size có 1 dép lông size 36 à ...   \n",
       "2  Đơn hàng đã thanh toán airpay rồi mà shipper g...   \n",
       "3  Áo croptop freesize rộng với mình \\nMình m62, ...   \n",
       "4  Khá buồn . Đặt 2 cái đều không chạy giờ . 1 cá...   \n",
       "\n",
       "                                   normalize_comment  \\\n",
       "0        mua cái một dùng ok một cái không chạy được   \n",
       "1  giao sai màu sai size có dép lông size à còn đ...   \n",
       "2  đơn hàng thanh toán mà giao cho người lạ lỡ đơ...   \n",
       "3                                    áo rộng mình kg   \n",
       "4  khá buồn đặt cái đều không chạy giờ cái sai mẫ...   \n",
       "\n",
       "                                        emoji_decode  label  \n",
       "0                                                cry      0  \n",
       "1             cursing_face cursing_face cursing_face      0  \n",
       "2                                          roll_eyes      0  \n",
       "3  thumbsup thumbsup thumbsup thumbsup thumbsup t...      0  \n",
       "4                                  female_sign shrug      0  "
      ]
     },
     "metadata": {},
     "execution_count": 7
    }
   ],
   "metadata": {}
  },
  {
   "cell_type": "markdown",
   "source": [
    "Giờ thì ta sẽ tiến hành chia `emoji_data` thành training data và test data với size của test data là 15%, sau đó ta lưu chúng dưới dạng file **.csv**."
   ],
   "metadata": {}
  },
  {
   "cell_type": "code",
   "execution_count": 8,
   "source": [
    "Model.dataSplitSaved(emoji_data, 0.15, \"./data/emoji_data\")"
   ],
   "outputs": [
    {
     "output_type": "stream",
     "name": "stdout",
     "text": [
      "📢 Your dataset has saved at ./data/emoji_data.\n"
     ]
    }
   ],
   "metadata": {}
  },
  {
   "cell_type": "markdown",
   "source": [
    "Ta cũng sẽ tiến hành chia training data và test data cho "
   ],
   "metadata": {}
  },
  {
   "cell_type": "code",
   "execution_count": 9,
   "source": [
    "data.head()"
   ],
   "outputs": [
    {
     "output_type": "execute_result",
     "data": {
      "text/html": [
       "<div>\n",
       "<style scoped>\n",
       "    .dataframe tbody tr th:only-of-type {\n",
       "        vertical-align: middle;\n",
       "    }\n",
       "\n",
       "    .dataframe tbody tr th {\n",
       "        vertical-align: top;\n",
       "    }\n",
       "\n",
       "    .dataframe thead th {\n",
       "        text-align: right;\n",
       "    }\n",
       "</style>\n",
       "<table border=\"1\" class=\"dataframe\">\n",
       "  <thead>\n",
       "    <tr style=\"text-align: right;\">\n",
       "      <th></th>\n",
       "      <th>raw_comment</th>\n",
       "      <th>normalize_comment</th>\n",
       "      <th>emoji_decode</th>\n",
       "      <th>label</th>\n",
       "    </tr>\n",
       "  </thead>\n",
       "  <tbody>\n",
       "    <tr>\n",
       "      <th>0</th>\n",
       "      <td>Giao hàng kh đúng cần phê bình hjjjjjhhdjdjdjd...</td>\n",
       "      <td>giao hàng không đúng cần phê bình</td>\n",
       "      <td></td>\n",
       "      <td>0</td>\n",
       "    </tr>\n",
       "    <tr>\n",
       "      <th>1</th>\n",
       "      <td>Chất lượng sản phẩm tạm được. Giao sai 1 món. ...</td>\n",
       "      <td>chất lượng sản phẩm tạm được giao sai món đóng...</td>\n",
       "      <td></td>\n",
       "      <td>0</td>\n",
       "    </tr>\n",
       "    <tr>\n",
       "      <th>2</th>\n",
       "      <td>Ko có lắc tay như hình</td>\n",
       "      <td>không có lắc tay như hình</td>\n",
       "      <td></td>\n",
       "      <td>0</td>\n",
       "    </tr>\n",
       "    <tr>\n",
       "      <th>3</th>\n",
       "      <td>Giao hàng lâu. Bảo có lắc tay mà k thấy giao. ...</td>\n",
       "      <td>giao hàng lâu bảo có lắc tay mà không thấy gia...</td>\n",
       "      <td></td>\n",
       "      <td>0</td>\n",
       "    </tr>\n",
       "    <tr>\n",
       "      <th>4</th>\n",
       "      <td>Mình mua 2 cái, một dùng ok. Một cái không chạ...</td>\n",
       "      <td>mua cái một dùng ok một cái không chạy được</td>\n",
       "      <td>cry</td>\n",
       "      <td>0</td>\n",
       "    </tr>\n",
       "  </tbody>\n",
       "</table>\n",
       "</div>"
      ],
      "text/plain": [
       "                                         raw_comment  \\\n",
       "0  Giao hàng kh đúng cần phê bình hjjjjjhhdjdjdjd...   \n",
       "1  Chất lượng sản phẩm tạm được. Giao sai 1 món. ...   \n",
       "2                             Ko có lắc tay như hình   \n",
       "3  Giao hàng lâu. Bảo có lắc tay mà k thấy giao. ...   \n",
       "4  Mình mua 2 cái, một dùng ok. Một cái không chạ...   \n",
       "\n",
       "                                   normalize_comment emoji_decode  label  \n",
       "0                  giao hàng không đúng cần phê bình                   0  \n",
       "1  chất lượng sản phẩm tạm được giao sai món đóng...                   0  \n",
       "2                          không có lắc tay như hình                   0  \n",
       "3  giao hàng lâu bảo có lắc tay mà không thấy gia...                   0  \n",
       "4        mua cái một dùng ok một cái không chạy được          cry      0  "
      ]
     },
     "metadata": {},
     "execution_count": 9
    }
   ],
   "metadata": {}
  },
  {
   "cell_type": "code",
   "execution_count": 10,
   "source": [
    "Model.dataSplitSaved(data, 0.15, \"./data/data\")"
   ],
   "outputs": [
    {
     "output_type": "stream",
     "name": "stdout",
     "text": [
      "📢 Your dataset has saved at ./data/data.\n"
     ]
    }
   ],
   "metadata": {}
  },
  {
   "cell_type": "code",
   "execution_count": null,
   "source": [],
   "outputs": [],
   "metadata": {}
  }
 ],
 "metadata": {
  "orig_nbformat": 4,
  "language_info": {
   "name": "python",
   "version": "3.6.8",
   "mimetype": "text/x-python",
   "codemirror_mode": {
    "name": "ipython",
    "version": 3
   },
   "pygments_lexer": "ipython3",
   "nbconvert_exporter": "python",
   "file_extension": ".py"
  },
  "kernelspec": {
   "name": "python3",
   "display_name": "Python 3.6.8 64-bit ('tensor2x': conda)"
  },
  "interpreter": {
   "hash": "d65fcd1f07c929fdb1e8f9d6054efa0019da167a8178be6b98d8f036a76e6824"
  }
 },
 "nbformat": 4,
 "nbformat_minor": 2
}