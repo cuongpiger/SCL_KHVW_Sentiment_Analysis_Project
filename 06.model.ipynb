{
 "cells": [
  {
   "cell_type": "code",
   "execution_count": 2,
   "source": [
    "%load_ext autoreload\n",
    "%autoreload 2"
   ],
   "outputs": [],
   "metadata": {}
  },
  {
   "cell_type": "code",
   "execution_count": 3,
   "source": [
    "import warnings\n",
    "import os\n",
    "import pandas as pd\n",
    "import numpy as np\n",
    "import modules.model as Model\n",
    "from sklearn.model_selection import StratifiedKFold\n",
    "from sklearn.linear_model import LogisticRegression\n",
    "from sklearn.neighbors import KNeighborsClassifier\n",
    "from sklearn.naive_bayes import BernoulliNB\n",
    "from sklearn.ensemble import RandomForestClassifier\n",
    "from sklearn.svm import SVC\n",
    "from xgboost import XGBClassifier\n",
    "\n",
    "warnings.filterwarnings('ignore')"
   ],
   "outputs": [],
   "metadata": {}
  },
  {
   "cell_type": "markdown",
   "source": [
    "## Công việc 2.1\n",
    "* Phần này, ta sẽ đào tạo một **emoji sentiment model**.\n",
    "* Chiến lược của ta sẽ như sau:\n",
    "  * **Bước 1**: Ta tiến hành định nghĩa một vài vectorizer bằng **sklearn**.\n",
    "  * **Bước 2**: Liệt kê các classifier model.\n",
    "  * **Bước 3**: Với từng vectorizer đã liệt kê, sử dụng từng model classifier để đào tạo cross-validation với input là vectorizer tương ứng.\n",
    "  * **Bước 4**: Lựa chọn các model và vectorizer phù hợp với dataset emoji.\n",
    "  * **Bước 5**: Thực hiện tunning hyperparams cho các model được chọn ở bước 4 bằng cross-validation.\n",
    "  * **Bước 6**: Sau khi tunning và nhận được các hyperparams tốt nhất, tiến hành training lại nhưng không cross-validation.\n",
    "  * **Bước 7**: Lưu lại các model này thành file `*.pickle`.\n",
    "  * **Bước 8**: Đánh giá bằng accuracy và ROC-AUC trên test data."
   ],
   "metadata": {}
  },
  {
   "cell_type": "markdown",
   "source": [
    "Đọc training data."
   ],
   "metadata": {}
  },
  {
   "cell_type": "code",
   "execution_count": 5,
   "source": [
    "X_train, y_train = Model.loadData(\"./data/emoji_data/train\")\n",
    "\n",
    "display(X_train.head(), y_train.head())"
   ],
   "outputs": [
    {
     "output_type": "display_data",
     "data": {
      "text/html": [
       "<div>\n",
       "<style scoped>\n",
       "    .dataframe tbody tr th:only-of-type {\n",
       "        vertical-align: middle;\n",
       "    }\n",
       "\n",
       "    .dataframe tbody tr th {\n",
       "        vertical-align: top;\n",
       "    }\n",
       "\n",
       "    .dataframe thead th {\n",
       "        text-align: right;\n",
       "    }\n",
       "</style>\n",
       "<table border=\"1\" class=\"dataframe\">\n",
       "  <thead>\n",
       "    <tr style=\"text-align: right;\">\n",
       "      <th></th>\n",
       "      <th>raw_comment</th>\n",
       "      <th>normalize_comment</th>\n",
       "      <th>emoji_decode</th>\n",
       "    </tr>\n",
       "  </thead>\n",
       "  <tbody>\n",
       "    <tr>\n",
       "      <th>0</th>\n",
       "      <td>Cái 9k đẹp hơn.Cái 9k kiểu bóng trông ...</td>\n",
       "      <td>cái không đẹp hơn cái không kiểu bóng...</td>\n",
       "      <td>heart_eyes</td>\n",
       "    </tr>\n",
       "    <tr>\n",
       "      <th>1</th>\n",
       "      <td>Mũ xinh hihi chờ hàng hơi lâu tý nhưng...</td>\n",
       "      <td>mũ xinh chờ hàng hơi lâu tý nhưng nhạ...</td>\n",
       "      <td>hearts hearts hearts kissing_heart kissing_hea...</td>\n",
       "    </tr>\n",
       "    <tr>\n",
       "      <th>2</th>\n",
       "      <td>Thời gian giao hàng rất chậm !\\nHàng g...</td>\n",
       "      <td>thời gian giao hàng rất chậm hàng giao...</td>\n",
       "      <td>relieved</td>\n",
       "    </tr>\n",
       "    <tr>\n",
       "      <th>3</th>\n",
       "      <td>Áo không biết là mới hay k á, nhưng m...</td>\n",
       "      <td>áo không biết là mới hay không á như...</td>\n",
       "      <td>sob sob sob persevere persevere persevere pers...</td>\n",
       "    </tr>\n",
       "    <tr>\n",
       "      <th>4</th>\n",
       "      <td>Da mềm êm rất đẹp nhé❤️cúc bấm cũng...</td>\n",
       "      <td>da mềm êm rất đẹp nhé cúc bấm cũng ...</td>\n",
       "      <td>heart heart</td>\n",
       "    </tr>\n",
       "  </tbody>\n",
       "</table>\n",
       "</div>"
      ],
      "text/plain": [
       "                                         raw_comment  \\\n",
       "0  Cái 9k đẹp hơn.Cái 9k kiểu bóng trông ...   \n",
       "1  Mũ xinh hihi chờ hàng hơi lâu tý nhưng...   \n",
       "2  Thời gian giao hàng rất chậm !\\nHàng g...   \n",
       "3  Áo không biết là mới hay k á, nhưng m...   \n",
       "4  Da mềm êm rất đẹp nhé❤️cúc bấm cũng...   \n",
       "\n",
       "                                   normalize_comment  \\\n",
       "0  cái không đẹp hơn cái không kiểu bóng...   \n",
       "1  mũ xinh chờ hàng hơi lâu tý nhưng nhạ...   \n",
       "2  thời gian giao hàng rất chậm hàng giao...   \n",
       "3  áo không biết là mới hay không á như...   \n",
       "4  da mềm êm rất đẹp nhé cúc bấm cũng ...   \n",
       "\n",
       "                                        emoji_decode  \n",
       "0                                         heart_eyes  \n",
       "1  hearts hearts hearts kissing_heart kissing_hea...  \n",
       "2                                           relieved  \n",
       "3  sob sob sob persevere persevere persevere pers...  \n",
       "4                                        heart heart  "
      ]
     },
     "metadata": {}
    },
    {
     "output_type": "display_data",
     "data": {
      "text/html": [
       "<div>\n",
       "<style scoped>\n",
       "    .dataframe tbody tr th:only-of-type {\n",
       "        vertical-align: middle;\n",
       "    }\n",
       "\n",
       "    .dataframe tbody tr th {\n",
       "        vertical-align: top;\n",
       "    }\n",
       "\n",
       "    .dataframe thead th {\n",
       "        text-align: right;\n",
       "    }\n",
       "</style>\n",
       "<table border=\"1\" class=\"dataframe\">\n",
       "  <thead>\n",
       "    <tr style=\"text-align: right;\">\n",
       "      <th></th>\n",
       "      <th>label</th>\n",
       "    </tr>\n",
       "  </thead>\n",
       "  <tbody>\n",
       "    <tr>\n",
       "      <th>0</th>\n",
       "      <td>0</td>\n",
       "    </tr>\n",
       "    <tr>\n",
       "      <th>1</th>\n",
       "      <td>1</td>\n",
       "    </tr>\n",
       "    <tr>\n",
       "      <th>2</th>\n",
       "      <td>0</td>\n",
       "    </tr>\n",
       "    <tr>\n",
       "      <th>3</th>\n",
       "      <td>1</td>\n",
       "    </tr>\n",
       "    <tr>\n",
       "      <th>4</th>\n",
       "      <td>1</td>\n",
       "    </tr>\n",
       "  </tbody>\n",
       "</table>\n",
       "</div>"
      ],
      "text/plain": [
       "   label\n",
       "0      0\n",
       "1      1\n",
       "2      0\n",
       "3      1\n",
       "4      1"
      ]
     },
     "metadata": {}
    }
   ],
   "metadata": {}
  },
  {
   "cell_type": "markdown",
   "source": [
    "Hãy xem lại các emoji của chúng ta phân bổ như thế nào, thứ mà chúng ta đã không quan tâm lắm ở project 2.\n",
    "\n",
    "Sau bước này, chúng ta sẽ tiến hành vectorizer cho các emoji được tách ra từ các comment."
   ],
   "metadata": {}
  },
  {
   "cell_type": "code",
   "execution_count": 7,
   "source": [
    "emoji_stat = Model.reviewStatistic(X_train['emoji_decode'], True)\n",
    "\n",
    "Model.wordFrequencyBarplot(emoji_stat.head(100))"
   ],
   "outputs": [
    {
     "output_type": "display_data",
     "data": {
      "image/png": "[encoded data removed]",
      "text/plain": [
       "<Figure size 720x2160 with 1 Axes>"
      ]
     },
     "metadata": {
      "needs_background": "light"
     }
    }
   ],
   "metadata": {}
  },
  {
   "cell_type": "markdown",
   "source": [
    "> **Nhận xét**:\n",
    "> * Biểu đồ trên là 100 emoji có tần số xuất hiện thấp nhất trên toàn dataset emoji.\n",
    "> * Ở đây, các thanh màu đỏ thể hiện tần suất của từ đó xuất hiện bao nhiêu lần trong dataset. Các thanh màu xanh thể hiện có bao nhiêu comment chứa emoji này.\n",
    "> * Có thể thấy có nhiều emoji mà chỉ xuất hiện một lần. Như vậy ta có thể xem xét xây dựng các vectorizer với các ngưỡng `min_df` _(được nói chi tiết bên dưới)_ khác nhau để tìm xem đâu là vectorizer phù hợp nhất để làm input cho dataset emoji này."
   ],
   "metadata": {}
  },
  {
   "cell_type": "code",
   "execution_count": 8,
   "source": [
    "Model.wordFrequencyBarplot(emoji_stat.tail(100))"
   ],
   "outputs": [
    {
     "output_type": "display_data",
     "data": {
      "image/png": "[encoded data removed]",
      "text/plain": [
       "<Figure size 720x2160 with 1 Axes>"
      ]
     },
     "metadata": {
      "needs_background": "light"
     }
    }
   ],
   "metadata": {}
  },
  {
   "cell_type": "markdown",
   "source": [
    "> **Nhận xét**:\n",
    "> * Bên trên là 100 emoji có tần số xuất hiện nhiều nhất.\n",
    "> * Từ hai biểu đồ trên, có thể tạo ra các vectorizer mà chúng chứa toàn bộ các emoji và các emoji có tần số xuất hiện $\\geq 5$ lần."
   ],
   "metadata": {}
  },
  {
   "cell_type": "markdown",
   "source": [
    "Dưới đây, ta xây dựng bốn vectorizer theo các phương pháp **Bag of Words** và **TF-IDF**. Và lưu chúng vào một `list`.\n",
    "\n",
    "Hai vectorizer đầu tiên, ta sử dụng toàn bộ các emoji trong dataset emoji.\n",
    "\n",
    "Hai vectorizer cuối cùng, ta chỉ vectorize cho các emoji mà có tần số xuất hiện $\\geq 5$ (`min_df=5`)."
   ],
   "metadata": {}
  },
  {
   "cell_type": "code",
   "execution_count": 9,
   "source": [
    "vectorizers = [\n",
    "    (\"Bag of Words\", Model.vectorizer(X_train['emoji_decode'], 'bow')),\n",
    "    (\"TF-IDF\", Model.vectorizer(X_train['emoji_decode'], 'tfidf')),\n",
    "    (\"Bag of Words - [min_df: 5]\", Model.vectorizer(X_train['emoji_decode'], 'bow', 5)),\n",
    "    (\"TF-IDF - [min_df: 5]\", Model.vectorizer(X_train['emoji_decode'], 'tfidf', 5))\n",
    "]"
   ],
   "outputs": [],
   "metadata": {}
  },
  {
   "cell_type": "markdown",
   "source": [
    "Ta tiến hành kiểm tra vectorizer đầu tiên - Bag of Words trên toàn bộ dataset emoji."
   ],
   "metadata": {}
  },
  {
   "cell_type": "code",
   "execution_count": 10,
   "source": [
    "print(vectorizers[0][1][0].get_feature_names())\n",
    "pd.DataFrame(data=vectorizers[0][1][1].toarray(), columns=vectorizers[0][1][0].get_feature_names())"
   ],
   "outputs": [
    {
     "output_type": "stream",
     "name": "stdout",
     "text": [
      "['100', 'anger', 'angry', 'ballet_shoes', 'bangbang', 'birthday', 'blossom', 'blue_heart', 'blush', 'bouquet', 'bow', 'broken_heart', 'butterfly', 'cake', 'camera', 'carrot', 'cherry_blossom', 'clap', 'cloud_with_rain', 'clown_face', 'cold_face', 'cold_sweat', 'compass', 'confounded', 'confused', 'cow', 'crossed_fingers', 'cry', 'crying_cat_face', 'cursing_face', 'disappointed', 'disappointed_relieved', 'dizzy', 'dizzy_face', 'dog', 'dog2', 'dollar', 'eagle', 'expressionless', 'face_with_thermometer', 'facepalm', 'fallen_leaf', 'fearful', 'female_sign', 'fire', 'fist_left', 'floppy_disk', 'flushed', 'four_leaf_clover', 'free', 'frowning_face', 'fu', 'ghost', 'gift_heart', 'golf', 'green_heart', 'green_salad', 'grimacing', 'grin', 'grinning', 'haircut', 'hand_over_mouth', 'hatched_chick', 'heart', 'heart_eyes', 'heart_eyes_cat', 'heartbeat', 'heartpulse', 'hearts', 'heavy_check_mark', 'heavy_heart_exclamation', 'hibiscus', 'high_brightness', 'hugs', 'information_desk_person', 'innocent', 'joy', 'joy_cat', 'kiss', 'kissing', 'kissing_cat', 'kissing_closed_eyes', 'kissing_heart', 'kissing_smiling_eyes', 'knife', 'lobster', 'lollipop', 'loud_sound', 'male_sign', 'man_facepalming', 'mask', 'moneybag', 'musical_score', 'nauseated_face', 'nerd_face', 'neutral_face', 'no_good', 'no_mouth', 'octopus', 'ok_hand', 'ok_man', 'ok_person', 'ok_woman', 'older_man', 'open_mouth', 'partying_face', 'pensive', 'persevere', 'pig_nose', 'pleading_face', 'point_left', 'point_right', 'potted_plant', 'pout', 'pray', 'purple_heart', 'pushpin', 'raised_eyebrow', 'raising_hand_woman', 'red_circle', 'relaxed', 'relieved', 'revolving_hearts', 'ribbon', 'rice', 'rice_ball', 'rofl', 'roll_eyes', 'satisfied', 'scream', 'see_no_evil', 'shamrock', 'shit', 'shrug', 'skull_and_crossbones', 'sleeping', 'sleepy', 'slightly_frowning_face', 'slightly_smiling_face', 'smile', 'smiley', 'smiley_cat', 'smiling_face_with_tear', 'smiling_face_with_three_hearts', 'smiling_imp', 'smirk', 'sneezing_face', 'sob', 'soon', 'sos', 'spaghetti', 'sparkles', 'sparkling_heart', 'speak_no_evil', 'squid', 'star', 'star2', 'star_struck', 'strawberry', 'stuck_out_tongue', 'stuck_out_tongue_closed_eyes', 'stuck_out_tongue_winking_eye', 'sun_behind_rain_cloud', 'sun_with_face', 'sunglasses', 'sweat', 'sweat_drops', 'sweat_smile', 'tada', 'telephone_receiver', 'thinking', 'thumbsdown', 'thumbsup', 'tired_face', 'triumph', 'tshirt', 'two_hearts', 'unamused', 'upside_down_face', 'vietnam', 'vomiting_face', 'walking', 'wave', 'weary', 'white_check_mark', 'white_heart', 'wink', 'woman_facepalming', 'woman_shrugging', 'woozy_face', 'worried', 'yellow_heart', 'yum', 'zany_face', 'zipper_mouth_face']\n"
     ]
    },
    {
     "output_type": "execute_result",
     "data": {
      "text/html": [
       "<div>\n",
       "<style scoped>\n",
       "    .dataframe tbody tr th:only-of-type {\n",
       "        vertical-align: middle;\n",
       "    }\n",
       "\n",
       "    .dataframe tbody tr th {\n",
       "        vertical-align: top;\n",
       "    }\n",
       "\n",
       "    .dataframe thead th {\n",
       "        text-align: right;\n",
       "    }\n",
       "</style>\n",
       "<table border=\"1\" class=\"dataframe\">\n",
       "  <thead>\n",
       "    <tr style=\"text-align: right;\">\n",
       "      <th></th>\n",
       "      <th>100</th>\n",
       "      <th>anger</th>\n",
       "      <th>angry</th>\n",
       "      <th>ballet_shoes</th>\n",
       "      <th>bangbang</th>\n",
       "      <th>birthday</th>\n",
       "      <th>blossom</th>\n",
       "      <th>blue_heart</th>\n",
       "      <th>blush</th>\n",
       "      <th>bouquet</th>\n",
       "      <th>...</th>\n",
       "      <th>white_heart</th>\n",
       "      <th>wink</th>\n",
       "      <th>woman_facepalming</th>\n",
       "      <th>woman_shrugging</th>\n",
       "      <th>woozy_face</th>\n",
       "      <th>worried</th>\n",
       "      <th>yellow_heart</th>\n",
       "      <th>yum</th>\n",
       "      <th>zany_face</th>\n",
       "      <th>zipper_mouth_face</th>\n",
       "    </tr>\n",
       "  </thead>\n",
       "  <tbody>\n",
       "    <tr>\n",
       "      <th>0</th>\n",
       "      <td>0</td>\n",
       "      <td>0</td>\n",
       "      <td>0</td>\n",
       "      <td>0</td>\n",
       "      <td>0</td>\n",
       "      <td>0</td>\n",
       "      <td>0</td>\n",
       "      <td>0</td>\n",
       "      <td>0</td>\n",
       "      <td>0</td>\n",
       "      <td>...</td>\n",
       "      <td>0</td>\n",
       "      <td>0</td>\n",
       "      <td>0</td>\n",
       "      <td>0</td>\n",
       "      <td>0</td>\n",
       "      <td>0</td>\n",
       "      <td>0</td>\n",
       "      <td>0</td>\n",
       "      <td>0</td>\n",
       "      <td>0</td>\n",
       "    </tr>\n",
       "    <tr>\n",
       "      <th>1</th>\n",
       "      <td>0</td>\n",
       "      <td>0</td>\n",
       "      <td>0</td>\n",
       "      <td>0</td>\n",
       "      <td>0</td>\n",
       "      <td>0</td>\n",
       "      <td>0</td>\n",
       "      <td>0</td>\n",
       "      <td>0</td>\n",
       "      <td>0</td>\n",
       "      <td>...</td>\n",
       "      <td>0</td>\n",
       "      <td>0</td>\n",
       "      <td>0</td>\n",
       "      <td>0</td>\n",
       "      <td>0</td>\n",
       "      <td>0</td>\n",
       "      <td>0</td>\n",
       "      <td>0</td>\n",
       "      <td>0</td>\n",
       "      <td>0</td>\n",
       "    </tr>\n",
       "    <tr>\n",
       "      <th>2</th>\n",
       "      <td>0</td>\n",
       "      <td>0</td>\n",
       "      <td>0</td>\n",
       "      <td>0</td>\n",
       "      <td>0</td>\n",
       "      <td>0</td>\n",
       "      <td>0</td>\n",
       "      <td>0</td>\n",
       "      <td>0</td>\n",
       "      <td>0</td>\n",
       "      <td>...</td>\n",
       "      <td>0</td>\n",
       "      <td>0</td>\n",
       "      <td>0</td>\n",
       "      <td>0</td>\n",
       "      <td>0</td>\n",
       "      <td>0</td>\n",
       "      <td>0</td>\n",
       "      <td>0</td>\n",
       "      <td>0</td>\n",
       "      <td>0</td>\n",
       "    </tr>\n",
       "    <tr>\n",
       "      <th>3</th>\n",
       "      <td>0</td>\n",
       "      <td>0</td>\n",
       "      <td>0</td>\n",
       "      <td>0</td>\n",
       "      <td>0</td>\n",
       "      <td>0</td>\n",
       "      <td>0</td>\n",
       "      <td>0</td>\n",
       "      <td>0</td>\n",
       "      <td>0</td>\n",
       "      <td>...</td>\n",
       "      <td>0</td>\n",
       "      <td>0</td>\n",
       "      <td>0</td>\n",
       "      <td>0</td>\n",
       "      <td>0</td>\n",
       "      <td>0</td>\n",
       "      <td>0</td>\n",
       "      <td>0</td>\n",
       "      <td>0</td>\n",
       "      <td>0</td>\n",
       "    </tr>\n",
       "    <tr>\n",
       "      <th>4</th>\n",
       "      <td>0</td>\n",
       "      <td>0</td>\n",
       "      <td>0</td>\n",
       "      <td>0</td>\n",
       "      <td>0</td>\n",
       "      <td>0</td>\n",
       "      <td>0</td>\n",
       "      <td>0</td>\n",
       "      <td>0</td>\n",
       "      <td>0</td>\n",
       "      <td>...</td>\n",
       "      <td>0</td>\n",
       "      <td>0</td>\n",
       "      <td>0</td>\n",
       "      <td>0</td>\n",
       "      <td>0</td>\n",
       "      <td>0</td>\n",
       "      <td>0</td>\n",
       "      <td>0</td>\n",
       "      <td>0</td>\n",
       "      <td>0</td>\n",
       "    </tr>\n",
       "    <tr>\n",
       "      <th>...</th>\n",
       "      <td>...</td>\n",
       "      <td>...</td>\n",
       "      <td>...</td>\n",
       "      <td>...</td>\n",
       "      <td>...</td>\n",
       "      <td>...</td>\n",
       "      <td>...</td>\n",
       "      <td>...</td>\n",
       "      <td>...</td>\n",
       "      <td>...</td>\n",
       "      <td>...</td>\n",
       "      <td>...</td>\n",
       "      <td>...</td>\n",
       "      <td>...</td>\n",
       "      <td>...</td>\n",
       "      <td>...</td>\n",
       "      <td>...</td>\n",
       "      <td>...</td>\n",
       "      <td>...</td>\n",
       "      <td>...</td>\n",
       "      <td>...</td>\n",
       "    </tr>\n",
       "    <tr>\n",
       "      <th>1021</th>\n",
       "      <td>0</td>\n",
       "      <td>0</td>\n",
       "      <td>0</td>\n",
       "      <td>0</td>\n",
       "      <td>0</td>\n",
       "      <td>0</td>\n",
       "      <td>0</td>\n",
       "      <td>0</td>\n",
       "      <td>0</td>\n",
       "      <td>0</td>\n",
       "      <td>...</td>\n",
       "      <td>0</td>\n",
       "      <td>0</td>\n",
       "      <td>0</td>\n",
       "      <td>0</td>\n",
       "      <td>0</td>\n",
       "      <td>0</td>\n",
       "      <td>0</td>\n",
       "      <td>0</td>\n",
       "      <td>0</td>\n",
       "      <td>0</td>\n",
       "    </tr>\n",
       "    <tr>\n",
       "      <th>1022</th>\n",
       "      <td>0</td>\n",
       "      <td>0</td>\n",
       "      <td>0</td>\n",
       "      <td>0</td>\n",
       "      <td>0</td>\n",
       "      <td>0</td>\n",
       "      <td>0</td>\n",
       "      <td>0</td>\n",
       "      <td>0</td>\n",
       "      <td>0</td>\n",
       "      <td>...</td>\n",
       "      <td>0</td>\n",
       "      <td>0</td>\n",
       "      <td>0</td>\n",
       "      <td>0</td>\n",
       "      <td>0</td>\n",
       "      <td>0</td>\n",
       "      <td>0</td>\n",
       "      <td>0</td>\n",
       "      <td>0</td>\n",
       "      <td>0</td>\n",
       "    </tr>\n",
       "    <tr>\n",
       "      <th>1023</th>\n",
       "      <td>0</td>\n",
       "      <td>0</td>\n",
       "      <td>0</td>\n",
       "      <td>0</td>\n",
       "      <td>0</td>\n",
       "      <td>0</td>\n",
       "      <td>0</td>\n",
       "      <td>0</td>\n",
       "      <td>0</td>\n",
       "      <td>0</td>\n",
       "      <td>...</td>\n",
       "      <td>0</td>\n",
       "      <td>1</td>\n",
       "      <td>0</td>\n",
       "      <td>0</td>\n",
       "      <td>0</td>\n",
       "      <td>0</td>\n",
       "      <td>0</td>\n",
       "      <td>0</td>\n",
       "      <td>0</td>\n",
       "      <td>0</td>\n",
       "    </tr>\n",
       "    <tr>\n",
       "      <th>1024</th>\n",
       "      <td>0</td>\n",
       "      <td>0</td>\n",
       "      <td>0</td>\n",
       "      <td>0</td>\n",
       "      <td>0</td>\n",
       "      <td>0</td>\n",
       "      <td>0</td>\n",
       "      <td>0</td>\n",
       "      <td>11</td>\n",
       "      <td>0</td>\n",
       "      <td>...</td>\n",
       "      <td>0</td>\n",
       "      <td>0</td>\n",
       "      <td>0</td>\n",
       "      <td>0</td>\n",
       "      <td>0</td>\n",
       "      <td>0</td>\n",
       "      <td>0</td>\n",
       "      <td>0</td>\n",
       "      <td>0</td>\n",
       "      <td>0</td>\n",
       "    </tr>\n",
       "    <tr>\n",
       "      <th>1025</th>\n",
       "      <td>0</td>\n",
       "      <td>0</td>\n",
       "      <td>0</td>\n",
       "      <td>0</td>\n",
       "      <td>0</td>\n",
       "      <td>0</td>\n",
       "      <td>0</td>\n",
       "      <td>0</td>\n",
       "      <td>0</td>\n",
       "      <td>0</td>\n",
       "      <td>...</td>\n",
       "      <td>0</td>\n",
       "      <td>1</td>\n",
       "      <td>0</td>\n",
       "      <td>0</td>\n",
       "      <td>0</td>\n",
       "      <td>0</td>\n",
       "      <td>0</td>\n",
       "      <td>0</td>\n",
       "      <td>0</td>\n",
       "      <td>0</td>\n",
       "    </tr>\n",
       "  </tbody>\n",
       "</table>\n",
       "<p>1026 rows × 195 columns</p>\n",
       "</div>"
      ],
      "text/plain": [
       "      100  anger  angry  ballet_shoes  bangbang  birthday  blossom  \\\n",
       "0       0      0      0             0         0         0        0   \n",
       "1       0      0      0             0         0         0        0   \n",
       "2       0      0      0             0         0         0        0   \n",
       "3       0      0      0             0         0         0        0   \n",
       "4       0      0      0             0         0         0        0   \n",
       "...   ...    ...    ...           ...       ...       ...      ...   \n",
       "1021    0      0      0             0         0         0        0   \n",
       "1022    0      0      0             0         0         0        0   \n",
       "1023    0      0      0             0         0         0        0   \n",
       "1024    0      0      0             0         0         0        0   \n",
       "1025    0      0      0             0         0         0        0   \n",
       "\n",
       "      blue_heart  blush  bouquet  ...  white_heart  wink  woman_facepalming  \\\n",
       "0              0      0        0  ...            0     0                  0   \n",
       "1              0      0        0  ...            0     0                  0   \n",
       "2              0      0        0  ...            0     0                  0   \n",
       "3              0      0        0  ...            0     0                  0   \n",
       "4              0      0        0  ...            0     0                  0   \n",
       "...          ...    ...      ...  ...          ...   ...                ...   \n",
       "1021           0      0        0  ...            0     0                  0   \n",
       "1022           0      0        0  ...            0     0                  0   \n",
       "1023           0      0        0  ...            0     1                  0   \n",
       "1024           0     11        0  ...            0     0                  0   \n",
       "1025           0      0        0  ...            0     1                  0   \n",
       "\n",
       "      woman_shrugging  woozy_face  worried  yellow_heart  yum  zany_face  \\\n",
       "0                   0           0        0             0    0          0   \n",
       "1                   0           0        0             0    0          0   \n",
       "2                   0           0        0             0    0          0   \n",
       "3                   0           0        0             0    0          0   \n",
       "4                   0           0        0             0    0          0   \n",
       "...               ...         ...      ...           ...  ...        ...   \n",
       "1021                0           0        0             0    0          0   \n",
       "1022                0           0        0             0    0          0   \n",
       "1023                0           0        0             0    0          0   \n",
       "1024                0           0        0             0    0          0   \n",
       "1025                0           0        0             0    0          0   \n",
       "\n",
       "      zipper_mouth_face  \n",
       "0                     0  \n",
       "1                     0  \n",
       "2                     0  \n",
       "3                     0  \n",
       "4                     0  \n",
       "...                 ...  \n",
       "1021                  0  \n",
       "1022                  0  \n",
       "1023                  0  \n",
       "1024                  0  \n",
       "1025                  0  \n",
       "\n",
       "[1026 rows x 195 columns]"
      ]
     },
     "metadata": {},
     "execution_count": 10
    }
   ],
   "metadata": {}
  },
  {
   "cell_type": "markdown",
   "source": [
    "> **Nhận xét**:\n",
    "> * Ta có tổng cộng gần 200 emoji khác nhau trên hơn 1000 comment trong training dataset. Có thể thấy đây là một sparse-matrix."
   ],
   "metadata": {}
  },
  {
   "cell_type": "code",
   "execution_count": 11,
   "source": [
    "pd.DataFrame(data=vectorizers[1][1][1].toarray(), columns=vectorizers[1][1][0].get_feature_names())"
   ],
   "outputs": [
    {
     "output_type": "execute_result",
     "data": {
      "text/html": [
       "<div>\n",
       "<style scoped>\n",
       "    .dataframe tbody tr th:only-of-type {\n",
       "        vertical-align: middle;\n",
       "    }\n",
       "\n",
       "    .dataframe tbody tr th {\n",
       "        vertical-align: top;\n",
       "    }\n",
       "\n",
       "    .dataframe thead th {\n",
       "        text-align: right;\n",
       "    }\n",
       "</style>\n",
       "<table border=\"1\" class=\"dataframe\">\n",
       "  <thead>\n",
       "    <tr style=\"text-align: right;\">\n",
       "      <th></th>\n",
       "      <th>100</th>\n",
       "      <th>anger</th>\n",
       "      <th>angry</th>\n",
       "      <th>ballet_shoes</th>\n",
       "      <th>bangbang</th>\n",
       "      <th>birthday</th>\n",
       "      <th>blossom</th>\n",
       "      <th>blue_heart</th>\n",
       "      <th>blush</th>\n",
       "      <th>bouquet</th>\n",
       "      <th>...</th>\n",
       "      <th>white_heart</th>\n",
       "      <th>wink</th>\n",
       "      <th>woman_facepalming</th>\n",
       "      <th>woman_shrugging</th>\n",
       "      <th>woozy_face</th>\n",
       "      <th>worried</th>\n",
       "      <th>yellow_heart</th>\n",
       "      <th>yum</th>\n",
       "      <th>zany_face</th>\n",
       "      <th>zipper_mouth_face</th>\n",
       "    </tr>\n",
       "  </thead>\n",
       "  <tbody>\n",
       "    <tr>\n",
       "      <th>0</th>\n",
       "      <td>0.0</td>\n",
       "      <td>0.0</td>\n",
       "      <td>0.0</td>\n",
       "      <td>0.0</td>\n",
       "      <td>0.0</td>\n",
       "      <td>0.0</td>\n",
       "      <td>0.0</td>\n",
       "      <td>0.0</td>\n",
       "      <td>0.0</td>\n",
       "      <td>0.0</td>\n",
       "      <td>...</td>\n",
       "      <td>0.0</td>\n",
       "      <td>0.000000</td>\n",
       "      <td>0.0</td>\n",
       "      <td>0.0</td>\n",
       "      <td>0.0</td>\n",
       "      <td>0.0</td>\n",
       "      <td>0.0</td>\n",
       "      <td>0.0</td>\n",
       "      <td>0.0</td>\n",
       "      <td>0.0</td>\n",
       "    </tr>\n",
       "    <tr>\n",
       "      <th>1</th>\n",
       "      <td>0.0</td>\n",
       "      <td>0.0</td>\n",
       "      <td>0.0</td>\n",
       "      <td>0.0</td>\n",
       "      <td>0.0</td>\n",
       "      <td>0.0</td>\n",
       "      <td>0.0</td>\n",
       "      <td>0.0</td>\n",
       "      <td>0.0</td>\n",
       "      <td>0.0</td>\n",
       "      <td>...</td>\n",
       "      <td>0.0</td>\n",
       "      <td>0.000000</td>\n",
       "      <td>0.0</td>\n",
       "      <td>0.0</td>\n",
       "      <td>0.0</td>\n",
       "      <td>0.0</td>\n",
       "      <td>0.0</td>\n",
       "      <td>0.0</td>\n",
       "      <td>0.0</td>\n",
       "      <td>0.0</td>\n",
       "    </tr>\n",
       "    <tr>\n",
       "      <th>2</th>\n",
       "      <td>0.0</td>\n",
       "      <td>0.0</td>\n",
       "      <td>0.0</td>\n",
       "      <td>0.0</td>\n",
       "      <td>0.0</td>\n",
       "      <td>0.0</td>\n",
       "      <td>0.0</td>\n",
       "      <td>0.0</td>\n",
       "      <td>0.0</td>\n",
       "      <td>0.0</td>\n",
       "      <td>...</td>\n",
       "      <td>0.0</td>\n",
       "      <td>0.000000</td>\n",
       "      <td>0.0</td>\n",
       "      <td>0.0</td>\n",
       "      <td>0.0</td>\n",
       "      <td>0.0</td>\n",
       "      <td>0.0</td>\n",
       "      <td>0.0</td>\n",
       "      <td>0.0</td>\n",
       "      <td>0.0</td>\n",
       "    </tr>\n",
       "    <tr>\n",
       "      <th>3</th>\n",
       "      <td>0.0</td>\n",
       "      <td>0.0</td>\n",
       "      <td>0.0</td>\n",
       "      <td>0.0</td>\n",
       "      <td>0.0</td>\n",
       "      <td>0.0</td>\n",
       "      <td>0.0</td>\n",
       "      <td>0.0</td>\n",
       "      <td>0.0</td>\n",
       "      <td>0.0</td>\n",
       "      <td>...</td>\n",
       "      <td>0.0</td>\n",
       "      <td>0.000000</td>\n",
       "      <td>0.0</td>\n",
       "      <td>0.0</td>\n",
       "      <td>0.0</td>\n",
       "      <td>0.0</td>\n",
       "      <td>0.0</td>\n",
       "      <td>0.0</td>\n",
       "      <td>0.0</td>\n",
       "      <td>0.0</td>\n",
       "    </tr>\n",
       "    <tr>\n",
       "      <th>4</th>\n",
       "      <td>0.0</td>\n",
       "      <td>0.0</td>\n",
       "      <td>0.0</td>\n",
       "      <td>0.0</td>\n",
       "      <td>0.0</td>\n",
       "      <td>0.0</td>\n",
       "      <td>0.0</td>\n",
       "      <td>0.0</td>\n",
       "      <td>0.0</td>\n",
       "      <td>0.0</td>\n",
       "      <td>...</td>\n",
       "      <td>0.0</td>\n",
       "      <td>0.000000</td>\n",
       "      <td>0.0</td>\n",
       "      <td>0.0</td>\n",
       "      <td>0.0</td>\n",
       "      <td>0.0</td>\n",
       "      <td>0.0</td>\n",
       "      <td>0.0</td>\n",
       "      <td>0.0</td>\n",
       "      <td>0.0</td>\n",
       "    </tr>\n",
       "    <tr>\n",
       "      <th>...</th>\n",
       "      <td>...</td>\n",
       "      <td>...</td>\n",
       "      <td>...</td>\n",
       "      <td>...</td>\n",
       "      <td>...</td>\n",
       "      <td>...</td>\n",
       "      <td>...</td>\n",
       "      <td>...</td>\n",
       "      <td>...</td>\n",
       "      <td>...</td>\n",
       "      <td>...</td>\n",
       "      <td>...</td>\n",
       "      <td>...</td>\n",
       "      <td>...</td>\n",
       "      <td>...</td>\n",
       "      <td>...</td>\n",
       "      <td>...</td>\n",
       "      <td>...</td>\n",
       "      <td>...</td>\n",
       "      <td>...</td>\n",
       "      <td>...</td>\n",
       "    </tr>\n",
       "    <tr>\n",
       "      <th>1021</th>\n",
       "      <td>0.0</td>\n",
       "      <td>0.0</td>\n",
       "      <td>0.0</td>\n",
       "      <td>0.0</td>\n",
       "      <td>0.0</td>\n",
       "      <td>0.0</td>\n",
       "      <td>0.0</td>\n",
       "      <td>0.0</td>\n",
       "      <td>0.0</td>\n",
       "      <td>0.0</td>\n",
       "      <td>...</td>\n",
       "      <td>0.0</td>\n",
       "      <td>0.000000</td>\n",
       "      <td>0.0</td>\n",
       "      <td>0.0</td>\n",
       "      <td>0.0</td>\n",
       "      <td>0.0</td>\n",
       "      <td>0.0</td>\n",
       "      <td>0.0</td>\n",
       "      <td>0.0</td>\n",
       "      <td>0.0</td>\n",
       "    </tr>\n",
       "    <tr>\n",
       "      <th>1022</th>\n",
       "      <td>0.0</td>\n",
       "      <td>0.0</td>\n",
       "      <td>0.0</td>\n",
       "      <td>0.0</td>\n",
       "      <td>0.0</td>\n",
       "      <td>0.0</td>\n",
       "      <td>0.0</td>\n",
       "      <td>0.0</td>\n",
       "      <td>0.0</td>\n",
       "      <td>0.0</td>\n",
       "      <td>...</td>\n",
       "      <td>0.0</td>\n",
       "      <td>0.000000</td>\n",
       "      <td>0.0</td>\n",
       "      <td>0.0</td>\n",
       "      <td>0.0</td>\n",
       "      <td>0.0</td>\n",
       "      <td>0.0</td>\n",
       "      <td>0.0</td>\n",
       "      <td>0.0</td>\n",
       "      <td>0.0</td>\n",
       "    </tr>\n",
       "    <tr>\n",
       "      <th>1023</th>\n",
       "      <td>0.0</td>\n",
       "      <td>0.0</td>\n",
       "      <td>0.0</td>\n",
       "      <td>0.0</td>\n",
       "      <td>0.0</td>\n",
       "      <td>0.0</td>\n",
       "      <td>0.0</td>\n",
       "      <td>0.0</td>\n",
       "      <td>0.0</td>\n",
       "      <td>0.0</td>\n",
       "      <td>...</td>\n",
       "      <td>0.0</td>\n",
       "      <td>0.713115</td>\n",
       "      <td>0.0</td>\n",
       "      <td>0.0</td>\n",
       "      <td>0.0</td>\n",
       "      <td>0.0</td>\n",
       "      <td>0.0</td>\n",
       "      <td>0.0</td>\n",
       "      <td>0.0</td>\n",
       "      <td>0.0</td>\n",
       "    </tr>\n",
       "    <tr>\n",
       "      <th>1024</th>\n",
       "      <td>0.0</td>\n",
       "      <td>0.0</td>\n",
       "      <td>0.0</td>\n",
       "      <td>0.0</td>\n",
       "      <td>0.0</td>\n",
       "      <td>0.0</td>\n",
       "      <td>0.0</td>\n",
       "      <td>0.0</td>\n",
       "      <td>1.0</td>\n",
       "      <td>0.0</td>\n",
       "      <td>...</td>\n",
       "      <td>0.0</td>\n",
       "      <td>0.000000</td>\n",
       "      <td>0.0</td>\n",
       "      <td>0.0</td>\n",
       "      <td>0.0</td>\n",
       "      <td>0.0</td>\n",
       "      <td>0.0</td>\n",
       "      <td>0.0</td>\n",
       "      <td>0.0</td>\n",
       "      <td>0.0</td>\n",
       "    </tr>\n",
       "    <tr>\n",
       "      <th>1025</th>\n",
       "      <td>0.0</td>\n",
       "      <td>0.0</td>\n",
       "      <td>0.0</td>\n",
       "      <td>0.0</td>\n",
       "      <td>0.0</td>\n",
       "      <td>0.0</td>\n",
       "      <td>0.0</td>\n",
       "      <td>0.0</td>\n",
       "      <td>0.0</td>\n",
       "      <td>0.0</td>\n",
       "      <td>...</td>\n",
       "      <td>0.0</td>\n",
       "      <td>1.000000</td>\n",
       "      <td>0.0</td>\n",
       "      <td>0.0</td>\n",
       "      <td>0.0</td>\n",
       "      <td>0.0</td>\n",
       "      <td>0.0</td>\n",
       "      <td>0.0</td>\n",
       "      <td>0.0</td>\n",
       "      <td>0.0</td>\n",
       "    </tr>\n",
       "  </tbody>\n",
       "</table>\n",
       "<p>1026 rows × 195 columns</p>\n",
       "</div>"
      ],
      "text/plain": [
       "      100  anger  angry  ballet_shoes  bangbang  birthday  blossom  \\\n",
       "0     0.0    0.0    0.0           0.0       0.0       0.0      0.0   \n",
       "1     0.0    0.0    0.0           0.0       0.0       0.0      0.0   \n",
       "2     0.0    0.0    0.0           0.0       0.0       0.0      0.0   \n",
       "3     0.0    0.0    0.0           0.0       0.0       0.0      0.0   \n",
       "4     0.0    0.0    0.0           0.0       0.0       0.0      0.0   \n",
       "...   ...    ...    ...           ...       ...       ...      ...   \n",
       "1021  0.0    0.0    0.0           0.0       0.0       0.0      0.0   \n",
       "1022  0.0    0.0    0.0           0.0       0.0       0.0      0.0   \n",
       "1023  0.0    0.0    0.0           0.0       0.0       0.0      0.0   \n",
       "1024  0.0    0.0    0.0           0.0       0.0       0.0      0.0   \n",
       "1025  0.0    0.0    0.0           0.0       0.0       0.0      0.0   \n",
       "\n",
       "      blue_heart  blush  bouquet  ...  white_heart      wink  \\\n",
       "0            0.0    0.0      0.0  ...          0.0  0.000000   \n",
       "1            0.0    0.0      0.0  ...          0.0  0.000000   \n",
       "2            0.0    0.0      0.0  ...          0.0  0.000000   \n",
       "3            0.0    0.0      0.0  ...          0.0  0.000000   \n",
       "4            0.0    0.0      0.0  ...          0.0  0.000000   \n",
       "...          ...    ...      ...  ...          ...       ...   \n",
       "1021         0.0    0.0      0.0  ...          0.0  0.000000   \n",
       "1022         0.0    0.0      0.0  ...          0.0  0.000000   \n",
       "1023         0.0    0.0      0.0  ...          0.0  0.713115   \n",
       "1024         0.0    1.0      0.0  ...          0.0  0.000000   \n",
       "1025         0.0    0.0      0.0  ...          0.0  1.000000   \n",
       "\n",
       "      woman_facepalming  woman_shrugging  woozy_face  worried  yellow_heart  \\\n",
       "0                   0.0              0.0         0.0      0.0           0.0   \n",
       "1                   0.0              0.0         0.0      0.0           0.0   \n",
       "2                   0.0              0.0         0.0      0.0           0.0   \n",
       "3                   0.0              0.0         0.0      0.0           0.0   \n",
       "4                   0.0              0.0         0.0      0.0           0.0   \n",
       "...                 ...              ...         ...      ...           ...   \n",
       "1021                0.0              0.0         0.0      0.0           0.0   \n",
       "1022                0.0              0.0         0.0      0.0           0.0   \n",
       "1023                0.0              0.0         0.0      0.0           0.0   \n",
       "1024                0.0              0.0         0.0      0.0           0.0   \n",
       "1025                0.0              0.0         0.0      0.0           0.0   \n",
       "\n",
       "      yum  zany_face  zipper_mouth_face  \n",
       "0     0.0        0.0                0.0  \n",
       "1     0.0        0.0                0.0  \n",
       "2     0.0        0.0                0.0  \n",
       "3     0.0        0.0                0.0  \n",
       "4     0.0        0.0                0.0  \n",
       "...   ...        ...                ...  \n",
       "1021  0.0        0.0                0.0  \n",
       "1022  0.0        0.0                0.0  \n",
       "1023  0.0        0.0                0.0  \n",
       "1024  0.0        0.0                0.0  \n",
       "1025  0.0        0.0                0.0  \n",
       "\n",
       "[1026 rows x 195 columns]"
      ]
     },
     "metadata": {},
     "execution_count": 11
    }
   ],
   "metadata": {}
  },
  {
   "cell_type": "markdown",
   "source": [
    "> **Nhận xét**:\n",
    "> * Phía trên ta kiểm tra vectorizer TF-IDF trên toàn bộ dataset emoji."
   ],
   "metadata": {}
  },
  {
   "cell_type": "markdown",
   "source": [
    "Vì dữ liệu của chúng ta khá nhỏ, ta có thể giữ lại toàn bộ vectorizer này để đào tạo model. Sau đó đánh giá để chọn ra vectorizer tốt nhất.\n",
    "\n",
    "Tiếp theo, ta liệt kê một loạt các classification model, để chuẩn bị trước cho quá trình đào tạo.\n",
    "\n",
    "Tiếp theo, ta sẽ áp dụng cross-validation, và ta muốn đảm bảo tính công bằng cho toàn bộ model nên ta sẽ tạo một đối tượng **StratifiedKFold**, như code bên dưới, nó chia training data thành 10 phần và giữ các thứ tự đó trong toàn bộ vòng đời của biến chứa nó."
   ],
   "metadata": {}
  },
  {
   "cell_type": "code",
   "execution_count": 12,
   "source": [
    "lst_models = [\n",
    "    ('Logistic Regression - [solver: lbfgs]', LogisticRegression(solver='lbfgs')),\n",
    "    ('Logistic Regression - [solver: liblinear]', LogisticRegression(solver='liblinear')),\n",
    "    ('Logistic Regression - [solver: newton-cg]', LogisticRegression(solver='newton-cg')),\n",
    "    ('KNN - [n_neighbors: 2]', KNeighborsClassifier(n_neighbors=2)),\n",
    "    ('KNN - [n_neighbors: 3]', KNeighborsClassifier(n_neighbors=3)),\n",
    "    ('SVC - [kernel: linear]', SVC(kernel='linear', random_state=42)),\n",
    "    ('SVC - [kernel: poly]', SVC(kernel='poly', random_state=42)),\n",
    "    ('SVC - [kernel: rbf]', SVC(kernel='rbf', random_state=42)),\n",
    "    ('SVC - [kernel: sigmoid]', SVC(kernel='sigmoid', random_state=42)),\n",
    "    ('Bernoulli', BernoulliNB()),\n",
    "    ('Random Forest', RandomForestClassifier(random_state=42)),\n",
    "    ('XGBoost', XGBClassifier(eval_metric='mlogloss'))\n",
    "]\n",
    "\n",
    "cv = StratifiedKFold(n_splits=10, shuffle=True, random_state=42)"
   ],
   "outputs": [],
   "metadata": {}
  },
  {
   "cell_type": "markdown",
   "source": [
    "Đào tạo toàn bộ các model trên."
   ],
   "metadata": {}
  },
  {
   "cell_type": "code",
   "execution_count": 13,
   "source": [
    "original_models = Model.train(lst_models, vectorizers, y_train, cv)\n",
    "\n",
    "original_models"
   ],
   "outputs": [
    {
     "output_type": "stream",
     "name": "stdout",
     "text": [
      "Bag of Words:\n",
      "\tModel Logistic Regression - [solver: lbfgs] has been trained in 0.23 seconds\n",
      "\tModel Logistic Regression - [solver: liblinear] has been trained in 0.06 seconds\n",
      "\tModel Logistic Regression - [solver: newton-cg] has been trained in 0.28 seconds\n",
      "\tModel KNN - [n_neighbors: 2] has been trained in 0.50 seconds\n",
      "\tModel KNN - [n_neighbors: 3] has been trained in 0.51 seconds\n",
      "\tModel SVC - [kernel: linear] has been trained in 0.28 seconds\n",
      "\tModel SVC - [kernel: poly] has been trained in 0.42 seconds\n",
      "\tModel SVC - [kernel: rbf] has been trained in 0.45 seconds\n",
      "\tModel SVC - [kernel: sigmoid] has been trained in 0.36 seconds\n",
      "\tModel Bernoulli has been trained in 0.06 seconds\n",
      "\tModel Random Forest has been trained in 2.35 seconds\n",
      "\tModel XGBoost has been trained in 0.84 seconds\n",
      "TF-IDF:\n",
      "\tModel Logistic Regression - [solver: lbfgs] has been trained in 0.15 seconds\n",
      "\tModel Logistic Regression - [solver: liblinear] has been trained in 0.06 seconds\n",
      "\tModel Logistic Regression - [solver: newton-cg] has been trained in 0.19 seconds\n",
      "\tModel KNN - [n_neighbors: 2] has been trained in 0.51 seconds\n",
      "\tModel KNN - [n_neighbors: 3] has been trained in 0.54 seconds\n",
      "\tModel SVC - [kernel: linear] has been trained in 0.24 seconds\n",
      "\tModel SVC - [kernel: poly] has been trained in 0.32 seconds\n",
      "\tModel SVC - [kernel: rbf] has been trained in 0.33 seconds\n",
      "\tModel SVC - [kernel: sigmoid] has been trained in 0.28 seconds\n",
      "\tModel Bernoulli has been trained in 0.07 seconds\n",
      "\tModel Random Forest has been trained in 2.18 seconds\n",
      "\tModel XGBoost has been trained in 0.92 seconds\n",
      "Bag of Words - [min_df: 5]:\n",
      "\tModel Logistic Regression - [solver: lbfgs] has been trained in 0.17 seconds\n",
      "\tModel Logistic Regression - [solver: liblinear] has been trained in 0.07 seconds\n",
      "\tModel Logistic Regression - [solver: newton-cg] has been trained in 0.27 seconds\n",
      "\tModel KNN - [n_neighbors: 2] has been trained in 0.56 seconds\n",
      "\tModel KNN - [n_neighbors: 3] has been trained in 0.54 seconds\n",
      "\tModel SVC - [kernel: linear] has been trained in 0.27 seconds\n",
      "\tModel SVC - [kernel: poly] has been trained in 0.40 seconds\n",
      "\tModel SVC - [kernel: rbf] has been trained in 0.41 seconds\n",
      "\tModel SVC - [kernel: sigmoid] has been trained in 0.35 seconds\n",
      "\tModel Bernoulli has been trained in 0.06 seconds\n",
      "\tModel Random Forest has been trained in 1.75 seconds\n",
      "\tModel XGBoost has been trained in 0.49 seconds\n",
      "TF-IDF - [min_df: 5]:\n",
      "\tModel Logistic Regression - [solver: lbfgs] has been trained in 0.13 seconds\n",
      "\tModel Logistic Regression - [solver: liblinear] has been trained in 0.06 seconds\n",
      "\tModel Logistic Regression - [solver: newton-cg] has been trained in 0.17 seconds\n",
      "\tModel KNN - [n_neighbors: 2] has been trained in 0.49 seconds\n",
      "\tModel KNN - [n_neighbors: 3] has been trained in 0.51 seconds\n",
      "\tModel SVC - [kernel: linear] has been trained in 0.21 seconds\n",
      "\tModel SVC - [kernel: poly] has been trained in 0.26 seconds\n",
      "\tModel SVC - [kernel: rbf] has been trained in 0.29 seconds\n",
      "\tModel SVC - [kernel: sigmoid] has been trained in 0.25 seconds\n",
      "\tModel Bernoulli has been trained in 0.06 seconds\n",
      "\tModel Random Forest has been trained in 1.64 seconds\n",
      "\tModel XGBoost has been trained in 0.47 seconds\n"
     ]
    },
    {
     "output_type": "execute_result",
     "data": {
      "text/html": [
       "<div>\n",
       "<style scoped>\n",
       "    .dataframe tbody tr th:only-of-type {\n",
       "        vertical-align: middle;\n",
       "    }\n",
       "\n",
       "    .dataframe tbody tr th {\n",
       "        vertical-align: top;\n",
       "    }\n",
       "\n",
       "    .dataframe thead th {\n",
       "        text-align: right;\n",
       "    }\n",
       "</style>\n",
       "<table border=\"1\" class=\"dataframe\">\n",
       "  <thead>\n",
       "    <tr style=\"text-align: right;\">\n",
       "      <th></th>\n",
       "      <th>vectorizer</th>\n",
       "      <th>model</th>\n",
       "      <th>train_acc</th>\n",
       "      <th>test_acc</th>\n",
       "      <th>diff_acc</th>\n",
       "      <th>train_acc_std</th>\n",
       "      <th>test_acc_std</th>\n",
       "      <th>train_roc_auc</th>\n",
       "      <th>test_roc_auc</th>\n",
       "      <th>diff_roc_auc</th>\n",
       "      <th>train_roc_auc_std</th>\n",
       "      <th>test_roc_auc_std</th>\n",
       "      <th>fit_time</th>\n",
       "    </tr>\n",
       "  </thead>\n",
       "  <tbody>\n",
       "    <tr>\n",
       "      <th>0</th>\n",
       "      <td>TF-IDF</td>\n",
       "      <td>SVC - [kernel: rbf]</td>\n",
       "      <td>0.893546</td>\n",
       "      <td>0.851875</td>\n",
       "      <td>0.041671</td>\n",
       "      <td>0.003487</td>\n",
       "      <td>0.038218</td>\n",
       "      <td>0.905123</td>\n",
       "      <td>0.873282</td>\n",
       "      <td>0.031841</td>\n",
       "      <td>0.016902</td>\n",
       "      <td>0.033987</td>\n",
       "      <td>0.011665</td>\n",
       "    </tr>\n",
       "    <tr>\n",
       "      <th>1</th>\n",
       "      <td>TF-IDF</td>\n",
       "      <td>Logistic Regression - [solver: liblinear]</td>\n",
       "      <td>0.890189</td>\n",
       "      <td>0.850866</td>\n",
       "      <td>0.039322</td>\n",
       "      <td>0.004251</td>\n",
       "      <td>0.033072</td>\n",
       "      <td>0.930616</td>\n",
       "      <td>0.903272</td>\n",
       "      <td>0.027344</td>\n",
       "      <td>0.003066</td>\n",
       "      <td>0.036520</td>\n",
       "      <td>0.001485</td>\n",
       "    </tr>\n",
       "    <tr>\n",
       "      <th>2</th>\n",
       "      <td>TF-IDF</td>\n",
       "      <td>Logistic Regression - [solver: lbfgs]</td>\n",
       "      <td>0.890189</td>\n",
       "      <td>0.850866</td>\n",
       "      <td>0.039322</td>\n",
       "      <td>0.004251</td>\n",
       "      <td>0.033072</td>\n",
       "      <td>0.930633</td>\n",
       "      <td>0.903188</td>\n",
       "      <td>0.027445</td>\n",
       "      <td>0.003078</td>\n",
       "      <td>0.036723</td>\n",
       "      <td>0.009695</td>\n",
       "    </tr>\n",
       "    <tr>\n",
       "      <th>3</th>\n",
       "      <td>TF-IDF</td>\n",
       "      <td>Logistic Regression - [solver: newton-cg]</td>\n",
       "      <td>0.890189</td>\n",
       "      <td>0.850866</td>\n",
       "      <td>0.039322</td>\n",
       "      <td>0.004251</td>\n",
       "      <td>0.033072</td>\n",
       "      <td>0.930635</td>\n",
       "      <td>0.903188</td>\n",
       "      <td>0.027447</td>\n",
       "      <td>0.003078</td>\n",
       "      <td>0.036723</td>\n",
       "      <td>0.013808</td>\n",
       "    </tr>\n",
       "    <tr>\n",
       "      <th>4</th>\n",
       "      <td>TF-IDF</td>\n",
       "      <td>Random Forest</td>\n",
       "      <td>0.900802</td>\n",
       "      <td>0.847944</td>\n",
       "      <td>0.052858</td>\n",
       "      <td>0.003933</td>\n",
       "      <td>0.045535</td>\n",
       "      <td>0.957656</td>\n",
       "      <td>0.897262</td>\n",
       "      <td>0.060395</td>\n",
       "      <td>0.002273</td>\n",
       "      <td>0.035206</td>\n",
       "      <td>0.156891</td>\n",
       "    </tr>\n",
       "    <tr>\n",
       "      <th>5</th>\n",
       "      <td>TF-IDF</td>\n",
       "      <td>SVC - [kernel: poly]</td>\n",
       "      <td>0.896578</td>\n",
       "      <td>0.847002</td>\n",
       "      <td>0.049576</td>\n",
       "      <td>0.003524</td>\n",
       "      <td>0.039243</td>\n",
       "      <td>0.905438</td>\n",
       "      <td>0.854690</td>\n",
       "      <td>0.050747</td>\n",
       "      <td>0.006277</td>\n",
       "      <td>0.044771</td>\n",
       "      <td>0.012058</td>\n",
       "    </tr>\n",
       "    <tr>\n",
       "      <th>6</th>\n",
       "      <td>Bag of Words</td>\n",
       "      <td>Bernoulli</td>\n",
       "      <td>0.882933</td>\n",
       "      <td>0.845012</td>\n",
       "      <td>0.037920</td>\n",
       "      <td>0.003072</td>\n",
       "      <td>0.034061</td>\n",
       "      <td>0.937264</td>\n",
       "      <td>0.898412</td>\n",
       "      <td>0.038853</td>\n",
       "      <td>0.002624</td>\n",
       "      <td>0.032872</td>\n",
       "      <td>0.001242</td>\n",
       "    </tr>\n",
       "    <tr>\n",
       "      <th>7</th>\n",
       "      <td>TF-IDF</td>\n",
       "      <td>Bernoulli</td>\n",
       "      <td>0.882933</td>\n",
       "      <td>0.845012</td>\n",
       "      <td>0.037920</td>\n",
       "      <td>0.003072</td>\n",
       "      <td>0.034061</td>\n",
       "      <td>0.937264</td>\n",
       "      <td>0.898412</td>\n",
       "      <td>0.038853</td>\n",
       "      <td>0.002624</td>\n",
       "      <td>0.032872</td>\n",
       "      <td>0.001526</td>\n",
       "    </tr>\n",
       "    <tr>\n",
       "      <th>8</th>\n",
       "      <td>TF-IDF</td>\n",
       "      <td>SVC - [kernel: sigmoid]</td>\n",
       "      <td>0.881200</td>\n",
       "      <td>0.844080</td>\n",
       "      <td>0.037121</td>\n",
       "      <td>0.003237</td>\n",
       "      <td>0.037964</td>\n",
       "      <td>0.908762</td>\n",
       "      <td>0.881717</td>\n",
       "      <td>0.027045</td>\n",
       "      <td>0.010184</td>\n",
       "      <td>0.043808</td>\n",
       "      <td>0.010014</td>\n",
       "    </tr>\n",
       "    <tr>\n",
       "      <th>9</th>\n",
       "      <td>TF-IDF</td>\n",
       "      <td>SVC - [kernel: linear]</td>\n",
       "      <td>0.887698</td>\n",
       "      <td>0.843118</td>\n",
       "      <td>0.044580</td>\n",
       "      <td>0.003094</td>\n",
       "      <td>0.036253</td>\n",
       "      <td>0.907317</td>\n",
       "      <td>0.871632</td>\n",
       "      <td>0.035685</td>\n",
       "      <td>0.010708</td>\n",
       "      <td>0.035922</td>\n",
       "      <td>0.008645</td>\n",
       "    </tr>\n",
       "    <tr>\n",
       "      <th>10</th>\n",
       "      <td>TF-IDF - [min_df: 5]</td>\n",
       "      <td>SVC - [kernel: rbf]</td>\n",
       "      <td>0.854884</td>\n",
       "      <td>0.838226</td>\n",
       "      <td>0.016659</td>\n",
       "      <td>0.004659</td>\n",
       "      <td>0.042292</td>\n",
       "      <td>0.844671</td>\n",
       "      <td>0.823951</td>\n",
       "      <td>0.020720</td>\n",
       "      <td>0.022341</td>\n",
       "      <td>0.058603</td>\n",
       "      <td>0.009842</td>\n",
       "    </tr>\n",
       "    <tr>\n",
       "      <th>11</th>\n",
       "      <td>Bag of Words - [min_df: 5]</td>\n",
       "      <td>Bernoulli</td>\n",
       "      <td>0.850661</td>\n",
       "      <td>0.837236</td>\n",
       "      <td>0.013425</td>\n",
       "      <td>0.005488</td>\n",
       "      <td>0.041678</td>\n",
       "      <td>0.917734</td>\n",
       "      <td>0.899056</td>\n",
       "      <td>0.018678</td>\n",
       "      <td>0.003455</td>\n",
       "      <td>0.033881</td>\n",
       "      <td>0.001300</td>\n",
       "    </tr>\n",
       "    <tr>\n",
       "      <th>12</th>\n",
       "      <td>TF-IDF - [min_df: 5]</td>\n",
       "      <td>Bernoulli</td>\n",
       "      <td>0.850661</td>\n",
       "      <td>0.837236</td>\n",
       "      <td>0.013425</td>\n",
       "      <td>0.005488</td>\n",
       "      <td>0.041678</td>\n",
       "      <td>0.917734</td>\n",
       "      <td>0.899056</td>\n",
       "      <td>0.018678</td>\n",
       "      <td>0.003455</td>\n",
       "      <td>0.033881</td>\n",
       "      <td>0.001348</td>\n",
       "    </tr>\n",
       "    <tr>\n",
       "      <th>13</th>\n",
       "      <td>TF-IDF - [min_df: 5]</td>\n",
       "      <td>Logistic Regression - [solver: lbfgs]</td>\n",
       "      <td>0.852718</td>\n",
       "      <td>0.837217</td>\n",
       "      <td>0.015502</td>\n",
       "      <td>0.005254</td>\n",
       "      <td>0.037363</td>\n",
       "      <td>0.915373</td>\n",
       "      <td>0.897340</td>\n",
       "      <td>0.018033</td>\n",
       "      <td>0.003305</td>\n",
       "      <td>0.036399</td>\n",
       "      <td>0.008217</td>\n",
       "    </tr>\n",
       "    <tr>\n",
       "      <th>14</th>\n",
       "      <td>TF-IDF - [min_df: 5]</td>\n",
       "      <td>Logistic Regression - [solver: liblinear]</td>\n",
       "      <td>0.852827</td>\n",
       "      <td>0.837217</td>\n",
       "      <td>0.015610</td>\n",
       "      <td>0.005085</td>\n",
       "      <td>0.037363</td>\n",
       "      <td>0.915391</td>\n",
       "      <td>0.897340</td>\n",
       "      <td>0.018051</td>\n",
       "      <td>0.003295</td>\n",
       "      <td>0.036399</td>\n",
       "      <td>0.001370</td>\n",
       "    </tr>\n",
       "    <tr>\n",
       "      <th>15</th>\n",
       "      <td>TF-IDF - [min_df: 5]</td>\n",
       "      <td>Logistic Regression - [solver: newton-cg]</td>\n",
       "      <td>0.852718</td>\n",
       "      <td>0.837217</td>\n",
       "      <td>0.015502</td>\n",
       "      <td>0.005254</td>\n",
       "      <td>0.037363</td>\n",
       "      <td>0.915373</td>\n",
       "      <td>0.897340</td>\n",
       "      <td>0.018033</td>\n",
       "      <td>0.003305</td>\n",
       "      <td>0.036399</td>\n",
       "      <td>0.012382</td>\n",
       "    </tr>\n",
       "    <tr>\n",
       "      <th>16</th>\n",
       "      <td>TF-IDF - [min_df: 5]</td>\n",
       "      <td>Random Forest</td>\n",
       "      <td>0.861274</td>\n",
       "      <td>0.836255</td>\n",
       "      <td>0.025018</td>\n",
       "      <td>0.004941</td>\n",
       "      <td>0.047654</td>\n",
       "      <td>0.930508</td>\n",
       "      <td>0.896294</td>\n",
       "      <td>0.034214</td>\n",
       "      <td>0.002866</td>\n",
       "      <td>0.035468</td>\n",
       "      <td>0.111022</td>\n",
       "    </tr>\n",
       "    <tr>\n",
       "      <th>17</th>\n",
       "      <td>TF-IDF</td>\n",
       "      <td>KNN - [n_neighbors: 3]</td>\n",
       "      <td>0.873727</td>\n",
       "      <td>0.834304</td>\n",
       "      <td>0.039423</td>\n",
       "      <td>0.004453</td>\n",
       "      <td>0.048597</td>\n",
       "      <td>0.906067</td>\n",
       "      <td>0.849187</td>\n",
       "      <td>0.056880</td>\n",
       "      <td>0.005887</td>\n",
       "      <td>0.048640</td>\n",
       "      <td>0.001879</td>\n",
       "    </tr>\n",
       "    <tr>\n",
       "      <th>18</th>\n",
       "      <td>TF-IDF - [min_df: 5]</td>\n",
       "      <td>SVC - [kernel: linear]</td>\n",
       "      <td>0.846221</td>\n",
       "      <td>0.833362</td>\n",
       "      <td>0.012859</td>\n",
       "      <td>0.004528</td>\n",
       "      <td>0.041367</td>\n",
       "      <td>0.888571</td>\n",
       "      <td>0.868116</td>\n",
       "      <td>0.020456</td>\n",
       "      <td>0.008228</td>\n",
       "      <td>0.040561</td>\n",
       "      <td>0.007532</td>\n",
       "    </tr>\n",
       "    <tr>\n",
       "      <th>19</th>\n",
       "      <td>Bag of Words</td>\n",
       "      <td>Random Forest</td>\n",
       "      <td>0.928200</td>\n",
       "      <td>0.833343</td>\n",
       "      <td>0.094857</td>\n",
       "      <td>0.003246</td>\n",
       "      <td>0.043493</td>\n",
       "      <td>0.975427</td>\n",
       "      <td>0.878510</td>\n",
       "      <td>0.096917</td>\n",
       "      <td>0.001451</td>\n",
       "      <td>0.029488</td>\n",
       "      <td>0.169595</td>\n",
       "    </tr>\n",
       "    <tr>\n",
       "      <th>20</th>\n",
       "      <td>TF-IDF - [min_df: 5]</td>\n",
       "      <td>KNN - [n_neighbors: 3]</td>\n",
       "      <td>0.851311</td>\n",
       "      <td>0.831363</td>\n",
       "      <td>0.019948</td>\n",
       "      <td>0.004954</td>\n",
       "      <td>0.051686</td>\n",
       "      <td>0.859079</td>\n",
       "      <td>0.827909</td>\n",
       "      <td>0.031170</td>\n",
       "      <td>0.017789</td>\n",
       "      <td>0.057495</td>\n",
       "      <td>0.001713</td>\n",
       "    </tr>\n",
       "    <tr>\n",
       "      <th>21</th>\n",
       "      <td>TF-IDF - [min_df: 5]</td>\n",
       "      <td>SVC - [kernel: sigmoid]</td>\n",
       "      <td>0.837340</td>\n",
       "      <td>0.829459</td>\n",
       "      <td>0.007881</td>\n",
       "      <td>0.005488</td>\n",
       "      <td>0.039700</td>\n",
       "      <td>0.884030</td>\n",
       "      <td>0.869406</td>\n",
       "      <td>0.014624</td>\n",
       "      <td>0.006512</td>\n",
       "      <td>0.033402</td>\n",
       "      <td>0.008397</td>\n",
       "    </tr>\n",
       "    <tr>\n",
       "      <th>22</th>\n",
       "      <td>TF-IDF - [min_df: 5]</td>\n",
       "      <td>SVC - [kernel: poly]</td>\n",
       "      <td>0.856942</td>\n",
       "      <td>0.829431</td>\n",
       "      <td>0.027511</td>\n",
       "      <td>0.004718</td>\n",
       "      <td>0.038328</td>\n",
       "      <td>0.885073</td>\n",
       "      <td>0.857317</td>\n",
       "      <td>0.027756</td>\n",
       "      <td>0.007413</td>\n",
       "      <td>0.046489</td>\n",
       "      <td>0.009438</td>\n",
       "    </tr>\n",
       "    <tr>\n",
       "      <th>23</th>\n",
       "      <td>Bag of Words</td>\n",
       "      <td>Logistic Regression - [solver: newton-cg]</td>\n",
       "      <td>0.880982</td>\n",
       "      <td>0.827489</td>\n",
       "      <td>0.053493</td>\n",
       "      <td>0.006239</td>\n",
       "      <td>0.031486</td>\n",
       "      <td>0.935250</td>\n",
       "      <td>0.884170</td>\n",
       "      <td>0.051080</td>\n",
       "      <td>0.003135</td>\n",
       "      <td>0.036731</td>\n",
       "      <td>0.023288</td>\n",
       "    </tr>\n",
       "    <tr>\n",
       "      <th>24</th>\n",
       "      <td>Bag of Words</td>\n",
       "      <td>Logistic Regression - [solver: lbfgs]</td>\n",
       "      <td>0.880982</td>\n",
       "      <td>0.827489</td>\n",
       "      <td>0.053493</td>\n",
       "      <td>0.006239</td>\n",
       "      <td>0.031486</td>\n",
       "      <td>0.935252</td>\n",
       "      <td>0.884128</td>\n",
       "      <td>0.051124</td>\n",
       "      <td>0.003135</td>\n",
       "      <td>0.036914</td>\n",
       "      <td>0.017095</td>\n",
       "    </tr>\n",
       "    <tr>\n",
       "      <th>25</th>\n",
       "      <td>Bag of Words</td>\n",
       "      <td>Logistic Regression - [solver: liblinear]</td>\n",
       "      <td>0.880765</td>\n",
       "      <td>0.826518</td>\n",
       "      <td>0.054247</td>\n",
       "      <td>0.006240</td>\n",
       "      <td>0.031986</td>\n",
       "      <td>0.935249</td>\n",
       "      <td>0.884170</td>\n",
       "      <td>0.051080</td>\n",
       "      <td>0.003132</td>\n",
       "      <td>0.036731</td>\n",
       "      <td>0.001852</td>\n",
       "    </tr>\n",
       "    <tr>\n",
       "      <th>26</th>\n",
       "      <td>Bag of Words - [min_df: 5]</td>\n",
       "      <td>Random Forest</td>\n",
       "      <td>0.887156</td>\n",
       "      <td>0.821635</td>\n",
       "      <td>0.065521</td>\n",
       "      <td>0.004181</td>\n",
       "      <td>0.040285</td>\n",
       "      <td>0.953231</td>\n",
       "      <td>0.877020</td>\n",
       "      <td>0.076210</td>\n",
       "      <td>0.001840</td>\n",
       "      <td>0.028384</td>\n",
       "      <td>0.118155</td>\n",
       "    </tr>\n",
       "    <tr>\n",
       "      <th>27</th>\n",
       "      <td>Bag of Words</td>\n",
       "      <td>SVC - [kernel: linear]</td>\n",
       "      <td>0.884988</td>\n",
       "      <td>0.820741</td>\n",
       "      <td>0.064248</td>\n",
       "      <td>0.007880</td>\n",
       "      <td>0.027824</td>\n",
       "      <td>0.925946</td>\n",
       "      <td>0.876632</td>\n",
       "      <td>0.049314</td>\n",
       "      <td>0.003860</td>\n",
       "      <td>0.037206</td>\n",
       "      <td>0.013641</td>\n",
       "    </tr>\n",
       "    <tr>\n",
       "      <th>28</th>\n",
       "      <td>TF-IDF - [min_df: 5]</td>\n",
       "      <td>XGBoost</td>\n",
       "      <td>0.852285</td>\n",
       "      <td>0.820636</td>\n",
       "      <td>0.031649</td>\n",
       "      <td>0.006925</td>\n",
       "      <td>0.041157</td>\n",
       "      <td>0.917891</td>\n",
       "      <td>0.888119</td>\n",
       "      <td>0.029772</td>\n",
       "      <td>0.003069</td>\n",
       "      <td>0.038034</td>\n",
       "      <td>0.033617</td>\n",
       "    </tr>\n",
       "    <tr>\n",
       "      <th>29</th>\n",
       "      <td>TF-IDF</td>\n",
       "      <td>XGBoost</td>\n",
       "      <td>0.854992</td>\n",
       "      <td>0.818685</td>\n",
       "      <td>0.036308</td>\n",
       "      <td>0.006688</td>\n",
       "      <td>0.046203</td>\n",
       "      <td>0.920824</td>\n",
       "      <td>0.889764</td>\n",
       "      <td>0.031060</td>\n",
       "      <td>0.003258</td>\n",
       "      <td>0.040109</td>\n",
       "      <td>0.072379</td>\n",
       "    </tr>\n",
       "    <tr>\n",
       "      <th>30</th>\n",
       "      <td>Bag of Words - [min_df: 5]</td>\n",
       "      <td>SVC - [kernel: linear]</td>\n",
       "      <td>0.834633</td>\n",
       "      <td>0.814811</td>\n",
       "      <td>0.019822</td>\n",
       "      <td>0.013065</td>\n",
       "      <td>0.029917</td>\n",
       "      <td>0.895553</td>\n",
       "      <td>0.868811</td>\n",
       "      <td>0.026742</td>\n",
       "      <td>0.006454</td>\n",
       "      <td>0.037654</td>\n",
       "      <td>0.012638</td>\n",
       "    </tr>\n",
       "    <tr>\n",
       "      <th>31</th>\n",
       "      <td>Bag of Words</td>\n",
       "      <td>KNN - [n_neighbors: 3]</td>\n",
       "      <td>0.898744</td>\n",
       "      <td>0.808928</td>\n",
       "      <td>0.089816</td>\n",
       "      <td>0.003685</td>\n",
       "      <td>0.026856</td>\n",
       "      <td>0.935404</td>\n",
       "      <td>0.859903</td>\n",
       "      <td>0.075500</td>\n",
       "      <td>0.003627</td>\n",
       "      <td>0.027268</td>\n",
       "      <td>0.001715</td>\n",
       "    </tr>\n",
       "    <tr>\n",
       "      <th>32</th>\n",
       "      <td>Bag of Words - [min_df: 5]</td>\n",
       "      <td>Logistic Regression - [solver: lbfgs]</td>\n",
       "      <td>0.831383</td>\n",
       "      <td>0.808928</td>\n",
       "      <td>0.022455</td>\n",
       "      <td>0.011219</td>\n",
       "      <td>0.038884</td>\n",
       "      <td>0.906461</td>\n",
       "      <td>0.877196</td>\n",
       "      <td>0.029265</td>\n",
       "      <td>0.004141</td>\n",
       "      <td>0.036327</td>\n",
       "      <td>0.012365</td>\n",
       "    </tr>\n",
       "    <tr>\n",
       "      <th>33</th>\n",
       "      <td>Bag of Words - [min_df: 5]</td>\n",
       "      <td>Logistic Regression - [solver: liblinear]</td>\n",
       "      <td>0.831383</td>\n",
       "      <td>0.808928</td>\n",
       "      <td>0.022455</td>\n",
       "      <td>0.011219</td>\n",
       "      <td>0.038884</td>\n",
       "      <td>0.906461</td>\n",
       "      <td>0.877196</td>\n",
       "      <td>0.029265</td>\n",
       "      <td>0.004139</td>\n",
       "      <td>0.036327</td>\n",
       "      <td>0.001968</td>\n",
       "    </tr>\n",
       "    <tr>\n",
       "      <th>34</th>\n",
       "      <td>Bag of Words - [min_df: 5]</td>\n",
       "      <td>Logistic Regression - [solver: newton-cg]</td>\n",
       "      <td>0.831383</td>\n",
       "      <td>0.808928</td>\n",
       "      <td>0.022455</td>\n",
       "      <td>0.011219</td>\n",
       "      <td>0.038884</td>\n",
       "      <td>0.906467</td>\n",
       "      <td>0.877196</td>\n",
       "      <td>0.029272</td>\n",
       "      <td>0.004137</td>\n",
       "      <td>0.036327</td>\n",
       "      <td>0.022516</td>\n",
       "    </tr>\n",
       "    <tr>\n",
       "      <th>35</th>\n",
       "      <td>Bag of Words</td>\n",
       "      <td>XGBoost</td>\n",
       "      <td>0.861815</td>\n",
       "      <td>0.803055</td>\n",
       "      <td>0.058760</td>\n",
       "      <td>0.005243</td>\n",
       "      <td>0.046481</td>\n",
       "      <td>0.930295</td>\n",
       "      <td>0.879968</td>\n",
       "      <td>0.050327</td>\n",
       "      <td>0.003141</td>\n",
       "      <td>0.031373</td>\n",
       "      <td>0.069468</td>\n",
       "    </tr>\n",
       "    <tr>\n",
       "      <th>36</th>\n",
       "      <td>Bag of Words - [min_df: 5]</td>\n",
       "      <td>XGBoost</td>\n",
       "      <td>0.861815</td>\n",
       "      <td>0.803055</td>\n",
       "      <td>0.058760</td>\n",
       "      <td>0.005243</td>\n",
       "      <td>0.046481</td>\n",
       "      <td>0.930295</td>\n",
       "      <td>0.879968</td>\n",
       "      <td>0.050327</td>\n",
       "      <td>0.003141</td>\n",
       "      <td>0.031373</td>\n",
       "      <td>0.034007</td>\n",
       "    </tr>\n",
       "    <tr>\n",
       "      <th>37</th>\n",
       "      <td>Bag of Words - [min_df: 5]</td>\n",
       "      <td>KNN - [n_neighbors: 3]</td>\n",
       "      <td>0.859974</td>\n",
       "      <td>0.801104</td>\n",
       "      <td>0.058870</td>\n",
       "      <td>0.004218</td>\n",
       "      <td>0.038981</td>\n",
       "      <td>0.883034</td>\n",
       "      <td>0.812446</td>\n",
       "      <td>0.070588</td>\n",
       "      <td>0.017484</td>\n",
       "      <td>0.045644</td>\n",
       "      <td>0.001750</td>\n",
       "    </tr>\n",
       "    <tr>\n",
       "      <th>38</th>\n",
       "      <td>TF-IDF</td>\n",
       "      <td>KNN - [n_neighbors: 2]</td>\n",
       "      <td>0.814702</td>\n",
       "      <td>0.774910</td>\n",
       "      <td>0.039793</td>\n",
       "      <td>0.016428</td>\n",
       "      <td>0.042470</td>\n",
       "      <td>0.899022</td>\n",
       "      <td>0.835368</td>\n",
       "      <td>0.063654</td>\n",
       "      <td>0.007371</td>\n",
       "      <td>0.052375</td>\n",
       "      <td>0.001849</td>\n",
       "    </tr>\n",
       "    <tr>\n",
       "      <th>39</th>\n",
       "      <td>TF-IDF - [min_df: 5]</td>\n",
       "      <td>KNN - [n_neighbors: 2]</td>\n",
       "      <td>0.776907</td>\n",
       "      <td>0.762260</td>\n",
       "      <td>0.014648</td>\n",
       "      <td>0.018349</td>\n",
       "      <td>0.057092</td>\n",
       "      <td>0.833784</td>\n",
       "      <td>0.803110</td>\n",
       "      <td>0.030673</td>\n",
       "      <td>0.009554</td>\n",
       "      <td>0.050193</td>\n",
       "      <td>0.001701</td>\n",
       "    </tr>\n",
       "    <tr>\n",
       "      <th>40</th>\n",
       "      <td>Bag of Words - [min_df: 5]</td>\n",
       "      <td>KNN - [n_neighbors: 2]</td>\n",
       "      <td>0.816762</td>\n",
       "      <td>0.761279</td>\n",
       "      <td>0.055483</td>\n",
       "      <td>0.009292</td>\n",
       "      <td>0.049357</td>\n",
       "      <td>0.866945</td>\n",
       "      <td>0.791195</td>\n",
       "      <td>0.075750</td>\n",
       "      <td>0.005563</td>\n",
       "      <td>0.048099</td>\n",
       "      <td>0.001920</td>\n",
       "    </tr>\n",
       "    <tr>\n",
       "      <th>41</th>\n",
       "      <td>Bag of Words</td>\n",
       "      <td>KNN - [n_neighbors: 2]</td>\n",
       "      <td>0.823909</td>\n",
       "      <td>0.746678</td>\n",
       "      <td>0.077231</td>\n",
       "      <td>0.018303</td>\n",
       "      <td>0.033918</td>\n",
       "      <td>0.926534</td>\n",
       "      <td>0.816691</td>\n",
       "      <td>0.109842</td>\n",
       "      <td>0.005107</td>\n",
       "      <td>0.033904</td>\n",
       "      <td>0.001817</td>\n",
       "    </tr>\n",
       "    <tr>\n",
       "      <th>42</th>\n",
       "      <td>Bag of Words - [min_df: 5]</td>\n",
       "      <td>SVC - [kernel: rbf]</td>\n",
       "      <td>0.759691</td>\n",
       "      <td>0.729983</td>\n",
       "      <td>0.029708</td>\n",
       "      <td>0.006550</td>\n",
       "      <td>0.028520</td>\n",
       "      <td>0.902445</td>\n",
       "      <td>0.870064</td>\n",
       "      <td>0.032381</td>\n",
       "      <td>0.002711</td>\n",
       "      <td>0.035037</td>\n",
       "      <td>0.014742</td>\n",
       "    </tr>\n",
       "    <tr>\n",
       "      <th>43</th>\n",
       "      <td>Bag of Words</td>\n",
       "      <td>SVC - [kernel: rbf]</td>\n",
       "      <td>0.755578</td>\n",
       "      <td>0.714382</td>\n",
       "      <td>0.041195</td>\n",
       "      <td>0.005464</td>\n",
       "      <td>0.030526</td>\n",
       "      <td>0.919260</td>\n",
       "      <td>0.874206</td>\n",
       "      <td>0.045053</td>\n",
       "      <td>0.002626</td>\n",
       "      <td>0.035317</td>\n",
       "      <td>0.016084</td>\n",
       "    </tr>\n",
       "    <tr>\n",
       "      <th>44</th>\n",
       "      <td>Bag of Words - [min_df: 5]</td>\n",
       "      <td>SVC - [kernel: sigmoid]</td>\n",
       "      <td>0.696230</td>\n",
       "      <td>0.688083</td>\n",
       "      <td>0.008147</td>\n",
       "      <td>0.006875</td>\n",
       "      <td>0.033447</td>\n",
       "      <td>0.857413</td>\n",
       "      <td>0.846267</td>\n",
       "      <td>0.011146</td>\n",
       "      <td>0.010166</td>\n",
       "      <td>0.035772</td>\n",
       "      <td>0.012521</td>\n",
       "    </tr>\n",
       "    <tr>\n",
       "      <th>45</th>\n",
       "      <td>Bag of Words</td>\n",
       "      <td>SVC - [kernel: sigmoid]</td>\n",
       "      <td>0.689516</td>\n",
       "      <td>0.672501</td>\n",
       "      <td>0.017015</td>\n",
       "      <td>0.003921</td>\n",
       "      <td>0.022026</td>\n",
       "      <td>0.878113</td>\n",
       "      <td>0.847238</td>\n",
       "      <td>0.030875</td>\n",
       "      <td>0.010735</td>\n",
       "      <td>0.031568</td>\n",
       "      <td>0.013313</td>\n",
       "    </tr>\n",
       "    <tr>\n",
       "      <th>46</th>\n",
       "      <td>Bag of Words</td>\n",
       "      <td>SVC - [kernel: poly]</td>\n",
       "      <td>0.672623</td>\n",
       "      <td>0.660832</td>\n",
       "      <td>0.011791</td>\n",
       "      <td>0.001305</td>\n",
       "      <td>0.009961</td>\n",
       "      <td>0.892707</td>\n",
       "      <td>0.822122</td>\n",
       "      <td>0.070585</td>\n",
       "      <td>0.009763</td>\n",
       "      <td>0.045143</td>\n",
       "      <td>0.018688</td>\n",
       "    </tr>\n",
       "    <tr>\n",
       "      <th>47</th>\n",
       "      <td>Bag of Words - [min_df: 5]</td>\n",
       "      <td>SVC - [kernel: poly]</td>\n",
       "      <td>0.668400</td>\n",
       "      <td>0.659861</td>\n",
       "      <td>0.008539</td>\n",
       "      <td>0.001269</td>\n",
       "      <td>0.013632</td>\n",
       "      <td>0.850246</td>\n",
       "      <td>0.808610</td>\n",
       "      <td>0.041636</td>\n",
       "      <td>0.017962</td>\n",
       "      <td>0.042959</td>\n",
       "      <td>0.016824</td>\n",
       "    </tr>\n",
       "  </tbody>\n",
       "</table>\n",
       "</div>"
      ],
      "text/plain": [
       "                    vectorizer                                      model  \\\n",
       "0                       TF-IDF                        SVC - [kernel: rbf]   \n",
       "1                       TF-IDF  Logistic Regression - [solver: liblinear]   \n",
       "2                       TF-IDF      Logistic Regression - [solver: lbfgs]   \n",
       "3                       TF-IDF  Logistic Regression - [solver: newton-cg]   \n",
       "4                       TF-IDF                              Random Forest   \n",
       "5                       TF-IDF                       SVC - [kernel: poly]   \n",
       "6                 Bag of Words                                  Bernoulli   \n",
       "7                       TF-IDF                                  Bernoulli   \n",
       "8                       TF-IDF                    SVC - [kernel: sigmoid]   \n",
       "9                       TF-IDF                     SVC - [kernel: linear]   \n",
       "10        TF-IDF - [min_df: 5]                        SVC - [kernel: rbf]   \n",
       "11  Bag of Words - [min_df: 5]                                  Bernoulli   \n",
       "12        TF-IDF - [min_df: 5]                                  Bernoulli   \n",
       "13        TF-IDF - [min_df: 5]      Logistic Regression - [solver: lbfgs]   \n",
       "14        TF-IDF - [min_df: 5]  Logistic Regression - [solver: liblinear]   \n",
       "15        TF-IDF - [min_df: 5]  Logistic Regression - [solver: newton-cg]   \n",
       "16        TF-IDF - [min_df: 5]                              Random Forest   \n",
       "17                      TF-IDF                     KNN - [n_neighbors: 3]   \n",
       "18        TF-IDF - [min_df: 5]                     SVC - [kernel: linear]   \n",
       "19                Bag of Words                              Random Forest   \n",
       "20        TF-IDF - [min_df: 5]                     KNN - [n_neighbors: 3]   \n",
       "21        TF-IDF - [min_df: 5]                    SVC - [kernel: sigmoid]   \n",
       "22        TF-IDF - [min_df: 5]                       SVC - [kernel: poly]   \n",
       "23                Bag of Words  Logistic Regression - [solver: newton-cg]   \n",
       "24                Bag of Words      Logistic Regression - [solver: lbfgs]   \n",
       "25                Bag of Words  Logistic Regression - [solver: liblinear]   \n",
       "26  Bag of Words - [min_df: 5]                              Random Forest   \n",
       "27                Bag of Words                     SVC - [kernel: linear]   \n",
       "28        TF-IDF - [min_df: 5]                                    XGBoost   \n",
       "29                      TF-IDF                                    XGBoost   \n",
       "30  Bag of Words - [min_df: 5]                     SVC - [kernel: linear]   \n",
       "31                Bag of Words                     KNN - [n_neighbors: 3]   \n",
       "32  Bag of Words - [min_df: 5]      Logistic Regression - [solver: lbfgs]   \n",
       "33  Bag of Words - [min_df: 5]  Logistic Regression - [solver: liblinear]   \n",
       "34  Bag of Words - [min_df: 5]  Logistic Regression - [solver: newton-cg]   \n",
       "35                Bag of Words                                    XGBoost   \n",
       "36  Bag of Words - [min_df: 5]                                    XGBoost   \n",
       "37  Bag of Words - [min_df: 5]                     KNN - [n_neighbors: 3]   \n",
       "38                      TF-IDF                     KNN - [n_neighbors: 2]   \n",
       "39        TF-IDF - [min_df: 5]                     KNN - [n_neighbors: 2]   \n",
       "40  Bag of Words - [min_df: 5]                     KNN - [n_neighbors: 2]   \n",
       "41                Bag of Words                     KNN - [n_neighbors: 2]   \n",
       "42  Bag of Words - [min_df: 5]                        SVC - [kernel: rbf]   \n",
       "43                Bag of Words                        SVC - [kernel: rbf]   \n",
       "44  Bag of Words - [min_df: 5]                    SVC - [kernel: sigmoid]   \n",
       "45                Bag of Words                    SVC - [kernel: sigmoid]   \n",
       "46                Bag of Words                       SVC - [kernel: poly]   \n",
       "47  Bag of Words - [min_df: 5]                       SVC - [kernel: poly]   \n",
       "\n",
       "    train_acc  test_acc  diff_acc  train_acc_std  test_acc_std  train_roc_auc  \\\n",
       "0    0.893546  0.851875  0.041671       0.003487      0.038218       0.905123   \n",
       "1    0.890189  0.850866  0.039322       0.004251      0.033072       0.930616   \n",
       "2    0.890189  0.850866  0.039322       0.004251      0.033072       0.930633   \n",
       "3    0.890189  0.850866  0.039322       0.004251      0.033072       0.930635   \n",
       "4    0.900802  0.847944  0.052858       0.003933      0.045535       0.957656   \n",
       "5    0.896578  0.847002  0.049576       0.003524      0.039243       0.905438   \n",
       "6    0.882933  0.845012  0.037920       0.003072      0.034061       0.937264   \n",
       "7    0.882933  0.845012  0.037920       0.003072      0.034061       0.937264   \n",
       "8    0.881200  0.844080  0.037121       0.003237      0.037964       0.908762   \n",
       "9    0.887698  0.843118  0.044580       0.003094      0.036253       0.907317   \n",
       "10   0.854884  0.838226  0.016659       0.004659      0.042292       0.844671   \n",
       "11   0.850661  0.837236  0.013425       0.005488      0.041678       0.917734   \n",
       "12   0.850661  0.837236  0.013425       0.005488      0.041678       0.917734   \n",
       "13   0.852718  0.837217  0.015502       0.005254      0.037363       0.915373   \n",
       "14   0.852827  0.837217  0.015610       0.005085      0.037363       0.915391   \n",
       "15   0.852718  0.837217  0.015502       0.005254      0.037363       0.915373   \n",
       "16   0.861274  0.836255  0.025018       0.004941      0.047654       0.930508   \n",
       "17   0.873727  0.834304  0.039423       0.004453      0.048597       0.906067   \n",
       "18   0.846221  0.833362  0.012859       0.004528      0.041367       0.888571   \n",
       "19   0.928200  0.833343  0.094857       0.003246      0.043493       0.975427   \n",
       "20   0.851311  0.831363  0.019948       0.004954      0.051686       0.859079   \n",
       "21   0.837340  0.829459  0.007881       0.005488      0.039700       0.884030   \n",
       "22   0.856942  0.829431  0.027511       0.004718      0.038328       0.885073   \n",
       "23   0.880982  0.827489  0.053493       0.006239      0.031486       0.935250   \n",
       "24   0.880982  0.827489  0.053493       0.006239      0.031486       0.935252   \n",
       "25   0.880765  0.826518  0.054247       0.006240      0.031986       0.935249   \n",
       "26   0.887156  0.821635  0.065521       0.004181      0.040285       0.953231   \n",
       "27   0.884988  0.820741  0.064248       0.007880      0.027824       0.925946   \n",
       "28   0.852285  0.820636  0.031649       0.006925      0.041157       0.917891   \n",
       "29   0.854992  0.818685  0.036308       0.006688      0.046203       0.920824   \n",
       "30   0.834633  0.814811  0.019822       0.013065      0.029917       0.895553   \n",
       "31   0.898744  0.808928  0.089816       0.003685      0.026856       0.935404   \n",
       "32   0.831383  0.808928  0.022455       0.011219      0.038884       0.906461   \n",
       "33   0.831383  0.808928  0.022455       0.011219      0.038884       0.906461   \n",
       "34   0.831383  0.808928  0.022455       0.011219      0.038884       0.906467   \n",
       "35   0.861815  0.803055  0.058760       0.005243      0.046481       0.930295   \n",
       "36   0.861815  0.803055  0.058760       0.005243      0.046481       0.930295   \n",
       "37   0.859974  0.801104  0.058870       0.004218      0.038981       0.883034   \n",
       "38   0.814702  0.774910  0.039793       0.016428      0.042470       0.899022   \n",
       "39   0.776907  0.762260  0.014648       0.018349      0.057092       0.833784   \n",
       "40   0.816762  0.761279  0.055483       0.009292      0.049357       0.866945   \n",
       "41   0.823909  0.746678  0.077231       0.018303      0.033918       0.926534   \n",
       "42   0.759691  0.729983  0.029708       0.006550      0.028520       0.902445   \n",
       "43   0.755578  0.714382  0.041195       0.005464      0.030526       0.919260   \n",
       "44   0.696230  0.688083  0.008147       0.006875      0.033447       0.857413   \n",
       "45   0.689516  0.672501  0.017015       0.003921      0.022026       0.878113   \n",
       "46   0.672623  0.660832  0.011791       0.001305      0.009961       0.892707   \n",
       "47   0.668400  0.659861  0.008539       0.001269      0.013632       0.850246   \n",
       "\n",
       "    test_roc_auc  diff_roc_auc  train_roc_auc_std  test_roc_auc_std  fit_time  \n",
       "0       0.873282      0.031841           0.016902          0.033987  0.011665  \n",
       "1       0.903272      0.027344           0.003066          0.036520  0.001485  \n",
       "2       0.903188      0.027445           0.003078          0.036723  0.009695  \n",
       "3       0.903188      0.027447           0.003078          0.036723  0.013808  \n",
       "4       0.897262      0.060395           0.002273          0.035206  0.156891  \n",
       "5       0.854690      0.050747           0.006277          0.044771  0.012058  \n",
       "6       0.898412      0.038853           0.002624          0.032872  0.001242  \n",
       "7       0.898412      0.038853           0.002624          0.032872  0.001526  \n",
       "8       0.881717      0.027045           0.010184          0.043808  0.010014  \n",
       "9       0.871632      0.035685           0.010708          0.035922  0.008645  \n",
       "10      0.823951      0.020720           0.022341          0.058603  0.009842  \n",
       "11      0.899056      0.018678           0.003455          0.033881  0.001300  \n",
       "12      0.899056      0.018678           0.003455          0.033881  0.001348  \n",
       "13      0.897340      0.018033           0.003305          0.036399  0.008217  \n",
       "14      0.897340      0.018051           0.003295          0.036399  0.001370  \n",
       "15      0.897340      0.018033           0.003305          0.036399  0.012382  \n",
       "16      0.896294      0.034214           0.002866          0.035468  0.111022  \n",
       "17      0.849187      0.056880           0.005887          0.048640  0.001879  \n",
       "18      0.868116      0.020456           0.008228          0.040561  0.007532  \n",
       "19      0.878510      0.096917           0.001451          0.029488  0.169595  \n",
       "20      0.827909      0.031170           0.017789          0.057495  0.001713  \n",
       "21      0.869406      0.014624           0.006512          0.033402  0.008397  \n",
       "22      0.857317      0.027756           0.007413          0.046489  0.009438  \n",
       "23      0.884170      0.051080           0.003135          0.036731  0.023288  \n",
       "24      0.884128      0.051124           0.003135          0.036914  0.017095  \n",
       "25      0.884170      0.051080           0.003132          0.036731  0.001852  \n",
       "26      0.877020      0.076210           0.001840          0.028384  0.118155  \n",
       "27      0.876632      0.049314           0.003860          0.037206  0.013641  \n",
       "28      0.888119      0.029772           0.003069          0.038034  0.033617  \n",
       "29      0.889764      0.031060           0.003258          0.040109  0.072379  \n",
       "30      0.868811      0.026742           0.006454          0.037654  0.012638  \n",
       "31      0.859903      0.075500           0.003627          0.027268  0.001715  \n",
       "32      0.877196      0.029265           0.004141          0.036327  0.012365  \n",
       "33      0.877196      0.029265           0.004139          0.036327  0.001968  \n",
       "34      0.877196      0.029272           0.004137          0.036327  0.022516  \n",
       "35      0.879968      0.050327           0.003141          0.031373  0.069468  \n",
       "36      0.879968      0.050327           0.003141          0.031373  0.034007  \n",
       "37      0.812446      0.070588           0.017484          0.045644  0.001750  \n",
       "38      0.835368      0.063654           0.007371          0.052375  0.001849  \n",
       "39      0.803110      0.030673           0.009554          0.050193  0.001701  \n",
       "40      0.791195      0.075750           0.005563          0.048099  0.001920  \n",
       "41      0.816691      0.109842           0.005107          0.033904  0.001817  \n",
       "42      0.870064      0.032381           0.002711          0.035037  0.014742  \n",
       "43      0.874206      0.045053           0.002626          0.035317  0.016084  \n",
       "44      0.846267      0.011146           0.010166          0.035772  0.012521  \n",
       "45      0.847238      0.030875           0.010735          0.031568  0.013313  \n",
       "46      0.822122      0.070585           0.009763          0.045143  0.018688  \n",
       "47      0.808610      0.041636           0.017962          0.042959  0.016824  "
      ]
     },
     "metadata": {},
     "execution_count": 13
    }
   ],
   "metadata": {}
  },
  {
   "cell_type": "markdown",
   "source": [
    "> **Nhận xét**:\n",
    "> * Các thuật toán như SVM, Logistic Regression và Random Forest hoạt động khá tốt trên dữ liệu này.\n",
    "> * Xem ra, các model này hoạt động tốt hơn trên vectorizer TF-IDF mà ta không lọc bớt các emoji. Tuy nhiên, ta khó có thể giải thích cho việc này. $\\Rightarrow$ Ta sẽ dùng vectorizer này làm input cho toàn bộ các model về sau.\n",
    "> * Accuracy `train/test_acc_acc` giữa training data và test data luôn đạt trên 85% ở 5 model đầu tiên, sự chênh lệch giữa train và test `diff_acc/roc_auc` thấp hơn 5%, ở ROC-AUC `train/test_roc_auc` cũng đạt trên 85%, chứng tỏ các emoji đang làm khá tốt vai trò của chúng để phân lớp và không có class nào nổi trội hơn class nào.\n",
    "> * Nhìn vào phương sai `train/test_acc_std`, ta thấy được sự ổn định của model ở qua các cross-validation khác nhau. Tức không có một tập train-validation nào mà nó lại phù hợp quá mức với model."
   ],
   "metadata": {}
  },
  {
   "cell_type": "code",
   "execution_count": 14,
   "source": [
    "Model.emojiEvaluationGroupedBarChart(original_models, 7)"
   ],
   "outputs": [
    {
     "output_type": "display_data",
     "data": {
      "application/vnd.plotly.v1+json": {
       "config": {
        "plotlyServerURL": "https://plot.ly"
       },
       "data": [
        {
         "name": "Train Acc",
         "type": "bar",
         "x": [
          "SVC - [kernel: rbf]<br>TF-IDF",
          "Logistic Regression - [solver: liblinear]<br>TF-IDF",
          "Logistic Regression - [solver: lbfgs]<br>TF-IDF",
          "Logistic Regression - [solver: newton-cg]<br>TF-IDF",
          "Random Forest<br>TF-IDF",
          "SVC - [kernel: poly]<br>TF-IDF",
          "Bernoulli<br>Bag of Words"
         ],
         "y": [
          89.3545773475351,
          89.01885673012433,
          89.01885673012433,
          89.01885673012433,
          90.08016631256068,
          89.65781870711447,
          88.29327949046257
         ]
        },
        {
         "name": "Test Acc",
         "type": "bar",
         "x": [
          "SVC - [kernel: rbf]<br>TF-IDF",
          "Logistic Regression - [solver: liblinear]<br>TF-IDF",
          "Logistic Regression - [solver: lbfgs]<br>TF-IDF",
          "Logistic Regression - [solver: newton-cg]<br>TF-IDF",
          "Random Forest<br>TF-IDF",
          "SVC - [kernel: poly]<br>TF-IDF",
          "Bernoulli<br>Bag of Words"
         ],
         "y": [
          85.18751189796309,
          85.0866171711403,
          85.0866171711403,
          85.0866171711403,
          84.79440319817249,
          84.70017133066818,
          84.50123738815914
         ]
        },
        {
         "name": "Train ROC-AUC",
         "type": "bar",
         "x": [
          "SVC - [kernel: rbf]<br>TF-IDF",
          "Logistic Regression - [solver: liblinear]<br>TF-IDF",
          "Logistic Regression - [solver: lbfgs]<br>TF-IDF",
          "Logistic Regression - [solver: newton-cg]<br>TF-IDF",
          "Random Forest<br>TF-IDF",
          "SVC - [kernel: poly]<br>TF-IDF",
          "Bernoulli<br>Bag of Words"
         ],
         "y": [
          90.51226586252972,
          93.06158679265346,
          93.06334770184867,
          93.06350254036438,
          95.76563594938236,
          90.54377116530532,
          93.72642088062986
         ]
        },
        {
         "name": "Test ROC-AUC",
         "type": "bar",
         "x": [
          "SVC - [kernel: rbf]<br>TF-IDF",
          "Logistic Regression - [solver: liblinear]<br>TF-IDF",
          "Logistic Regression - [solver: lbfgs]<br>TF-IDF",
          "Logistic Regression - [solver: newton-cg]<br>TF-IDF",
          "Random Forest<br>TF-IDF",
          "SVC - [kernel: poly]<br>TF-IDF",
          "Bernoulli<br>Bag of Words"
         ],
         "y": [
          87.32821372933314,
          90.32722839625826,
          90.31881088784075,
          90.31881088784075,
          89.72616983624447,
          85.46902662014602,
          89.84116215459498
         ]
        }
       ],
       "layout": {
        "template": {
         "data": {
          "bar": [
           {
            "error_x": {
             "color": "#2a3f5f"
            },
            "error_y": {
             "color": "#2a3f5f"
            },
            "marker": {
             "line": {
              "color": "#E5ECF6",
              "width": 0.5
             },
             "pattern": {
              "fillmode": "overlay",
              "size": 10,
              "solidity": 0.2
             }
            },
            "type": "bar"
           }
          ],
          "barpolar": [
           {
            "marker": {
             "line": {
              "color": "#E5ECF6",
              "width": 0.5
             },
             "pattern": {
              "fillmode": "overlay",
              "size": 10,
              "solidity": 0.2
             }
            },
            "type": "barpolar"
           }
          ],
          "carpet": [
           {
            "aaxis": {
             "endlinecolor": "#2a3f5f",
             "gridcolor": "white",
             "linecolor": "white",
             "minorgridcolor": "white",
             "startlinecolor": "#2a3f5f"
            },
            "baxis": {
             "endlinecolor": "#2a3f5f",
             "gridcolor": "white",
             "linecolor": "white",
             "minorgridcolor": "white",
             "startlinecolor": "#2a3f5f"
            },
            "type": "carpet"
           }
          ],
          "choropleth": [
           {
            "colorbar": {
             "outlinewidth": 0,
             "ticks": ""
            },
            "type": "choropleth"
           }
          ],
          "contour": [
           {
            "colorbar": {
             "outlinewidth": 0,
             "ticks": ""
            },
            "colorscale": [
             [
              0,
              "#0d0887"
             ],
             [
              0.1111111111111111,
              "#46039f"
             ],
             [
              0.2222222222222222,
              "#7201a8"
             ],
             [
              0.3333333333333333,
              "#9c179e"
             ],
             [
              0.4444444444444444,
              "#bd3786"
             ],
             [
              0.5555555555555556,
              "#d8576b"
             ],
             [
              0.6666666666666666,
              "#ed7953"
             ],
             [
              0.7777777777777778,
              "#fb9f3a"
             ],
             [
              0.8888888888888888,
              "#fdca26"
             ],
             [
              1,
              "#f0f921"
             ]
            ],
            "type": "contour"
           }
          ],
          "contourcarpet": [
           {
            "colorbar": {
             "outlinewidth": 0,
             "ticks": ""
            },
            "type": "contourcarpet"
           }
          ],
          "heatmap": [
           {
            "colorbar": {
             "outlinewidth": 0,
             "ticks": ""
            },
            "colorscale": [
             [
              0,
              "#0d0887"
             ],
             [
              0.1111111111111111,
              "#46039f"
             ],
             [
              0.2222222222222222,
              "#7201a8"
             ],
             [
              0.3333333333333333,
              "#9c179e"
             ],
             [
              0.4444444444444444,
              "#bd3786"
             ],
             [
              0.5555555555555556,
              "#d8576b"
             ],
             [
              0.6666666666666666,
              "#ed7953"
             ],
             [
              0.7777777777777778,
              "#fb9f3a"
             ],
             [
              0.8888888888888888,
              "#fdca26"
             ],
             [
              1,
              "#f0f921"
             ]
            ],
            "type": "heatmap"
           }
          ],
          "heatmapgl": [
           {
            "colorbar": {
             "outlinewidth": 0,
             "ticks": ""
            },
            "colorscale": [
             [
              0,
              "#0d0887"
             ],
             [
              0.1111111111111111,
              "#46039f"
             ],
             [
              0.2222222222222222,
              "#7201a8"
             ],
             [
              0.3333333333333333,
              "#9c179e"
             ],
             [
              0.4444444444444444,
              "#bd3786"
             ],
             [
              0.5555555555555556,
              "#d8576b"
             ],
             [
              0.6666666666666666,
              "#ed7953"
             ],
             [
              0.7777777777777778,
              "#fb9f3a"
             ],
             [
              0.8888888888888888,
              "#fdca26"
             ],
             [
              1,
              "#f0f921"
             ]
            ],
            "type": "heatmapgl"
           }
          ],
          "histogram": [
           {
            "marker": {
             "pattern": {
              "fillmode": "overlay",
              "size": 10,
              "solidity": 0.2
             }
            },
            "type": "histogram"
           }
          ],
          "histogram2d": [
           {
            "colorbar": {
             "outlinewidth": 0,
             "ticks": ""
            },
            "colorscale": [
             [
              0,
              "#0d0887"
             ],
             [
              0.1111111111111111,
              "#46039f"
             ],
             [
              0.2222222222222222,
              "#7201a8"
             ],
             [
              0.3333333333333333,
              "#9c179e"
             ],
             [
              0.4444444444444444,
              "#bd3786"
             ],
             [
              0.5555555555555556,
              "#d8576b"
             ],
             [
              0.6666666666666666,
              "#ed7953"
             ],
             [
              0.7777777777777778,
              "#fb9f3a"
             ],
             [
              0.8888888888888888,
              "#fdca26"
             ],
             [
              1,
              "#f0f921"
             ]
            ],
            "type": "histogram2d"
           }
          ],
          "histogram2dcontour": [
           {
            "colorbar": {
             "outlinewidth": 0,
             "ticks": ""
            },
            "colorscale": [
             [
              0,
              "#0d0887"
             ],
             [
              0.1111111111111111,
              "#46039f"
             ],
             [
              0.2222222222222222,
              "#7201a8"
             ],
             [
              0.3333333333333333,
              "#9c179e"
             ],
             [
              0.4444444444444444,
              "#bd3786"
             ],
             [
              0.5555555555555556,
              "#d8576b"
             ],
             [
              0.6666666666666666,
              "#ed7953"
             ],
             [
              0.7777777777777778,
              "#fb9f3a"
             ],
             [
              0.8888888888888888,
              "#fdca26"
             ],
             [
              1,
              "#f0f921"
             ]
            ],
            "type": "histogram2dcontour"
           }
          ],
          "mesh3d": [
           {
            "colorbar": {
             "outlinewidth": 0,
             "ticks": ""
            },
            "type": "mesh3d"
           }
          ],
          "parcoords": [
           {
            "line": {
             "colorbar": {
              "outlinewidth": 0,
              "ticks": ""
             }
            },
            "type": "parcoords"
           }
          ],
          "pie": [
           {
            "automargin": true,
            "type": "pie"
           }
          ],
          "scatter": [
           {
            "marker": {
             "colorbar": {
              "outlinewidth": 0,
              "ticks": ""
             }
            },
            "type": "scatter"
           }
          ],
          "scatter3d": [
           {
            "line": {
             "colorbar": {
              "outlinewidth": 0,
              "ticks": ""
             }
            },
            "marker": {
             "colorbar": {
              "outlinewidth": 0,
              "ticks": ""
             }
            },
            "type": "scatter3d"
           }
          ],
          "scattercarpet": [
           {
            "marker": {
             "colorbar": {
              "outlinewidth": 0,
              "ticks": ""
             }
            },
            "type": "scattercarpet"
           }
          ],
          "scattergeo": [
           {
            "marker": {
             "colorbar": {
              "outlinewidth": 0,
              "ticks": ""
             }
            },
            "type": "scattergeo"
           }
          ],
          "scattergl": [
           {
            "marker": {
             "colorbar": {
              "outlinewidth": 0,
              "ticks": ""
             }
            },
            "type": "scattergl"
           }
          ],
          "scattermapbox": [
           {
            "marker": {
             "colorbar": {
              "outlinewidth": 0,
              "ticks": ""
             }
            },
            "type": "scattermapbox"
           }
          ],
          "scatterpolar": [
           {
            "marker": {
             "colorbar": {
              "outlinewidth": 0,
              "ticks": ""
             }
            },
            "type": "scatterpolar"
           }
          ],
          "scatterpolargl": [
           {
            "marker": {
             "colorbar": {
              "outlinewidth": 0,
              "ticks": ""
             }
            },
            "type": "scatterpolargl"
           }
          ],
          "scatterternary": [
           {
            "marker": {
             "colorbar": {
              "outlinewidth": 0,
              "ticks": ""
             }
            },
            "type": "scatterternary"
           }
          ],
          "surface": [
           {
            "colorbar": {
             "outlinewidth": 0,
             "ticks": ""
            },
            "colorscale": [
             [
              0,
              "#0d0887"
             ],
             [
              0.1111111111111111,
              "#46039f"
             ],
             [
              0.2222222222222222,
              "#7201a8"
             ],
             [
              0.3333333333333333,
              "#9c179e"
             ],
             [
              0.4444444444444444,
              "#bd3786"
             ],
             [
              0.5555555555555556,
              "#d8576b"
             ],
             [
              0.6666666666666666,
              "#ed7953"
             ],
             [
              0.7777777777777778,
              "#fb9f3a"
             ],
             [
              0.8888888888888888,
              "#fdca26"
             ],
             [
              1,
              "#f0f921"
             ]
            ],
            "type": "surface"
           }
          ],
          "table": [
           {
            "cells": {
             "fill": {
              "color": "#EBF0F8"
             },
             "line": {
              "color": "white"
             }
            },
            "header": {
             "fill": {
              "color": "#C8D4E3"
             },
             "line": {
              "color": "white"
             }
            },
            "type": "table"
           }
          ]
         },
         "layout": {
          "annotationdefaults": {
           "arrowcolor": "#2a3f5f",
           "arrowhead": 0,
           "arrowwidth": 1
          },
          "autotypenumbers": "strict",
          "coloraxis": {
           "colorbar": {
            "outlinewidth": 0,
            "ticks": ""
           }
          },
          "colorscale": {
           "diverging": [
            [
             0,
             "#8e0152"
            ],
            [
             0.1,
             "#c51b7d"
            ],
            [
             0.2,
             "#de77ae"
            ],
            [
             0.3,
             "#f1b6da"
            ],
            [
             0.4,
             "#fde0ef"
            ],
            [
             0.5,
             "#f7f7f7"
            ],
            [
             0.6,
             "#e6f5d0"
            ],
            [
             0.7,
             "#b8e186"
            ],
            [
             0.8,
             "#7fbc41"
            ],
            [
             0.9,
             "#4d9221"
            ],
            [
             1,
             "#276419"
            ]
           ],
           "sequential": [
            [
             0,
             "#0d0887"
            ],
            [
             0.1111111111111111,
             "#46039f"
            ],
            [
             0.2222222222222222,
             "#7201a8"
            ],
            [
             0.3333333333333333,
             "#9c179e"
            ],
            [
             0.4444444444444444,
             "#bd3786"
            ],
            [
             0.5555555555555556,
             "#d8576b"
            ],
            [
             0.6666666666666666,
             "#ed7953"
            ],
            [
             0.7777777777777778,
             "#fb9f3a"
            ],
            [
             0.8888888888888888,
             "#fdca26"
            ],
            [
             1,
             "#f0f921"
            ]
           ],
           "sequentialminus": [
            [
             0,
             "#0d0887"
            ],
            [
             0.1111111111111111,
             "#46039f"
            ],
            [
             0.2222222222222222,
             "#7201a8"
            ],
            [
             0.3333333333333333,
             "#9c179e"
            ],
            [
             0.4444444444444444,
             "#bd3786"
            ],
            [
             0.5555555555555556,
             "#d8576b"
            ],
            [
             0.6666666666666666,
             "#ed7953"
            ],
            [
             0.7777777777777778,
             "#fb9f3a"
            ],
            [
             0.8888888888888888,
             "#fdca26"
            ],
            [
             1,
             "#f0f921"
            ]
           ]
          },
          "colorway": [
           "#636efa",
           "#EF553B",
           "#00cc96",
           "#ab63fa",
           "#FFA15A",
           "#19d3f3",
           "#FF6692",
           "#B6E880",
           "#FF97FF",
           "#FECB52"
          ],
          "font": {
           "color": "#2a3f5f"
          },
          "geo": {
           "bgcolor": "white",
           "lakecolor": "white",
           "landcolor": "#E5ECF6",
           "showlakes": true,
           "showland": true,
           "subunitcolor": "white"
          },
          "hoverlabel": {
           "align": "left"
          },
          "hovermode": "closest",
          "mapbox": {
           "style": "light"
          },
          "paper_bgcolor": "white",
          "plot_bgcolor": "#E5ECF6",
          "polar": {
           "angularaxis": {
            "gridcolor": "white",
            "linecolor": "white",
            "ticks": ""
           },
           "bgcolor": "#E5ECF6",
           "radialaxis": {
            "gridcolor": "white",
            "linecolor": "white",
            "ticks": ""
           }
          },
          "scene": {
           "xaxis": {
            "backgroundcolor": "#E5ECF6",
            "gridcolor": "white",
            "gridwidth": 2,
            "linecolor": "white",
            "showbackground": true,
            "ticks": "",
            "zerolinecolor": "white"
           },
           "yaxis": {
            "backgroundcolor": "#E5ECF6",
            "gridcolor": "white",
            "gridwidth": 2,
            "linecolor": "white",
            "showbackground": true,
            "ticks": "",
            "zerolinecolor": "white"
           },
           "zaxis": {
            "backgroundcolor": "#E5ECF6",
            "gridcolor": "white",
            "gridwidth": 2,
            "linecolor": "white",
            "showbackground": true,
            "ticks": "",
            "zerolinecolor": "white"
           }
          },
          "shapedefaults": {
           "line": {
            "color": "#2a3f5f"
           }
          },
          "ternary": {
           "aaxis": {
            "gridcolor": "white",
            "linecolor": "white",
            "ticks": ""
           },
           "baxis": {
            "gridcolor": "white",
            "linecolor": "white",
            "ticks": ""
           },
           "bgcolor": "#E5ECF6",
           "caxis": {
            "gridcolor": "white",
            "linecolor": "white",
            "ticks": ""
           }
          },
          "title": {
           "x": 0.05
          },
          "xaxis": {
           "automargin": true,
           "gridcolor": "white",
           "linecolor": "white",
           "ticks": "",
           "title": {
            "standoff": 15
           },
           "zerolinecolor": "white",
           "zerolinewidth": 2
          },
          "yaxis": {
           "automargin": true,
           "gridcolor": "white",
           "linecolor": "white",
           "ticks": "",
           "title": {
            "standoff": 15
           },
           "zerolinecolor": "white",
           "zerolinewidth": 2
          }
         }
        }
       }
      }
     },
     "metadata": {}
    }
   ],
   "metadata": {}
  },
  {
   "cell_type": "markdown",
   "source": [
    "> **Nhận xét**:\n",
    "> * Biểu đồ trên thể hiện các độ đo `train_acc`, `test_acc`, `train_roc_auc` và `test_roc_auc` được sắp xếp giảm dần theo `test_acc`.\n",
    "> * Nhìn vào đây, ta thấy sự khác biệt giữa các model là không quá lớn."
   ],
   "metadata": {}
  },
  {
   "cell_type": "markdown",
   "source": [
    "Bây giờ ta sẽ chọn ra một vài model mà nhóm cảm thấy là ổn nhất để tiến hành Tunning Hyperparameter bằng Grid-Search.\n",
    "\n",
    "Ta sẽ thiết lập một vài hyperparams cho các model sau đó tiến hàng training lại trên cross-validation vừa rồi."
   ],
   "metadata": {}
  },
  {
   "cell_type": "code",
   "execution_count": 15,
   "source": [
    "lst_tunning_models = [\n",
    "    ('Logistic Regression - [solver: lbfgs]', LogisticRegression(solver='lbfgs'), {\n",
    "        'C': [0.001, 0.01, 0.1, 1.0, 10, 100],\n",
    "        'penalty': ['none', 'l1', 'l2', 'elasticnet']\n",
    "        }),\n",
    "    ('SVC - [kernel: rbf]', SVC(kernel='rbf', probability=True, random_state=42), {\n",
    "        'gamma': [0.0001, 0.001, 0.01, 1.0, 10],\n",
    "        'C': [0.1, 0.5, 1.0, 10, 25, 50, 75, 100]\n",
    "        }),\n",
    "    ('Random Forest', RandomForestClassifier(random_state=42), {\n",
    "        'bootstrap': [False, True],\n",
    "        'max_features': [\"auto\", \"sqrt\", \"log2\", 5, 10, 15, 20],\n",
    "        'n_estimators': [100, 200, 300]\n",
    "        })\n",
    "]"
   ],
   "outputs": [],
   "metadata": {}
  },
  {
   "cell_type": "markdown",
   "source": [
    "Tiến hành train cross-validation và lựa ra các hyperparameter set cho từng model."
   ],
   "metadata": {}
  },
  {
   "cell_type": "code",
   "execution_count": 16,
   "source": [
    "lst_tunning_models = Model.trainTunningModel(lst_tunning_models, vectorizers[1][1][1], y_train, cv)\n",
    "\n",
    "lst_tunning_models"
   ],
   "outputs": [
    {
     "output_type": "stream",
     "name": "stdout",
     "text": [
      "Model Logistic Regression - [solver: lbfgs] has been tunned in 2.55 seconds\n",
      "Model SVC - [kernel: rbf] has been tunned in 23.04 seconds\n",
      "Model Random Forest has been tunned in 140.28 seconds\n"
     ]
    },
    {
     "output_type": "execute_result",
     "data": {
      "text/plain": [
       "[('Logistic Regression - [solver: lbfgs]', LogisticRegression()),\n",
       " ('SVC - [kernel: rbf]', SVC(gamma=1.0, probability=True, random_state=42)),\n",
       " ('Random Forest',\n",
       "  RandomForestClassifier(bootstrap=False, max_features=5, random_state=42))]"
      ]
     },
     "metadata": {},
     "execution_count": 16
    }
   ],
   "metadata": {}
  },
  {
   "cell_type": "markdown",
   "source": [
    "Train lại từng model với hyperparameter set trả về trên toàn bộ training data (không chia valiadation nữa)."
   ],
   "metadata": {}
  },
  {
   "cell_type": "code",
   "execution_count": 17,
   "source": [
    "tunning_models = Model.train(lst_tunning_models, [vectorizers[1]], y_train, cv)"
   ],
   "outputs": [
    {
     "output_type": "stream",
     "name": "stdout",
     "text": [
      "TF-IDF:\n",
      "\tModel Logistic Regression - [solver: lbfgs] has been trained in 0.16 seconds\n",
      "\tModel SVC - [kernel: rbf] has been trained in 0.72 seconds\n",
      "\tModel Random Forest has been trained in 2.32 seconds\n"
     ]
    }
   ],
   "metadata": {}
  },
  {
   "cell_type": "code",
   "execution_count": 18,
   "source": [
    "tunning_models"
   ],
   "outputs": [
    {
     "output_type": "execute_result",
     "data": {
      "text/html": [
       "<div>\n",
       "<style scoped>\n",
       "    .dataframe tbody tr th:only-of-type {\n",
       "        vertical-align: middle;\n",
       "    }\n",
       "\n",
       "    .dataframe tbody tr th {\n",
       "        vertical-align: top;\n",
       "    }\n",
       "\n",
       "    .dataframe thead th {\n",
       "        text-align: right;\n",
       "    }\n",
       "</style>\n",
       "<table border=\"1\" class=\"dataframe\">\n",
       "  <thead>\n",
       "    <tr style=\"text-align: right;\">\n",
       "      <th></th>\n",
       "      <th>vectorizer</th>\n",
       "      <th>model</th>\n",
       "      <th>train_acc</th>\n",
       "      <th>test_acc</th>\n",
       "      <th>diff_acc</th>\n",
       "      <th>train_acc_std</th>\n",
       "      <th>test_acc_std</th>\n",
       "      <th>train_roc_auc</th>\n",
       "      <th>test_roc_auc</th>\n",
       "      <th>diff_roc_auc</th>\n",
       "      <th>train_roc_auc_std</th>\n",
       "      <th>test_roc_auc_std</th>\n",
       "      <th>fit_time</th>\n",
       "    </tr>\n",
       "  </thead>\n",
       "  <tbody>\n",
       "    <tr>\n",
       "      <th>0</th>\n",
       "      <td>TF-IDF</td>\n",
       "      <td>SVC - [kernel: rbf]</td>\n",
       "      <td>0.893546</td>\n",
       "      <td>0.851875</td>\n",
       "      <td>0.041671</td>\n",
       "      <td>0.003487</td>\n",
       "      <td>0.038218</td>\n",
       "      <td>0.908397</td>\n",
       "      <td>0.866576</td>\n",
       "      <td>0.041821</td>\n",
       "      <td>0.006690</td>\n",
       "      <td>0.036262</td>\n",
       "      <td>0.049807</td>\n",
       "    </tr>\n",
       "    <tr>\n",
       "      <th>1</th>\n",
       "      <td>TF-IDF</td>\n",
       "      <td>Logistic Regression - [solver: lbfgs]</td>\n",
       "      <td>0.890189</td>\n",
       "      <td>0.850866</td>\n",
       "      <td>0.039322</td>\n",
       "      <td>0.004251</td>\n",
       "      <td>0.033072</td>\n",
       "      <td>0.930633</td>\n",
       "      <td>0.903188</td>\n",
       "      <td>0.027445</td>\n",
       "      <td>0.003078</td>\n",
       "      <td>0.036723</td>\n",
       "      <td>0.010267</td>\n",
       "    </tr>\n",
       "    <tr>\n",
       "      <th>2</th>\n",
       "      <td>TF-IDF</td>\n",
       "      <td>Random Forest</td>\n",
       "      <td>0.900802</td>\n",
       "      <td>0.850857</td>\n",
       "      <td>0.049945</td>\n",
       "      <td>0.003933</td>\n",
       "      <td>0.045930</td>\n",
       "      <td>0.963234</td>\n",
       "      <td>0.891460</td>\n",
       "      <td>0.071774</td>\n",
       "      <td>0.002116</td>\n",
       "      <td>0.036349</td>\n",
       "      <td>0.161276</td>\n",
       "    </tr>\n",
       "  </tbody>\n",
       "</table>\n",
       "</div>"
      ],
      "text/plain": [
       "  vectorizer                                  model  train_acc  test_acc  \\\n",
       "0     TF-IDF                    SVC - [kernel: rbf]   0.893546  0.851875   \n",
       "1     TF-IDF  Logistic Regression - [solver: lbfgs]   0.890189  0.850866   \n",
       "2     TF-IDF                          Random Forest   0.900802  0.850857   \n",
       "\n",
       "   diff_acc  train_acc_std  test_acc_std  train_roc_auc  test_roc_auc  \\\n",
       "0  0.041671       0.003487      0.038218       0.908397      0.866576   \n",
       "1  0.039322       0.004251      0.033072       0.930633      0.903188   \n",
       "2  0.049945       0.003933      0.045930       0.963234      0.891460   \n",
       "\n",
       "   diff_roc_auc  train_roc_auc_std  test_roc_auc_std  fit_time  \n",
       "0      0.041821           0.006690          0.036262  0.049807  \n",
       "1      0.027445           0.003078          0.036723  0.010267  \n",
       "2      0.071774           0.002116          0.036349  0.161276  "
      ]
     },
     "metadata": {},
     "execution_count": 18
    }
   ],
   "metadata": {}
  },
  {
   "cell_type": "markdown",
   "source": [
    "> **Nhận xét**:\n",
    "> * SVC vẫn là model tốt nhất với bộ tham số mặc định với kernel `rbf`. Tuy nhiên sự khác biệt giữa các model là không quá lớn trên `test_acc`, chỉ hơn thua nhau 1%."
   ],
   "metadata": {}
  },
  {
   "cell_type": "markdown",
   "source": [
    "Load dữ liệu test lên để đánh giá và vẫn chọn vectorizer TF-IDF đại diện cho toàn bộ dataset emoji."
   ],
   "metadata": {}
  },
  {
   "cell_type": "code",
   "execution_count": 19,
   "source": [
    "X_test, y_test = Model.loadData(\"./data/emoji_data/test\")"
   ],
   "outputs": [],
   "metadata": {}
  },
  {
   "cell_type": "code",
   "execution_count": 20,
   "source": [
    "tfidf_test_emojis = vectorizers[1][1][0].transform(X_test['emoji_decode'])\n",
    "best_models = Model.evaluation(lst_tunning_models, vectorizers[1][1][1], y_train, tfidf_test_emojis, y_test)\n",
    "\n",
    "best_models"
   ],
   "outputs": [
    {
     "output_type": "execute_result",
     "data": {
      "text/html": [
       "<div>\n",
       "<style scoped>\n",
       "    .dataframe tbody tr th:only-of-type {\n",
       "        vertical-align: middle;\n",
       "    }\n",
       "\n",
       "    .dataframe tbody tr th {\n",
       "        vertical-align: top;\n",
       "    }\n",
       "\n",
       "    .dataframe thead th {\n",
       "        text-align: right;\n",
       "    }\n",
       "</style>\n",
       "<table border=\"1\" class=\"dataframe\">\n",
       "  <thead>\n",
       "    <tr style=\"text-align: right;\">\n",
       "      <th></th>\n",
       "      <th>model</th>\n",
       "      <th>train_acc</th>\n",
       "      <th>test_acc</th>\n",
       "      <th>train_roc_auc</th>\n",
       "      <th>test_roc_auc</th>\n",
       "    </tr>\n",
       "  </thead>\n",
       "  <tbody>\n",
       "    <tr>\n",
       "      <th>0</th>\n",
       "      <td>Logistic Regression - [solver: lbfgs]</td>\n",
       "      <td>0.887914</td>\n",
       "      <td>0.824903</td>\n",
       "      <td>0.865063</td>\n",
       "      <td>0.790367</td>\n",
       "    </tr>\n",
       "    <tr>\n",
       "      <th>1</th>\n",
       "      <td>SVC - [kernel: rbf]</td>\n",
       "      <td>0.891813</td>\n",
       "      <td>0.821012</td>\n",
       "      <td>0.869359</td>\n",
       "      <td>0.791302</td>\n",
       "    </tr>\n",
       "    <tr>\n",
       "      <th>2</th>\n",
       "      <td>Random Forest</td>\n",
       "      <td>0.899610</td>\n",
       "      <td>0.793774</td>\n",
       "      <td>0.889707</td>\n",
       "      <td>0.771456</td>\n",
       "    </tr>\n",
       "  </tbody>\n",
       "</table>\n",
       "</div>"
      ],
      "text/plain": [
       "                                   model  train_acc  test_acc  train_roc_auc  \\\n",
       "0  Logistic Regression - [solver: lbfgs]   0.887914  0.824903       0.865063   \n",
       "1                    SVC - [kernel: rbf]   0.891813  0.821012       0.869359   \n",
       "2                          Random Forest   0.899610  0.793774       0.889707   \n",
       "\n",
       "   test_roc_auc  \n",
       "0      0.790367  \n",
       "1      0.791302  \n",
       "2      0.771456  "
      ]
     },
     "metadata": {},
     "execution_count": 20
    }
   ],
   "metadata": {}
  },
  {
   "cell_type": "markdown",
   "source": [
    "> **Nhận xét**:\n",
    "> * Hai model Logistic và SVC có hiệu suất có thể chấp nhận được khi độ lệch giữa `train_acc` và `test_acc` dưới 10%.\n",
    "> * Tuy nhiên, lúc này ta có thể thấy test data của ta có sự nổi trội hơn của một trong hai class positive và negative so với class còn lại dựa vào `test_roc_auc`. Điều này có thể do hai lí do, test data của ta thực sự bị lệch hoặc model của ta bị overfitting, nhưng khả năng cao là test data bị lệch vì `test_roc_auc` có hiệu suất vẫn chấp nhận được.\n",
    "> * Random Forest lúc này bị overfitting, chênh lệch giữa `train_acc` và `test_acc` đã chạm ngưỡng 10%."
   ],
   "metadata": {}
  },
  {
   "cell_type": "markdown",
   "source": [
    "Tiến hành kiểm tra các hyper-params sau khi tunning trên 3 model trên."
   ],
   "metadata": {}
  },
  {
   "cell_type": "code",
   "execution_count": 21,
   "source": [
    "lst_tunning_models"
   ],
   "outputs": [
    {
     "output_type": "execute_result",
     "data": {
      "text/plain": [
       "[('Logistic Regression - [solver: lbfgs]', LogisticRegression()),\n",
       " ('SVC - [kernel: rbf]', SVC(gamma=1.0, probability=True, random_state=42)),\n",
       " ('Random Forest',\n",
       "  RandomForestClassifier(bootstrap=False, max_features=5, random_state=42))]"
      ]
     },
     "metadata": {},
     "execution_count": 21
    }
   ],
   "metadata": {}
  },
  {
   "cell_type": "markdown",
   "source": [
    "> **Nhận xét**:\n",
    "> * Ở đây, chỉ có hai model là Random Forest và SVC là có hyper-params thay đổi sau quá trình tunning.\n",
    "> * Model Logistic vẫn giữ nguyên các hyper-params mặc định của sklearn."
   ],
   "metadata": {}
  },
  {
   "cell_type": "markdown",
   "source": [
    "Bây giờ, ta sẽ lưu các model bên trên lại cùng với vectorizer vào cùng một object do ta định nghĩa là `SentimentModel`. Mục đích của chúng ta là để cho ta dễ dàng tái sử dụng chúng về sau và cũng như lưu trữ thành cùng một file `*.pickle` duy nhất."
   ],
   "metadata": {}
  },
  {
   "cell_type": "code",
   "execution_count": 22,
   "source": [
    "logistic_model = Model.SentimentModel(lst_tunning_models[0][1], vectorizers[1], y_train)\n",
    "svc_model = Model.SentimentModel(lst_tunning_models[1][1], vectorizers[1], y_train)\n",
    "rdforest_model = Model.SentimentModel(lst_tunning_models[2][1], vectorizers[1], y_train)\n",
    "\n",
    "print(logistic_model.info())\n",
    "print(svc_model.info())\n",
    "print(rdforest_model.info())"
   ],
   "outputs": [
    {
     "output_type": "stream",
     "name": "stdout",
     "text": [
      "LogisticRegression()\n",
      "None\n",
      "SVC(gamma=1.0, probability=True, random_state=42)\n",
      "None\n",
      "RandomForestClassifier(bootstrap=False, max_features=5, random_state=42)\n",
      "None\n"
     ]
    }
   ],
   "metadata": {}
  },
  {
   "cell_type": "markdown",
   "source": [
    "Ở phần này, ta tiến hành đánh giá và trực quan kết quả đánh giá trên toàn bộ training data và test data bằng hai độ đo là accuracy và ROC-AUC. "
   ],
   "metadata": {}
  },
  {
   "cell_type": "code",
   "execution_count": 23,
   "source": [
    "# Logistic model\n",
    "y_train_pred = logistic_model.predict(X_train['emoji_decode'])\n",
    "y_test_pred = logistic_model.predict(X_test['emoji_decode'])\n",
    "\n",
    "Model.confusionMatrix(y_train, y_train_pred['output_class'])\n",
    "Model.confusionMatrix(y_test, y_test_pred['output_class'])\n",
    "\n",
    "logistic_model.rocAuc(X_train['emoji_decode'], y_train)\n",
    "logistic_model.rocAuc(X_test['emoji_decode'], y_test)\n",
    "\n",
    "display(y_train_pred, y_test_pred)"
   ],
   "outputs": [
    {
     "output_type": "stream",
     "name": "stdout",
     "text": [
      "              precision    recall  f1-score   support\n",
      "\n",
      "    Negative       0.88      0.79      0.83       357\n",
      "    Positive       0.89      0.94      0.92       669\n",
      "\n",
      "    accuracy                           0.89      1026\n",
      "   macro avg       0.88      0.87      0.87      1026\n",
      "weighted avg       0.89      0.89      0.89      1026\n",
      "\n"
     ]
    },
    {
     "output_type": "display_data",
     "data": {
      "image/png": "[encoded data removed]",
      "text/plain": [
       "<Figure size 432x288 with 2 Axes>"
      ]
     },
     "metadata": {
      "needs_background": "light"
     }
    },
    {
     "output_type": "stream",
     "name": "stdout",
     "text": [
      "              precision    recall  f1-score   support\n",
      "\n",
      "    Negative       0.85      0.65      0.74        97\n",
      "    Positive       0.81      0.93      0.87       160\n",
      "\n",
      "    accuracy                           0.82       257\n",
      "   macro avg       0.83      0.79      0.80       257\n",
      "weighted avg       0.83      0.82      0.82       257\n",
      "\n"
     ]
    },
    {
     "output_type": "display_data",
     "data": {
      "image/png": "[encoded data removed]",
      "text/plain": [
       "<Figure size 432x288 with 2 Axes>"
      ]
     },
     "metadata": {
      "needs_background": "light"
     }
    },
    {
     "output_type": "display_data",
     "data": {
      "image/png": "[encoded data removed]",
      "text/plain": [
       "<Figure size 432x288 with 1 Axes>"
      ]
     },
     "metadata": {
      "needs_background": "light"
     }
    },
    {
     "output_type": "display_data",
     "data": {
      "image/png": "[encoded data removed]",
      "text/plain": [
       "<Figure size 432x288 with 1 Axes>"
      ]
     },
     "metadata": {
      "needs_background": "light"
     }
    },
    {
     "output_type": "display_data",
     "data": {
      "text/html": [
       "<div>\n",
       "<style scoped>\n",
       "    .dataframe tbody tr th:only-of-type {\n",
       "        vertical-align: middle;\n",
       "    }\n",
       "\n",
       "    .dataframe tbody tr th {\n",
       "        vertical-align: top;\n",
       "    }\n",
       "\n",
       "    .dataframe thead th {\n",
       "        text-align: right;\n",
       "    }\n",
       "</style>\n",
       "<table border=\"1\" class=\"dataframe\">\n",
       "  <thead>\n",
       "    <tr style=\"text-align: right;\">\n",
       "      <th></th>\n",
       "      <th>input</th>\n",
       "      <th>output_proba</th>\n",
       "      <th>output_class</th>\n",
       "    </tr>\n",
       "  </thead>\n",
       "  <tbody>\n",
       "    <tr>\n",
       "      <th>0</th>\n",
       "      <td>heart_eyes</td>\n",
       "      <td>(0.0690459925648299, 0.9309540074351701)</td>\n",
       "      <td>1</td>\n",
       "    </tr>\n",
       "    <tr>\n",
       "      <th>1</th>\n",
       "      <td>hearts hearts hearts kissing_heart kissing_hea...</td>\n",
       "      <td>(0.0639276610567524, 0.9360723389432476)</td>\n",
       "      <td>1</td>\n",
       "    </tr>\n",
       "    <tr>\n",
       "      <th>2</th>\n",
       "      <td>relieved</td>\n",
       "      <td>(0.7222422050450168, 0.2777577949549832)</td>\n",
       "      <td>0</td>\n",
       "    </tr>\n",
       "    <tr>\n",
       "      <th>3</th>\n",
       "      <td>sob sob sob persevere persevere persevere pers...</td>\n",
       "      <td>(0.6086211652496625, 0.39137883475033747)</td>\n",
       "      <td>0</td>\n",
       "    </tr>\n",
       "    <tr>\n",
       "      <th>4</th>\n",
       "      <td>heart heart</td>\n",
       "      <td>(0.03977199088274086, 0.9602280091172591)</td>\n",
       "      <td>1</td>\n",
       "    </tr>\n",
       "    <tr>\n",
       "      <th>...</th>\n",
       "      <td>...</td>\n",
       "      <td>...</td>\n",
       "      <td>...</td>\n",
       "    </tr>\n",
       "    <tr>\n",
       "      <th>1021</th>\n",
       "      <td>gift_heart</td>\n",
       "      <td>(0.3500220073124234, 0.6499779926875766)</td>\n",
       "      <td>1</td>\n",
       "    </tr>\n",
       "    <tr>\n",
       "      <th>1022</th>\n",
       "      <td>heart</td>\n",
       "      <td>(0.03977199088274086, 0.9602280091172591)</td>\n",
       "      <td>1</td>\n",
       "    </tr>\n",
       "    <tr>\n",
       "      <th>1023</th>\n",
       "      <td>hugs wink</td>\n",
       "      <td>(0.3321253514338075, 0.6678746485661925)</td>\n",
       "      <td>1</td>\n",
       "    </tr>\n",
       "    <tr>\n",
       "      <th>1024</th>\n",
       "      <td>blush blush blush blush blush blush blush blus...</td>\n",
       "      <td>(0.13724536542157273, 0.8627546345784273)</td>\n",
       "      <td>1</td>\n",
       "    </tr>\n",
       "    <tr>\n",
       "      <th>1025</th>\n",
       "      <td>wink</td>\n",
       "      <td>(0.3712072811835553, 0.6287927188164447)</td>\n",
       "      <td>1</td>\n",
       "    </tr>\n",
       "  </tbody>\n",
       "</table>\n",
       "<p>1026 rows × 3 columns</p>\n",
       "</div>"
      ],
      "text/plain": [
       "                                                  input  \\\n",
       "0                                            heart_eyes   \n",
       "1     hearts hearts hearts kissing_heart kissing_hea...   \n",
       "2                                              relieved   \n",
       "3     sob sob sob persevere persevere persevere pers...   \n",
       "4                                           heart heart   \n",
       "...                                                 ...   \n",
       "1021                                         gift_heart   \n",
       "1022                                              heart   \n",
       "1023                                          hugs wink   \n",
       "1024  blush blush blush blush blush blush blush blus...   \n",
       "1025                                               wink   \n",
       "\n",
       "                                   output_proba  output_class  \n",
       "0      (0.0690459925648299, 0.9309540074351701)             1  \n",
       "1      (0.0639276610567524, 0.9360723389432476)             1  \n",
       "2      (0.7222422050450168, 0.2777577949549832)             0  \n",
       "3     (0.6086211652496625, 0.39137883475033747)             0  \n",
       "4     (0.03977199088274086, 0.9602280091172591)             1  \n",
       "...                                         ...           ...  \n",
       "1021   (0.3500220073124234, 0.6499779926875766)             1  \n",
       "1022  (0.03977199088274086, 0.9602280091172591)             1  \n",
       "1023   (0.3321253514338075, 0.6678746485661925)             1  \n",
       "1024  (0.13724536542157273, 0.8627546345784273)             1  \n",
       "1025   (0.3712072811835553, 0.6287927188164447)             1  \n",
       "\n",
       "[1026 rows x 3 columns]"
      ]
     },
     "metadata": {}
    },
    {
     "output_type": "display_data",
     "data": {
      "text/html": [
       "<div>\n",
       "<style scoped>\n",
       "    .dataframe tbody tr th:only-of-type {\n",
       "        vertical-align: middle;\n",
       "    }\n",
       "\n",
       "    .dataframe tbody tr th {\n",
       "        vertical-align: top;\n",
       "    }\n",
       "\n",
       "    .dataframe thead th {\n",
       "        text-align: right;\n",
       "    }\n",
       "</style>\n",
       "<table border=\"1\" class=\"dataframe\">\n",
       "  <thead>\n",
       "    <tr style=\"text-align: right;\">\n",
       "      <th></th>\n",
       "      <th>input</th>\n",
       "      <th>output_proba</th>\n",
       "      <th>output_class</th>\n",
       "    </tr>\n",
       "  </thead>\n",
       "  <tbody>\n",
       "    <tr>\n",
       "      <th>0</th>\n",
       "      <td>wink</td>\n",
       "      <td>(0.3712072811835553, 0.6287927188164447)</td>\n",
       "      <td>1</td>\n",
       "    </tr>\n",
       "    <tr>\n",
       "      <th>1</th>\n",
       "      <td>heart</td>\n",
       "      <td>(0.03977199088274086, 0.9602280091172591)</td>\n",
       "      <td>1</td>\n",
       "    </tr>\n",
       "    <tr>\n",
       "      <th>2</th>\n",
       "      <td>rofl rofl</td>\n",
       "      <td>(0.3070906240706651, 0.6929093759293349)</td>\n",
       "      <td>1</td>\n",
       "    </tr>\n",
       "    <tr>\n",
       "      <th>3</th>\n",
       "      <td>rofl rofl rofl rofl rofl rofl rofl rofl rofl r...</td>\n",
       "      <td>(0.1682098403308303, 0.8317901596691697)</td>\n",
       "      <td>1</td>\n",
       "    </tr>\n",
       "    <tr>\n",
       "      <th>4</th>\n",
       "      <td>heart_eyes heart_eyes</td>\n",
       "      <td>(0.0690459925648299, 0.9309540074351701)</td>\n",
       "      <td>1</td>\n",
       "    </tr>\n",
       "    <tr>\n",
       "      <th>...</th>\n",
       "      <td>...</td>\n",
       "      <td>...</td>\n",
       "      <td>...</td>\n",
       "    </tr>\n",
       "    <tr>\n",
       "      <th>252</th>\n",
       "      <td>shit</td>\n",
       "      <td>(0.5461358590363463, 0.4538641409636537)</td>\n",
       "      <td>0</td>\n",
       "    </tr>\n",
       "    <tr>\n",
       "      <th>253</th>\n",
       "      <td>joy</td>\n",
       "      <td>(0.2386855657399103, 0.7613144342600897)</td>\n",
       "      <td>1</td>\n",
       "    </tr>\n",
       "    <tr>\n",
       "      <th>254</th>\n",
       "      <td>disappointed disappointed disappointed disappo...</td>\n",
       "      <td>(0.7608262221340357, 0.23917377786596428)</td>\n",
       "      <td>0</td>\n",
       "    </tr>\n",
       "    <tr>\n",
       "      <th>255</th>\n",
       "      <td>cry</td>\n",
       "      <td>(0.6713100653363226, 0.3286899346636773)</td>\n",
       "      <td>0</td>\n",
       "    </tr>\n",
       "    <tr>\n",
       "      <th>256</th>\n",
       "      <td>kissing_heart kissing_heart kissing_heart kiss...</td>\n",
       "      <td>(0.09632266198438322, 0.9036773380156168)</td>\n",
       "      <td>1</td>\n",
       "    </tr>\n",
       "  </tbody>\n",
       "</table>\n",
       "<p>257 rows × 3 columns</p>\n",
       "</div>"
      ],
      "text/plain": [
       "                                                 input  \\\n",
       "0                                                 wink   \n",
       "1                                                heart   \n",
       "2                                            rofl rofl   \n",
       "3    rofl rofl rofl rofl rofl rofl rofl rofl rofl r...   \n",
       "4                                heart_eyes heart_eyes   \n",
       "..                                                 ...   \n",
       "252                                               shit   \n",
       "253                                                joy   \n",
       "254  disappointed disappointed disappointed disappo...   \n",
       "255                                                cry   \n",
       "256  kissing_heart kissing_heart kissing_heart kiss...   \n",
       "\n",
       "                                  output_proba  output_class  \n",
       "0     (0.3712072811835553, 0.6287927188164447)             1  \n",
       "1    (0.03977199088274086, 0.9602280091172591)             1  \n",
       "2     (0.3070906240706651, 0.6929093759293349)             1  \n",
       "3     (0.1682098403308303, 0.8317901596691697)             1  \n",
       "4     (0.0690459925648299, 0.9309540074351701)             1  \n",
       "..                                         ...           ...  \n",
       "252   (0.5461358590363463, 0.4538641409636537)             0  \n",
       "253   (0.2386855657399103, 0.7613144342600897)             1  \n",
       "254  (0.7608262221340357, 0.23917377786596428)             0  \n",
       "255   (0.6713100653363226, 0.3286899346636773)             0  \n",
       "256  (0.09632266198438322, 0.9036773380156168)             1  \n",
       "\n",
       "[257 rows x 3 columns]"
      ]
     },
     "metadata": {}
    }
   ],
   "metadata": {}
  },
  {
   "cell_type": "code",
   "execution_count": 24,
   "source": [
    "# SVC model\n",
    "y_train_pred = svc_model.predict(X_train['emoji_decode'])\n",
    "y_test_pred = svc_model.predict(X_test['emoji_decode'])\n",
    "\n",
    "Model.confusionMatrix(y_train, y_train_pred['output_class'])\n",
    "Model.confusionMatrix(y_test, y_test_pred['output_class'])\n",
    "\n",
    "svc_model.rocAuc(X_train['emoji_decode'], y_train)\n",
    "svc_model.rocAuc(X_test['emoji_decode'], y_test)\n",
    "\n",
    "display(y_train_pred, y_test_pred)"
   ],
   "outputs": [
    {
     "output_type": "stream",
     "name": "stdout",
     "text": [
      "              precision    recall  f1-score   support\n",
      "\n",
      "    Negative       0.88      0.80      0.84       357\n",
      "    Positive       0.90      0.94      0.92       669\n",
      "\n",
      "    accuracy                           0.89      1026\n",
      "   macro avg       0.89      0.87      0.88      1026\n",
      "weighted avg       0.89      0.89      0.89      1026\n",
      "\n"
     ]
    },
    {
     "output_type": "display_data",
     "data": {
      "image/png": "[encoded data removed]",
      "text/plain": [
       "<Figure size 432x288 with 2 Axes>"
      ]
     },
     "metadata": {
      "needs_background": "light"
     }
    },
    {
     "output_type": "stream",
     "name": "stdout",
     "text": [
      "              precision    recall  f1-score   support\n",
      "\n",
      "    Negative       0.82      0.67      0.74        97\n",
      "    Positive       0.82      0.91      0.86       160\n",
      "\n",
      "    accuracy                           0.82       257\n",
      "   macro avg       0.82      0.79      0.80       257\n",
      "weighted avg       0.82      0.82      0.82       257\n",
      "\n"
     ]
    },
    {
     "output_type": "display_data",
     "data": {
      "image/png": "[encoded data removed]",
      "text/plain": [
       "<Figure size 432x288 with 2 Axes>"
      ]
     },
     "metadata": {
      "needs_background": "light"
     }
    },
    {
     "output_type": "display_data",
     "data": {
      "image/png": "[encoded data removed]",
      "text/plain": [
       "<Figure size 432x288 with 1 Axes>"
      ]
     },
     "metadata": {
      "needs_background": "light"
     }
    },
    {
     "output_type": "display_data",
     "data": {
      "image/png": "[encoded data removed]",
      "text/plain": [
       "<Figure size 432x288 with 1 Axes>"
      ]
     },
     "metadata": {
      "needs_background": "light"
     }
    },
    {
     "output_type": "display_data",
     "data": {
      "text/html": [
       "<div>\n",
       "<style scoped>\n",
       "    .dataframe tbody tr th:only-of-type {\n",
       "        vertical-align: middle;\n",
       "    }\n",
       "\n",
       "    .dataframe tbody tr th {\n",
       "        vertical-align: top;\n",
       "    }\n",
       "\n",
       "    .dataframe thead th {\n",
       "        text-align: right;\n",
       "    }\n",
       "</style>\n",
       "<table border=\"1\" class=\"dataframe\">\n",
       "  <thead>\n",
       "    <tr style=\"text-align: right;\">\n",
       "      <th></th>\n",
       "      <th>input</th>\n",
       "      <th>output_proba</th>\n",
       "      <th>output_class</th>\n",
       "    </tr>\n",
       "  </thead>\n",
       "  <tbody>\n",
       "    <tr>\n",
       "      <th>0</th>\n",
       "      <td>heart_eyes</td>\n",
       "      <td>(0.10266231365321639, 0.8973376863467836)</td>\n",
       "      <td>1</td>\n",
       "    </tr>\n",
       "    <tr>\n",
       "      <th>1</th>\n",
       "      <td>hearts hearts hearts kissing_heart kissing_hea...</td>\n",
       "      <td>(0.10232899031493847, 0.8976710096850615)</td>\n",
       "      <td>1</td>\n",
       "    </tr>\n",
       "    <tr>\n",
       "      <th>2</th>\n",
       "      <td>relieved</td>\n",
       "      <td>(0.867374421854991, 0.13262557814500886)</td>\n",
       "      <td>0</td>\n",
       "    </tr>\n",
       "    <tr>\n",
       "      <th>3</th>\n",
       "      <td>sob sob sob persevere persevere persevere pers...</td>\n",
       "      <td>(0.7574393894608992, 0.24256061053910113)</td>\n",
       "      <td>0</td>\n",
       "    </tr>\n",
       "    <tr>\n",
       "      <th>4</th>\n",
       "      <td>heart heart</td>\n",
       "      <td>(0.09273168262614771, 0.9072683173738522)</td>\n",
       "      <td>1</td>\n",
       "    </tr>\n",
       "    <tr>\n",
       "      <th>...</th>\n",
       "      <td>...</td>\n",
       "      <td>...</td>\n",
       "      <td>...</td>\n",
       "    </tr>\n",
       "    <tr>\n",
       "      <th>1021</th>\n",
       "      <td>gift_heart</td>\n",
       "      <td>(0.10270967458866774, 0.8972903254113321)</td>\n",
       "      <td>1</td>\n",
       "    </tr>\n",
       "    <tr>\n",
       "      <th>1022</th>\n",
       "      <td>heart</td>\n",
       "      <td>(0.09273168262614771, 0.9072683173738522)</td>\n",
       "      <td>1</td>\n",
       "    </tr>\n",
       "    <tr>\n",
       "      <th>1023</th>\n",
       "      <td>hugs wink</td>\n",
       "      <td>(0.10272172235742406, 0.897278277642576)</td>\n",
       "      <td>1</td>\n",
       "    </tr>\n",
       "    <tr>\n",
       "      <th>1024</th>\n",
       "      <td>blush blush blush blush blush blush blush blus...</td>\n",
       "      <td>(0.10269418172196916, 0.8973058182780309)</td>\n",
       "      <td>1</td>\n",
       "    </tr>\n",
       "    <tr>\n",
       "      <th>1025</th>\n",
       "      <td>wink</td>\n",
       "      <td>(0.14995291012493978, 0.8500470898750603)</td>\n",
       "      <td>1</td>\n",
       "    </tr>\n",
       "  </tbody>\n",
       "</table>\n",
       "<p>1026 rows × 3 columns</p>\n",
       "</div>"
      ],
      "text/plain": [
       "                                                  input  \\\n",
       "0                                            heart_eyes   \n",
       "1     hearts hearts hearts kissing_heart kissing_hea...   \n",
       "2                                              relieved   \n",
       "3     sob sob sob persevere persevere persevere pers...   \n",
       "4                                           heart heart   \n",
       "...                                                 ...   \n",
       "1021                                         gift_heart   \n",
       "1022                                              heart   \n",
       "1023                                          hugs wink   \n",
       "1024  blush blush blush blush blush blush blush blus...   \n",
       "1025                                               wink   \n",
       "\n",
       "                                   output_proba  output_class  \n",
       "0     (0.10266231365321639, 0.8973376863467836)             1  \n",
       "1     (0.10232899031493847, 0.8976710096850615)             1  \n",
       "2      (0.867374421854991, 0.13262557814500886)             0  \n",
       "3     (0.7574393894608992, 0.24256061053910113)             0  \n",
       "4     (0.09273168262614771, 0.9072683173738522)             1  \n",
       "...                                         ...           ...  \n",
       "1021  (0.10270967458866774, 0.8972903254113321)             1  \n",
       "1022  (0.09273168262614771, 0.9072683173738522)             1  \n",
       "1023   (0.10272172235742406, 0.897278277642576)             1  \n",
       "1024  (0.10269418172196916, 0.8973058182780309)             1  \n",
       "1025  (0.14995291012493978, 0.8500470898750603)             1  \n",
       "\n",
       "[1026 rows x 3 columns]"
      ]
     },
     "metadata": {}
    },
    {
     "output_type": "display_data",
     "data": {
      "text/html": [
       "<div>\n",
       "<style scoped>\n",
       "    .dataframe tbody tr th:only-of-type {\n",
       "        vertical-align: middle;\n",
       "    }\n",
       "\n",
       "    .dataframe tbody tr th {\n",
       "        vertical-align: top;\n",
       "    }\n",
       "\n",
       "    .dataframe thead th {\n",
       "        text-align: right;\n",
       "    }\n",
       "</style>\n",
       "<table border=\"1\" class=\"dataframe\">\n",
       "  <thead>\n",
       "    <tr style=\"text-align: right;\">\n",
       "      <th></th>\n",
       "      <th>input</th>\n",
       "      <th>output_proba</th>\n",
       "      <th>output_class</th>\n",
       "    </tr>\n",
       "  </thead>\n",
       "  <tbody>\n",
       "    <tr>\n",
       "      <th>0</th>\n",
       "      <td>wink</td>\n",
       "      <td>(0.14995291012493978, 0.8500470898750603)</td>\n",
       "      <td>1</td>\n",
       "    </tr>\n",
       "    <tr>\n",
       "      <th>1</th>\n",
       "      <td>heart</td>\n",
       "      <td>(0.09273168262614771, 0.9072683173738522)</td>\n",
       "      <td>1</td>\n",
       "    </tr>\n",
       "    <tr>\n",
       "      <th>2</th>\n",
       "      <td>rofl rofl</td>\n",
       "      <td>(0.10263782191175236, 0.8973621780882477)</td>\n",
       "      <td>1</td>\n",
       "    </tr>\n",
       "    <tr>\n",
       "      <th>3</th>\n",
       "      <td>rofl rofl rofl rofl rofl rofl rofl rofl rofl r...</td>\n",
       "      <td>(0.09508878763041478, 0.9049112123695854)</td>\n",
       "      <td>1</td>\n",
       "    </tr>\n",
       "    <tr>\n",
       "      <th>4</th>\n",
       "      <td>heart_eyes heart_eyes</td>\n",
       "      <td>(0.10266231365321639, 0.8973376863467836)</td>\n",
       "      <td>1</td>\n",
       "    </tr>\n",
       "    <tr>\n",
       "      <th>...</th>\n",
       "      <td>...</td>\n",
       "      <td>...</td>\n",
       "      <td>...</td>\n",
       "    </tr>\n",
       "    <tr>\n",
       "      <th>252</th>\n",
       "      <td>shit</td>\n",
       "      <td>(0.7657189508922359, 0.23428104910776407)</td>\n",
       "      <td>0</td>\n",
       "    </tr>\n",
       "    <tr>\n",
       "      <th>253</th>\n",
       "      <td>joy</td>\n",
       "      <td>(0.10265509139923557, 0.8973449086007645)</td>\n",
       "      <td>1</td>\n",
       "    </tr>\n",
       "    <tr>\n",
       "      <th>254</th>\n",
       "      <td>disappointed disappointed disappointed disappo...</td>\n",
       "      <td>(0.8672722047277136, 0.13272779527228637)</td>\n",
       "      <td>0</td>\n",
       "    </tr>\n",
       "    <tr>\n",
       "      <th>255</th>\n",
       "      <td>cry</td>\n",
       "      <td>(0.8674118652597433, 0.13258813474025677)</td>\n",
       "      <td>0</td>\n",
       "    </tr>\n",
       "    <tr>\n",
       "      <th>256</th>\n",
       "      <td>kissing_heart kissing_heart kissing_heart kiss...</td>\n",
       "      <td>(0.10261427602171362, 0.8973857239782862)</td>\n",
       "      <td>1</td>\n",
       "    </tr>\n",
       "  </tbody>\n",
       "</table>\n",
       "<p>257 rows × 3 columns</p>\n",
       "</div>"
      ],
      "text/plain": [
       "                                                 input  \\\n",
       "0                                                 wink   \n",
       "1                                                heart   \n",
       "2                                            rofl rofl   \n",
       "3    rofl rofl rofl rofl rofl rofl rofl rofl rofl r...   \n",
       "4                                heart_eyes heart_eyes   \n",
       "..                                                 ...   \n",
       "252                                               shit   \n",
       "253                                                joy   \n",
       "254  disappointed disappointed disappointed disappo...   \n",
       "255                                                cry   \n",
       "256  kissing_heart kissing_heart kissing_heart kiss...   \n",
       "\n",
       "                                  output_proba  output_class  \n",
       "0    (0.14995291012493978, 0.8500470898750603)             1  \n",
       "1    (0.09273168262614771, 0.9072683173738522)             1  \n",
       "2    (0.10263782191175236, 0.8973621780882477)             1  \n",
       "3    (0.09508878763041478, 0.9049112123695854)             1  \n",
       "4    (0.10266231365321639, 0.8973376863467836)             1  \n",
       "..                                         ...           ...  \n",
       "252  (0.7657189508922359, 0.23428104910776407)             0  \n",
       "253  (0.10265509139923557, 0.8973449086007645)             1  \n",
       "254  (0.8672722047277136, 0.13272779527228637)             0  \n",
       "255  (0.8674118652597433, 0.13258813474025677)             0  \n",
       "256  (0.10261427602171362, 0.8973857239782862)             1  \n",
       "\n",
       "[257 rows x 3 columns]"
      ]
     },
     "metadata": {}
    }
   ],
   "metadata": {}
  },
  {
   "cell_type": "code",
   "execution_count": 25,
   "source": [
    "# Random forest model\n",
    "y_train_pred = rdforest_model.predict(X_train['emoji_decode'])\n",
    "y_test_pred = rdforest_model.predict(X_test['emoji_decode'])\n",
    "\n",
    "Model.confusionMatrix(y_train, y_train_pred['output_class'])\n",
    "Model.confusionMatrix(y_test, y_test_pred['output_class'])\n",
    "\n",
    "rdforest_model.rocAuc(X_train['emoji_decode'], y_train)\n",
    "rdforest_model.rocAuc(X_test['emoji_decode'], y_test)\n",
    "\n",
    "display(y_train_pred, y_test_pred)"
   ],
   "outputs": [
    {
     "output_type": "stream",
     "name": "stdout",
     "text": [
      "              precision    recall  f1-score   support\n",
      "\n",
      "    Negative       0.85      0.86      0.86       357\n",
      "    Positive       0.92      0.92      0.92       669\n",
      "\n",
      "    accuracy                           0.90      1026\n",
      "   macro avg       0.89      0.89      0.89      1026\n",
      "weighted avg       0.90      0.90      0.90      1026\n",
      "\n"
     ]
    },
    {
     "output_type": "display_data",
     "data": {
      "image/png": "[encoded data removed]",
      "text/plain": [
       "<Figure size 432x288 with 2 Axes>"
      ]
     },
     "metadata": {
      "needs_background": "light"
     }
    },
    {
     "output_type": "stream",
     "name": "stdout",
     "text": [
      "              precision    recall  f1-score   support\n",
      "\n",
      "    Negative       0.75      0.68      0.71        97\n",
      "    Positive       0.82      0.86      0.84       160\n",
      "\n",
      "    accuracy                           0.79       257\n",
      "   macro avg       0.78      0.77      0.78       257\n",
      "weighted avg       0.79      0.79      0.79       257\n",
      "\n"
     ]
    },
    {
     "output_type": "display_data",
     "data": {
      "image/png": "[encoded data removed]",
      "text/plain": [
       "<Figure size 432x288 with 2 Axes>"
      ]
     },
     "metadata": {
      "needs_background": "light"
     }
    },
    {
     "output_type": "display_data",
     "data": {
      "image/png": "[encoded data removed]",
      "text/plain": [
       "<Figure size 432x288 with 1 Axes>"
      ]
     },
     "metadata": {
      "needs_background": "light"
     }
    },
    {
     "output_type": "display_data",
     "data": {
      "image/png": "[encoded data removed]",
      "text/plain": [
       "<Figure size 432x288 with 1 Axes>"
      ]
     },
     "metadata": {
      "needs_background": "light"
     }
    },
    {
     "output_type": "display_data",
     "data": {
      "text/html": [
       "<div>\n",
       "<style scoped>\n",
       "    .dataframe tbody tr th:only-of-type {\n",
       "        vertical-align: middle;\n",
       "    }\n",
       "\n",
       "    .dataframe tbody tr th {\n",
       "        vertical-align: top;\n",
       "    }\n",
       "\n",
       "    .dataframe thead th {\n",
       "        text-align: right;\n",
       "    }\n",
       "</style>\n",
       "<table border=\"1\" class=\"dataframe\">\n",
       "  <thead>\n",
       "    <tr style=\"text-align: right;\">\n",
       "      <th></th>\n",
       "      <th>input</th>\n",
       "      <th>output_proba</th>\n",
       "      <th>output_class</th>\n",
       "    </tr>\n",
       "  </thead>\n",
       "  <tbody>\n",
       "    <tr>\n",
       "      <th>0</th>\n",
       "      <td>heart_eyes</td>\n",
       "      <td>(0.03921568627450975, 0.9607843137254879)</td>\n",
       "      <td>1</td>\n",
       "    </tr>\n",
       "    <tr>\n",
       "      <th>1</th>\n",
       "      <td>hearts hearts hearts kissing_heart kissing_hea...</td>\n",
       "      <td>(0.0, 1.0)</td>\n",
       "      <td>1</td>\n",
       "    </tr>\n",
       "    <tr>\n",
       "      <th>2</th>\n",
       "      <td>relieved</td>\n",
       "      <td>(0.833333333333333, 0.16666666666666646)</td>\n",
       "      <td>0</td>\n",
       "    </tr>\n",
       "    <tr>\n",
       "      <th>3</th>\n",
       "      <td>sob sob sob persevere persevere persevere pers...</td>\n",
       "      <td>(0.0, 1.0)</td>\n",
       "      <td>1</td>\n",
       "    </tr>\n",
       "    <tr>\n",
       "      <th>4</th>\n",
       "      <td>heart heart</td>\n",
       "      <td>(0.014285714285714256, 0.9857142857142847)</td>\n",
       "      <td>1</td>\n",
       "    </tr>\n",
       "    <tr>\n",
       "      <th>...</th>\n",
       "      <td>...</td>\n",
       "      <td>...</td>\n",
       "      <td>...</td>\n",
       "    </tr>\n",
       "    <tr>\n",
       "      <th>1021</th>\n",
       "      <td>gift_heart</td>\n",
       "      <td>(0.0, 1.0)</td>\n",
       "      <td>1</td>\n",
       "    </tr>\n",
       "    <tr>\n",
       "      <th>1022</th>\n",
       "      <td>heart</td>\n",
       "      <td>(0.014285714285714256, 0.9857142857142847)</td>\n",
       "      <td>1</td>\n",
       "    </tr>\n",
       "    <tr>\n",
       "      <th>1023</th>\n",
       "      <td>hugs wink</td>\n",
       "      <td>(0.0, 1.0)</td>\n",
       "      <td>1</td>\n",
       "    </tr>\n",
       "    <tr>\n",
       "      <th>1024</th>\n",
       "      <td>blush blush blush blush blush blush blush blus...</td>\n",
       "      <td>(0.09523809523809508, 0.904761904761903)</td>\n",
       "      <td>1</td>\n",
       "    </tr>\n",
       "    <tr>\n",
       "      <th>1025</th>\n",
       "      <td>wink</td>\n",
       "      <td>(0.5, 0.5)</td>\n",
       "      <td>0</td>\n",
       "    </tr>\n",
       "  </tbody>\n",
       "</table>\n",
       "<p>1026 rows × 3 columns</p>\n",
       "</div>"
      ],
      "text/plain": [
       "                                                  input  \\\n",
       "0                                            heart_eyes   \n",
       "1     hearts hearts hearts kissing_heart kissing_hea...   \n",
       "2                                              relieved   \n",
       "3     sob sob sob persevere persevere persevere pers...   \n",
       "4                                           heart heart   \n",
       "...                                                 ...   \n",
       "1021                                         gift_heart   \n",
       "1022                                              heart   \n",
       "1023                                          hugs wink   \n",
       "1024  blush blush blush blush blush blush blush blus...   \n",
       "1025                                               wink   \n",
       "\n",
       "                                    output_proba  output_class  \n",
       "0      (0.03921568627450975, 0.9607843137254879)             1  \n",
       "1                                     (0.0, 1.0)             1  \n",
       "2       (0.833333333333333, 0.16666666666666646)             0  \n",
       "3                                     (0.0, 1.0)             1  \n",
       "4     (0.014285714285714256, 0.9857142857142847)             1  \n",
       "...                                          ...           ...  \n",
       "1021                                  (0.0, 1.0)             1  \n",
       "1022  (0.014285714285714256, 0.9857142857142847)             1  \n",
       "1023                                  (0.0, 1.0)             1  \n",
       "1024    (0.09523809523809508, 0.904761904761903)             1  \n",
       "1025                                  (0.5, 0.5)             0  \n",
       "\n",
       "[1026 rows x 3 columns]"
      ]
     },
     "metadata": {}
    },
    {
     "output_type": "display_data",
     "data": {
      "text/html": [
       "<div>\n",
       "<style scoped>\n",
       "    .dataframe tbody tr th:only-of-type {\n",
       "        vertical-align: middle;\n",
       "    }\n",
       "\n",
       "    .dataframe tbody tr th {\n",
       "        vertical-align: top;\n",
       "    }\n",
       "\n",
       "    .dataframe thead th {\n",
       "        text-align: right;\n",
       "    }\n",
       "</style>\n",
       "<table border=\"1\" class=\"dataframe\">\n",
       "  <thead>\n",
       "    <tr style=\"text-align: right;\">\n",
       "      <th></th>\n",
       "      <th>input</th>\n",
       "      <th>output_proba</th>\n",
       "      <th>output_class</th>\n",
       "    </tr>\n",
       "  </thead>\n",
       "  <tbody>\n",
       "    <tr>\n",
       "      <th>0</th>\n",
       "      <td>wink</td>\n",
       "      <td>(0.5, 0.5)</td>\n",
       "      <td>0</td>\n",
       "    </tr>\n",
       "    <tr>\n",
       "      <th>1</th>\n",
       "      <td>heart</td>\n",
       "      <td>(0.014285714285714256, 0.9857142857142847)</td>\n",
       "      <td>1</td>\n",
       "    </tr>\n",
       "    <tr>\n",
       "      <th>2</th>\n",
       "      <td>rofl rofl</td>\n",
       "      <td>(0.3125, 0.6875)</td>\n",
       "      <td>1</td>\n",
       "    </tr>\n",
       "    <tr>\n",
       "      <th>3</th>\n",
       "      <td>rofl rofl rofl rofl rofl rofl rofl rofl rofl r...</td>\n",
       "      <td>(0.04983552631578947, 0.9501644736842105)</td>\n",
       "      <td>1</td>\n",
       "    </tr>\n",
       "    <tr>\n",
       "      <th>4</th>\n",
       "      <td>heart_eyes heart_eyes</td>\n",
       "      <td>(0.03921568627450975, 0.9607843137254879)</td>\n",
       "      <td>1</td>\n",
       "    </tr>\n",
       "    <tr>\n",
       "      <th>...</th>\n",
       "      <td>...</td>\n",
       "      <td>...</td>\n",
       "      <td>...</td>\n",
       "    </tr>\n",
       "    <tr>\n",
       "      <th>252</th>\n",
       "      <td>shit</td>\n",
       "      <td>(1.0, 0.0)</td>\n",
       "      <td>0</td>\n",
       "    </tr>\n",
       "    <tr>\n",
       "      <th>253</th>\n",
       "      <td>joy</td>\n",
       "      <td>(0.2631578947368424, 0.7368421052631585)</td>\n",
       "      <td>1</td>\n",
       "    </tr>\n",
       "    <tr>\n",
       "      <th>254</th>\n",
       "      <td>disappointed disappointed disappointed disappo...</td>\n",
       "      <td>(0.9000000000000008, 0.09999999999999981)</td>\n",
       "      <td>0</td>\n",
       "    </tr>\n",
       "    <tr>\n",
       "      <th>255</th>\n",
       "      <td>cry</td>\n",
       "      <td>(0.7777777777777771, 0.22222222222222177)</td>\n",
       "      <td>0</td>\n",
       "    </tr>\n",
       "    <tr>\n",
       "      <th>256</th>\n",
       "      <td>kissing_heart kissing_heart kissing_heart kiss...</td>\n",
       "      <td>(0.0, 1.0)</td>\n",
       "      <td>1</td>\n",
       "    </tr>\n",
       "  </tbody>\n",
       "</table>\n",
       "<p>257 rows × 3 columns</p>\n",
       "</div>"
      ],
      "text/plain": [
       "                                                 input  \\\n",
       "0                                                 wink   \n",
       "1                                                heart   \n",
       "2                                            rofl rofl   \n",
       "3    rofl rofl rofl rofl rofl rofl rofl rofl rofl r...   \n",
       "4                                heart_eyes heart_eyes   \n",
       "..                                                 ...   \n",
       "252                                               shit   \n",
       "253                                                joy   \n",
       "254  disappointed disappointed disappointed disappo...   \n",
       "255                                                cry   \n",
       "256  kissing_heart kissing_heart kissing_heart kiss...   \n",
       "\n",
       "                                   output_proba  output_class  \n",
       "0                                    (0.5, 0.5)             0  \n",
       "1    (0.014285714285714256, 0.9857142857142847)             1  \n",
       "2                              (0.3125, 0.6875)             1  \n",
       "3     (0.04983552631578947, 0.9501644736842105)             1  \n",
       "4     (0.03921568627450975, 0.9607843137254879)             1  \n",
       "..                                          ...           ...  \n",
       "252                                  (1.0, 0.0)             0  \n",
       "253    (0.2631578947368424, 0.7368421052631585)             1  \n",
       "254   (0.9000000000000008, 0.09999999999999981)             0  \n",
       "255   (0.7777777777777771, 0.22222222222222177)             0  \n",
       "256                                  (0.0, 1.0)             1  \n",
       "\n",
       "[257 rows x 3 columns]"
      ]
     },
     "metadata": {}
    }
   ],
   "metadata": {}
  },
  {
   "cell_type": "markdown",
   "source": [
    "> **Nhận xét**:\n",
    "> * Model Random forest bị hiện tượng overfitting, hai model còn lại có xu hướng nhận diện sai các mẫu theo đúng là negative nhưng lại nhầm sang positive.\n",
    "> * Tuy nhiên, nhìn chung thì hai model logistic và svm vẫn tốt, accuracy trên 80% - đây cũng là một con số khá ổn cho một tập dữ liệu dạng text như vầy.\n",
    "> * Tiếp theo, nhờ vào trực quan ta cũng lí giải được lí do vì sao ROC-AUC lại thấp vì số true negative sample là khoảng 100 trong khi ở true positive sample là 150."
   ],
   "metadata": {}
  },
  {
   "cell_type": "markdown",
   "source": [
    "Ta tiến hành lưu các model này lại kèm theo vectorizer TF-IDF dưới dạng file `*.pickle`.\n",
    "\n",
    "Nhìn chung, ta thấy model Logistic hoạt động tốt nhất, tuy nhiên ta chưa biết liệu khi kết hợp với **Comment sentiment model** thì hiệu quả kết hợp giữa chúng sẽ như thế nào, nên ta sẽ lưu toàn bộ lại."
   ],
   "metadata": {}
  },
  {
   "cell_type": "code",
   "execution_count": 26,
   "source": [
    "Model.saveByPickle(svc_model, \"./models/svc_model_emojis.pickle\")\n",
    "Model.saveByPickle(logistic_model, \"./models/logistic_model_emojis.pickle\")\n",
    "Model.saveByPickle(rdforest_model, \"./models/rdforest_model_emojis.pickle\")"
   ],
   "outputs": [
    {
     "output_type": "stream",
     "name": "stdout",
     "text": [
      "<modules.model.SentimentModel object at 0x7ff6cd8adac0> has been saved at ./models/svc_model_emojis.pickle.\n",
      "<modules.model.SentimentModel object at 0x7ff6cd8adbb0> has been saved at ./models/logistic_model_emojis.pickle.\n",
      "<modules.model.SentimentModel object at 0x7ff7a53d8940> has been saved at ./models/rdforest_model_emojis.pickle.\n"
     ]
    }
   ],
   "metadata": {}
  }
 ],
 "metadata": {
  "orig_nbformat": 4,
  "language_info": {
   "name": "python",
   "version": "3.8.10",
   "mimetype": "text/x-python",
   "codemirror_mode": {
    "name": "ipython",
    "version": 3
   },
   "pygments_lexer": "ipython3",
   "nbconvert_exporter": "python",
   "file_extension": ".py"
  },
  "kernelspec": {
   "name": "python3",
   "display_name": "Python 3.8.10 64-bit"
  },
  "interpreter": {
   "hash": "31f2aee4e71d21fbe5cf8b01ff0e069b9275f58929596ceb00d14d90e3e16cd6"
  }
 },
 "nbformat": 4,
 "nbformat_minor": 2
}