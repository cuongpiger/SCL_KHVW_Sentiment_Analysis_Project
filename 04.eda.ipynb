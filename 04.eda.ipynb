{
 "cells": [
  {
   "cell_type": "code",
   "execution_count": 1,
   "source": [
    "%load_ext autoreload\n",
    "%autoreload 2"
   ],
   "outputs": [],
   "metadata": {}
  },
  {
   "cell_type": "code",
   "execution_count": 2,
   "source": [
    "import modules.eda as Detective\n",
    "import pandas as pd\n",
    "import warnings\n",
    "\n",
    "warnings.filterwarnings('ignore')"
   ],
   "outputs": [],
   "metadata": {}
  },
  {
   "cell_type": "markdown",
   "source": [
    "Đọc dữ liệu từ project 1 và sắp xếp lại các column"
   ],
   "metadata": {}
  },
  {
   "cell_type": "code",
   "execution_count": 3,
   "source": [
    "reviews = pd.read_csv(\"./data/normalize_reviews.csv\").fillna(\"\")\n",
    "reviews = reviews[['raw_comment', 'normalize_comment', 'emoji', 'label']]\n",
    "\n",
    "reviews.head()"
   ],
   "outputs": [
    {
     "output_type": "execute_result",
     "data": {
      "text/html": [
       "<div>\n",
       "<style scoped>\n",
       "    .dataframe tbody tr th:only-of-type {\n",
       "        vertical-align: middle;\n",
       "    }\n",
       "\n",
       "    .dataframe tbody tr th {\n",
       "        vertical-align: top;\n",
       "    }\n",
       "\n",
       "    .dataframe thead th {\n",
       "        text-align: right;\n",
       "    }\n",
       "</style>\n",
       "<table border=\"1\" class=\"dataframe\">\n",
       "  <thead>\n",
       "    <tr style=\"text-align: right;\">\n",
       "      <th></th>\n",
       "      <th>raw_comment</th>\n",
       "      <th>normalize_comment</th>\n",
       "      <th>emoji</th>\n",
       "      <th>label</th>\n",
       "    </tr>\n",
       "  </thead>\n",
       "  <tbody>\n",
       "    <tr>\n",
       "      <th>0</th>\n",
       "      <td>Giao hàng kh đúng cần phê bình hjjjjjhhd...</td>\n",
       "      <td>giao hàng không đúng cần phê bình</td>\n",
       "      <td></td>\n",
       "      <td>0</td>\n",
       "    </tr>\n",
       "    <tr>\n",
       "      <th>1</th>\n",
       "      <td>Chất lượng sản phẩm tạm được. Giao...</td>\n",
       "      <td>chất lượng sản phẩm tạm được giao ...</td>\n",
       "      <td></td>\n",
       "      <td>0</td>\n",
       "    </tr>\n",
       "    <tr>\n",
       "      <th>2</th>\n",
       "      <td>Ko có lắc tay như hình</td>\n",
       "      <td>không có lắc tay như hình</td>\n",
       "      <td></td>\n",
       "      <td>0</td>\n",
       "    </tr>\n",
       "    <tr>\n",
       "      <th>3</th>\n",
       "      <td>Giao hàng lâu. Bảo có lắc tay mà k thâ...</td>\n",
       "      <td>giao hàng lâu bảo có lắc tay mà không ...</td>\n",
       "      <td></td>\n",
       "      <td>0</td>\n",
       "    </tr>\n",
       "    <tr>\n",
       "      <th>4</th>\n",
       "      <td>Mình mua 2 cái, một dùng ok. Một cái k...</td>\n",
       "      <td>mua cái một dùng ok một cái không chạ...</td>\n",
       "      <td>😢</td>\n",
       "      <td>0</td>\n",
       "    </tr>\n",
       "  </tbody>\n",
       "</table>\n",
       "</div>"
      ],
      "text/plain": [
       "                                         raw_comment  \\\n",
       "0  Giao hàng kh đúng cần phê bình hjjjjjhhd...   \n",
       "1  Chất lượng sản phẩm tạm được. Giao...   \n",
       "2                        Ko có lắc tay như hình   \n",
       "3  Giao hàng lâu. Bảo có lắc tay mà k thâ...   \n",
       "4  Mình mua 2 cái, một dùng ok. Một cái k...   \n",
       "\n",
       "                                   normalize_comment emoji  label  \n",
       "0           giao hàng không đúng cần phê bình            0  \n",
       "1  chất lượng sản phẩm tạm được giao ...            0  \n",
       "2                    không có lắc tay như hình            0  \n",
       "3  giao hàng lâu bảo có lắc tay mà không ...            0  \n",
       "4  mua cái một dùng ok một cái không chạ...     😢      0  "
      ]
     },
     "metadata": {},
     "execution_count": 3
    }
   ],
   "metadata": {}
  },
  {
   "cell_type": "markdown",
   "source": [
    "Cho đến hiện tại, chúng ta đã cùng nhau phá tan tành dataset này, điều mà tôi muốn làm tiếp theo là sẽ biễu diễn các từ lên một không gian 2 chiều hoặc thậm chí là 3 chiều.\n",
    "\n",
    "Điều này theo tôi là rất hữu ích, vì giống như các unsupervised model, nhiều khi chúng ta cũng cần biết cách mà các observe phân phối như thế nào.\n",
    "\n",
    "Nhưng trước tiên, ta cần một số thiết lập **ban đầu** như sau:\n",
    "  * Tôi cần download vài file cấu hình sẵn:\n",
    "    ```shell\n",
    "    pip install fasttext\n",
    "    ```\n",
    "  * Thực chất, hai gói mà ta vừa download trên là chứa tập các từ tiếng anh và tiếng việt đã được vectorization thành các vector 300 dimentions, bạn đừng lo lắng về chất lượng của hai tập words embedding này bởi vì cha đẻ của nó là Facebook.\n",
    "  * Thời gian download hai gói này cực kì lâu, khoảng 4GB cho một gói - và về giải nén ra mỗi file sẽ khoảng 7.3GB, tôi khuyến khích bạn đừng nên download theo cách trên mà nên lên trang chủ của họ và download trực tiếp bằng Internet download manager hoặc Xtreme download manager sẽ nhanh hơn, khoảng 15 phút cho một gói - đây là trang chủ của họ:\n",
    "    [https://fasttext.cc/docs/en/crawl-vectors.html](https://fasttext.cc/docs/en/crawl-vectors.html)"
   ],
   "metadata": {}
  },
  {
   "cell_type": "code",
   "execution_count": 4,
   "source": [
    "import fasttext.util\n",
    "\n",
    "fasttext.util.download_model('en', if_exists='ignore') # english\n",
    "fasttext.util.download_model('vi', if_exists='ignore') # vietnamese "
   ],
   "outputs": [
    {
     "output_type": "execute_result",
     "data": {
      "text/plain": [
       "'cc.vi.300.bin'"
      ]
     },
     "metadata": {},
     "execution_count": 4
    }
   ],
   "metadata": {}
  },
  {
   "cell_type": "markdown",
   "source": [],
   "metadata": {}
  },
  {
   "cell_type": "markdown",
   "source": [],
   "metadata": {}
  }
 ],
 "metadata": {
  "orig_nbformat": 4,
  "language_info": {
   "name": "python",
   "version": "3.8.10",
   "mimetype": "text/x-python",
   "codemirror_mode": {
    "name": "ipython",
    "version": 3
   },
   "pygments_lexer": "ipython3",
   "nbconvert_exporter": "python",
   "file_extension": ".py"
  },
  "kernelspec": {
   "name": "python3",
   "display_name": "Python 3.8.10 64-bit"
  },
  "interpreter": {
   "hash": "916dbcbb3f70747c44a77c7bcd40155683ae19c65e1c03b4aa3499c5328201f1"
  }
 },
 "nbformat": 4,
 "nbformat_minor": 2
}