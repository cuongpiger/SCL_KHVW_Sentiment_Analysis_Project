{
 "cells": [
  {
   "cell_type": "markdown",
   "metadata": {},
   "source": [
    "# 1.6 - 1.7. Mô tả và đánh giá dữ liệu & Tiền xử lí dữ liệu"
   ]
  },
  {
   "cell_type": "markdown",
   "metadata": {},
   "source": [
    "* Load toàn bộ review vào một dataframe duy nhất."
   ]
  },
  {
   "cell_type": "code",
   "execution_count": 1,
   "metadata": {},
   "outputs": [],
   "source": [
    "%load_ext autoreload\n",
    "%autoreload 2"
   ]
  },
  {
   "cell_type": "code",
   "execution_count": 2,
   "metadata": {},
   "outputs": [],
   "source": [
    "import modules.utils as Utils\n",
    "import modules.processor as Processor\n",
    "import numpy as np\n",
    "import pandas as pd\n",
    "import enchant\n",
    "import random\n",
    "\n",
    "from sklearn.utils import shuffle"
   ]
  },
  {
   "cell_type": "code",
   "execution_count": 3,
   "metadata": {},
   "outputs": [
    {
     "data": {
      "text/plain": [
       "['./data/product_reviews/product_reviews_02/',\n",
       " './data/product_reviews/product_reviews_03/',\n",
       " './data/product_reviews/product_reviews_01/',\n",
       " './data/product_reviews/product_reviews_00/']"
      ]
     },
     "execution_count": 3,
     "metadata": {},
     "output_type": "execute_result"
    }
   ],
   "source": [
    "# Lấy tất cả các directory path của các lần ta tiến hành crawl data\n",
    "dir_paths = Utils.getAllFolderPath(\"./data/product_reviews/\")\n",
    "\n",
    "dir_paths"
   ]
  },
  {
   "cell_type": "code",
   "execution_count": 4,
   "metadata": {},
   "outputs": [],
   "source": [
    "# Đọc toàn bộ các review từ các file csv\n",
    "reviews = Utils.readReviews(dir_paths)"
   ]
  },
  {
   "cell_type": "code",
   "execution_count": 5,
   "metadata": {},
   "outputs": [
    {
     "data": {
      "text/html": [
       "<div>\n",
       "<style scoped>\n",
       "    .dataframe tbody tr th:only-of-type {\n",
       "        vertical-align: middle;\n",
       "    }\n",
       "\n",
       "    .dataframe tbody tr th {\n",
       "        vertical-align: top;\n",
       "    }\n",
       "\n",
       "    .dataframe thead th {\n",
       "        text-align: right;\n",
       "    }\n",
       "</style>\n",
       "<table border=\"1\" class=\"dataframe\">\n",
       "  <thead>\n",
       "    <tr style=\"text-align: right;\">\n",
       "      <th></th>\n",
       "      <th>raw_comment</th>\n",
       "      <th>rating</th>\n",
       "    </tr>\n",
       "  </thead>\n",
       "  <tbody>\n",
       "    <tr>\n",
       "      <th>0</th>\n",
       "      <td>asdfasdf đẹp ádfasdfasdfasdfasdfasdfasdfasdfas...</td>\n",
       "      <td>5</td>\n",
       "    </tr>\n",
       "    <tr>\n",
       "      <th>1</th>\n",
       "      <td>đẹp lắm ạ</td>\n",
       "      <td>5</td>\n",
       "    </tr>\n",
       "    <tr>\n",
       "      <th>2</th>\n",
       "      <td>asdfasdf đẹp ádfasdfasdfasdfasdfasdfasdfasdfas...</td>\n",
       "      <td>5</td>\n",
       "    </tr>\n",
       "    <tr>\n",
       "      <th>3</th>\n",
       "      <td>đẹp lắm ạ</td>\n",
       "      <td>5</td>\n",
       "    </tr>\n",
       "    <tr>\n",
       "      <th>4</th>\n",
       "      <td>Áo đẹp, giá rẻ, sẽ ủng hộ vào lần sau</td>\n",
       "      <td>5</td>\n",
       "    </tr>\n",
       "  </tbody>\n",
       "</table>\n",
       "</div>"
      ],
      "text/plain": [
       "                                         raw_comment rating\n",
       "0  asdfasdf đẹp ádfasdfasdfasdfasdfasdfasdfasdfas...      5\n",
       "1                                          đẹp lắm ạ      5\n",
       "2  asdfasdf đẹp ádfasdfasdfasdfasdfasdfasdfasdfas...      5\n",
       "3                                          đẹp lắm ạ      5\n",
       "4              Áo đẹp, giá rẻ, sẽ ủng hộ vào lần sau      5"
      ]
     },
     "execution_count": 5,
     "metadata": {},
     "output_type": "execute_result"
    }
   ],
   "source": [
    "reviews.head()"
   ]
  },
  {
   "cell_type": "code",
   "execution_count": 6,
   "metadata": {},
   "outputs": [
    {
     "name": "stdout",
     "output_type": "stream",
     "text": [
      "Tập dữ liệu có 278159 bình luận.\n"
     ]
    }
   ],
   "source": [
    "print(\"Tập dữ liệu có {} bình luận.\".format(reviews.shape[0]))"
   ]
  },
  {
   "cell_type": "markdown",
   "metadata": {},
   "source": [
    "* Đếm tần số xuất hiện của từng rating."
   ]
  },
  {
   "cell_type": "code",
   "execution_count": 7,
   "metadata": {},
   "outputs": [
    {
     "data": {
      "text/plain": [
       "5    260555\n",
       "4      9646\n",
       "3      4194\n",
       "1      2308\n",
       "2      1456\n",
       "Name: rating, dtype: int64"
      ]
     },
     "execution_count": 7,
     "metadata": {},
     "output_type": "execute_result"
    }
   ],
   "source": [
    "reviews['rating'].value_counts()"
   ]
  },
  {
   "cell_type": "markdown",
   "metadata": {},
   "source": [
    "> **Nhận xét**:\n",
    "> * Nhìn chung tuy ta crawl được hơn 200,000 quan sát nhưng có sự chênh lệch lớn giữa các rating.\n",
    "> * Nhìn qua ta thấy đa phần là các rating được đánh giá 5 sao, điều này cũng dễ hiểu vì hệ thống recommend của Shopee sẽ ưu tiên gợi ý cho khách hàng những sản phẩm có đánh giá tốt. Và sẽ hạn chế hoặc thậm chí là ko gợi ý các mặc hàng bị đánh giá kém. Nên với địa vị là người đi trộm dữ liệu như chúng ta thì ko có cách nào khắc phục điều này.\n",
    "> * Bây giờ, do ta cần chi ra hai lớp là negative và positive nên những comment mà `rating` $\\geq 4$ sẽ được cho vào nhóm positive, ngược lại là nhóm negative. "
   ]
  },
  {
   "cell_type": "markdown",
   "metadata": {},
   "source": [
    "* Tiến hành label cho `reviews` với các giá `rating` $< 4$ sẽ thuộc nhóm negative còn lại là nhóm positive."
   ]
  },
  {
   "cell_type": "code",
   "execution_count": 8,
   "metadata": {},
   "outputs": [],
   "source": [
    "reviews = Utils.labelRating(reviews)"
   ]
  },
  {
   "cell_type": "code",
   "execution_count": 9,
   "metadata": {},
   "outputs": [
    {
     "data": {
      "text/html": [
       "<div>\n",
       "<style scoped>\n",
       "    .dataframe tbody tr th:only-of-type {\n",
       "        vertical-align: middle;\n",
       "    }\n",
       "\n",
       "    .dataframe tbody tr th {\n",
       "        vertical-align: top;\n",
       "    }\n",
       "\n",
       "    .dataframe thead th {\n",
       "        text-align: right;\n",
       "    }\n",
       "</style>\n",
       "<table border=\"1\" class=\"dataframe\">\n",
       "  <thead>\n",
       "    <tr style=\"text-align: right;\">\n",
       "      <th></th>\n",
       "      <th>raw_comment</th>\n",
       "      <th>rating</th>\n",
       "      <th>label</th>\n",
       "    </tr>\n",
       "  </thead>\n",
       "  <tbody>\n",
       "    <tr>\n",
       "      <th>0</th>\n",
       "      <td>asdfasdf đẹp ádfasdfasdfasdfasdfasdfasdfasdfas...</td>\n",
       "      <td>5</td>\n",
       "      <td>1</td>\n",
       "    </tr>\n",
       "    <tr>\n",
       "      <th>1</th>\n",
       "      <td>đẹp lắm ạ</td>\n",
       "      <td>5</td>\n",
       "      <td>1</td>\n",
       "    </tr>\n",
       "    <tr>\n",
       "      <th>2</th>\n",
       "      <td>asdfasdf đẹp ádfasdfasdfasdfasdfasdfasdfasdfas...</td>\n",
       "      <td>5</td>\n",
       "      <td>1</td>\n",
       "    </tr>\n",
       "    <tr>\n",
       "      <th>3</th>\n",
       "      <td>đẹp lắm ạ</td>\n",
       "      <td>5</td>\n",
       "      <td>1</td>\n",
       "    </tr>\n",
       "    <tr>\n",
       "      <th>4</th>\n",
       "      <td>Áo đẹp, giá rẻ, sẽ ủng hộ vào lần sau</td>\n",
       "      <td>5</td>\n",
       "      <td>1</td>\n",
       "    </tr>\n",
       "  </tbody>\n",
       "</table>\n",
       "</div>"
      ],
      "text/plain": [
       "                                         raw_comment rating  label\n",
       "0  asdfasdf đẹp ádfasdfasdfasdfasdfasdfasdfasdfas...      5      1\n",
       "1                                          đẹp lắm ạ      5      1\n",
       "2  asdfasdf đẹp ádfasdfasdfasdfasdfasdfasdfasdfas...      5      1\n",
       "3                                          đẹp lắm ạ      5      1\n",
       "4              Áo đẹp, giá rẻ, sẽ ủng hộ vào lần sau      5      1"
      ]
     },
     "execution_count": 9,
     "metadata": {},
     "output_type": "execute_result"
    }
   ],
   "source": [
    "reviews.head()"
   ]
  },
  {
   "cell_type": "markdown",
   "metadata": {},
   "source": [
    "* Bây giờ ta sẽ xóa đi feature `rating` vì về sau ta sẽ ko cần dúng đến nó nữa, và tiến hành đếm số lượng quan sát của từng nhóm trên `label`"
   ]
  },
  {
   "cell_type": "code",
   "execution_count": 10,
   "metadata": {},
   "outputs": [
    {
     "name": "stdout",
     "output_type": "stream",
     "text": [
      "Shape: (278159, 2)\n",
      "1    270201\n",
      "0      7958\n",
      "Name: label, dtype: int64\n"
     ]
    },
    {
     "data": {
      "text/html": [
       "<div>\n",
       "<style scoped>\n",
       "    .dataframe tbody tr th:only-of-type {\n",
       "        vertical-align: middle;\n",
       "    }\n",
       "\n",
       "    .dataframe tbody tr th {\n",
       "        vertical-align: top;\n",
       "    }\n",
       "\n",
       "    .dataframe thead th {\n",
       "        text-align: right;\n",
       "    }\n",
       "</style>\n",
       "<table border=\"1\" class=\"dataframe\">\n",
       "  <thead>\n",
       "    <tr style=\"text-align: right;\">\n",
       "      <th></th>\n",
       "      <th>raw_comment</th>\n",
       "      <th>label</th>\n",
       "    </tr>\n",
       "  </thead>\n",
       "  <tbody>\n",
       "    <tr>\n",
       "      <th>0</th>\n",
       "      <td>asdfasdf đẹp ádfasdfasdfasdfasdfasdfasdfasdfas...</td>\n",
       "      <td>1</td>\n",
       "    </tr>\n",
       "    <tr>\n",
       "      <th>1</th>\n",
       "      <td>đẹp lắm ạ</td>\n",
       "      <td>1</td>\n",
       "    </tr>\n",
       "    <tr>\n",
       "      <th>2</th>\n",
       "      <td>asdfasdf đẹp ádfasdfasdfasdfasdfasdfasdfasdfas...</td>\n",
       "      <td>1</td>\n",
       "    </tr>\n",
       "    <tr>\n",
       "      <th>3</th>\n",
       "      <td>đẹp lắm ạ</td>\n",
       "      <td>1</td>\n",
       "    </tr>\n",
       "    <tr>\n",
       "      <th>4</th>\n",
       "      <td>Áo đẹp, giá rẻ, sẽ ủng hộ vào lần sau</td>\n",
       "      <td>1</td>\n",
       "    </tr>\n",
       "  </tbody>\n",
       "</table>\n",
       "</div>"
      ],
      "text/plain": [
       "                                         raw_comment  label\n",
       "0  asdfasdf đẹp ádfasdfasdfasdfasdfasdfasdfasdfas...      1\n",
       "1                                          đẹp lắm ạ      1\n",
       "2  asdfasdf đẹp ádfasdfasdfasdfasdfasdfasdfasdfas...      1\n",
       "3                                          đẹp lắm ạ      1\n",
       "4              Áo đẹp, giá rẻ, sẽ ủng hộ vào lần sau      1"
      ]
     },
     "execution_count": 10,
     "metadata": {},
     "output_type": "execute_result"
    }
   ],
   "source": [
    "reviews = reviews.drop(columns=['rating'])\n",
    "\n",
    "Processor.printAfterProcess(reviews)\n",
    "reviews.head()"
   ]
  },
  {
   "cell_type": "markdown",
   "metadata": {},
   "source": [
    "<hr>\n",
    "\n",
    "* Một trong những vấn đề đầu tiên và tối quan trong khi xử lí với dữ liệu văn bản là kiểm tra xem liệu text `a` có cùng cách biểu diễn với text `b` hay không.\n",
    "* Một ví dụ dễ hiểu là giả sử ta có biến `a = 'đẹp'` và biến `b = 'đep'`, nhưng khi ta compare hai biến này `a == b` thì kết quả sẽ ra False, nguyên nhân là do chúng sử dụng mã hóa unicode khác nhau, có thể `a` dùng unicode-8 và `b` dùng unicode-16.\n",
    "* Vậy điều đầu tiên ta cần làm là phải đưa tất cả các text về cùng một **chuẩn** duy nhất, ta có thể làm điều này bằng cách sử dụng `unicodedata.normalize()` từ package chuẩn `unicodedata` của Python. _(tham khảo thêm tại đây [https://www.kite.com/python/docs/unicodedata.normalize](https://www.kite.com/python/docs/unicodedata.normalize))_\n",
    "* Dưới đây là ví dụ cho trường hợp này:"
   ]
  },
  {
   "cell_type": "code",
   "execution_count": 11,
   "metadata": {},
   "outputs": [
    {
     "data": {
      "text/plain": [
       "False"
      ]
     },
     "execution_count": 11,
     "metadata": {},
     "output_type": "execute_result"
    }
   ],
   "source": [
    "import unicodedata\n",
    "\n",
    "a = 'đẹp, rất hài lòng'\n",
    "b = 'đẹp, rất hài lòng'\n",
    "\n",
    "a == b"
   ]
  },
  {
   "cell_type": "code",
   "execution_count": 12,
   "metadata": {},
   "outputs": [
    {
     "name": "stdout",
     "output_type": "stream",
     "text": [
      "String a: đẹp, rất hài lòng, Type a: <class 'str'>\n",
      "String b: đẹp, rất hài lòng, Type b: <class 'str'>\n"
     ]
    }
   ],
   "source": [
    "''' Sử dụng chuẩn NFD '''\n",
    "a = unicodedata.normalize('NFD', a)\n",
    "b = unicodedata.normalize('NFD', b)\n",
    "\n",
    "print(\"String a: {}, Type a: {}\".format(a, type(a)))\n",
    "print(\"String b: {}, Type b: {}\".format(b, type(b)))"
   ]
  },
  {
   "cell_type": "code",
   "execution_count": 13,
   "metadata": {},
   "outputs": [
    {
     "data": {
      "text/plain": [
       "True"
      ]
     },
     "execution_count": 13,
     "metadata": {},
     "output_type": "execute_result"
    }
   ],
   "source": [
    "a == b"
   ]
  },
  {
   "cell_type": "markdown",
   "metadata": {},
   "source": [
    "* Bây giờ, ta sẽ tạo một feature có tên là `normalize_comment`, trải qua 2 bước:\n",
    "  * `lower()` cho text.\n",
    "  * Chuẩn hóa bằng `unicodedata.normalize()`"
   ]
  },
  {
   "cell_type": "code",
   "execution_count": 14,
   "metadata": {},
   "outputs": [
    {
     "data": {
      "text/html": [
       "<div>\n",
       "<style scoped>\n",
       "    .dataframe tbody tr th:only-of-type {\n",
       "        vertical-align: middle;\n",
       "    }\n",
       "\n",
       "    .dataframe tbody tr th {\n",
       "        vertical-align: top;\n",
       "    }\n",
       "\n",
       "    .dataframe thead th {\n",
       "        text-align: right;\n",
       "    }\n",
       "</style>\n",
       "<table border=\"1\" class=\"dataframe\">\n",
       "  <thead>\n",
       "    <tr style=\"text-align: right;\">\n",
       "      <th></th>\n",
       "      <th>raw_comment</th>\n",
       "      <th>label</th>\n",
       "      <th>normalize_comment</th>\n",
       "    </tr>\n",
       "  </thead>\n",
       "  <tbody>\n",
       "    <tr>\n",
       "      <th>0</th>\n",
       "      <td>asdfasdf đẹp ádfasdfasdfasdfasdfasdfasdfasdfas...</td>\n",
       "      <td>1</td>\n",
       "      <td>asdfasdf đẹp ádfasdfasdfasdfasdfasdfasdfasdf...</td>\n",
       "    </tr>\n",
       "    <tr>\n",
       "      <th>1</th>\n",
       "      <td>đẹp lắm ạ</td>\n",
       "      <td>1</td>\n",
       "      <td>đẹp lắm ạ</td>\n",
       "    </tr>\n",
       "    <tr>\n",
       "      <th>2</th>\n",
       "      <td>asdfasdf đẹp ádfasdfasdfasdfasdfasdfasdfasdfas...</td>\n",
       "      <td>1</td>\n",
       "      <td>asdfasdf đẹp ádfasdfasdfasdfasdfasdfasdfasdf...</td>\n",
       "    </tr>\n",
       "    <tr>\n",
       "      <th>3</th>\n",
       "      <td>đẹp lắm ạ</td>\n",
       "      <td>1</td>\n",
       "      <td>đẹp lắm ạ</td>\n",
       "    </tr>\n",
       "    <tr>\n",
       "      <th>4</th>\n",
       "      <td>Áo đẹp, giá rẻ, sẽ ủng hộ vào lần sau</td>\n",
       "      <td>1</td>\n",
       "      <td>áo đẹp, giá rẻ, sẽ ủng hộ vào lần sau</td>\n",
       "    </tr>\n",
       "  </tbody>\n",
       "</table>\n",
       "</div>"
      ],
      "text/plain": [
       "                                         raw_comment  label  \\\n",
       "0  asdfasdf đẹp ádfasdfasdfasdfasdfasdfasdfasdfas...      1   \n",
       "1                                          đẹp lắm ạ      1   \n",
       "2  asdfasdf đẹp ádfasdfasdfasdfasdfasdfasdfasdfas...      1   \n",
       "3                                          đẹp lắm ạ      1   \n",
       "4              Áo đẹp, giá rẻ, sẽ ủng hộ vào lần sau      1   \n",
       "\n",
       "                                   normalize_comment  \n",
       "0  asdfasdf đẹp ádfasdfasdfasdfasdfasdfasdfasdf...  \n",
       "1                                      đẹp lắm ạ  \n",
       "2  asdfasdf đẹp ádfasdfasdfasdfasdfasdfasdfasdf...  \n",
       "3                                      đẹp lắm ạ  \n",
       "4   áo đẹp, giá rẻ, sẽ ủng hộ vào lần sau  "
      ]
     },
     "execution_count": 14,
     "metadata": {},
     "output_type": "execute_result"
    }
   ],
   "source": [
    "reviews['normalize_comment'] = reviews['raw_comment'].apply(lambda cmt: Processor.normalizeComment(cmt))\n",
    "\n",
    "reviews.head()"
   ]
  },
  {
   "cell_type": "markdown",
   "metadata": {},
   "source": [
    "* Ta cũng sẽ chuẩn hóa cho cột `raw_comment` nhưng không `lower()` chúng."
   ]
  },
  {
   "cell_type": "code",
   "execution_count": 15,
   "metadata": {},
   "outputs": [
    {
     "data": {
      "text/html": [
       "<div>\n",
       "<style scoped>\n",
       "    .dataframe tbody tr th:only-of-type {\n",
       "        vertical-align: middle;\n",
       "    }\n",
       "\n",
       "    .dataframe tbody tr th {\n",
       "        vertical-align: top;\n",
       "    }\n",
       "\n",
       "    .dataframe thead th {\n",
       "        text-align: right;\n",
       "    }\n",
       "</style>\n",
       "<table border=\"1\" class=\"dataframe\">\n",
       "  <thead>\n",
       "    <tr style=\"text-align: right;\">\n",
       "      <th></th>\n",
       "      <th>raw_comment</th>\n",
       "      <th>label</th>\n",
       "      <th>normalize_comment</th>\n",
       "    </tr>\n",
       "  </thead>\n",
       "  <tbody>\n",
       "    <tr>\n",
       "      <th>0</th>\n",
       "      <td>asdfasdf đẹp ádfasdfasdfasdfasdfasdfasdfasdf...</td>\n",
       "      <td>1</td>\n",
       "      <td>asdfasdf đẹp ádfasdfasdfasdfasdfasdfasdfasdf...</td>\n",
       "    </tr>\n",
       "    <tr>\n",
       "      <th>1</th>\n",
       "      <td>đẹp lắm ạ</td>\n",
       "      <td>1</td>\n",
       "      <td>đẹp lắm ạ</td>\n",
       "    </tr>\n",
       "    <tr>\n",
       "      <th>2</th>\n",
       "      <td>asdfasdf đẹp ádfasdfasdfasdfasdfasdfasdfasdf...</td>\n",
       "      <td>1</td>\n",
       "      <td>asdfasdf đẹp ádfasdfasdfasdfasdfasdfasdfasdf...</td>\n",
       "    </tr>\n",
       "    <tr>\n",
       "      <th>3</th>\n",
       "      <td>đẹp lắm ạ</td>\n",
       "      <td>1</td>\n",
       "      <td>đẹp lắm ạ</td>\n",
       "    </tr>\n",
       "    <tr>\n",
       "      <th>4</th>\n",
       "      <td>Áo đẹp, giá rẻ, sẽ ủng hộ vào lần sau</td>\n",
       "      <td>1</td>\n",
       "      <td>áo đẹp, giá rẻ, sẽ ủng hộ vào lần sau</td>\n",
       "    </tr>\n",
       "  </tbody>\n",
       "</table>\n",
       "</div>"
      ],
      "text/plain": [
       "                                         raw_comment  label  \\\n",
       "0  asdfasdf đẹp ádfasdfasdfasdfasdfasdfasdfasdf...      1   \n",
       "1                                      đẹp lắm ạ      1   \n",
       "2  asdfasdf đẹp ádfasdfasdfasdfasdfasdfasdfasdf...      1   \n",
       "3                                      đẹp lắm ạ      1   \n",
       "4   Áo đẹp, giá rẻ, sẽ ủng hộ vào lần sau      1   \n",
       "\n",
       "                                   normalize_comment  \n",
       "0  asdfasdf đẹp ádfasdfasdfasdfasdfasdfasdfasdf...  \n",
       "1                                      đẹp lắm ạ  \n",
       "2  asdfasdf đẹp ádfasdfasdfasdfasdfasdfasdfasdf...  \n",
       "3                                      đẹp lắm ạ  \n",
       "4   áo đẹp, giá rẻ, sẽ ủng hộ vào lần sau  "
      ]
     },
     "execution_count": 15,
     "metadata": {},
     "output_type": "execute_result"
    }
   ],
   "source": [
    "reviews['raw_comment'] = reviews['raw_comment'].apply(lambda cmt: Processor.normalizeComment(cmt, False))\n",
    "\n",
    "reviews.head()"
   ]
  },
  {
   "cell_type": "markdown",
   "metadata": {},
   "source": [
    "<hr>\n",
    "\n",
    "* Chúng ta biết rằng, các comment của các sản phẩm đôi khi sẽ chứa các URL do người bán hàng chèn vào để giúp khách hàng có thể click vào để xem các mặt hàng khác, chúng là các noise sample mà ta cần phải loại bỏ khỏi dataset của chúng ta.\n",
    "* Hình dưới đây là kết quả cho ra khi ta thử search cụm từ `http` thì nó cho ra hơn 600 mẫu dữ liệu chứa URL. Ta cần loại bỏ các mẫu này.<br>\n",
    "  ![](./images/04.png)"
   ]
  },
  {
   "cell_type": "code",
   "execution_count": 16,
   "metadata": {},
   "outputs": [
    {
     "name": "stdout",
     "output_type": "stream",
     "text": [
      "Shape: (278159, 4)\n",
      "0    277589\n",
      "1       570\n",
      "Name: contain_url, dtype: int64\n"
     ]
    },
    {
     "data": {
      "text/html": [
       "<div>\n",
       "<style scoped>\n",
       "    .dataframe tbody tr th:only-of-type {\n",
       "        vertical-align: middle;\n",
       "    }\n",
       "\n",
       "    .dataframe tbody tr th {\n",
       "        vertical-align: top;\n",
       "    }\n",
       "\n",
       "    .dataframe thead th {\n",
       "        text-align: right;\n",
       "    }\n",
       "</style>\n",
       "<table border=\"1\" class=\"dataframe\">\n",
       "  <thead>\n",
       "    <tr style=\"text-align: right;\">\n",
       "      <th></th>\n",
       "      <th>raw_comment</th>\n",
       "      <th>label</th>\n",
       "      <th>normalize_comment</th>\n",
       "      <th>contain_url</th>\n",
       "    </tr>\n",
       "  </thead>\n",
       "  <tbody>\n",
       "    <tr>\n",
       "      <th>0</th>\n",
       "      <td>asdfasdf đẹp ádfasdfasdfasdfasdfasdfasdfasdf...</td>\n",
       "      <td>1</td>\n",
       "      <td>asdfasdf đẹp ádfasdfasdfasdfasdfasdfasdfasdf...</td>\n",
       "      <td>0</td>\n",
       "    </tr>\n",
       "    <tr>\n",
       "      <th>1</th>\n",
       "      <td>đẹp lắm ạ</td>\n",
       "      <td>1</td>\n",
       "      <td>đẹp lắm ạ</td>\n",
       "      <td>0</td>\n",
       "    </tr>\n",
       "    <tr>\n",
       "      <th>2</th>\n",
       "      <td>asdfasdf đẹp ádfasdfasdfasdfasdfasdfasdfasdf...</td>\n",
       "      <td>1</td>\n",
       "      <td>asdfasdf đẹp ádfasdfasdfasdfasdfasdfasdfasdf...</td>\n",
       "      <td>0</td>\n",
       "    </tr>\n",
       "    <tr>\n",
       "      <th>3</th>\n",
       "      <td>đẹp lắm ạ</td>\n",
       "      <td>1</td>\n",
       "      <td>đẹp lắm ạ</td>\n",
       "      <td>0</td>\n",
       "    </tr>\n",
       "    <tr>\n",
       "      <th>4</th>\n",
       "      <td>Áo đẹp, giá rẻ, sẽ ủng hộ vào lần sau</td>\n",
       "      <td>1</td>\n",
       "      <td>áo đẹp, giá rẻ, sẽ ủng hộ vào lần sau</td>\n",
       "      <td>0</td>\n",
       "    </tr>\n",
       "  </tbody>\n",
       "</table>\n",
       "</div>"
      ],
      "text/plain": [
       "                                         raw_comment  label  \\\n",
       "0  asdfasdf đẹp ádfasdfasdfasdfasdfasdfasdfasdf...      1   \n",
       "1                                      đẹp lắm ạ      1   \n",
       "2  asdfasdf đẹp ádfasdfasdfasdfasdfasdfasdfasdf...      1   \n",
       "3                                      đẹp lắm ạ      1   \n",
       "4   Áo đẹp, giá rẻ, sẽ ủng hộ vào lần sau      1   \n",
       "\n",
       "                                   normalize_comment  contain_url  \n",
       "0  asdfasdf đẹp ádfasdfasdfasdfasdfasdfasdfasdf...            0  \n",
       "1                                      đẹp lắm ạ            0  \n",
       "2  asdfasdf đẹp ádfasdfasdfasdfasdfasdfasdfasdf...            0  \n",
       "3                                      đẹp lắm ạ            0  \n",
       "4   áo đẹp, giá rẻ, sẽ ủng hộ vào lần sau            0  "
      ]
     },
     "execution_count": 16,
     "metadata": {},
     "output_type": "execute_result"
    }
   ],
   "source": [
    "reviews['contain_url'] = reviews['normalize_comment'].apply(lambda cmt: Processor.containsURL(cmt))\n",
    "\n",
    "Processor.printAfterProcess(reviews, 'contain_url')\n",
    "reviews.head()"
   ]
  },
  {
   "cell_type": "markdown",
   "metadata": {},
   "source": [
    "* Bây giờ chúng ta chỉ sẽ lấy các comment mà không chứa URL"
   ]
  },
  {
   "cell_type": "code",
   "execution_count": 17,
   "metadata": {},
   "outputs": [
    {
     "name": "stdout",
     "output_type": "stream",
     "text": [
      "Shape: (277589, 3)\n",
      "1    269633\n",
      "0      7956\n",
      "Name: label, dtype: int64\n"
     ]
    },
    {
     "data": {
      "text/html": [
       "<div>\n",
       "<style scoped>\n",
       "    .dataframe tbody tr th:only-of-type {\n",
       "        vertical-align: middle;\n",
       "    }\n",
       "\n",
       "    .dataframe tbody tr th {\n",
       "        vertical-align: top;\n",
       "    }\n",
       "\n",
       "    .dataframe thead th {\n",
       "        text-align: right;\n",
       "    }\n",
       "</style>\n",
       "<table border=\"1\" class=\"dataframe\">\n",
       "  <thead>\n",
       "    <tr style=\"text-align: right;\">\n",
       "      <th></th>\n",
       "      <th>raw_comment</th>\n",
       "      <th>label</th>\n",
       "      <th>normalize_comment</th>\n",
       "    </tr>\n",
       "  </thead>\n",
       "  <tbody>\n",
       "    <tr>\n",
       "      <th>0</th>\n",
       "      <td>asdfasdf đẹp ádfasdfasdfasdfasdfasdfasdfasdf...</td>\n",
       "      <td>1</td>\n",
       "      <td>asdfasdf đẹp ádfasdfasdfasdfasdfasdfasdfasdf...</td>\n",
       "    </tr>\n",
       "    <tr>\n",
       "      <th>1</th>\n",
       "      <td>đẹp lắm ạ</td>\n",
       "      <td>1</td>\n",
       "      <td>đẹp lắm ạ</td>\n",
       "    </tr>\n",
       "    <tr>\n",
       "      <th>2</th>\n",
       "      <td>asdfasdf đẹp ádfasdfasdfasdfasdfasdfasdfasdf...</td>\n",
       "      <td>1</td>\n",
       "      <td>asdfasdf đẹp ádfasdfasdfasdfasdfasdfasdfasdf...</td>\n",
       "    </tr>\n",
       "    <tr>\n",
       "      <th>3</th>\n",
       "      <td>đẹp lắm ạ</td>\n",
       "      <td>1</td>\n",
       "      <td>đẹp lắm ạ</td>\n",
       "    </tr>\n",
       "    <tr>\n",
       "      <th>4</th>\n",
       "      <td>Áo đẹp, giá rẻ, sẽ ủng hộ vào lần sau</td>\n",
       "      <td>1</td>\n",
       "      <td>áo đẹp, giá rẻ, sẽ ủng hộ vào lần sau</td>\n",
       "    </tr>\n",
       "  </tbody>\n",
       "</table>\n",
       "</div>"
      ],
      "text/plain": [
       "                                         raw_comment  label  \\\n",
       "0  asdfasdf đẹp ádfasdfasdfasdfasdfasdfasdfasdf...      1   \n",
       "1                                      đẹp lắm ạ      1   \n",
       "2  asdfasdf đẹp ádfasdfasdfasdfasdfasdfasdfasdf...      1   \n",
       "3                                      đẹp lắm ạ      1   \n",
       "4   Áo đẹp, giá rẻ, sẽ ủng hộ vào lần sau      1   \n",
       "\n",
       "                                   normalize_comment  \n",
       "0  asdfasdf đẹp ádfasdfasdfasdfasdfasdfasdfasdf...  \n",
       "1                                      đẹp lắm ạ  \n",
       "2  asdfasdf đẹp ádfasdfasdfasdfasdfasdfasdfasdf...  \n",
       "3                                      đẹp lắm ạ  \n",
       "4   áo đẹp, giá rẻ, sẽ ủng hộ vào lần sau  "
      ]
     },
     "execution_count": 17,
     "metadata": {},
     "output_type": "execute_result"
    }
   ],
   "source": [
    "reviews = reviews[reviews['contain_url'] == 0]\n",
    "reviews = reviews.drop(columns=['contain_url']).reset_index(drop=True) # xóa cột `contain_url`\n",
    "\n",
    "Processor.printAfterProcess(reviews)\n",
    "reviews.head()"
   ]
  },
  {
   "cell_type": "markdown",
   "metadata": {},
   "source": [
    "> **Nhận xét**\n",
    "> * Đa phần là các bình luận thuộc nhóm positive sẽ chứa các URL, cũng dễ hiểu vì họ quảng cáo mà 😅."
   ]
  },
  {
   "cell_type": "markdown",
   "metadata": {},
   "source": [
    "<hr>\n",
    "\n",
    "* Tiếp theo, ta cũng cần xóa các comment mà chữ IN HOA chiếm quá 50% độ dài comment, các comment này khả năng cao cũng là quảng cáo, vì người bán họ muốn làm nổi bật bình luận này lên so với các bình luận còn lại."
   ]
  },
  {
   "cell_type": "code",
   "execution_count": 18,
   "metadata": {},
   "outputs": [
    {
     "name": "stdout",
     "output_type": "stream",
     "text": [
      "Shape: (277589, 4)\n",
      "False    270936\n",
      "True       6653\n",
      "Name: contain_adv, dtype: int64\n"
     ]
    },
    {
     "data": {
      "text/html": [
       "<div>\n",
       "<style scoped>\n",
       "    .dataframe tbody tr th:only-of-type {\n",
       "        vertical-align: middle;\n",
       "    }\n",
       "\n",
       "    .dataframe tbody tr th {\n",
       "        vertical-align: top;\n",
       "    }\n",
       "\n",
       "    .dataframe thead th {\n",
       "        text-align: right;\n",
       "    }\n",
       "</style>\n",
       "<table border=\"1\" class=\"dataframe\">\n",
       "  <thead>\n",
       "    <tr style=\"text-align: right;\">\n",
       "      <th></th>\n",
       "      <th>raw_comment</th>\n",
       "      <th>label</th>\n",
       "      <th>normalize_comment</th>\n",
       "      <th>contain_adv</th>\n",
       "    </tr>\n",
       "  </thead>\n",
       "  <tbody>\n",
       "    <tr>\n",
       "      <th>0</th>\n",
       "      <td>asdfasdf đẹp ádfasdfasdfasdfasdfasdfasdfasdf...</td>\n",
       "      <td>1</td>\n",
       "      <td>asdfasdf đẹp ádfasdfasdfasdfasdfasdfasdfasdf...</td>\n",
       "      <td>False</td>\n",
       "    </tr>\n",
       "    <tr>\n",
       "      <th>1</th>\n",
       "      <td>đẹp lắm ạ</td>\n",
       "      <td>1</td>\n",
       "      <td>đẹp lắm ạ</td>\n",
       "      <td>False</td>\n",
       "    </tr>\n",
       "    <tr>\n",
       "      <th>2</th>\n",
       "      <td>asdfasdf đẹp ádfasdfasdfasdfasdfasdfasdfasdf...</td>\n",
       "      <td>1</td>\n",
       "      <td>asdfasdf đẹp ádfasdfasdfasdfasdfasdfasdfasdf...</td>\n",
       "      <td>False</td>\n",
       "    </tr>\n",
       "    <tr>\n",
       "      <th>3</th>\n",
       "      <td>đẹp lắm ạ</td>\n",
       "      <td>1</td>\n",
       "      <td>đẹp lắm ạ</td>\n",
       "      <td>False</td>\n",
       "    </tr>\n",
       "    <tr>\n",
       "      <th>4</th>\n",
       "      <td>Áo đẹp, giá rẻ, sẽ ủng hộ vào lần sau</td>\n",
       "      <td>1</td>\n",
       "      <td>áo đẹp, giá rẻ, sẽ ủng hộ vào lần sau</td>\n",
       "      <td>False</td>\n",
       "    </tr>\n",
       "  </tbody>\n",
       "</table>\n",
       "</div>"
      ],
      "text/plain": [
       "                                         raw_comment  label  \\\n",
       "0  asdfasdf đẹp ádfasdfasdfasdfasdfasdfasdfasdf...      1   \n",
       "1                                      đẹp lắm ạ      1   \n",
       "2  asdfasdf đẹp ádfasdfasdfasdfasdfasdfasdfasdf...      1   \n",
       "3                                      đẹp lắm ạ      1   \n",
       "4   Áo đẹp, giá rẻ, sẽ ủng hộ vào lần sau      1   \n",
       "\n",
       "                                   normalize_comment  contain_adv  \n",
       "0  asdfasdf đẹp ádfasdfasdfasdfasdfasdfasdfasdf...        False  \n",
       "1                                      đẹp lắm ạ        False  \n",
       "2  asdfasdf đẹp ádfasdfasdfasdfasdfasdfasdfasdf...        False  \n",
       "3                                      đẹp lắm ạ        False  \n",
       "4   áo đẹp, giá rẻ, sẽ ủng hộ vào lần sau        False  "
      ]
     },
     "execution_count": 18,
     "metadata": {},
     "output_type": "execute_result"
    }
   ],
   "source": [
    "reviews['contain_adv'] = reviews['raw_comment'].apply(lambda cmt: Processor.containAdvertisement(cmt))\n",
    "\n",
    "Processor.printAfterProcess(reviews, 'contain_adv')\n",
    "reviews.head()"
   ]
  },
  {
   "cell_type": "markdown",
   "metadata": {},
   "source": [
    "> **Nhận xét**\n",
    "> * Các mẫu tìm năng chứa quảng cáo khá cao, lên đến hơn 3000 sample. Ta có thể xóa chúng."
   ]
  },
  {
   "cell_type": "code",
   "execution_count": 19,
   "metadata": {},
   "outputs": [
    {
     "name": "stdout",
     "output_type": "stream",
     "text": [
      "Shape: (270936, 3)\n",
      "1    263084\n",
      "0      7852\n",
      "Name: label, dtype: int64\n"
     ]
    },
    {
     "data": {
      "text/html": [
       "<div>\n",
       "<style scoped>\n",
       "    .dataframe tbody tr th:only-of-type {\n",
       "        vertical-align: middle;\n",
       "    }\n",
       "\n",
       "    .dataframe tbody tr th {\n",
       "        vertical-align: top;\n",
       "    }\n",
       "\n",
       "    .dataframe thead th {\n",
       "        text-align: right;\n",
       "    }\n",
       "</style>\n",
       "<table border=\"1\" class=\"dataframe\">\n",
       "  <thead>\n",
       "    <tr style=\"text-align: right;\">\n",
       "      <th></th>\n",
       "      <th>raw_comment</th>\n",
       "      <th>label</th>\n",
       "      <th>normalize_comment</th>\n",
       "    </tr>\n",
       "  </thead>\n",
       "  <tbody>\n",
       "    <tr>\n",
       "      <th>0</th>\n",
       "      <td>asdfasdf đẹp ádfasdfasdfasdfasdfasdfasdfasdf...</td>\n",
       "      <td>1</td>\n",
       "      <td>asdfasdf đẹp ádfasdfasdfasdfasdfasdfasdfasdf...</td>\n",
       "    </tr>\n",
       "    <tr>\n",
       "      <th>1</th>\n",
       "      <td>đẹp lắm ạ</td>\n",
       "      <td>1</td>\n",
       "      <td>đẹp lắm ạ</td>\n",
       "    </tr>\n",
       "    <tr>\n",
       "      <th>2</th>\n",
       "      <td>asdfasdf đẹp ádfasdfasdfasdfasdfasdfasdfasdf...</td>\n",
       "      <td>1</td>\n",
       "      <td>asdfasdf đẹp ádfasdfasdfasdfasdfasdfasdfasdf...</td>\n",
       "    </tr>\n",
       "    <tr>\n",
       "      <th>3</th>\n",
       "      <td>đẹp lắm ạ</td>\n",
       "      <td>1</td>\n",
       "      <td>đẹp lắm ạ</td>\n",
       "    </tr>\n",
       "    <tr>\n",
       "      <th>4</th>\n",
       "      <td>Áo đẹp, giá rẻ, sẽ ủng hộ vào lần sau</td>\n",
       "      <td>1</td>\n",
       "      <td>áo đẹp, giá rẻ, sẽ ủng hộ vào lần sau</td>\n",
       "    </tr>\n",
       "  </tbody>\n",
       "</table>\n",
       "</div>"
      ],
      "text/plain": [
       "                                         raw_comment  label  \\\n",
       "0  asdfasdf đẹp ádfasdfasdfasdfasdfasdfasdfasdf...      1   \n",
       "1                                      đẹp lắm ạ      1   \n",
       "2  asdfasdf đẹp ádfasdfasdfasdfasdfasdfasdfasdf...      1   \n",
       "3                                      đẹp lắm ạ      1   \n",
       "4   Áo đẹp, giá rẻ, sẽ ủng hộ vào lần sau      1   \n",
       "\n",
       "                                   normalize_comment  \n",
       "0  asdfasdf đẹp ádfasdfasdfasdfasdfasdfasdfasdf...  \n",
       "1                                      đẹp lắm ạ  \n",
       "2  asdfasdf đẹp ádfasdfasdfasdfasdfasdfasdfasdf...  \n",
       "3                                      đẹp lắm ạ  \n",
       "4   áo đẹp, giá rẻ, sẽ ủng hộ vào lần sau  "
      ]
     },
     "execution_count": 19,
     "metadata": {},
     "output_type": "execute_result"
    }
   ],
   "source": [
    "reviews = reviews[reviews['contain_adv'] == 0]\n",
    "reviews = reviews.drop(columns=['contain_adv']).reset_index(drop=True) # xóa cột `contain_adv`\n",
    "\n",
    "Processor.printAfterProcess(reviews)\n",
    "reviews.head()"
   ]
  },
  {
   "cell_type": "markdown",
   "metadata": {},
   "source": [
    "> **Nhận xét**\n",
    "> * Lại một lần nữa các comment có khả năng cao là quảng cáo này lại đa phần là thuộc nhóm positive."
   ]
  },
  {
   "cell_type": "markdown",
   "metadata": {},
   "source": [
    "<hr>\n",
    "\n",
    "* Nhìn qua các comment, ta sẽ thấy có các comment chứa emoji như hình dưới đây:<br>\n",
    "  ![](./images/05.png)\n",
    "\n",
    "* Đây là \"vốn quý\" góp phần làm tăng sức mạnh cho model, nếu ta thực hiện bước loại bỏ các kí tự đặc biệt trước khi ta tách các emoji ra, thì ta đã vô tình xóa luôn các emoji này, vì các emoji thực chất được xây dựng dựa trên các kí tự đặc biệt.\n",
    "* Như hình trên, rõ ràng ta thấy được emoji góp phần ta hiểu được một comment là positive hay negative.\n",
    "* Ta sẽ sử dụng một gói của python là `emojis`:\n",
    "  ```shell\n",
    "  pip3 install emojis\n",
    "  ```\n",
    "  gói này sẽ giúp ta tách các emoji ra khỏi bình luận.\n",
    "* Ta sẽ chứa toàn bộ emoji của một comment qua cột tương ứng là `emoji`"
   ]
  },
  {
   "cell_type": "code",
   "execution_count": 20,
   "metadata": {},
   "outputs": [
    {
     "data": {
      "text/html": [
       "<div>\n",
       "<style scoped>\n",
       "    .dataframe tbody tr th:only-of-type {\n",
       "        vertical-align: middle;\n",
       "    }\n",
       "\n",
       "    .dataframe tbody tr th {\n",
       "        vertical-align: top;\n",
       "    }\n",
       "\n",
       "    .dataframe thead th {\n",
       "        text-align: right;\n",
       "    }\n",
       "</style>\n",
       "<table border=\"1\" class=\"dataframe\">\n",
       "  <thead>\n",
       "    <tr style=\"text-align: right;\">\n",
       "      <th></th>\n",
       "      <th>raw_comment</th>\n",
       "      <th>label</th>\n",
       "      <th>normalize_comment</th>\n",
       "      <th>emoji</th>\n",
       "    </tr>\n",
       "  </thead>\n",
       "  <tbody>\n",
       "    <tr>\n",
       "      <th>0</th>\n",
       "      <td>asdfasdf đẹp ádfasdfasdfasdfasdfasdfasdfasdf...</td>\n",
       "      <td>1</td>\n",
       "      <td>asdfasdf đẹp ádfasdfasdfasdfasdfasdfasdfasdf...</td>\n",
       "      <td></td>\n",
       "    </tr>\n",
       "    <tr>\n",
       "      <th>1</th>\n",
       "      <td>đẹp lắm ạ</td>\n",
       "      <td>1</td>\n",
       "      <td>đẹp lắm ạ</td>\n",
       "      <td></td>\n",
       "    </tr>\n",
       "    <tr>\n",
       "      <th>2</th>\n",
       "      <td>asdfasdf đẹp ádfasdfasdfasdfasdfasdfasdfasdf...</td>\n",
       "      <td>1</td>\n",
       "      <td>asdfasdf đẹp ádfasdfasdfasdfasdfasdfasdfasdf...</td>\n",
       "      <td></td>\n",
       "    </tr>\n",
       "    <tr>\n",
       "      <th>3</th>\n",
       "      <td>đẹp lắm ạ</td>\n",
       "      <td>1</td>\n",
       "      <td>đẹp lắm ạ</td>\n",
       "      <td></td>\n",
       "    </tr>\n",
       "    <tr>\n",
       "      <th>4</th>\n",
       "      <td>Áo đẹp, giá rẻ, sẽ ủng hộ vào lần sau</td>\n",
       "      <td>1</td>\n",
       "      <td>áo đẹp, giá rẻ, sẽ ủng hộ vào lần sau</td>\n",
       "      <td></td>\n",
       "    </tr>\n",
       "  </tbody>\n",
       "</table>\n",
       "</div>"
      ],
      "text/plain": [
       "                                         raw_comment  label  \\\n",
       "0  asdfasdf đẹp ádfasdfasdfasdfasdfasdfasdfasdf...      1   \n",
       "1                                      đẹp lắm ạ      1   \n",
       "2  asdfasdf đẹp ádfasdfasdfasdfasdfasdfasdfasdf...      1   \n",
       "3                                      đẹp lắm ạ      1   \n",
       "4   Áo đẹp, giá rẻ, sẽ ủng hộ vào lần sau      1   \n",
       "\n",
       "                                   normalize_comment emoji  \n",
       "0  asdfasdf đẹp ádfasdfasdfasdfasdfasdfasdfasdf...        \n",
       "1                                      đẹp lắm ạ        \n",
       "2  asdfasdf đẹp ádfasdfasdfasdfasdfasdfasdfasdf...        \n",
       "3                                      đẹp lắm ạ        \n",
       "4   áo đẹp, giá rẻ, sẽ ủng hộ vào lần sau        "
      ]
     },
     "execution_count": 20,
     "metadata": {},
     "output_type": "execute_result"
    }
   ],
   "source": [
    "reviews['emoji'] = reviews['raw_comment'].apply(lambda cmt: Processor.extractEmoji(cmt))\n",
    "\n",
    "reviews.head()"
   ]
  },
  {
   "cell_type": "code",
   "execution_count": 21,
   "metadata": {},
   "outputs": [
    {
     "data": {
      "text/plain": [
       "',,,,,,,,,,😻,,,,👍,,,,,,,✨,,,,,,,,,,,,,😜,,,,,,,,,❤️,,🤣,,,👍,,,,😘,,😘,,,,,,,,,,,,,❤️ 👍,,❤️ 👍,,,❤️,\\U0001f971,🎉,,❤️,\\U0001f971,🎉,,,,,,,,,❤️,,,😅,,,🖤 💜 \\U0001f970,,,🖤 💜 \\U0001f970,,🙆,,🙆,,,,,,,,,,,,\\U0001f97a,,,,,,,,,,,,,,,😀 😊 \\U0001f92a 😅 ❤️,,,,,♂️ 🤦 🙏,,,,,,,,,,'"
      ]
     },
     "execution_count": 21,
     "metadata": {},
     "output_type": "execute_result"
    }
   ],
   "source": [
    "\",\".join(reviews['emoji'])[:200]"
   ]
  },
  {
   "cell_type": "markdown",
   "metadata": {},
   "source": [
    "<hr>\n",
    "\n",
    "* Tiếp theo, ta sẽ loại bỏ dấu câu, kí tự đặc biệt"
   ]
  },
  {
   "cell_type": "code",
   "execution_count": 22,
   "metadata": {},
   "outputs": [
    {
     "data": {
      "text/html": [
       "<div>\n",
       "<style scoped>\n",
       "    .dataframe tbody tr th:only-of-type {\n",
       "        vertical-align: middle;\n",
       "    }\n",
       "\n",
       "    .dataframe tbody tr th {\n",
       "        vertical-align: top;\n",
       "    }\n",
       "\n",
       "    .dataframe thead th {\n",
       "        text-align: right;\n",
       "    }\n",
       "</style>\n",
       "<table border=\"1\" class=\"dataframe\">\n",
       "  <thead>\n",
       "    <tr style=\"text-align: right;\">\n",
       "      <th></th>\n",
       "      <th>raw_comment</th>\n",
       "      <th>label</th>\n",
       "      <th>normalize_comment</th>\n",
       "      <th>emoji</th>\n",
       "    </tr>\n",
       "  </thead>\n",
       "  <tbody>\n",
       "    <tr>\n",
       "      <th>0</th>\n",
       "      <td>asdfasdf đẹp ádfasdfasdfasdfasdfasdfasdfasdf...</td>\n",
       "      <td>1</td>\n",
       "      <td>asdfasdf đẹp ádfasdfasdfasdfasdfasdfasdfasdf...</td>\n",
       "      <td></td>\n",
       "    </tr>\n",
       "    <tr>\n",
       "      <th>1</th>\n",
       "      <td>đẹp lắm ạ</td>\n",
       "      <td>1</td>\n",
       "      <td>đẹp lắm ạ</td>\n",
       "      <td></td>\n",
       "    </tr>\n",
       "    <tr>\n",
       "      <th>2</th>\n",
       "      <td>asdfasdf đẹp ádfasdfasdfasdfasdfasdfasdfasdf...</td>\n",
       "      <td>1</td>\n",
       "      <td>asdfasdf đẹp ádfasdfasdfasdfasdfasdfasdfasdf...</td>\n",
       "      <td></td>\n",
       "    </tr>\n",
       "    <tr>\n",
       "      <th>3</th>\n",
       "      <td>đẹp lắm ạ</td>\n",
       "      <td>1</td>\n",
       "      <td>đẹp lắm ạ</td>\n",
       "      <td></td>\n",
       "    </tr>\n",
       "    <tr>\n",
       "      <th>4</th>\n",
       "      <td>Áo đẹp, giá rẻ, sẽ ủng hộ vào lần sau</td>\n",
       "      <td>1</td>\n",
       "      <td>áo đẹp giá rẻ sẽ ủng hộ vào lần sau</td>\n",
       "      <td></td>\n",
       "    </tr>\n",
       "  </tbody>\n",
       "</table>\n",
       "</div>"
      ],
      "text/plain": [
       "                                         raw_comment  label  \\\n",
       "0  asdfasdf đẹp ádfasdfasdfasdfasdfasdfasdfasdf...      1   \n",
       "1                                      đẹp lắm ạ      1   \n",
       "2  asdfasdf đẹp ádfasdfasdfasdfasdfasdfasdfasdf...      1   \n",
       "3                                      đẹp lắm ạ      1   \n",
       "4   Áo đẹp, giá rẻ, sẽ ủng hộ vào lần sau      1   \n",
       "\n",
       "                                   normalize_comment emoji  \n",
       "0  asdfasdf đẹp ádfasdfasdfasdfasdfasdfasdfasdf...        \n",
       "1                                      đẹp lắm ạ        \n",
       "2  asdfasdf đẹp ádfasdfasdfasdfasdfasdfasdfasdf...        \n",
       "3                                      đẹp lắm ạ        \n",
       "4     áo đẹp giá rẻ sẽ ủng hộ vào lần sau        "
      ]
     },
     "execution_count": 22,
     "metadata": {},
     "output_type": "execute_result"
    }
   ],
   "source": [
    "reviews['normalize_comment'] = reviews['normalize_comment'].apply(lambda cmt: Processor.removeSpecialLetters(cmt.lower()))\n",
    "\n",
    "reviews.head()"
   ]
  },
  {
   "cell_type": "markdown",
   "metadata": {},
   "source": [
    "<hr>\n",
    "\n",
    "* Tiếp theo, ta cần chuẩn lại các từ bị dupplicate như: _chờiiiiiii ơiiiiiii, xinhhhhhhh quá, đẹp xỉuuuuuuuuuuuu_ thành _chời ơi, xinh quá, đẹp xỉu_.\n",
    "* Tuy nhiên có một vấn đề xảy ra, giả sử trong comment có các từ tiếng anh như \"_feedback_\", thì nó sẽ thành \"_fedback_\", nên ta sẽ thực hiện bước này ở phần sau:\n",
    "\n",
    "```python\n",
    "reviews['normalize_comment'] = reviews['normalize_comment'].apply(lambda cmt: Processor.removeDuplicateLetters(cmt))\n",
    "\n",
    "```"
   ]
  },
  {
   "cell_type": "markdown",
   "metadata": {},
   "source": [
    "<hr>\n",
    "\n",
    "* Tiếp theo, chúng ta sẽ chuẩn lại một vài từ viết tắt cơ bản.\n",
    "* File `modules/dependencies/abbreviate.txt` chứa các từ viết tắt cơ bản mà giới trẻ hay dùng comment, ta có thể bổ sung theo thời gian."
   ]
  },
  {
   "cell_type": "code",
   "execution_count": 23,
   "metadata": {},
   "outputs": [
    {
     "data": {
      "text/plain": [
       "'ok'"
      ]
     },
     "execution_count": 23,
     "metadata": {},
     "output_type": "execute_result"
    }
   ],
   "source": [
    "# xây dựng dictionary cho các từ viết tắt\n",
    "abbreviate = Utils.buildDictionaryFromFile(\"./modules/dependencies/abbreviate.txt\")\n",
    "\n",
    "# test\n",
    "abbreviate['okela']"
   ]
  },
  {
   "cell_type": "code",
   "execution_count": 24,
   "metadata": {},
   "outputs": [
    {
     "data": {
      "text/html": [
       "<div>\n",
       "<style scoped>\n",
       "    .dataframe tbody tr th:only-of-type {\n",
       "        vertical-align: middle;\n",
       "    }\n",
       "\n",
       "    .dataframe tbody tr th {\n",
       "        vertical-align: top;\n",
       "    }\n",
       "\n",
       "    .dataframe thead th {\n",
       "        text-align: right;\n",
       "    }\n",
       "</style>\n",
       "<table border=\"1\" class=\"dataframe\">\n",
       "  <thead>\n",
       "    <tr style=\"text-align: right;\">\n",
       "      <th></th>\n",
       "      <th>raw_comment</th>\n",
       "      <th>label</th>\n",
       "      <th>normalize_comment</th>\n",
       "      <th>emoji</th>\n",
       "    </tr>\n",
       "  </thead>\n",
       "  <tbody>\n",
       "    <tr>\n",
       "      <th>0</th>\n",
       "      <td>asdfasdf đẹp ádfasdfasdfasdfasdfasdfasdfasdf...</td>\n",
       "      <td>1</td>\n",
       "      <td>asdfasdf đẹp ádfasdfasdfasdfasdfasdfasdfasdf...</td>\n",
       "      <td></td>\n",
       "    </tr>\n",
       "    <tr>\n",
       "      <th>1</th>\n",
       "      <td>đẹp lắm ạ</td>\n",
       "      <td>1</td>\n",
       "      <td>đẹp lắm ạ</td>\n",
       "      <td></td>\n",
       "    </tr>\n",
       "    <tr>\n",
       "      <th>2</th>\n",
       "      <td>asdfasdf đẹp ádfasdfasdfasdfasdfasdfasdfasdf...</td>\n",
       "      <td>1</td>\n",
       "      <td>asdfasdf đẹp ádfasdfasdfasdfasdfasdfasdfasdf...</td>\n",
       "      <td></td>\n",
       "    </tr>\n",
       "    <tr>\n",
       "      <th>3</th>\n",
       "      <td>đẹp lắm ạ</td>\n",
       "      <td>1</td>\n",
       "      <td>đẹp lắm ạ</td>\n",
       "      <td></td>\n",
       "    </tr>\n",
       "    <tr>\n",
       "      <th>4</th>\n",
       "      <td>Áo đẹp, giá rẻ, sẽ ủng hộ vào lần sau</td>\n",
       "      <td>1</td>\n",
       "      <td>áo đẹp giá rẻ sẽ ủng hộ vào lần sau</td>\n",
       "      <td></td>\n",
       "    </tr>\n",
       "  </tbody>\n",
       "</table>\n",
       "</div>"
      ],
      "text/plain": [
       "                                         raw_comment  label  \\\n",
       "0  asdfasdf đẹp ádfasdfasdfasdfasdfasdfasdfasdf...      1   \n",
       "1                                      đẹp lắm ạ      1   \n",
       "2  asdfasdf đẹp ádfasdfasdfasdfasdfasdfasdfasdf...      1   \n",
       "3                                      đẹp lắm ạ      1   \n",
       "4   Áo đẹp, giá rẻ, sẽ ủng hộ vào lần sau      1   \n",
       "\n",
       "                                   normalize_comment emoji  \n",
       "0  asdfasdf đẹp ádfasdfasdfasdfasdfasdfasdfasdf...        \n",
       "1                                      đẹp lắm ạ        \n",
       "2  asdfasdf đẹp ádfasdfasdfasdfasdfasdfasdfasdf...        \n",
       "3                                      đẹp lắm ạ        \n",
       "4     áo đẹp giá rẻ sẽ ủng hộ vào lần sau        "
      ]
     },
     "execution_count": 24,
     "metadata": {},
     "output_type": "execute_result"
    }
   ],
   "source": [
    "reviews['normalize_comment'] = reviews['normalize_comment'].apply(lambda cmt: Processor.replaceWithDictionary(cmt, abbreviate))\n",
    "\n",
    "reviews.head()"
   ]
  },
  {
   "cell_type": "markdown",
   "metadata": {},
   "source": [
    "<hr>\n",
    "\n",
    "* Bây giờ ta sẽ tiến hành xóa các từ vô nghĩa trong comment, ví dụ như hình dưới đây:<br>\n",
    "  ![](./images/06.png)\n",
    "  những bình luận này mặc dù thuộc lớp positive nhưng nó là các noise sample, có thể các comment này dùng để comment cho có để nhận shopee xu khi đánh giá sản phẩm.\n",
    "* Kế tiếp, ta nên xóa các sample mà khả năng cao ko là tiếng việt, vì sao ta làm bước này, đơn giản thôi đây là shopee việt nam, và các comment cố ý bằng tiếng anh, tiếng hàn, tiếng trung của các \"thánh làm màu\" sẽ là các noise sample khiến model ta bị giảm hiệu năng.\n",
    "* Nhưng làm sao ta có thể thực hiện điều này, cách đơn giản nhất là ta có thể sử dụng các package như `textblob`, `googletrans`,... các package này chứa các function giúp ta detect language cho text, tuy nhiên hạn chế là chúng chỉ cho tối đa khoảng 200 request một ngày thôi, và số mẫu của chúng ta hiện tại là quá lớn. Ở đây ta có file `modules/dependencies/vocabulary.txt` chứa hơn 17000 từ đơn phổ biến của tiếng việt.\n",
    "* Vậy cách đơn giản hơn là ta có thể xây dựng một dictionary chứa các từ đơn của tiếng việt, với mỗi comment, nếu số lượng từ ko tìm thấy trong dictionary này lớn hơn số từ được tìm thấy trong dictionary thì khả năng cao đây là một comment làm màu.\n",
    "* Tuy nhiên, vẫn có một vài từ tiếng anh mà ta cần giữ lại như shipper, ta sẽ sử dụng package `enchant` để check một từ có phải là từ tiếng anh hay không.\n",
    "  ```shell\n",
    "  pip3 install pyenchant\n",
    "  ```\n",
    "* Ở các bước phía trên, ta đã đề cập đến việc xóa các từ bị dupplicate kí tự, ta sẽ thực hiện nó ở trong bước này."
   ]
  },
  {
   "cell_type": "code",
   "execution_count": 25,
   "metadata": {},
   "outputs": [],
   "source": [
    "# hơn 17 ngàn từ đơn trong tiêng việt\n",
    "vocabularies = Utils.buildDictionaryFromFile('./modules/dependencies/vocabulary.txt', True)\n",
    "english_voca = enchant.Dict('en_US') # english if a word is english"
   ]
  },
  {
   "cell_type": "code",
   "execution_count": 26,
   "metadata": {},
   "outputs": [
    {
     "data": {
      "text/html": [
       "<div>\n",
       "<style scoped>\n",
       "    .dataframe tbody tr th:only-of-type {\n",
       "        vertical-align: middle;\n",
       "    }\n",
       "\n",
       "    .dataframe tbody tr th {\n",
       "        vertical-align: top;\n",
       "    }\n",
       "\n",
       "    .dataframe thead th {\n",
       "        text-align: right;\n",
       "    }\n",
       "</style>\n",
       "<table border=\"1\" class=\"dataframe\">\n",
       "  <thead>\n",
       "    <tr style=\"text-align: right;\">\n",
       "      <th></th>\n",
       "      <th>raw_comment</th>\n",
       "      <th>label</th>\n",
       "      <th>normalize_comment</th>\n",
       "      <th>emoji</th>\n",
       "    </tr>\n",
       "  </thead>\n",
       "  <tbody>\n",
       "    <tr>\n",
       "      <th>0</th>\n",
       "      <td>asdfasdf đẹp ádfasdfasdfasdfasdfasdfasdfasdf...</td>\n",
       "      <td>1</td>\n",
       "      <td>đẹp</td>\n",
       "      <td></td>\n",
       "    </tr>\n",
       "    <tr>\n",
       "      <th>1</th>\n",
       "      <td>đẹp lắm ạ</td>\n",
       "      <td>1</td>\n",
       "      <td>đẹp lắm ạ</td>\n",
       "      <td></td>\n",
       "    </tr>\n",
       "    <tr>\n",
       "      <th>2</th>\n",
       "      <td>asdfasdf đẹp ádfasdfasdfasdfasdfasdfasdfasdf...</td>\n",
       "      <td>1</td>\n",
       "      <td>đẹp</td>\n",
       "      <td></td>\n",
       "    </tr>\n",
       "    <tr>\n",
       "      <th>3</th>\n",
       "      <td>đẹp lắm ạ</td>\n",
       "      <td>1</td>\n",
       "      <td>đẹp lắm ạ</td>\n",
       "      <td></td>\n",
       "    </tr>\n",
       "    <tr>\n",
       "      <th>4</th>\n",
       "      <td>Áo đẹp, giá rẻ, sẽ ủng hộ vào lần sau</td>\n",
       "      <td>1</td>\n",
       "      <td>áo đẹp giá rẻ sẽ ủng hộ vào lần sau</td>\n",
       "      <td></td>\n",
       "    </tr>\n",
       "  </tbody>\n",
       "</table>\n",
       "</div>"
      ],
      "text/plain": [
       "                                         raw_comment  label  \\\n",
       "0  asdfasdf đẹp ádfasdfasdfasdfasdfasdfasdfasdf...      1   \n",
       "1                                      đẹp lắm ạ      1   \n",
       "2  asdfasdf đẹp ádfasdfasdfasdfasdfasdfasdfasdf...      1   \n",
       "3                                      đẹp lắm ạ      1   \n",
       "4   Áo đẹp, giá rẻ, sẽ ủng hộ vào lần sau      1   \n",
       "\n",
       "                                normalize_comment emoji  \n",
       "0                                            đẹp        \n",
       "1                                   đẹp lắm ạ        \n",
       "2                                            đẹp        \n",
       "3                                   đẹp lắm ạ        \n",
       "4  áo đẹp giá rẻ sẽ ủng hộ vào lần sau        "
      ]
     },
     "execution_count": 26,
     "metadata": {},
     "output_type": "execute_result"
    }
   ],
   "source": [
    "reviews['normalize_comment'] = reviews['normalize_comment'].apply(lambda cmt: Processor.removeNoiseWord(cmt, vocabularies, english_voca))\n",
    "\n",
    "reviews.head()"
   ]
  },
  {
   "cell_type": "markdown",
   "metadata": {},
   "source": [
    "<hr>\n",
    "\n",
    "* Tiếp theo ta sẽ remove stopword, chúng ta sẽ sử dụng stopword trong file `modules/dependencies/stopwords.txt`. Ta không nên sử dụng các stopword được build sẵn trên mạng nhất là cho tiếng việt, vì chưa chắc các từ này đã hợp với dữ liệu hiện tại của chúng ta.\n",
    "* Ví dụ nhiều stopword set loại bỏ từ \"**nhưng**\", tuy nhiên từ này khả năng cao là quan trọng, giả sử ta có câu này:\n",
    "  * _shop giao hàng chậm **nhưng** giao đúng hàng, ủng hộ shop_, thì nhờ từ **nhưng** này mà model ta có khả năng phân biệt được nó là positive hay negative.\n",
    "* Ngoài ra với một file txt như vậy, ta có thể bổ sung stopword sau này."
   ]
  },
  {
   "cell_type": "code",
   "execution_count": 27,
   "metadata": {},
   "outputs": [],
   "source": [
    "stopwords = Utils.buildListFromFile(\"./modules/dependencies/stopwords.txt\")"
   ]
  },
  {
   "cell_type": "code",
   "execution_count": 28,
   "metadata": {},
   "outputs": [
    {
     "data": {
      "text/html": [
       "<div>\n",
       "<style scoped>\n",
       "    .dataframe tbody tr th:only-of-type {\n",
       "        vertical-align: middle;\n",
       "    }\n",
       "\n",
       "    .dataframe tbody tr th {\n",
       "        vertical-align: top;\n",
       "    }\n",
       "\n",
       "    .dataframe thead th {\n",
       "        text-align: right;\n",
       "    }\n",
       "</style>\n",
       "<table border=\"1\" class=\"dataframe\">\n",
       "  <thead>\n",
       "    <tr style=\"text-align: right;\">\n",
       "      <th></th>\n",
       "      <th>raw_comment</th>\n",
       "      <th>label</th>\n",
       "      <th>normalize_comment</th>\n",
       "      <th>emoji</th>\n",
       "    </tr>\n",
       "  </thead>\n",
       "  <tbody>\n",
       "    <tr>\n",
       "      <th>0</th>\n",
       "      <td>asdfasdf đẹp ádfasdfasdfasdfasdfasdfasdfasdf...</td>\n",
       "      <td>1</td>\n",
       "      <td>đẹp</td>\n",
       "      <td></td>\n",
       "    </tr>\n",
       "    <tr>\n",
       "      <th>1</th>\n",
       "      <td>đẹp lắm ạ</td>\n",
       "      <td>1</td>\n",
       "      <td>đẹp lắm</td>\n",
       "      <td></td>\n",
       "    </tr>\n",
       "    <tr>\n",
       "      <th>2</th>\n",
       "      <td>asdfasdf đẹp ádfasdfasdfasdfasdfasdfasdfasdf...</td>\n",
       "      <td>1</td>\n",
       "      <td>đẹp</td>\n",
       "      <td></td>\n",
       "    </tr>\n",
       "    <tr>\n",
       "      <th>3</th>\n",
       "      <td>đẹp lắm ạ</td>\n",
       "      <td>1</td>\n",
       "      <td>đẹp lắm</td>\n",
       "      <td></td>\n",
       "    </tr>\n",
       "    <tr>\n",
       "      <th>4</th>\n",
       "      <td>Áo đẹp, giá rẻ, sẽ ủng hộ vào lần sau</td>\n",
       "      <td>1</td>\n",
       "      <td>áo đẹp giá rẻ sẽ ủng hộ vào lần sau</td>\n",
       "      <td></td>\n",
       "    </tr>\n",
       "  </tbody>\n",
       "</table>\n",
       "</div>"
      ],
      "text/plain": [
       "                                         raw_comment  label  \\\n",
       "0  asdfasdf đẹp ádfasdfasdfasdfasdfasdfasdfasdf...      1   \n",
       "1                                      đẹp lắm ạ      1   \n",
       "2  asdfasdf đẹp ádfasdfasdfasdfasdfasdfasdfasdf...      1   \n",
       "3                                      đẹp lắm ạ      1   \n",
       "4   Áo đẹp, giá rẻ, sẽ ủng hộ vào lần sau      1   \n",
       "\n",
       "                                normalize_comment emoji  \n",
       "0                                            đẹp        \n",
       "1                                      đẹp lắm        \n",
       "2                                            đẹp        \n",
       "3                                      đẹp lắm        \n",
       "4  áo đẹp giá rẻ sẽ ủng hộ vào lần sau        "
      ]
     },
     "execution_count": 28,
     "metadata": {},
     "output_type": "execute_result"
    }
   ],
   "source": [
    "reviews['normalize_comment'] = reviews['normalize_comment'].apply(lambda cmt: Processor.removeStopwords(cmt, stopwords))\n",
    "\n",
    "reviews.head()"
   ]
  },
  {
   "cell_type": "markdown",
   "metadata": {},
   "source": [
    "<hr>\n",
    "\n",
    "* Tiếp theo, ta loại bỏ các empty và duplicate `normalize_comment`."
   ]
  },
  {
   "cell_type": "code",
   "execution_count": 29,
   "metadata": {},
   "outputs": [
    {
     "name": "stdout",
     "output_type": "stream",
     "text": [
      "Shape: (217218, 4)\n",
      "1    210117\n",
      "0      7101\n",
      "Name: label, dtype: int64\n"
     ]
    },
    {
     "data": {
      "text/html": [
       "<div>\n",
       "<style scoped>\n",
       "    .dataframe tbody tr th:only-of-type {\n",
       "        vertical-align: middle;\n",
       "    }\n",
       "\n",
       "    .dataframe tbody tr th {\n",
       "        vertical-align: top;\n",
       "    }\n",
       "\n",
       "    .dataframe thead th {\n",
       "        text-align: right;\n",
       "    }\n",
       "</style>\n",
       "<table border=\"1\" class=\"dataframe\">\n",
       "  <thead>\n",
       "    <tr style=\"text-align: right;\">\n",
       "      <th></th>\n",
       "      <th>raw_comment</th>\n",
       "      <th>label</th>\n",
       "      <th>normalize_comment</th>\n",
       "      <th>emoji</th>\n",
       "    </tr>\n",
       "  </thead>\n",
       "  <tbody>\n",
       "    <tr>\n",
       "      <th>0</th>\n",
       "      <td>asdfasdf đẹp ádfasdfasdfasdfasdfasdfasdfasdf...</td>\n",
       "      <td>1</td>\n",
       "      <td>đẹp</td>\n",
       "      <td></td>\n",
       "    </tr>\n",
       "    <tr>\n",
       "      <th>1</th>\n",
       "      <td>đẹp lắm ạ</td>\n",
       "      <td>1</td>\n",
       "      <td>đẹp lắm</td>\n",
       "      <td></td>\n",
       "    </tr>\n",
       "    <tr>\n",
       "      <th>2</th>\n",
       "      <td>Áo đẹp, giá rẻ, sẽ ủng hộ vào lần sau</td>\n",
       "      <td>1</td>\n",
       "      <td>áo đẹp giá rẻ sẽ ủng hộ vào lần sau</td>\n",
       "      <td></td>\n",
       "    </tr>\n",
       "    <tr>\n",
       "      <th>3</th>\n",
       "      <td>Chất OK đẹp 2 bộ lớn \\nBộ bé thì kg...</td>\n",
       "      <td>1</td>\n",
       "      <td>chất ok đẹp bộ lớn bộ bé kg mê lắ...</td>\n",
       "      <td></td>\n",
       "    </tr>\n",
       "    <tr>\n",
       "      <th>4</th>\n",
       "      <td>Các bạn đặt tăng lên 1 size cho thoải m...</td>\n",
       "      <td>1</td>\n",
       "      <td>các bạn đặt tăng lên size cho thoải má...</td>\n",
       "      <td></td>\n",
       "    </tr>\n",
       "  </tbody>\n",
       "</table>\n",
       "</div>"
      ],
      "text/plain": [
       "                                         raw_comment  label  \\\n",
       "0  asdfasdf đẹp ádfasdfasdfasdfasdfasdfasdfasdf...      1   \n",
       "1                                      đẹp lắm ạ      1   \n",
       "2   Áo đẹp, giá rẻ, sẽ ủng hộ vào lần sau      1   \n",
       "3  Chất OK đẹp 2 bộ lớn \\nBộ bé thì kg...      1   \n",
       "4  Các bạn đặt tăng lên 1 size cho thoải m...      1   \n",
       "\n",
       "                                   normalize_comment emoji  \n",
       "0                                               đẹp        \n",
       "1                                         đẹp lắm        \n",
       "2     áo đẹp giá rẻ sẽ ủng hộ vào lần sau        \n",
       "3  chất ok đẹp bộ lớn bộ bé kg mê lắ...        \n",
       "4  các bạn đặt tăng lên size cho thoải má...        "
      ]
     },
     "execution_count": 29,
     "metadata": {},
     "output_type": "execute_result"
    }
   ],
   "source": [
    "reviews = Processor.removeEmptyOrDuplicateComment(reviews)\n",
    "\n",
    "Processor.printAfterProcess(reviews)\n",
    "reviews.head()"
   ]
  },
  {
   "cell_type": "markdown",
   "metadata": {},
   "source": [
    "<hr>\n",
    "\n",
    "* Train test split, ta thấy rằng giữa hai nhóm positive và negative có chênh lệnh lớn, nên tập train data của ta sẽ bằng $0.8 * \\min(\\mathrm{size}(positive), \\mathrm{size}(negative)) * 2$."
   ]
  },
  {
   "cell_type": "code",
   "execution_count": 30,
   "metadata": {},
   "outputs": [
    {
     "data": {
      "text/plain": [
       "7101"
      ]
     },
     "execution_count": 30,
     "metadata": {},
     "output_type": "execute_result"
    }
   ],
   "source": [
    "half_min_size = min(reviews['label'].value_counts())\n",
    "\n",
    "half_min_size"
   ]
  },
  {
   "cell_type": "code",
   "execution_count": 31,
   "metadata": {},
   "outputs": [],
   "source": [
    "reviews_positive = reviews[reviews['label'] == 1]\n",
    "reviews_negative = reviews[reviews['label'] == 0]\n",
    "\n",
    "reviews_positive = shuffle(reviews_positive)\n",
    "reviews_positive = reviews_positive.reset_index(drop=True)"
   ]
  },
  {
   "cell_type": "code",
   "execution_count": 32,
   "metadata": {},
   "outputs": [
    {
     "data": {
      "text/plain": [
       "[152523, 205225, 115014, 23971, 195492, 191617, 134941, 148560, 102373, 3504]"
      ]
     },
     "execution_count": 32,
     "metadata": {},
     "output_type": "execute_result"
    }
   ],
   "source": [
    "positive_index = random.sample(range(0, reviews_positive.shape[0]), half_min_size)\n",
    "\n",
    "positive_index[:10]"
   ]
  },
  {
   "cell_type": "code",
   "execution_count": 33,
   "metadata": {},
   "outputs": [
    {
     "data": {
      "text/html": [
       "<div>\n",
       "<style scoped>\n",
       "    .dataframe tbody tr th:only-of-type {\n",
       "        vertical-align: middle;\n",
       "    }\n",
       "\n",
       "    .dataframe tbody tr th {\n",
       "        vertical-align: top;\n",
       "    }\n",
       "\n",
       "    .dataframe thead th {\n",
       "        text-align: right;\n",
       "    }\n",
       "</style>\n",
       "<table border=\"1\" class=\"dataframe\">\n",
       "  <thead>\n",
       "    <tr style=\"text-align: right;\">\n",
       "      <th></th>\n",
       "      <th>raw_comment</th>\n",
       "      <th>label</th>\n",
       "      <th>normalize_comment</th>\n",
       "      <th>emoji</th>\n",
       "    </tr>\n",
       "  </thead>\n",
       "  <tbody>\n",
       "    <tr>\n",
       "      <th>152523</th>\n",
       "      <td>Giao hàng nhanh, mua hqua hnay đã có rồi....</td>\n",
       "      <td>1</td>\n",
       "      <td>giao hàng nhanh mua có săn sale không nên...</td>\n",
       "      <td></td>\n",
       "    </tr>\n",
       "    <tr>\n",
       "      <th>205225</th>\n",
       "      <td>Giá cả hợp lý. Đường may có vẻ chắ...</td>\n",
       "      <td>1</td>\n",
       "      <td>giá cả hợp lý đường may có vẻ chắc...</td>\n",
       "      <td>🍀</td>\n",
       "    </tr>\n",
       "    <tr>\n",
       "      <th>115014</th>\n",
       "      <td>Cũng tạm được mà mỏng quá so với gia...</td>\n",
       "      <td>1</td>\n",
       "      <td>cũng tạm được mà mỏng quá so giá gầ...</td>\n",
       "      <td>🤦‍♀️</td>\n",
       "    </tr>\n",
       "    <tr>\n",
       "      <th>23971</th>\n",
       "      <td>Hàng chất lượng với giá tiền</td>\n",
       "      <td>1</td>\n",
       "      <td>hàng chất lượng giá tiền</td>\n",
       "      <td></td>\n",
       "    </tr>\n",
       "    <tr>\n",
       "      <th>195492</th>\n",
       "      <td>Áo phom chuẩn size, vải nếu mầu trắn...</td>\n",
       "      <td>1</td>\n",
       "      <td>áo phom chuẩn size vải nếu mầu trắng...</td>\n",
       "      <td></td>\n",
       "    </tr>\n",
       "  </tbody>\n",
       "</table>\n",
       "</div>"
      ],
      "text/plain": [
       "                                              raw_comment  label  \\\n",
       "152523  Giao hàng nhanh, mua hqua hnay đã có rồi....      1   \n",
       "205225  Giá cả hợp lý. Đường may có vẻ chắ...      1   \n",
       "115014  Cũng tạm được mà mỏng quá so với gia...      1   \n",
       "23971             Hàng chất lượng với giá tiền      1   \n",
       "195492  Áo phom chuẩn size, vải nếu mầu trắn...      1   \n",
       "\n",
       "                                        normalize_comment emoji  \n",
       "152523  giao hàng nhanh mua có săn sale không nên...        \n",
       "205225  giá cả hợp lý đường may có vẻ chắc...     🍀  \n",
       "115014  cũng tạm được mà mỏng quá so giá gầ...  🤦‍♀️  \n",
       "23971                   hàng chất lượng giá tiền        \n",
       "195492  áo phom chuẩn size vải nếu mầu trắng...        "
      ]
     },
     "execution_count": 33,
     "metadata": {},
     "output_type": "execute_result"
    }
   ],
   "source": [
    "reviews_positive2 = reviews_positive.iloc[positive_index,:]\n",
    "\n",
    "reviews_positive2.head()"
   ]
  },
  {
   "cell_type": "markdown",
   "metadata": {},
   "source": [
    "* Đây là tập data mà hai nhóm positive và negative cân bằng nhau"
   ]
  },
  {
   "cell_type": "code",
   "execution_count": 34,
   "metadata": {},
   "outputs": [
    {
     "name": "stdout",
     "output_type": "stream",
     "text": [
      "Shape: (14202, 4)\n",
      "1    7101\n",
      "0    7101\n",
      "Name: label, dtype: int64\n"
     ]
    },
    {
     "data": {
      "text/html": [
       "<div>\n",
       "<style scoped>\n",
       "    .dataframe tbody tr th:only-of-type {\n",
       "        vertical-align: middle;\n",
       "    }\n",
       "\n",
       "    .dataframe tbody tr th {\n",
       "        vertical-align: top;\n",
       "    }\n",
       "\n",
       "    .dataframe thead th {\n",
       "        text-align: right;\n",
       "    }\n",
       "</style>\n",
       "<table border=\"1\" class=\"dataframe\">\n",
       "  <thead>\n",
       "    <tr style=\"text-align: right;\">\n",
       "      <th></th>\n",
       "      <th>raw_comment</th>\n",
       "      <th>label</th>\n",
       "      <th>normalize_comment</th>\n",
       "      <th>emoji</th>\n",
       "    </tr>\n",
       "  </thead>\n",
       "  <tbody>\n",
       "    <tr>\n",
       "      <th>0</th>\n",
       "      <td>Quần giặt xong co ngắn mất 5 phân. Ne...</td>\n",
       "      <td>0</td>\n",
       "      <td>quần giặt xong co ngắn mất phân nên ...</td>\n",
       "      <td></td>\n",
       "    </tr>\n",
       "    <tr>\n",
       "      <th>1</th>\n",
       "      <td>Vải áo mặc nóng \\nCòn vải  quần dễ ...</td>\n",
       "      <td>0</td>\n",
       "      <td>vải áo mặc nóng còn vải quần dễ xù...</td>\n",
       "      <td>❤️</td>\n",
       "    </tr>\n",
       "    <tr>\n",
       "      <th>2</th>\n",
       "      <td>Đóng gói cẩn thận, giao đủ số lượn...</td>\n",
       "      <td>0</td>\n",
       "      <td>đóng gói cẩn thận giao đủ số lượng...</td>\n",
       "      <td></td>\n",
       "    </tr>\n",
       "    <tr>\n",
       "      <th>3</th>\n",
       "      <td>Quần quá to mọi người ạ còn dài nx  ...</td>\n",
       "      <td>0</td>\n",
       "      <td>quần quá to mọi người còn dài mặc d...</td>\n",
       "      <td></td>\n",
       "    </tr>\n",
       "    <tr>\n",
       "      <th>4</th>\n",
       "      <td>Vải thừa hơi nhiều\\nGiao hàng nhanh .!\\...</td>\n",
       "      <td>0</td>\n",
       "      <td>vải thừa hơi nhiều giao hàng nhanh thủ...</td>\n",
       "      <td></td>\n",
       "    </tr>\n",
       "  </tbody>\n",
       "</table>\n",
       "</div>"
      ],
      "text/plain": [
       "                                         raw_comment  label  \\\n",
       "0  Quần giặt xong co ngắn mất 5 phân. Ne...      0   \n",
       "1  Vải áo mặc nóng \\nCòn vải  quần dễ ...      0   \n",
       "2  Đóng gói cẩn thận, giao đủ số lượn...      0   \n",
       "3  Quần quá to mọi người ạ còn dài nx  ...      0   \n",
       "4  Vải thừa hơi nhiều\\nGiao hàng nhanh .!\\...      0   \n",
       "\n",
       "                                   normalize_comment emoji  \n",
       "0  quần giặt xong co ngắn mất phân nên ...        \n",
       "1  vải áo mặc nóng còn vải quần dễ xù...    ❤️  \n",
       "2  đóng gói cẩn thận giao đủ số lượng...        \n",
       "3  quần quá to mọi người còn dài mặc d...        \n",
       "4  vải thừa hơi nhiều giao hàng nhanh thủ...        "
      ]
     },
     "execution_count": 34,
     "metadata": {},
     "output_type": "execute_result"
    }
   ],
   "source": [
    "normalize_reviews = pd.concat([reviews_negative, reviews_positive2], axis=0)\n",
    "normalize_reviews = normalize_reviews.reset_index(drop=True)\n",
    "\n",
    "Processor.printAfterProcess(normalize_reviews)\n",
    "normalize_reviews.head()"
   ]
  },
  {
   "cell_type": "markdown",
   "metadata": {},
   "source": [
    "* Ghi ra file"
   ]
  },
  {
   "cell_type": "code",
   "execution_count": 35,
   "metadata": {},
   "outputs": [],
   "source": [
    "normalize_reviews.to_csv(\"./data/normalize_reviews.csv\", index=False)"
   ]
  },
  {
   "cell_type": "markdown",
   "metadata": {},
   "source": [
    "* Bây giờ ta sẽ ghi phần bù còn lại của `review_positive` vào file, ta có thể dùng nó cho việc evaluate model sau này."
   ]
  },
  {
   "cell_type": "code",
   "execution_count": 36,
   "metadata": {},
   "outputs": [
    {
     "data": {
      "text/html": [
       "<div>\n",
       "<style scoped>\n",
       "    .dataframe tbody tr th:only-of-type {\n",
       "        vertical-align: middle;\n",
       "    }\n",
       "\n",
       "    .dataframe tbody tr th {\n",
       "        vertical-align: top;\n",
       "    }\n",
       "\n",
       "    .dataframe thead th {\n",
       "        text-align: right;\n",
       "    }\n",
       "</style>\n",
       "<table border=\"1\" class=\"dataframe\">\n",
       "  <thead>\n",
       "    <tr style=\"text-align: right;\">\n",
       "      <th></th>\n",
       "      <th>raw_comment</th>\n",
       "      <th>label</th>\n",
       "      <th>normalize_comment</th>\n",
       "      <th>emoji</th>\n",
       "    </tr>\n",
       "  </thead>\n",
       "  <tbody>\n",
       "    <tr>\n",
       "      <th>0</th>\n",
       "      <td>Bộ rộng thoảng mái mặc mát</td>\n",
       "      <td>1</td>\n",
       "      <td>bộ rộng thoảng mái mặc mát</td>\n",
       "      <td></td>\n",
       "    </tr>\n",
       "    <tr>\n",
       "      <th>1</th>\n",
       "      <td>Sản phẩm xài tốt</td>\n",
       "      <td>1</td>\n",
       "      <td>sản phẩm xài tốt</td>\n",
       "      <td></td>\n",
       "    </tr>\n",
       "    <tr>\n",
       "      <th>2</th>\n",
       "      <td>Xinh ạ. Nhìn sáng. Hàng về y hìnhhh. Si...</td>\n",
       "      <td>1</td>\n",
       "      <td>xinh nhìn sáng hàng về y hình siêu xinh</td>\n",
       "      <td></td>\n",
       "    </tr>\n",
       "    <tr>\n",
       "      <th>3</th>\n",
       "      <td>Nhận đc hàng rồi giao nhanhqqdvbnxghbcxeg...</td>\n",
       "      <td>1</td>\n",
       "      <td>nhận được hàng giao</td>\n",
       "      <td></td>\n",
       "    </tr>\n",
       "    <tr>\n",
       "      <th>4</th>\n",
       "      <td>Ví đẹp. Có hộp kèm theo. Shop gửi sai ...</td>\n",
       "      <td>1</td>\n",
       "      <td>ví đẹp có hộp kèm theo gửi sai màu tu...</td>\n",
       "      <td></td>\n",
       "    </tr>\n",
       "  </tbody>\n",
       "</table>\n",
       "</div>"
      ],
      "text/plain": [
       "                                         raw_comment  label  \\\n",
       "0                Bộ rộng thoảng mái mặc mát      1   \n",
       "1                             Sản phẩm xài tốt      1   \n",
       "2  Xinh ạ. Nhìn sáng. Hàng về y hìnhhh. Si...      1   \n",
       "3  Nhận đc hàng rồi giao nhanhqqdvbnxghbcxeg...      1   \n",
       "4  Ví đẹp. Có hộp kèm theo. Shop gửi sai ...      1   \n",
       "\n",
       "                                   normalize_comment emoji  \n",
       "0                bộ rộng thoảng mái mặc mát        \n",
       "1                             sản phẩm xài tốt        \n",
       "2     xinh nhìn sáng hàng về y hình siêu xinh        \n",
       "3                          nhận được hàng giao        \n",
       "4  ví đẹp có hộp kèm theo gửi sai màu tu...        "
      ]
     },
     "execution_count": 36,
     "metadata": {},
     "output_type": "execute_result"
    }
   ],
   "source": [
    "reviews_positive3 = reviews_positive[~reviews_positive.index.isin(positive_index)]\n",
    "reviews_positive3 = reviews_positive3.reset_index(drop=True)\n",
    "\n",
    "reviews_positive3.head()"
   ]
  },
  {
   "cell_type": "code",
   "execution_count": 37,
   "metadata": {},
   "outputs": [],
   "source": [
    "reviews_positive3.to_csv(\"./data/complement_positive_reviews.csv\", index=False)"
   ]
  },
  {
   "cell_type": "markdown",
   "metadata": {},
   "source": [
    "# 1.8. Tài liệu kham thảo:\n",
    "* [Web Scraping with Python: Collecting Data from the Modern Web 1st Edition](https://www.amazon.com/Web-Scraping-Python-Collecting-Modern/dp/1491910291)\n",
    "* [Applied Text Analysis with Python: Enabling Language-Aware Data Products with Machine Learning 1st Edition](https://www.amazon.com/Applied-Text-Analysis-Python-Language-Aware/dp/1491963042)\n",
    "* [Natural Language Processing with Python: Analyzing Text with the Natural Language Toolkit 1st Edition](https://www.amazon.com/Natural-Language-Processing-Python-Analyzing/dp/0596516495/ref=pd_sbs_2/138-2957899-5417957?pd_rd_w=bae9C&pf_rd_p=3676f086-9496-4fd7-8490-77cf7f43f846&pf_rd_r=HY0SV9DZKNKG3YP7XGCQ&pd_rd_r=8e2cac9c-9e76-47af-b450-2a0b45dab9ce&pd_rd_wg=aNUA6&pd_rd_i=0596516495&psc=1)\n",
    "* ..."
   ]
  }
 ],
 "metadata": {
  "interpreter": {
   "hash": "916dbcbb3f70747c44a77c7bcd40155683ae19c65e1c03b4aa3499c5328201f1"
  },
  "kernelspec": {
   "display_name": "Python 3",
   "language": "python",
   "name": "python3"
  },
  "language_info": {
   "codemirror_mode": {
    "name": "ipython",
    "version": 3
   },
   "file_extension": ".py",
   "mimetype": "text/x-python",
   "name": "python",
   "nbconvert_exporter": "python",
   "pygments_lexer": "ipython3",
   "version": "3.6.8"
  }
 },
 "nbformat": 4,
 "nbformat_minor": 4
}
