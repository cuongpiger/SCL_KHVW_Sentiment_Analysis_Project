{
 "cells": [
  {
   "cell_type": "markdown",
   "metadata": {},
   "source": [
    "# Project 01\n",
    "## Thu Thập Dữ Liệu Từ Web"
   ]
  },
  {
   "cell_type": "markdown",
   "metadata": {},
   "source": [
    "# 1.0. Enviroment, editor (IDE), programming language & dependent packages\n",
    "* **OS**: Ubuntu 20.04 LTS\n",
    "* **Programming language**: Python 3.6.8\n",
    "* **Python's dependent packages**:\n",
    "  ```shell\n",
    "  pip3 install selenium==3.141.0\n",
    "  pip3 install emojis==0.6.0\n",
    "  pip3 install pyenchant==3.2.1\n",
    "  pip3 install numpy==1.19.5\n",
    "  pip3 install pandas==1.2.4\n",
    "  pip3 install requests==2.22.0\n",
    "  pip3 install scikit-learn==0.24.2\n",
    "  ```\n",
    "  _Một vài package khác có thể sẽ yêu cầu cài thêm trong quá trình install các package phía trên nên sẽ không liệt kê trong đây._\n",
    "* **Editor**: VS-Code _(recommend)_, Jupyter Notebook, Jupyter Lab,..."
   ]
  },
  {
   "cell_type": "markdown",
   "metadata": {},
   "source": [
    "# 1.1. Trình bày chủ đề, lý do chọn chủ đề, trang web lấy hoặc trang web là hạt giống\n",
    "* Trong thương mại điện tử, việc liên tục nâng cao chất lượng sản phẩm và dịch vụ để đáp ứng nhu cầu khách hàng nhằm nâng cao uy tín là công việc hàng đầu cua của các doanh nghiệp khi tham gia sàn thương mại điện tử.\n",
    "* Hệ thống hỗ trợ doanh nghiệp phân loại các phản hồi của khách hàng thành hai nhóm: **positive** [nhóm khách hàng tích cực], kí hiệu <scan style=\"color: green\">$\\oplus$</scan> và **negative** [nhóm khách hàng tiêu cực], kí hiệu <scan style=\"color: red\">$\\ominus$</scan> dựa trên dữ liệu đầu vào dưới dạng **text** [tài liệu văn bản].\n",
    "* Hệ thống được xây dựng dựa trên lịch sử những đánh giá của khách hàng đã có trước đó, dữ liệu được thu thập từ phần **comment** [bình luận] và **rating** [số sao (điểm) đánh giá cho sản phẩm] của khách hàng ở trang web thương mại điện tử từ một nhóm ngành nào đó.\n",
    "* Hệ thống giúp doanh nghiệp có thể biết được những phản hồi nhanh chóng của khách hàng về sản phẩm, dịch vụ của họ, điều này giúp cho doanh nghiệp có thể hiểu được tình hình kinh doanh, hiểu được ý kiến của khách hàng từ đó giúp doanh nghiệp cải thiện hơn trong dịch vụ, sản phẩm.\n",
    "* Ở đây, trang thương mại điện tử được dùng để crawl dữ liệu là [**Shopee Việt Nam**](https://shopee.vn/), dữ liệu được crawl về là những bình luận và đánh giá của khách hàng về các sản phẩm thuộc nhóm ngành thời trang."
   ]
  },
  {
   "cell_type": "markdown",
   "metadata": {},
   "source": [
    "# 1.2. Mô tả thuật toán, cấu trúc mã nguồn, các thành phần hệ thống\n",
    "###### Mô tả thuật toán và các thành phần của hệ thống\n",
    "* Đối với quá trình data pre-processing sẽ dc trình bày chi tiết trong phần 1.6 và 1.7 ở file `01.pre-processing_references.ipynb`, ở đây ta chỉ tập trung vào cách ta crawl dữ liệu.\n",
    "* Shopee là một dynamic website, điều này có nghĩa các component của trang sẽ dc load lên \"khi có sự tương tác\" của người dùng, ta cứ hình dung như trang newfeeds của Facebook, ban đầu chỉ hiện một vài bài viết sau đó khi ta scroll để xem hết bài viết thì qua cơ chế AJAX nó sẽ load thêm các bài mới viết mới. Điều này giúp cho giảm tải về dung lượng mạng và thời gian waiting cho người dùng nhưng nó gián tiếp khiến cho việc crawl data khó thực hiện hơn.\n",
    "* Toán bộ thuật toán và chi tiết cách thực hiện nằm trong phần 1.2.1.\n",
    "###### Cấu trúc mã nguồn\n",
    "* Folder **modules** chứa các user defined function, class.\n",
    "* Folder **data** chứa các data mà ta crawl về, những data phát sinh sau bước pre-processing,...\n",
    "* Folder **images** chứa các hình minh họa.\n",
    "* File **00.intro_scraping.ipynb**: là các phần 1.1 đến 1.5 của báo cáo\n",
    "* File **01.pre-processing_references.ipynb**: chứa hai phần 1.6 và 1.7 của báo cáo.\n",
    "* File **modules/crawler.py**: định nghĩa các hàm dùng để crawl data\n",
    "* File **modules/processor.py**: định nghĩa các hàm dùng để tiền xử lí dữ liệu\n",
    "* File **modules/regex_patterns.py**: định nghĩa các regular expression để tiền xử lí dữ liệu\n",
    "* File **modules/user_object_defined.py**: định nghĩa các kiểu dữ liệu để tiện cho quá trình code, cho code clear và dễ hiểu\n",
    "* File **modules/utils.py**: chứa các hàm như đọc file txt, ghi file, các hàm chức năng,...\n",
    "* Folder **modules/dependencies**: chứa các file data dùng làm sạch dữ liệu, trong đó:\n",
    "  * **abbreviate.txt**: chứa các từ viết tắt và dạng chuẩn của từ viết tắt.\n",
    "  * **stopwords.txt**: các stopword tiếng việt\n",
    "  * **vocabulary.txt**: các từ đơn trong tiếng việt.\n",
    "## 1.2.1. Demo và chi tiết về cách thực hiện (khúc sau)"
   ]
  },
  {
   "cell_type": "markdown",
   "metadata": {},
   "source": [
    "# 1.3. Các vấn đề xảy ra đối với crawler và phương pháp xử lý\n",
    "* Đây là các vấn để trong crawler, các vấn để trong tiền xử lí sẽ được nói chi tiết trong mục 1.6 và 1.7.\n",
    "  \n",
    "|Vấn đề|Phương pháp xử lí|\n",
    "|-|-|\n",
    "|Hầu hết các trang web thương mại điện tử hiện tại là dynamic website, chúng tiến hành load dữ liệu bằng AJAX. Và để crawl được dữ liệu từ các trang web như thế này thì đòi hỏi ta cần phải giả lập thao tác người dùng.|- Sử dụng **Selenium** để tiến hành giả lập thao tác người dùng.<br>- Các trang web thương mại điện tử ngày này có các API để hỗ trợ các lập trình viên có thể nhanh chóng crawl được dữ liệu.|\n",
    "|Vấn đề về đường truyền internet hiện tại đang bị hỏng khiến việc crawl data trở nên lâu và vất vả hơn|Chưa có biện pháp xử lí|"
   ]
  },
  {
   "cell_type": "markdown",
   "metadata": {},
   "source": [
    "# 1.4. Các tính năng phức tạp của crawler\n",
    "* Giả lâp cuộn trang.\n",
    "* Cuộn trang và kiểm tra sự xuất hiện của một css selector dc chỉ định.\n",
    "* Giả lập click button\n",
    "* Crawl data bằng API\n",
    "* Linh hoạt trong thời gian timeout, thay vì ta sử dụng cơ chế là bắt crawler dừng tĩnh trong 3 giây, vậy nếu như ta đã access vào trang thành công trước 3 giây thì ta vẫn phải chờ cho hết 3 giây timeout. Cái ta muốn là tự động kết thúc timeout ngay khi ta truy cập vào trang thành công hoặc hết timeout 3 giây, lúc này ta sử dụng cơ chế `WebDriverWait(<browser driver>, <second waiting>).until()` của Selenium.\n",
    "* Kiểm tra đã kết thúc navigation hay chưa.\n",
    "* Các xử lí phức tạp trong tiền xử lí dữ liệu như regex, xử lí noise sample, extracting emoji sẽ dc trình bày chi tiết trong phần 1.6 và 1.7."
   ]
  },
  {
   "cell_type": "markdown",
   "metadata": {},
   "source": [
    "# 1.5. Đánh giá hiệu năng crawler\n",
    "* Crawler nhìn chung hoạt động tốt, không bị hiện tương treo do cơ chế `WebDriverWait().until()` đã khắc phục điều này.\n",
    "* Tuy nhiên thời gian crawl lâu, mất từ 3 đến 5 ngày treo máy tính."
   ]
  },
  {
   "cell_type": "markdown",
   "metadata": {},
   "source": [
    "<hr>\n",
    "\n",
    "## 1.2.1. Demo và chi tiết về cách thực hiện\n",
    "* Khi truy cập vào trang chủ Shopee Việt Nam tại địa chỉ [https://shopee.vn](https://shopee.vn), khi kéo xuống một chút ta sẽ thấy được nhóm ngành thời trang như dưới đây:\n",
    "  ![](images/00.png)\n",
    "* Vùng red square là những nhóm hàng mà ta sẽ tập trung crawl cũng như xây dựng model về sau.\n",
    "* Một câu hỏi đặt ra là tại sao chúng ta không tạo ra một model mà nó có thể phân lớp cho toàn bộ tất cả các nhóm ngành trên trang thương mại điện tử này. Có một vài hạn chế như sau:\n",
    "  * Việc chúng ta có gắng nhồi nhét toàn bộ các comment của các nhóm ngành khác nhau và bắt máy tính phải học một đống này sẽ khiến cho quá trình học trở nên phức tạp, khó khăn và tốn thời gian, đồng thời nếu có xây dựng được model thì chất lượng nó cũng sẽ không tốt khi ta evaluate nó hoặc ứng dụng vào thực tế về sau.\n",
    "  * Các nhóm ngành khác nhau có những keyword khác nhau, ví dụ nhóm ngành thời trang sẽ có những keyword điển hình như: _vải xấu, áo mỏng, đổ lông,..._. Nhưng nếu trong nhóm ngành điện tử sẽ có những keyword như: _máy nóng, sạc không vô, chai pin,..._, nhưng giữa hai nhóm ngành thời trang và điện tử lại có những keyword chung như: _hàng không giống ảnh, giao sai màu, giao hàng chậm,..._ và điển hình ở các comment tích cực thì việc các keyword này overlap lên nhau thì càng nhiều hơn, ví dụ: _giao nhanh, sản phẩm tốt, chất lượng sản phẩm tuyệt vời,..._. Các comment tích cực hay có một xu hướng chung chung như vậy và không đề cập quá chi tiết về nhóm hàng mình đang đánh giá.\n",
    "  * Và nếu ta muốn một hệ thống có thể ứng dụng được trên toàn bộ hệ thống các nhóm hàng, thì lúc này ta có thể làm như sau:\n",
    "    * Giả sử ta là Shopee, thì ta biết rõ comment này thuộc sản phẩm nào và sản phẩm này thuộc nhóm hàng nào dựa vào các label, tag của sản phẩm, từ đó ta sẽ sử dụng model tương ứng cho nhóm hàng này để dự đoán.\n",
    "    * Nếu ta không là Shopee, ta có thể xây dựng thêm một model-1 với input là comment của khách hàng, output là nhóm hàng mà comment này khả năng cao thuộc về. Sau đó ta mới bắt đầu đưa comment này vào model-2 tương ứng với nhóm hàng mà model-1 đề xuất và đánh giá comment này.\n",
    "    Đây là một vài cách mà ta có thể ứng dụng. Thực tế thì các hệ thống này có khả năng cao phức tạp hơn nhiều, nhưng ở đây ta chỉ chú tâm vào nhóm hàng thời trang thôi. \n",
    "* Giả sử ta cần crawl data từ nhóm **Thời Trang Nam**, ta có thể click vào nó:<br>\n",
    "  ![](images/00.png)\n",
    "* Hãy chú ý vào các vùng khoanh đỏ trong hình dưới đây, ta thấy rằng trong URL có một thuộc tính là `page=0` và trong UI ta thấy nó đang là trang **1/100**. Vậy nếu ta thay giá trị `page` này từ **[0, 99]** thì ta có thể truy cập tương ứng vào các page từ **[1:100]**.<br>\n",
    "  ![](images/01.png)\n",
    "* Hãy thử right-click vào mặt hàng đầu tiên và chọn **inspect**, ta có thể thấy được các sản phẩm này được nằm trong một HTML tag element là:\n",
    "  ```html\n",
    "  <div class=\"col-xs-2-4 shopee-search-item-result__item\" data-sqe=\"item\">\n",
    "      ...\n",
    "  </div>\n",
    "  ```\n",
    "* Chúng ta thấy rằng các sản phẩm được bọc trong thẻ các tag `<div>` mà có class là `shopee-search-item-result__item`.<br>\n",
    "  ![](images/03.png)\n",
    "* Khi ta drop-down tag `<div>` này xuống, ta có thể thấy được tag `<a>` chứa hyper-link đến trang landing-page của sản phẩm này trong attribute `href`.<br>\n",
    "  ![](images/02.png)\n",
    "* Sơ bộ là vậy, bây giờ chúng ta sẽ tiến hành lấy tất cả các hypeylink dẫn đến các trang landing-page này."
   ]
  },
  {
   "cell_type": "markdown",
   "metadata": {},
   "source": [
    "* Do quá trình crawl data là một quá trình đòi hỏi tốn nhiều thời gian, vì thế nên chỉ có thể tiến hành demo các bước nhỏ chứ không thể báo cáo toàn bộ quá trình crawl trên một paper được, điều này càng khó khả thi hơn khi crawl trên một dynamic website.\n",
    "* Bây giờ ta sẽ tiến hành lấy các URL của các sản phẩm để có thể truy cập vào trang riêng của sản phẩm đó."
   ]
  },
  {
   "cell_type": "code",
   "execution_count": 1,
   "metadata": {},
   "outputs": [],
   "source": [
    "%load_ext autoreload\n",
    "%autoreload 2"
   ]
  },
  {
   "cell_type": "code",
   "execution_count": 2,
   "metadata": {},
   "outputs": [],
   "source": [
    "import modules.crawler as Crawler"
   ]
  },
  {
   "cell_type": "code",
   "execution_count": 3,
   "metadata": {},
   "outputs": [],
   "source": [
    "product_urls = Crawler.getProductURLs(\"https://shopee.vn/Th%E1%BB%9Di-Trang-Nam-cat.11035567?page=\",\n",
    "                                      [0, 10], \"div.shopee-search-item-result__item > a\")"
   ]
  },
  {
   "cell_type": "code",
   "execution_count": 4,
   "metadata": {},
   "outputs": [
    {
     "data": {
      "text/plain": [
       "['https://shopee.vn/M%C5%A9-l%C6%B0%E1%BB%A1i-trai-%E2%9D%A4%EF%B8%8F-N%C3%B3n-k%E1%BA%BFt-th%C3%AAu-ch%E1%BB%AF-Memorie-phong-c%C3%A1ch-Ulzzang-form-unisex-nam-n%E1%BB%AF-N01-i.299400775.9742055201?position=0',\n",
       " 'https://shopee.vn/%C3%81o-thun-Unisex-N7-Basic-Tee-ph%C3%B4ng-tr%C6%A1n-nam-n%E1%BB%AF-tay-l%E1%BB%A1-oversize-form-r%E1%BB%99ng-12-m%C3%A0u-i.257372007.3554096264?position=1',\n",
       " 'https://shopee.vn/%C3%81o-s%C6%A1-mi-nam-FEAER-ch%E1%BA%A5t-l%E1%BB%A5a-h%E1%BB%8Da-ti%E1%BA%BFt-l%C3%A1-%C4%91en-Boo-Boo-i.263713672.7041587820?position=2',\n",
       " 'https://shopee.vn/%C3%81o-Polo-nam-Leo-Vatino-v%E1%BA%A3i-Cotton-c%C3%A1-s%E1%BA%A5u-cao-c%E1%BA%A5p-xu%E1%BA%A5t-x%E1%BB%8Bn-d%E1%BB%87t-bo-d%C3%A0y-d%E1%BA%B7n-chu%E1%BA%A9n-form-%C3%A1o-thun-c%E1%BB%95-b%E1%BA%BB-tay-ng%E1%BA%AFn-Galvin-i.277678439.6039387811?position=3',\n",
       " 'https://shopee.vn/-M%C3%A3-SKAMA9-gi%E1%BA%A3m-8-%C4%91%C6%A1n-250K-%C3%81o-thun-nam-POLO-tr%C6%A1n-v%E1%BA%A3i-c%C3%A1-s%E1%BA%A5u-cotton-cao-c%E1%BA%A5p-ng%E1%BA%AFn-tay-c%E1%BB%B1c-sang-tr%E1%BB%8Dng-i.296694982.3448103572?position=4']"
      ]
     },
     "execution_count": 4,
     "metadata": {},
     "output_type": "execute_result"
    }
   ],
   "source": [
    "product_urls[:5]"
   ]
  },
  {
   "cell_type": "markdown",
   "metadata": {},
   "source": [
    "### 1.2.1.1. Crawl comment từ hai sản phẩm với URL mà ta đã bắt được từ bước trên bằng Selenium\n",
    "* Vậy tóm lại các bước thực hiện là như sau:\n",
    "  * Đầu tiên ta vào trang chủ, có thể search mặt hàng mà ta muốn crawl hoặc chọn các gợi ý có sẵn, copy đường dẫn về.\n",
    "  * Tiếp theo, với mỗi URL như vậy, mặc định sẽ có 100 trang, ta sẽ crawl về mọi URL của các sản phẩm từ 100 trang này.\n",
    "  * Vào URL của từng sản phẩm:\n",
    "    * Đi qua từng review navigation và crawl về toàn bộ.\n",
    "    * Nhấn nút next navigation page và quay lại bước trên\n",
    "      * Nếu unable clicking, thì đã hết review và dừng lại quá trình crawl"
   ]
  },
  {
   "cell_type": "code",
   "execution_count": 5,
   "metadata": {},
   "outputs": [],
   "source": [
    "product_urls = [\n",
    "    \"https://shopee.vn/-M605-SET-B%E1%BB%98-TRANG-PH%E1%BB%A4C-L%E1%BB%8ACH-S%E1%BB%B0-SANG-TR%E1%BB%8CNG-CHO-NG%C6%AF%E1%BB%9CI-TRUNG-NI%C3%8AN-%C3%81O-VOAN-QU%E1%BA%A6N-C%C3%81T-H%C3%80N-THO%C3%81NG-M%C3%81T-CHO-M%C3%99A-H%C3%88-HOT-2021-i.443480495.9456560182?ads_keyword=a%CC%81o&adsid=14143076&campaignid=7782287&position=3\",\n",
    "    \"https://shopee.vn/B%E1%BB%99-Qu%E1%BA%A7n-%C3%81o-Nam-Tay-Ng%E1%BA%AFn-C%E1%BB%95-B%E1%BA%BB-%C3%81o-Khuy-C%C3%A0i-Qu%E1%BA%A7n-Short-C%C3%B3-T%C3%BAi-Ki%E1%BB%83u-D%C3%A1ng-Tr%E1%BA%BB-Trung-Th%E1%BB%9Di-Trang-Zenkonu_QANAM1000071V1-i.16580482.9540615863?position=8\"\n",
    "]"
   ]
  },
  {
   "cell_type": "code",
   "execution_count": 6,
   "metadata": {},
   "outputs": [],
   "source": [
    "product_reviews = [] # chứa các Review object\n",
    "\n",
    "for idx, product_url in enumerate(product_urls): # đi qua từng URL của sản phẩm\n",
    "    new_reviews = Crawler.getProductReviews(product_url) # lấy tất cả review của sản phẩm này\n",
    "    Crawler.writeToCsv(f\"./tmp/product_reviews_00/product_{idx}.csv\", new_reviews) # ghi mọi review của sản phẩm này ra file\n",
    "    \n",
    "    product_reviews += new_reviews # thêm vào để in kết quả (bước này kiểm tra cho cell dưới, thực tế ko sài)"
   ]
  },
  {
   "cell_type": "code",
   "execution_count": 7,
   "metadata": {},
   "outputs": [
    {
     "name": "stdout",
     "output_type": "stream",
     "text": [
      "5 - Áo siêu mát luônnn í,chất đẹp lắm mua cho bà mà ưnggg hết sứcccc!!!!!!!Nên mua nhé mọi người rất hợp với ng già hoặc mua cho mẹ cũng hợp luôn😍\n",
      "5 - Đồ đẹp sang vải mát mịn nhé mẹ mình khen đẹp nhìn trẻ hẳn ra giao hàng cũng nhanh\n",
      "5 - Shop giao hàng rất nhanh và tư vấn rất nhiệt tình. Nhận đc hàng mình thấy khá ưng ý.\n",
      "Clip chỉ mang tính nhận xu ạ\n",
      "5 - Chất mát, nhẹ, mềm mịn mặc lên cảm giác siêu nhẹ mà mát lắm lắm luôn 👍🏻👍🏻👍🏻\n",
      "5 - Áo đẹp,chất lượng\n",
      "Giao hàng nhanh\n",
      "Đóng hàng kĩ\n",
      "(Đừng để ý đến ảnh và video chỉ mang tính chất nhận xu😓)\n",
      "5 - Mình mua tặng mẹ sinh nhật nên ib shop trả lời rất nhiệt tình, shop còn tặng mẹ mình thiệp sinh nhật cơ, đồ khá được, mẹ mình thích dáng của quần lắm <3\n",
      "5 - Hàng đẹp, nên mua nha mọi người :3 Giao hàng cũng nhanh lắm nhé\n",
      "5 - đang cần gấp nên bảo shop chuẩn bị hàng nhanh không ngờ là hôm qua đặt hôm nay đã nhận được hàng mua được giá sale nên khá rẻ bộ này mặc lịch sự shop cũng chu đáo đóng hàng cẩn thận vải mặc mát được may rất cẩn thận sẽ ủng hộ lần sau nhé!!!\n",
      "5 - Rất đẹp đóng gói chắc chắn\n",
      "5 - Bộ đẹp sang dã man \n",
      "Ưng lắm mà giá rẻ chất liệu đẹp \n"
     ]
    }
   ],
   "source": [
    "for review in product_reviews[:10]:\n",
    "    print(f\"{review.irating} - {review.icomment}\")"
   ]
  },
  {
   "cell_type": "code",
   "execution_count": 8,
   "metadata": {},
   "outputs": [
    {
     "name": "stdout",
     "output_type": "stream",
     "text": [
      "Vậy ta có tổng cộng 502 comment được crawl về từ 2 sản phẩm trên.\n"
     ]
    }
   ],
   "source": [
    "print(\"Vậy ta có tổng cộng {} comment được crawl về từ {} sản phẩm trên.\".format(len(product_reviews), len(product_urls)))"
   ]
  },
  {
   "cell_type": "markdown",
   "metadata": {},
   "source": [
    "### 1.2.1.2. Crawl comment từ hai sản phẩm với URL mà ta đã bắt được từ bước trên bằng API\n",
    "* Điều hạn chế khi crawl bằng API là ta cần biết hai thông tin là ID của shop bán hàng và ID sản phẩm, câu hỏi đặt ra là làm sao để ta có dc 2 thông tin này. Khi ta tiến hành crawl URL của các sản phẩm bằng Selenium, hãy nhìn vào một URL cụ thể như hình dưới đây (chú ý vùng khoanh đỏ), mọi product's URL đều có cái này:<br>\n",
    "  ![](./images/07.png)\n",
    "* Ta có một URL's attribute là `i.34880242.2341969918`, đây chính là identifier cho sản phẩm này, với số:\n",
    "  * `34880242`: chính là ID của shop bán hàng\n",
    "  * `2341969918`: chính là ID của sản phẩm\n",
    "* Vậy ta đã có đủ thông tin để crawl data bằng API, hãy xem hàm `Crawler.getProductReviewsAPI()` bên dưới để hiểu cách nó hoạt động.\n",
    "* Vậy tóm lại quá trình crawl data bằng API\n",
    "  * Ta cần product URL mà ta crawl được bằng Selenium, đây là bắt buộc để có dc shop id và product ID\n",
    "  * Khi ta có shop ID và Product ID, chỉ cần bỏ 2 attribute này vào request của API va nhận review về"
   ]
  },
  {
   "cell_type": "code",
   "execution_count": 9,
   "metadata": {},
   "outputs": [],
   "source": [
    "product_reviews = []\n",
    "\n",
    "for idx, product_url in enumerate(product_urls): # duyệt qua các product's url\n",
    "    new_reviews = Crawler.getProductReviewsAPI(product_url) # lấy tất cả reviews của product này thông qua API\n",
    "    Crawler.writeToCsv(f\"./tmp/product_reviews_00/product_{idx}.csv\", new_reviews) # ghi mọi review của sản phẩm này ra file\n",
    "    \n",
    "    product_reviews += new_reviews # thêm vào để kiểm tra (thực tế ko sài cái này, ignore nó)"
   ]
  },
  {
   "cell_type": "markdown",
   "metadata": {},
   "source": [
    "> **Nhận xét**\n",
    "> * Việc ta crawl bằng API tiết kiệm thời gian crawl đáng kể hơn là bằng Selenium."
   ]
  },
  {
   "cell_type": "code",
   "execution_count": 10,
   "metadata": {},
   "outputs": [
    {
     "name": "stdout",
     "output_type": "stream",
     "text": [
      "5 - Áo siêu mát luônnn í,chất đẹp lắm mua cho bà mà ưnggg hết sứcccc!!!!!!!Nên mua nhé mọi người rất hợp với ng già hoặc mua cho mẹ cũng hợp luôn😍\n",
      "5 - Đồ đẹp sang vải mát mịn nhé mẹ mình khen đẹp nhìn trẻ hẳn ra giao hàng cũng nhanh\n",
      "5 - Shop giao hàng rất nhanh và tư vấn rất nhiệt tình. Nhận đc hàng mình thấy khá ưng ý.\n",
      "Clip chỉ mang tính nhận xu ạ\n",
      "5 - Chất mát, nhẹ, mềm mịn mặc lên cảm giác siêu nhẹ mà mát lắm lắm luôn 👍🏻👍🏻👍🏻\n",
      "5 - Áo đẹp,chất lượng\n",
      "Giao hàng nhanh\n",
      "Đóng hàng kĩ\n",
      "(Đừng để ý đến ảnh và video chỉ mang tính chất nhận xu😓)\n",
      "5 - Mình mua tặng mẹ sinh nhật nên ib shop trả lời rất nhiệt tình, shop còn tặng mẹ mình thiệp sinh nhật cơ, đồ khá được, mẹ mình thích dáng của quần lắm <3\n",
      "5 - Hàng đẹp y hình, rất đáng mua nhé!\n",
      "5 - Chất vải đẹp, mua làm quà tặng rất hợp lý, mẹ mình khen tấm tắc. còn dặn mình đặt hộ tặng mấy cô bạn nữa. Yêu lắm.\n",
      "5 - Shop tư vấn nhiệt tình hỗ trợ mình đổi sz 🥰 siêu ưng luôn ý chắc chắn sẽ quay lại ủng hộ shop\n",
      "5 - Chất lượng sp tuyệt vời nha \n"
     ]
    }
   ],
   "source": [
    "for review in product_reviews[:10]:\n",
    "    print(f\"{review.irating} - {review.icomment}\")"
   ]
  },
  {
   "cell_type": "code",
   "execution_count": 11,
   "metadata": {},
   "outputs": [
    {
     "name": "stdout",
     "output_type": "stream",
     "text": [
      "Vậy ta có tổng cộng 334 comment được crawl về từ 2 sản phẩm trên.\n"
     ]
    }
   ],
   "source": [
    "print(\"Vậy ta có tổng cộng {} comment được crawl về từ {} sản phẩm trên.\".format(len(product_reviews), len(product_urls)))"
   ]
  }
 ],
 "metadata": {
  "interpreter": {
   "hash": "31f2aee4e71d21fbe5cf8b01ff0e069b9275f58929596ceb00d14d90e3e16cd6"
  },
  "kernelspec": {
   "display_name": "Python 3",
   "language": "python",
   "name": "python3"
  },
  "language_info": {
   "codemirror_mode": {
    "name": "ipython",
    "version": 3
   },
   "file_extension": ".py",
   "mimetype": "text/x-python",
   "name": "python",
   "nbconvert_exporter": "python",
   "pygments_lexer": "ipython3",
   "version": "3.6.8"
  }
 },
 "nbformat": 4,
 "nbformat_minor": 4
}
