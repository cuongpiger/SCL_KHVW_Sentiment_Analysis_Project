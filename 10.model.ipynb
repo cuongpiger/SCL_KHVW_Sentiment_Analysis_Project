{
 "cells": [
  {
   "cell_type": "code",
   "execution_count": 1,
   "source": [
    "%load_ext autoreload\n",
    "%autoreload 2"
   ],
   "outputs": [],
   "metadata": {}
  },
  {
   "cell_type": "code",
   "execution_count": 2,
   "source": [
    "import modules.shopee_model as ShopeeModel\n",
    "import modules.model as Model\n",
    "import modules.deep_model as DeepModel\n",
    "import pandas as pd\n",
    "import numpy as np\n",
    "from sklearn.metrics import accuracy_score"
   ],
   "outputs": [],
   "metadata": {}
  },
  {
   "cell_type": "markdown",
   "source": [
    "## Công việc 3:\n",
    "* Ở phần này chúng ta sẽ kết hợp **Emoji sentiment model** và **Comment sentiment model** lại thành một model duy nhất.\n",
    "* Tiếp theo ta sẽ cho chúng dự đoán lại trên test data để xem khi kết hợp lại với nhau thì tổ hợp nào cho kết quả tốt nhất.\n",
    "* Sau đó ta sẽ cho các tổ hợp model này dự đoán trên khoảng 10 comment mà ta sẽ lên trang chủ Shopee lấy về."
   ],
   "metadata": {}
  },
  {
   "cell_type": "markdown",
   "source": [
    "Đọc dữ liệu test lên."
   ],
   "metadata": {}
  },
  {
   "cell_type": "code",
   "execution_count": 3,
   "source": [
    "X_test, y_test = Model.loadData(\"./data/emoji_data/test\")\n",
    "X_test = X_test.fillna(\"\")\n",
    "\n",
    "display(X_test, y_test)"
   ],
   "outputs": [
    {
     "output_type": "display_data",
     "data": {
      "text/html": [
       "<div>\n",
       "<style scoped>\n",
       "    .dataframe tbody tr th:only-of-type {\n",
       "        vertical-align: middle;\n",
       "    }\n",
       "\n",
       "    .dataframe tbody tr th {\n",
       "        vertical-align: top;\n",
       "    }\n",
       "\n",
       "    .dataframe thead th {\n",
       "        text-align: right;\n",
       "    }\n",
       "</style>\n",
       "<table border=\"1\" class=\"dataframe\">\n",
       "  <thead>\n",
       "    <tr style=\"text-align: right;\">\n",
       "      <th></th>\n",
       "      <th>raw_comment</th>\n",
       "      <th>normalize_comment</th>\n",
       "      <th>emoji_decode</th>\n",
       "    </tr>\n",
       "  </thead>\n",
       "  <tbody>\n",
       "    <tr>\n",
       "      <th>0</th>\n",
       "      <td>Vãi ok . Mặc thoải mái. 60-65kg  mac xxl ...</td>\n",
       "      <td>vãi ok mặc thoải mái kg mac xl la lan sau...</td>\n",
       "      <td>wink</td>\n",
       "    </tr>\n",
       "    <tr>\n",
       "      <th>1</th>\n",
       "      <td>Shop giao hàng nhanh chóng, đóng gói cẩn...</td>\n",
       "      <td>giao hàng nhanh chóng đóng gói cẩn thậ...</td>\n",
       "      <td>heart</td>\n",
       "    </tr>\n",
       "    <tr>\n",
       "      <th>2</th>\n",
       "      <td>Mình mua cái áo len. Đã xác nhận nhận...</td>\n",
       "      <td>mua cái áo len xác nhận nhận hàng trê...</td>\n",
       "      <td>rofl rofl</td>\n",
       "    </tr>\n",
       "    <tr>\n",
       "      <th>3</th>\n",
       "      <td>áo đẹp, đúng size, form ok, kh biết có b...</td>\n",
       "      <td>áo đẹp đúng size form ok không biết có ...</td>\n",
       "      <td>rofl rofl rofl rofl rofl rofl rofl rofl rofl r...</td>\n",
       "    </tr>\n",
       "    <tr>\n",
       "      <th>4</th>\n",
       "      <td>Cặp xịn xò lém lun😍😍</td>\n",
       "      <td>cặp xịn xò lém luôn</td>\n",
       "      <td>heart_eyes heart_eyes</td>\n",
       "    </tr>\n",
       "    <tr>\n",
       "      <th>...</th>\n",
       "      <td>...</td>\n",
       "      <td>...</td>\n",
       "      <td>...</td>\n",
       "    </tr>\n",
       "    <tr>\n",
       "      <th>252</th>\n",
       "      <td>áo tạm được...\\nquần thì như 💩...</td>\n",
       "      <td>áo tạm được quần như</td>\n",
       "      <td>shit</td>\n",
       "    </tr>\n",
       "    <tr>\n",
       "      <th>253</th>\n",
       "      <td>Chả nhận được qq gì cả 😂. Sửa lại 3...</td>\n",
       "      <td>chả nhận được q gì cả sửa cho tự n...</td>\n",
       "      <td>joy</td>\n",
       "    </tr>\n",
       "    <tr>\n",
       "      <th>254</th>\n",
       "      <td>Áo nhàu nát .....mặt ko đc.....😞😞😞😞😞</td>\n",
       "      <td>áo nhàu nát mặt không được</td>\n",
       "      <td>disappointed disappointed disappointed disappo...</td>\n",
       "    </tr>\n",
       "    <tr>\n",
       "      <th>255</th>\n",
       "      <td>Rách 1 lỗ mà vẫn giao cho được 😢</td>\n",
       "      <td>rách lỗ mà vẫn giao cho được</td>\n",
       "      <td>cry</td>\n",
       "    </tr>\n",
       "    <tr>\n",
       "      <th>256</th>\n",
       "      <td>Áo đẹp, shop gói hàng cẩn thận, giao h...</td>\n",
       "      <td>áo đẹp gói hàng cẩn thận giao hàng nhanh</td>\n",
       "      <td>kissing_heart kissing_heart kissing_heart kiss...</td>\n",
       "    </tr>\n",
       "  </tbody>\n",
       "</table>\n",
       "<p>257 rows × 3 columns</p>\n",
       "</div>"
      ],
      "text/plain": [
       "                                           raw_comment  \\\n",
       "0    Vãi ok . Mặc thoải mái. 60-65kg  mac xxl ...   \n",
       "1    Shop giao hàng nhanh chóng, đóng gói cẩn...   \n",
       "2    Mình mua cái áo len. Đã xác nhận nhận...   \n",
       "3    áo đẹp, đúng size, form ok, kh biết có b...   \n",
       "4                            Cặp xịn xò lém lun😍😍   \n",
       "..                                                 ...   \n",
       "252         áo tạm được...\\nquần thì như 💩...   \n",
       "253  Chả nhận được qq gì cả 😂. Sửa lại 3...   \n",
       "254          Áo nhàu nát .....mặt ko đc.....😞😞😞😞😞   \n",
       "255          Rách 1 lỗ mà vẫn giao cho được 😢   \n",
       "256  Áo đẹp, shop gói hàng cẩn thận, giao h...   \n",
       "\n",
       "                                     normalize_comment  \\\n",
       "0    vãi ok mặc thoải mái kg mac xl la lan sau...   \n",
       "1    giao hàng nhanh chóng đóng gói cẩn thậ...   \n",
       "2    mua cái áo len xác nhận nhận hàng trê...   \n",
       "3    áo đẹp đúng size form ok không biết có ...   \n",
       "4                            cặp xịn xò lém luôn   \n",
       "..                                                 ...   \n",
       "252                       áo tạm được quần như   \n",
       "253  chả nhận được q gì cả sửa cho tự n...   \n",
       "254                áo nhàu nát mặt không được   \n",
       "255              rách lỗ mà vẫn giao cho được   \n",
       "256  áo đẹp gói hàng cẩn thận giao hàng nhanh   \n",
       "\n",
       "                                          emoji_decode  \n",
       "0                                                 wink  \n",
       "1                                                heart  \n",
       "2                                            rofl rofl  \n",
       "3    rofl rofl rofl rofl rofl rofl rofl rofl rofl r...  \n",
       "4                                heart_eyes heart_eyes  \n",
       "..                                                 ...  \n",
       "252                                               shit  \n",
       "253                                                joy  \n",
       "254  disappointed disappointed disappointed disappo...  \n",
       "255                                                cry  \n",
       "256  kissing_heart kissing_heart kissing_heart kiss...  \n",
       "\n",
       "[257 rows x 3 columns]"
      ]
     },
     "metadata": {}
    },
    {
     "output_type": "display_data",
     "data": {
      "text/html": [
       "<div>\n",
       "<style scoped>\n",
       "    .dataframe tbody tr th:only-of-type {\n",
       "        vertical-align: middle;\n",
       "    }\n",
       "\n",
       "    .dataframe tbody tr th {\n",
       "        vertical-align: top;\n",
       "    }\n",
       "\n",
       "    .dataframe thead th {\n",
       "        text-align: right;\n",
       "    }\n",
       "</style>\n",
       "<table border=\"1\" class=\"dataframe\">\n",
       "  <thead>\n",
       "    <tr style=\"text-align: right;\">\n",
       "      <th></th>\n",
       "      <th>label</th>\n",
       "    </tr>\n",
       "  </thead>\n",
       "  <tbody>\n",
       "    <tr>\n",
       "      <th>0</th>\n",
       "      <td>1</td>\n",
       "    </tr>\n",
       "    <tr>\n",
       "      <th>1</th>\n",
       "      <td>1</td>\n",
       "    </tr>\n",
       "    <tr>\n",
       "      <th>2</th>\n",
       "      <td>0</td>\n",
       "    </tr>\n",
       "    <tr>\n",
       "      <th>3</th>\n",
       "      <td>0</td>\n",
       "    </tr>\n",
       "    <tr>\n",
       "      <th>4</th>\n",
       "      <td>1</td>\n",
       "    </tr>\n",
       "    <tr>\n",
       "      <th>...</th>\n",
       "      <td>...</td>\n",
       "    </tr>\n",
       "    <tr>\n",
       "      <th>252</th>\n",
       "      <td>0</td>\n",
       "    </tr>\n",
       "    <tr>\n",
       "      <th>253</th>\n",
       "      <td>0</td>\n",
       "    </tr>\n",
       "    <tr>\n",
       "      <th>254</th>\n",
       "      <td>0</td>\n",
       "    </tr>\n",
       "    <tr>\n",
       "      <th>255</th>\n",
       "      <td>0</td>\n",
       "    </tr>\n",
       "    <tr>\n",
       "      <th>256</th>\n",
       "      <td>1</td>\n",
       "    </tr>\n",
       "  </tbody>\n",
       "</table>\n",
       "<p>257 rows × 1 columns</p>\n",
       "</div>"
      ],
      "text/plain": [
       "     label\n",
       "0        1\n",
       "1        1\n",
       "2        0\n",
       "3        0\n",
       "4        1\n",
       "..     ...\n",
       "252      0\n",
       "253      0\n",
       "254      0\n",
       "255      0\n",
       "256      1\n",
       "\n",
       "[257 rows x 1 columns]"
      ]
     },
     "metadata": {}
    }
   ],
   "metadata": {}
  },
  {
   "cell_type": "markdown",
   "source": [
    "Bây giờ ta sẽ load tất cả các **Emoji sentiment model** và **Comment sentiment model** lên."
   ],
   "metadata": {}
  },
  {
   "cell_type": "code",
   "execution_count": 4,
   "source": [
    "emoji_models = {}\n",
    "emoji_models['logistic'] = Model.loadByPickle(\"./models/logistic_model_emojis.pickle\")\n",
    "emoji_models['svc'] = Model.loadByPickle(\"./models/svc_model_emojis.pickle\")\n",
    "emoji_models['rdforest'] = Model.loadByPickle(\"./models/rdforest_model_emojis.pickle\")"
   ],
   "outputs": [],
   "metadata": {}
  },
  {
   "cell_type": "code",
   "execution_count": 5,
   "source": [
    "comment_models = {}\n",
    "comment_models['bernoulli'] = Model.loadByPickle(\"./models/bernoulli_model_comments.pickle\")\n",
    "comment_models['logistic'] = Model.loadByPickle(\"./models/logistic_model_comments.pickle\")\n",
    "comment_models['svc'] = Model.loadByPickle(\"./models/svc_model_comments.pickle\")\n",
    "comment_models['lstm_1'] = DeepModel.SentimentLSTM(\"./models/lstm_model_comments_1/lstm_model_comments_1.h5\", \n",
    "                                                   \"./models/lstm_model_comments_1/lstm_tokenizer_comments_1.pickle\")\n",
    "comment_models['lstm_uw_2'] = DeepModel.SentimentLSTM(\"./models/lstm_model_comments_2/lstm_model_comments_uw_2.h5\", \n",
    "                                                      \"./models/lstm_model_comments_2/lstm_tokenizer_comments_uw_2.pickle\")"
   ],
   "outputs": [],
   "metadata": {}
  },
  {
   "cell_type": "markdown",
   "source": [
    "Tiến hành ghép cặp từng **Emoji sentiment model** và **Comment sentiment model**. Ta có ba emoji sentiment model và 5 comment sentiment model, vậy tổng cộng ta có 15 model tổ hợp như vậy."
   ],
   "metadata": {}
  },
  {
   "cell_type": "code",
   "execution_count": 6,
   "source": [
    "shopee_sentiments = {}\n",
    "\n",
    "for em in emoji_models.keys():\n",
    "    for cm in comment_models.keys():\n",
    "        shopee_sentiments[em + \"_\" + cm] = ShopeeModel.ShopeeSentiment(emoji_models[em], comment_models[cm])"
   ],
   "outputs": [],
   "metadata": {}
  },
  {
   "cell_type": "markdown",
   "source": [
    "Tiến hành kiểm tra một vài tổ hợp model trên test data để xem khi kết hợp hệ thống của chúng ta có chạy không. "
   ],
   "metadata": {}
  },
  {
   "cell_type": "code",
   "execution_count": 7,
   "source": [
    "display(shopee_sentiments['logistic_lstm_1'].predict(X_test['raw_comment']),\n",
    "        shopee_sentiments['logistic_bernoulli'].predict(X_test['raw_comment']))"
   ],
   "outputs": [
    {
     "output_type": "stream",
     "name": "stdout",
     "text": [
      "WARNING:tensorflow:Model was constructed with shape (None, 100) for input KerasTensor(type_spec=TensorSpec(shape=(None, 100), dtype=tf.float32, name='input'), name='input', description=\"created by layer 'input'\"), but it was called on an input with incompatible shape (None, 63).\n"
     ]
    },
    {
     "output_type": "display_data",
     "data": {
      "text/html": [
       "<div>\n",
       "<style scoped>\n",
       "    .dataframe tbody tr th:only-of-type {\n",
       "        vertical-align: middle;\n",
       "    }\n",
       "\n",
       "    .dataframe tbody tr th {\n",
       "        vertical-align: top;\n",
       "    }\n",
       "\n",
       "    .dataframe thead th {\n",
       "        text-align: right;\n",
       "    }\n",
       "</style>\n",
       "<table border=\"1\" class=\"dataframe\">\n",
       "  <thead>\n",
       "    <tr style=\"text-align: right;\">\n",
       "      <th></th>\n",
       "      <th>raw_review</th>\n",
       "      <th>probability</th>\n",
       "      <th>class</th>\n",
       "    </tr>\n",
       "  </thead>\n",
       "  <tbody>\n",
       "    <tr>\n",
       "      <th>0</th>\n",
       "      <td>Vãi ok . Mặc thoải mái. 60-65kg  mac xxl ...</td>\n",
       "      <td>(0.18665013249503054, 0.8133498806599009)</td>\n",
       "      <td>1</td>\n",
       "    </tr>\n",
       "    <tr>\n",
       "      <th>1</th>\n",
       "      <td>Shop giao hàng nhanh chóng, đóng gói cẩn...</td>\n",
       "      <td>(0.01988817364252765, 0.9801117991867729)</td>\n",
       "      <td>1</td>\n",
       "    </tr>\n",
       "    <tr>\n",
       "      <th>2</th>\n",
       "      <td>Mình mua cái áo len. Đã xác nhận nhận...</td>\n",
       "      <td>(0.6534688392760857, 0.3465311377828199)</td>\n",
       "      <td>0</td>\n",
       "    </tr>\n",
       "    <tr>\n",
       "      <th>3</th>\n",
       "      <td>áo đẹp, đúng size, form ok, kh biết có b...</td>\n",
       "      <td>(0.08410762570137753, 0.91589239762557)</td>\n",
       "      <td>1</td>\n",
       "    </tr>\n",
       "    <tr>\n",
       "      <th>4</th>\n",
       "      <td>Cặp xịn xò lém lun😍😍</td>\n",
       "      <td>(0.034524129719382346, 0.9654758712293343)</td>\n",
       "      <td>1</td>\n",
       "    </tr>\n",
       "    <tr>\n",
       "      <th>...</th>\n",
       "      <td>...</td>\n",
       "      <td>...</td>\n",
       "      <td>...</td>\n",
       "    </tr>\n",
       "    <tr>\n",
       "      <th>252</th>\n",
       "      <td>áo tạm được...\\nquần thì như 💩...</td>\n",
       "      <td>(0.7727433524250488, 0.2272566634947465)</td>\n",
       "      <td>0</td>\n",
       "    </tr>\n",
       "    <tr>\n",
       "      <th>253</th>\n",
       "      <td>Chả nhận được qq gì cả 😂. Sửa lại 3...</td>\n",
       "      <td>(0.6193349746614896, 0.3806650485861045)</td>\n",
       "      <td>0</td>\n",
       "    </tr>\n",
       "    <tr>\n",
       "      <th>254</th>\n",
       "      <td>Áo nhàu nát .....mặt ko đc.....😞😞😞😞😞</td>\n",
       "      <td>(0.880395587301454, 0.11960438575385607)</td>\n",
       "      <td>0</td>\n",
       "    </tr>\n",
       "    <tr>\n",
       "      <th>255</th>\n",
       "      <td>Rách 1 lỗ mà vẫn giao cho được 😢</td>\n",
       "      <td>(0.8353460421896457, 0.16465393272285242)</td>\n",
       "      <td>0</td>\n",
       "    </tr>\n",
       "    <tr>\n",
       "      <th>256</th>\n",
       "      <td>Áo đẹp, shop gói hàng cẩn thận, giao h...</td>\n",
       "      <td>(0.04836132829503487, 0.9516386656222646)</td>\n",
       "      <td>1</td>\n",
       "    </tr>\n",
       "  </tbody>\n",
       "</table>\n",
       "<p>257 rows × 3 columns</p>\n",
       "</div>"
      ],
      "text/plain": [
       "                                            raw_review  \\\n",
       "0    Vãi ok . Mặc thoải mái. 60-65kg  mac xxl ...   \n",
       "1    Shop giao hàng nhanh chóng, đóng gói cẩn...   \n",
       "2    Mình mua cái áo len. Đã xác nhận nhận...   \n",
       "3    áo đẹp, đúng size, form ok, kh biết có b...   \n",
       "4                            Cặp xịn xò lém lun😍😍   \n",
       "..                                                 ...   \n",
       "252         áo tạm được...\\nquần thì như 💩...   \n",
       "253  Chả nhận được qq gì cả 😂. Sửa lại 3...   \n",
       "254          Áo nhàu nát .....mặt ko đc.....😞😞😞😞😞   \n",
       "255          Rách 1 lỗ mà vẫn giao cho được 😢   \n",
       "256  Áo đẹp, shop gói hàng cẩn thận, giao h...   \n",
       "\n",
       "                                    probability  class  \n",
       "0     (0.18665013249503054, 0.8133498806599009)      1  \n",
       "1     (0.01988817364252765, 0.9801117991867729)      1  \n",
       "2      (0.6534688392760857, 0.3465311377828199)      0  \n",
       "3       (0.08410762570137753, 0.91589239762557)      1  \n",
       "4    (0.034524129719382346, 0.9654758712293343)      1  \n",
       "..                                          ...    ...  \n",
       "252    (0.7727433524250488, 0.2272566634947465)      0  \n",
       "253    (0.6193349746614896, 0.3806650485861045)      0  \n",
       "254    (0.880395587301454, 0.11960438575385607)      0  \n",
       "255   (0.8353460421896457, 0.16465393272285242)      0  \n",
       "256   (0.04836132829503487, 0.9516386656222646)      1  \n",
       "\n",
       "[257 rows x 3 columns]"
      ]
     },
     "metadata": {}
    },
    {
     "output_type": "display_data",
     "data": {
      "text/html": [
       "<div>\n",
       "<style scoped>\n",
       "    .dataframe tbody tr th:only-of-type {\n",
       "        vertical-align: middle;\n",
       "    }\n",
       "\n",
       "    .dataframe tbody tr th {\n",
       "        vertical-align: top;\n",
       "    }\n",
       "\n",
       "    .dataframe thead th {\n",
       "        text-align: right;\n",
       "    }\n",
       "</style>\n",
       "<table border=\"1\" class=\"dataframe\">\n",
       "  <thead>\n",
       "    <tr style=\"text-align: right;\">\n",
       "      <th></th>\n",
       "      <th>raw_review</th>\n",
       "      <th>probability</th>\n",
       "      <th>class</th>\n",
       "    </tr>\n",
       "  </thead>\n",
       "  <tbody>\n",
       "    <tr>\n",
       "      <th>0</th>\n",
       "      <td>Vãi ok . Mặc thoải mái. 60-65kg  mac xxl ...</td>\n",
       "      <td>(0.6098593768522194, 0.3901406231477812)</td>\n",
       "      <td>0</td>\n",
       "    </tr>\n",
       "    <tr>\n",
       "      <th>1</th>\n",
       "      <td>Shop giao hàng nhanh chóng, đóng gói cẩn...</td>\n",
       "      <td>(0.03846174015554377, 0.9615382598444561)</td>\n",
       "      <td>1</td>\n",
       "    </tr>\n",
       "    <tr>\n",
       "      <th>2</th>\n",
       "      <td>Mình mua cái áo len. Đã xác nhận nhận...</td>\n",
       "      <td>(0.6535451811966995, 0.34645481880329865)</td>\n",
       "      <td>0</td>\n",
       "    </tr>\n",
       "    <tr>\n",
       "      <th>3</th>\n",
       "      <td>áo đẹp, đúng size, form ok, kh biết có b...</td>\n",
       "      <td>(0.19312646386724397, 0.8068735361327547)</td>\n",
       "      <td>1</td>\n",
       "    </tr>\n",
       "    <tr>\n",
       "      <th>4</th>\n",
       "      <td>Cặp xịn xò lém lun😍😍</td>\n",
       "      <td>(0.05537855658322438, 0.944621443416776)</td>\n",
       "      <td>1</td>\n",
       "    </tr>\n",
       "    <tr>\n",
       "      <th>...</th>\n",
       "      <td>...</td>\n",
       "      <td>...</td>\n",
       "      <td>...</td>\n",
       "    </tr>\n",
       "    <tr>\n",
       "      <th>252</th>\n",
       "      <td>áo tạm được...\\nquần thì như 💩...</td>\n",
       "      <td>(0.7382678412307244, 0.26173215876927525)</td>\n",
       "      <td>0</td>\n",
       "    </tr>\n",
       "    <tr>\n",
       "      <th>253</th>\n",
       "      <td>Chả nhận được qq gì cả 😂. Sửa lại 3...</td>\n",
       "      <td>(0.6178695693822782, 0.3821304306177228)</td>\n",
       "      <td>0</td>\n",
       "    </tr>\n",
       "    <tr>\n",
       "      <th>254</th>\n",
       "      <td>Áo nhàu nát .....mặt ko đc.....😞😞😞😞😞</td>\n",
       "      <td>(0.8391757036978025, 0.1608242963021982)</td>\n",
       "      <td>0</td>\n",
       "    </tr>\n",
       "    <tr>\n",
       "      <th>255</th>\n",
       "      <td>Rách 1 lỗ mà vẫn giao cho được 😢</td>\n",
       "      <td>(0.8332168638415237, 0.16678313615847448)</td>\n",
       "      <td>0</td>\n",
       "    </tr>\n",
       "    <tr>\n",
       "      <th>256</th>\n",
       "      <td>Áo đẹp, shop gói hàng cẩn thận, giao h...</td>\n",
       "      <td>(0.06536477199913324, 0.9346352280008661)</td>\n",
       "      <td>1</td>\n",
       "    </tr>\n",
       "  </tbody>\n",
       "</table>\n",
       "<p>257 rows × 3 columns</p>\n",
       "</div>"
      ],
      "text/plain": [
       "                                            raw_review  \\\n",
       "0    Vãi ok . Mặc thoải mái. 60-65kg  mac xxl ...   \n",
       "1    Shop giao hàng nhanh chóng, đóng gói cẩn...   \n",
       "2    Mình mua cái áo len. Đã xác nhận nhận...   \n",
       "3    áo đẹp, đúng size, form ok, kh biết có b...   \n",
       "4                            Cặp xịn xò lém lun😍😍   \n",
       "..                                                 ...   \n",
       "252         áo tạm được...\\nquần thì như 💩...   \n",
       "253  Chả nhận được qq gì cả 😂. Sửa lại 3...   \n",
       "254          Áo nhàu nát .....mặt ko đc.....😞😞😞😞😞   \n",
       "255          Rách 1 lỗ mà vẫn giao cho được 😢   \n",
       "256  Áo đẹp, shop gói hàng cẩn thận, giao h...   \n",
       "\n",
       "                                   probability  class  \n",
       "0     (0.6098593768522194, 0.3901406231477812)      0  \n",
       "1    (0.03846174015554377, 0.9615382598444561)      1  \n",
       "2    (0.6535451811966995, 0.34645481880329865)      0  \n",
       "3    (0.19312646386724397, 0.8068735361327547)      1  \n",
       "4     (0.05537855658322438, 0.944621443416776)      1  \n",
       "..                                         ...    ...  \n",
       "252  (0.7382678412307244, 0.26173215876927525)      0  \n",
       "253   (0.6178695693822782, 0.3821304306177228)      0  \n",
       "254   (0.8391757036978025, 0.1608242963021982)      0  \n",
       "255  (0.8332168638415237, 0.16678313615847448)      0  \n",
       "256  (0.06536477199913324, 0.9346352280008661)      1  \n",
       "\n",
       "[257 rows x 3 columns]"
      ]
     },
     "metadata": {}
    }
   ],
   "metadata": {}
  },
  {
   "cell_type": "markdown",
   "source": [
    "Ở đây câu hỏi đặt ra là làm sao chúng ta có thể kết hợp kết quả từ hai model.\n",
    "\n",
    "Giả sử nếu các model của chúng ta dự đoán ra kết quả là 0 và 1, thì với hai model ta sẽ gặp khó khăn trong trường hợp:\n",
    "  * Emoji sentiment model dự đoán 0 và Comment sentiment model dự đoán 1.\n",
    "  * Emoji sentiment model dự đoán 1 và Comment sentiment model dự đoán 0.\n",
    "  Khi rơi vào những trường hợp này, ta khó lòng chọn đâu là kết quả phù hợp. Nên ở đây thường người ta sẽ đào tạo 3 model và cho chúng votting. Với RandomForest nó cũng làm điều này nhưng sklearn sử dụng kĩ thuật là BaggingVotting.\n",
    "\n",
    "Một cách mà nhóm dùng để xử lí vấn đề này là nhóm sẽ cho toàn bộ các model trả về giá trị xác suất, đó là lí do mà các model Deep Learning sử dụng activation là **softmax** thay vì **sigmoid**. Ở sklearn thì ngoại trừ các model SVC ta phải bật cờ `probability=True` thì toàn bộ các classifier khác đều hỗ trợ dự đoán xác suất, lúc này ta đơn giản lấy trung bình cộng giữa các class tương ứng giữa **Emoji sentiment model** và **Comment sentiment model** so sánh xem xác suất nào lớn hơn thì review này thuộc vào nhóm đó.\n",
    "\n",
    "Trong trường hợp review chỉ có mỗi emoji hoặc comment, ta xử lí còn dễ dàng hơn là chỉ sử dụng model tương ứng để dự đoán.\n",
    "\n",
    "Bây giờ ta sẽ cho 15 tổ hợp model này dự đoán lại trên test data sau đó đánh giá accuracy."
   ],
   "metadata": {}
  },
  {
   "cell_type": "code",
   "execution_count": 8,
   "source": [
    "models_acc = []\n",
    "for model_name, model in shopee_sentiments.items():\n",
    "    y_pred = model.predict(X_test['raw_comment'])\n",
    "    acc = accuracy_score(y_test, y_pred['class'])\n",
    "    models_acc.append((model_name, acc))\n",
    "models_acc = np.array(models_acc)\n",
    "\n",
    "print(models_acc)"
   ],
   "outputs": [
    {
     "output_type": "stream",
     "name": "stdout",
     "text": [
      "[['logistic_bernoulli' '0.8365758754863813']\n",
      " ['logistic_logistic' '0.867704280155642']\n",
      " ['logistic_svc' '0.8754863813229572']\n",
      " ['logistic_lstm_1' '0.9299610894941635']\n",
      " ['logistic_lstm_uw_2' '0.9182879377431906']\n",
      " ['svc_bernoulli' '0.8404669260700389']\n",
      " ['svc_logistic' '0.8599221789883269']\n",
      " ['svc_svc' '0.8793774319066148']\n",
      " ['svc_lstm_1' '0.9299610894941635']\n",
      " ['svc_lstm_uw_2' '0.914396887159533']\n",
      " ['rdforest_bernoulli' '0.8560311284046692']\n",
      " ['rdforest_logistic' '0.8871595330739299']\n",
      " ['rdforest_svc' '0.8871595330739299']\n",
      " ['rdforest_lstm_1' '0.933852140077821']\n",
      " ['rdforest_lstm_uw_2' '0.9260700389105059']]\n"
     ]
    }
   ],
   "metadata": {}
  },
  {
   "cell_type": "code",
   "execution_count": 9,
   "source": [
    "ShopeeModel.accBarChart(models_acc)"
   ],
   "outputs": [
    {
     "output_type": "display_data",
     "data": {
      "application/vnd.plotly.v1+json": {
       "config": {
        "plotlyServerURL": "https://plot.ly"
       },
       "data": [
        {
         "text": [
          "83.65759",
          "86.77043",
          "87.54864",
          "92.99611",
          "91.82879",
          "84.04669",
          "85.99222",
          "87.93774",
          "92.99611",
          "91.43969",
          "85.60311",
          "88.71595",
          "88.71595",
          "93.38521",
          "92.607"
         ],
         "textposition": "auto",
         "type": "bar",
         "x": [
          "logistic_bernoulli",
          "logistic_logistic",
          "logistic_svc",
          "logistic_lstm_1",
          "logistic_lstm_uw_2",
          "svc_bernoulli",
          "svc_logistic",
          "svc_svc",
          "svc_lstm_1",
          "svc_lstm_uw_2",
          "rdforest_bernoulli",
          "rdforest_logistic",
          "rdforest_svc",
          "rdforest_lstm_1",
          "rdforest_lstm_uw_2"
         ],
         "y": [
          83.65759,
          86.77043,
          87.54864,
          92.99611,
          91.82879,
          84.04669,
          85.99222,
          87.93774,
          92.99611,
          91.43969,
          85.60311,
          88.71595,
          88.71595,
          93.38521,
          92.607
         ]
        }
       ],
       "layout": {
        "template": {
         "data": {
          "bar": [
           {
            "error_x": {
             "color": "#2a3f5f"
            },
            "error_y": {
             "color": "#2a3f5f"
            },
            "marker": {
             "line": {
              "color": "#E5ECF6",
              "width": 0.5
             },
             "pattern": {
              "fillmode": "overlay",
              "size": 10,
              "solidity": 0.2
             }
            },
            "type": "bar"
           }
          ],
          "barpolar": [
           {
            "marker": {
             "line": {
              "color": "#E5ECF6",
              "width": 0.5
             },
             "pattern": {
              "fillmode": "overlay",
              "size": 10,
              "solidity": 0.2
             }
            },
            "type": "barpolar"
           }
          ],
          "carpet": [
           {
            "aaxis": {
             "endlinecolor": "#2a3f5f",
             "gridcolor": "white",
             "linecolor": "white",
             "minorgridcolor": "white",
             "startlinecolor": "#2a3f5f"
            },
            "baxis": {
             "endlinecolor": "#2a3f5f",
             "gridcolor": "white",
             "linecolor": "white",
             "minorgridcolor": "white",
             "startlinecolor": "#2a3f5f"
            },
            "type": "carpet"
           }
          ],
          "choropleth": [
           {
            "colorbar": {
             "outlinewidth": 0,
             "ticks": ""
            },
            "type": "choropleth"
           }
          ],
          "contour": [
           {
            "colorbar": {
             "outlinewidth": 0,
             "ticks": ""
            },
            "colorscale": [
             [
              0,
              "#0d0887"
             ],
             [
              0.1111111111111111,
              "#46039f"
             ],
             [
              0.2222222222222222,
              "#7201a8"
             ],
             [
              0.3333333333333333,
              "#9c179e"
             ],
             [
              0.4444444444444444,
              "#bd3786"
             ],
             [
              0.5555555555555556,
              "#d8576b"
             ],
             [
              0.6666666666666666,
              "#ed7953"
             ],
             [
              0.7777777777777778,
              "#fb9f3a"
             ],
             [
              0.8888888888888888,
              "#fdca26"
             ],
             [
              1,
              "#f0f921"
             ]
            ],
            "type": "contour"
           }
          ],
          "contourcarpet": [
           {
            "colorbar": {
             "outlinewidth": 0,
             "ticks": ""
            },
            "type": "contourcarpet"
           }
          ],
          "heatmap": [
           {
            "colorbar": {
             "outlinewidth": 0,
             "ticks": ""
            },
            "colorscale": [
             [
              0,
              "#0d0887"
             ],
             [
              0.1111111111111111,
              "#46039f"
             ],
             [
              0.2222222222222222,
              "#7201a8"
             ],
             [
              0.3333333333333333,
              "#9c179e"
             ],
             [
              0.4444444444444444,
              "#bd3786"
             ],
             [
              0.5555555555555556,
              "#d8576b"
             ],
             [
              0.6666666666666666,
              "#ed7953"
             ],
             [
              0.7777777777777778,
              "#fb9f3a"
             ],
             [
              0.8888888888888888,
              "#fdca26"
             ],
             [
              1,
              "#f0f921"
             ]
            ],
            "type": "heatmap"
           }
          ],
          "heatmapgl": [
           {
            "colorbar": {
             "outlinewidth": 0,
             "ticks": ""
            },
            "colorscale": [
             [
              0,
              "#0d0887"
             ],
             [
              0.1111111111111111,
              "#46039f"
             ],
             [
              0.2222222222222222,
              "#7201a8"
             ],
             [
              0.3333333333333333,
              "#9c179e"
             ],
             [
              0.4444444444444444,
              "#bd3786"
             ],
             [
              0.5555555555555556,
              "#d8576b"
             ],
             [
              0.6666666666666666,
              "#ed7953"
             ],
             [
              0.7777777777777778,
              "#fb9f3a"
             ],
             [
              0.8888888888888888,
              "#fdca26"
             ],
             [
              1,
              "#f0f921"
             ]
            ],
            "type": "heatmapgl"
           }
          ],
          "histogram": [
           {
            "marker": {
             "pattern": {
              "fillmode": "overlay",
              "size": 10,
              "solidity": 0.2
             }
            },
            "type": "histogram"
           }
          ],
          "histogram2d": [
           {
            "colorbar": {
             "outlinewidth": 0,
             "ticks": ""
            },
            "colorscale": [
             [
              0,
              "#0d0887"
             ],
             [
              0.1111111111111111,
              "#46039f"
             ],
             [
              0.2222222222222222,
              "#7201a8"
             ],
             [
              0.3333333333333333,
              "#9c179e"
             ],
             [
              0.4444444444444444,
              "#bd3786"
             ],
             [
              0.5555555555555556,
              "#d8576b"
             ],
             [
              0.6666666666666666,
              "#ed7953"
             ],
             [
              0.7777777777777778,
              "#fb9f3a"
             ],
             [
              0.8888888888888888,
              "#fdca26"
             ],
             [
              1,
              "#f0f921"
             ]
            ],
            "type": "histogram2d"
           }
          ],
          "histogram2dcontour": [
           {
            "colorbar": {
             "outlinewidth": 0,
             "ticks": ""
            },
            "colorscale": [
             [
              0,
              "#0d0887"
             ],
             [
              0.1111111111111111,
              "#46039f"
             ],
             [
              0.2222222222222222,
              "#7201a8"
             ],
             [
              0.3333333333333333,
              "#9c179e"
             ],
             [
              0.4444444444444444,
              "#bd3786"
             ],
             [
              0.5555555555555556,
              "#d8576b"
             ],
             [
              0.6666666666666666,
              "#ed7953"
             ],
             [
              0.7777777777777778,
              "#fb9f3a"
             ],
             [
              0.8888888888888888,
              "#fdca26"
             ],
             [
              1,
              "#f0f921"
             ]
            ],
            "type": "histogram2dcontour"
           }
          ],
          "mesh3d": [
           {
            "colorbar": {
             "outlinewidth": 0,
             "ticks": ""
            },
            "type": "mesh3d"
           }
          ],
          "parcoords": [
           {
            "line": {
             "colorbar": {
              "outlinewidth": 0,
              "ticks": ""
             }
            },
            "type": "parcoords"
           }
          ],
          "pie": [
           {
            "automargin": true,
            "type": "pie"
           }
          ],
          "scatter": [
           {
            "marker": {
             "colorbar": {
              "outlinewidth": 0,
              "ticks": ""
             }
            },
            "type": "scatter"
           }
          ],
          "scatter3d": [
           {
            "line": {
             "colorbar": {
              "outlinewidth": 0,
              "ticks": ""
             }
            },
            "marker": {
             "colorbar": {
              "outlinewidth": 0,
              "ticks": ""
             }
            },
            "type": "scatter3d"
           }
          ],
          "scattercarpet": [
           {
            "marker": {
             "colorbar": {
              "outlinewidth": 0,
              "ticks": ""
             }
            },
            "type": "scattercarpet"
           }
          ],
          "scattergeo": [
           {
            "marker": {
             "colorbar": {
              "outlinewidth": 0,
              "ticks": ""
             }
            },
            "type": "scattergeo"
           }
          ],
          "scattergl": [
           {
            "marker": {
             "colorbar": {
              "outlinewidth": 0,
              "ticks": ""
             }
            },
            "type": "scattergl"
           }
          ],
          "scattermapbox": [
           {
            "marker": {
             "colorbar": {
              "outlinewidth": 0,
              "ticks": ""
             }
            },
            "type": "scattermapbox"
           }
          ],
          "scatterpolar": [
           {
            "marker": {
             "colorbar": {
              "outlinewidth": 0,
              "ticks": ""
             }
            },
            "type": "scatterpolar"
           }
          ],
          "scatterpolargl": [
           {
            "marker": {
             "colorbar": {
              "outlinewidth": 0,
              "ticks": ""
             }
            },
            "type": "scatterpolargl"
           }
          ],
          "scatterternary": [
           {
            "marker": {
             "colorbar": {
              "outlinewidth": 0,
              "ticks": ""
             }
            },
            "type": "scatterternary"
           }
          ],
          "surface": [
           {
            "colorbar": {
             "outlinewidth": 0,
             "ticks": ""
            },
            "colorscale": [
             [
              0,
              "#0d0887"
             ],
             [
              0.1111111111111111,
              "#46039f"
             ],
             [
              0.2222222222222222,
              "#7201a8"
             ],
             [
              0.3333333333333333,
              "#9c179e"
             ],
             [
              0.4444444444444444,
              "#bd3786"
             ],
             [
              0.5555555555555556,
              "#d8576b"
             ],
             [
              0.6666666666666666,
              "#ed7953"
             ],
             [
              0.7777777777777778,
              "#fb9f3a"
             ],
             [
              0.8888888888888888,
              "#fdca26"
             ],
             [
              1,
              "#f0f921"
             ]
            ],
            "type": "surface"
           }
          ],
          "table": [
           {
            "cells": {
             "fill": {
              "color": "#EBF0F8"
             },
             "line": {
              "color": "white"
             }
            },
            "header": {
             "fill": {
              "color": "#C8D4E3"
             },
             "line": {
              "color": "white"
             }
            },
            "type": "table"
           }
          ]
         },
         "layout": {
          "annotationdefaults": {
           "arrowcolor": "#2a3f5f",
           "arrowhead": 0,
           "arrowwidth": 1
          },
          "autotypenumbers": "strict",
          "coloraxis": {
           "colorbar": {
            "outlinewidth": 0,
            "ticks": ""
           }
          },
          "colorscale": {
           "diverging": [
            [
             0,
             "#8e0152"
            ],
            [
             0.1,
             "#c51b7d"
            ],
            [
             0.2,
             "#de77ae"
            ],
            [
             0.3,
             "#f1b6da"
            ],
            [
             0.4,
             "#fde0ef"
            ],
            [
             0.5,
             "#f7f7f7"
            ],
            [
             0.6,
             "#e6f5d0"
            ],
            [
             0.7,
             "#b8e186"
            ],
            [
             0.8,
             "#7fbc41"
            ],
            [
             0.9,
             "#4d9221"
            ],
            [
             1,
             "#276419"
            ]
           ],
           "sequential": [
            [
             0,
             "#0d0887"
            ],
            [
             0.1111111111111111,
             "#46039f"
            ],
            [
             0.2222222222222222,
             "#7201a8"
            ],
            [
             0.3333333333333333,
             "#9c179e"
            ],
            [
             0.4444444444444444,
             "#bd3786"
            ],
            [
             0.5555555555555556,
             "#d8576b"
            ],
            [
             0.6666666666666666,
             "#ed7953"
            ],
            [
             0.7777777777777778,
             "#fb9f3a"
            ],
            [
             0.8888888888888888,
             "#fdca26"
            ],
            [
             1,
             "#f0f921"
            ]
           ],
           "sequentialminus": [
            [
             0,
             "#0d0887"
            ],
            [
             0.1111111111111111,
             "#46039f"
            ],
            [
             0.2222222222222222,
             "#7201a8"
            ],
            [
             0.3333333333333333,
             "#9c179e"
            ],
            [
             0.4444444444444444,
             "#bd3786"
            ],
            [
             0.5555555555555556,
             "#d8576b"
            ],
            [
             0.6666666666666666,
             "#ed7953"
            ],
            [
             0.7777777777777778,
             "#fb9f3a"
            ],
            [
             0.8888888888888888,
             "#fdca26"
            ],
            [
             1,
             "#f0f921"
            ]
           ]
          },
          "colorway": [
           "#636efa",
           "#EF553B",
           "#00cc96",
           "#ab63fa",
           "#FFA15A",
           "#19d3f3",
           "#FF6692",
           "#B6E880",
           "#FF97FF",
           "#FECB52"
          ],
          "font": {
           "color": "#2a3f5f"
          },
          "geo": {
           "bgcolor": "white",
           "lakecolor": "white",
           "landcolor": "#E5ECF6",
           "showlakes": true,
           "showland": true,
           "subunitcolor": "white"
          },
          "hoverlabel": {
           "align": "left"
          },
          "hovermode": "closest",
          "mapbox": {
           "style": "light"
          },
          "paper_bgcolor": "white",
          "plot_bgcolor": "#E5ECF6",
          "polar": {
           "angularaxis": {
            "gridcolor": "white",
            "linecolor": "white",
            "ticks": ""
           },
           "bgcolor": "#E5ECF6",
           "radialaxis": {
            "gridcolor": "white",
            "linecolor": "white",
            "ticks": ""
           }
          },
          "scene": {
           "xaxis": {
            "backgroundcolor": "#E5ECF6",
            "gridcolor": "white",
            "gridwidth": 2,
            "linecolor": "white",
            "showbackground": true,
            "ticks": "",
            "zerolinecolor": "white"
           },
           "yaxis": {
            "backgroundcolor": "#E5ECF6",
            "gridcolor": "white",
            "gridwidth": 2,
            "linecolor": "white",
            "showbackground": true,
            "ticks": "",
            "zerolinecolor": "white"
           },
           "zaxis": {
            "backgroundcolor": "#E5ECF6",
            "gridcolor": "white",
            "gridwidth": 2,
            "linecolor": "white",
            "showbackground": true,
            "ticks": "",
            "zerolinecolor": "white"
           }
          },
          "shapedefaults": {
           "line": {
            "color": "#2a3f5f"
           }
          },
          "ternary": {
           "aaxis": {
            "gridcolor": "white",
            "linecolor": "white",
            "ticks": ""
           },
           "baxis": {
            "gridcolor": "white",
            "linecolor": "white",
            "ticks": ""
           },
           "bgcolor": "#E5ECF6",
           "caxis": {
            "gridcolor": "white",
            "linecolor": "white",
            "ticks": ""
           }
          },
          "title": {
           "x": 0.05
          },
          "xaxis": {
           "automargin": true,
           "gridcolor": "white",
           "linecolor": "white",
           "ticks": "",
           "title": {
            "standoff": 15
           },
           "zerolinecolor": "white",
           "zerolinewidth": 2
          },
          "yaxis": {
           "automargin": true,
           "gridcolor": "white",
           "linecolor": "white",
           "ticks": "",
           "title": {
            "standoff": 15
           },
           "zerolinecolor": "white",
           "zerolinewidth": 2
          }
         }
        }
       }
      }
     },
     "metadata": {}
    }
   ],
   "metadata": {}
  },
  {
   "cell_type": "markdown",
   "source": [
    "> **Nhận xét**:\n",
    "> * Ở đây sau khi kết  hợp lại thì có 13 model cho accuracy trên 85%.\n",
    "> * 6 model cho accuracy hơn 90%. - và các model này đều có **comment sentiment model** sử dụng LSTM.\n",
    "> * Một điều thú vị là ở những bước trước ta đánh giá **Emoji sentiment model** dùng RandomForest bị overfitting nhưng khi kết hợp với LSTM model thì nó cho ra accuracy cao nhất lên đến 93%. Rõ ràng một điều là ta không thể biết trước được điều gì hay khẳng định chắc chắn được điều này trên dữ liệu của chúng ta."
   ],
   "metadata": {}
  },
  {
   "cell_type": "markdown",
   "source": [
    "Bây giờ ta sẽ đi lấy 10 review ngẫu nhiên trên Shopee và cho các model dự đoán trên các review mới này. Năm review đầu tiên được lấy từ các review có 4 và 5 sao, 5 review cuối cùng được lấy từ các review có từ 3 sao trở xuống."
   ],
   "metadata": {}
  },
  {
   "cell_type": "code",
   "execution_count": 10,
   "source": [
    "new_reviews = pd.DataFrame()\n",
    "new_reviews['review'] = [\n",
    "    \"áo đẹp. bố mình rất ưng và rất thíc nhé. lên mua nhé các bạn mình.😝😝😝😝😝😝😝😝😝😝😝😝😝😝😝😝😝😝😝😝😝😝😝😝😝😝😝😝😝😝😝😝😝\",\n",
    "    \"Áo khá ấm, vải mềm, không có chỉ thừa, tuy nhiên khi giặt thì có hơi nhiều phấn vải\",\n",
    "    \"Áo nỉ khá dày, nhẹ tênh, giống hình, thời gian giao hàng nhanh!ok, còn đc tặng voucher xịn xò!!!!!!!\",\n",
    "    \"Chất ổn nhưng dây quần như bị ố nhìn khá xấu. Về tổng quan thì ổn 👍\",\n",
    "    \"Mỏng, chất dễ xù, ban đầu thấy chất khá cứng, nhưng form vẫn chấp nhận dc\",\n",
    "    \"Giao màu khác trong ảnh. Nhìn già kinh luôn. Các b cẩn thận khi mua. Màu nó là màu nâu sẫm chứ k giống trong ảnh chút nào :))) Cho bố e, bố e còn k thèm thì đủ hiểu nó già ntn :)))\",\n",
    "    \"Lười chẳng buồn chụp cái áo vì thất vọng toàn tập, áo màu chuẩn giống hình nhưng len nhão, rộng khủng khiếp, cổ trễ quá sâu, phần nách thì k hề ôm vào ng mà cứ bửa hết ra khả năng là may lỗi, sẽ k dám mua quần áo qua mạng nữa\",\n",
    "    \"Áo màu k giống ảnh phần viền là màu nâu đậm thêm nữa cổ áo rất rộng 🙂🙂\",\n",
    "    \"Áo khác trên ảnh nhiều lắm 🙂màu nhạt dã man xong cổ rộng tóm lại k đáng tiền\",\n",
    "    \"Áo rộng thùng thình bố mình mặc còn vừa nên mình cho bố  luôn rồi. Màu áo ship về cũng không được đẹp cho lắm.Nói chung là hơi thất vọng.\"\n",
    "]"
   ],
   "outputs": [],
   "metadata": {}
  },
  {
   "cell_type": "code",
   "execution_count": 11,
   "source": [
    "for model_name, model in shopee_sentiments.items():\n",
    "    new_reviews[model_name] = model.predict(new_reviews['review'])['class']\n",
    "    \n",
    "new_reviews.transpose()"
   ],
   "outputs": [
    {
     "output_type": "stream",
     "name": "stdout",
     "text": [
      "WARNING:tensorflow:Model was constructed with shape (None, 100) for input KerasTensor(type_spec=TensorSpec(shape=(None, 100), dtype=tf.float32, name='input'), name='input', description=\"created by layer 'input'\"), but it was called on an input with incompatible shape (None, 50).\n"
     ]
    },
    {
     "output_type": "execute_result",
     "data": {
      "text/html": [
       "<div>\n",
       "<style scoped>\n",
       "    .dataframe tbody tr th:only-of-type {\n",
       "        vertical-align: middle;\n",
       "    }\n",
       "\n",
       "    .dataframe tbody tr th {\n",
       "        vertical-align: top;\n",
       "    }\n",
       "\n",
       "    .dataframe thead th {\n",
       "        text-align: right;\n",
       "    }\n",
       "</style>\n",
       "<table border=\"1\" class=\"dataframe\">\n",
       "  <thead>\n",
       "    <tr style=\"text-align: right;\">\n",
       "      <th></th>\n",
       "      <th>0</th>\n",
       "      <th>1</th>\n",
       "      <th>2</th>\n",
       "      <th>3</th>\n",
       "      <th>4</th>\n",
       "      <th>5</th>\n",
       "      <th>6</th>\n",
       "      <th>7</th>\n",
       "      <th>8</th>\n",
       "      <th>9</th>\n",
       "    </tr>\n",
       "  </thead>\n",
       "  <tbody>\n",
       "    <tr>\n",
       "      <th>review</th>\n",
       "      <td>áo đẹp. bố mình rất ưng và rất thíc nhé. lên m...</td>\n",
       "      <td>Áo khá ấm, vải mềm, không có chỉ thừa, tuy nhi...</td>\n",
       "      <td>Áo nỉ khá dày, nhẹ tênh, giống hình, thời gian...</td>\n",
       "      <td>Chất ổn nhưng dây quần như bị ố nhìn khá xấu. ...</td>\n",
       "      <td>Mỏng, chất dễ xù, ban đầu thấy chất khá cứng, ...</td>\n",
       "      <td>Giao màu khác trong ảnh. Nhìn già kinh luôn. C...</td>\n",
       "      <td>Lười chẳng buồn chụp cái áo vì thất vọng toàn ...</td>\n",
       "      <td>Áo màu k giống ảnh phần viền là màu nâu đậm th...</td>\n",
       "      <td>Áo khác trên ảnh nhiều lắm 🙂màu nhạt dã man xo...</td>\n",
       "      <td>Áo rộng thùng thình bố mình mặc còn vừa nên mì...</td>\n",
       "    </tr>\n",
       "    <tr>\n",
       "      <th>logistic_bernoulli</th>\n",
       "      <td>1</td>\n",
       "      <td>0</td>\n",
       "      <td>1</td>\n",
       "      <td>0</td>\n",
       "      <td>0</td>\n",
       "      <td>0</td>\n",
       "      <td>0</td>\n",
       "      <td>0</td>\n",
       "      <td>0</td>\n",
       "      <td>0</td>\n",
       "    </tr>\n",
       "    <tr>\n",
       "      <th>logistic_logistic</th>\n",
       "      <td>1</td>\n",
       "      <td>0</td>\n",
       "      <td>1</td>\n",
       "      <td>1</td>\n",
       "      <td>0</td>\n",
       "      <td>0</td>\n",
       "      <td>0</td>\n",
       "      <td>0</td>\n",
       "      <td>0</td>\n",
       "      <td>0</td>\n",
       "    </tr>\n",
       "    <tr>\n",
       "      <th>logistic_svc</th>\n",
       "      <td>1</td>\n",
       "      <td>0</td>\n",
       "      <td>1</td>\n",
       "      <td>1</td>\n",
       "      <td>0</td>\n",
       "      <td>0</td>\n",
       "      <td>0</td>\n",
       "      <td>0</td>\n",
       "      <td>0</td>\n",
       "      <td>1</td>\n",
       "    </tr>\n",
       "    <tr>\n",
       "      <th>logistic_lstm_1</th>\n",
       "      <td>1</td>\n",
       "      <td>1</td>\n",
       "      <td>1</td>\n",
       "      <td>1</td>\n",
       "      <td>1</td>\n",
       "      <td>0</td>\n",
       "      <td>0</td>\n",
       "      <td>0</td>\n",
       "      <td>0</td>\n",
       "      <td>0</td>\n",
       "    </tr>\n",
       "    <tr>\n",
       "      <th>logistic_lstm_uw_2</th>\n",
       "      <td>1</td>\n",
       "      <td>0</td>\n",
       "      <td>1</td>\n",
       "      <td>1</td>\n",
       "      <td>0</td>\n",
       "      <td>0</td>\n",
       "      <td>0</td>\n",
       "      <td>0</td>\n",
       "      <td>0</td>\n",
       "      <td>0</td>\n",
       "    </tr>\n",
       "    <tr>\n",
       "      <th>svc_bernoulli</th>\n",
       "      <td>1</td>\n",
       "      <td>0</td>\n",
       "      <td>1</td>\n",
       "      <td>0</td>\n",
       "      <td>0</td>\n",
       "      <td>0</td>\n",
       "      <td>0</td>\n",
       "      <td>0</td>\n",
       "      <td>0</td>\n",
       "      <td>0</td>\n",
       "    </tr>\n",
       "    <tr>\n",
       "      <th>svc_logistic</th>\n",
       "      <td>1</td>\n",
       "      <td>0</td>\n",
       "      <td>1</td>\n",
       "      <td>1</td>\n",
       "      <td>0</td>\n",
       "      <td>0</td>\n",
       "      <td>0</td>\n",
       "      <td>0</td>\n",
       "      <td>0</td>\n",
       "      <td>0</td>\n",
       "    </tr>\n",
       "    <tr>\n",
       "      <th>svc_svc</th>\n",
       "      <td>1</td>\n",
       "      <td>0</td>\n",
       "      <td>1</td>\n",
       "      <td>1</td>\n",
       "      <td>0</td>\n",
       "      <td>0</td>\n",
       "      <td>0</td>\n",
       "      <td>0</td>\n",
       "      <td>0</td>\n",
       "      <td>1</td>\n",
       "    </tr>\n",
       "    <tr>\n",
       "      <th>svc_lstm_1</th>\n",
       "      <td>1</td>\n",
       "      <td>1</td>\n",
       "      <td>1</td>\n",
       "      <td>1</td>\n",
       "      <td>1</td>\n",
       "      <td>0</td>\n",
       "      <td>0</td>\n",
       "      <td>0</td>\n",
       "      <td>0</td>\n",
       "      <td>0</td>\n",
       "    </tr>\n",
       "    <tr>\n",
       "      <th>svc_lstm_uw_2</th>\n",
       "      <td>1</td>\n",
       "      <td>0</td>\n",
       "      <td>1</td>\n",
       "      <td>1</td>\n",
       "      <td>0</td>\n",
       "      <td>0</td>\n",
       "      <td>0</td>\n",
       "      <td>0</td>\n",
       "      <td>0</td>\n",
       "      <td>0</td>\n",
       "    </tr>\n",
       "    <tr>\n",
       "      <th>rdforest_bernoulli</th>\n",
       "      <td>1</td>\n",
       "      <td>0</td>\n",
       "      <td>1</td>\n",
       "      <td>0</td>\n",
       "      <td>0</td>\n",
       "      <td>0</td>\n",
       "      <td>0</td>\n",
       "      <td>0</td>\n",
       "      <td>0</td>\n",
       "      <td>0</td>\n",
       "    </tr>\n",
       "    <tr>\n",
       "      <th>rdforest_logistic</th>\n",
       "      <td>1</td>\n",
       "      <td>0</td>\n",
       "      <td>1</td>\n",
       "      <td>1</td>\n",
       "      <td>0</td>\n",
       "      <td>0</td>\n",
       "      <td>0</td>\n",
       "      <td>0</td>\n",
       "      <td>0</td>\n",
       "      <td>0</td>\n",
       "    </tr>\n",
       "    <tr>\n",
       "      <th>rdforest_svc</th>\n",
       "      <td>1</td>\n",
       "      <td>0</td>\n",
       "      <td>1</td>\n",
       "      <td>1</td>\n",
       "      <td>0</td>\n",
       "      <td>0</td>\n",
       "      <td>0</td>\n",
       "      <td>0</td>\n",
       "      <td>0</td>\n",
       "      <td>1</td>\n",
       "    </tr>\n",
       "    <tr>\n",
       "      <th>rdforest_lstm_1</th>\n",
       "      <td>1</td>\n",
       "      <td>1</td>\n",
       "      <td>1</td>\n",
       "      <td>1</td>\n",
       "      <td>1</td>\n",
       "      <td>0</td>\n",
       "      <td>0</td>\n",
       "      <td>0</td>\n",
       "      <td>0</td>\n",
       "      <td>0</td>\n",
       "    </tr>\n",
       "    <tr>\n",
       "      <th>rdforest_lstm_uw_2</th>\n",
       "      <td>1</td>\n",
       "      <td>0</td>\n",
       "      <td>1</td>\n",
       "      <td>1</td>\n",
       "      <td>0</td>\n",
       "      <td>0</td>\n",
       "      <td>0</td>\n",
       "      <td>0</td>\n",
       "      <td>0</td>\n",
       "      <td>0</td>\n",
       "    </tr>\n",
       "  </tbody>\n",
       "</table>\n",
       "</div>"
      ],
      "text/plain": [
       "                                                                    0  \\\n",
       "review              áo đẹp. bố mình rất ưng và rất thíc nhé. lên m...   \n",
       "logistic_bernoulli                                                  1   \n",
       "logistic_logistic                                                   1   \n",
       "logistic_svc                                                        1   \n",
       "logistic_lstm_1                                                     1   \n",
       "logistic_lstm_uw_2                                                  1   \n",
       "svc_bernoulli                                                       1   \n",
       "svc_logistic                                                        1   \n",
       "svc_svc                                                             1   \n",
       "svc_lstm_1                                                          1   \n",
       "svc_lstm_uw_2                                                       1   \n",
       "rdforest_bernoulli                                                  1   \n",
       "rdforest_logistic                                                   1   \n",
       "rdforest_svc                                                        1   \n",
       "rdforest_lstm_1                                                     1   \n",
       "rdforest_lstm_uw_2                                                  1   \n",
       "\n",
       "                                                                    1  \\\n",
       "review              Áo khá ấm, vải mềm, không có chỉ thừa, tuy nhi...   \n",
       "logistic_bernoulli                                                  0   \n",
       "logistic_logistic                                                   0   \n",
       "logistic_svc                                                        0   \n",
       "logistic_lstm_1                                                     1   \n",
       "logistic_lstm_uw_2                                                  0   \n",
       "svc_bernoulli                                                       0   \n",
       "svc_logistic                                                        0   \n",
       "svc_svc                                                             0   \n",
       "svc_lstm_1                                                          1   \n",
       "svc_lstm_uw_2                                                       0   \n",
       "rdforest_bernoulli                                                  0   \n",
       "rdforest_logistic                                                   0   \n",
       "rdforest_svc                                                        0   \n",
       "rdforest_lstm_1                                                     1   \n",
       "rdforest_lstm_uw_2                                                  0   \n",
       "\n",
       "                                                                    2  \\\n",
       "review              Áo nỉ khá dày, nhẹ tênh, giống hình, thời gian...   \n",
       "logistic_bernoulli                                                  1   \n",
       "logistic_logistic                                                   1   \n",
       "logistic_svc                                                        1   \n",
       "logistic_lstm_1                                                     1   \n",
       "logistic_lstm_uw_2                                                  1   \n",
       "svc_bernoulli                                                       1   \n",
       "svc_logistic                                                        1   \n",
       "svc_svc                                                             1   \n",
       "svc_lstm_1                                                          1   \n",
       "svc_lstm_uw_2                                                       1   \n",
       "rdforest_bernoulli                                                  1   \n",
       "rdforest_logistic                                                   1   \n",
       "rdforest_svc                                                        1   \n",
       "rdforest_lstm_1                                                     1   \n",
       "rdforest_lstm_uw_2                                                  1   \n",
       "\n",
       "                                                                    3  \\\n",
       "review              Chất ổn nhưng dây quần như bị ố nhìn khá xấu. ...   \n",
       "logistic_bernoulli                                                  0   \n",
       "logistic_logistic                                                   1   \n",
       "logistic_svc                                                        1   \n",
       "logistic_lstm_1                                                     1   \n",
       "logistic_lstm_uw_2                                                  1   \n",
       "svc_bernoulli                                                       0   \n",
       "svc_logistic                                                        1   \n",
       "svc_svc                                                             1   \n",
       "svc_lstm_1                                                          1   \n",
       "svc_lstm_uw_2                                                       1   \n",
       "rdforest_bernoulli                                                  0   \n",
       "rdforest_logistic                                                   1   \n",
       "rdforest_svc                                                        1   \n",
       "rdforest_lstm_1                                                     1   \n",
       "rdforest_lstm_uw_2                                                  1   \n",
       "\n",
       "                                                                    4  \\\n",
       "review              Mỏng, chất dễ xù, ban đầu thấy chất khá cứng, ...   \n",
       "logistic_bernoulli                                                  0   \n",
       "logistic_logistic                                                   0   \n",
       "logistic_svc                                                        0   \n",
       "logistic_lstm_1                                                     1   \n",
       "logistic_lstm_uw_2                                                  0   \n",
       "svc_bernoulli                                                       0   \n",
       "svc_logistic                                                        0   \n",
       "svc_svc                                                             0   \n",
       "svc_lstm_1                                                          1   \n",
       "svc_lstm_uw_2                                                       0   \n",
       "rdforest_bernoulli                                                  0   \n",
       "rdforest_logistic                                                   0   \n",
       "rdforest_svc                                                        0   \n",
       "rdforest_lstm_1                                                     1   \n",
       "rdforest_lstm_uw_2                                                  0   \n",
       "\n",
       "                                                                    5  \\\n",
       "review              Giao màu khác trong ảnh. Nhìn già kinh luôn. C...   \n",
       "logistic_bernoulli                                                  0   \n",
       "logistic_logistic                                                   0   \n",
       "logistic_svc                                                        0   \n",
       "logistic_lstm_1                                                     0   \n",
       "logistic_lstm_uw_2                                                  0   \n",
       "svc_bernoulli                                                       0   \n",
       "svc_logistic                                                        0   \n",
       "svc_svc                                                             0   \n",
       "svc_lstm_1                                                          0   \n",
       "svc_lstm_uw_2                                                       0   \n",
       "rdforest_bernoulli                                                  0   \n",
       "rdforest_logistic                                                   0   \n",
       "rdforest_svc                                                        0   \n",
       "rdforest_lstm_1                                                     0   \n",
       "rdforest_lstm_uw_2                                                  0   \n",
       "\n",
       "                                                                    6  \\\n",
       "review              Lười chẳng buồn chụp cái áo vì thất vọng toàn ...   \n",
       "logistic_bernoulli                                                  0   \n",
       "logistic_logistic                                                   0   \n",
       "logistic_svc                                                        0   \n",
       "logistic_lstm_1                                                     0   \n",
       "logistic_lstm_uw_2                                                  0   \n",
       "svc_bernoulli                                                       0   \n",
       "svc_logistic                                                        0   \n",
       "svc_svc                                                             0   \n",
       "svc_lstm_1                                                          0   \n",
       "svc_lstm_uw_2                                                       0   \n",
       "rdforest_bernoulli                                                  0   \n",
       "rdforest_logistic                                                   0   \n",
       "rdforest_svc                                                        0   \n",
       "rdforest_lstm_1                                                     0   \n",
       "rdforest_lstm_uw_2                                                  0   \n",
       "\n",
       "                                                                    7  \\\n",
       "review              Áo màu k giống ảnh phần viền là màu nâu đậm th...   \n",
       "logistic_bernoulli                                                  0   \n",
       "logistic_logistic                                                   0   \n",
       "logistic_svc                                                        0   \n",
       "logistic_lstm_1                                                     0   \n",
       "logistic_lstm_uw_2                                                  0   \n",
       "svc_bernoulli                                                       0   \n",
       "svc_logistic                                                        0   \n",
       "svc_svc                                                             0   \n",
       "svc_lstm_1                                                          0   \n",
       "svc_lstm_uw_2                                                       0   \n",
       "rdforest_bernoulli                                                  0   \n",
       "rdforest_logistic                                                   0   \n",
       "rdforest_svc                                                        0   \n",
       "rdforest_lstm_1                                                     0   \n",
       "rdforest_lstm_uw_2                                                  0   \n",
       "\n",
       "                                                                    8  \\\n",
       "review              Áo khác trên ảnh nhiều lắm 🙂màu nhạt dã man xo...   \n",
       "logistic_bernoulli                                                  0   \n",
       "logistic_logistic                                                   0   \n",
       "logistic_svc                                                        0   \n",
       "logistic_lstm_1                                                     0   \n",
       "logistic_lstm_uw_2                                                  0   \n",
       "svc_bernoulli                                                       0   \n",
       "svc_logistic                                                        0   \n",
       "svc_svc                                                             0   \n",
       "svc_lstm_1                                                          0   \n",
       "svc_lstm_uw_2                                                       0   \n",
       "rdforest_bernoulli                                                  0   \n",
       "rdforest_logistic                                                   0   \n",
       "rdforest_svc                                                        0   \n",
       "rdforest_lstm_1                                                     0   \n",
       "rdforest_lstm_uw_2                                                  0   \n",
       "\n",
       "                                                                    9  \n",
       "review              Áo rộng thùng thình bố mình mặc còn vừa nên mì...  \n",
       "logistic_bernoulli                                                  0  \n",
       "logistic_logistic                                                   0  \n",
       "logistic_svc                                                        1  \n",
       "logistic_lstm_1                                                     0  \n",
       "logistic_lstm_uw_2                                                  0  \n",
       "svc_bernoulli                                                       0  \n",
       "svc_logistic                                                        0  \n",
       "svc_svc                                                             1  \n",
       "svc_lstm_1                                                          0  \n",
       "svc_lstm_uw_2                                                       0  \n",
       "rdforest_bernoulli                                                  0  \n",
       "rdforest_logistic                                                   0  \n",
       "rdforest_svc                                                        1  \n",
       "rdforest_lstm_1                                                     0  \n",
       "rdforest_lstm_uw_2                                                  0  "
      ]
     },
     "metadata": {},
     "execution_count": 11
    }
   ],
   "metadata": {}
  },
  {
   "cell_type": "markdown",
   "source": [
    "> **Nhận xét**:\n",
    "> * Có thể thấy toàn bộ các model có **Comment sentiment model** sử dụng `lstm_1` đều cho ra kết quả chính xác. Các model sử dụng các tradional classifier ở **Comment sentiment model** dự đoán còn sai nhiều ở các comment positive nhưng lại nhầm sang negative.\n",
    "> * Từ đây, có thể cho ra kết quả như sau, đối vối Shopee review dataset của chúng ta, nếu xét riêng về phần comment thì các model Deep Learning hoạt động tốt hơn hẳn, điều này có lẽ vì do việc cấu trúc của comment ảnh hưởng lớn đến kết quả phân lớp.\n",
    "> * Trong 15 model, các model có phần **comment sentiment model** sử dụng `lstm_1` cho ra kết quả tốt, ta có thể giữ lại và cải thiện hoặc phát triển về sau."
   ],
   "metadata": {}
  },
  {
   "cell_type": "markdown",
   "source": [
    "# Tài liệu tham khảo:\n",
    "* [Hands-On Deep Learning Algorithms with Python](https://www.packtpub.com/product/hands-on-deep-learning-algorithms-with-python/9781789344158)\n",
    "* [Keras Deep Learning Cookbook](https://www.amazon.com/Keras-Deep-Learning-Cookbook-implementing/dp/1788621751)\n",
    "* [Applied Text Analysis with Python](https://www.oreilly.com/library/view/applied-text-analysis/9781491963036/)\n",
    "* [Deep Learning Quick Reference](https://www.packtpub.com/product/deep-learning-quick-reference/9781788837996)\n",
    "* [Advanced Natural Language Processing with TensorFlow 2](https://www.amazon.com/Advanced-Natural-Language-Processing-TensorFlow/dp/1800200935)\n",
    "* [Natural Language Processing with TensorFlow](https://www.packtpub.com/product/natural-language-processing-with-tensorflow/9781788478311)\n",
    "* Và một số tài liệu, bài viết trên các trang GeekForGeeks, Medium, TowardsDataScience, TensorFlow,..."
   ],
   "metadata": {}
  }
 ],
 "metadata": {
  "orig_nbformat": 4,
  "language_info": {
   "name": "python",
   "version": "3.8.10",
   "mimetype": "text/x-python",
   "codemirror_mode": {
    "name": "ipython",
    "version": 3
   },
   "pygments_lexer": "ipython3",
   "nbconvert_exporter": "python",
   "file_extension": ".py"
  },
  "kernelspec": {
   "name": "python3",
   "display_name": "Python 3.8.10 64-bit"
  },
  "interpreter": {
   "hash": "916dbcbb3f70747c44a77c7bcd40155683ae19c65e1c03b4aa3499c5328201f1"
  }
 },
 "nbformat": 4,
 "nbformat_minor": 2
}